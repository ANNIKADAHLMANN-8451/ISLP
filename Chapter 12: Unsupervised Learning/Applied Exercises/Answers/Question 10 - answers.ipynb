{
 "cells": [
  {
   "cell_type": "markdown",
   "metadata": {
    "application/vnd.databricks.v1+cell": {
     "cellMetadata": {
      "byteLimit": 2048000,
      "rowLimit": 10000
     },
     "inputWidgets": {},
     "nuid": "4ce37e96-83aa-437e-b1e7-2bb7c50caecd",
     "showTitle": false,
     "title": ""
    }
   },
   "source": [
    "In this problem, you will generate simulated data, and then perform\n",
    "PCA and K-means clustering on the data."
   ]
  },
  {
   "cell_type": "markdown",
   "metadata": {
    "application/vnd.databricks.v1+cell": {
     "cellMetadata": {
      "byteLimit": 2048000,
      "rowLimit": 10000
     },
     "inputWidgets": {},
     "nuid": "ca287a02-67bb-4e3b-bc99-3a2ab6fbef85",
     "showTitle": false,
     "title": ""
    }
   },
   "source": [
    "## Preprocessing"
   ]
  },
  {
   "cell_type": "code",
   "execution_count": 0,
   "metadata": {
    "application/vnd.databricks.v1+cell": {
     "cellMetadata": {
      "byteLimit": 2048000,
      "rowLimit": 10000
     },
     "inputWidgets": {},
     "nuid": "b548a4ef-b98f-4361-9d60-43ed959cc665",
     "showTitle": false,
     "title": ""
    }
   },
   "outputs": [],
   "source": [
    "import numpy as np\n",
    "import pandas as pd"
   ]
  },
  {
   "cell_type": "code",
   "execution_count": 0,
   "metadata": {
    "application/vnd.databricks.v1+cell": {
     "cellMetadata": {
      "byteLimit": 2048000,
      "rowLimit": 10000
     },
     "inputWidgets": {},
     "nuid": "3847283c-463d-4a2a-835a-13efc45ce9ba",
     "showTitle": false,
     "title": ""
    }
   },
   "outputs": [],
   "source": [
    "import matplotlib.pyplot as plt\n",
    "import seaborn as sns\n",
    "%matplotlib inline"
   ]
  },
  {
   "cell_type": "markdown",
   "metadata": {
    "application/vnd.databricks.v1+cell": {
     "cellMetadata": {
      "byteLimit": 2048000,
      "rowLimit": 10000
     },
     "inputWidgets": {},
     "nuid": "8148f203-eca7-4e78-9a1f-2c80bd65a0a9",
     "showTitle": false,
     "title": ""
    }
   },
   "source": [
    "**a. Generate a simulated data set with 20 observations in each of\n",
    "three classes (i.e. 60 observations total), and 50 variables.**\n",
    "<br>\n",
    "<br>\n",
    "*Hint: There are a number of functions in Python that you can\n",
    "use to generate data. One example is the `normal()` method of\n",
    "the `random()` function in numpy; the `uniform()` method is another\n",
    "option. Be sure to add a mean shift to the observations in each\n",
    "class so that there are three distinct classes.*"
   ]
  },
  {
   "cell_type": "code",
   "execution_count": 0,
   "metadata": {
    "application/vnd.databricks.v1+cell": {
     "cellMetadata": {
      "byteLimit": 2048000,
      "rowLimit": 10000
     },
     "inputWidgets": {},
     "nuid": "63cb45c8-8d70-4a0d-a371-5e9663ce0879",
     "showTitle": false,
     "title": ""
    }
   },
   "outputs": [],
   "source": [
    "X = pd.DataFrame()\n",
    "const = np.random.randint(low=100, size=1)\n",
    "\n",
    "for num in range(0, 20):\n",
    "    Z = np.random.normal(loc=0.0, scale=0.1, size=50)\n",
    "    X = X.append(pd.DataFrame([Z]))\n",
    "for num in range(0, 20):\n",
    "    Z = np.random.normal(loc=1.0, scale=0.1, size=50)\n",
    "    X = X.append(pd.DataFrame([Z]))\n",
    "for num in range(0, 20):\n",
    "    Z = np.random.normal(loc=2.0, scale=0.1, size=50)\n",
    "    X = X.append(pd.DataFrame([Z]))\n",
    "\n",
    "df = X\n",
    "cols = np.linspace(0,49, num=50).astype(int)\n",
    "df.columns = cols\n",
    "\n",
    "df.head()"
   ]
  },
  {
   "cell_type": "code",
   "execution_count": 0,
   "metadata": {
    "application/vnd.databricks.v1+cell": {
     "cellMetadata": {
      "byteLimit": 2048000,
      "rowLimit": 10000
     },
     "inputWidgets": {},
     "nuid": "b4fc7b73-2001-49df-b448-7c92f524295c",
     "showTitle": false,
     "title": ""
    }
   },
   "outputs": [],
   "source": [
    "# define class labels\n",
    "y = pd.DataFrame(index=np.arange(60), columns=np.arange(1))\n",
    "y.iloc[0:20] = 1\n",
    "y.iloc[20:40] = 2\n",
    "y.iloc[40:60] = 3"
   ]
  },
  {
   "cell_type": "markdown",
   "metadata": {
    "application/vnd.databricks.v1+cell": {
     "cellMetadata": {
      "byteLimit": 2048000,
      "rowLimit": 10000
     },
     "inputWidgets": {},
     "nuid": "fbae0c1b-6106-4ffc-a1af-5c925ee2f992",
     "showTitle": false,
     "title": ""
    }
   },
   "source": [
    "**b. Perform PCA on the 60 observations and plot the first two principal component score vectors. Use a diferent color to indicate\n",
    "the observations in each of the three classes. If the three classes\n",
    "appear separated in this plot, then continue on to part (c). If\n",
    "not, then return to part (a) and modify the simulation so that\n",
    "there is greater separation between the three classes. Do not\n",
    "continue to part (c) until the three classes show at least some\n",
    "separation in the frst two principal component score vectors**"
   ]
  },
  {
   "cell_type": "code",
   "execution_count": 0,
   "metadata": {
    "application/vnd.databricks.v1+cell": {
     "cellMetadata": {
      "byteLimit": 2048000,
      "rowLimit": 10000
     },
     "inputWidgets": {},
     "nuid": "016b1ec2-c1d2-4d6a-97d9-acdac122a470",
     "showTitle": false,
     "title": ""
    }
   },
   "outputs": [],
   "source": [
    "import warnings\n",
    "warnings.filterwarnings('ignore')\n",
    "\n",
    "from sklearn.preprocessing import scale\n",
    "from sklearn.decomposition import PCA"
   ]
  },
  {
   "cell_type": "code",
   "execution_count": 0,
   "metadata": {
    "application/vnd.databricks.v1+cell": {
     "cellMetadata": {
      "byteLimit": 2048000,
      "rowLimit": 10000
     },
     "inputWidgets": {},
     "nuid": "6f1de0b0-b245-4b56-8340-0fdd6108bff0",
     "showTitle": false,
     "title": ""
    }
   },
   "outputs": [],
   "source": [
    "pca = PCA(n_components=50)\n",
    "pca_data = pca.fit_transform(df)\n",
    "principaldf = pd.DataFrame(data = pca_data)\n",
    "principaldf.head()"
   ]
  },
  {
   "cell_type": "code",
   "execution_count": 0,
   "metadata": {
    "application/vnd.databricks.v1+cell": {
     "cellMetadata": {
      "byteLimit": 2048000,
      "rowLimit": 10000
     },
     "inputWidgets": {},
     "nuid": "1db517ec-85da-4326-9253-187c064edb86",
     "showTitle": false,
     "title": ""
    }
   },
   "outputs": [],
   "source": [
    "loadings = pca.components_.T\n",
    "loadings_df = pd.DataFrame(loadings, index=df.columns, columns=principaldf.columns)\n",
    "loadings_df.head()"
   ]
  },
  {
   "cell_type": "code",
   "execution_count": 0,
   "metadata": {
    "application/vnd.databricks.v1+cell": {
     "cellMetadata": {
      "byteLimit": 2048000,
      "rowLimit": 10000
     },
     "inputWidgets": {},
     "nuid": "506c9e2b-2049-44df-a3f8-44382a6fcec8",
     "showTitle": false,
     "title": ""
    }
   },
   "outputs": [],
   "source": [
    "plt.xkcd()\n",
    "plt.figure(figsize=(25, 10))\n",
    "colors = ['red' if yy == 1 else 'green' if yy == 2 else 'blue' for yy in y[0]] # 'red', 'green', 'blue'\n",
    "plt.scatter(principaldf[0], principaldf[1], s=500, color=colors)\n",
    "\n",
    "# plt.scatter(principaldf[0], principaldf[1], s=500)\n",
    "plt.title('principal components', fontsize=30, color='m')\n",
    "plt.xlabel('principal component 1', fontsize=20, color='c')\n",
    "plt.ylabel('principal component 2', fontsize=20, color='c')\n",
    "for length, vector in zip(pca.explained_variance_, pca.components_):\n",
    "    v = vector * 5e-17* np.sqrt(length)\n",
    "    arrow = plt.arrow(0, 0, pca.mean_[0] + v[0], pca.mean_[1] + v[1], label='mylabel', width=0.005, facecolor='orange', edgecolor='orange', alpha=0.5, )"
   ]
  },
  {
   "cell_type": "markdown",
   "metadata": {
    "application/vnd.databricks.v1+cell": {
     "cellMetadata": {
      "byteLimit": 2048000,
      "rowLimit": 10000
     },
     "inputWidgets": {},
     "nuid": "edbab52a-1572-4b87-88db-db8390e88c43",
     "showTitle": false,
     "title": ""
    }
   },
   "source": [
    "**c. Perform K-means clustering of the observations with K = 3.\n",
    "How well do the clusters that you obtained in K-means clustering compare to the true class labels?**\n",
    "<br>\n",
    "<br>\n",
    "*Hint: You can use the `pd.crosstab()` function in Python to compare the true class labels to the class labels obtained by clustering. Be careful how you interpret the results: K-means clustering\n",
    "will arbitrarily number the clusters, so you cannot simply check\n",
    "whether the true class labels and clustering labels are the same.*"
   ]
  },
  {
   "cell_type": "code",
   "execution_count": 0,
   "metadata": {
    "application/vnd.databricks.v1+cell": {
     "cellMetadata": {
      "byteLimit": 2048000,
      "rowLimit": 10000
     },
     "inputWidgets": {},
     "nuid": "1f814fd8-1b42-49ce-afed-d19bcb51d2c2",
     "showTitle": false,
     "title": ""
    }
   },
   "outputs": [],
   "source": [
    "from sklearn.cluster import KMeans as KM\n",
    "from sklearn.metrics import confusion_matrix, classification_report"
   ]
  },
  {
   "cell_type": "code",
   "execution_count": 0,
   "metadata": {
    "application/vnd.databricks.v1+cell": {
     "cellMetadata": {
      "byteLimit": 2048000,
      "rowLimit": 10000
     },
     "inputWidgets": {},
     "nuid": "6ac52f28-184d-48f7-8ce8-3afec425f2b6",
     "showTitle": false,
     "title": ""
    }
   },
   "outputs": [],
   "source": [
    "km_out = KM(n_clusters=3, n_init=20).fit(df)\n",
    "km_pred = km_out.predict(df)"
   ]
  },
  {
   "cell_type": "code",
   "execution_count": 0,
   "metadata": {
    "application/vnd.databricks.v1+cell": {
     "cellMetadata": {
      "byteLimit": 2048000,
      "rowLimit": 10000
     },
     "inputWidgets": {},
     "nuid": "42b20ab3-be06-4a20-a114-8b266b3d9a11",
     "showTitle": false,
     "title": ""
    }
   },
   "outputs": [],
   "source": [
    "km_labels = pd.DataFrame(km_out.labels_)\n",
    "km_labels[0].value_counts()"
   ]
  },
  {
   "cell_type": "markdown",
   "metadata": {
    "application/vnd.databricks.v1+cell": {
     "cellMetadata": {
      "byteLimit": 2048000,
      "rowLimit": 10000
     },
     "inputWidgets": {},
     "nuid": "99cdbc8a-0b96-465e-a11c-9df58deef3c1",
     "showTitle": false,
     "title": ""
    }
   },
   "source": [
    "Perfect match!!!"
   ]
  },
  {
   "cell_type": "markdown",
   "metadata": {
    "application/vnd.databricks.v1+cell": {
     "cellMetadata": {
      "byteLimit": 2048000,
      "rowLimit": 10000
     },
     "inputWidgets": {},
     "nuid": "5dbebf43-8725-43b6-bdaa-415cc04faaf2",
     "showTitle": false,
     "title": ""
    }
   },
   "source": [
    "**d. Perform K-means clustering with K = 2. Describe your results**"
   ]
  },
  {
   "cell_type": "code",
   "execution_count": 0,
   "metadata": {
    "application/vnd.databricks.v1+cell": {
     "cellMetadata": {
      "byteLimit": 2048000,
      "rowLimit": 10000
     },
     "inputWidgets": {},
     "nuid": "8ffb5a55-8373-4f24-af15-1cde6c37bf5a",
     "showTitle": false,
     "title": ""
    }
   },
   "outputs": [],
   "source": [
    "from sklearn.cluster import KMeans as KM\n",
    "from sklearn.metrics import confusion_matrix, classification_report"
   ]
  },
  {
   "cell_type": "code",
   "execution_count": 0,
   "metadata": {
    "application/vnd.databricks.v1+cell": {
     "cellMetadata": {
      "byteLimit": 2048000,
      "rowLimit": 10000
     },
     "inputWidgets": {},
     "nuid": "0442c905-69ab-45b8-8867-388cd31dee3d",
     "showTitle": false,
     "title": ""
    }
   },
   "outputs": [],
   "source": [
    "km_out = KM(n_clusters=2, n_init=20).fit(df)\n",
    "km_pred = km_out.predict(df)"
   ]
  },
  {
   "cell_type": "code",
   "execution_count": 0,
   "metadata": {
    "application/vnd.databricks.v1+cell": {
     "cellMetadata": {
      "byteLimit": 2048000,
      "rowLimit": 10000
     },
     "inputWidgets": {},
     "nuid": "c1b86720-32da-44c4-a8d7-dc2e07c56545",
     "showTitle": false,
     "title": ""
    }
   },
   "outputs": [],
   "source": [
    "km_labels = pd.DataFrame(km_out.labels_)\n",
    "km_labels[0].value_counts()"
   ]
  },
  {
   "cell_type": "markdown",
   "metadata": {
    "application/vnd.databricks.v1+cell": {
     "cellMetadata": {
      "byteLimit": 2048000,
      "rowLimit": 10000
     },
     "inputWidgets": {},
     "nuid": "ceb22c1a-c141-45fb-ab96-09d1b75edad2",
     "showTitle": false,
     "title": ""
    }
   },
   "source": [
    "All of values in `class=2` gets transferred into `class=0`."
   ]
  },
  {
   "cell_type": "markdown",
   "metadata": {
    "application/vnd.databricks.v1+cell": {
     "cellMetadata": {
      "byteLimit": 2048000,
      "rowLimit": 10000
     },
     "inputWidgets": {},
     "nuid": "ecad3636-b17d-4f62-b027-6ef6561988cf",
     "showTitle": false,
     "title": ""
    }
   },
   "source": [
    "**e. Now perform K-means clustering with K = 4, and describe your\n",
    "results.**"
   ]
  },
  {
   "cell_type": "code",
   "execution_count": 0,
   "metadata": {
    "application/vnd.databricks.v1+cell": {
     "cellMetadata": {
      "byteLimit": 2048000,
      "rowLimit": 10000
     },
     "inputWidgets": {},
     "nuid": "a5746a8b-ce05-49f7-b998-c369d730e200",
     "showTitle": false,
     "title": ""
    }
   },
   "outputs": [],
   "source": [
    "from sklearn.cluster import KMeans as KM\n",
    "from sklearn.metrics import confusion_matrix, classification_report"
   ]
  },
  {
   "cell_type": "code",
   "execution_count": 0,
   "metadata": {
    "application/vnd.databricks.v1+cell": {
     "cellMetadata": {
      "byteLimit": 2048000,
      "rowLimit": 10000
     },
     "inputWidgets": {},
     "nuid": "da25e794-7422-427a-a9d3-446c63fdccb5",
     "showTitle": false,
     "title": ""
    }
   },
   "outputs": [],
   "source": [
    "km_out = KM(n_clusters=4, n_init=20).fit(df)\n",
    "km_pred = km_out.predict(df)"
   ]
  },
  {
   "cell_type": "code",
   "execution_count": 0,
   "metadata": {
    "application/vnd.databricks.v1+cell": {
     "cellMetadata": {
      "byteLimit": 2048000,
      "rowLimit": 10000
     },
     "inputWidgets": {},
     "nuid": "c3b03952-988b-4f24-bc58-9dc053ed4f5e",
     "showTitle": false,
     "title": ""
    }
   },
   "outputs": [],
   "source": [
    "km_labels = pd.DataFrame(km_out.labels_)\n",
    "km_labels[0].value_counts()"
   ]
  },
  {
   "cell_type": "markdown",
   "metadata": {
    "application/vnd.databricks.v1+cell": {
     "cellMetadata": {
      "byteLimit": 2048000,
      "rowLimit": 10000
     },
     "inputWidgets": {},
     "nuid": "221078b6-970a-431e-b8b1-47c981b52683",
     "showTitle": false,
     "title": ""
    }
   },
   "source": [
    "A new `class=3` is created and the values in `class=2` is distributed between these two classes."
   ]
  },
  {
   "cell_type": "markdown",
   "metadata": {
    "application/vnd.databricks.v1+cell": {
     "cellMetadata": {
      "byteLimit": 2048000,
      "rowLimit": 10000
     },
     "inputWidgets": {},
     "nuid": "ec310e6d-cdbb-476c-be94-22ab2ee897b8",
     "showTitle": false,
     "title": ""
    }
   },
   "source": [
    "**f.  Now perform K-means clustering with K = 3 on the frst two\n",
    "principal component score vectors, rather than on the raw data.\n",
    "That is, perform K-means clustering on the 60 × 2 matrix of\n",
    "which the frst column is the frst principal component score\n",
    "vector, and the second column is the second principal component\n",
    "score vector. Comment on the results.**"
   ]
  },
  {
   "cell_type": "code",
   "execution_count": 0,
   "metadata": {
    "application/vnd.databricks.v1+cell": {
     "cellMetadata": {
      "byteLimit": 2048000,
      "rowLimit": 10000
     },
     "inputWidgets": {},
     "nuid": "12fcdac3-3149-472e-a014-6e0f4422c109",
     "showTitle": false,
     "title": ""
    }
   },
   "outputs": [],
   "source": [
    "pr_df = principaldf[[0,1]]\n",
    "pr_df.head()"
   ]
  },
  {
   "cell_type": "code",
   "execution_count": 0,
   "metadata": {
    "application/vnd.databricks.v1+cell": {
     "cellMetadata": {
      "byteLimit": 2048000,
      "rowLimit": 10000
     },
     "inputWidgets": {},
     "nuid": "1d7575e3-902f-4e5e-bfa8-f9986248b0a9",
     "showTitle": false,
     "title": ""
    }
   },
   "outputs": [],
   "source": [
    "km_out = KM(n_clusters=3, n_init=20).fit(pr_df)\n",
    "km_pred = km_out.predict(pr_df)"
   ]
  },
  {
   "cell_type": "code",
   "execution_count": 0,
   "metadata": {
    "application/vnd.databricks.v1+cell": {
     "cellMetadata": {
      "byteLimit": 2048000,
      "rowLimit": 10000
     },
     "inputWidgets": {},
     "nuid": "1bbbe27b-346a-4916-88be-ee6ddef0b8e2",
     "showTitle": false,
     "title": ""
    }
   },
   "outputs": [],
   "source": [
    "km_labels = pd.DataFrame(km_out.labels_)\n",
    "km_labels[0].value_counts()"
   ]
  },
  {
   "cell_type": "markdown",
   "metadata": {
    "application/vnd.databricks.v1+cell": {
     "cellMetadata": {
      "byteLimit": 2048000,
      "rowLimit": 10000
     },
     "inputWidgets": {},
     "nuid": "3431a05c-3878-41b3-ac21-bd7a52f42d06",
     "showTitle": false,
     "title": ""
    }
   },
   "source": [
    "Perfect match!!!"
   ]
  },
  {
   "cell_type": "markdown",
   "metadata": {
    "application/vnd.databricks.v1+cell": {
     "cellMetadata": {
      "byteLimit": 2048000,
      "rowLimit": 10000
     },
     "inputWidgets": {},
     "nuid": "61887214-e2c0-4a4d-9a41-56c6ee6b0420",
     "showTitle": false,
     "title": ""
    }
   },
   "source": [
    "**g. Using the `StandardScaler()` estimator, perform K-means clustering with K = 3 on the data after scaling each variable to have\n",
    "standard deviation one. How do these results compare to those\n",
    "obtained in (b)? Explain.**"
   ]
  },
  {
   "cell_type": "code",
   "execution_count": 0,
   "metadata": {
    "application/vnd.databricks.v1+cell": {
     "cellMetadata": {
      "byteLimit": 2048000,
      "rowLimit": 10000
     },
     "inputWidgets": {},
     "nuid": "badea978-65e3-4c29-a3e6-115b8354c042",
     "showTitle": false,
     "title": ""
    }
   },
   "outputs": [],
   "source": [
    "df = pd.DataFrame(scale(df))"
   ]
  },
  {
   "cell_type": "code",
   "execution_count": 0,
   "metadata": {
    "application/vnd.databricks.v1+cell": {
     "cellMetadata": {
      "byteLimit": 2048000,
      "rowLimit": 10000
     },
     "inputWidgets": {},
     "nuid": "98960cc5-a4f3-48fa-8c3e-a02e0cdd1f07",
     "showTitle": false,
     "title": ""
    }
   },
   "outputs": [],
   "source": [
    "df.describe().round(2)"
   ]
  },
  {
   "cell_type": "code",
   "execution_count": 0,
   "metadata": {
    "application/vnd.databricks.v1+cell": {
     "cellMetadata": {
      "byteLimit": 2048000,
      "rowLimit": 10000
     },
     "inputWidgets": {},
     "nuid": "f522ca33-c743-4fc0-9a00-b6a442f59207",
     "showTitle": false,
     "title": ""
    }
   },
   "outputs": [],
   "source": [
    "km_out = KM(n_clusters=3, n_init=20).fit(df)\n",
    "km_pred = km_out.predict(df)"
   ]
  },
  {
   "cell_type": "code",
   "execution_count": 0,
   "metadata": {
    "application/vnd.databricks.v1+cell": {
     "cellMetadata": {
      "byteLimit": 2048000,
      "rowLimit": 10000
     },
     "inputWidgets": {},
     "nuid": "817562f2-c43b-4a21-9b33-d06ee04bf503",
     "showTitle": false,
     "title": ""
    }
   },
   "outputs": [],
   "source": [
    "km_labels = pd.DataFrame(km_out.labels_)\n",
    "km_labels[0].value_counts()"
   ]
  },
  {
   "cell_type": "markdown",
   "metadata": {
    "application/vnd.databricks.v1+cell": {
     "cellMetadata": {
      "byteLimit": 2048000,
      "rowLimit": 10000
     },
     "inputWidgets": {},
     "nuid": "fae9fb13-8b03-4819-aba5-2710747ea710",
     "showTitle": false,
     "title": ""
    }
   },
   "source": [
    "Some misclassification, which means poorer results that performing KMeans without scaling with `K=3` as well as performing KMeans on principal components with `K=3`, but better than rest."
   ]
  }
 ],
 "metadata": {
  "application/vnd.databricks.v1+notebook": {
   "dashboards": [],
   "language": "python",
   "notebookMetadata": {
    "pythonIndentUnit": 2
   },
   "notebookName": "Question 10 - answers",
   "widgets": {}
  }
 },
 "nbformat": 4,
 "nbformat_minor": 0
}
