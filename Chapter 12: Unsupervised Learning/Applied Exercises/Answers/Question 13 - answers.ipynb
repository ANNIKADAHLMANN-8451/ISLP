{
 "cells": [
  {
   "cell_type": "markdown",
   "metadata": {
    "application/vnd.databricks.v1+cell": {
     "cellMetadata": {
      "byteLimit": 2048000,
      "rowLimit": 10000
     },
     "inputWidgets": {},
     "nuid": "825aa26a-e70a-4466-a0de-0dc492280c19",
     "showTitle": false,
     "title": ""
    }
   },
   "source": [
    "This problem is working with a gene expression data set (Ch12Ex13.csv) that consists of 40 tissue samples with\n",
    "measurements on 1,000 genes. The first 20 samples are from healthy patients, while the second 20 are from a diseased group."
   ]
  },
  {
   "cell_type": "markdown",
   "metadata": {
    "application/vnd.databricks.v1+cell": {
     "cellMetadata": {
      "byteLimit": 2048000,
      "rowLimit": 10000
     },
     "inputWidgets": {},
     "nuid": "59b3fe3d-2f83-4ef2-8160-ef635d974f22",
     "showTitle": false,
     "title": ""
    }
   },
   "source": [
    "## Preprocessing"
   ]
  },
  {
   "cell_type": "code",
   "execution_count": 0,
   "metadata": {
    "application/vnd.databricks.v1+cell": {
     "cellMetadata": {
      "byteLimit": 2048000,
      "rowLimit": 10000
     },
     "inputWidgets": {},
     "nuid": "195b0b84-0118-42ea-997e-e9c307b62250",
     "showTitle": false,
     "title": ""
    }
   },
   "outputs": [],
   "source": [
    "import numpy as np\n",
    "import pandas as pd"
   ]
  },
  {
   "cell_type": "code",
   "execution_count": 0,
   "metadata": {
    "application/vnd.databricks.v1+cell": {
     "cellMetadata": {
      "byteLimit": 2048000,
      "rowLimit": 10000
     },
     "inputWidgets": {},
     "nuid": "d2f3162d-7443-478d-9065-3b3febeb9cb8",
     "showTitle": false,
     "title": ""
    }
   },
   "outputs": [],
   "source": [
    "import matplotlib.pyplot as plt\n",
    "import seaborn as sns\n",
    "%matplotlib inline"
   ]
  },
  {
   "cell_type": "markdown",
   "metadata": {
    "application/vnd.databricks.v1+cell": {
     "cellMetadata": {
      "byteLimit": 2048000,
      "rowLimit": 10000
     },
     "inputWidgets": {},
     "nuid": "13573362-1e9e-40fd-90ef-fca2ca659cdd",
     "showTitle": false,
     "title": ""
    }
   },
   "source": [
    "**a. Load in the data using `pd.read_csv()`. You will need to select\n",
    "`header = None`.**"
   ]
  },
  {
   "cell_type": "code",
   "execution_count": 0,
   "metadata": {
    "application/vnd.databricks.v1+cell": {
     "cellMetadata": {
      "byteLimit": 2048000,
      "rowLimit": 10000
     },
     "inputWidgets": {},
     "nuid": "c78fecc3-a17f-4dc0-b3bb-3e35425213a4",
     "showTitle": false,
     "title": ""
    }
   },
   "outputs": [],
   "source": [
    "# import and preprocess data\n",
    "url = \"abfss://training@sa8451learningdev.dfs.core.windows.net/interpretable_machine_learning/eml_data/Ch12Ex13.csv\"\n",
    "df = spark.read.option(\"header\", \"false\").csv(url).toPandas().astype(float)\n",
    "df.head()"
   ]
  },
  {
   "cell_type": "markdown",
   "metadata": {
    "application/vnd.databricks.v1+cell": {
     "cellMetadata": {
      "byteLimit": 2048000,
      "rowLimit": 10000
     },
     "inputWidgets": {},
     "nuid": "1c2f17b8-7973-4072-80d5-a1f79c491f2b",
     "showTitle": false,
     "title": ""
    }
   },
   "source": [
    "**b. Apply hierarchical clustering to the samples using correlation-based distance, and plot the dendrogram. Do the genes separate\n",
    "the samples into the two groups? Do your results depend on the\n",
    "type of linkage used?**"
   ]
  },
  {
   "cell_type": "code",
   "execution_count": 0,
   "metadata": {
    "application/vnd.databricks.v1+cell": {
     "cellMetadata": {
      "byteLimit": 2048000,
      "rowLimit": 10000
     },
     "inputWidgets": {},
     "nuid": "314f28c5-3bc6-4eca-9004-af354fcf5c50",
     "showTitle": false,
     "title": ""
    }
   },
   "outputs": [],
   "source": [
    "import warnings\n",
    "warnings.filterwarnings('ignore')\n",
    "\n",
    "from sklearn.preprocessing import scale\n",
    "from scipy.cluster.hierarchy import linkage, dendrogram, cut_tree\n",
    "from scipy.spatial.distance import pdist"
   ]
  },
  {
   "cell_type": "code",
   "execution_count": 0,
   "metadata": {
    "application/vnd.databricks.v1+cell": {
     "cellMetadata": {
      "byteLimit": 2048000,
      "rowLimit": 10000
     },
     "inputWidgets": {},
     "nuid": "df87a1e0-38e1-442c-adda-87ad2e1a843a",
     "showTitle": false,
     "title": ""
    }
   },
   "outputs": [],
   "source": [
    "hc_complete = linkage(y=df, method='complete', metric='correlation')\n",
    "\n",
    "plt.xkcd()\n",
    "plt.figure(figsize=(25, 10))\n",
    "dend = dendrogram(hc_complete, color_threshold=3)"
   ]
  },
  {
   "cell_type": "code",
   "execution_count": 0,
   "metadata": {
    "application/vnd.databricks.v1+cell": {
     "cellMetadata": {
      "byteLimit": 2048000,
      "rowLimit": 10000
     },
     "inputWidgets": {},
     "nuid": "f7d8ee92-2100-4aec-9f8a-a2885eefbe7c",
     "showTitle": false,
     "title": ""
    }
   },
   "outputs": [],
   "source": [
    "hc_average = linkage(y=df, method='average', metric='correlation')\n",
    "\n",
    "plt.xkcd()\n",
    "plt.figure(figsize=(25, 10))\n",
    "dend = dendrogram(hc_average, color_threshold=3)"
   ]
  },
  {
   "cell_type": "code",
   "execution_count": 0,
   "metadata": {
    "application/vnd.databricks.v1+cell": {
     "cellMetadata": {
      "byteLimit": 2048000,
      "rowLimit": 10000
     },
     "inputWidgets": {},
     "nuid": "98fd074c-376b-48d8-83b6-82ce452ba825",
     "showTitle": false,
     "title": ""
    }
   },
   "outputs": [],
   "source": [
    "hc_single = linkage(y=df, method='single', metric='correlation')\n",
    "\n",
    "plt.xkcd()\n",
    "plt.figure(figsize=(25, 10))\n",
    "dend = dendrogram(hc_single, color_threshold=3)"
   ]
  },
  {
   "cell_type": "markdown",
   "metadata": {
    "application/vnd.databricks.v1+cell": {
     "cellMetadata": {
      "byteLimit": 2048000,
      "rowLimit": 10000
     },
     "inputWidgets": {},
     "nuid": "163887cf-2363-48f6-9086-6367302d8c04",
     "showTitle": false,
     "title": ""
    }
   },
   "source": [
    "Yes, the genes separate the samples into two groups. And yes, my results depend on the type of linkage used."
   ]
  },
  {
   "cell_type": "markdown",
   "metadata": {
    "application/vnd.databricks.v1+cell": {
     "cellMetadata": {
      "byteLimit": 2048000,
      "rowLimit": 10000
     },
     "inputWidgets": {},
     "nuid": "ee80803a-b2a2-4647-99d3-d19c6ac8a7c9",
     "showTitle": false,
     "title": ""
    }
   },
   "source": [
    "**c. Your collaborator wants to know which genes difer the most\n",
    "across the two groups. Suggest a way to answer this question,\n",
    "and apply it here.**"
   ]
  },
  {
   "cell_type": "code",
   "execution_count": 0,
   "metadata": {
    "application/vnd.databricks.v1+cell": {
     "cellMetadata": {
      "byteLimit": 2048000,
      "rowLimit": 10000
     },
     "inputWidgets": {},
     "nuid": "23cf0264-858e-4ddb-b188-0ba359224ed3",
     "showTitle": false,
     "title": ""
    }
   },
   "outputs": [],
   "source": [
    "from sklearn.decomposition import PCA"
   ]
  },
  {
   "cell_type": "code",
   "execution_count": 0,
   "metadata": {
    "application/vnd.databricks.v1+cell": {
     "cellMetadata": {
      "byteLimit": 2048000,
      "rowLimit": 10000
     },
     "inputWidgets": {},
     "nuid": "1ba1fb6e-b404-4b27-965e-5f1741bfae0b",
     "showTitle": false,
     "title": ""
    }
   },
   "outputs": [],
   "source": [
    "pca = PCA(n_components=40)\n",
    "pca_data = pca.fit_transform(df)\n",
    "principaldf = pd.DataFrame(data = pca_data)\n",
    "principaldf.head()"
   ]
  },
  {
   "cell_type": "code",
   "execution_count": 0,
   "metadata": {
    "application/vnd.databricks.v1+cell": {
     "cellMetadata": {
      "byteLimit": 2048000,
      "rowLimit": 10000
     },
     "inputWidgets": {},
     "nuid": "511df30e-5cc9-4804-966b-54591d4f2f99",
     "showTitle": false,
     "title": ""
    }
   },
   "outputs": [],
   "source": [
    "loadings = pca.components_.T\n",
    "loadings_df = pd.DataFrame(loadings, index=df.columns, columns=principaldf.columns)\n",
    "loadings_df.head()"
   ]
  },
  {
   "cell_type": "code",
   "execution_count": 0,
   "metadata": {
    "application/vnd.databricks.v1+cell": {
     "cellMetadata": {
      "byteLimit": 2048000,
      "rowLimit": 10000
     },
     "inputWidgets": {},
     "nuid": "4d69d6b5-7531-41e1-afc5-879d7393bdae",
     "showTitle": false,
     "title": ""
    }
   },
   "outputs": [],
   "source": [
    "loadings_total = pd.DataFrame()\n",
    "\n",
    "for row in principaldf.index:\n",
    "    row_sum = np.sum(principaldf.loc[row])\n",
    "    loadings_total = loadings_total.append(pd.DataFrame([row_sum]))\n",
    "\n",
    "loadings_total.columns = ['total loadings']\n",
    "loadings_total.reset_index(drop=True, inplace=True)\n",
    "loadings_total.head()"
   ]
  },
  {
   "cell_type": "code",
   "execution_count": 0,
   "metadata": {
    "application/vnd.databricks.v1+cell": {
     "cellMetadata": {
      "byteLimit": 2048000,
      "rowLimit": 10000
     },
     "inputWidgets": {},
     "nuid": "88e5f99a-5179-489b-89a3-9055f978a9fe",
     "showTitle": false,
     "title": ""
    }
   },
   "outputs": [],
   "source": [
    "most_different_genes = pd.DataFrame(np.argsort(np.abs(loadings_total['total loadings'])))\n",
    "most_different_genes.columns = ['most different genes']\n",
    "most_different_genes"
   ]
  },
  {
   "cell_type": "markdown",
   "metadata": {
    "application/vnd.databricks.v1+cell": {
     "cellMetadata": {
      "byteLimit": 2048000,
      "rowLimit": 10000
     },
     "inputWidgets": {},
     "nuid": "51749389-8917-45ac-bd9d-7499a13f71ab",
     "showTitle": false,
     "title": ""
    }
   },
   "source": [
    "Therefore, the 10 most different genes are: 5, 179, 615, 380, 805, 190, 254, 558, 420, 990."
   ]
  }
 ],
 "metadata": {
  "application/vnd.databricks.v1+notebook": {
   "dashboards": [],
   "language": "python",
   "notebookMetadata": {
    "pythonIndentUnit": 2
   },
   "notebookName": "Question 13 - answers",
   "widgets": {}
  }
 },
 "nbformat": 4,
 "nbformat_minor": 0
}
