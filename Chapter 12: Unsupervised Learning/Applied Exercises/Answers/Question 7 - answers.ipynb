{
 "cells": [
  {
   "cell_type": "markdown",
   "metadata": {
    "application/vnd.databricks.v1+cell": {
     "cellMetadata": {
      "byteLimit": 2048000,
      "rowLimit": 10000
     },
     "inputWidgets": {},
     "nuid": "b268c599-c537-4a46-aff9-bb68a6d9135b",
     "showTitle": false,
     "title": ""
    }
   },
   "source": [
    "In this chapter, we mentioned the use of correlation-based distance\n",
    "and Euclidean distance as dissimilarity measures for hierarchical clustering. It turns out that these two measures are almost equivalent: if\n",
    "each observation has been centered to have mean zero and standard\n",
    "deviation one, and if we let rij denote the correlation between the ith\n",
    "and jth observations, then the quantity 1 − rij is proportional to the\n",
    "squared Euclidean distance between the ith and jth observations.\n",
    "<br>\n",
    "<br>\n",
    "On the `USArrests` data, show that this proportionality holds.\n",
    "<br>\n",
    "<br>\n",
    "*Hint: The Euclidean distance can be calculated using the* `pairwise_distances()` *function from the* `sklearn.metrics` *module, and* `pairwise_distances()` *correlations can be calculated using the* `np.corrcoef()` *function.*"
   ]
  },
  {
   "cell_type": "markdown",
   "metadata": {
    "application/vnd.databricks.v1+cell": {
     "cellMetadata": {
      "byteLimit": 2048000,
      "rowLimit": 10000
     },
     "inputWidgets": {},
     "nuid": "70f43ab6-3552-4417-9768-8dff4400f16e",
     "showTitle": false,
     "title": ""
    }
   },
   "source": [
    "## Preprocessing"
   ]
  },
  {
   "cell_type": "code",
   "execution_count": 0,
   "metadata": {
    "application/vnd.databricks.v1+cell": {
     "cellMetadata": {
      "byteLimit": 2048000,
      "rowLimit": 10000
     },
     "inputWidgets": {},
     "nuid": "c87cd35b-a35f-4e55-9eb3-80cbe5f665a7",
     "showTitle": false,
     "title": ""
    }
   },
   "outputs": [],
   "source": [
    "import numpy as np\n",
    "import pandas as pd"
   ]
  },
  {
   "cell_type": "code",
   "execution_count": 0,
   "metadata": {
    "application/vnd.databricks.v1+cell": {
     "cellMetadata": {
      "byteLimit": 2048000,
      "rowLimit": 10000
     },
     "inputWidgets": {},
     "nuid": "a08ab158-667b-4466-b7b7-9bb6a513e467",
     "showTitle": false,
     "title": ""
    }
   },
   "outputs": [],
   "source": [
    "import matplotlib.pyplot as plt\n",
    "import seaborn as sns\n",
    "%matplotlib inline"
   ]
  },
  {
   "cell_type": "code",
   "execution_count": 0,
   "metadata": {
    "application/vnd.databricks.v1+cell": {
     "cellMetadata": {
      "byteLimit": 2048000,
      "rowLimit": 10000
     },
     "inputWidgets": {},
     "nuid": "4d76ad5b-8218-426a-80c5-708d3d28907b",
     "showTitle": false,
     "title": ""
    }
   },
   "outputs": [],
   "source": [
    "# import and preprocess data\n",
    "url = \"abfss://training@sa8451learningdev.dfs.core.windows.net/interpretable_machine_learning/eml_data/USArrests.csv\"\n",
    "USArrests = spark.read.option(\"header\", \"true\").csv(url).toPandas()\n",
    "USArrests.rename(columns={'_c0': 'Index'}, inplace=True)\n",
    "USArrests.set_index(\"Index\", inplace=True)\n",
    "\n",
    "int_cols = [\"Assault\", \"UrbanPop\"]\n",
    "float_cols = [\"Murder\", \"Rape\"]\n",
    "USArrests[int_cols] = USArrests[int_cols].astype(int)\n",
    "USArrests[float_cols] = USArrests[float_cols].astype(float)"
   ]
  },
  {
   "cell_type": "markdown",
   "metadata": {
    "application/vnd.databricks.v1+cell": {
     "cellMetadata": {
      "byteLimit": 2048000,
      "rowLimit": 10000
     },
     "inputWidgets": {},
     "nuid": "8dc5ba59-2e70-417b-be46-1370f87883b4",
     "showTitle": false,
     "title": ""
    }
   },
   "source": [
    "Comparing measures"
   ]
  },
  {
   "cell_type": "code",
   "execution_count": 0,
   "metadata": {
    "application/vnd.databricks.v1+cell": {
     "cellMetadata": {
      "byteLimit": 2048000,
      "rowLimit": 10000
     },
     "inputWidgets": {},
     "nuid": "5e28b9d2-c2ec-4c22-a9ac-36e614386f66",
     "showTitle": false,
     "title": ""
    }
   },
   "outputs": [],
   "source": [
    "from sklearn.preprocessing import scale"
   ]
  },
  {
   "cell_type": "code",
   "execution_count": 0,
   "metadata": {
    "application/vnd.databricks.v1+cell": {
     "cellMetadata": {
      "byteLimit": 2048000,
      "rowLimit": 10000
     },
     "inputWidgets": {},
     "nuid": "0b20fe83-6130-4cb3-9de0-82c4b11b5484",
     "showTitle": false,
     "title": ""
    }
   },
   "outputs": [],
   "source": [
    "import warnings\n",
    "warnings.filterwarnings('ignore')\n",
    "df = pd.DataFrame(scale(USArrests))\n",
    "df.columns = USArrests.columns\n",
    "df.head()"
   ]
  },
  {
   "cell_type": "code",
   "execution_count": 0,
   "metadata": {
    "application/vnd.databricks.v1+cell": {
     "cellMetadata": {
      "byteLimit": 2048000,
      "rowLimit": 10000
     },
     "inputWidgets": {},
     "nuid": "c6689793-9429-4bf3-9d16-45d75dad4e4f",
     "showTitle": false,
     "title": ""
    }
   },
   "outputs": [],
   "source": [
    "df.describe().round(4)"
   ]
  },
  {
   "cell_type": "code",
   "execution_count": 0,
   "metadata": {
    "application/vnd.databricks.v1+cell": {
     "cellMetadata": {
      "byteLimit": 2048000,
      "rowLimit": 10000
     },
     "inputWidgets": {},
     "nuid": "6b8d1bd6-cabe-4d91-91a4-a434fd1baec5",
     "showTitle": false,
     "title": ""
    }
   },
   "outputs": [],
   "source": [
    "plt.xkcd()\n",
    "plt.figure(figsize=(25, 10))\n",
    "sns.distplot(df.Murder, bins=30, kde_kws={'color': 'g', 'ls': '-.'}, hist=False, label='Murder')\n",
    "sns.distplot(df.Assault, bins=30, kde_kws={'color': 'b', 'ls': '-.'}, hist = False, label='Assault')\n",
    "sns.distplot(df.UrbanPop, bins=30, kde_kws={'color': 'm', 'ls': '-.'}, hist=False, label='UrbanPop')\n",
    "sns.distplot(df.Rape, bins=30, kde_kws={'color': 'y', 'ls': '-.'}, hist=False, label='Rape')\n",
    "plt.vlines(x=0, ymin=0.00, ymax=0.40, color='r', linestyles='dotted', alpha=0.4)\n",
    "sns.distplot(np.random.normal(loc=0,scale=1,size=1000), kde_kws={'color': 'r', 'ls': 'dotted', 'alpha': 0.4}, hist=False, label='Standard Normal Distribution')\n",
    "plt.xlabel('crime', fontsize=20, color='c')\n",
    "plt.ylabel('distribution', fontsize=20, color='c')\n",
    "plt.title('standard normal transformation of crim data', fontsize=30, color='m')\n",
    "plt.legend()"
   ]
  },
  {
   "cell_type": "code",
   "execution_count": 0,
   "metadata": {
    "application/vnd.databricks.v1+cell": {
     "cellMetadata": {
      "byteLimit": 2048000,
      "rowLimit": 10000
     },
     "inputWidgets": {},
     "nuid": "d1bcd5ca-99c6-47df-bd63-9849d8c4d773",
     "showTitle": false,
     "title": ""
    }
   },
   "outputs": [],
   "source": [
    "corrdf = pd.DataFrame()\n",
    "\n",
    "for i in df.index.values:\n",
    "    for j in df.index.values:\n",
    "        cor = 1 - np.correlate(df.iloc[i], df.iloc[j])\n",
    "        corrdf = corrdf.append(pd.DataFrame([cor]))\n",
    "\n",
    "corrdf.columns = ['corr']\n",
    "corrdf.reset_index(drop=True, inplace=True)\n",
    "corrdf.head()"
   ]
  },
  {
   "cell_type": "code",
   "execution_count": 0,
   "metadata": {
    "application/vnd.databricks.v1+cell": {
     "cellMetadata": {
      "byteLimit": 2048000,
      "rowLimit": 10000
     },
     "inputWidgets": {},
     "nuid": "9e169f22-8825-4681-bd16-09836210f104",
     "showTitle": false,
     "title": ""
    }
   },
   "outputs": [],
   "source": [
    "eucldf = pd.DataFrame()\n",
    "\n",
    "for i in df.index.values:\n",
    "    for j in df.index.values:\n",
    "        eucl = (np.linalg.norm(df.iloc[j] - df.iloc[i]))**2\n",
    "        eucldf = eucldf.append(pd.DataFrame([eucl]))\n",
    "\n",
    "eucldf.columns = ['eucl']\n",
    "eucldf.reset_index(drop=True, inplace=True)\n",
    "eucldf.head()"
   ]
  },
  {
   "cell_type": "code",
   "execution_count": 0,
   "metadata": {
    "application/vnd.databricks.v1+cell": {
     "cellMetadata": {
      "byteLimit": 2048000,
      "rowLimit": 10000
     },
     "inputWidgets": {},
     "nuid": "eb32a368-a079-4a21-990f-4916b73cfd78",
     "showTitle": false,
     "title": ""
    }
   },
   "outputs": [],
   "source": [
    "maindf = pd.concat([corrdf, eucldf], axis=1)\n",
    "maindf.head()"
   ]
  },
  {
   "cell_type": "code",
   "execution_count": 0,
   "metadata": {
    "application/vnd.databricks.v1+cell": {
     "cellMetadata": {
      "byteLimit": 2048000,
      "rowLimit": 10000
     },
     "inputWidgets": {},
     "nuid": "857e15a9-d1c2-4d40-8a40-8b462900f29b",
     "showTitle": false,
     "title": ""
    }
   },
   "outputs": [],
   "source": [
    "maindf['ratio'] = maindf['corr'] / maindf['eucl']\n",
    "maindf.head()"
   ]
  },
  {
   "cell_type": "code",
   "execution_count": 0,
   "metadata": {
    "application/vnd.databricks.v1+cell": {
     "cellMetadata": {
      "byteLimit": 2048000,
      "rowLimit": 10000
     },
     "inputWidgets": {},
     "nuid": "1dad392a-79db-4928-a5d8-1772c4dba593",
     "showTitle": false,
     "title": ""
    }
   },
   "outputs": [],
   "source": [
    "rows_max = maindf.loc[maindf.ratio==maindf.ratio.max()]\n",
    "rows_max"
   ]
  },
  {
   "cell_type": "code",
   "execution_count": 0,
   "metadata": {
    "application/vnd.databricks.v1+cell": {
     "cellMetadata": {
      "byteLimit": 2048000,
      "rowLimit": 10000
     },
     "inputWidgets": {},
     "nuid": "362ce6f5-f37a-4f27-b3f1-71c64ca42659",
     "showTitle": false,
     "title": ""
    }
   },
   "outputs": [],
   "source": [
    "maindf.drop(rows_max.index.values, inplace=True)"
   ]
  },
  {
   "cell_type": "code",
   "execution_count": 0,
   "metadata": {
    "application/vnd.databricks.v1+cell": {
     "cellMetadata": {
      "byteLimit": 2048000,
      "rowLimit": 10000
     },
     "inputWidgets": {},
     "nuid": "3f9022e6-867f-4573-b320-088997fadefb",
     "showTitle": false,
     "title": ""
    }
   },
   "outputs": [],
   "source": [
    "maindf.loc[maindf.ratio==maindf.ratio.max()]"
   ]
  },
  {
   "cell_type": "code",
   "execution_count": 0,
   "metadata": {
    "application/vnd.databricks.v1+cell": {
     "cellMetadata": {
      "byteLimit": 2048000,
      "rowLimit": 10000
     },
     "inputWidgets": {},
     "nuid": "9f34e456-3b14-49b7-b29d-3793340a3608",
     "showTitle": false,
     "title": ""
    }
   },
   "outputs": [],
   "source": [
    "rows_min = maindf.loc[maindf.ratio==maindf.ratio.min()]\n",
    "rows_min"
   ]
  },
  {
   "cell_type": "code",
   "execution_count": 0,
   "metadata": {
    "application/vnd.databricks.v1+cell": {
     "cellMetadata": {
      "byteLimit": 2048000,
      "rowLimit": 10000
     },
     "inputWidgets": {},
     "nuid": "c81321fb-7966-4b91-a533-aff97010b378",
     "showTitle": false,
     "title": ""
    }
   },
   "outputs": [],
   "source": [
    "maindf.drop(rows_min.index.values, inplace=True)"
   ]
  },
  {
   "cell_type": "code",
   "execution_count": 0,
   "metadata": {
    "application/vnd.databricks.v1+cell": {
     "cellMetadata": {
      "byteLimit": 2048000,
      "rowLimit": 10000
     },
     "inputWidgets": {},
     "nuid": "515587f6-579e-47ca-9118-fe0949cd560c",
     "showTitle": false,
     "title": ""
    }
   },
   "outputs": [],
   "source": [
    "maindf.loc[maindf.ratio==maindf.ratio.min()]"
   ]
  },
  {
   "cell_type": "markdown",
   "metadata": {
    "application/vnd.databricks.v1+cell": {
     "cellMetadata": {
      "byteLimit": 2048000,
      "rowLimit": 10000
     },
     "inputWidgets": {},
     "nuid": "d33f69b2-6558-4f9a-b83c-b0c2d1a40298",
     "showTitle": false,
     "title": ""
    }
   },
   "source": [
    "*It is alright to remove ratios with inf of -inf because they denote division by 0. This suggests that the deleted rows essentially are calculating correlations for the same state, which is not required.*"
   ]
  },
  {
   "cell_type": "code",
   "execution_count": 0,
   "metadata": {
    "application/vnd.databricks.v1+cell": {
     "cellMetadata": {
      "byteLimit": 2048000,
      "rowLimit": 10000
     },
     "inputWidgets": {},
     "nuid": "4d508445-0888-4854-ae58-00abf6c3fba0",
     "showTitle": false,
     "title": ""
    }
   },
   "outputs": [],
   "source": [
    "plt.xkcd()\n",
    "plt.figure(figsize=(25, 10))\n",
    "plt.plot(maindf.ratio)"
   ]
  },
  {
   "cell_type": "code",
   "execution_count": 0,
   "metadata": {
    "application/vnd.databricks.v1+cell": {
     "cellMetadata": {
      "byteLimit": 2048000,
      "rowLimit": 10000
     },
     "inputWidgets": {},
     "nuid": "83633fa0-5604-4810-9e51-0e33bc282b15",
     "showTitle": false,
     "title": ""
    }
   },
   "outputs": [],
   "source": [
    "maindf['ratio'].describe().round(2)"
   ]
  },
  {
   "cell_type": "markdown",
   "metadata": {
    "application/vnd.databricks.v1+cell": {
     "cellMetadata": {
      "byteLimit": 2048000,
      "rowLimit": 10000
     },
     "inputWidgets": {},
     "nuid": "fecf04a7-fb3e-4a41-897f-8d18e59d8d2c",
     "showTitle": false,
     "title": ""
    }
   },
   "source": [
    "Therefore, with an exception of a couple of values, the two measures are similar on an average."
   ]
  },
  {
   "cell_type": "code",
   "execution_count": 0,
   "metadata": {
    "application/vnd.databricks.v1+cell": {
     "cellMetadata": {
      "byteLimit": 2048000,
      "rowLimit": 10000
     },
     "inputWidgets": {},
     "nuid": "ea5f1cda-bd53-4794-82a7-c60c9f8d6dd6",
     "showTitle": false,
     "title": ""
    }
   },
   "outputs": [],
   "source": []
  }
 ],
 "metadata": {
  "application/vnd.databricks.v1+notebook": {
   "dashboards": [],
   "language": "python",
   "notebookMetadata": {
    "pythonIndentUnit": 2
   },
   "notebookName": "Question 7 - answers",
   "widgets": {}
  }
 },
 "nbformat": 4,
 "nbformat_minor": 0
}
