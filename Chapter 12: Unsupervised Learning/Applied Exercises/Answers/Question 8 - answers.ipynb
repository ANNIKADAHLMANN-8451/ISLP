{
 "cells": [
  {
   "cell_type": "markdown",
   "metadata": {
    "application/vnd.databricks.v1+cell": {
     "cellMetadata": {
      "byteLimit": 2048000,
      "rowLimit": 10000
     },
     "inputWidgets": {},
     "nuid": "9a54e3fc-d156-4ea8-985f-1e9f5efedc5e",
     "showTitle": false,
     "title": ""
    }
   },
   "source": [
    "In Section 12.2.3, a formula for calculating PVE was given in Equation 12.10. We also saw that the PVE can be obtained using the\n",
    "`explained_variance_ratio_` attribute of a fitted `PCA()` estimator. On the `USArrests` data, calculate PVE in the two ways highlighted below."
   ]
  },
  {
   "cell_type": "markdown",
   "metadata": {
    "application/vnd.databricks.v1+cell": {
     "cellMetadata": {
      "byteLimit": 2048000,
      "rowLimit": 10000
     },
     "inputWidgets": {},
     "nuid": "a773d31b-e502-4bbc-8bb5-868cb9dd121e",
     "showTitle": false,
     "title": ""
    }
   },
   "source": [
    "These two approaches should give the same results.\n",
    "<br>\n",
    "<br>\n",
    "*Hint: You will only obtain the same results in (a) and (b) if the same data is used in both cases. For instance, if in (a) you performed PCA() using centered and scaled variables, then you must center and scale the variables before applying Equation 12.10 in (b).*"
   ]
  },
  {
   "cell_type": "markdown",
   "metadata": {
    "application/vnd.databricks.v1+cell": {
     "cellMetadata": {
      "byteLimit": 2048000,
      "rowLimit": 10000
     },
     "inputWidgets": {},
     "nuid": "8f629e26-8120-4900-9038-b243b31bda60",
     "showTitle": false,
     "title": ""
    }
   },
   "source": [
    "## Preprocessing"
   ]
  },
  {
   "cell_type": "code",
   "execution_count": 0,
   "metadata": {
    "application/vnd.databricks.v1+cell": {
     "cellMetadata": {
      "byteLimit": 2048000,
      "rowLimit": 10000
     },
     "inputWidgets": {},
     "nuid": "46942604-a65a-4f20-a7cd-3963635d2c27",
     "showTitle": false,
     "title": ""
    }
   },
   "outputs": [],
   "source": [
    "import numpy as np\n",
    "import pandas as pd"
   ]
  },
  {
   "cell_type": "code",
   "execution_count": 0,
   "metadata": {
    "application/vnd.databricks.v1+cell": {
     "cellMetadata": {
      "byteLimit": 2048000,
      "rowLimit": 10000
     },
     "inputWidgets": {},
     "nuid": "79c9ced3-f59e-47ed-9aea-613e85414131",
     "showTitle": false,
     "title": ""
    }
   },
   "outputs": [],
   "source": [
    "import matplotlib.pyplot as plt\n",
    "import seaborn as sns\n",
    "%matplotlib inline"
   ]
  },
  {
   "cell_type": "code",
   "execution_count": 0,
   "metadata": {
    "application/vnd.databricks.v1+cell": {
     "cellMetadata": {
      "byteLimit": 2048000,
      "rowLimit": 10000
     },
     "inputWidgets": {},
     "nuid": "5b940691-874a-4b00-88e8-83ce70b2a093",
     "showTitle": false,
     "title": ""
    }
   },
   "outputs": [],
   "source": [
    "# import and preprocess data\n",
    "url = \"abfss://training@sa8451learningdev.dfs.core.windows.net/interpretable_machine_learning/eml_data/USArrests.csv\"\n",
    "USArrests = spark.read.option(\"header\", \"true\").csv(url).toPandas()\n",
    "USArrests.rename(columns={'_c0': 'Index'}, inplace=True)\n",
    "USArrests.set_index(\"Index\", inplace=True)\n",
    "\n",
    "int_cols = [\"Assault\", \"UrbanPop\"]\n",
    "float_cols = [\"Murder\", \"Rape\"]\n",
    "USArrests[int_cols] = USArrests[int_cols].astype(int)\n",
    "USArrests[float_cols] = USArrests[float_cols].astype(float)"
   ]
  },
  {
   "cell_type": "markdown",
   "metadata": {
    "application/vnd.databricks.v1+cell": {
     "cellMetadata": {
      "byteLimit": 2048000,
      "rowLimit": 10000
     },
     "inputWidgets": {},
     "nuid": "ef5eb199-7592-46f7-b856-54f3481a0e84",
     "showTitle": false,
     "title": ""
    }
   },
   "source": [
    "**a. Using the `explained_variance_ratio_` output of the fitted `PCA()`\n",
    "estimator, as was done in Section 12.2.3.**"
   ]
  },
  {
   "cell_type": "code",
   "execution_count": 0,
   "metadata": {
    "application/vnd.databricks.v1+cell": {
     "cellMetadata": {
      "byteLimit": 2048000,
      "rowLimit": 10000
     },
     "inputWidgets": {},
     "nuid": "1a638f08-1300-483b-b2e3-a9014709425d",
     "showTitle": false,
     "title": ""
    }
   },
   "outputs": [],
   "source": [
    "import warnings\n",
    "warnings.filterwarnings('ignore')\n",
    "\n",
    "from sklearn.preprocessing import scale\n",
    "from sklearn.decomposition import PCA"
   ]
  },
  {
   "cell_type": "code",
   "execution_count": 0,
   "metadata": {
    "application/vnd.databricks.v1+cell": {
     "cellMetadata": {
      "byteLimit": 2048000,
      "rowLimit": 10000
     },
     "inputWidgets": {},
     "nuid": "02141f65-5b31-492f-b029-54c65464c5af",
     "showTitle": false,
     "title": ""
    }
   },
   "outputs": [],
   "source": [
    "df = pd.DataFrame(scale(USArrests))\n",
    "df.columns = USArrests.columns\n",
    "df.index = USArrests.index\n",
    "df.head()"
   ]
  },
  {
   "cell_type": "code",
   "execution_count": 0,
   "metadata": {
    "application/vnd.databricks.v1+cell": {
     "cellMetadata": {
      "byteLimit": 2048000,
      "rowLimit": 10000
     },
     "inputWidgets": {},
     "nuid": "3285f0e0-4f71-4e74-8091-bcf297f3a3c5",
     "showTitle": false,
     "title": ""
    }
   },
   "outputs": [],
   "source": [
    "df.describe().round(4)"
   ]
  },
  {
   "cell_type": "code",
   "execution_count": 0,
   "metadata": {
    "application/vnd.databricks.v1+cell": {
     "cellMetadata": {
      "byteLimit": 2048000,
      "rowLimit": 10000
     },
     "inputWidgets": {},
     "nuid": "69fe77ba-3422-4c5f-85c0-f57c0e941efd",
     "showTitle": false,
     "title": ""
    }
   },
   "outputs": [],
   "source": [
    "pca = PCA(n_components=4)\n",
    "pca_data = pca.fit_transform(df)\n",
    "principaldf = pd.DataFrame(data = pca_data, columns = ['PC1', 'PC2', 'PC3', 'PC4'])\n",
    "principaldf.head()"
   ]
  },
  {
   "cell_type": "code",
   "execution_count": 0,
   "metadata": {
    "application/vnd.databricks.v1+cell": {
     "cellMetadata": {
      "byteLimit": 2048000,
      "rowLimit": 10000
     },
     "inputWidgets": {},
     "nuid": "a32a8c9c-307e-40e7-af63-0627e0056970",
     "showTitle": false,
     "title": ""
    }
   },
   "outputs": [],
   "source": [
    "principaldf.info()"
   ]
  },
  {
   "cell_type": "code",
   "execution_count": 0,
   "metadata": {
    "application/vnd.databricks.v1+cell": {
     "cellMetadata": {
      "byteLimit": 2048000,
      "rowLimit": 10000
     },
     "inputWidgets": {},
     "nuid": "9aa04b4d-44f3-4f12-90fd-3a186c3af97c",
     "showTitle": false,
     "title": ""
    }
   },
   "outputs": [],
   "source": [
    "PVAR = principaldf.var()\n",
    "PVAR"
   ]
  },
  {
   "cell_type": "code",
   "execution_count": 0,
   "metadata": {
    "application/vnd.databricks.v1+cell": {
     "cellMetadata": {
      "byteLimit": 2048000,
      "rowLimit": 10000
     },
     "inputWidgets": {},
     "nuid": "2112c097-8797-4900-a72f-35927c7bf92b",
     "showTitle": false,
     "title": ""
    }
   },
   "outputs": [],
   "source": [
    "PSUM = np.sum(PVAR)\n",
    "PSUM"
   ]
  },
  {
   "cell_type": "code",
   "execution_count": 0,
   "metadata": {
    "application/vnd.databricks.v1+cell": {
     "cellMetadata": {
      "byteLimit": 2048000,
      "rowLimit": 10000
     },
     "inputWidgets": {},
     "nuid": "409a4a83-90d5-4ac3-960f-ff72134876b8",
     "showTitle": false,
     "title": ""
    }
   },
   "outputs": [],
   "source": [
    "PVE_method = pd.DataFrame([PVAR/PSUM]).T\n",
    "PVE_method.columns = ['explained variance ratio']\n",
    "PVE_method.index = principaldf.columns\n",
    "PVE_method"
   ]
  },
  {
   "cell_type": "code",
   "execution_count": 0,
   "metadata": {
    "application/vnd.databricks.v1+cell": {
     "cellMetadata": {
      "byteLimit": 2048000,
      "rowLimit": 10000
     },
     "inputWidgets": {},
     "nuid": "8c211c68-7438-4ef5-9a59-543093b97a9f",
     "showTitle": false,
     "title": ""
    }
   },
   "outputs": [],
   "source": [
    "loadings = pca.components_.T\n",
    "loadings_df = pd.DataFrame(loadings, index=df.columns, columns=principaldf.columns)\n",
    "loadings_df"
   ]
  },
  {
   "cell_type": "markdown",
   "metadata": {
    "application/vnd.databricks.v1+cell": {
     "cellMetadata": {
      "byteLimit": 2048000,
      "rowLimit": 10000
     },
     "inputWidgets": {},
     "nuid": "84d9b297-0cf2-49c2-b933-d898c58ac34a",
     "showTitle": false,
     "title": ""
    }
   },
   "source": [
    "**b. By applying Equation 12.10 directly. The loadings are stored\n",
    "as the `components_` attribute of the fitted `PCA()` estimator. Use\n",
    "those loadings in Equation 12.10 to obtain the PVE.**"
   ]
  },
  {
   "cell_type": "code",
   "execution_count": 0,
   "metadata": {
    "application/vnd.databricks.v1+cell": {
     "cellMetadata": {
      "byteLimit": 2048000,
      "rowLimit": 10000
     },
     "inputWidgets": {},
     "nuid": "e2e1a3cc-dd3e-40b5-be41-b1a32f26a633",
     "showTitle": false,
     "title": ""
    }
   },
   "outputs": [],
   "source": [
    "# PC1\n",
    "num = np.sum((np.dot(df, loadings_df.PC1))**2)\n",
    "\n",
    "denomdf = pd.DataFrame()\n",
    "for i in range(0, 50):\n",
    "    row_sum = np.sum(df.iloc[i]**2)\n",
    "    denomdf = denomdf.append(pd.DataFrame([row_sum]))\n",
    "\n",
    "denomdf.columns = ['sums']\n",
    "denomdf.reset_index(drop=True, inplace=True)\n",
    "denom = denomdf.sum()\n",
    "\n",
    "PVE_PC1 = num/denom\n",
    "PVE_PC1"
   ]
  },
  {
   "cell_type": "code",
   "execution_count": 0,
   "metadata": {
    "application/vnd.databricks.v1+cell": {
     "cellMetadata": {
      "byteLimit": 2048000,
      "rowLimit": 10000
     },
     "inputWidgets": {},
     "nuid": "4edcebf6-ce7d-4893-9a19-98d0b628e2de",
     "showTitle": false,
     "title": ""
    }
   },
   "outputs": [],
   "source": [
    "# PC2\n",
    "num = np.sum((np.dot(df, loadings_df.PC2))**2)\n",
    "\n",
    "denomdf = pd.DataFrame()\n",
    "for i in range(0, 50):\n",
    "    row_sum = np.sum(df.iloc[i]**2)\n",
    "    denomdf = denomdf.append(pd.DataFrame([row_sum]))\n",
    "\n",
    "denomdf.columns = ['sums']\n",
    "denomdf.reset_index(drop=True, inplace=True)\n",
    "denom = denomdf.sum()\n",
    "\n",
    "PVE_PC2 = num/denom\n",
    "PVE_PC2"
   ]
  },
  {
   "cell_type": "code",
   "execution_count": 0,
   "metadata": {
    "application/vnd.databricks.v1+cell": {
     "cellMetadata": {
      "byteLimit": 2048000,
      "rowLimit": 10000
     },
     "inputWidgets": {},
     "nuid": "feca0d5d-c542-4e0c-96c9-3b10c68ce8a4",
     "showTitle": false,
     "title": ""
    }
   },
   "outputs": [],
   "source": [
    "# PC3\n",
    "num = np.sum((np.dot(df, loadings_df.PC3))**2)\n",
    "\n",
    "denomdf = pd.DataFrame()\n",
    "for i in range(0, 50):\n",
    "    row_sum = np.sum(df.iloc[i]**2)\n",
    "    denomdf = denomdf.append(pd.DataFrame([row_sum]))\n",
    "\n",
    "denomdf.columns = ['sums']\n",
    "denomdf.reset_index(drop=True, inplace=True)\n",
    "denom = denomdf.sum()\n",
    "\n",
    "PVE_PC3 = num/denom\n",
    "PVE_PC3"
   ]
  },
  {
   "cell_type": "code",
   "execution_count": 0,
   "metadata": {
    "application/vnd.databricks.v1+cell": {
     "cellMetadata": {
      "byteLimit": 2048000,
      "rowLimit": 10000
     },
     "inputWidgets": {},
     "nuid": "9eb9309b-becf-4542-b35d-f18cb228c4d3",
     "showTitle": false,
     "title": ""
    }
   },
   "outputs": [],
   "source": [
    "# PC4\n",
    "num = np.sum((np.dot(df, loadings_df.PC4))**2)\n",
    "\n",
    "denomdf = pd.DataFrame()\n",
    "for i in range(0, 50):\n",
    "    row_sum = np.sum(df.iloc[i]**2)\n",
    "    denomdf = denomdf.append(pd.DataFrame([row_sum]))\n",
    "\n",
    "denomdf.columns = ['sums']\n",
    "denomdf.reset_index(drop=True, inplace=True)\n",
    "denom = denomdf.sum()\n",
    "\n",
    "PVE_PC4 = num/denom\n",
    "PVE_PC4"
   ]
  },
  {
   "cell_type": "code",
   "execution_count": 0,
   "metadata": {
    "application/vnd.databricks.v1+cell": {
     "cellMetadata": {
      "byteLimit": 2048000,
      "rowLimit": 10000
     },
     "inputWidgets": {},
     "nuid": "4c0d60c5-63ae-4f01-b06c-f1476c273cac",
     "showTitle": false,
     "title": ""
    }
   },
   "outputs": [],
   "source": [
    "PVE_formula = pd.DataFrame([PVE_PC1.values, PVE_PC2.values, PVE_PC3.values, PVE_PC4.values])\n",
    "PVE_formula.columns = ['explained variance ratio']\n",
    "PVE_formula.index = principaldf.columns\n",
    "PVE_formula"
   ]
  },
  {
   "cell_type": "markdown",
   "metadata": {
    "application/vnd.databricks.v1+cell": {
     "cellMetadata": {
      "byteLimit": 2048000,
      "rowLimit": 10000
     },
     "inputWidgets": {},
     "nuid": "d770b0fd-acac-4cfc-b449-628da9d731be",
     "showTitle": false,
     "title": ""
    }
   },
   "source": [
    "Therefore, PVE through both method and formula are the same."
   ]
  },
  {
   "cell_type": "code",
   "execution_count": 0,
   "metadata": {
    "application/vnd.databricks.v1+cell": {
     "cellMetadata": {
      "byteLimit": 2048000,
      "rowLimit": 10000
     },
     "inputWidgets": {},
     "nuid": "b5c754bb-5acb-4c8c-9412-3dd356e85c75",
     "showTitle": false,
     "title": ""
    }
   },
   "outputs": [],
   "source": []
  }
 ],
 "metadata": {
  "application/vnd.databricks.v1+notebook": {
   "dashboards": [],
   "language": "python",
   "notebookMetadata": {
    "pythonIndentUnit": 2
   },
   "notebookName": "Question 8 - answers",
   "widgets": {}
  }
 },
 "nbformat": 4,
 "nbformat_minor": 0
}
