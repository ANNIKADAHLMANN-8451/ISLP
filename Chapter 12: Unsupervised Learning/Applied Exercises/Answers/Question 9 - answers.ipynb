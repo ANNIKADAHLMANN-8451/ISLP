{
 "cells": [
  {
   "cell_type": "markdown",
   "metadata": {
    "application/vnd.databricks.v1+cell": {
     "cellMetadata": {
      "byteLimit": 2048000,
      "rowLimit": 10000
     },
     "inputWidgets": {},
     "nuid": "c4f266ad-2761-4e93-86a6-d11aecfedc1c",
     "showTitle": false,
     "title": ""
    }
   },
   "source": [
    "Consider the `USArrests` data. We will now perform hierarchical clustering on the states."
   ]
  },
  {
   "cell_type": "markdown",
   "metadata": {
    "application/vnd.databricks.v1+cell": {
     "cellMetadata": {
      "byteLimit": 2048000,
      "rowLimit": 10000
     },
     "inputWidgets": {},
     "nuid": "b9cfc051-7990-44b3-a043-f84aabb532a6",
     "showTitle": false,
     "title": ""
    }
   },
   "source": [
    "## Preprocessing"
   ]
  },
  {
   "cell_type": "code",
   "execution_count": 0,
   "metadata": {
    "application/vnd.databricks.v1+cell": {
     "cellMetadata": {
      "byteLimit": 2048000,
      "rowLimit": 10000
     },
     "inputWidgets": {},
     "nuid": "fac0a789-5351-482e-ad2d-34ad73c46bfb",
     "showTitle": false,
     "title": ""
    }
   },
   "outputs": [],
   "source": [
    "import numpy as np\n",
    "import pandas as pd"
   ]
  },
  {
   "cell_type": "code",
   "execution_count": 0,
   "metadata": {
    "application/vnd.databricks.v1+cell": {
     "cellMetadata": {
      "byteLimit": 2048000,
      "rowLimit": 10000
     },
     "inputWidgets": {},
     "nuid": "8a7a0f0a-738a-4cf9-828d-56c402a273fc",
     "showTitle": false,
     "title": ""
    }
   },
   "outputs": [],
   "source": [
    "import matplotlib.pyplot as plt\n",
    "import seaborn as sns\n",
    "%matplotlib inline"
   ]
  },
  {
   "cell_type": "code",
   "execution_count": 0,
   "metadata": {
    "application/vnd.databricks.v1+cell": {
     "cellMetadata": {
      "byteLimit": 2048000,
      "rowLimit": 10000
     },
     "inputWidgets": {},
     "nuid": "d76a927d-1e80-4c6e-8319-1daa4475b13f",
     "showTitle": false,
     "title": ""
    }
   },
   "outputs": [],
   "source": [
    "# import and preprocess data\n",
    "url = \"abfss://training@sa8451learningdev.dfs.core.windows.net/interpretable_machine_learning/eml_data/USArrests.csv\"\n",
    "USArrests = spark.read.option(\"header\", \"true\").csv(url).toPandas()\n",
    "USArrests.rename(columns={'_c0': 'Index'}, inplace=True)\n",
    "USArrests.set_index(\"Index\", inplace=True)\n",
    "\n",
    "int_cols = [\"Assault\", \"UrbanPop\"]\n",
    "float_cols = [\"Murder\", \"Rape\"]\n",
    "USArrests[int_cols] = USArrests[int_cols].astype(int)\n",
    "USArrests[float_cols] = USArrests[float_cols].astype(float)"
   ]
  },
  {
   "cell_type": "markdown",
   "metadata": {
    "application/vnd.databricks.v1+cell": {
     "cellMetadata": {
      "byteLimit": 2048000,
      "rowLimit": 10000
     },
     "inputWidgets": {},
     "nuid": "ba92c0c7-30a9-49f0-9adb-94fa9d0ccdf3",
     "showTitle": false,
     "title": ""
    }
   },
   "source": [
    "**a. Using hierarchical clustering with complete linkage and\n",
    "Euclidean distance, cluster the states.**"
   ]
  },
  {
   "cell_type": "code",
   "execution_count": 0,
   "metadata": {
    "application/vnd.databricks.v1+cell": {
     "cellMetadata": {
      "byteLimit": 2048000,
      "rowLimit": 10000
     },
     "inputWidgets": {},
     "nuid": "93bb6efe-f120-4f6e-9511-73ef27a84c89",
     "showTitle": false,
     "title": ""
    }
   },
   "outputs": [],
   "source": [
    "from scipy.cluster.hierarchy import linkage, dendrogram, cut_tree"
   ]
  },
  {
   "cell_type": "code",
   "execution_count": 0,
   "metadata": {
    "application/vnd.databricks.v1+cell": {
     "cellMetadata": {
      "byteLimit": 2048000,
      "rowLimit": 10000
     },
     "inputWidgets": {},
     "nuid": "8b685029-6dee-4272-ac5a-74d8e0e0de8a",
     "showTitle": false,
     "title": ""
    }
   },
   "outputs": [],
   "source": [
    "hc_complete = linkage(y=USArrests, method='complete', metric='euclidean')"
   ]
  },
  {
   "cell_type": "code",
   "execution_count": 0,
   "metadata": {
    "application/vnd.databricks.v1+cell": {
     "cellMetadata": {
      "byteLimit": 2048000,
      "rowLimit": 10000
     },
     "inputWidgets": {},
     "nuid": "de3835f4-e2f4-46cb-92a9-988c0c0706b3",
     "showTitle": false,
     "title": ""
    }
   },
   "outputs": [],
   "source": [
    "plt.xkcd()\n",
    "plt.figure(figsize=(25, 10))\n",
    "plt.title('complete linkage', fontsize=30, color='m')\n",
    "plt.xlabel('index', fontsize=20, color='c')\n",
    "plt.ylabel('distance', fontsize=20, color='c')\n",
    "axes = USArrests.index.values\n",
    "dendrogram(hc_complete, leaf_rotation=90., leaf_font_size=15., show_leaf_counts=False, labels=axes)\n",
    "plt.show()"
   ]
  },
  {
   "cell_type": "markdown",
   "metadata": {
    "application/vnd.databricks.v1+cell": {
     "cellMetadata": {
      "byteLimit": 2048000,
      "rowLimit": 10000
     },
     "inputWidgets": {},
     "nuid": "96ba25ab-3838-41a3-8251-34e80b2b92bb",
     "showTitle": false,
     "title": ""
    }
   },
   "source": [
    "**b.  Cut the dendrogram at a height that results in three distinct\n",
    "clusters. Which states belong to which clusters?**"
   ]
  },
  {
   "cell_type": "code",
   "execution_count": 0,
   "metadata": {
    "application/vnd.databricks.v1+cell": {
     "cellMetadata": {
      "byteLimit": 2048000,
      "rowLimit": 10000
     },
     "inputWidgets": {},
     "nuid": "5310e8f0-7887-43f3-99f5-dbbd8444b56b",
     "showTitle": false,
     "title": ""
    }
   },
   "outputs": [],
   "source": [
    "hc_cut3 = pd.DataFrame(cut_tree(hc_complete, n_clusters=3))\n",
    "hc_cut3.columns = ['cluster']\n",
    "hc_cut3.index = USArrests.index\n",
    "hc_cut3.head()"
   ]
  },
  {
   "cell_type": "code",
   "execution_count": 0,
   "metadata": {
    "application/vnd.databricks.v1+cell": {
     "cellMetadata": {
      "byteLimit": 2048000,
      "rowLimit": 10000
     },
     "inputWidgets": {},
     "nuid": "17880137-6d65-45e3-9a70-f3bb04cb7f31",
     "showTitle": false,
     "title": ""
    }
   },
   "outputs": [],
   "source": [
    "hc_complete_3 = linkage(y=hc_cut3, method='complete', metric='euclidean')"
   ]
  },
  {
   "cell_type": "code",
   "execution_count": 0,
   "metadata": {
    "application/vnd.databricks.v1+cell": {
     "cellMetadata": {
      "byteLimit": 2048000,
      "rowLimit": 10000
     },
     "inputWidgets": {},
     "nuid": "3ce486ce-729a-4b4e-adcf-4e0fc0331163",
     "showTitle": false,
     "title": ""
    }
   },
   "outputs": [],
   "source": [
    "plt.xkcd()\n",
    "plt.figure(figsize=(25, 10))\n",
    "plt.title('complete linkage', fontsize=30, color='m')\n",
    "plt.xlabel('index', fontsize=20, color='c')\n",
    "plt.ylabel('distance', fontsize=20, color='c')\n",
    "axes = USArrests.index.values\n",
    "dendrogram(hc_complete_3, leaf_rotation=90., leaf_font_size=15., show_leaf_counts=False, labels=axes)\n",
    "plt.show()"
   ]
  },
  {
   "cell_type": "markdown",
   "metadata": {
    "application/vnd.databricks.v1+cell": {
     "cellMetadata": {
      "byteLimit": 2048000,
      "rowLimit": 10000
     },
     "inputWidgets": {},
     "nuid": "51c20947-bafb-4ec4-85ce-ea46148a16c8",
     "showTitle": false,
     "title": ""
    }
   },
   "source": [
    "**c. Hierarchically cluster the states using complete linkage and Euclidean distance, after scaling the variables to have standard deviation one.**"
   ]
  },
  {
   "cell_type": "code",
   "execution_count": 0,
   "metadata": {
    "application/vnd.databricks.v1+cell": {
     "cellMetadata": {
      "byteLimit": 2048000,
      "rowLimit": 10000
     },
     "inputWidgets": {},
     "nuid": "e10c1c5a-064c-4020-95eb-539de673cc28",
     "showTitle": false,
     "title": ""
    }
   },
   "outputs": [],
   "source": [
    "import warnings\n",
    "warnings.filterwarnings('ignore')\n",
    "from sklearn.preprocessing import scale"
   ]
  },
  {
   "cell_type": "code",
   "execution_count": 0,
   "metadata": {
    "application/vnd.databricks.v1+cell": {
     "cellMetadata": {
      "byteLimit": 2048000,
      "rowLimit": 10000
     },
     "inputWidgets": {},
     "nuid": "c26f9ec5-5eb0-4223-8206-f63426aaeb4a",
     "showTitle": false,
     "title": ""
    }
   },
   "outputs": [],
   "source": [
    "df = pd.DataFrame(scale(USArrests))\n",
    "df.describe()"
   ]
  },
  {
   "cell_type": "code",
   "execution_count": 0,
   "metadata": {
    "application/vnd.databricks.v1+cell": {
     "cellMetadata": {
      "byteLimit": 2048000,
      "rowLimit": 10000
     },
     "inputWidgets": {},
     "nuid": "70b89bd9-970c-4246-b13d-9ae375c62f1b",
     "showTitle": false,
     "title": ""
    }
   },
   "outputs": [],
   "source": [
    "hc_complete_scaled = linkage(y=df, method='complete', metric='euclidean')"
   ]
  },
  {
   "cell_type": "code",
   "execution_count": 0,
   "metadata": {
    "application/vnd.databricks.v1+cell": {
     "cellMetadata": {
      "byteLimit": 2048000,
      "rowLimit": 10000
     },
     "inputWidgets": {},
     "nuid": "99feee2a-2737-4afb-8202-44912c2ee105",
     "showTitle": false,
     "title": ""
    }
   },
   "outputs": [],
   "source": [
    "plt.xkcd()\n",
    "plt.figure(figsize=(25, 10))\n",
    "plt.title('complete linkage', fontsize=30, color='m')\n",
    "plt.xlabel('index', fontsize=20, color='c')\n",
    "plt.ylabel('distance', fontsize=20, color='c')\n",
    "axes = USArrests.index.values\n",
    "dendrogram(hc_complete_scaled, leaf_rotation=90., leaf_font_size=15., show_leaf_counts=False, labels=axes)\n",
    "plt.show()"
   ]
  },
  {
   "cell_type": "code",
   "execution_count": 0,
   "metadata": {
    "application/vnd.databricks.v1+cell": {
     "cellMetadata": {
      "byteLimit": 2048000,
      "rowLimit": 10000
     },
     "inputWidgets": {},
     "nuid": "efa7f28d-78d9-4af0-bbd5-513d91c21712",
     "showTitle": false,
     "title": ""
    }
   },
   "outputs": [],
   "source": [
    "hc_cut3_scaled = pd.DataFrame(cut_tree(hc_complete_scaled, n_clusters=3))\n",
    "hc_cut3_scaled.columns = ['cluster']\n",
    "hc_cut3_scaled.index = USArrests.index\n",
    "hc_cut3_scaled.head()"
   ]
  },
  {
   "cell_type": "code",
   "execution_count": 0,
   "metadata": {
    "application/vnd.databricks.v1+cell": {
     "cellMetadata": {
      "byteLimit": 2048000,
      "rowLimit": 10000
     },
     "inputWidgets": {},
     "nuid": "b5ad3bb5-9c08-4b75-9a6f-703500bb7e1b",
     "showTitle": false,
     "title": ""
    }
   },
   "outputs": [],
   "source": [
    "hc_complete_3_scaled = linkage(y=hc_cut3_scaled, method='complete', metric='euclidean')"
   ]
  },
  {
   "cell_type": "code",
   "execution_count": 0,
   "metadata": {
    "application/vnd.databricks.v1+cell": {
     "cellMetadata": {
      "byteLimit": 2048000,
      "rowLimit": 10000
     },
     "inputWidgets": {},
     "nuid": "95f89a21-cbbc-4104-aa41-5b39ceb1d634",
     "showTitle": false,
     "title": ""
    }
   },
   "outputs": [],
   "source": [
    "plt.xkcd()\n",
    "plt.figure(figsize=(25, 10))\n",
    "plt.title('complete linkage', fontsize=30, color='m')\n",
    "plt.xlabel('index', fontsize=20, color='c')\n",
    "plt.ylabel('distance', fontsize=20, color='c')\n",
    "axes = USArrests.index.values\n",
    "dendrogram(hc_complete_3_scaled, leaf_rotation=90., leaf_font_size=15., show_leaf_counts=False, labels=axes)\n",
    "plt.show()"
   ]
  },
  {
   "cell_type": "markdown",
   "metadata": {
    "application/vnd.databricks.v1+cell": {
     "cellMetadata": {
      "byteLimit": 2048000,
      "rowLimit": 10000
     },
     "inputWidgets": {},
     "nuid": "90ca89d5-e9ad-47a8-bb75-87ea18bc5559",
     "showTitle": false,
     "title": ""
    }
   },
   "source": [
    "**d. What efect does scaling the variables have on the hierarchical\n",
    "clustering obtained? In your opinion, should the variables be\n",
    "scaled before the inter-observation dissimilarities are computed?\n",
    "Provide a justifcation for your answer.**"
   ]
  },
  {
   "cell_type": "markdown",
   "metadata": {
    "application/vnd.databricks.v1+cell": {
     "cellMetadata": {
      "byteLimit": 2048000,
      "rowLimit": 10000
     },
     "inputWidgets": {},
     "nuid": "5160cf77-3ef6-48da-8592-f1e5ad2a32e6",
     "showTitle": false,
     "title": ""
    }
   },
   "source": [
    "*Scaling variables increases the number of clusters and when introducing cuts of 3 clusters, it changes the composition of clusters.<br>Scaling of variables before computing inter-observation dissimilarities are computed is desirable because the metric used to count different features in a data set. E.g. In the `USArrests` data set, `UrbanPop` data is likely to be measured in a different way to `Assault`. So, scaling ensures like data are being compared.*"
   ]
  }
 ],
 "metadata": {
  "application/vnd.databricks.v1+notebook": {
   "dashboards": [],
   "language": "python",
   "notebookMetadata": {
    "pythonIndentUnit": 2
   },
   "notebookName": "Question 9 - answers",
   "widgets": {}
  }
 },
 "nbformat": 4,
 "nbformat_minor": 0
}
