{
 "cells": [
  {
   "cell_type": "markdown",
   "metadata": {
    "application/vnd.databricks.v1+cell": {
     "cellMetadata": {
      "byteLimit": 2048000,
      "rowLimit": 10000
     },
     "inputWidgets": {},
     "nuid": "914059b1-2961-4e5b-92d5-19e52aeb9c34",
     "showTitle": false,
     "title": ""
    }
   },
   "source": [
    "## Preprocessing"
   ]
  },
  {
   "cell_type": "code",
   "execution_count": 0,
   "metadata": {
    "application/vnd.databricks.v1+cell": {
     "cellMetadata": {
      "byteLimit": 2048000,
      "rowLimit": 10000
     },
     "inputWidgets": {},
     "nuid": "17a944e3-0ce6-472b-af55-8fadbf4f463a",
     "showTitle": false,
     "title": ""
    }
   },
   "outputs": [],
   "source": [
    "import numpy as np\n",
    "import pandas as pd"
   ]
  },
  {
   "cell_type": "code",
   "execution_count": 0,
   "metadata": {
    "application/vnd.databricks.v1+cell": {
     "cellMetadata": {
      "byteLimit": 2048000,
      "rowLimit": 10000
     },
     "inputWidgets": {},
     "nuid": "0d96847c-cfcf-463f-b847-d699ecca82e2",
     "showTitle": false,
     "title": ""
    }
   },
   "outputs": [],
   "source": [
    "import matplotlib.pyplot as plt\n",
    "import seaborn as sns\n",
    "%matplotlib inline"
   ]
  },
  {
   "cell_type": "code",
   "execution_count": 0,
   "metadata": {
    "application/vnd.databricks.v1+cell": {
     "cellMetadata": {
      "byteLimit": 2048000,
      "rowLimit": 10000
     },
     "inputWidgets": {},
     "nuid": "3b5978eb-82fb-486b-b9ff-a30f602a4a7f",
     "showTitle": false,
     "title": ""
    }
   },
   "outputs": [],
   "source": [
    "# import and preprocess data\n",
    "url = \"abfss://training@sa8451learningdev.dfs.core.windows.net/interpretable_machine_learning/eml_data/USArrests.csv\"\n",
    "USArrests = spark.read.option(\"header\", \"true\").csv(url).toPandas()\n",
    "USArrests.rename(columns={'_c0': 'Index'}, inplace=True)\n",
    "USArrests.set_index(\"Index\", inplace=True)\n",
    "\n",
    "int_cols = [\"Assault\", \"UrbanPop\"]\n",
    "float_cols = [\"Murder\", \"Rape\"]\n",
    "USArrests[int_cols] = USArrests[int_cols].astype(int)\n",
    "USArrests[float_cols] = USArrests[float_cols].astype(float)"
   ]
  },
  {
   "cell_type": "code",
   "execution_count": 0,
   "metadata": {
    "application/vnd.databricks.v1+cell": {
     "cellMetadata": {
      "byteLimit": 2048000,
      "rowLimit": 10000
     },
     "inputWidgets": {},
     "nuid": "95d9cfd7-b5f5-4c85-aa36-f5fa7933bf7f",
     "showTitle": false,
     "title": ""
    }
   },
   "outputs": [],
   "source": [
    "USArrests.head()"
   ]
  },
  {
   "cell_type": "code",
   "execution_count": 0,
   "metadata": {
    "application/vnd.databricks.v1+cell": {
     "cellMetadata": {
      "byteLimit": 2048000,
      "rowLimit": 10000
     },
     "inputWidgets": {},
     "nuid": "8bc421c0-76ba-4cc5-9e18-1fd4dc746632",
     "showTitle": false,
     "title": ""
    }
   },
   "outputs": [],
   "source": [
    "list(USArrests)"
   ]
  },
  {
   "cell_type": "code",
   "execution_count": 0,
   "metadata": {
    "application/vnd.databricks.v1+cell": {
     "cellMetadata": {
      "byteLimit": 2048000,
      "rowLimit": 10000
     },
     "inputWidgets": {},
     "nuid": "8936bd57-0e5f-41ef-96af-7cbda01a652d",
     "showTitle": false,
     "title": ""
    }
   },
   "outputs": [],
   "source": [
    "USArrests.mean()"
   ]
  },
  {
   "cell_type": "code",
   "execution_count": 0,
   "metadata": {
    "application/vnd.databricks.v1+cell": {
     "cellMetadata": {
      "byteLimit": 2048000,
      "rowLimit": 10000
     },
     "inputWidgets": {},
     "nuid": "0106439c-921b-43e7-bedf-1c0261ef0476",
     "showTitle": false,
     "title": ""
    }
   },
   "outputs": [],
   "source": [
    "USArrests.var()"
   ]
  },
  {
   "cell_type": "markdown",
   "metadata": {
    "application/vnd.databricks.v1+cell": {
     "cellMetadata": {
      "byteLimit": 2048000,
      "rowLimit": 10000
     },
     "inputWidgets": {},
     "nuid": "a7d2af6e-2801-4ef4-9f81-7a73f5846a00",
     "showTitle": false,
     "title": ""
    }
   },
   "source": [
    "### Principal Components Analysis"
   ]
  },
  {
   "cell_type": "code",
   "execution_count": 0,
   "metadata": {
    "application/vnd.databricks.v1+cell": {
     "cellMetadata": {
      "byteLimit": 2048000,
      "rowLimit": 10000
     },
     "inputWidgets": {},
     "nuid": "e0893a75-b06b-4745-b501-bf688968b66d",
     "showTitle": false,
     "title": ""
    }
   },
   "outputs": [],
   "source": [
    "from sklearn.preprocessing import StandardScaler\n",
    "from sklearn.decomposition import PCA"
   ]
  },
  {
   "cell_type": "code",
   "execution_count": 0,
   "metadata": {
    "application/vnd.databricks.v1+cell": {
     "cellMetadata": {
      "byteLimit": 2048000,
      "rowLimit": 10000
     },
     "inputWidgets": {},
     "nuid": "500d02d5-9813-4838-9a23-99adc7753fc2",
     "showTitle": false,
     "title": ""
    }
   },
   "outputs": [],
   "source": [
    "import warnings\n",
    "warnings.filterwarnings('ignore')\n",
    "df = pd.DataFrame(StandardScaler().fit_transform(USArrests))"
   ]
  },
  {
   "cell_type": "code",
   "execution_count": 0,
   "metadata": {
    "application/vnd.databricks.v1+cell": {
     "cellMetadata": {
      "byteLimit": 2048000,
      "rowLimit": 10000
     },
     "inputWidgets": {},
     "nuid": "18949ea9-c194-4909-a896-67b278d2a188",
     "showTitle": false,
     "title": ""
    }
   },
   "outputs": [],
   "source": [
    "df.columns = USArrests.columns\n",
    "df.head()"
   ]
  },
  {
   "cell_type": "code",
   "execution_count": 0,
   "metadata": {
    "application/vnd.databricks.v1+cell": {
     "cellMetadata": {
      "byteLimit": 2048000,
      "rowLimit": 10000
     },
     "inputWidgets": {},
     "nuid": "424ada0a-d16e-4a2c-9f1c-0cea68aa1c08",
     "showTitle": false,
     "title": ""
    }
   },
   "outputs": [],
   "source": [
    "df.info()"
   ]
  },
  {
   "cell_type": "code",
   "execution_count": 0,
   "metadata": {
    "application/vnd.databricks.v1+cell": {
     "cellMetadata": {
      "byteLimit": 2048000,
      "rowLimit": 10000
     },
     "inputWidgets": {},
     "nuid": "27ffb9ff-f439-4c16-90bb-025571af75b7",
     "showTitle": false,
     "title": ""
    }
   },
   "outputs": [],
   "source": [
    "df_mean = pd.DataFrame(df.mean(), columns=['mean'])\n",
    "df_std = pd.DataFrame(df.std(), columns=['standard deviation'])\n",
    "df_moments = pd.concat([df_mean, df_std], axis=1)\n",
    "df_moments"
   ]
  },
  {
   "cell_type": "code",
   "execution_count": 0,
   "metadata": {
    "application/vnd.databricks.v1+cell": {
     "cellMetadata": {
      "byteLimit": 2048000,
      "rowLimit": 10000
     },
     "inputWidgets": {},
     "nuid": "ee7e4e4a-5fa9-4a8a-aef3-fb70095d22cd",
     "showTitle": false,
     "title": ""
    }
   },
   "outputs": [],
   "source": [
    "pca = PCA(n_components=4)\n",
    "pca_data = pca.fit_transform(df)\n",
    "principalDf = pd.DataFrame(data = pca_data, columns = ['PC1', 'PC2', 'PC3', 'PC4'])\n",
    "principalDf.head()"
   ]
  },
  {
   "cell_type": "code",
   "execution_count": 0,
   "metadata": {
    "application/vnd.databricks.v1+cell": {
     "cellMetadata": {
      "byteLimit": 2048000,
      "rowLimit": 10000
     },
     "inputWidgets": {},
     "nuid": "9df4b3b1-d5ff-4351-8877-aead560f53db",
     "showTitle": false,
     "title": ""
    }
   },
   "outputs": [],
   "source": [
    "principalDf.info()"
   ]
  },
  {
   "cell_type": "code",
   "execution_count": 0,
   "metadata": {
    "application/vnd.databricks.v1+cell": {
     "cellMetadata": {
      "byteLimit": 2048000,
      "rowLimit": 10000
     },
     "inputWidgets": {},
     "nuid": "559b90ce-5c55-46c2-8b46-a823af96612f",
     "showTitle": false,
     "title": ""
    }
   },
   "outputs": [],
   "source": [
    "loadings = pca.components_.T\n",
    "loadings_df = pd.DataFrame(loadings, index=df.columns, columns=principalDf.columns)\n",
    "loadings_df"
   ]
  },
  {
   "cell_type": "code",
   "execution_count": 0,
   "metadata": {
    "application/vnd.databricks.v1+cell": {
     "cellMetadata": {
      "byteLimit": 2048000,
      "rowLimit": 10000
     },
     "inputWidgets": {},
     "nuid": "65407e5f-367b-4c68-9185-89d00f8f1b63",
     "showTitle": false,
     "title": ""
    }
   },
   "outputs": [],
   "source": [
    "principalDf.shape"
   ]
  },
  {
   "cell_type": "code",
   "execution_count": 0,
   "metadata": {
    "application/vnd.databricks.v1+cell": {
     "cellMetadata": {
      "byteLimit": 2048000,
      "rowLimit": 10000
     },
     "inputWidgets": {},
     "nuid": "62618dc5-5861-4b44-b7f0-9618736a1085",
     "showTitle": false,
     "title": ""
    }
   },
   "outputs": [],
   "source": [
    "def draw_vector(v0, v1, ax=None):\n",
    "    ax = ax or plt.gca()\n",
    "    arrowprops=dict(arrowstyle='->', linewidth=2, shrinkA=0, shrinkB=0, shrinkC=0, shrinkD=0)\n",
    "    ax.annotate('', v1, v0, arrowprops=arrowprops)"
   ]
  },
  {
   "cell_type": "code",
   "execution_count": 0,
   "metadata": {
    "application/vnd.databricks.v1+cell": {
     "cellMetadata": {
      "byteLimit": 2048000,
      "rowLimit": 10000
     },
     "inputWidgets": {},
     "nuid": "96acd6a5-1f36-4fdf-a61c-ff7524a76e09",
     "showTitle": false,
     "title": ""
    }
   },
   "outputs": [],
   "source": [
    "plt.xkcd()\n",
    "plt.figure(figsize=(25, 10))\n",
    "plt.scatter(principalDf['PC1'], principalDf['PC2'], alpha=0.25, s=200, color='green')\n",
    "plt.title('principal components', fontsize=30, color='m')\n",
    "plt.xlabel('principal component 1', fontsize=20, color='c')\n",
    "plt.ylabel('principal component 2', fontsize=20, color='c')\n",
    "for length, vector in zip(pca.explained_variance_, pca.components_):\n",
    "    v = vector * 2 * np.sqrt(length)\n",
    "    arrow = plt.arrow(0, 0, pca.mean_[0] + v[0], pca.mean_[1] + v[1], label='mylabel', \n",
    "                      width=0.09, facecolor='orange', edgecolor='orange', alpha=0.5, )"
   ]
  },
  {
   "cell_type": "code",
   "execution_count": 0,
   "metadata": {
    "application/vnd.databricks.v1+cell": {
     "cellMetadata": {
      "byteLimit": 2048000,
      "rowLimit": 10000
     },
     "inputWidgets": {},
     "nuid": "db2f6a8d-107a-451f-baa8-959aa94a1307",
     "showTitle": false,
     "title": ""
    }
   },
   "outputs": [],
   "source": [
    "PSTD = np.sqrt(pca.explained_variance_)\n",
    "PSTD"
   ]
  },
  {
   "cell_type": "code",
   "execution_count": 0,
   "metadata": {
    "application/vnd.databricks.v1+cell": {
     "cellMetadata": {
      "byteLimit": 2048000,
      "rowLimit": 10000
     },
     "inputWidgets": {},
     "nuid": "091e147a-dc64-497a-98d5-6f5803893024",
     "showTitle": false,
     "title": ""
    }
   },
   "outputs": [],
   "source": [
    "PEV = pca.explained_variance_\n",
    "PEV"
   ]
  },
  {
   "cell_type": "code",
   "execution_count": 0,
   "metadata": {
    "application/vnd.databricks.v1+cell": {
     "cellMetadata": {
      "byteLimit": 2048000,
      "rowLimit": 10000
     },
     "inputWidgets": {},
     "nuid": "c3c8ad98-00f1-4369-ad6e-f3075b03c358",
     "showTitle": false,
     "title": ""
    }
   },
   "outputs": [],
   "source": [
    "PVE = pca.explained_variance_ratio_\n",
    "PVE"
   ]
  },
  {
   "cell_type": "code",
   "execution_count": 0,
   "metadata": {
    "application/vnd.databricks.v1+cell": {
     "cellMetadata": {
      "byteLimit": 2048000,
      "rowLimit": 10000
     },
     "inputWidgets": {},
     "nuid": "97cc00c9-2bf3-4f35-8350-b1f00f62f89f",
     "showTitle": false,
     "title": ""
    }
   },
   "outputs": [],
   "source": [
    "plt.xkcd()\n",
    "plt.figure(figsize=(25, 10))\n",
    "plt.plot(np.cumsum(PVE), lw=5.0, ls='-.', color='g', marker='o', markersize=15, markerfacecolor='orange')\n",
    "plt.xlabel('principal component', fontsize=20, color='c')\n",
    "plt.ylabel('cumulative proportion of variance explained', fontsize=20, color='c')\n",
    "plt.title('principal components cumulative explained variance', fontsize=30, color='m')"
   ]
  },
  {
   "cell_type": "code",
   "execution_count": 0,
   "metadata": {
    "application/vnd.databricks.v1+cell": {
     "cellMetadata": {
      "byteLimit": 2048000,
      "rowLimit": 10000
     },
     "inputWidgets": {},
     "nuid": "73525421-fa6c-411f-9353-a13aaad7987e",
     "showTitle": false,
     "title": ""
    }
   },
   "outputs": [],
   "source": []
  }
 ],
 "metadata": {
  "application/vnd.databricks.v1+notebook": {
   "dashboards": [],
   "language": "python",
   "notebookMetadata": {
    "pythonIndentUnit": 2
   },
   "notebookName": "12.5.1 Lab 1  - Principal Components Analysis",
   "widgets": {}
  }
 },
 "nbformat": 4,
 "nbformat_minor": 0
}
