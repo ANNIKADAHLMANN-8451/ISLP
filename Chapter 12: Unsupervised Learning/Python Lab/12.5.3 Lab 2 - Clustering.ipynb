{
 "cells": [
  {
   "cell_type": "markdown",
   "metadata": {
    "application/vnd.databricks.v1+cell": {
     "cellMetadata": {
      "byteLimit": 2048000,
      "rowLimit": 10000
     },
     "inputWidgets": {},
     "nuid": "74234351-41e8-4aa5-9561-fb19299185b5",
     "showTitle": false,
     "title": ""
    }
   },
   "source": [
    "## Preprocessing"
   ]
  },
  {
   "cell_type": "code",
   "execution_count": 0,
   "metadata": {
    "application/vnd.databricks.v1+cell": {
     "cellMetadata": {
      "byteLimit": 2048000,
      "rowLimit": 10000
     },
     "inputWidgets": {},
     "nuid": "af2acab6-421b-4e1c-942d-9aa4034fe045",
     "showTitle": false,
     "title": ""
    }
   },
   "outputs": [],
   "source": [
    "import numpy as np\n",
    "import pandas as pd"
   ]
  },
  {
   "cell_type": "code",
   "execution_count": 0,
   "metadata": {
    "application/vnd.databricks.v1+cell": {
     "cellMetadata": {
      "byteLimit": 2048000,
      "rowLimit": 10000
     },
     "inputWidgets": {},
     "nuid": "28eaf75d-9847-47c2-acf3-25eacf434b5f",
     "showTitle": false,
     "title": ""
    }
   },
   "outputs": [],
   "source": [
    "import matplotlib.pyplot as plt\n",
    "import seaborn as sns\n",
    "%matplotlib inline"
   ]
  },
  {
   "cell_type": "code",
   "execution_count": 0,
   "metadata": {
    "application/vnd.databricks.v1+cell": {
     "cellMetadata": {
      "byteLimit": 2048000,
      "rowLimit": 10000
     },
     "inputWidgets": {},
     "nuid": "e3d0aa51-72ee-47c8-b4a5-d1fcf7f848b2",
     "showTitle": false,
     "title": ""
    }
   },
   "outputs": [],
   "source": [
    "np.random.seed(2)\n",
    "x1 = pd.DataFrame(np.random.normal(size=50), columns=['col1'])\n",
    "x2 = pd.DataFrame(np.random.normal(size=50), columns=['col2'])\n",
    "x = pd.concat([x1, x2], axis=1)\n",
    "x"
   ]
  },
  {
   "cell_type": "code",
   "execution_count": 0,
   "metadata": {
    "application/vnd.databricks.v1+cell": {
     "cellMetadata": {
      "byteLimit": 2048000,
      "rowLimit": 10000
     },
     "inputWidgets": {},
     "nuid": "39698ebe-a4a6-44fc-bdbb-9f257ef1fb8e",
     "showTitle": false,
     "title": ""
    }
   },
   "outputs": [],
   "source": [
    "x.col1.iloc[0:24] += 3\n",
    "x.col2.iloc[0:24] -= 4\n",
    "x"
   ]
  },
  {
   "cell_type": "markdown",
   "metadata": {
    "application/vnd.databricks.v1+cell": {
     "cellMetadata": {
      "byteLimit": 2048000,
      "rowLimit": 10000
     },
     "inputWidgets": {},
     "nuid": "2fbc0c13-85d1-4c0b-8956-d0874322be88",
     "showTitle": false,
     "title": ""
    }
   },
   "source": [
    "## 10.5.1 $K$-means clustering"
   ]
  },
  {
   "cell_type": "markdown",
   "metadata": {
    "application/vnd.databricks.v1+cell": {
     "cellMetadata": {
      "byteLimit": 2048000,
      "rowLimit": 10000
     },
     "inputWidgets": {},
     "nuid": "1c4a7ac5-0531-4ab9-8aa2-0a4766d06ab2",
     "showTitle": false,
     "title": ""
    }
   },
   "source": [
    "**$K$=2**"
   ]
  },
  {
   "cell_type": "code",
   "execution_count": 0,
   "metadata": {
    "application/vnd.databricks.v1+cell": {
     "cellMetadata": {
      "byteLimit": 2048000,
      "rowLimit": 10000
     },
     "inputWidgets": {},
     "nuid": "6342b48f-57cd-4ebd-815d-61443945e780",
     "showTitle": false,
     "title": ""
    }
   },
   "outputs": [],
   "source": [
    "from sklearn.cluster import KMeans as KM"
   ]
  },
  {
   "cell_type": "code",
   "execution_count": 0,
   "metadata": {
    "application/vnd.databricks.v1+cell": {
     "cellMetadata": {
      "byteLimit": 2048000,
      "rowLimit": 10000
     },
     "inputWidgets": {},
     "nuid": "39a8839b-3579-4cc7-9eab-d632c9719706",
     "showTitle": false,
     "title": ""
    }
   },
   "outputs": [],
   "source": [
    "km_out = KM(n_clusters=2, n_init=20).fit(x)"
   ]
  },
  {
   "cell_type": "code",
   "execution_count": 0,
   "metadata": {
    "application/vnd.databricks.v1+cell": {
     "cellMetadata": {
      "byteLimit": 2048000,
      "rowLimit": 10000
     },
     "inputWidgets": {},
     "nuid": "fccdcdb1-b565-44da-8c2e-7efc60d5326f",
     "showTitle": false,
     "title": ""
    }
   },
   "outputs": [],
   "source": [
    "km_labels = km_out.labels_\n",
    "km_labels"
   ]
  },
  {
   "cell_type": "code",
   "execution_count": 0,
   "metadata": {
    "application/vnd.databricks.v1+cell": {
     "cellMetadata": {
      "byteLimit": 2048000,
      "rowLimit": 10000
     },
     "inputWidgets": {},
     "nuid": "39fc7413-9b31-41f4-b61b-32d893b2efc9",
     "showTitle": false,
     "title": ""
    }
   },
   "outputs": [],
   "source": [
    "plt.xkcd()\n",
    "plt.figure(figsize=(25, 10))\n",
    "plt.scatter(x.col1[km_labels==0], x.col2[km_labels==0], color='green', s=500, alpha=0.5)\n",
    "plt.scatter(x.col1[km_labels==1], x.col2[km_labels==1], color='orange', s=500, alpha=0.5)\n",
    "plt.xlabel('col1', fontsize=20, color='c')\n",
    "plt.ylabel('col2', fontsize=20, color='c')\n",
    "plt.title('K-means clustering results with K=2', fontsize=30, color='m')"
   ]
  },
  {
   "cell_type": "markdown",
   "metadata": {
    "application/vnd.databricks.v1+cell": {
     "cellMetadata": {
      "byteLimit": 2048000,
      "rowLimit": 10000
     },
     "inputWidgets": {},
     "nuid": "1e23c5a5-d547-4ab2-828c-d68c6e52d5ff",
     "showTitle": false,
     "title": ""
    }
   },
   "source": [
    "**$K$=3**"
   ]
  },
  {
   "cell_type": "code",
   "execution_count": 0,
   "metadata": {
    "application/vnd.databricks.v1+cell": {
     "cellMetadata": {
      "byteLimit": 2048000,
      "rowLimit": 10000
     },
     "inputWidgets": {},
     "nuid": "454d4b58-6e01-4465-869d-3242fbd7ba42",
     "showTitle": false,
     "title": ""
    }
   },
   "outputs": [],
   "source": [
    "np.random.seed(4) # this isn't the same as the seed in R mentioned in book. Nonetheless, I use the same seed here\n",
    "km_out = KM(n_clusters=3, n_init=20).fit(x)\n",
    "km_labels = km_out.labels_\n",
    "km_labels"
   ]
  },
  {
   "cell_type": "code",
   "execution_count": 0,
   "metadata": {
    "application/vnd.databricks.v1+cell": {
     "cellMetadata": {
      "byteLimit": 2048000,
      "rowLimit": 10000
     },
     "inputWidgets": {},
     "nuid": "a8337463-27db-414f-a900-0bfdbfb2df7a",
     "showTitle": false,
     "title": ""
    }
   },
   "outputs": [],
   "source": [
    "plt.xkcd()\n",
    "plt.figure(figsize=(25, 10))\n",
    "plt.scatter(x.col1[km_labels==0], x.col2[km_labels==0], color='green', s=500, alpha=0.5)\n",
    "plt.scatter(x.col1[km_labels==1], x.col2[km_labels==1], color='orange', s=500, alpha=0.5)\n",
    "plt.scatter(x.col1[km_labels==2], x.col2[km_labels==2], color='blue', s=500, alpha=0.5)\n",
    "plt.xlabel('col1', fontsize=20, color='c')\n",
    "plt.ylabel('col2', fontsize=20, color='c')\n",
    "plt.title('K-means clustering results with K=3', fontsize=30, color='m')"
   ]
  },
  {
   "cell_type": "code",
   "execution_count": 0,
   "metadata": {
    "application/vnd.databricks.v1+cell": {
     "cellMetadata": {
      "byteLimit": 2048000,
      "rowLimit": 10000
     },
     "inputWidgets": {},
     "nuid": "cebfcb32-eef8-4c7e-9ac8-12709c2df73b",
     "showTitle": false,
     "title": ""
    }
   },
   "outputs": [],
   "source": [
    "k_cluster_means = pd.DataFrame(km_out.cluster_centers_, columns=['col1', 'col2'])\n",
    "k_cluster_means"
   ]
  },
  {
   "cell_type": "markdown",
   "metadata": {
    "application/vnd.databricks.v1+cell": {
     "cellMetadata": {
      "byteLimit": 2048000,
      "rowLimit": 10000
     },
     "inputWidgets": {},
     "nuid": "018e60dd-6a25-4d1b-a63b-73f8fd165d5b",
     "showTitle": false,
     "title": ""
    }
   },
   "source": [
    "## 10.5.2 Hierarchial clustering"
   ]
  },
  {
   "cell_type": "code",
   "execution_count": 0,
   "metadata": {
    "application/vnd.databricks.v1+cell": {
     "cellMetadata": {
      "byteLimit": 2048000,
      "rowLimit": 10000
     },
     "inputWidgets": {},
     "nuid": "def1a2af-a356-4e2a-aa4c-e86b0b07d6b7",
     "showTitle": false,
     "title": ""
    }
   },
   "outputs": [],
   "source": [
    "from scipy.cluster.hierarchy import linkage, dendrogram, cut_tree"
   ]
  },
  {
   "cell_type": "code",
   "execution_count": 0,
   "metadata": {
    "application/vnd.databricks.v1+cell": {
     "cellMetadata": {
      "byteLimit": 2048000,
      "rowLimit": 10000
     },
     "inputWidgets": {},
     "nuid": "bcf97782-855a-4e9d-bb17-d9b817033c60",
     "showTitle": false,
     "title": ""
    }
   },
   "outputs": [],
   "source": [
    "hc_complete = linkage(y=x, method='complete')\n",
    "hc_average = linkage(y=x, method='average')\n",
    "hc_single = linkage(y=x, method='single')"
   ]
  },
  {
   "cell_type": "code",
   "execution_count": 0,
   "metadata": {
    "application/vnd.databricks.v1+cell": {
     "cellMetadata": {
      "byteLimit": 2048000,
      "rowLimit": 10000
     },
     "inputWidgets": {},
     "nuid": "4b2320d0-9dce-4b4c-aeb6-544557827fff",
     "showTitle": false,
     "title": ""
    }
   },
   "outputs": [],
   "source": [
    "plt.xkcd()\n",
    "plt.figure(figsize=(25, 10))\n",
    "plt.title('complete linkage', fontsize=30, color='m')\n",
    "plt.xlabel('index', fontsize=20, color='c')\n",
    "plt.ylabel('distance', fontsize=20, color='c')\n",
    "dendrogram(hc_complete, leaf_rotation=90., leaf_font_size=15., show_leaf_counts=True)\n",
    "plt.show()"
   ]
  },
  {
   "cell_type": "code",
   "execution_count": 0,
   "metadata": {
    "application/vnd.databricks.v1+cell": {
     "cellMetadata": {
      "byteLimit": 2048000,
      "rowLimit": 10000
     },
     "inputWidgets": {},
     "nuid": "2978209e-22c5-4795-95ed-d4f634a61165",
     "showTitle": false,
     "title": ""
    }
   },
   "outputs": [],
   "source": [
    "plt.xkcd()\n",
    "plt.figure(figsize=(25, 10))\n",
    "plt.title('average linkage', fontsize=30, color='m')\n",
    "plt.xlabel('index', fontsize=20, color='c')\n",
    "plt.ylabel('distance', fontsize=20, color='c')\n",
    "dendrogram(hc_average, leaf_rotation=90., leaf_font_size=15., show_leaf_counts=True)\n",
    "plt.show()"
   ]
  },
  {
   "cell_type": "code",
   "execution_count": 0,
   "metadata": {
    "application/vnd.databricks.v1+cell": {
     "cellMetadata": {
      "byteLimit": 2048000,
      "rowLimit": 10000
     },
     "inputWidgets": {},
     "nuid": "91c2c6af-64b8-4a07-abfd-607ed6e0a27c",
     "showTitle": false,
     "title": ""
    }
   },
   "outputs": [],
   "source": [
    "plt.xkcd()\n",
    "plt.figure(figsize=(25, 10))\n",
    "plt.title('single linkage', fontsize=30, color='m')\n",
    "plt.xlabel('index', fontsize=20, color='c')\n",
    "plt.ylabel('distance', fontsize=20, color='c')\n",
    "dendrogram(hc_single, leaf_rotation=90., leaf_font_size=15., show_leaf_counts=True)\n",
    "plt.show()"
   ]
  },
  {
   "cell_type": "code",
   "execution_count": 0,
   "metadata": {
    "application/vnd.databricks.v1+cell": {
     "cellMetadata": {
      "byteLimit": 2048000,
      "rowLimit": 10000
     },
     "inputWidgets": {},
     "nuid": "f83cb4e6-6d24-47c4-9bee-5efbebc67368",
     "showTitle": false,
     "title": ""
    }
   },
   "outputs": [],
   "source": [
    "cut_tree(hc_complete, n_clusters=2).T"
   ]
  },
  {
   "cell_type": "code",
   "execution_count": 0,
   "metadata": {
    "application/vnd.databricks.v1+cell": {
     "cellMetadata": {
      "byteLimit": 2048000,
      "rowLimit": 10000
     },
     "inputWidgets": {},
     "nuid": "62d07e5e-b2f7-4041-88d9-d794105f1a9c",
     "showTitle": false,
     "title": ""
    }
   },
   "outputs": [],
   "source": [
    "cut_tree(hc_average, n_clusters=2).T"
   ]
  },
  {
   "cell_type": "code",
   "execution_count": 0,
   "metadata": {
    "application/vnd.databricks.v1+cell": {
     "cellMetadata": {
      "byteLimit": 2048000,
      "rowLimit": 10000
     },
     "inputWidgets": {},
     "nuid": "ae5f3177-918d-4f49-8476-c7e33b0e60a6",
     "showTitle": false,
     "title": ""
    }
   },
   "outputs": [],
   "source": [
    "cut_tree(hc_single, n_clusters=2).T"
   ]
  },
  {
   "cell_type": "code",
   "execution_count": 0,
   "metadata": {
    "application/vnd.databricks.v1+cell": {
     "cellMetadata": {
      "byteLimit": 2048000,
      "rowLimit": 10000
     },
     "inputWidgets": {},
     "nuid": "903fd07f-a1c9-4d74-91e3-801f625b3089",
     "showTitle": false,
     "title": ""
    }
   },
   "outputs": [],
   "source": [
    "cut_tree(hc_single, n_clusters=4).T"
   ]
  },
  {
   "cell_type": "code",
   "execution_count": 0,
   "metadata": {
    "application/vnd.databricks.v1+cell": {
     "cellMetadata": {
      "byteLimit": 2048000,
      "rowLimit": 10000
     },
     "inputWidgets": {},
     "nuid": "4723075e-3be2-498d-86cc-7fc8c92585ca",
     "showTitle": false,
     "title": ""
    }
   },
   "outputs": [],
   "source": [
    "from sklearn.preprocessing import StandardScaler"
   ]
  },
  {
   "cell_type": "code",
   "execution_count": 0,
   "metadata": {
    "application/vnd.databricks.v1+cell": {
     "cellMetadata": {
      "byteLimit": 2048000,
      "rowLimit": 10000
     },
     "inputWidgets": {},
     "nuid": "b0a7323f-843f-4a45-8014-dfa6994bb0f0",
     "showTitle": false,
     "title": ""
    }
   },
   "outputs": [],
   "source": [
    "xsc = StandardScaler().fit_transform(x)\n",
    "xsc"
   ]
  },
  {
   "cell_type": "code",
   "execution_count": 0,
   "metadata": {
    "application/vnd.databricks.v1+cell": {
     "cellMetadata": {
      "byteLimit": 2048000,
      "rowLimit": 10000
     },
     "inputWidgets": {},
     "nuid": "ca7af806-3e47-4426-8c08-07ed1601d82d",
     "showTitle": false,
     "title": ""
    }
   },
   "outputs": [],
   "source": [
    "hc_complete_xsc = linkage(y=xsc, method='complete')"
   ]
  },
  {
   "cell_type": "code",
   "execution_count": 0,
   "metadata": {
    "application/vnd.databricks.v1+cell": {
     "cellMetadata": {
      "byteLimit": 2048000,
      "rowLimit": 10000
     },
     "inputWidgets": {},
     "nuid": "f723eed8-55f0-4e20-9a76-ba241df05ac2",
     "showTitle": false,
     "title": ""
    }
   },
   "outputs": [],
   "source": [
    "plt.xkcd()\n",
    "plt.figure(figsize=(25, 10))\n",
    "plt.title('complete linkage - scaled data', fontsize=30, color='m')\n",
    "plt.xlabel('index', fontsize=20, color='c')\n",
    "plt.ylabel('distance', fontsize=20, color='c')\n",
    "dendrogram(hc_complete_xsc, leaf_rotation=90., leaf_font_size=15., show_leaf_counts=True)\n",
    "plt.show()"
   ]
  },
  {
   "cell_type": "code",
   "execution_count": 0,
   "metadata": {
    "application/vnd.databricks.v1+cell": {
     "cellMetadata": {
      "byteLimit": 2048000,
      "rowLimit": 10000
     },
     "inputWidgets": {},
     "nuid": "b4a6c1a6-12cc-490d-b7a5-cd4985b4368e",
     "showTitle": false,
     "title": ""
    }
   },
   "outputs": [],
   "source": []
  }
 ],
 "metadata": {
  "application/vnd.databricks.v1+notebook": {
   "dashboards": [],
   "language": "python",
   "notebookMetadata": {
    "pythonIndentUnit": 2
   },
   "notebookName": "12.5.3 Lab 2 - Clustering",
   "widgets": {}
  }
 },
 "nbformat": 4,
 "nbformat_minor": 0
}
