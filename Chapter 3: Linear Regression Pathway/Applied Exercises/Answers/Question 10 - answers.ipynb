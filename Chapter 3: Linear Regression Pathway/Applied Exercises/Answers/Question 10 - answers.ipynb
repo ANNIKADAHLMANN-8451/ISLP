{
 "cells": [
  {
   "cell_type": "markdown",
   "metadata": {
    "application/vnd.databricks.v1+cell": {
     "cellMetadata": {
      "byteLimit": 2048000,
      "rowLimit": 10000
     },
     "inputWidgets": {},
     "nuid": "0197c431-e1a5-4df7-8f16-9ac91233c7d2",
     "showTitle": false,
     "title": ""
    }
   },
   "source": [
    "This question should be answered using the `Carseats` data set."
   ]
  },
  {
   "cell_type": "code",
   "execution_count": 0,
   "metadata": {
    "application/vnd.databricks.v1+cell": {
     "cellMetadata": {
      "byteLimit": 2048000,
      "rowLimit": 10000
     },
     "inputWidgets": {},
     "nuid": "274788ef-cfb6-4180-b74e-2ae3166941f5",
     "showTitle": false,
     "title": ""
    }
   },
   "outputs": [],
   "source": [
    "# import statistical tools\n",
    "import numpy as np\n",
    "import pandas as pd\n",
    "import statsmodels.api as sm\n",
    "from statsmodels.formula.api import ols\n",
    "import scipy.stats as stats"
   ]
  },
  {
   "cell_type": "code",
   "execution_count": 0,
   "metadata": {
    "application/vnd.databricks.v1+cell": {
     "cellMetadata": {
      "byteLimit": 2048000,
      "rowLimit": 10000
     },
     "inputWidgets": {},
     "nuid": "f011372d-695c-4d74-bdd0-4227c3cb6fc1",
     "showTitle": false,
     "title": ""
    }
   },
   "outputs": [],
   "source": [
    "# import data visualisation tools\n",
    "import matplotlib.pyplot as plt\n",
    "import seaborn as sns"
   ]
  },
  {
   "cell_type": "code",
   "execution_count": 0,
   "metadata": {
    "application/vnd.databricks.v1+cell": {
     "cellMetadata": {
      "byteLimit": 2048000,
      "rowLimit": 10000
     },
     "inputWidgets": {},
     "nuid": "2e29e06b-ad25-40ed-8358-c2de46755364",
     "showTitle": false,
     "title": ""
    }
   },
   "outputs": [],
   "source": [
    "# load data; visualisation same as Section 3.6.3\n",
    "url = \"abfss://training@sa8451learningdev.dfs.core.windows.net/interpretable_machine_learning/eml_data/Carseats.csv\"\n",
    "CarSeats = spark.read.option(\"header\", \"true\").csv(url).toPandas()\n",
    "CarSeats.set_index('SlNo', inplace=True)\n",
    "\n",
    "str_cols = [\"ShelveLoc\", \"Urban\", \"US\"]\n",
    "num_cols = [\"Sales\", \"CompPrice\", \"Income\", \"Advertising\", \"Population\", \"Price\", \"Age\", \"Education\"]\n",
    "CarSeats[str_cols] = CarSeats[str_cols].astype(str)\n",
    "CarSeats[num_cols] = CarSeats[num_cols].astype(float)"
   ]
  },
  {
   "cell_type": "code",
   "execution_count": 0,
   "metadata": {
    "application/vnd.databricks.v1+cell": {
     "cellMetadata": {
      "byteLimit": 2048000,
      "rowLimit": 10000
     },
     "inputWidgets": {},
     "nuid": "08da9a98-8783-4529-bc8b-77133fa32593",
     "showTitle": false,
     "title": ""
    }
   },
   "outputs": [],
   "source": [
    "CarSeats.head()"
   ]
  },
  {
   "cell_type": "code",
   "execution_count": 0,
   "metadata": {
    "application/vnd.databricks.v1+cell": {
     "cellMetadata": {
      "byteLimit": 2048000,
      "rowLimit": 10000
     },
     "inputWidgets": {},
     "nuid": "36938ffa-1609-46e3-b1c8-5e57aa60ffb3",
     "showTitle": false,
     "title": ""
    }
   },
   "outputs": [],
   "source": [
    "list(CarSeats)"
   ]
  },
  {
   "cell_type": "code",
   "execution_count": 0,
   "metadata": {
    "application/vnd.databricks.v1+cell": {
     "cellMetadata": {
      "byteLimit": 2048000,
      "rowLimit": 10000
     },
     "inputWidgets": {},
     "nuid": "98da21ec-1f09-4b97-9fca-46d01d87c3bb",
     "showTitle": false,
     "title": ""
    }
   },
   "outputs": [],
   "source": [
    "CarSeats.info()"
   ]
  },
  {
   "cell_type": "markdown",
   "metadata": {
    "application/vnd.databricks.v1+cell": {
     "cellMetadata": {
      "byteLimit": 2048000,
      "rowLimit": 10000
     },
     "inputWidgets": {},
     "nuid": "d387e257-66de-452e-9952-6a931ca911f4",
     "showTitle": false,
     "title": ""
    }
   },
   "source": [
    "**a. Fit a multiple regression model to predict `Sales` using `Price`, `Urban`, and `US`.**"
   ]
  },
  {
   "cell_type": "code",
   "execution_count": 0,
   "metadata": {
    "application/vnd.databricks.v1+cell": {
     "cellMetadata": {
      "byteLimit": 2048000,
      "rowLimit": 10000
     },
     "inputWidgets": {},
     "nuid": "fc65f327-c650-44b9-90b3-af336a859df7",
     "showTitle": false,
     "title": ""
    }
   },
   "outputs": [],
   "source": [
    "reg = ols(formula = 'Sales ~ Price + C(Urban) + C(US)', data = CarSeats).fit() # C prepares categorical data for regression"
   ]
  },
  {
   "cell_type": "code",
   "execution_count": 0,
   "metadata": {
    "application/vnd.databricks.v1+cell": {
     "cellMetadata": {
      "byteLimit": 2048000,
      "rowLimit": 10000
     },
     "inputWidgets": {},
     "nuid": "69e3c65d-b589-4892-a6cd-ddddb1007bc5",
     "showTitle": false,
     "title": ""
    }
   },
   "outputs": [],
   "source": [
    "reg.summary()"
   ]
  },
  {
   "cell_type": "markdown",
   "metadata": {
    "application/vnd.databricks.v1+cell": {
     "cellMetadata": {
      "byteLimit": 2048000,
      "rowLimit": 10000
     },
     "inputWidgets": {},
     "nuid": "167b30e0-74a0-49a3-9fa1-c1f1ffed8780",
     "showTitle": false,
     "title": ""
    }
   },
   "source": [
    "**b. Provide an interpretation of each coefcient in the model. Be careful—some of the variables in the model are qualitative!**"
   ]
  },
  {
   "cell_type": "markdown",
   "metadata": {
    "application/vnd.databricks.v1+cell": {
     "cellMetadata": {
      "byteLimit": 2048000,
      "rowLimit": 10000
     },
     "inputWidgets": {},
     "nuid": "14ab7df8-2114-4fc6-bd38-0fe312f5d888",
     "showTitle": false,
     "title": ""
    }
   },
   "source": [
    "For a unit increase of price ceterus paribus, the sales decrease by 0.0545 units. Likewise, for a unit increase in an urban setting\n",
    "ceterus paribus the sales decrease by 0.219 units. Likewise, for a location in the US a unit increase of another store ceterus paribus\n",
    "increases the sales by 1.2006 units.**"
   ]
  },
  {
   "cell_type": "markdown",
   "metadata": {
    "application/vnd.databricks.v1+cell": {
     "cellMetadata": {
      "byteLimit": 2048000,
      "rowLimit": 10000
     },
     "inputWidgets": {},
     "nuid": "5b7e015f-2255-43ae-8edf-e11dd920f77d",
     "showTitle": false,
     "title": ""
    }
   },
   "source": [
    "**c. Write out the model in equation form, being careful to handle the qualitative variables properly.**"
   ]
  },
  {
   "cell_type": "markdown",
   "metadata": {
    "application/vnd.databricks.v1+cell": {
     "cellMetadata": {
      "byteLimit": 2048000,
      "rowLimit": 10000
     },
     "inputWidgets": {},
     "nuid": "1def3693-9f43-4d07-b85d-44856f5643cf",
     "showTitle": false,
     "title": ""
    }
   },
   "source": [
    "Sales = 13.0435 - 0.0545xPrice - 0.0219 + 1.2006 => Sales = 14.8305 - 0.0545xPrice"
   ]
  },
  {
   "cell_type": "markdown",
   "metadata": {
    "application/vnd.databricks.v1+cell": {
     "cellMetadata": {
      "byteLimit": 2048000,
      "rowLimit": 10000
     },
     "inputWidgets": {},
     "nuid": "d619423f-070c-4231-9813-2d54547803fc",
     "showTitle": false,
     "title": ""
    }
   },
   "source": [
    "**d. For which of the predictors can you reject the null hypothesis?**"
   ]
  },
  {
   "cell_type": "markdown",
   "metadata": {
    "application/vnd.databricks.v1+cell": {
     "cellMetadata": {
      "byteLimit": 2048000,
      "rowLimit": 10000
     },
     "inputWidgets": {},
     "nuid": "d13bed0b-9c1d-4d1c-beeb-24012fcf3965",
     "showTitle": false,
     "title": ""
    }
   },
   "source": [
    "We can reject \"Urban\" predictor, given it's high p-value(0.936)."
   ]
  },
  {
   "cell_type": "markdown",
   "metadata": {
    "application/vnd.databricks.v1+cell": {
     "cellMetadata": {
      "byteLimit": 2048000,
      "rowLimit": 10000
     },
     "inputWidgets": {},
     "nuid": "d3bbfe2e-a267-486b-a187-36cd1a5bb546",
     "showTitle": false,
     "title": ""
    }
   },
   "source": [
    "**e. On the basis of your response to the previous question, fit a smaller model that only uses the predictors for which there is evidence of association with the outcome.**"
   ]
  },
  {
   "cell_type": "code",
   "execution_count": 0,
   "metadata": {
    "application/vnd.databricks.v1+cell": {
     "cellMetadata": {
      "byteLimit": 2048000,
      "rowLimit": 10000
     },
     "inputWidgets": {},
     "nuid": "6b206263-47bd-49c4-8b2e-c7b34d65699c",
     "showTitle": false,
     "title": ""
    }
   },
   "outputs": [],
   "source": [
    "reg_1 = ols(formula = 'Sales ~ Price + C(US)', data = CarSeats).fit()"
   ]
  },
  {
   "cell_type": "code",
   "execution_count": 0,
   "metadata": {
    "application/vnd.databricks.v1+cell": {
     "cellMetadata": {
      "byteLimit": 2048000,
      "rowLimit": 10000
     },
     "inputWidgets": {},
     "nuid": "06a59e6c-17d9-4e5d-b8e2-a985fcbe4f88",
     "showTitle": false,
     "title": ""
    }
   },
   "outputs": [],
   "source": [
    "reg_1.summary()"
   ]
  },
  {
   "cell_type": "code",
   "execution_count": 0,
   "metadata": {
    "application/vnd.databricks.v1+cell": {
     "cellMetadata": {
      "byteLimit": 2048000,
      "rowLimit": 10000
     },
     "inputWidgets": {},
     "nuid": "27e5e135-723e-47a2-805e-6f15973769d4",
     "showTitle": false,
     "title": ""
    }
   },
   "outputs": [],
   "source": [
    "# run predictions\n",
    "predictions_1 = pd.DataFrame(reg_1.predict())\n",
    "residuals_1 = CarSeats['Sales'] - predictions_1[0]"
   ]
  },
  {
   "cell_type": "code",
   "execution_count": 0,
   "metadata": {
    "application/vnd.databricks.v1+cell": {
     "cellMetadata": {
      "byteLimit": 2048000,
      "rowLimit": 10000
     },
     "inputWidgets": {},
     "nuid": "3fc7cc7b-20a9-498c-b001-44d2af69b093",
     "showTitle": false,
     "title": ""
    }
   },
   "outputs": [],
   "source": [
    "plt.xkcd()\n",
    "plt.figure(figsize = (25, 10))\n",
    "sns.distplot(residuals_1) # residuals are normally distributed. Love it!!!\n",
    "plt.title(\"Residual Plot\")"
   ]
  },
  {
   "cell_type": "code",
   "execution_count": 0,
   "metadata": {
    "application/vnd.databricks.v1+cell": {
     "cellMetadata": {
      "byteLimit": 2048000,
      "rowLimit": 10000
     },
     "inputWidgets": {},
     "nuid": "eb428606-0484-4401-89ad-c07b40e43267",
     "showTitle": false,
     "title": ""
    }
   },
   "outputs": [],
   "source": [
    "reg_2 = ols(formula = 'Sales ~ Price + C(US)', data = CarSeats).fit()"
   ]
  },
  {
   "cell_type": "code",
   "execution_count": 0,
   "metadata": {
    "application/vnd.databricks.v1+cell": {
     "cellMetadata": {
      "byteLimit": 2048000,
      "rowLimit": 10000
     },
     "inputWidgets": {},
     "nuid": "29623899-9dd3-4895-ae18-d44e145657f9",
     "showTitle": false,
     "title": ""
    }
   },
   "outputs": [],
   "source": [
    "reg_2.summary()"
   ]
  },
  {
   "cell_type": "code",
   "execution_count": 0,
   "metadata": {
    "application/vnd.databricks.v1+cell": {
     "cellMetadata": {
      "byteLimit": 2048000,
      "rowLimit": 10000
     },
     "inputWidgets": {},
     "nuid": "a7a8f12e-84ee-4935-b57f-ff39f4abed6e",
     "showTitle": false,
     "title": ""
    }
   },
   "outputs": [],
   "source": [
    "predictions_2 = pd.DataFrame(reg_2.predict())\n",
    "residuals_2 = CarSeats['Sales'] - predictions_2[0]"
   ]
  },
  {
   "cell_type": "code",
   "execution_count": 0,
   "metadata": {
    "application/vnd.databricks.v1+cell": {
     "cellMetadata": {
      "byteLimit": 2048000,
      "rowLimit": 10000
     },
     "inputWidgets": {},
     "nuid": "a548c9bf-ab3b-4144-8d51-80e83da527d8",
     "showTitle": false,
     "title": ""
    }
   },
   "outputs": [],
   "source": [
    "plt.xkcd()\n",
    "plt.figure(figsize = (25, 10))\n",
    "sns.distplot(residuals_2, color = 'green') # residuals are normally distributed. Love it!!!\n",
    "plt.title(\"Residual Plot\")"
   ]
  },
  {
   "cell_type": "markdown",
   "metadata": {
    "application/vnd.databricks.v1+cell": {
     "cellMetadata": {
      "byteLimit": 2048000,
      "rowLimit": 10000
     },
     "inputWidgets": {},
     "nuid": "d3be6567-9494-42e6-9ac9-48cb3e1e62d6",
     "showTitle": false,
     "title": ""
    }
   },
   "source": [
    "**f. How well do the models in (a) and (e) ft the data?**"
   ]
  },
  {
   "cell_type": "code",
   "execution_count": 0,
   "metadata": {
    "application/vnd.databricks.v1+cell": {
     "cellMetadata": {
      "byteLimit": 2048000,
      "rowLimit": 10000
     },
     "inputWidgets": {},
     "nuid": "3ab363cd-ec49-4290-b273-3a6ef6c9799b",
     "showTitle": false,
     "title": ""
    }
   },
   "outputs": [],
   "source": [
    "# error calculations\n",
    "Y = CarSeats['Sales']\n",
    "Yhat_1 = predictions_1[0]\n",
    "Yhat_2 = predictions_2[0]"
   ]
  },
  {
   "cell_type": "code",
   "execution_count": 0,
   "metadata": {
    "application/vnd.databricks.v1+cell": {
     "cellMetadata": {
      "byteLimit": 2048000,
      "rowLimit": 10000
     },
     "inputWidgets": {},
     "nuid": "aea03982-8f14-4c2c-a5c7-17bf3c4e18d0",
     "showTitle": false,
     "title": ""
    }
   },
   "outputs": [],
   "source": [
    "from sklearn.metrics import mean_absolute_error, mean_squared_error\n",
    "MAE_1 = mean_absolute_error(Y, Yhat_1)\n",
    "MSE_1 = mean_squared_error(Y, Yhat_1)\n",
    "RMSE_1 = np.sqrt(MSE_1)"
   ]
  },
  {
   "cell_type": "code",
   "execution_count": 0,
   "metadata": {
    "application/vnd.databricks.v1+cell": {
     "cellMetadata": {
      "byteLimit": 2048000,
      "rowLimit": 10000
     },
     "inputWidgets": {},
     "nuid": "7f652b55-99bb-4285-b31d-b1b003ad6913",
     "showTitle": false,
     "title": ""
    }
   },
   "outputs": [],
   "source": [
    "print(\"Model#1 Mean Absolute Error: %f\" % MAE_1)\n",
    "print(\"Model#1 Mean Squared Error : %f\" % MSE_1)\n",
    "print(\"Model#1 Root Mean Squared Error: %f\" % RMSE_1)"
   ]
  },
  {
   "cell_type": "code",
   "execution_count": 0,
   "metadata": {
    "application/vnd.databricks.v1+cell": {
     "cellMetadata": {
      "byteLimit": 2048000,
      "rowLimit": 10000
     },
     "inputWidgets": {},
     "nuid": "4e5f2c10-676e-4877-b74f-75f2d7fb24e4",
     "showTitle": false,
     "title": ""
    }
   },
   "outputs": [],
   "source": [
    "MAE_2 = mean_absolute_error(Y, Yhat_2)\n",
    "MSE_2 = mean_squared_error(Y, Yhat_2)\n",
    "RMSE_2 = np.sqrt(MSE_2)"
   ]
  },
  {
   "cell_type": "code",
   "execution_count": 0,
   "metadata": {
    "application/vnd.databricks.v1+cell": {
     "cellMetadata": {
      "byteLimit": 2048000,
      "rowLimit": 10000
     },
     "inputWidgets": {},
     "nuid": "cd39e7e4-903e-4643-b4ff-68d3df32bc70",
     "showTitle": false,
     "title": ""
    }
   },
   "outputs": [],
   "source": [
    "print(\"Model#1 Mean Absolute Error: %f\" % MAE_2)\n",
    "print(\"Model#1 Mean Squared Error : %f\" % MSE_2)\n",
    "print(\"Model#1 Root Mean Squared Error: %f\" % RMSE_2)"
   ]
  },
  {
   "cell_type": "markdown",
   "metadata": {
    "application/vnd.databricks.v1+cell": {
     "cellMetadata": {
      "byteLimit": 2048000,
      "rowLimit": 10000
     },
     "inputWidgets": {},
     "nuid": "7a1da001-c79c-4b94-833c-7e14f82b990e",
     "showTitle": false,
     "title": ""
    }
   },
   "source": [
    "**g. Using the model from (e), obtain 95 % confdence intervals for the coefcient(s).**"
   ]
  },
  {
   "cell_type": "markdown",
   "metadata": {
    "application/vnd.databricks.v1+cell": {
     "cellMetadata": {
      "byteLimit": 2048000,
      "rowLimit": 10000
     },
     "inputWidgets": {},
     "nuid": "a44b52a8-d733-433f-bd6f-2ce77eaa93aa",
     "showTitle": false,
     "title": ""
    }
   },
   "source": [
    "From the OLS results, these are the 95% confidence intervals:\n",
    "<br>\n",
    "Intercept: (11.790, 14.271)\n",
    "<br>\n",
    "US: (0.692, 1.708)\n",
    "<br>\n",
    "Price: (-0.065, -0.044)"
   ]
  },
  {
   "cell_type": "markdown",
   "metadata": {
    "application/vnd.databricks.v1+cell": {
     "cellMetadata": {
      "byteLimit": 2048000,
      "rowLimit": 10000
     },
     "inputWidgets": {},
     "nuid": "dd9ff00a-3f84-4b5f-a242-422ab3377b50",
     "showTitle": false,
     "title": ""
    }
   },
   "source": [
    "**h. Is there evidence of outliers or high leverage observations in the model from (e)?**"
   ]
  },
  {
   "cell_type": "markdown",
   "metadata": {
    "application/vnd.databricks.v1+cell": {
     "cellMetadata": {
      "byteLimit": 2048000,
      "rowLimit": 10000
     },
     "inputWidgets": {},
     "nuid": "6b01dd4a-6175-4576-b0bd-6734875eda71",
     "showTitle": false,
     "title": ""
    }
   },
   "source": [
    "Create plots and find evidence of outliers and high leverage observations."
   ]
  },
  {
   "cell_type": "code",
   "execution_count": 0,
   "metadata": {
    "application/vnd.databricks.v1+cell": {
     "cellMetadata": {
      "byteLimit": 2048000,
      "rowLimit": 10000
     },
     "inputWidgets": {},
     "nuid": "d86490c7-dd6c-4338-9bad-d5c8cc778f3e",
     "showTitle": false,
     "title": ""
    }
   },
   "outputs": [],
   "source": [
    "# residuals vs fitted plot\n",
    "plt.xkcd()\n",
    "plt.figure(figsize = (25, 10))\n",
    "sns.regplot(Yhat_2, pd.Series(reg_2.resid_pearson), fit_reg = True, color = 'g')\n",
    "plt.title(\"Residuals vs Fitted - Residuals_2\")"
   ]
  },
  {
   "cell_type": "code",
   "execution_count": 0,
   "metadata": {
    "application/vnd.databricks.v1+cell": {
     "cellMetadata": {
      "byteLimit": 2048000,
      "rowLimit": 10000
     },
     "inputWidgets": {},
     "nuid": "d42736a5-92b0-4a7b-9a2c-12337df25ed1",
     "showTitle": false,
     "title": ""
    }
   },
   "outputs": [],
   "source": [
    "# normal q-q plot\n",
    "plt.xkcd()\n",
    "plt.figure(figsize = (25, 10))\n",
    "stats.probplot(residuals_2, plot = plt)\n",
    "plt.title(\"Normal Q-Q Plot - Residuals_2 - v1\")\n",
    "plt.show()"
   ]
  },
  {
   "cell_type": "code",
   "execution_count": 0,
   "metadata": {
    "application/vnd.databricks.v1+cell": {
     "cellMetadata": {
      "byteLimit": 2048000,
      "rowLimit": 10000
     },
     "inputWidgets": {},
     "nuid": "0083e8f7-e421-4f4e-b506-fa7660227bd7",
     "showTitle": false,
     "title": ""
    }
   },
   "outputs": [],
   "source": [
    "plt.xkcd()\n",
    "plt.figure(figsize = (25, 10))\n",
    "sm.qqplot(reg_2.resid_pearson, fit = True, line = 'r') # another way to do it\n",
    "plt.title(\"Normal Q-Q Plot - Residuals_2 - v2\")\n",
    "fig = plt.gcf()\n",
    "fig.set_size_inches(25, 10)\n",
    "plt.show()"
   ]
  },
  {
   "cell_type": "code",
   "execution_count": 0,
   "metadata": {
    "application/vnd.databricks.v1+cell": {
     "cellMetadata": {
      "byteLimit": 2048000,
      "rowLimit": 10000
     },
     "inputWidgets": {},
     "nuid": "7e1015d4-cddf-49bd-8aee-be3a5be9ecde",
     "showTitle": false,
     "title": ""
    }
   },
   "outputs": [],
   "source": [
    "# scale-location plot\n",
    "plt.xkcd()\n",
    "plt.figure(figsize = (25, 10))\n",
    "reg_2_sqrt = pd.Series(np.sqrt(np.abs(reg_2.resid_pearson)))\n",
    "sns.regplot(Yhat_2, reg_2_sqrt, fit_reg = True, color = 'y')\n",
    "plt.title(\"Scale-Location Plot - Residuals_2\")"
   ]
  },
  {
   "cell_type": "code",
   "execution_count": 0,
   "metadata": {
    "application/vnd.databricks.v1+cell": {
     "cellMetadata": {
      "byteLimit": 2048000,
      "rowLimit": 10000
     },
     "inputWidgets": {},
     "nuid": "1feb576c-abad-4076-a904-a59b2d60f7d0",
     "showTitle": false,
     "title": ""
    }
   },
   "outputs": [],
   "source": [
    "# residuals vs leverage plot\n",
    "plt.xkcd()\n",
    "fig = plt.figure(figsize = (25, 10))\n",
    "fig.set_size_inches(30, fig.get_figheight(), forward=True)\n",
    "sm.graphics.influence_plot(reg_2, criterion=\"cooks\", size = 0.0002**2)\n",
    "plt.title(\"Residuals vs Leverage - Residuals_2\")\n",
    "fig = plt.gcf()\n",
    "fig.set_size_inches(25, 10)\n",
    "plt.show()"
   ]
  },
  {
   "cell_type": "markdown",
   "metadata": {
    "application/vnd.databricks.v1+cell": {
     "cellMetadata": {
      "byteLimit": 2048000,
      "rowLimit": 10000
     },
     "inputWidgets": {},
     "nuid": "8453ecb6-993c-4536-a1e9-de6fd9463ae9",
     "showTitle": false,
     "title": ""
    }
   },
   "source": [
    "Yes, there are high leverage points. Point 42 is one such example."
   ]
  },
  {
   "cell_type": "code",
   "execution_count": 0,
   "metadata": {
    "application/vnd.databricks.v1+cell": {
     "cellMetadata": {
      "byteLimit": 2048000,
      "rowLimit": 10000
     },
     "inputWidgets": {},
     "nuid": "cd066caa-0e17-4987-952a-7c298ee8efb6",
     "showTitle": false,
     "title": ""
    }
   },
   "outputs": [],
   "source": []
  }
 ],
 "metadata": {
  "application/vnd.databricks.v1+notebook": {
   "dashboards": [],
   "language": "python",
   "notebookMetadata": {
    "pythonIndentUnit": 2
   },
   "notebookName": "Question 10 - answers",
   "widgets": {}
  }
 },
 "nbformat": 4,
 "nbformat_minor": 0
}
