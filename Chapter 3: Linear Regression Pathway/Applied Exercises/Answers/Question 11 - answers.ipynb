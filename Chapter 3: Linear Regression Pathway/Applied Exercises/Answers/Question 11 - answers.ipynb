{
 "cells": [
  {
   "cell_type": "markdown",
   "metadata": {
    "application/vnd.databricks.v1+cell": {
     "cellMetadata": {
      "byteLimit": 2048000,
      "rowLimit": 10000
     },
     "inputWidgets": {},
     "nuid": "b26d7500-d1c0-4be5-b630-40b5ab775754",
     "showTitle": false,
     "title": ""
    }
   },
   "source": [
    "In this problem we will investigate the t-statistic for the null hypothesis `H0 : β = 0` in simple linear regression without an intercept. To begin, we generate a predictor `x` and a response `y` as follows:"
   ]
  },
  {
   "cell_type": "code",
   "execution_count": 0,
   "metadata": {
    "application/vnd.databricks.v1+cell": {
     "cellMetadata": {
      "byteLimit": 2048000,
      "rowLimit": 10000
     },
     "inputWidgets": {},
     "nuid": "052ece90-fedb-4aa4-904c-7e12f802e0da",
     "showTitle": false,
     "title": ""
    }
   },
   "outputs": [],
   "source": [
    "# general imports\n",
    "import numpy as np\n",
    "import pandas as pd\n",
    "import statsmodels.api as sm\n",
    "from statsmodels.formula.api import ols"
   ]
  },
  {
   "cell_type": "code",
   "execution_count": 0,
   "metadata": {
    "application/vnd.databricks.v1+cell": {
     "cellMetadata": {
      "byteLimit": 2048000,
      "rowLimit": 10000
     },
     "inputWidgets": {},
     "nuid": "7be6685f-ce68-454e-b7ee-7ac21ceaef14",
     "showTitle": false,
     "title": ""
    }
   },
   "outputs": [],
   "source": [
    "# import data visualisation tools\n",
    "import matplotlib.pyplot as plt\n",
    "import seaborn as sns"
   ]
  },
  {
   "cell_type": "code",
   "execution_count": 0,
   "metadata": {
    "application/vnd.databricks.v1+cell": {
     "cellMetadata": {
      "byteLimit": 2048000,
      "rowLimit": 10000
     },
     "inputWidgets": {},
     "nuid": "d1e88c38-19a5-4101-bc16-5b46194d8fe5",
     "showTitle": false,
     "title": ""
    }
   },
   "outputs": [],
   "source": [
    "# set seed\n",
    "np.random.seed(1)\n",
    "x= pd.DataFrame(np.random.normal(0, 1, 100))\n",
    "y = 2*x + pd.DataFrame(np.random.normal(0, 1, 100))"
   ]
  },
  {
   "cell_type": "code",
   "execution_count": 0,
   "metadata": {
    "application/vnd.databricks.v1+cell": {
     "cellMetadata": {
      "byteLimit": 2048000,
      "rowLimit": 10000
     },
     "inputWidgets": {},
     "nuid": "a602ced2-09e2-4c6f-a15c-0c747951f04e",
     "showTitle": false,
     "title": ""
    }
   },
   "outputs": [],
   "source": [
    "data = pd.concat([x,y], axis = 1)"
   ]
  },
  {
   "cell_type": "markdown",
   "metadata": {
    "application/vnd.databricks.v1+cell": {
     "cellMetadata": {
      "byteLimit": 2048000,
      "rowLimit": 10000
     },
     "inputWidgets": {},
     "nuid": "47784a46-a239-4c8d-8d13-e8fac8a5c7a0",
     "showTitle": false,
     "title": ""
    }
   },
   "source": [
    "**a. Perform a simple linear regression of `y` onto `x`, without an intercept. Report the coefcient estimate βˆ, the standard error of this coefcient estimate, and the t-statistic and p-value associated with the null hypothesis H0 : β = 0. Comment on these results. (You can perform regression without an intercept using the keywords argument `intercept=False` to `ModelSpec()`.)**"
   ]
  },
  {
   "cell_type": "code",
   "execution_count": 0,
   "metadata": {
    "application/vnd.databricks.v1+cell": {
     "cellMetadata": {
      "byteLimit": 2048000,
      "rowLimit": 10000
     },
     "inputWidgets": {},
     "nuid": "5d88404f-6275-41b2-903c-835542163ebe",
     "showTitle": false,
     "title": ""
    }
   },
   "outputs": [],
   "source": [
    "reg_1 = ols(\"y~x+0\", data = data).fit()"
   ]
  },
  {
   "cell_type": "code",
   "execution_count": 0,
   "metadata": {
    "application/vnd.databricks.v1+cell": {
     "cellMetadata": {
      "byteLimit": 2048000,
      "rowLimit": 10000
     },
     "inputWidgets": {},
     "nuid": "572c29a8-e876-4a56-9876-d57461e7e84c",
     "showTitle": false,
     "title": ""
    }
   },
   "outputs": [],
   "source": [
    "reg_1.summary()"
   ]
  },
  {
   "cell_type": "markdown",
   "metadata": {
    "application/vnd.databricks.v1+cell": {
     "cellMetadata": {
      "byteLimit": 2048000,
      "rowLimit": 10000
     },
     "inputWidgets": {},
     "nuid": "f0c129e1-75c6-418a-8d58-90bc6b23fded",
     "showTitle": false,
     "title": ""
    }
   },
   "source": [
    "**b. Now perform a simple linear regression of x onto y without an intercept, and report the coefcient estimate, its standard error, and the corresponding t-statistic and p-values associated with the null hypothesis H0 : β = 0. Comment on these results.**"
   ]
  },
  {
   "cell_type": "code",
   "execution_count": 0,
   "metadata": {
    "application/vnd.databricks.v1+cell": {
     "cellMetadata": {
      "byteLimit": 2048000,
      "rowLimit": 10000
     },
     "inputWidgets": {},
     "nuid": "70460cfa-e941-4bd9-8adc-d034557fc9ec",
     "showTitle": false,
     "title": ""
    }
   },
   "outputs": [],
   "source": [
    "reg_2 = ols(\"x~y+0\", data = data).fit()"
   ]
  },
  {
   "cell_type": "code",
   "execution_count": 0,
   "metadata": {
    "application/vnd.databricks.v1+cell": {
     "cellMetadata": {
      "byteLimit": 2048000,
      "rowLimit": 10000
     },
     "inputWidgets": {},
     "nuid": "707de3ff-524d-43c6-8603-bc1b9f2e73d4",
     "showTitle": false,
     "title": ""
    }
   },
   "outputs": [],
   "source": [
    "reg_2.summary()"
   ]
  },
  {
   "cell_type": "markdown",
   "metadata": {
    "application/vnd.databricks.v1+cell": {
     "cellMetadata": {
      "byteLimit": 2048000,
      "rowLimit": 10000
     },
     "inputWidgets": {},
     "nuid": "229c20ca-89ed-482e-8b12-9b772066a7ca",
     "showTitle": false,
     "title": ""
    }
   },
   "source": [
    "**f. Show that when regression is performed with an intercept, the t-statistic for H0 : β1 = 0 is the same for the regression of `y` onto `x` as it is for the regression of `x` onto `y`.**"
   ]
  },
  {
   "cell_type": "code",
   "execution_count": 0,
   "metadata": {
    "application/vnd.databricks.v1+cell": {
     "cellMetadata": {
      "byteLimit": 2048000,
      "rowLimit": 10000
     },
     "inputWidgets": {},
     "nuid": "330c461d-a31a-4c56-9049-72f29a8e4aef",
     "showTitle": false,
     "title": ""
    }
   },
   "outputs": [],
   "source": [
    "reg_3 = ols(\"y~x\", data = data).fit()"
   ]
  },
  {
   "cell_type": "code",
   "execution_count": 0,
   "metadata": {
    "application/vnd.databricks.v1+cell": {
     "cellMetadata": {
      "byteLimit": 2048000,
      "rowLimit": 10000
     },
     "inputWidgets": {},
     "nuid": "bbd1b3f5-0dc8-4f35-b90c-9b5446021457",
     "showTitle": false,
     "title": ""
    }
   },
   "outputs": [],
   "source": [
    "reg_3.summary()"
   ]
  },
  {
   "cell_type": "code",
   "execution_count": 0,
   "metadata": {
    "application/vnd.databricks.v1+cell": {
     "cellMetadata": {
      "byteLimit": 2048000,
      "rowLimit": 10000
     },
     "inputWidgets": {},
     "nuid": "8adacbdd-b2e0-404c-8886-4c4df3a69f28",
     "showTitle": false,
     "title": ""
    }
   },
   "outputs": [],
   "source": [
    "reg_4 = ols(\"x~y\", data = data).fit()"
   ]
  },
  {
   "cell_type": "code",
   "execution_count": 0,
   "metadata": {
    "application/vnd.databricks.v1+cell": {
     "cellMetadata": {
      "byteLimit": 2048000,
      "rowLimit": 10000
     },
     "inputWidgets": {},
     "nuid": "2a749f3a-33f1-4443-bf8e-6d494d753aa4",
     "showTitle": false,
     "title": ""
    }
   },
   "outputs": [],
   "source": [
    "reg_4.summary()"
   ]
  },
  {
   "cell_type": "code",
   "execution_count": 0,
   "metadata": {
    "application/vnd.databricks.v1+cell": {
     "cellMetadata": {
      "byteLimit": 2048000,
      "rowLimit": 10000
     },
     "inputWidgets": {},
     "nuid": "20c4c667-6fbb-4963-849c-bffe1e03c83f",
     "showTitle": false,
     "title": ""
    }
   },
   "outputs": [],
   "source": [
    "plt.xkcd()\n",
    "plt.figure(figsize = (25, 10))\n",
    "sns.regplot(x[0], y[0], data = data)\n",
    "plt.title(\"y~x\")\n",
    "plt.xlabel(\"x\")\n",
    "plt.ylabel(\"y\")\n",
    "plt.show()"
   ]
  },
  {
   "cell_type": "code",
   "execution_count": 0,
   "metadata": {
    "application/vnd.databricks.v1+cell": {
     "cellMetadata": {
      "byteLimit": 2048000,
      "rowLimit": 10000
     },
     "inputWidgets": {},
     "nuid": "3fd2d7c6-8686-4001-91fd-a8f920a38c1c",
     "showTitle": false,
     "title": ""
    }
   },
   "outputs": [],
   "source": [
    "plt.xkcd()\n",
    "plt.figure(figsize = (25, 10))\n",
    "sns.regplot(y[0], x[0], data = data)\n",
    "plt.title(\"x~y\")\n",
    "plt.xlabel(\"y\")\n",
    "plt.ylabel(\"x\")\n",
    "plt.show()"
   ]
  }
 ],
 "metadata": {
  "application/vnd.databricks.v1+notebook": {
   "dashboards": [],
   "language": "python",
   "notebookMetadata": {
    "pythonIndentUnit": 2
   },
   "notebookName": "Question 11 - answers",
   "widgets": {}
  }
 },
 "nbformat": 4,
 "nbformat_minor": 0
}
