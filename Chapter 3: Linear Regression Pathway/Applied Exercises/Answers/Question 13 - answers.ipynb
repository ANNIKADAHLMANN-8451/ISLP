{
 "cells": [
  {
   "cell_type": "markdown",
   "metadata": {
    "application/vnd.databricks.v1+cell": {
     "cellMetadata": {
      "byteLimit": 2048000,
      "rowLimit": 10000
     },
     "inputWidgets": {},
     "nuid": "e48abd37-3b5f-406f-9613-cca0cd5a9858",
     "showTitle": false,
     "title": ""
    }
   },
   "source": [
    "In this exercise you will create some simulated data and will fit simple linear regression models to it. Make sure to use the default random number generator with seed set to 1 prior to starting part (a) to ensure consistent results."
   ]
  },
  {
   "cell_type": "code",
   "execution_count": 0,
   "metadata": {
    "application/vnd.databricks.v1+cell": {
     "cellMetadata": {
      "byteLimit": 2048000,
      "rowLimit": 10000
     },
     "inputWidgets": {},
     "nuid": "095d6870-29bf-44e4-915e-7c4d1e4e2504",
     "showTitle": false,
     "title": ""
    }
   },
   "outputs": [],
   "source": [
    "# general imports\n",
    "import numpy as np\n",
    "import pandas as pd\n",
    "from statsmodels.formula.api import ols"
   ]
  },
  {
   "cell_type": "code",
   "execution_count": 0,
   "metadata": {
    "application/vnd.databricks.v1+cell": {
     "cellMetadata": {
      "byteLimit": 2048000,
      "rowLimit": 10000
     },
     "inputWidgets": {},
     "nuid": "c26f385a-0ff1-4313-bb27-8fecc28780b4",
     "showTitle": false,
     "title": ""
    }
   },
   "outputs": [],
   "source": [
    "# import data visualisation tools\n",
    "import matplotlib.pyplot as plt\n",
    "import seaborn as sns"
   ]
  },
  {
   "cell_type": "markdown",
   "metadata": {
    "application/vnd.databricks.v1+cell": {
     "cellMetadata": {
      "byteLimit": 2048000,
      "rowLimit": 10000
     },
     "inputWidgets": {},
     "nuid": "e26440c8-e731-4b99-b0a3-58affe33a0f8",
     "showTitle": false,
     "title": ""
    }
   },
   "source": [
    "**a. Using the `standard_normal()` method of your random number generator, create a vector, `x`, containing 100 observations drawn from a N(0, 1) distribution. This represents a feature, X.**"
   ]
  },
  {
   "cell_type": "code",
   "execution_count": 0,
   "metadata": {
    "application/vnd.databricks.v1+cell": {
     "cellMetadata": {
      "byteLimit": 2048000,
      "rowLimit": 10000
     },
     "inputWidgets": {},
     "nuid": "c81a41d3-f208-4532-8e2b-243eeda6f104",
     "showTitle": false,
     "title": ""
    }
   },
   "outputs": [],
   "source": [
    "x = np.random.standard_normal(100)\n",
    "plt.figure(figsize = (25, 10))\n",
    "sns.distplot(x, color = 'g')\n",
    "plt.title(\"x ~ N(0,1)\")"
   ]
  },
  {
   "cell_type": "markdown",
   "metadata": {
    "application/vnd.databricks.v1+cell": {
     "cellMetadata": {
      "byteLimit": 2048000,
      "rowLimit": 10000
     },
     "inputWidgets": {},
     "nuid": "4bbfc0a6-2560-4adc-ac6b-388adc9d6dd6",
     "showTitle": false,
     "title": ""
    }
   },
   "source": [
    "**b. Using the `normal()` method, create a vector, `eps`, containing 100 observations drawn from a N(0, 0.25) distribution —a normal distribution with mean zero and variance 0.25.**"
   ]
  },
  {
   "cell_type": "code",
   "execution_count": 0,
   "metadata": {
    "application/vnd.databricks.v1+cell": {
     "cellMetadata": {
      "byteLimit": 2048000,
      "rowLimit": 10000
     },
     "inputWidgets": {},
     "nuid": "84d24f5e-6226-43e8-9116-17655318c613",
     "showTitle": false,
     "title": ""
    }
   },
   "outputs": [],
   "source": [
    "eps = np.random.normal(0, 0.25, 100)\n",
    "plt.figure(figsize = (25, 10))\n",
    "sns.distplot(eps, color = 'y')\n",
    "plt.title(\"eps ~ N(0,0.25)\")"
   ]
  },
  {
   "cell_type": "markdown",
   "metadata": {
    "application/vnd.databricks.v1+cell": {
     "cellMetadata": {
      "byteLimit": 2048000,
      "rowLimit": 10000
     },
     "inputWidgets": {},
     "nuid": "8f47ba73-8657-498a-af28-fe10ac31df22",
     "showTitle": false,
     "title": ""
    }
   },
   "source": [
    "**c. Using `x` and `eps`, generate a vector `y` according to the model**\n",
    "<br>\n",
    "<br>\n",
    "Y = −1+0.5X + \". (3.39)\n",
    "\n",
    "**What is the length of the vector `y`? What are the values of β0 and β1 in this linear model?**"
   ]
  },
  {
   "cell_type": "code",
   "execution_count": 0,
   "metadata": {
    "application/vnd.databricks.v1+cell": {
     "cellMetadata": {
      "byteLimit": 2048000,
      "rowLimit": 10000
     },
     "inputWidgets": {},
     "nuid": "2b1f2862-65bb-49e3-8f6b-e33b820f74b5",
     "showTitle": false,
     "title": ""
    }
   },
   "outputs": [],
   "source": [
    "y = -1 + (0.5*x) + eps\n",
    "print(\"Length of vector y: \", len(y))\n",
    "print(\"Beta_0: \", -1.0)\n",
    "print(\"Beta_1: \", 0.5)"
   ]
  },
  {
   "cell_type": "markdown",
   "metadata": {
    "application/vnd.databricks.v1+cell": {
     "cellMetadata": {
      "byteLimit": 2048000,
      "rowLimit": 10000
     },
     "inputWidgets": {},
     "nuid": "c7e7f305-8714-4756-9940-46ccf4c4400b",
     "showTitle": false,
     "title": ""
    }
   },
   "source": [
    "**d. Create a scatterplot displaying the relationship between `x` and `y`. Comment on what you observe.**"
   ]
  },
  {
   "cell_type": "code",
   "execution_count": 0,
   "metadata": {
    "application/vnd.databricks.v1+cell": {
     "cellMetadata": {
      "byteLimit": 2048000,
      "rowLimit": 10000
     },
     "inputWidgets": {},
     "nuid": "dfc303cd-21af-42b7-96d7-dbdbb7992523",
     "showTitle": false,
     "title": ""
    }
   },
   "outputs": [],
   "source": [
    "plt.figure(figsize = (25, 10))\n",
    "plt.scatter(y, x)\n",
    "plt.title(\"xy-scatterplot\")\n",
    "plt.xlabel(\"x\")\n",
    "plt.ylabel(\"y\")"
   ]
  },
  {
   "cell_type": "markdown",
   "metadata": {
    "application/vnd.databricks.v1+cell": {
     "cellMetadata": {
      "byteLimit": 2048000,
      "rowLimit": 10000
     },
     "inputWidgets": {},
     "nuid": "cf4944f5-8a9c-4a8d-8a45-01432d4dc576",
     "showTitle": false,
     "title": ""
    }
   },
   "source": [
    "Observation: linear relationship between x and y with a positive slope."
   ]
  },
  {
   "cell_type": "markdown",
   "metadata": {
    "application/vnd.databricks.v1+cell": {
     "cellMetadata": {
      "byteLimit": 2048000,
      "rowLimit": 10000
     },
     "inputWidgets": {},
     "nuid": "3d1857e7-6f41-4149-a92e-5c0e2ba213dd",
     "showTitle": false,
     "title": ""
    }
   },
   "source": [
    "**e. Fit a least squares linear model to predict `y` using `x`. Comment on the model obtained. How do βˆ0 and βˆ1 compare to β0 and β1?**"
   ]
  },
  {
   "cell_type": "code",
   "execution_count": 0,
   "metadata": {
    "application/vnd.databricks.v1+cell": {
     "cellMetadata": {
      "byteLimit": 2048000,
      "rowLimit": 10000
     },
     "inputWidgets": {},
     "nuid": "6dc09a0e-971e-49fc-a18e-a39d1f70e00c",
     "showTitle": false,
     "title": ""
    }
   },
   "outputs": [],
   "source": [
    "data = pd.concat([pd.DataFrame(x), pd.DataFrame(y)], axis = 1)\n",
    "data.columns = ['x', 'y']\n",
    "reg_1 = ols(\"y~x\", data = data).fit()"
   ]
  },
  {
   "cell_type": "code",
   "execution_count": 0,
   "metadata": {
    "application/vnd.databricks.v1+cell": {
     "cellMetadata": {
      "byteLimit": 2048000,
      "rowLimit": 10000
     },
     "inputWidgets": {},
     "nuid": "a95aaf6e-b938-4ea0-95d6-f6a56a43ba1a",
     "showTitle": false,
     "title": ""
    }
   },
   "outputs": [],
   "source": [
    "reg_1.summary()"
   ]
  },
  {
   "cell_type": "code",
   "execution_count": 0,
   "metadata": {
    "application/vnd.databricks.v1+cell": {
     "cellMetadata": {
      "byteLimit": 2048000,
      "rowLimit": 10000
     },
     "inputWidgets": {},
     "nuid": "c0856b7d-bdcc-47ef-b36b-ce34c7d34c87",
     "showTitle": false,
     "title": ""
    }
   },
   "outputs": [],
   "source": [
    "print(\"Beta_hat_0: %f\" % reg_1.params[0])\n",
    "print(\"Beta_hat_1: %f\" % reg_1.params[1])"
   ]
  },
  {
   "cell_type": "code",
   "execution_count": 0,
   "metadata": {
    "application/vnd.databricks.v1+cell": {
     "cellMetadata": {
      "byteLimit": 2048000,
      "rowLimit": 10000
     },
     "inputWidgets": {},
     "nuid": "ddd78bf0-fead-473a-932f-487eee50792a",
     "showTitle": false,
     "title": ""
    }
   },
   "outputs": [],
   "source": [
    "print(\"Difference in Beta_0: \", -1.0 - reg_1.params[0])\n",
    "print(\"Difference in Beta_1: \", 0.5 - reg_1.params[1])"
   ]
  },
  {
   "cell_type": "markdown",
   "metadata": {
    "application/vnd.databricks.v1+cell": {
     "cellMetadata": {
      "byteLimit": 2048000,
      "rowLimit": 10000
     },
     "inputWidgets": {},
     "nuid": "d38a19df-77b9-4540-a8f6-59748e19da45",
     "showTitle": false,
     "title": ""
    }
   },
   "source": [
    "**f. Display the least squares line on the scatterplot obtained in (d). Draw the population regression line on the plot, in a diferent color. Use the `plt.legend()` method of the axes to create an appropriate legend.**"
   ]
  },
  {
   "cell_type": "code",
   "execution_count": 0,
   "metadata": {
    "application/vnd.databricks.v1+cell": {
     "cellMetadata": {
      "byteLimit": 2048000,
      "rowLimit": 10000
     },
     "inputWidgets": {},
     "nuid": "4fffd2ce-911e-42c8-8eff-3db56d68eb83",
     "showTitle": false,
     "title": ""
    }
   },
   "outputs": [],
   "source": [
    "plt.figure(figsize = (25, 10))\n",
    "reg_plot = sns.regplot(pd.Series(x), pd.Series(y), data = data)\n",
    "regline = reg_plot.get_lines()[0]\n",
    "regline.set_color('green')\n",
    "plt.title(\"xy-regression_plot\")\n",
    "plt.xlabel(\"x\")\n",
    "plt.ylabel(\"y\")\n",
    "labels = ['x', 'y']\n",
    "plt.legend(labels)"
   ]
  },
  {
   "cell_type": "markdown",
   "metadata": {
    "application/vnd.databricks.v1+cell": {
     "cellMetadata": {
      "byteLimit": 2048000,
      "rowLimit": 10000
     },
     "inputWidgets": {},
     "nuid": "38595f4d-aa00-445e-afda-eac9c4895a5c",
     "showTitle": false,
     "title": ""
    }
   },
   "source": [
    "**g. Now fit a polynomial regression model that predicts `y` using `x` and `x^2`. Is there evidence that the quadratic term improves the model fit? Explain your answer.**"
   ]
  },
  {
   "cell_type": "code",
   "execution_count": 0,
   "metadata": {
    "application/vnd.databricks.v1+cell": {
     "cellMetadata": {
      "byteLimit": 2048000,
      "rowLimit": 10000
     },
     "inputWidgets": {},
     "nuid": "f3d86746-0e89-4303-88a5-9b75a4e92528",
     "showTitle": false,
     "title": ""
    }
   },
   "outputs": [],
   "source": [
    "reg_2 = ols(\"y~x+I(pow(x, 2))\", data = data).fit()\n",
    "f2 = np.poly1d(np.polyfit(x, y, 2))\n",
    "print(\"y = \", f2)"
   ]
  },
  {
   "cell_type": "code",
   "execution_count": 0,
   "metadata": {
    "application/vnd.databricks.v1+cell": {
     "cellMetadata": {
      "byteLimit": 2048000,
      "rowLimit": 10000
     },
     "inputWidgets": {},
     "nuid": "704c649f-f3a5-4d63-b0ed-ca4c70fd0577",
     "showTitle": false,
     "title": ""
    }
   },
   "outputs": [],
   "source": [
    "reg_2.summary()"
   ]
  },
  {
   "cell_type": "code",
   "execution_count": 0,
   "metadata": {
    "application/vnd.databricks.v1+cell": {
     "cellMetadata": {
      "byteLimit": 2048000,
      "rowLimit": 10000
     },
     "inputWidgets": {},
     "nuid": "b8a02728-06b1-496c-bc52-69ae33dccc34",
     "showTitle": false,
     "title": ""
    }
   },
   "outputs": [],
   "source": [
    "RMSE_1 = np.sqrt(reg_1.mse_model) # root mean squared error of the first regression model\n",
    "RMSE_2 = np.sqrt(reg_2.mse_model) # root mean squared error of the first regression model\n",
    "print(\"RMSE_1:\", RMSE_1) # this value in the range ~ 5.0\n",
    "print(\"RMSE_2:\", RMSE_2) # this value in the range of ~ 3.5"
   ]
  },
  {
   "cell_type": "markdown",
   "metadata": {
    "application/vnd.databricks.v1+cell": {
     "cellMetadata": {
      "byteLimit": 2048000,
      "rowLimit": 10000
     },
     "inputWidgets": {},
     "nuid": "1f496edc-7093-4208-a823-af5e888b0d09",
     "showTitle": false,
     "title": ""
    }
   },
   "source": [
    "Observation: There is not much to choose between the two models given their R^2. Given that\n",
    "RMSE_2 is lower than RMSE_1 in general, this suggests the polynomial\n",
    "model fits the data better. This is because it is able to fit the non-linear\n",
    "nature of the true model better."
   ]
  },
  {
   "cell_type": "markdown",
   "metadata": {
    "application/vnd.databricks.v1+cell": {
     "cellMetadata": {
      "byteLimit": 2048000,
      "rowLimit": 10000
     },
     "inputWidgets": {},
     "nuid": "4e0b94d1-b55b-4490-866c-a68ab3aab1fe",
     "showTitle": false,
     "title": ""
    }
   },
   "source": [
    "**h. Repeat (a)–(f) after modifying the data generation process in such a way that there is less noise in the data. The model should remain the same. You can do this by decreasing the variance of the normal distribution used to generate the error term _eps_ in (b). Describe your results.**"
   ]
  },
  {
   "cell_type": "code",
   "execution_count": 0,
   "metadata": {
    "application/vnd.databricks.v1+cell": {
     "cellMetadata": {
      "byteLimit": 2048000,
      "rowLimit": 10000
     },
     "inputWidgets": {},
     "nuid": "b9ba1a13-2a68-4f48-9d01-33e0bd802b62",
     "showTitle": false,
     "title": ""
    }
   },
   "outputs": [],
   "source": [
    "eps_r = eps/4 # the _r connotes \"reduced\"\n",
    "y_r = -1 + (0.5*x) + eps_r"
   ]
  },
  {
   "cell_type": "code",
   "execution_count": 0,
   "metadata": {
    "application/vnd.databricks.v1+cell": {
     "cellMetadata": {
      "byteLimit": 2048000,
      "rowLimit": 10000
     },
     "inputWidgets": {},
     "nuid": "e98e66a8-1d57-4248-9a78-c8f0c6299dee",
     "showTitle": false,
     "title": ""
    }
   },
   "outputs": [],
   "source": [
    "print(\"Variance of eps: \", eps.var())\n",
    "print(\"Variance of eps_r: \", eps_r.var()) # confirms that the overall variance is reduced"
   ]
  },
  {
   "cell_type": "code",
   "execution_count": 0,
   "metadata": {
    "application/vnd.databricks.v1+cell": {
     "cellMetadata": {
      "byteLimit": 2048000,
      "rowLimit": 10000
     },
     "inputWidgets": {},
     "nuid": "17b32438-0d01-4df8-ad72-6a426091f1fa",
     "showTitle": false,
     "title": ""
    }
   },
   "outputs": [],
   "source": [
    "plt.figure(figsize = (25, 10))\n",
    "plt.scatter(y_r, x)\n",
    "plt.title(\"xy_r-scatterplot\")\n",
    "plt.xlabel(\"x\")\n",
    "plt.ylabel(\"y_r\")"
   ]
  },
  {
   "cell_type": "code",
   "execution_count": 0,
   "metadata": {
    "application/vnd.databricks.v1+cell": {
     "cellMetadata": {
      "byteLimit": 2048000,
      "rowLimit": 10000
     },
     "inputWidgets": {},
     "nuid": "42ad2493-c396-43a4-bdbd-a20fbe9eae5d",
     "showTitle": false,
     "title": ""
    }
   },
   "outputs": [],
   "source": [
    "data_r = pd.concat([pd.DataFrame(x), pd.DataFrame(y_r)], axis = 1)\n",
    "data.columns = ['x', 'y_r']\n",
    "reg_r_1 = ols(\"y_r~x\", data = data).fit()\n",
    "f_r_1 = np.poly1d(np.polyfit(x, y, 1))\n",
    "print(\"y = \", f_r_1)"
   ]
  },
  {
   "cell_type": "code",
   "execution_count": 0,
   "metadata": {
    "application/vnd.databricks.v1+cell": {
     "cellMetadata": {
      "byteLimit": 2048000,
      "rowLimit": 10000
     },
     "inputWidgets": {},
     "nuid": "b99c1c1d-f4d6-4947-a790-7c31260ea643",
     "showTitle": false,
     "title": ""
    }
   },
   "outputs": [],
   "source": [
    "reg_r_1.summary()"
   ]
  },
  {
   "cell_type": "code",
   "execution_count": 0,
   "metadata": {
    "application/vnd.databricks.v1+cell": {
     "cellMetadata": {
      "byteLimit": 2048000,
      "rowLimit": 10000
     },
     "inputWidgets": {},
     "nuid": "08faacd3-cf3d-41e9-8e47-c6923b98abf2",
     "showTitle": false,
     "title": ""
    }
   },
   "outputs": [],
   "source": [
    "print(\"Beta_hat_r_0: %f\" % reg_r_1.params[0])\n",
    "print(\"Beta_hat_r_1: %f\" % reg_r_1.params[1])"
   ]
  },
  {
   "cell_type": "code",
   "execution_count": 0,
   "metadata": {
    "application/vnd.databricks.v1+cell": {
     "cellMetadata": {
      "byteLimit": 2048000,
      "rowLimit": 10000
     },
     "inputWidgets": {},
     "nuid": "e2b5560b-c2b2-42ca-a00a-20e2ebef063d",
     "showTitle": false,
     "title": ""
    }
   },
   "outputs": [],
   "source": [
    "print(\"Difference in Beta_0: \", -1.0 - reg_r_1.params[0])\n",
    "print(\"Difference in Beta_1: \", 0.5 - reg_r_1.params[1])"
   ]
  },
  {
   "cell_type": "code",
   "execution_count": 0,
   "metadata": {
    "application/vnd.databricks.v1+cell": {
     "cellMetadata": {
      "byteLimit": 2048000,
      "rowLimit": 10000
     },
     "inputWidgets": {},
     "nuid": "615ff36f-8373-49fa-a8d8-e671d513953d",
     "showTitle": false,
     "title": ""
    }
   },
   "outputs": [],
   "source": [
    "plt.figure(figsize = (25, 10))\n",
    "reg_plot_r = sns.regplot(x, y_r, data = data_r)\n",
    "regline_r = reg_plot_r.get_lines()[0]\n",
    "regline_r.set_color('green')\n",
    "plt.title(\"xy_r-regression_plot\")\n",
    "plt.xlabel(\"x\")\n",
    "plt.ylabel(\"y_r\")\n",
    "labels_r = ['x', 'y_r']\n",
    "plt.legend(labels_r)"
   ]
  },
  {
   "cell_type": "code",
   "execution_count": 0,
   "metadata": {
    "application/vnd.databricks.v1+cell": {
     "cellMetadata": {
      "byteLimit": 2048000,
      "rowLimit": 10000
     },
     "inputWidgets": {},
     "nuid": "3a87eb37-e177-4a07-9252-89be7cb4073d",
     "showTitle": false,
     "title": ""
    }
   },
   "outputs": [],
   "source": [
    "reg_r_2 = ols(\"y_r~x+I(pow(x, 2))\", data = data_r).fit()\n",
    "f_r_2 = np.poly1d(np.polyfit(x, y, 1))\n",
    "print(\"y = \", f_r_2)"
   ]
  },
  {
   "cell_type": "code",
   "execution_count": 0,
   "metadata": {
    "application/vnd.databricks.v1+cell": {
     "cellMetadata": {
      "byteLimit": 2048000,
      "rowLimit": 10000
     },
     "inputWidgets": {},
     "nuid": "53a14631-4a39-4f96-93b2-b9be3430886d",
     "showTitle": false,
     "title": ""
    }
   },
   "outputs": [],
   "source": [
    "reg_r_2.summary()"
   ]
  },
  {
   "cell_type": "code",
   "execution_count": 0,
   "metadata": {
    "application/vnd.databricks.v1+cell": {
     "cellMetadata": {
      "byteLimit": 2048000,
      "rowLimit": 10000
     },
     "inputWidgets": {},
     "nuid": "cda67b66-8ab3-46c1-9b82-c0a400aebb2f",
     "showTitle": false,
     "title": ""
    }
   },
   "outputs": [],
   "source": [
    "RMSE_r_1 = np.sqrt(reg_r_1.mse_model) # root mean squared error of the first regression model\n",
    "RMSE_r_2 = np.sqrt(reg_r_2.mse_model) # root mean squared error of the first regression model\n",
    "print(\"RMSE_r_1:\", RMSE_r_1) # this value in the range ~ 5.0\n",
    "print(\"RMSE_r_2:\", RMSE_r_2) # this value in the range of ~ 3.5"
   ]
  },
  {
   "cell_type": "markdown",
   "metadata": {
    "application/vnd.databricks.v1+cell": {
     "cellMetadata": {
      "byteLimit": 2048000,
      "rowLimit": 10000
     },
     "inputWidgets": {},
     "nuid": "4fbda427-d8e9-45af-8244-851eda2bd70c",
     "showTitle": false,
     "title": ""
    }
   },
   "source": [
    "Observation: Given that RMSE_r_2 is lower than RMSE_r_1 in general, this suggests the\n",
    "polynomial model fits the data better. The R_2 of the polynomial model also\n",
    "significantly larger than the first model. This suggests the polynomial model\n",
    "better explains the reduced variation in data without compromising on the fit."
   ]
  },
  {
   "cell_type": "markdown",
   "metadata": {
    "application/vnd.databricks.v1+cell": {
     "cellMetadata": {
      "byteLimit": 2048000,
      "rowLimit": 10000
     },
     "inputWidgets": {},
     "nuid": "20f809d5-9d26-433d-b345-9750a37d5872",
     "showTitle": false,
     "title": ""
    }
   },
   "source": [
    "**i. Repeat (a)–(f) after modifying the data generation process in such a way that there is more noise in the data. The model should remain the same. You can do this by increasing the variance of the normal distribution used to generate the error term _eps_ in (b). Describe your results.**"
   ]
  },
  {
   "cell_type": "code",
   "execution_count": 0,
   "metadata": {
    "application/vnd.databricks.v1+cell": {
     "cellMetadata": {
      "byteLimit": 2048000,
      "rowLimit": 10000
     },
     "inputWidgets": {},
     "nuid": "4fd1ae42-143a-429b-8f45-28d54cb51115",
     "showTitle": false,
     "title": ""
    }
   },
   "outputs": [],
   "source": [
    "eps_i = eps*4 # the _i connotes \"increased\"\n",
    "y_i = -1 + (0.5*x) + eps_i"
   ]
  },
  {
   "cell_type": "code",
   "execution_count": 0,
   "metadata": {
    "application/vnd.databricks.v1+cell": {
     "cellMetadata": {
      "byteLimit": 2048000,
      "rowLimit": 10000
     },
     "inputWidgets": {},
     "nuid": "f06d5618-686e-4642-a05d-cb634f69ffe2",
     "showTitle": false,
     "title": ""
    }
   },
   "outputs": [],
   "source": [
    "print(\"Sum of square of eps: \", eps.var())\n",
    "print(\"Sum of square of eps_i: \",eps_i.var()) # confirms that the overall variance is reduced"
   ]
  },
  {
   "cell_type": "code",
   "execution_count": 0,
   "metadata": {
    "application/vnd.databricks.v1+cell": {
     "cellMetadata": {
      "byteLimit": 2048000,
      "rowLimit": 10000
     },
     "inputWidgets": {},
     "nuid": "1a8e69fa-b5fe-490a-9ee1-3cdf53da218a",
     "showTitle": false,
     "title": ""
    }
   },
   "outputs": [],
   "source": [
    "plt.figure(figsize = (25, 10))\n",
    "plt.scatter(y_i, x)\n",
    "plt.title(\"xy_i-scatterplot\")\n",
    "plt.xlabel(\"x\")\n",
    "plt.ylabel(\"y_i\")"
   ]
  },
  {
   "cell_type": "code",
   "execution_count": 0,
   "metadata": {
    "application/vnd.databricks.v1+cell": {
     "cellMetadata": {
      "byteLimit": 2048000,
      "rowLimit": 10000
     },
     "inputWidgets": {},
     "nuid": "23f93c5b-a359-41fc-aefc-8ebe0b1035b5",
     "showTitle": false,
     "title": ""
    }
   },
   "outputs": [],
   "source": [
    "data_i = pd.concat([pd.DataFrame(x), pd.DataFrame(y_i)], axis = 1)\n",
    "data.columns = ['x', 'y_i']\n",
    "reg_i_1 = ols(\"y_i~x\", data = data).fit()\n",
    "f_i_1 = np.poly1d(np.polyfit(x, y, 1))\n",
    "print(\"y = \", f_i_1)"
   ]
  },
  {
   "cell_type": "code",
   "execution_count": 0,
   "metadata": {
    "application/vnd.databricks.v1+cell": {
     "cellMetadata": {
      "byteLimit": 2048000,
      "rowLimit": 10000
     },
     "inputWidgets": {},
     "nuid": "a0ebbf67-bbbd-40b8-bf4c-8ee6c18a50fd",
     "showTitle": false,
     "title": ""
    }
   },
   "outputs": [],
   "source": [
    "reg_i_1.summary()"
   ]
  },
  {
   "cell_type": "code",
   "execution_count": 0,
   "metadata": {
    "application/vnd.databricks.v1+cell": {
     "cellMetadata": {
      "byteLimit": 2048000,
      "rowLimit": 10000
     },
     "inputWidgets": {},
     "nuid": "2ed2dc4b-f824-4a00-9493-5498f571e7af",
     "showTitle": false,
     "title": ""
    }
   },
   "outputs": [],
   "source": [
    "print(\"Beta_hat_i_0: %f\" % reg_i_1.params[0])\n",
    "print(\"Beta_hata_i_1: %f\" % reg_i_1.params[1])"
   ]
  },
  {
   "cell_type": "code",
   "execution_count": 0,
   "metadata": {
    "application/vnd.databricks.v1+cell": {
     "cellMetadata": {
      "byteLimit": 2048000,
      "rowLimit": 10000
     },
     "inputWidgets": {},
     "nuid": "562353a9-58de-46c6-9f9d-60d2feedfb4c",
     "showTitle": false,
     "title": ""
    }
   },
   "outputs": [],
   "source": [
    "print(\"Difference in Beta_0: \", -1.0 - reg_i_1.params[0])\n",
    "print(\"Difference in Beta_1: \", 0.5 - reg_i_1.params[1])"
   ]
  },
  {
   "cell_type": "code",
   "execution_count": 0,
   "metadata": {
    "application/vnd.databricks.v1+cell": {
     "cellMetadata": {
      "byteLimit": 2048000,
      "rowLimit": 10000
     },
     "inputWidgets": {},
     "nuid": "7c4e13a7-3e5a-4fca-8c4f-a483aeeedd93",
     "showTitle": false,
     "title": ""
    }
   },
   "outputs": [],
   "source": [
    "plt.figure(figsize = (25, 10))\n",
    "reg_plot_i = sns.regplot(x, y_i, data = data_i)\n",
    "regline_i = reg_plot_i.get_lines()[0]\n",
    "regline_i.set_color('green')\n",
    "plt.title(\"xy_i-regression_plot\")\n",
    "plt.xlabel(\"x\")\n",
    "plt.ylabel(\"y_i\")\n",
    "labels_i = ['x', 'y_i']\n",
    "plt.legend(labels_i)"
   ]
  },
  {
   "cell_type": "code",
   "execution_count": 0,
   "metadata": {
    "application/vnd.databricks.v1+cell": {
     "cellMetadata": {
      "byteLimit": 2048000,
      "rowLimit": 10000
     },
     "inputWidgets": {},
     "nuid": "003311de-f68a-4dbb-9076-2d8b99a80b2e",
     "showTitle": false,
     "title": ""
    }
   },
   "outputs": [],
   "source": [
    "reg_i_2 = ols(\"y_i~x+I(pow(x, 2))\", data = data_i).fit()\n",
    "f_i_2 = np.poly1d(np.polyfit(x, y, 1))\n",
    "print(\"y = \", f_i_2)"
   ]
  },
  {
   "cell_type": "code",
   "execution_count": 0,
   "metadata": {
    "application/vnd.databricks.v1+cell": {
     "cellMetadata": {
      "byteLimit": 2048000,
      "rowLimit": 10000
     },
     "inputWidgets": {},
     "nuid": "c97398ac-1d3e-4f2a-9a1f-582ff7f97744",
     "showTitle": false,
     "title": ""
    }
   },
   "outputs": [],
   "source": [
    "reg_i_2.summary()"
   ]
  },
  {
   "cell_type": "code",
   "execution_count": 0,
   "metadata": {
    "application/vnd.databricks.v1+cell": {
     "cellMetadata": {
      "byteLimit": 2048000,
      "rowLimit": 10000
     },
     "inputWidgets": {},
     "nuid": "c726d52d-6066-480f-9160-64459ee993b2",
     "showTitle": false,
     "title": ""
    }
   },
   "outputs": [],
   "source": [
    "RMSE_i_1 = np.sqrt(reg_i_1.mse_model) # root mean squared error of the first regression model\n",
    "RMSE_i_2 = np.sqrt(reg_i_2.mse_model) # root mean squared error of the first regression model\n",
    "print(\"RMSE_i_1:\", RMSE_i_1) # this value in the range ~ 5.0\n",
    "print(\"RMSE_i_2:\", RMSE_i_2) # this value in the range of ~ 3.5"
   ]
  },
  {
   "cell_type": "markdown",
   "metadata": {
    "application/vnd.databricks.v1+cell": {
     "cellMetadata": {
      "byteLimit": 2048000,
      "rowLimit": 10000
     },
     "inputWidgets": {},
     "nuid": "fdc270a9-cc7a-4cd3-b656-d5bfdc31992d",
     "showTitle": false,
     "title": ""
    }
   },
   "source": [
    "Observation: Given that RMSE_r_2 is lower than RMSE_r_1 in general, this suggests the\n",
    "polynomial model fits the data better. However, the R^2 of the second model is\n",
    "significantly lower than the first model, which suggests that the polynomial\n",
    "model starts to follow the noise thereby showing increased variance."
   ]
  },
  {
   "cell_type": "markdown",
   "metadata": {
    "application/vnd.databricks.v1+cell": {
     "cellMetadata": {
      "byteLimit": 2048000,
      "rowLimit": 10000
     },
     "inputWidgets": {},
     "nuid": "af6c42ca-d06c-49a0-af04-b7675ed030a7",
     "showTitle": false,
     "title": ""
    }
   },
   "source": [
    "**j. What are the confdence intervals for β0 and β1 based on the original data set, the noisier data set, and the less noisy data set? Comment on your results.**"
   ]
  },
  {
   "cell_type": "code",
   "execution_count": 0,
   "metadata": {
    "application/vnd.databricks.v1+cell": {
     "cellMetadata": {
      "byteLimit": 2048000,
      "rowLimit": 10000
     },
     "inputWidgets": {},
     "nuid": "7b891b01-5ac6-4bac-9757-4d57f0a50fe6",
     "showTitle": false,
     "title": ""
    }
   },
   "outputs": [],
   "source": [
    "confint1 = pd.DataFrame(reg_1.conf_int(alpha = 0.05)).T\n",
    "confint2 = pd.DataFrame(reg_2.conf_int(alpha = 0.05)).T\n",
    "confint_r_1 = pd.DataFrame(reg_r_1.conf_int(alpha = 0.05)).T\n",
    "confint_r_2 = pd.DataFrame(reg_r_2.conf_int(alpha = 0.05)).T\n",
    "confint_i_1 = pd.DataFrame(reg_i_1.conf_int(alpha = 0.05)).T\n",
    "confint_i_2 = pd.DataFrame(reg_i_2.conf_int(alpha = 0.05)).T"
   ]
  },
  {
   "cell_type": "code",
   "execution_count": 0,
   "metadata": {
    "application/vnd.databricks.v1+cell": {
     "cellMetadata": {
      "byteLimit": 2048000,
      "rowLimit": 10000
     },
     "inputWidgets": {},
     "nuid": "5afc059d-f57f-4734-a363-634637b81f05",
     "showTitle": false,
     "title": ""
    }
   },
   "outputs": [],
   "source": [
    "print(\"95% C.I. of Linear Model:\\n\")\n",
    "confint1"
   ]
  },
  {
   "cell_type": "code",
   "execution_count": 0,
   "metadata": {
    "application/vnd.databricks.v1+cell": {
     "cellMetadata": {
      "byteLimit": 2048000,
      "rowLimit": 10000
     },
     "inputWidgets": {},
     "nuid": "f8575646-fb37-43f7-8866-56d723cf6cc3",
     "showTitle": false,
     "title": ""
    }
   },
   "outputs": [],
   "source": [
    "print(\"95% C.I. of Polynomial Model:\\n\")\n",
    "confint2"
   ]
  },
  {
   "cell_type": "code",
   "execution_count": 0,
   "metadata": {
    "application/vnd.databricks.v1+cell": {
     "cellMetadata": {
      "byteLimit": 2048000,
      "rowLimit": 10000
     },
     "inputWidgets": {},
     "nuid": "8b432af2-f6ba-40c2-8561-d64b8e0297af",
     "showTitle": false,
     "title": ""
    }
   },
   "outputs": [],
   "source": [
    "print(\"95% C.I. of Linear Model with reduced variance:\\n\")\n",
    "confint_r_1"
   ]
  },
  {
   "cell_type": "code",
   "execution_count": 0,
   "metadata": {
    "application/vnd.databricks.v1+cell": {
     "cellMetadata": {
      "byteLimit": 2048000,
      "rowLimit": 10000
     },
     "inputWidgets": {},
     "nuid": "c77c9959-fbfd-443c-ab6e-8e8694a62e3d",
     "showTitle": false,
     "title": ""
    }
   },
   "outputs": [],
   "source": [
    "print(\"95% C.I. of Polynomial Model with reduced variance:\\n\")\n",
    "confint_r_2"
   ]
  },
  {
   "cell_type": "code",
   "execution_count": 0,
   "metadata": {
    "application/vnd.databricks.v1+cell": {
     "cellMetadata": {
      "byteLimit": 2048000,
      "rowLimit": 10000
     },
     "inputWidgets": {},
     "nuid": "6875d607-3087-4b1a-805f-8e5d8c477bc0",
     "showTitle": false,
     "title": ""
    }
   },
   "outputs": [],
   "source": [
    "print(\"95% C.I. of Polynomial Model with reduced variance:\\n\")\n",
    "confint_r_1"
   ]
  },
  {
   "cell_type": "code",
   "execution_count": 0,
   "metadata": {
    "application/vnd.databricks.v1+cell": {
     "cellMetadata": {
      "byteLimit": 2048000,
      "rowLimit": 10000
     },
     "inputWidgets": {},
     "nuid": "1ed0e221-cc60-40d9-8e18-1596751145b7",
     "showTitle": false,
     "title": ""
    }
   },
   "outputs": [],
   "source": [
    "print(\"95% C.I. of Polynomial Model with increased variance:\\n\")\n",
    "confint_r_2"
   ]
  },
  {
   "cell_type": "code",
   "execution_count": 0,
   "metadata": {
    "application/vnd.databricks.v1+cell": {
     "cellMetadata": {
      "byteLimit": 2048000,
      "rowLimit": 10000
     },
     "inputWidgets": {},
     "nuid": "3b992b87-ef0a-4b04-894a-9bf5082d0bc4",
     "showTitle": false,
     "title": ""
    }
   },
   "outputs": [],
   "source": []
  }
 ],
 "metadata": {
  "application/vnd.databricks.v1+notebook": {
   "dashboards": [],
   "language": "python",
   "notebookMetadata": {
    "pythonIndentUnit": 2
   },
   "notebookName": "Question 13 - answers",
   "widgets": {}
  }
 },
 "nbformat": 4,
 "nbformat_minor": 0
}
