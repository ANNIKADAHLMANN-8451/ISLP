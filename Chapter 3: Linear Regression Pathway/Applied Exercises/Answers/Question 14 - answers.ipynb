{
 "cells": [
  {
   "cell_type": "markdown",
   "metadata": {
    "application/vnd.databricks.v1+cell": {
     "cellMetadata": {
      "byteLimit": 2048000,
      "rowLimit": 10000
     },
     "inputWidgets": {},
     "nuid": "d5a25a8e-d1e9-4bae-bce1-1df0ed102673",
     "showTitle": false,
     "title": ""
    }
   },
   "source": [
    "This problem focuses on the collinearity problem."
   ]
  },
  {
   "cell_type": "code",
   "execution_count": 0,
   "metadata": {
    "application/vnd.databricks.v1+cell": {
     "cellMetadata": {
      "byteLimit": 2048000,
      "rowLimit": 10000
     },
     "inputWidgets": {},
     "nuid": "e3c388a9-37b5-4b33-9e41-f3625fd64135",
     "showTitle": false,
     "title": ""
    }
   },
   "outputs": [],
   "source": [
    "# general imports\n",
    "import numpy as np\n",
    "import pandas as pd\n",
    "import statsmodels.api as sm\n",
    "from statsmodels.formula.api import ols"
   ]
  },
  {
   "cell_type": "code",
   "execution_count": 0,
   "metadata": {
    "application/vnd.databricks.v1+cell": {
     "cellMetadata": {
      "byteLimit": 2048000,
      "rowLimit": 10000
     },
     "inputWidgets": {},
     "nuid": "44f57e82-5c7c-4e8f-a8a4-a7c413c19255",
     "showTitle": false,
     "title": ""
    }
   },
   "outputs": [],
   "source": [
    "# import data visualisation tools\n",
    "import matplotlib.pyplot as plt\n",
    "import seaborn as sns"
   ]
  },
  {
   "cell_type": "code",
   "execution_count": 0,
   "metadata": {
    "application/vnd.databricks.v1+cell": {
     "cellMetadata": {
      "byteLimit": 2048000,
      "rowLimit": 10000
     },
     "inputWidgets": {},
     "nuid": "a7805e5a-2ff7-44e7-843c-a3613b1398e7",
     "showTitle": false,
     "title": ""
    }
   },
   "outputs": [],
   "source": [
    "# create data\n",
    "np.random.seed(1)\n",
    "x1 = pd.DataFrame(np.array([np.random.uniform(size = 100)]))\n",
    "x2 = pd.DataFrame(0.5*x1+np.random.standard_normal(size = 100)/10)\n",
    "y = pd.DataFrame(2+2*x1+0.3*x2+np.random.standard_normal(size = 100))"
   ]
  },
  {
   "cell_type": "code",
   "execution_count": 0,
   "metadata": {
    "application/vnd.databricks.v1+cell": {
     "cellMetadata": {
      "byteLimit": 2048000,
      "rowLimit": 10000
     },
     "inputWidgets": {},
     "nuid": "4e50e3c3-0060-4c8c-a4a4-82d6ba73f41b",
     "showTitle": false,
     "title": ""
    }
   },
   "outputs": [],
   "source": [
    "x1T= x1.T\n",
    "x1T.columns = ['x1']\n",
    "x2T = x2.T\n",
    "x2T.columns = ['x2']\n",
    "yT = y.T\n",
    "yT.columns = ['y']"
   ]
  },
  {
   "cell_type": "markdown",
   "metadata": {
    "application/vnd.databricks.v1+cell": {
     "cellMetadata": {
      "byteLimit": 2048000,
      "rowLimit": 10000
     },
     "inputWidgets": {},
     "nuid": "7267a659-f487-4d35-ba6e-4b4ff8a660d4",
     "showTitle": false,
     "title": ""
    }
   },
   "source": [
    "**a. Write out the form of the linear model. What are the regression coefcients?**"
   ]
  },
  {
   "cell_type": "markdown",
   "metadata": {
    "application/vnd.databricks.v1+cell": {
     "cellMetadata": {
      "byteLimit": 2048000,
      "rowLimit": 10000
     },
     "inputWidgets": {},
     "nuid": "6698d242-fd6b-4dda-869c-903eff0f693c",
     "showTitle": false,
     "title": ""
    }
   },
   "source": [
    "y = 2 + 2*x1 + 0.3*x2 + epsilon~N(0,1)\n",
    "<br>\n",
    "Beta_0 = 2\n",
    "<br>\n",
    "Beta_1 = 2\n",
    "<br>\n",
    "Beta_2 = 0.3"
   ]
  },
  {
   "cell_type": "code",
   "execution_count": 0,
   "metadata": {
    "application/vnd.databricks.v1+cell": {
     "cellMetadata": {
      "byteLimit": 2048000,
      "rowLimit": 10000
     },
     "inputWidgets": {},
     "nuid": "4af8ae5f-7871-4f00-9d9a-94cafab93432",
     "showTitle": false,
     "title": ""
    }
   },
   "outputs": [],
   "source": [
    "corrx1x2 = np.corrcoef(x1, x2)[0, 1]\n",
    "print(\"Correlation between x1 and x2 is: %f\\n\" % corrx1x2)"
   ]
  },
  {
   "cell_type": "markdown",
   "metadata": {
    "application/vnd.databricks.v1+cell": {
     "cellMetadata": {
      "byteLimit": 2048000,
      "rowLimit": 10000
     },
     "inputWidgets": {},
     "nuid": "ce99bd8b-d169-4461-bbee-25fbecd99fa8",
     "showTitle": false,
     "title": ""
    }
   },
   "source": [
    "**b. What is the correlation between x1 and x2? Create a scatterplot displaying the relationship between the variables.**"
   ]
  },
  {
   "cell_type": "code",
   "execution_count": 0,
   "metadata": {
    "application/vnd.databricks.v1+cell": {
     "cellMetadata": {
      "byteLimit": 2048000,
      "rowLimit": 10000
     },
     "inputWidgets": {},
     "nuid": "56e23b26-b6d5-4ad5-bf4f-d5189ac37cdb",
     "showTitle": false,
     "title": ""
    }
   },
   "outputs": [],
   "source": [
    "plt.xkcd()\n",
    "plt.figure(figsize = (25, 10))\n",
    "plt.scatter(x1, x2, color = 'g')\n",
    "plt.title(\"x1 and x2 correlation\")\n",
    "plt.xlabel(\"x1\")\n",
    "plt.ylabel(\"y1\")"
   ]
  },
  {
   "cell_type": "markdown",
   "metadata": {
    "application/vnd.databricks.v1+cell": {
     "cellMetadata": {
      "byteLimit": 2048000,
      "rowLimit": 10000
     },
     "inputWidgets": {},
     "nuid": "4af6791e-f3be-4505-93a5-f2bedb772f40",
     "showTitle": false,
     "title": ""
    }
   },
   "source": [
    "**c. Using this data, ft a least squares regression to predict `y` using `x1` and `x2`. Describe the results obtained. What are βˆ0, βˆ1, and βˆ2? How do these relate to the true β0, β1, and β2? Can you reject the null hypothesis H0 : β1 = 0? How about the null hypothesis H0 : β2 = 0?**"
   ]
  },
  {
   "cell_type": "code",
   "execution_count": 0,
   "metadata": {
    "application/vnd.databricks.v1+cell": {
     "cellMetadata": {
      "byteLimit": 2048000,
      "rowLimit": 10000
     },
     "inputWidgets": {},
     "nuid": "0af77a42-7314-4e49-851d-534365878f3d",
     "showTitle": false,
     "title": ""
    }
   },
   "outputs": [],
   "source": [
    "X1T = sm.add_constant(x1T)\n",
    "data = pd.concat([x1T, x2T, yT], axis = 1)\n",
    "reg_1 = ols(\"yT~x1T+x2T\", data = data).fit()"
   ]
  },
  {
   "cell_type": "code",
   "execution_count": 0,
   "metadata": {
    "application/vnd.databricks.v1+cell": {
     "cellMetadata": {
      "byteLimit": 2048000,
      "rowLimit": 10000
     },
     "inputWidgets": {},
     "nuid": "b30cb44a-2104-4f73-9335-0a14171a9a84",
     "showTitle": false,
     "title": ""
    }
   },
   "outputs": [],
   "source": [
    "reg_1.summary()"
   ]
  },
  {
   "cell_type": "markdown",
   "metadata": {
    "application/vnd.databricks.v1+cell": {
     "cellMetadata": {
      "byteLimit": 2048000,
      "rowLimit": 10000
     },
     "inputWidgets": {},
     "nuid": "c5d9c9e7-e6d5-415a-9b1d-1f04610ea6fe",
     "showTitle": false,
     "title": ""
    }
   },
   "source": [
    "Beta_hat_0 = 2.1893\n",
    "<br>\n",
    "Beta_hat_1 = 0.7046\n",
    "<br>\n",
    "Beta_hat_2 = 2.5024\n",
    "<br>\n",
    "Since the p-value of Beta_1 is large, we will reject the null-hypothesis that H_0:Beta_1 = 0. Since the the p-value of Beta_2 is small, we will fail to reject the null-hypothesis that H_0:Beta_2 = 0. However, we could reject it too given the p-value is not too small either."
   ]
  },
  {
   "cell_type": "markdown",
   "metadata": {
    "application/vnd.databricks.v1+cell": {
     "cellMetadata": {
      "byteLimit": 2048000,
      "rowLimit": 10000
     },
     "inputWidgets": {},
     "nuid": "c28816fa-8b43-4124-b5d0-0b9a6a72881e",
     "showTitle": false,
     "title": ""
    }
   },
   "source": [
    "**d. Now ft a least squares regression to predict `y` using only `x1`. Comment on your results. Can you reject the null hypothesis H0 : β1 = 0?**"
   ]
  },
  {
   "cell_type": "code",
   "execution_count": 0,
   "metadata": {
    "application/vnd.databricks.v1+cell": {
     "cellMetadata": {
      "byteLimit": 2048000,
      "rowLimit": 10000
     },
     "inputWidgets": {},
     "nuid": "af2c1c4f-898e-4bb8-bdb4-827b39c75c7c",
     "showTitle": false,
     "title": ""
    }
   },
   "outputs": [],
   "source": [
    "reg_2 = ols(\"yT~x1T\", data = data).fit()"
   ]
  },
  {
   "cell_type": "code",
   "execution_count": 0,
   "metadata": {
    "application/vnd.databricks.v1+cell": {
     "cellMetadata": {
      "byteLimit": 2048000,
      "rowLimit": 10000
     },
     "inputWidgets": {},
     "nuid": "2379961e-ca93-4420-9268-857d7f883097",
     "showTitle": false,
     "title": ""
    }
   },
   "outputs": [],
   "source": [
    "reg_2.summary()"
   ]
  },
  {
   "cell_type": "markdown",
   "metadata": {
    "application/vnd.databricks.v1+cell": {
     "cellMetadata": {
      "byteLimit": 2048000,
      "rowLimit": 10000
     },
     "inputWidgets": {},
     "nuid": "500770b0-9ebb-4c97-a5ca-0b3ea1291ba6",
     "showTitle": false,
     "title": ""
    }
   },
   "source": [
    "Beta_hat_0 = 2.2486\n",
    "<br>\n",
    "Beta_hat_1 = 1.8770\n",
    "<br>\n",
    "Since the p-value of Beta_1 is ~ 0, we will fail to reject the null-hypothesis that H_0:Beta_1 = 0. This is not surprising given the high correlation between\n",
    "x1 and x2. Multicollinearity supresses the individual effects of each independent variable."
   ]
  },
  {
   "cell_type": "markdown",
   "metadata": {
    "application/vnd.databricks.v1+cell": {
     "cellMetadata": {
      "byteLimit": 2048000,
      "rowLimit": 10000
     },
     "inputWidgets": {},
     "nuid": "34747a7f-5513-443a-adf8-656549e53101",
     "showTitle": false,
     "title": ""
    }
   },
   "source": [
    "**e. Now ft a least squares regression to predict `y` using only `x2`. Comment on your results. Can you reject the null hypothesis H0 : β1 = 0?**"
   ]
  },
  {
   "cell_type": "code",
   "execution_count": 0,
   "metadata": {
    "application/vnd.databricks.v1+cell": {
     "cellMetadata": {
      "byteLimit": 2048000,
      "rowLimit": 10000
     },
     "inputWidgets": {},
     "nuid": "d4084b1b-9694-40aa-9543-1820783ed46d",
     "showTitle": false,
     "title": ""
    }
   },
   "outputs": [],
   "source": [
    "reg_3 = ols(\"yT~x2T\", data = data).fit()"
   ]
  },
  {
   "cell_type": "code",
   "execution_count": 0,
   "metadata": {
    "application/vnd.databricks.v1+cell": {
     "cellMetadata": {
      "byteLimit": 2048000,
      "rowLimit": 10000
     },
     "inputWidgets": {},
     "nuid": "d5292cf6-4516-4ab8-95ee-4d88dd2e6da3",
     "showTitle": false,
     "title": ""
    }
   },
   "outputs": [],
   "source": [
    "reg_3.summary()"
   ]
  },
  {
   "cell_type": "markdown",
   "metadata": {
    "application/vnd.databricks.v1+cell": {
     "cellMetadata": {
      "byteLimit": 2048000,
      "rowLimit": 10000
     },
     "inputWidgets": {},
     "nuid": "24e2bf87-e3de-4953-80b4-29bc9eac16b1",
     "showTitle": false,
     "title": ""
    }
   },
   "source": [
    "Beta_hat_0 = 2.2655\n",
    "<br>\n",
    "Beta_hat_1 = 3.5613\n",
    "<br>\n",
    "Since the p-value of Beta_2 is ~ 0, we will fail to reject the null-hypothesis that H_0:Beta_12= 0. This is not surprising given the high correlation between\n",
    "x1 and x2. Multicollinearity supresses the individual effects of each independent variable."
   ]
  },
  {
   "cell_type": "markdown",
   "metadata": {
    "application/vnd.databricks.v1+cell": {
     "cellMetadata": {
      "byteLimit": 2048000,
      "rowLimit": 10000
     },
     "inputWidgets": {},
     "nuid": "ebcb5dce-2591-4f48-a385-6721fea0df8d",
     "showTitle": false,
     "title": ""
    }
   },
   "source": [
    "**f. Do the results obtained in (c)–(e) contradict each other? Explain your answer.**"
   ]
  },
  {
   "cell_type": "markdown",
   "metadata": {
    "application/vnd.databricks.v1+cell": {
     "cellMetadata": {
      "byteLimit": 2048000,
      "rowLimit": 10000
     },
     "inputWidgets": {},
     "nuid": "2bcd7a06-6357-486b-96f0-4c4cafd08252",
     "showTitle": false,
     "title": ""
    }
   },
   "source": [
    "No. It is not contradictory. This is due to collinearity as explained above."
   ]
  },
  {
   "cell_type": "markdown",
   "metadata": {
    "application/vnd.databricks.v1+cell": {
     "cellMetadata": {
      "byteLimit": 2048000,
      "rowLimit": 10000
     },
     "inputWidgets": {},
     "nuid": "93e691fd-893a-4fb3-9f5b-5fb1bf1b3b0b",
     "showTitle": false,
     "title": ""
    }
   },
   "source": [
    "d\n",
    " **g. Suppose we obtain one additional observation, which was unfortunately mismeasured. We use the function `np.concatenate()` and this additional observation to each of `x1`, `x2` and `y`, as seen below. Re-fit the linear models from (c) to (e) using this new data. What efect does this new observation have on the each of the models? In each model, is this observation an outlier? A high-leverage point? Both? Explain your answers.**"
   ]
  },
  {
   "cell_type": "code",
   "execution_count": 0,
   "metadata": {
    "application/vnd.databricks.v1+cell": {
     "cellMetadata": {
      "byteLimit": 2048000,
      "rowLimit": 10000
     },
     "inputWidgets": {},
     "nuid": "6f48d0fc-7d92-4760-8dd9-d55cc39318e4",
     "showTitle": false,
     "title": ""
    }
   },
   "outputs": [],
   "source": [
    "# additional observation\n",
    "add_values = pd.DataFrame([0.1, 0.8, 6.0]).T\n",
    "add_values.columns = ['x1','x2','y']\n",
    "data = data.append(add_values, ignore_index = False)"
   ]
  },
  {
   "cell_type": "code",
   "execution_count": 0,
   "metadata": {
    "application/vnd.databricks.v1+cell": {
     "cellMetadata": {
      "byteLimit": 2048000,
      "rowLimit": 10000
     },
     "inputWidgets": {},
     "nuid": "804594b5-ca0d-412f-94f2-4a4b875bec7c",
     "showTitle": false,
     "title": ""
    }
   },
   "outputs": [],
   "source": [
    "reg_4 = ols(\"y~x1+x2\", data = data).fit()"
   ]
  },
  {
   "cell_type": "code",
   "execution_count": 0,
   "metadata": {
    "application/vnd.databricks.v1+cell": {
     "cellMetadata": {
      "byteLimit": 2048000,
      "rowLimit": 10000
     },
     "inputWidgets": {},
     "nuid": "ff157c91-0efe-406f-b284-a86ff8594d66",
     "showTitle": false,
     "title": ""
    }
   },
   "outputs": [],
   "source": [
    "reg_4.summary()"
   ]
  },
  {
   "cell_type": "code",
   "execution_count": 0,
   "metadata": {
    "application/vnd.databricks.v1+cell": {
     "cellMetadata": {
      "byteLimit": 2048000,
      "rowLimit": 10000
     },
     "inputWidgets": {},
     "nuid": "4916ddf0-abc4-4363-9bf4-9569104437c6",
     "showTitle": false,
     "title": ""
    }
   },
   "outputs": [],
   "source": [
    "reg_5 = ols(\"y~x1\", data = data).fit()"
   ]
  },
  {
   "cell_type": "code",
   "execution_count": 0,
   "metadata": {
    "application/vnd.databricks.v1+cell": {
     "cellMetadata": {
      "byteLimit": 2048000,
      "rowLimit": 10000
     },
     "inputWidgets": {},
     "nuid": "3a6b29b0-e408-4d5c-bd0d-1e78ac64a88e",
     "showTitle": false,
     "title": ""
    }
   },
   "outputs": [],
   "source": [
    "reg_5.summary()"
   ]
  },
  {
   "cell_type": "code",
   "execution_count": 0,
   "metadata": {
    "application/vnd.databricks.v1+cell": {
     "cellMetadata": {
      "byteLimit": 2048000,
      "rowLimit": 10000
     },
     "inputWidgets": {},
     "nuid": "c2b01db4-740d-483d-a554-d0e3e03b419e",
     "showTitle": false,
     "title": ""
    }
   },
   "outputs": [],
   "source": [
    "reg_6 = ols(\"y~x2\", data = data).fit()"
   ]
  },
  {
   "cell_type": "code",
   "execution_count": 0,
   "metadata": {
    "application/vnd.databricks.v1+cell": {
     "cellMetadata": {
      "byteLimit": 2048000,
      "rowLimit": 10000
     },
     "inputWidgets": {},
     "nuid": "b4f45ae9-48b5-480b-afb7-fdad40d7dfaa",
     "showTitle": false,
     "title": ""
    }
   },
   "outputs": [],
   "source": [
    "reg_6.summary()"
   ]
  },
  {
   "cell_type": "markdown",
   "metadata": {
    "application/vnd.databricks.v1+cell": {
     "cellMetadata": {
      "byteLimit": 2048000,
      "rowLimit": 10000
     },
     "inputWidgets": {},
     "nuid": "e911f8b7-8a41-4b4f-b73a-4f2bd7ec8c08",
     "showTitle": false,
     "title": ""
    }
   },
   "source": [
    "Adding the extra row certainly improves the significance of the second independent variable."
   ]
  },
  {
   "cell_type": "code",
   "execution_count": 0,
   "metadata": {
    "application/vnd.databricks.v1+cell": {
     "cellMetadata": {
      "byteLimit": 2048000,
      "rowLimit": 10000
     },
     "inputWidgets": {},
     "nuid": "3dcc0ebb-a647-4e32-9cd6-164fc89889b8",
     "showTitle": false,
     "title": ""
    }
   },
   "outputs": [],
   "source": [
    "# regression #4: residuals vs fitted plot\n",
    "plt.xkcd()\n",
    "fitted_4 = pd.DataFrame([reg_4.predict()]).T\n",
    "fitted_4.columns = ['fitted']\n",
    "residuals_4 = reg_4.resid\n",
    "data_4 = pd.concat([fitted_4, residuals_4.reset_index(drop=True)], axis = 1)\n",
    "data_4.columns = ['fitted','residuals']\n",
    "plt.figure(figsize = (25, 10))\n",
    "reg_plot_4 = sns.regplot(fitted_4, residuals_4, data = data_4)\n",
    "regline_4 = reg_plot_4.get_lines()[0]\n",
    "regline_4.set_color('green')\n",
    "plt.title(\"Regression#4: Residuals vs Fitted\")\n",
    "plt.xlabel(\"fitted\")\n",
    "plt.ylabel(\"residuals\")"
   ]
  },
  {
   "cell_type": "code",
   "execution_count": 0,
   "metadata": {
    "application/vnd.databricks.v1+cell": {
     "cellMetadata": {
      "byteLimit": 2048000,
      "rowLimit": 10000
     },
     "inputWidgets": {},
     "nuid": "fbdd5472-b3e5-4637-845d-9bf9dc4d5ea8",
     "showTitle": false,
     "title": ""
    }
   },
   "outputs": [],
   "source": [
    "# regression #4: normal q-q plot\n",
    "plt.figure(figsize = (15, 10))\n",
    "sm.qqplot(reg_4.resid_pearson, fit = True, line = 'r') # another way to do it\n",
    "plt.title(\"Regression#4: Normal Q-Q Plot\")\n",
    "fig = plt.gcf()\n",
    "fig.set_size_inches(25, 10)\n",
    "plt.show()"
   ]
  },
  {
   "cell_type": "code",
   "execution_count": 0,
   "metadata": {
    "application/vnd.databricks.v1+cell": {
     "cellMetadata": {
      "byteLimit": 2048000,
      "rowLimit": 10000
     },
     "inputWidgets": {},
     "nuid": "3a3098bf-1685-4540-8830-bfe2a42fcf33",
     "showTitle": false,
     "title": ""
    }
   },
   "outputs": [],
   "source": [
    "# regression #4: scale-location plot\n",
    "plt.xkcd()\n",
    "plt.figure(figsize = (25, 10))\n",
    "sns.regplot(fitted_4, np.sqrt(np.abs(reg_4.resid_pearson)), fit_reg = True, color = 'y')\n",
    "plt.title(\"Regression#4: Scale-Location Plot\")"
   ]
  },
  {
   "cell_type": "code",
   "execution_count": 0,
   "metadata": {
    "application/vnd.databricks.v1+cell": {
     "cellMetadata": {
      "byteLimit": 2048000,
      "rowLimit": 10000
     },
     "inputWidgets": {},
     "nuid": "2695198d-3d44-46aa-91bf-55b69ae98322",
     "showTitle": false,
     "title": ""
    }
   },
   "outputs": [],
   "source": [
    "# regression #4: residuals vs leverage plot\n",
    "plt.xkcd()\n",
    "fig = plt.figure(figsize = (25, 10))\n",
    "fig.set_size_inches(30, fig.get_figheight(), forward=True)\n",
    "sm.graphics.influence_plot(reg_4, criterion=\"cooks\", size = 0.0002**2)\n",
    "plt.title(\"Regression#4: Residuals vs Leverage\")\n",
    "fig = plt.gcf()\n",
    "fig.set_size_inches(25, 10)\n",
    "plt.show()"
   ]
  },
  {
   "cell_type": "code",
   "execution_count": 0,
   "metadata": {
    "application/vnd.databricks.v1+cell": {
     "cellMetadata": {
      "byteLimit": 2048000,
      "rowLimit": 10000
     },
     "inputWidgets": {},
     "nuid": "c95158d5-14a2-4072-b29b-ec6b29191a7e",
     "showTitle": false,
     "title": ""
    }
   },
   "outputs": [],
   "source": [
    "# regression #5: residuals vs fitted plot\n",
    "plt.xkcd()\n",
    "fitted_5 = pd.DataFrame([reg_5.predict()]).T\n",
    "fitted_5.columns = ['fitted']\n",
    "residuals_5 = reg_5.resid\n",
    "data_5 = pd.concat([fitted_5, residuals_5.reset_index(drop=True)], axis = 1)\n",
    "data_5.columns = ['fitted','residuals']\n",
    "plt.figure(figsize = (25, 10))\n",
    "reg_plot_5 = sns.regplot(fitted_5, residuals_5, data = data_5)\n",
    "regline_5 = reg_plot_5.get_lines()[0]\n",
    "regline_5.set_color('green')\n",
    "plt.title(\"Regression#5: Residuals vs Fitted\")\n",
    "plt.xlabel(\"fitted\")\n",
    "plt.ylabel(\"residuals\")"
   ]
  },
  {
   "cell_type": "code",
   "execution_count": 0,
   "metadata": {
    "application/vnd.databricks.v1+cell": {
     "cellMetadata": {
      "byteLimit": 2048000,
      "rowLimit": 10000
     },
     "inputWidgets": {},
     "nuid": "c21fd588-b3f8-4abb-9e9b-b8d56e4144d4",
     "showTitle": false,
     "title": ""
    }
   },
   "outputs": [],
   "source": [
    "# regression #5: normal q-q plot\n",
    "plt.figure(figsize = (25, 10))\n",
    "sm.qqplot(reg_5.resid_pearson, fit = True, line = 'r') # another way to do it\n",
    "plt.title(\"Regression#5: Normal Q-Q Plot\")\n",
    "fig = plt.gcf()\n",
    "fig.set_size_inches(25, 10)\n",
    "plt.show()"
   ]
  },
  {
   "cell_type": "code",
   "execution_count": 0,
   "metadata": {
    "application/vnd.databricks.v1+cell": {
     "cellMetadata": {
      "byteLimit": 2048000,
      "rowLimit": 10000
     },
     "inputWidgets": {},
     "nuid": "d223ce86-4e18-4416-890a-e1a39c72cf9d",
     "showTitle": false,
     "title": ""
    }
   },
   "outputs": [],
   "source": [
    "# regression #5: scale-location plot\n",
    "plt.xkcd()\n",
    "plt.figure(figsize = (25, 10))\n",
    "sns.regplot(fitted_5, np.sqrt(np.abs(reg_5.resid_pearson)), fit_reg = True, color = 'y')\n",
    "plt.title(\"Regression#5: Scale-Location Plot\")"
   ]
  },
  {
   "cell_type": "code",
   "execution_count": 0,
   "metadata": {
    "application/vnd.databricks.v1+cell": {
     "cellMetadata": {
      "byteLimit": 2048000,
      "rowLimit": 10000
     },
     "inputWidgets": {},
     "nuid": "6a33110a-ebf1-4efb-ab9a-babc0ee36bc1",
     "showTitle": false,
     "title": ""
    }
   },
   "outputs": [],
   "source": [
    "# regression #5: residuals vs leverage plot\n",
    "plt.xkcd()\n",
    "fig = plt.figure(figsize = (25, 10))\n",
    "fig.set_size_inches(30, fig.get_figheight(), forward=True)\n",
    "sm.graphics.influence_plot(reg_5, criterion=\"cooks\", size = 0.0002**2)\n",
    "plt.title(\"Regression#5: Residuals vs Leverage\")\n",
    "fig = plt.gcf()\n",
    "fig.set_size_inches(25, 10)\n",
    "plt.show()"
   ]
  },
  {
   "cell_type": "code",
   "execution_count": 0,
   "metadata": {
    "application/vnd.databricks.v1+cell": {
     "cellMetadata": {
      "byteLimit": 2048000,
      "rowLimit": 10000
     },
     "inputWidgets": {},
     "nuid": "13c17f2e-5d39-4feb-bd88-35fb1fadf822",
     "showTitle": false,
     "title": ""
    }
   },
   "outputs": [],
   "source": [
    "# regression #6: residuals vs fitted plot\n",
    "plt.xkcd()\n",
    "fitted_6 = pd.DataFrame([reg_6.predict()]).T\n",
    "fitted_6.columns = ['fitted']\n",
    "residuals_6 = reg_6.resid\n",
    "data_6 = pd.concat([fitted_6, residuals_6.reset_index(drop=True)], axis = 1)\n",
    "data_6.columns = ['fitted','residuals']\n",
    "plt.figure(figsize = (25, 10))\n",
    "reg_plot_6 = sns.regplot(fitted_6, residuals_6, data = data_6)\n",
    "regline_6 = reg_plot_6.get_lines()[0]\n",
    "regline_6.set_color('green')\n",
    "plt.title(\"Regression#6: Residuals vs Fitted\")\n",
    "plt.xlabel(\"fitted\")\n",
    "plt.ylabel(\"residuals\")"
   ]
  },
  {
   "cell_type": "code",
   "execution_count": 0,
   "metadata": {
    "application/vnd.databricks.v1+cell": {
     "cellMetadata": {
      "byteLimit": 2048000,
      "rowLimit": 10000
     },
     "inputWidgets": {},
     "nuid": "438522fd-116f-476f-bdea-237b39824c3d",
     "showTitle": false,
     "title": ""
    }
   },
   "outputs": [],
   "source": [
    "# regression #5: normal q-q plot\n",
    "plt.figure(figsize = (25, 10))\n",
    "sm.qqplot(reg_6.resid_pearson, fit = True, line = 'r') # another way to do it\n",
    "plt.title(\"Regression#6: Normal Q-Q Plot\")\n",
    "fig = plt.gcf()\n",
    "fig.set_size_inches(25, 10)\n",
    "plt.show()"
   ]
  },
  {
   "cell_type": "code",
   "execution_count": 0,
   "metadata": {
    "application/vnd.databricks.v1+cell": {
     "cellMetadata": {
      "byteLimit": 2048000,
      "rowLimit": 10000
     },
     "inputWidgets": {},
     "nuid": "135d2c27-8964-44f2-a733-c5c65630f4aa",
     "showTitle": false,
     "title": ""
    }
   },
   "outputs": [],
   "source": [
    "# regression #5: scale-location plot\n",
    "plt.xkcd()\n",
    "plt.figure(figsize = (25, 10))\n",
    "sns.regplot(fitted_6, np.sqrt(np.abs(reg_5.resid_pearson)), fit_reg = True, color = 'y')\n",
    "plt.title(\"Regression#6: Scale-Location Plot\")"
   ]
  },
  {
   "cell_type": "code",
   "execution_count": 0,
   "metadata": {
    "application/vnd.databricks.v1+cell": {
     "cellMetadata": {
      "byteLimit": 2048000,
      "rowLimit": 10000
     },
     "inputWidgets": {},
     "nuid": "8a6b0b94-d65b-4f8c-84ae-a1fa0e73d2d9",
     "showTitle": false,
     "title": ""
    }
   },
   "outputs": [],
   "source": [
    "# regression #5: residuals vs leverage plot\n",
    "plt.xkcd()\n",
    "fig = plt.figure(figsize = (25, 10))\n",
    "fig.set_size_inches(30, fig.get_figheight(), forward=True)\n",
    "sm.graphics.influence_plot(reg_6, criterion=\"cooks\", size = 0.0002**2)\n",
    "plt.title(\"Regression#6: Residuals vs Leverage\")\n",
    "fig = plt.gcf()\n",
    "fig.set_size_inches(25, 10)\n",
    "plt.show()"
   ]
  },
  {
   "cell_type": "markdown",
   "metadata": {
    "application/vnd.databricks.v1+cell": {
     "cellMetadata": {
      "byteLimit": 2048000,
      "rowLimit": 10000
     },
     "inputWidgets": {},
     "nuid": "c456a19f-345f-4b94-8170-ba030c765a49",
     "showTitle": false,
     "title": ""
    }
   },
   "source": [
    "In the first and third model, point 0 is high leverage. The second model does not have any high leverage point, but points 51 and 78 are outliers.\n",
    "Likewise, in the third model, points 82, 51, 78 are outliers."
   ]
  }
 ],
 "metadata": {
  "application/vnd.databricks.v1+notebook": {
   "dashboards": [],
   "language": "python",
   "notebookMetadata": {
    "pythonIndentUnit": 2
   },
   "notebookName": "Question 14 - answers",
   "widgets": {}
  }
 },
 "nbformat": 4,
 "nbformat_minor": 0
}
