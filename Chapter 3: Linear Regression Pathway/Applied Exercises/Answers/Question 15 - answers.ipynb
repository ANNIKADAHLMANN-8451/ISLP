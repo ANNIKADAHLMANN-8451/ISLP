{
 "cells": [
  {
   "cell_type": "code",
   "execution_count": 0,
   "metadata": {
    "application/vnd.databricks.v1+cell": {
     "cellMetadata": {
      "byteLimit": 2048000,
      "rowLimit": 10000
     },
     "inputWidgets": {},
     "nuid": "c15d6016-5574-4cf2-b91a-bd2e933ca0ee",
     "showTitle": false,
     "title": ""
    }
   },
   "outputs": [],
   "source": [
    "%pip install --quiet termcolor"
   ]
  },
  {
   "cell_type": "markdown",
   "metadata": {
    "application/vnd.databricks.v1+cell": {
     "cellMetadata": {
      "byteLimit": 2048000,
      "rowLimit": 10000
     },
     "inputWidgets": {},
     "nuid": "e5b97ab5-1702-4a66-b0c7-f13f70d2adeb",
     "showTitle": false,
     "title": ""
    }
   },
   "source": [
    "This problem involves the `Boston` data set, which we saw in the lab for this chapter. We will now try to predict per capita crime rate using the other variables in this data set. In other words, per capita crime rate is the response, and the other variables are the predictors."
   ]
  },
  {
   "cell_type": "code",
   "execution_count": 0,
   "metadata": {
    "application/vnd.databricks.v1+cell": {
     "cellMetadata": {
      "byteLimit": 2048000,
      "rowLimit": 10000
     },
     "inputWidgets": {},
     "nuid": "d6a73627-a50b-4964-8cb5-57748df48e56",
     "showTitle": false,
     "title": ""
    }
   },
   "outputs": [],
   "source": [
    "# general imports\n",
    "import numpy as np\n",
    "import pandas as pd\n",
    "import statsmodels.api as sm\n",
    "from statsmodels.formula.api import ols\n",
    "from scipy import stats"
   ]
  },
  {
   "cell_type": "code",
   "execution_count": 0,
   "metadata": {
    "application/vnd.databricks.v1+cell": {
     "cellMetadata": {
      "byteLimit": 2048000,
      "rowLimit": 10000
     },
     "inputWidgets": {},
     "nuid": "a6326825-036f-48d1-8709-a3230238579e",
     "showTitle": false,
     "title": ""
    }
   },
   "outputs": [],
   "source": [
    "# import data visualisation tools\n",
    "import matplotlib.pyplot as plt\n",
    "import seaborn as sns\n",
    "from termcolor import colored"
   ]
  },
  {
   "cell_type": "code",
   "execution_count": 0,
   "metadata": {
    "application/vnd.databricks.v1+cell": {
     "cellMetadata": {
      "byteLimit": 2048000,
      "rowLimit": 10000
     },
     "inputWidgets": {},
     "nuid": "ec92f402-7ee9-4055-9b30-eac3de83d991",
     "showTitle": false,
     "title": ""
    }
   },
   "outputs": [],
   "source": [
    "# import dataset and preprocess\n",
    "url = \"abfss://training@sa8451learningdev.dfs.core.windows.net/interpretable_machine_learning/eml_data/Boston.csv\"\n",
    "Boston = spark.read.option(\"header\", \"true\").csv(url).toPandas().astype(float)\n",
    "Boston.set_index('SlNo', inplace=True)"
   ]
  },
  {
   "cell_type": "code",
   "execution_count": 0,
   "metadata": {
    "application/vnd.databricks.v1+cell": {
     "cellMetadata": {
      "byteLimit": 2048000,
      "rowLimit": 10000
     },
     "inputWidgets": {},
     "nuid": "36d32501-6b24-4e9b-825b-c44b92d7e708",
     "showTitle": false,
     "title": ""
    }
   },
   "outputs": [],
   "source": [
    "Boston.head()"
   ]
  },
  {
   "cell_type": "markdown",
   "metadata": {
    "application/vnd.databricks.v1+cell": {
     "cellMetadata": {
      "byteLimit": 2048000,
      "rowLimit": 10000
     },
     "inputWidgets": {},
     "nuid": "ce8e077f-3f64-4232-8118-78bd9518a76c",
     "showTitle": false,
     "title": ""
    }
   },
   "source": [
    "**a. For each predictor, ft a simple linear regression model to predict the response. Describe your results. In which of the models is there a statistically signifcant association between the predictor and the response? Create some plots to back up your assertions.**"
   ]
  },
  {
   "cell_type": "code",
   "execution_count": 0,
   "metadata": {
    "application/vnd.databricks.v1+cell": {
     "cellMetadata": {
      "byteLimit": 2048000,
      "rowLimit": 10000
     },
     "inputWidgets": {},
     "nuid": "458482c4-dc37-4d38-ba06-fb8425378b06",
     "showTitle": false,
     "title": ""
    }
   },
   "outputs": [],
   "source": [
    "# run simple linear regressions for each independent variable\n",
    "for t in Boston.columns:\n",
    "    reg = ols(\"crim~Boston[t]\", data = Boston).fit()\n",
    "    print(reg.summary())\n",
    "    print()\n",
    "    print(colored(\"=\"*78, 'green'))\n",
    "    print()\n",
    "    plt.xkcd()\n",
    "    plt.figure(figsize = (25, 10))\n",
    "    sns.regplot(reg.predict(), reg.resid, data = Boston)\n",
    "    plt.title(t)\n",
    "    plt.xlabel(t)\n",
    "plt.ylabel('crim')"
   ]
  },
  {
   "cell_type": "markdown",
   "metadata": {
    "application/vnd.databricks.v1+cell": {
     "cellMetadata": {
      "byteLimit": 2048000,
      "rowLimit": 10000
     },
     "inputWidgets": {},
     "nuid": "ee085602-2aa3-49cf-b226-598022c797de",
     "showTitle": false,
     "title": ""
    }
   },
   "source": [
    "**b. Fit a multiple regression model to predict the response using all of the predictors. Describe your results. For which predictors can we reject the null hypothesis H0 : βj = 0?**"
   ]
  },
  {
   "cell_type": "code",
   "execution_count": 0,
   "metadata": {
    "application/vnd.databricks.v1+cell": {
     "cellMetadata": {
      "byteLimit": 2048000,
      "rowLimit": 10000
     },
     "inputWidgets": {},
     "nuid": "f45bd65d-73e0-4188-b9fc-5c314481945a",
     "showTitle": false,
     "title": ""
    }
   },
   "outputs": [],
   "source": [
    "list(Boston)"
   ]
  },
  {
   "cell_type": "code",
   "execution_count": 0,
   "metadata": {
    "application/vnd.databricks.v1+cell": {
     "cellMetadata": {
      "byteLimit": 2048000,
      "rowLimit": 10000
     },
     "inputWidgets": {},
     "nuid": "23ec7b65-fcf3-4ca4-b72c-ac52f7336f28",
     "showTitle": false,
     "title": ""
    }
   },
   "outputs": [],
   "source": [
    "# run multivariate linear regression for 'crim'\n",
    "X1 = Boston.iloc[:,[1,2,4,5,6,7,8, 9,10,11,12,13]]\n",
    "X2 = Boston['chas']\n",
    "reg = ols(\"crim~zn+indus+C(chas)+nox+rm+age+dis+rad\\\n",
    "          +tax+ptratio+black+lstat+medv\", data = Boston).fit()"
   ]
  },
  {
   "cell_type": "code",
   "execution_count": 0,
   "metadata": {
    "application/vnd.databricks.v1+cell": {
     "cellMetadata": {
      "byteLimit": 2048000,
      "rowLimit": 10000
     },
     "inputWidgets": {},
     "nuid": "2c21972b-89cb-477c-9432-385ce49a0839",
     "showTitle": false,
     "title": ""
    }
   },
   "outputs": [],
   "source": [
    "reg.summary()"
   ]
  },
  {
   "cell_type": "markdown",
   "metadata": {
    "application/vnd.databricks.v1+cell": {
     "cellMetadata": {
      "byteLimit": 2048000,
      "rowLimit": 10000
     },
     "inputWidgets": {},
     "nuid": "e123a42b-420e-4863-bb2b-5366801f81bb",
     "showTitle": false,
     "title": ""
    }
   },
   "source": [
    "**c. How do your results from (a) compare to your results from (b)? Create a plot displaying the univariate regression coefcients from (a) on the x-axis, and the multiple regression coefcients from (b) on the y-axis. That is, each predictor is displayed as a single point in the plot. Its coefcient in a simple linear regression model is shown on the x-axis, and its coefcient estimate in the multiple linear regression model is shown on the y-axis.**"
   ]
  },
  {
   "cell_type": "code",
   "execution_count": 0,
   "metadata": {
    "application/vnd.databricks.v1+cell": {
     "cellMetadata": {
      "byteLimit": 2048000,
      "rowLimit": 10000
     },
     "inputWidgets": {},
     "nuid": "0a4a2d4b-581e-41fd-b6d2-e95fb28e5a14",
     "showTitle": false,
     "title": ""
    }
   },
   "outputs": [],
   "source": [
    "plt.xkcd()\n",
    "sns.pairplot(Boston)\n",
    "plt.title(\"Boston Pairplot\")"
   ]
  },
  {
   "cell_type": "code",
   "execution_count": 0,
   "metadata": {
    "application/vnd.databricks.v1+cell": {
     "cellMetadata": {
      "byteLimit": 2048000,
      "rowLimit": 10000
     },
     "inputWidgets": {},
     "nuid": "2e6d726b-928f-4947-8af2-19197f23601a",
     "showTitle": false,
     "title": ""
    }
   },
   "outputs": [],
   "source": [
    "Boston_columns = list(Boston)\n",
    "for t in Boston_columns:\n",
    "    reg = ols(\"crim~Boston[t]+I(pow(Boston[t],2)) +\\\n",
    "              I(pow(Boston[t],3))\", data = Boston).fit()\n",
    "    print(reg.summary())\n",
    "    print()\n",
    "    print(colored(\"=\"*78, 'green'))\n",
    "    print()"
   ]
  },
  {
   "cell_type": "markdown",
   "metadata": {
    "application/vnd.databricks.v1+cell": {
     "cellMetadata": {
      "byteLimit": 2048000,
      "rowLimit": 10000
     },
     "inputWidgets": {},
     "nuid": "b6e38240-429d-4546-b679-7dded062cedd",
     "showTitle": false,
     "title": ""
    }
   },
   "source": [
    "15.a., b. & c. There are statistically significant association between the predictor and response for 'dis', 'rad', \n",
    "'black', 'medv' in the multivariate linear regression model."
   ]
  },
  {
   "cell_type": "markdown",
   "metadata": {
    "application/vnd.databricks.v1+cell": {
     "cellMetadata": {
      "byteLimit": 2048000,
      "rowLimit": 10000
     },
     "inputWidgets": {},
     "nuid": "ac4a7ad7-b20a-4549-8df4-a97f490570df",
     "showTitle": false,
     "title": ""
    }
   },
   "source": [
    "**d. Is there evidence of non-linear association between any of the predictors and the response? To answer this question, for each predictor X, ft a model of the form**: \n",
    "Y = β0 + β1X + β2X2 + β3X3 + e."
   ]
  },
  {
   "cell_type": "markdown",
   "metadata": {
    "application/vnd.databricks.v1+cell": {
     "cellMetadata": {
      "byteLimit": 2048000,
      "rowLimit": 10000
     },
     "inputWidgets": {},
     "nuid": "0a7c87c5-533d-4d74-83fa-c55848eef7e6",
     "showTitle": false,
     "title": ""
    }
   },
   "source": [
    "The answer is 'yes' for all but 'black' and 'chas', as seen in above plots."
   ]
  },
  {
   "cell_type": "code",
   "execution_count": 0,
   "metadata": {
    "application/vnd.databricks.v1+cell": {
     "cellMetadata": {
      "byteLimit": 2048000,
      "rowLimit": 10000
     },
     "inputWidgets": {},
     "nuid": "3fc9e33d-66df-4ec0-9fc8-5953c27a9f1f",
     "showTitle": false,
     "title": ""
    }
   },
   "outputs": [],
   "source": []
  }
 ],
 "metadata": {
  "application/vnd.databricks.v1+notebook": {
   "dashboards": [],
   "language": "python",
   "notebookMetadata": {
    "pythonIndentUnit": 2
   },
   "notebookName": "Question 15 - answers",
   "widgets": {}
  }
 },
 "nbformat": 4,
 "nbformat_minor": 0
}
