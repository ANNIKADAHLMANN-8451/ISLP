{
 "cells": [
  {
   "cell_type": "markdown",
   "metadata": {
    "application/vnd.databricks.v1+cell": {
     "cellMetadata": {
      "byteLimit": 2048000,
      "rowLimit": 10000
     },
     "inputWidgets": {},
     "nuid": "87f9280b-2968-4f2f-906d-28498fb1991e",
     "showTitle": false,
     "title": ""
    }
   },
   "source": [
    "This question involves the use of simple linear regression on the `Auto` data set."
   ]
  },
  {
   "cell_type": "code",
   "execution_count": 0,
   "metadata": {
    "application/vnd.databricks.v1+cell": {
     "cellMetadata": {
      "byteLimit": 2048000,
      "rowLimit": 10000
     },
     "inputWidgets": {},
     "nuid": "90bc89a7-5672-4ad9-91bb-cbc8ffb0e4ff",
     "showTitle": false,
     "title": ""
    }
   },
   "outputs": [],
   "source": [
    "%pip install --quiet chart-studio"
   ]
  },
  {
   "cell_type": "code",
   "execution_count": 0,
   "metadata": {
    "application/vnd.databricks.v1+cell": {
     "cellMetadata": {
      "byteLimit": 2048000,
      "rowLimit": 10000
     },
     "inputWidgets": {},
     "nuid": "a772afae-a3e3-4ad1-a215-c06022708d58",
     "showTitle": false,
     "title": ""
    }
   },
   "outputs": [],
   "source": [
    "import numpy as np\n",
    "import pandas as pd\n",
    "import statsmodels.api as sm\n",
    "from statsmodels.formula.api import ols\n",
    "from sklearn.linear_model import LinearRegression\n",
    "import scipy.stats as stats"
   ]
  },
  {
   "cell_type": "code",
   "execution_count": 0,
   "metadata": {
    "application/vnd.databricks.v1+cell": {
     "cellMetadata": {
      "byteLimit": 2048000,
      "rowLimit": 10000
     },
     "inputWidgets": {},
     "nuid": "a001ccb1-0d11-488e-955e-c1a949d19857",
     "showTitle": false,
     "title": ""
    }
   },
   "outputs": [],
   "source": [
    "# import data visualisation tools\n",
    "import matplotlib.pyplot as plt\n",
    "import seaborn as sns"
   ]
  },
  {
   "cell_type": "code",
   "execution_count": 0,
   "metadata": {
    "application/vnd.databricks.v1+cell": {
     "cellMetadata": {
      "byteLimit": 2048000,
      "rowLimit": 10000
     },
     "inputWidgets": {},
     "nuid": "a4caca69-946c-4a81-be95-2b930477c5a9",
     "showTitle": false,
     "title": ""
    }
   },
   "outputs": [],
   "source": [
    "# import and preprocess data\n",
    "url = \"abfss://training@sa8451learningdev.dfs.core.windows.net/interpretable_machine_learning/eml_data/Auto.csv\"\n",
    "Auto = spark.read.option(\"header\", \"true\").csv(url).toPandas()\n",
    "\n",
    "int_cols = [\"cylinders\", \"horsepower\", \"weight\", \"year\", \"origin\"]\n",
    "float_cols = [\"mpg\", \"displacement\", \"acceleration\"]\n",
    "str_cols = [\"name\"]\n",
    "Auto[int_cols] = Auto[int_cols].astype(int)\n",
    "Auto[float_cols] = Auto[float_cols].astype(float)\n",
    "Auto[str_cols] = Auto[str_cols].astype(str)"
   ]
  },
  {
   "cell_type": "code",
   "execution_count": 0,
   "metadata": {
    "application/vnd.databricks.v1+cell": {
     "cellMetadata": {
      "byteLimit": 2048000,
      "rowLimit": 10000
     },
     "inputWidgets": {},
     "nuid": "b667535c-59ff-4a45-84ac-647b8f299d06",
     "showTitle": false,
     "title": ""
    }
   },
   "outputs": [],
   "source": [
    "Auto.head()"
   ]
  },
  {
   "cell_type": "code",
   "execution_count": 0,
   "metadata": {
    "application/vnd.databricks.v1+cell": {
     "cellMetadata": {
      "byteLimit": 2048000,
      "rowLimit": 10000
     },
     "inputWidgets": {},
     "nuid": "f358d16c-460a-4324-95c7-0da4e1039075",
     "showTitle": false,
     "title": ""
    }
   },
   "outputs": [],
   "source": [
    "list(Auto)"
   ]
  },
  {
   "cell_type": "code",
   "execution_count": 0,
   "metadata": {
    "application/vnd.databricks.v1+cell": {
     "cellMetadata": {
      "byteLimit": 2048000,
      "rowLimit": 10000
     },
     "inputWidgets": {},
     "nuid": "bf5cb126-85a7-4df1-a72d-aff2ce603729",
     "showTitle": false,
     "title": ""
    }
   },
   "outputs": [],
   "source": [
    "Auto = Auto.drop(Auto.index[[32, 126, 330, 336, 354]]) # removing rows containing \"?\". This is the easy way out. Such missing values need to be explored first in a real life situation."
   ]
  },
  {
   "cell_type": "markdown",
   "metadata": {
    "application/vnd.databricks.v1+cell": {
     "cellMetadata": {
      "byteLimit": 2048000,
      "rowLimit": 10000
     },
     "inputWidgets": {},
     "nuid": "71a523ab-2784-45c0-a91c-90ed6e2e99be",
     "showTitle": false,
     "title": ""
    }
   },
   "source": [
    "**a. Use the `sm.OLS()` function to perform a simple linear regression with `mpg` as the response and `horsepower` as the predictory. Use the `.summary()` function to print the results. Comment on the output. Consider using `stats.linregress` to gather the necessary information. For example:**\n",
    "  - Is there a relationship between the predictor and the response?\n",
    "  - How strong is the relationship between the predictor and the response?\n",
    "  - Is the relationship between the predictor and the response positive or negative?\n",
    "  - What is the predicted `mpg` associated with a `horsepower` of 98? What are the associated 95 % confdence and prediction intervals?"
   ]
  },
  {
   "cell_type": "code",
   "execution_count": 0,
   "metadata": {
    "application/vnd.databricks.v1+cell": {
     "cellMetadata": {
      "byteLimit": 2048000,
      "rowLimit": 10000
     },
     "inputWidgets": {},
     "nuid": "9c1c6a9f-65b4-4f58-8726-ceb07b387cda",
     "showTitle": false,
     "title": ""
    }
   },
   "outputs": [],
   "source": [
    "# run regression (I am not visualising the data for the sake of brevity. But it is highly recommended as first step afer importing data)\n",
    "Y = Auto.mpg.astype(float)\n",
    "X = Auto.horsepower.astype(float)\n",
    "model = ols(\"Y ~ X\", data = Auto).fit()"
   ]
  },
  {
   "cell_type": "code",
   "execution_count": 0,
   "metadata": {
    "application/vnd.databricks.v1+cell": {
     "cellMetadata": {
      "byteLimit": 2048000,
      "rowLimit": 10000
     },
     "inputWidgets": {},
     "nuid": "470464eb-18cd-43c5-8d99-7d0ce16923e4",
     "showTitle": false,
     "title": ""
    }
   },
   "outputs": [],
   "source": [
    "model.summary()"
   ]
  },
  {
   "cell_type": "code",
   "execution_count": 0,
   "metadata": {
    "application/vnd.databricks.v1+cell": {
     "cellMetadata": {
      "byteLimit": 2048000,
      "rowLimit": 10000
     },
     "inputWidgets": {},
     "nuid": "669f9b7e-0acb-4ac7-8f40-0df451925548",
     "showTitle": false,
     "title": ""
    }
   },
   "outputs": [],
   "source": [
    "values = slope, intercept, r_value, p_value, std_err = stats.linregress(X, Y)"
   ]
  },
  {
   "cell_type": "code",
   "execution_count": 0,
   "metadata": {
    "application/vnd.databricks.v1+cell": {
     "cellMetadata": {
      "byteLimit": 2048000,
      "rowLimit": 10000
     },
     "inputWidgets": {},
     "nuid": "b4496e6b-2cf6-4be7-8bc7-8b4ba01dfa4d",
     "showTitle": false,
     "title": ""
    }
   },
   "outputs": [],
   "source": [
    "X1 = Auto[['horsepower']]\n",
    "Y1 = Auto['mpg']\n",
    "lm = LinearRegression().fit(X1, Y1)"
   ]
  },
  {
   "cell_type": "code",
   "execution_count": 0,
   "metadata": {
    "application/vnd.databricks.v1+cell": {
     "cellMetadata": {
      "byteLimit": 2048000,
      "rowLimit": 10000
     },
     "inputWidgets": {},
     "nuid": "a08dd685-3782-4f12-b6bb-ec090131f9ed",
     "showTitle": false,
     "title": ""
    }
   },
   "outputs": [],
   "source": [
    "lm.coef_"
   ]
  },
  {
   "cell_type": "code",
   "execution_count": 0,
   "metadata": {
    "application/vnd.databricks.v1+cell": {
     "cellMetadata": {
      "byteLimit": 2048000,
      "rowLimit": 10000
     },
     "inputWidgets": {},
     "nuid": "91e50373-c13e-4c64-8d9f-b070b09c5c7b",
     "showTitle": false,
     "title": ""
    }
   },
   "outputs": [],
   "source": [
    "print(\"Coefficients: \", lm.coef_)\n",
    "print(\"Intercepts: \", lm.intercept_)\n",
    "Y2 = [[98]]\n",
    "predictions = lm.predict(Y2)"
   ]
  },
  {
   "cell_type": "code",
   "execution_count": 0,
   "metadata": {
    "application/vnd.databricks.v1+cell": {
     "cellMetadata": {
      "byteLimit": 2048000,
      "rowLimit": 10000
     },
     "inputWidgets": {},
     "nuid": "1dfce64b-4172-429c-b550-e702f1de9fbd",
     "showTitle": false,
     "title": ""
    }
   },
   "outputs": [],
   "source": [
    "print(\"Predicted value at X = 98: \", predictions)"
   ]
  },
  {
   "cell_type": "markdown",
   "metadata": {
    "application/vnd.databricks.v1+cell": {
     "cellMetadata": {
      "byteLimit": 2048000,
      "rowLimit": 10000
     },
     "inputWidgets": {},
     "nuid": "e59a298c-3b63-42be-bc8e-983efc451b69",
     "showTitle": false,
     "title": ""
    }
   },
   "source": [
    "i. Given the F-Statistic > 1 and p-value of that F-Statistic is close to 0 (and << 0.005), there is a statistically significant\n",
    "   relationship between mpg and horespower.\n",
    "\n",
    "\n",
    "ii. To determine the strength of the relationship between the predictor (horsepower) and response (mpg), we need to calculate the ratio of the RSE of the predictor (as determined by the model) and the mean of the response, since it would show how strongly it actually predicts the true values of the response. (Another way would be to show R^2 since it would determine how much the regressed model actually explains the true values of the response). The RSE is 4.905757 and the mean of mpg is 23.445918, which means the percentage error is 20.923714%. The R^2 value is 0.795 or 79.5%.\n",
    "\n",
    "\n",
    "iii. Negative relationship. An increase in horsepower is related to a decrease in mpg.\n",
    "\n",
    "iv. 24.46707715"
   ]
  },
  {
   "cell_type": "markdown",
   "metadata": {
    "application/vnd.databricks.v1+cell": {
     "cellMetadata": {
      "byteLimit": 2048000,
      "rowLimit": 10000
     },
     "inputWidgets": {},
     "nuid": "4b91a6c7-1454-42d2-b3ff-589005138acd",
     "showTitle": false,
     "title": ""
    }
   },
   "source": [
    "**b. Plot the response and the predictory in a new `matplotlib` figure. Use the `sns.lmplot()` method to display the least squares regression line.**"
   ]
  },
  {
   "cell_type": "code",
   "execution_count": 0,
   "metadata": {
    "application/vnd.databricks.v1+cell": {
     "cellMetadata": {
      "byteLimit": 2048000,
      "rowLimit": 10000
     },
     "inputWidgets": {},
     "nuid": "075d1741-80d7-4876-8083-3aa68f133580",
     "showTitle": false,
     "title": ""
    }
   },
   "outputs": [],
   "source": [
    "# plot relationships\n",
    "plt.xkcd()\n",
    "plt.figure(figsize=(25, 10))\n",
    "plotdata = pd.concat([X, Y], axis = 1)\n",
    "sns.lmplot(x = \"horsepower\", y = \"mpg\", data = plotdata)\n",
    "fig = plt.gcf()\n",
    "fig.set_size_inches(25, 10)\n",
    "plt.show()"
   ]
  },
  {
   "cell_type": "code",
   "execution_count": 0,
   "metadata": {
    "application/vnd.databricks.v1+cell": {
     "cellMetadata": {
      "byteLimit": 2048000,
      "rowLimit": 10000
     },
     "inputWidgets": {},
     "nuid": "554d5362-9196-4971-82a3-e61bd0cb8a35",
     "showTitle": false,
     "title": ""
    }
   },
   "outputs": [],
   "source": []
  }
 ],
 "metadata": {
  "application/vnd.databricks.v1+notebook": {
   "dashboards": [],
   "language": "python",
   "notebookMetadata": {
    "pythonIndentUnit": 2
   },
   "notebookName": "Question 8 - answers",
   "widgets": {}
  }
 },
 "nbformat": 4,
 "nbformat_minor": 0
}
