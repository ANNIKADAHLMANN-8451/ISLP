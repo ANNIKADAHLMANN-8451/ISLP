{
 "cells": [
  {
   "cell_type": "markdown",
   "metadata": {
    "application/vnd.databricks.v1+cell": {
     "cellMetadata": {
      "byteLimit": 2048000,
      "rowLimit": 10000
     },
     "inputWidgets": {},
     "nuid": "1884d093-56b9-4565-a5ec-124e9cbdd158",
     "showTitle": false,
     "title": ""
    }
   },
   "source": [
    "This question involves the use of multiple linear regression on the `Auto` data set."
   ]
  },
  {
   "cell_type": "code",
   "execution_count": 0,
   "metadata": {
    "application/vnd.databricks.v1+cell": {
     "cellMetadata": {
      "byteLimit": 2048000,
      "rowLimit": 10000
     },
     "inputWidgets": {},
     "nuid": "89e94297-840c-4ba4-9521-b7f352872dfa",
     "showTitle": false,
     "title": ""
    }
   },
   "outputs": [],
   "source": [
    "# general imports\n",
    "import numpy as np\n",
    "import pandas as pd\n",
    "import statsmodels.api as sm\n",
    "from statsmodels.formula.api import ols"
   ]
  },
  {
   "cell_type": "code",
   "execution_count": 0,
   "metadata": {
    "application/vnd.databricks.v1+cell": {
     "cellMetadata": {
      "byteLimit": 2048000,
      "rowLimit": 10000
     },
     "inputWidgets": {},
     "nuid": "5c720401-223e-41a1-9437-e4d25986a1bc",
     "showTitle": false,
     "title": ""
    }
   },
   "outputs": [],
   "source": [
    "# import data visualisation tools\n",
    "import seaborn as sns"
   ]
  },
  {
   "cell_type": "code",
   "execution_count": 0,
   "metadata": {
    "application/vnd.databricks.v1+cell": {
     "cellMetadata": {
      "byteLimit": 2048000,
      "rowLimit": 10000
     },
     "inputWidgets": {},
     "nuid": "bd003433-d4dc-47dd-8afe-c4e6cc67d227",
     "showTitle": false,
     "title": ""
    }
   },
   "outputs": [],
   "source": [
    "# import and preprocess data\n",
    "url = \"abfss://training@sa8451learningdev.dfs.core.windows.net/interpretable_machine_learning/eml_data/Auto.csv\"\n",
    "Auto = spark.read.option(\"header\", \"true\").csv(url).toPandas()\n",
    "\n",
    "int_cols = [\"cylinders\", \"horsepower\", \"weight\", \"year\", \"origin\"]\n",
    "float_cols = [\"mpg\", \"displacement\", \"acceleration\"]\n",
    "str_cols = [\"name\"]\n",
    "Auto[int_cols] = Auto[int_cols].astype(int)\n",
    "Auto[float_cols] = Auto[float_cols].astype(float)\n",
    "Auto[str_cols] = Auto[str_cols].astype(str)"
   ]
  },
  {
   "cell_type": "code",
   "execution_count": 0,
   "metadata": {
    "application/vnd.databricks.v1+cell": {
     "cellMetadata": {
      "byteLimit": 2048000,
      "rowLimit": 10000
     },
     "inputWidgets": {},
     "nuid": "f4ab705a-e7eb-4b24-9c4c-95e061a62e44",
     "showTitle": false,
     "title": ""
    }
   },
   "outputs": [],
   "source": [
    "Auto.head()"
   ]
  },
  {
   "cell_type": "code",
   "execution_count": 0,
   "metadata": {
    "application/vnd.databricks.v1+cell": {
     "cellMetadata": {
      "byteLimit": 2048000,
      "rowLimit": 10000
     },
     "inputWidgets": {},
     "nuid": "25f4a95f-bab2-4a04-abae-9712fac85a98",
     "showTitle": false,
     "title": ""
    }
   },
   "outputs": [],
   "source": [
    "list(Auto)"
   ]
  },
  {
   "cell_type": "code",
   "execution_count": 0,
   "metadata": {
    "application/vnd.databricks.v1+cell": {
     "cellMetadata": {
      "byteLimit": 2048000,
      "rowLimit": 10000
     },
     "inputWidgets": {},
     "nuid": "c7829f52-8627-4283-ae77-8d88a5d595b2",
     "showTitle": false,
     "title": ""
    }
   },
   "outputs": [],
   "source": [
    "Auto = Auto.drop(Auto.index[[32, 126, 330, 336, 354]]) # removing rows containing \"?\". This is the easy way out. Such missing values need to be explored first in a real life situation."
   ]
  },
  {
   "cell_type": "code",
   "execution_count": 0,
   "metadata": {
    "application/vnd.databricks.v1+cell": {
     "cellMetadata": {
      "byteLimit": 2048000,
      "rowLimit": 10000
     },
     "inputWidgets": {},
     "nuid": "836bd863-6338-4285-9c96-a9c32b24a93d",
     "showTitle": false,
     "title": ""
    }
   },
   "outputs": [],
   "source": [
    "Auto.info()"
   ]
  },
  {
   "cell_type": "markdown",
   "metadata": {
    "application/vnd.databricks.v1+cell": {
     "cellMetadata": {
      "byteLimit": 2048000,
      "rowLimit": 10000
     },
     "inputWidgets": {},
     "nuid": "074a3b69-ada9-4fd8-a279-0c05e83723ee",
     "showTitle": false,
     "title": ""
    }
   },
   "source": [
    "**a. Produce a scatterplot matrix which includes all of the variables in the data set.**"
   ]
  },
  {
   "cell_type": "code",
   "execution_count": 0,
   "metadata": {
    "application/vnd.databricks.v1+cell": {
     "cellMetadata": {
      "byteLimit": 2048000,
      "rowLimit": 10000
     },
     "inputWidgets": {},
     "nuid": "7bad6328-393b-4685-8d6a-e7c7c71c5ebf",
     "showTitle": false,
     "title": ""
    }
   },
   "outputs": [],
   "source": [
    "sns.pairplot(Auto, hue = \"origin\")"
   ]
  },
  {
   "cell_type": "markdown",
   "metadata": {
    "application/vnd.databricks.v1+cell": {
     "cellMetadata": {
      "byteLimit": 2048000,
      "rowLimit": 10000
     },
     "inputWidgets": {},
     "nuid": "4bf64de3-a109-4d2a-9f3a-d0ee946412a7",
     "showTitle": false,
     "title": ""
    }
   },
   "source": [
    "**b. Compute the matrix of correlations between the variables using the `DataFrame.corr()` method.**"
   ]
  },
  {
   "cell_type": "code",
   "execution_count": 0,
   "metadata": {
    "application/vnd.databricks.v1+cell": {
     "cellMetadata": {
      "byteLimit": 2048000,
      "rowLimit": 10000
     },
     "inputWidgets": {},
     "nuid": "fb4ac111-fbb6-4bba-9522-7d1eaafbc77f",
     "showTitle": false,
     "title": ""
    }
   },
   "outputs": [],
   "source": [
    "Auto.corr()"
   ]
  },
  {
   "cell_type": "markdown",
   "metadata": {
    "application/vnd.databricks.v1+cell": {
     "cellMetadata": {
      "byteLimit": 2048000,
      "rowLimit": 10000
     },
     "inputWidgets": {},
     "nuid": "2c4d2633-3c58-4337-9056-4ca5da930e89",
     "showTitle": false,
     "title": ""
    }
   },
   "source": [
    "**c. Use the `sm.OLS()` function to perform a multiple linear regression with `mpg` as the response and all other variables except name as the predictors. Use the `.summary()` function to print the results. Comment on the output. For instance:**\n",
    "  - i. Is there a relationship between the predictors and the response? Use the `anova_lm()` function from `statsmodels` to answer this question.\n",
    "  - ii. Which predictors appear to have a statistically signifcant relationship to the response?\n",
    "  - iii. What does the coefcient for the year variable suggest?"
   ]
  },
  {
   "cell_type": "code",
   "execution_count": 0,
   "metadata": {
    "application/vnd.databricks.v1+cell": {
     "cellMetadata": {
      "byteLimit": 2048000,
      "rowLimit": 10000
     },
     "inputWidgets": {},
     "nuid": "9313b41c-c731-4aa9-ae43-fc5ad328de6d",
     "showTitle": false,
     "title": ""
    }
   },
   "outputs": [],
   "source": [
    "X = Auto[['cylinders', 'displacement', 'horsepower', 'weight',\n",
    "       'acceleration', 'year', 'origin']]\n",
    "Y = Auto['mpg']\n",
    "X1 = sm.add_constant(X)\n",
    "reg = sm.OLS(Y, X1).fit()"
   ]
  },
  {
   "cell_type": "code",
   "execution_count": 0,
   "metadata": {
    "application/vnd.databricks.v1+cell": {
     "cellMetadata": {
      "byteLimit": 2048000,
      "rowLimit": 10000
     },
     "inputWidgets": {},
     "nuid": "0132d738-481d-4c61-8e6b-2db1f5140600",
     "showTitle": false,
     "title": ""
    }
   },
   "outputs": [],
   "source": [
    "reg.summary()"
   ]
  },
  {
   "cell_type": "markdown",
   "metadata": {
    "application/vnd.databricks.v1+cell": {
     "cellMetadata": {
      "byteLimit": 2048000,
      "rowLimit": 10000
     },
     "inputWidgets": {},
     "nuid": "025be7c7-ca2e-4291-92f2-51c73684ffae",
     "showTitle": false,
     "title": ""
    }
   },
   "source": [
    "**e and f. Fit some models with interactions as described in the lab. Do any interactions appear to be statistically signifcant? Try a few different transformations of the variables, such as log, square root, raising to powers. Comment on your findings.**"
   ]
  },
  {
   "cell_type": "code",
   "execution_count": 0,
   "metadata": {
    "application/vnd.databricks.v1+cell": {
     "cellMetadata": {
      "byteLimit": 2048000,
      "rowLimit": 10000
     },
     "inputWidgets": {},
     "nuid": "2124aba5-dcc1-4b70-992b-89d35d4f8ccd",
     "showTitle": false,
     "title": ""
    }
   },
   "outputs": [],
   "source": [
    "X1 = Auto['horsepower']\n",
    "X2 = Auto['weight']\n",
    "X3 = Auto['acceleration']\n",
    "X4 = Auto['year']\n",
    "X5 = Auto['origin']\n",
    "X6 = Auto['displacement']\n",
    "X7 = Auto['cylinders']\n",
    "Y = Auto['mpg']\n",
    "reg = ols(\"Y~X1+X2+X3+X4+X5+X6+X7+X7*X6+X7*X2+X6*X2\", data = Auto).fit()"
   ]
  },
  {
   "cell_type": "markdown",
   "metadata": {
    "application/vnd.databricks.v1+cell": {
     "cellMetadata": {
      "byteLimit": 2048000,
      "rowLimit": 10000
     },
     "inputWidgets": {},
     "nuid": "4f006469-6378-4650-ac80-0022b36fb611",
     "showTitle": false,
     "title": ""
    }
   },
   "source": [
    "There is no pure statistical method to assess interaction terms. ISLR  provides some clever examples to deduce this. But ultimately, it will depend\n",
    "on chopping and changing between different independent variables depending on your research goals. This question on Stats Stack Exchange provides an\n",
    "excellent answer - http://bit.ly/2ApTvQ4\n",
    "<br><br>\n",
    "For the sake of brevity, I have included interactions between terms with higest covariance amongst them."
   ]
  },
  {
   "cell_type": "code",
   "execution_count": 0,
   "metadata": {
    "application/vnd.databricks.v1+cell": {
     "cellMetadata": {
      "byteLimit": 2048000,
      "rowLimit": 10000
     },
     "inputWidgets": {},
     "nuid": "2e16c935-26d2-47ca-b7c7-fce666f2e828",
     "showTitle": false,
     "title": ""
    }
   },
   "outputs": [],
   "source": [
    "reg.summary()"
   ]
  },
  {
   "cell_type": "code",
   "execution_count": 0,
   "metadata": {
    "application/vnd.databricks.v1+cell": {
     "cellMetadata": {
      "byteLimit": 2048000,
      "rowLimit": 10000
     },
     "inputWidgets": {},
     "nuid": "e77dcec7-2ab7-4565-b15e-14b6cf45453e",
     "showTitle": false,
     "title": ""
    }
   },
   "outputs": [],
   "source": [
    "reg = ols(\"Y~X1+X2+X3+X4+X5+X6+X7+I(np.log(X1))+I(X4^2)\", data = Auto).fit()"
   ]
  },
  {
   "cell_type": "markdown",
   "metadata": {
    "application/vnd.databricks.v1+cell": {
     "cellMetadata": {
      "byteLimit": 2048000,
      "rowLimit": 10000
     },
     "inputWidgets": {},
     "nuid": "917c9030-9e1a-46f8-984e-7cb02f4379f1",
     "showTitle": false,
     "title": ""
    }
   },
   "source": [
    "I randomly chose two transformations for two variables:\n",
    "<br>\n",
    "1. Log-transformation for X1: OLS result suggests that for a unit change in log(X1), the miles per gallon reduces by ~27.2 units\n",
    "<br>\n",
    "2. Square of X4: OLS result suggests that for a unit increase in X4^2, the miles per gallon reduces by 0.12 units. However, the high p-value of this statistic suggests that the null hypothesis cannot be rejected. Therefore, essentially there is no difference between this particular value and 0, and therefore this statistic can be discarded."
   ]
  },
  {
   "cell_type": "code",
   "execution_count": 0,
   "metadata": {
    "application/vnd.databricks.v1+cell": {
     "cellMetadata": {
      "byteLimit": 2048000,
      "rowLimit": 10000
     },
     "inputWidgets": {},
     "nuid": "ac006754-b069-4ce4-aaa0-8459c96240a1",
     "showTitle": false,
     "title": ""
    }
   },
   "outputs": [],
   "source": [
    "reg.summary()"
   ]
  }
 ],
 "metadata": {
  "application/vnd.databricks.v1+notebook": {
   "dashboards": [],
   "language": "python",
   "notebookMetadata": {
    "pythonIndentUnit": 2
   },
   "notebookName": "Question 9 - answers",
   "widgets": {}
  }
 },
 "nbformat": 4,
 "nbformat_minor": 0
}
