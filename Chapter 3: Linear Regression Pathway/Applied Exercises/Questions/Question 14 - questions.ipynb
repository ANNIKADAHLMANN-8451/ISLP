{
 "cells": [
  {
   "cell_type": "markdown",
   "metadata": {
    "application/vnd.databricks.v1+cell": {
     "cellMetadata": {
      "byteLimit": 2048000,
      "rowLimit": 10000
     },
     "inputWidgets": {},
     "nuid": "ada92a9c-d672-4268-b2ac-37fe33473c75",
     "showTitle": false,
     "title": ""
    }
   },
   "source": [
    "This problem focuses on the collinearity problem."
   ]
  },
  {
   "cell_type": "code",
   "execution_count": 0,
   "metadata": {
    "application/vnd.databricks.v1+cell": {
     "cellMetadata": {
      "byteLimit": 2048000,
      "rowLimit": 10000
     },
     "inputWidgets": {},
     "nuid": "cc023663-2fc7-48ec-8ce9-ea5848246b27",
     "showTitle": false,
     "title": ""
    }
   },
   "outputs": [],
   "source": [
    "# general imports\n",
    "import numpy as np\n",
    "import pandas as pd\n",
    "import statsmodels.api as sm\n",
    "from statsmodels.formula.api import ols"
   ]
  },
  {
   "cell_type": "code",
   "execution_count": 0,
   "metadata": {
    "application/vnd.databricks.v1+cell": {
     "cellMetadata": {
      "byteLimit": 2048000,
      "rowLimit": 10000
     },
     "inputWidgets": {},
     "nuid": "9ccc85a0-4b1b-4f50-ba98-d31323c4d5ed",
     "showTitle": false,
     "title": ""
    }
   },
   "outputs": [],
   "source": [
    "# import data visualisation tools\n",
    "import matplotlib.pyplot as plt\n",
    "import seaborn as sns"
   ]
  },
  {
   "cell_type": "code",
   "execution_count": 0,
   "metadata": {
    "application/vnd.databricks.v1+cell": {
     "cellMetadata": {
      "byteLimit": 2048000,
      "rowLimit": 10000
     },
     "inputWidgets": {},
     "nuid": "4af0a882-9c0d-47f8-86bf-a9c9a8eb31c5",
     "showTitle": false,
     "title": ""
    }
   },
   "outputs": [],
   "source": [
    "# create data\n",
    "np.random.seed(1)\n",
    "x1 = pd.DataFrame(np.array([np.random.uniform(size = 100)]))\n",
    "x2 = pd.DataFrame(0.5*x1+np.random.standard_normal(size = 100)/10)\n",
    "y = pd.DataFrame(2+2*x1+0.3*x2+np.random.standard_normal(size = 100))"
   ]
  },
  {
   "cell_type": "code",
   "execution_count": 0,
   "metadata": {
    "application/vnd.databricks.v1+cell": {
     "cellMetadata": {
      "byteLimit": 2048000,
      "rowLimit": 10000
     },
     "inputWidgets": {},
     "nuid": "e9caafdb-664d-45a3-bec8-e0efeb0097c4",
     "showTitle": false,
     "title": ""
    }
   },
   "outputs": [],
   "source": [
    "x1T = x1.T\n",
    "x1T.columns = ['x1']\n",
    "x2T = x2.T\n",
    "x2T.columns = ['x2']\n",
    "yT = y.T\n",
    "yT.columns = ['y']\n",
    "\n",
    "data = pd.concat([x1T, x2T, yT], axis = 1)"
   ]
  },
  {
   "cell_type": "markdown",
   "metadata": {
    "application/vnd.databricks.v1+cell": {
     "cellMetadata": {
      "byteLimit": 2048000,
      "rowLimit": 10000
     },
     "inputWidgets": {},
     "nuid": "79bb5739-c8d1-4d75-9833-e99bd6c8641f",
     "showTitle": false,
     "title": ""
    }
   },
   "source": [
    "**a. Write out the form of the linear model. What are the regression coefcients?**"
   ]
  },
  {
   "cell_type": "code",
   "execution_count": 0,
   "metadata": {
    "application/vnd.databricks.v1+cell": {
     "cellMetadata": {
      "byteLimit": 2048000,
      "rowLimit": 10000
     },
     "inputWidgets": {},
     "nuid": "9759775f-9464-4660-9873-d644ef922dcf",
     "showTitle": false,
     "title": ""
    }
   },
   "outputs": [],
   "source": [
    "# TODO: your response here"
   ]
  },
  {
   "cell_type": "markdown",
   "metadata": {
    "application/vnd.databricks.v1+cell": {
     "cellMetadata": {
      "byteLimit": 2048000,
      "rowLimit": 10000
     },
     "inputWidgets": {},
     "nuid": "071287f8-d231-403d-a923-a5763a1a920c",
     "showTitle": false,
     "title": ""
    }
   },
   "source": [
    "**b. What is the correlation between x1 and x2? Create a scatterplot displaying the relationship between the variables.**"
   ]
  },
  {
   "cell_type": "code",
   "execution_count": 0,
   "metadata": {
    "application/vnd.databricks.v1+cell": {
     "cellMetadata": {
      "byteLimit": 2048000,
      "rowLimit": 10000
     },
     "inputWidgets": {},
     "nuid": "3da1b2d9-3d5a-4d8e-be37-68b149d92abb",
     "showTitle": false,
     "title": ""
    }
   },
   "outputs": [],
   "source": [
    "# TODO: your response here"
   ]
  },
  {
   "cell_type": "markdown",
   "metadata": {
    "application/vnd.databricks.v1+cell": {
     "cellMetadata": {
      "byteLimit": 2048000,
      "rowLimit": 10000
     },
     "inputWidgets": {},
     "nuid": "3319a176-94ec-4fac-a507-548daea1b26b",
     "showTitle": false,
     "title": ""
    }
   },
   "source": [
    "**c. Using this data, ft a least squares regression to predict `y` using `x1` and `x2`. Describe the results obtained. What are βˆ0, βˆ1, and βˆ2? How do these relate to the true β0, β1, and β2? Can you reject the null hypothesis H0 : β1 = 0? How about the null hypothesis H0 : β2 = 0?**"
   ]
  },
  {
   "cell_type": "code",
   "execution_count": 0,
   "metadata": {
    "application/vnd.databricks.v1+cell": {
     "cellMetadata": {
      "byteLimit": 2048000,
      "rowLimit": 10000
     },
     "inputWidgets": {},
     "nuid": "29f04ff1-7069-4019-b6d1-b764957769ae",
     "showTitle": false,
     "title": ""
    }
   },
   "outputs": [],
   "source": [
    "# TODO: your response here"
   ]
  },
  {
   "cell_type": "markdown",
   "metadata": {
    "application/vnd.databricks.v1+cell": {
     "cellMetadata": {
      "byteLimit": 2048000,
      "rowLimit": 10000
     },
     "inputWidgets": {},
     "nuid": "be612a5b-1e50-400a-9526-f6626e47c1a5",
     "showTitle": false,
     "title": ""
    }
   },
   "source": [
    "**d. Now ft a least squares regression to predict `y` using only `x1`. Comment on your results. Can you reject the null hypothesis H0 : β1 = 0?**"
   ]
  },
  {
   "cell_type": "code",
   "execution_count": 0,
   "metadata": {
    "application/vnd.databricks.v1+cell": {
     "cellMetadata": {
      "byteLimit": 2048000,
      "rowLimit": 10000
     },
     "inputWidgets": {},
     "nuid": "e81e09b5-4193-46a1-bd67-074a035bc488",
     "showTitle": false,
     "title": ""
    }
   },
   "outputs": [],
   "source": [
    "# TODO: your response here"
   ]
  },
  {
   "cell_type": "markdown",
   "metadata": {
    "application/vnd.databricks.v1+cell": {
     "cellMetadata": {
      "byteLimit": 2048000,
      "rowLimit": 10000
     },
     "inputWidgets": {},
     "nuid": "7b072e64-1703-4104-ba87-68629608c7c6",
     "showTitle": false,
     "title": ""
    }
   },
   "source": [
    "**e. Now ft a least squares regression to predict `y` using only `x2`. Comment on your results. Can you reject the null hypothesis H0 : β1 = 0?**"
   ]
  },
  {
   "cell_type": "code",
   "execution_count": 0,
   "metadata": {
    "application/vnd.databricks.v1+cell": {
     "cellMetadata": {
      "byteLimit": 2048000,
      "rowLimit": 10000
     },
     "inputWidgets": {},
     "nuid": "9df1a057-d8e7-4b88-97ec-8e6ea0d96e79",
     "showTitle": false,
     "title": ""
    }
   },
   "outputs": [],
   "source": [
    "# TODO: your response here"
   ]
  },
  {
   "cell_type": "markdown",
   "metadata": {
    "application/vnd.databricks.v1+cell": {
     "cellMetadata": {
      "byteLimit": 2048000,
      "rowLimit": 10000
     },
     "inputWidgets": {},
     "nuid": "7e02d8a7-fd20-42c3-9c64-5692e45fa70b",
     "showTitle": false,
     "title": ""
    }
   },
   "source": [
    "**f. Do the results obtained in (c)–(e) contradict each other? Explain your answer.**"
   ]
  },
  {
   "cell_type": "code",
   "execution_count": 0,
   "metadata": {
    "application/vnd.databricks.v1+cell": {
     "cellMetadata": {
      "byteLimit": 2048000,
      "rowLimit": 10000
     },
     "inputWidgets": {},
     "nuid": "df36d8b9-64eb-4a61-b54d-8b728a2c7364",
     "showTitle": false,
     "title": ""
    }
   },
   "outputs": [],
   "source": [
    "# TODO: your response here"
   ]
  },
  {
   "cell_type": "markdown",
   "metadata": {
    "application/vnd.databricks.v1+cell": {
     "cellMetadata": {
      "byteLimit": 2048000,
      "rowLimit": 10000
     },
     "inputWidgets": {},
     "nuid": "aa2a46af-1539-47cc-8beb-07c581b3436b",
     "showTitle": false,
     "title": ""
    }
   },
   "source": [
    "d\n",
    " **g. Suppose we obtain one additional observation, which was unfortunately mismeasured. We use the function `np.concatenate()` and this additional observation to each of `x1`, `x2` and `y`, as seen below. Re-fit the linear models from (c) to (e) using this new data. What efect does this new observation have on the each of the models? In each model, is this observation an outlier? A high-leverage point? Both? Explain your answers.**"
   ]
  },
  {
   "cell_type": "code",
   "execution_count": 0,
   "metadata": {
    "application/vnd.databricks.v1+cell": {
     "cellMetadata": {
      "byteLimit": 2048000,
      "rowLimit": 10000
     },
     "inputWidgets": {},
     "nuid": "75e468c2-c762-43b9-b812-e26109f22564",
     "showTitle": false,
     "title": ""
    }
   },
   "outputs": [],
   "source": [
    "# additional observation\n",
    "add_values = pd.DataFrame([0.1, 0.8, 6.0]).T\n",
    "add_values.columns = ['x1','x2','y']\n",
    "data = data.append(add_values, ignore_index = False)"
   ]
  },
  {
   "cell_type": "code",
   "execution_count": 0,
   "metadata": {
    "application/vnd.databricks.v1+cell": {
     "cellMetadata": {
      "byteLimit": 2048000,
      "rowLimit": 10000
     },
     "inputWidgets": {},
     "nuid": "5c7e32d5-1324-4737-83e0-861f91a464e2",
     "showTitle": false,
     "title": ""
    }
   },
   "outputs": [],
   "source": [
    "# TODO: your response here"
   ]
  }
 ],
 "metadata": {
  "application/vnd.databricks.v1+notebook": {
   "dashboards": [],
   "language": "python",
   "notebookMetadata": {
    "pythonIndentUnit": 2
   },
   "notebookName": "Question 14 - questions",
   "widgets": {}
  }
 },
 "nbformat": 4,
 "nbformat_minor": 0
}
