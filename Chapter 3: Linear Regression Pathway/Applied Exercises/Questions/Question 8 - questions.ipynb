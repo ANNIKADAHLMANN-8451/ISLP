{
 "cells": [
  {
   "cell_type": "markdown",
   "metadata": {
    "application/vnd.databricks.v1+cell": {
     "cellMetadata": {
      "byteLimit": 2048000,
      "rowLimit": 10000
     },
     "inputWidgets": {},
     "nuid": "79a5052a-316c-4613-a613-c8e9ac22ac70",
     "showTitle": false,
     "title": ""
    }
   },
   "source": [
    "This question involves the use of simple linear regression on the `Auto` data set."
   ]
  },
  {
   "cell_type": "markdown",
   "metadata": {
    "application/vnd.databricks.v1+cell": {
     "cellMetadata": {
      "byteLimit": 2048000,
      "rowLimit": 10000
     },
     "inputWidgets": {},
     "nuid": "056f6745-1591-4433-a7de-38507eab5ab9",
     "showTitle": false,
     "title": ""
    }
   },
   "source": [
    "#### Imports and load dataset that you'll need to answer the below applied questions."
   ]
  },
  {
   "cell_type": "code",
   "execution_count": 0,
   "metadata": {
    "application/vnd.databricks.v1+cell": {
     "cellMetadata": {
      "byteLimit": 2048000,
      "rowLimit": 10000
     },
     "inputWidgets": {},
     "nuid": "e7c69e07-97fc-43f4-a3c9-c58e1ec0e17b",
     "showTitle": false,
     "title": ""
    }
   },
   "outputs": [],
   "source": [
    "# import generic tools\n",
    "import numpy as np\n",
    "import pandas as pd\n",
    "import statsmodels.api as sm\n",
    "from statsmodels.formula.api import ols\n",
    "from sklearn.linear_model import LinearRegression\n",
    "import scipy.stats as stats"
   ]
  },
  {
   "cell_type": "code",
   "execution_count": 0,
   "metadata": {
    "application/vnd.databricks.v1+cell": {
     "cellMetadata": {
      "byteLimit": 2048000,
      "rowLimit": 10000
     },
     "inputWidgets": {},
     "nuid": "2a500e26-a46f-4a94-bd12-65ea1446b9d8",
     "showTitle": false,
     "title": ""
    }
   },
   "outputs": [],
   "source": [
    "# import data visualisation tools\n",
    "import matplotlib.pyplot as plt\n",
    "import seaborn as sns"
   ]
  },
  {
   "cell_type": "code",
   "execution_count": 0,
   "metadata": {
    "application/vnd.databricks.v1+cell": {
     "cellMetadata": {
      "byteLimit": 2048000,
      "rowLimit": 10000
     },
     "inputWidgets": {},
     "nuid": "e22c78ed-2a69-45eb-9cc1-3e5e3762695b",
     "showTitle": false,
     "title": ""
    }
   },
   "outputs": [],
   "source": [
    "# load and preprocess data\n",
    "url = \"abfss://training@sa8451learningdev.dfs.core.windows.net/interpretable_machine_learning/eml_data/Auto.csv\"\n",
    "Auto = spark.read.option(\"header\", \"true\").csv(url).toPandas()\n",
    "\n",
    "int_cols = [\"cylinders\", \"horsepower\", \"weight\", \"year\", \"origin\"]\n",
    "float_cols = [\"mpg\", \"displacement\", \"acceleration\"]\n",
    "str_cols = [\"name\"]\n",
    "Auto[int_cols] = Auto[int_cols].astype(int)\n",
    "Auto[float_cols] = Auto[float_cols].astype(float)\n",
    "Auto[str_cols] = Auto[str_cols].astype(str)"
   ]
  },
  {
   "cell_type": "code",
   "execution_count": 0,
   "metadata": {
    "application/vnd.databricks.v1+cell": {
     "cellMetadata": {
      "byteLimit": 2048000,
      "rowLimit": 10000
     },
     "inputWidgets": {},
     "nuid": "e165b61b-5bed-4cb2-958c-4409aa62ad4b",
     "showTitle": false,
     "title": ""
    }
   },
   "outputs": [],
   "source": [
    "Auto.head()"
   ]
  },
  {
   "cell_type": "code",
   "execution_count": 0,
   "metadata": {
    "application/vnd.databricks.v1+cell": {
     "cellMetadata": {
      "byteLimit": 2048000,
      "rowLimit": 10000
     },
     "inputWidgets": {},
     "nuid": "19f992d5-03ca-418c-9942-6afee5ec700a",
     "showTitle": false,
     "title": ""
    }
   },
   "outputs": [],
   "source": [
    "Auto = Auto.drop(Auto.index[[32, 126, 330, 336, 354]]) # removing rows containing \"?\". This is the easy way out. Such missing values need to be explored first in a real life situation."
   ]
  },
  {
   "cell_type": "markdown",
   "metadata": {
    "application/vnd.databricks.v1+cell": {
     "cellMetadata": {
      "byteLimit": 2048000,
      "rowLimit": 10000
     },
     "inputWidgets": {},
     "nuid": "8ec2a76c-f720-4526-9ddc-2ca58f94898d",
     "showTitle": false,
     "title": ""
    }
   },
   "source": [
    "**a. Use the `sm.OLS()` function to perform a simple linear regression with `mpg` as the response and `horsepower` as the predictory. Use the `.summary()` function to print the results. Comment on the output. Consider using `stats.linregress` to gather the necessary information. For example:**\n",
    "  - Is there a relationship between the predictor and the response?\n",
    "  - How strong is the relationship between the predictor and the response?\n",
    "  - Is the relationship between the predictor and the response positive or negative?\n",
    "  - What is the predicted `mpg` associated with a `horsepower` of 98? What are the associated 95 % confdence and prediction intervals?"
   ]
  },
  {
   "cell_type": "code",
   "execution_count": 0,
   "metadata": {
    "application/vnd.databricks.v1+cell": {
     "cellMetadata": {
      "byteLimit": 2048000,
      "rowLimit": 10000
     },
     "inputWidgets": {},
     "nuid": "18fc02ed-2a74-4f72-96db-04e441f390fa",
     "showTitle": false,
     "title": ""
    }
   },
   "outputs": [],
   "source": [
    "# TODO: your answer here"
   ]
  },
  {
   "cell_type": "markdown",
   "metadata": {
    "application/vnd.databricks.v1+cell": {
     "cellMetadata": {
      "byteLimit": 2048000,
      "rowLimit": 10000
     },
     "inputWidgets": {},
     "nuid": "b49ba3d1-65fe-46a1-a824-d0fbf1d011b4",
     "showTitle": false,
     "title": ""
    }
   },
   "source": [
    "**b. Plot the response and the predictory in a new `matplotlib` figure. Use the `sns.lmplot()` method to display the least squares regression line.**"
   ]
  },
  {
   "cell_type": "code",
   "execution_count": 0,
   "metadata": {
    "application/vnd.databricks.v1+cell": {
     "cellMetadata": {
      "byteLimit": 2048000,
      "rowLimit": 10000
     },
     "inputWidgets": {},
     "nuid": "d0ef1b31-0f3a-4faa-b52e-0b51c4f964c4",
     "showTitle": false,
     "title": ""
    }
   },
   "outputs": [],
   "source": [
    "# TODO: your answer here"
   ]
  }
 ],
 "metadata": {
  "application/vnd.databricks.v1+notebook": {
   "dashboards": [],
   "language": "python",
   "notebookMetadata": {
    "pythonIndentUnit": 2
   },
   "notebookName": "Question 8 - questions",
   "widgets": {}
  }
 },
 "nbformat": 4,
 "nbformat_minor": 0
}
