{
 "cells": [
  {
   "cell_type": "markdown",
   "metadata": {
    "application/vnd.databricks.v1+cell": {
     "cellMetadata": {
      "byteLimit": 2048000,
      "rowLimit": 10000
     },
     "inputWidgets": {},
     "nuid": "346c2f14-0fc4-48db-afb5-b562c22e25ae",
     "showTitle": false,
     "title": ""
    }
   },
   "source": [
    "This question involves the use of multiple linear regression on the `Auto` data set."
   ]
  },
  {
   "cell_type": "code",
   "execution_count": 0,
   "metadata": {
    "application/vnd.databricks.v1+cell": {
     "cellMetadata": {
      "byteLimit": 2048000,
      "rowLimit": 10000
     },
     "inputWidgets": {},
     "nuid": "a4af6e91-99c1-48d9-9d9c-b89ab2a221ab",
     "showTitle": false,
     "title": ""
    }
   },
   "outputs": [],
   "source": [
    "# general imports\n",
    "import numpy as np\n",
    "import pandas as pd\n",
    "import statsmodels.api as sm\n",
    "from statsmodels.formula.api import ols"
   ]
  },
  {
   "cell_type": "code",
   "execution_count": 0,
   "metadata": {
    "application/vnd.databricks.v1+cell": {
     "cellMetadata": {
      "byteLimit": 2048000,
      "rowLimit": 10000
     },
     "inputWidgets": {},
     "nuid": "f48812c4-d227-432c-a56e-5929369291e9",
     "showTitle": false,
     "title": ""
    }
   },
   "outputs": [],
   "source": [
    "# import data visualisation tools\n",
    "import seaborn as sns"
   ]
  },
  {
   "cell_type": "code",
   "execution_count": 0,
   "metadata": {
    "application/vnd.databricks.v1+cell": {
     "cellMetadata": {
      "byteLimit": 2048000,
      "rowLimit": 10000
     },
     "inputWidgets": {},
     "nuid": "4c3787d2-8729-4674-9797-e65b9b32c03b",
     "showTitle": false,
     "title": ""
    }
   },
   "outputs": [],
   "source": [
    "# import and preprocess data\n",
    "url = \"abfss://training@sa8451learningdev.dfs.core.windows.net/interpretable_machine_learning/eml_data/Auto.csv\"\n",
    "Auto = spark.read.option(\"header\", \"true\").csv(url).toPandas()\n",
    "\n",
    "int_cols = [\"cylinders\", \"horsepower\", \"weight\", \"year\", \"origin\"]\n",
    "float_cols = [\"mpg\", \"displacement\", \"acceleration\"]\n",
    "str_cols = [\"name\"]\n",
    "Auto[int_cols] = Auto[int_cols].astype(int)\n",
    "Auto[float_cols] = Auto[float_cols].astype(float)\n",
    "Auto[str_cols] = Auto[str_cols].astype(str)"
   ]
  },
  {
   "cell_type": "code",
   "execution_count": 0,
   "metadata": {
    "application/vnd.databricks.v1+cell": {
     "cellMetadata": {
      "byteLimit": 2048000,
      "rowLimit": 10000
     },
     "inputWidgets": {},
     "nuid": "6a55dfaa-cafd-4af9-8911-660dce1d1917",
     "showTitle": false,
     "title": ""
    }
   },
   "outputs": [],
   "source": [
    "Auto.head()"
   ]
  },
  {
   "cell_type": "code",
   "execution_count": 0,
   "metadata": {
    "application/vnd.databricks.v1+cell": {
     "cellMetadata": {
      "byteLimit": 2048000,
      "rowLimit": 10000
     },
     "inputWidgets": {},
     "nuid": "78c8aee8-107e-4820-b0c3-21cea87c184b",
     "showTitle": false,
     "title": ""
    }
   },
   "outputs": [],
   "source": [
    "list(Auto)"
   ]
  },
  {
   "cell_type": "code",
   "execution_count": 0,
   "metadata": {
    "application/vnd.databricks.v1+cell": {
     "cellMetadata": {
      "byteLimit": 2048000,
      "rowLimit": 10000
     },
     "inputWidgets": {},
     "nuid": "fda3e132-5b92-4cf0-83f8-14d7f374e568",
     "showTitle": false,
     "title": ""
    }
   },
   "outputs": [],
   "source": [
    "Auto = Auto.drop(Auto.index[[32, 126, 330, 336, 354]]) # removing rows containing \"?\". This is the easy way out. Such missing values need to be explored first in a real life situation."
   ]
  },
  {
   "cell_type": "code",
   "execution_count": 0,
   "metadata": {
    "application/vnd.databricks.v1+cell": {
     "cellMetadata": {
      "byteLimit": 2048000,
      "rowLimit": 10000
     },
     "inputWidgets": {},
     "nuid": "a2dc842e-99f6-40e5-ad5a-b6d50d7dc436",
     "showTitle": false,
     "title": ""
    }
   },
   "outputs": [],
   "source": [
    "Auto.info()"
   ]
  },
  {
   "cell_type": "markdown",
   "metadata": {
    "application/vnd.databricks.v1+cell": {
     "cellMetadata": {
      "byteLimit": 2048000,
      "rowLimit": 10000
     },
     "inputWidgets": {},
     "nuid": "f007b293-3bca-48dc-b860-c264a63d1f56",
     "showTitle": false,
     "title": ""
    }
   },
   "source": [
    "**a. Produce a scatterplot matrix which includes all of the variables in the data set.**"
   ]
  },
  {
   "cell_type": "code",
   "execution_count": 0,
   "metadata": {
    "application/vnd.databricks.v1+cell": {
     "cellMetadata": {
      "byteLimit": 2048000,
      "rowLimit": 10000
     },
     "inputWidgets": {},
     "nuid": "1e269e88-1e57-4134-b2b5-a00bfd53c424",
     "showTitle": false,
     "title": ""
    }
   },
   "outputs": [],
   "source": [
    "# TODO: your answer here"
   ]
  },
  {
   "cell_type": "markdown",
   "metadata": {
    "application/vnd.databricks.v1+cell": {
     "cellMetadata": {
      "byteLimit": 2048000,
      "rowLimit": 10000
     },
     "inputWidgets": {},
     "nuid": "36b89867-dd5e-4b08-bee1-02e53f1ee4f5",
     "showTitle": false,
     "title": ""
    }
   },
   "source": [
    "**b. Compute the matrix of correlations between the variables using the `DataFrame.corr()` method.**"
   ]
  },
  {
   "cell_type": "code",
   "execution_count": 0,
   "metadata": {
    "application/vnd.databricks.v1+cell": {
     "cellMetadata": {
      "byteLimit": 2048000,
      "rowLimit": 10000
     },
     "inputWidgets": {},
     "nuid": "f8c550d2-4215-4cdb-b765-b2203a94d9af",
     "showTitle": false,
     "title": ""
    }
   },
   "outputs": [],
   "source": [
    "# TODO: your answer here"
   ]
  },
  {
   "cell_type": "markdown",
   "metadata": {
    "application/vnd.databricks.v1+cell": {
     "cellMetadata": {
      "byteLimit": 2048000,
      "rowLimit": 10000
     },
     "inputWidgets": {},
     "nuid": "1183b40e-9921-4558-b875-5082153bb9b6",
     "showTitle": false,
     "title": ""
    }
   },
   "source": [
    "**c. Use the `sm.OLS()` function to perform a multiple linear regression with `mpg` as the response and all other variables except name as the predictors. Use the `.summary()` function to print the results. Comment on the output. For instance:**\n",
    "  - i. Is there a relationship between the predictors and the response? Use the `anova_lm()` function from `statsmodels` to answer this question.\n",
    "  - ii. Which predictors appear to have a statistically signifcant relationship to the response?\n",
    "  - iii. What does the coefcient for the year variable suggest?"
   ]
  },
  {
   "cell_type": "code",
   "execution_count": 0,
   "metadata": {
    "application/vnd.databricks.v1+cell": {
     "cellMetadata": {
      "byteLimit": 2048000,
      "rowLimit": 10000
     },
     "inputWidgets": {},
     "nuid": "6ea374a3-de8a-4a5e-82eb-247a0c3f8043",
     "showTitle": false,
     "title": ""
    }
   },
   "outputs": [],
   "source": [
    "# TODO: your answer here"
   ]
  },
  {
   "cell_type": "markdown",
   "metadata": {
    "application/vnd.databricks.v1+cell": {
     "cellMetadata": {
      "byteLimit": 2048000,
      "rowLimit": 10000
     },
     "inputWidgets": {},
     "nuid": "eb119eb3-01fe-42a5-93da-65ac3733e25a",
     "showTitle": false,
     "title": ""
    }
   },
   "source": [
    "**e and f. Fit some models with interactions as described in the lab. Do any interactions appear to be statistically signifcant? Try a few different transformations of the variables, such as log, square root, raising to powers. Comment on your findings.**"
   ]
  },
  {
   "cell_type": "code",
   "execution_count": 0,
   "metadata": {
    "application/vnd.databricks.v1+cell": {
     "cellMetadata": {
      "byteLimit": 2048000,
      "rowLimit": 10000
     },
     "inputWidgets": {},
     "nuid": "8e41e7ef-8256-45b0-acda-26c5f75198d5",
     "showTitle": false,
     "title": ""
    }
   },
   "outputs": [],
   "source": [
    "# TODO: your answer here"
   ]
  }
 ],
 "metadata": {
  "application/vnd.databricks.v1+notebook": {
   "dashboards": [],
   "language": "python",
   "notebookMetadata": {
    "pythonIndentUnit": 2
   },
   "notebookName": "Question 9 - questions",
   "widgets": {}
  }
 },
 "nbformat": 4,
 "nbformat_minor": 0
}
