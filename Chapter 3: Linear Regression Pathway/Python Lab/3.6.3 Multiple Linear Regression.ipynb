{
 "cells": [
  {
   "cell_type": "code",
   "execution_count": 0,
   "metadata": {
    "application/vnd.databricks.v1+cell": {
     "cellMetadata": {
      "byteLimit": 2048000,
      "rowLimit": 10000
     },
     "inputWidgets": {},
     "nuid": "5603bd1a-be42-4113-b871-fd37b7fb2a3d",
     "showTitle": false,
     "title": ""
    }
   },
   "outputs": [],
   "source": [
    "# import statistical tools\n",
    "import numpy as np\n",
    "import pandas as pd\n",
    "from statsmodels.formula.api import ols\n",
    "from statsmodels.stats.outliers_influence import variance_inflation_factor"
   ]
  },
  {
   "cell_type": "code",
   "execution_count": 0,
   "metadata": {
    "application/vnd.databricks.v1+cell": {
     "cellMetadata": {
      "byteLimit": 2048000,
      "rowLimit": 10000
     },
     "inputWidgets": {},
     "nuid": "1621c255-375a-4020-821d-983fe8223e76",
     "showTitle": false,
     "title": ""
    }
   },
   "outputs": [],
   "source": [
    "# import data visualisation tools\n",
    "import matplotlib.pyplot as plt\n",
    "import seaborn as sns"
   ]
  },
  {
   "cell_type": "code",
   "execution_count": 0,
   "metadata": {
    "application/vnd.databricks.v1+cell": {
     "cellMetadata": {
      "byteLimit": 2048000,
      "rowLimit": 10000
     },
     "inputWidgets": {},
     "nuid": "842bcecc-c0c9-4a3e-9dc9-e457a570fd7a",
     "showTitle": false,
     "title": ""
    }
   },
   "outputs": [],
   "source": [
    "# import dataset and preprocess\n",
    "url = \"abfss://training@sa8451learningdev.dfs.core.windows.net/interpretable_machine_learning/eml_data/Boston.csv\"\n",
    "Boston = spark.read.option(\"header\", \"true\").csv(url).toPandas().astype(float)\n",
    "Boston.set_index('SlNo', inplace=True)\n",
    "Boston.head()"
   ]
  },
  {
   "cell_type": "code",
   "execution_count": 0,
   "metadata": {
    "application/vnd.databricks.v1+cell": {
     "cellMetadata": {
      "byteLimit": 2048000,
      "rowLimit": 10000
     },
     "inputWidgets": {},
     "nuid": "dda204e7-1e14-4a62-9b08-261fe03591e6",
     "showTitle": false,
     "title": ""
    }
   },
   "outputs": [],
   "source": [
    "plt.xkcd()\n",
    "plt.figure(figsize = (25, 10))\n",
    "sns.pairplot(Boston)\n",
    "plt.show()"
   ]
  },
  {
   "cell_type": "code",
   "execution_count": 0,
   "metadata": {
    "application/vnd.databricks.v1+cell": {
     "cellMetadata": {
      "byteLimit": 2048000,
      "rowLimit": 10000
     },
     "inputWidgets": {},
     "nuid": "ead81998-2328-4367-ae98-db1c32634019",
     "showTitle": false,
     "title": ""
    }
   },
   "outputs": [],
   "source": [
    "# perform regression\n",
    "Y = Boston['medv']\n",
    "X1 = Boston['crim']\n",
    "X2 = Boston['zn']\n",
    "X3 = Boston['indus']\n",
    "X4 = Boston['chas']\n",
    "X5 = Boston['nox']\n",
    "X6 = Boston['rm']\n",
    "X7 = Boston['age']\n",
    "X8 = Boston['dis']\n",
    "X9 = Boston['rad']\n",
    "X10 = Boston['tax']\n",
    "X11 = Boston['ptratio']\n",
    "X12 = Boston['black']\n",
    "X13 = Boston['lstat']\n",
    "\n",
    "model = ols(\"Y~X1+X2+X3+X4+X5+X6+X7+X8+X9+X10+X11+X12+X13\", data = Boston).fit()"
   ]
  },
  {
   "cell_type": "code",
   "execution_count": 0,
   "metadata": {
    "application/vnd.databricks.v1+cell": {
     "cellMetadata": {
      "byteLimit": 2048000,
      "rowLimit": 10000
     },
     "inputWidgets": {},
     "nuid": "3ab404a4-0085-46b7-9dfe-e9988be931b0",
     "showTitle": false,
     "title": ""
    }
   },
   "outputs": [],
   "source": [
    "model.summary()"
   ]
  },
  {
   "cell_type": "code",
   "execution_count": 0,
   "metadata": {
    "application/vnd.databricks.v1+cell": {
     "cellMetadata": {
      "byteLimit": 2048000,
      "rowLimit": 10000
     },
     "inputWidgets": {},
     "nuid": "c2f33da2-cf27-4406-b79a-d7f0cf44facd",
     "showTitle": false,
     "title": ""
    }
   },
   "outputs": [],
   "source": [
    "# calculate and display variance inflation factor\n",
    "Bostondf = pd.concat([X1, X2, X3, X4, X5, X6, X7, X8, \\\n",
    "X9, X10, X11, X12, X13], axis = 1)\n",
    "vif = pd.DataFrame()\n",
    "vif[\"Variance Inflation Factor\"] = [variance_inflation_factor(Bostondf.values, i)\\\n",
    "for i in range(Bostondf.shape[1])]\n",
    "vif[\"Features\"] = Bostondf.columns\n",
    "vif[\"Variance Inflation Factor\"]"
   ]
  },
  {
   "cell_type": "code",
   "execution_count": 0,
   "metadata": {
    "application/vnd.databricks.v1+cell": {
     "cellMetadata": {
      "byteLimit": 2048000,
      "rowLimit": 10000
     },
     "inputWidgets": {},
     "nuid": "14283444-f83d-4abc-bc25-7a645fc8f955",
     "showTitle": false,
     "title": ""
    }
   },
   "outputs": [],
   "source": [
    "vif[\"Features\"]"
   ]
  },
  {
   "cell_type": "code",
   "execution_count": 0,
   "metadata": {
    "application/vnd.databricks.v1+cell": {
     "cellMetadata": {
      "byteLimit": 2048000,
      "rowLimit": 10000
     },
     "inputWidgets": {},
     "nuid": "d0e20530-5b37-4ce9-845a-dfc7f8a381c9",
     "showTitle": false,
     "title": ""
    }
   },
   "outputs": [],
   "source": []
  }
 ],
 "metadata": {
  "application/vnd.databricks.v1+notebook": {
   "dashboards": [],
   "language": "python",
   "notebookMetadata": {
    "pythonIndentUnit": 2
   },
   "notebookName": "3.6.3 Multiple Linear Regression",
   "widgets": {}
  }
 },
 "nbformat": 4,
 "nbformat_minor": 0
}
