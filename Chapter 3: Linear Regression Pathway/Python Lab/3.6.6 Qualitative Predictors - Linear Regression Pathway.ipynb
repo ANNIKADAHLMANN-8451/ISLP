{
 "cells": [
  {
   "cell_type": "code",
   "execution_count": 0,
   "metadata": {
    "application/vnd.databricks.v1+cell": {
     "cellMetadata": {
      "byteLimit": 2048000,
      "rowLimit": 10000
     },
     "inputWidgets": {},
     "nuid": "c2bc0b9b-ca54-499c-95ad-f69504793383",
     "showTitle": false,
     "title": ""
    }
   },
   "outputs": [],
   "source": [
    "# import statistical tools\n",
    "import numpy as np\n",
    "import pandas as pd\n",
    "import statsmodels.api as sm\n",
    "from statsmodels.formula.api import ols\n",
    "from statsmodels.stats.outliers_influence import variance_inflation_factor\n",
    "from patsy.contrasts import Treatment"
   ]
  },
  {
   "cell_type": "code",
   "execution_count": 0,
   "metadata": {
    "application/vnd.databricks.v1+cell": {
     "cellMetadata": {
      "byteLimit": 2048000,
      "rowLimit": 10000
     },
     "inputWidgets": {},
     "nuid": "8a95d3cb-222e-4b6c-b609-cffea14caf8b",
     "showTitle": false,
     "title": ""
    }
   },
   "outputs": [],
   "source": [
    "# import data visualisation tools\n",
    "import matplotlib.pyplot as plt\n",
    "import seaborn as sns\n",
    "%matplotlib inline"
   ]
  },
  {
   "cell_type": "code",
   "execution_count": 0,
   "metadata": {
    "application/vnd.databricks.v1+cell": {
     "cellMetadata": {
      "byteLimit": 2048000,
      "rowLimit": 10000
     },
     "inputWidgets": {},
     "nuid": "1f6859b9-b299-4a82-af25-4a7b0ae4589b",
     "showTitle": false,
     "title": ""
    }
   },
   "outputs": [],
   "source": [
    "# load data; visualisation same as Section 3.6.3\n",
    "url = \"abfss://training@sa8451learningdev.dfs.core.windows.net/interpretable_machine_learning/eml_data/Carseats.csv\"\n",
    "Carseats = spark.read.option(\"header\", \"true\").csv(url).toPandas()\n",
    "Carseats.set_index('SlNo', inplace=True)\n",
    "\n",
    "str_cols = [\"ShelveLoc\", \"Urban\", \"US\"]\n",
    "num_cols = [\"Sales\", \"CompPrice\", \"Income\", \"Advertising\", \"Population\", \"Price\", \"Age\", \"Education\"]\n",
    "Carseats[str_cols] = Carseats[str_cols].astype(str)\n",
    "Carseats[num_cols] = Carseats[num_cols].astype(float)"
   ]
  },
  {
   "cell_type": "code",
   "execution_count": 0,
   "metadata": {
    "application/vnd.databricks.v1+cell": {
     "cellMetadata": {
      "byteLimit": 2048000,
      "rowLimit": 10000
     },
     "inputWidgets": {},
     "nuid": "7c30f0ff-6ca1-41f7-b983-4c48036def3e",
     "showTitle": false,
     "title": ""
    }
   },
   "outputs": [],
   "source": [
    "# view and visualise data\n",
    "Carseats.head()"
   ]
  },
  {
   "cell_type": "code",
   "execution_count": 0,
   "metadata": {
    "application/vnd.databricks.v1+cell": {
     "cellMetadata": {
      "byteLimit": 2048000,
      "rowLimit": 10000
     },
     "inputWidgets": {},
     "nuid": "d10ba4ff-0473-483f-acc0-ecdc980d58b2",
     "showTitle": false,
     "title": ""
    }
   },
   "outputs": [],
   "source": [
    "sns.pairplot(Carseats, kind = \"reg\")"
   ]
  },
  {
   "cell_type": "code",
   "execution_count": 0,
   "metadata": {
    "application/vnd.databricks.v1+cell": {
     "cellMetadata": {
      "byteLimit": 2048000,
      "rowLimit": 10000
     },
     "inputWidgets": {},
     "nuid": "8fdd40c6-2b59-477b-8fe1-5600a27e3755",
     "showTitle": false,
     "title": ""
    }
   },
   "outputs": [],
   "source": [
    "# perform regression\n",
    "Y = Carseats['Sales']\n",
    "X1 = Carseats['CompPrice']\n",
    "X2 = Carseats['Income']\n",
    "X3 = Carseats['Advertising']\n",
    "X4 = Carseats['Population']\n",
    "X5 = Carseats['Price']\n",
    "X6 = Carseats['ShelveLoc']\n",
    "X7 = Carseats['Age']\n",
    "X8 = Carseats['Education']\n",
    "X9 = Carseats['Urban']\n",
    "X10 = Carseats['US']\n",
    "\n",
    "model = ols(\"Y~X1+X2+X3+X4+X5+X6+X7+X8+X9+X10+X2:X3+X5:X7\", data = Carseats).fit()"
   ]
  },
  {
   "cell_type": "code",
   "execution_count": 0,
   "metadata": {
    "application/vnd.databricks.v1+cell": {
     "cellMetadata": {
      "byteLimit": 2048000,
      "rowLimit": 10000
     },
     "inputWidgets": {},
     "nuid": "b40308f5-75f6-4e1c-8501-d7e52f671f1c",
     "showTitle": false,
     "title": ""
    }
   },
   "outputs": [],
   "source": [
    "model.summary()"
   ]
  },
  {
   "cell_type": "code",
   "execution_count": 0,
   "metadata": {
    "application/vnd.databricks.v1+cell": {
     "cellMetadata": {
      "byteLimit": 2048000,
      "rowLimit": 10000
     },
     "inputWidgets": {},
     "nuid": "8568f6c2-b4fc-4c52-82a3-43d60705a03c",
     "showTitle": false,
     "title": ""
    }
   },
   "outputs": [],
   "source": [
    "# understanding dummy variables\n",
    "levels = [1, 2, 3]\n",
    "contrast = Treatment(reference=0).code_without_intercept(levels)"
   ]
  },
  {
   "cell_type": "code",
   "execution_count": 0,
   "metadata": {
    "application/vnd.databricks.v1+cell": {
     "cellMetadata": {
      "byteLimit": 2048000,
      "rowLimit": 10000
     },
     "inputWidgets": {},
     "nuid": "74cf8822-aee1-4973-9795-ced872e5ea28",
     "showTitle": false,
     "title": ""
    }
   },
   "outputs": [],
   "source": [
    "contrast.matrix"
   ]
  },
  {
   "cell_type": "code",
   "execution_count": 0,
   "metadata": {
    "application/vnd.databricks.v1+cell": {
     "cellMetadata": {
      "byteLimit": 2048000,
      "rowLimit": 10000
     },
     "inputWidgets": {},
     "nuid": "1b8da0c8-1843-489f-a19e-073d3b3b47bf",
     "showTitle": false,
     "title": ""
    }
   },
   "outputs": [],
   "source": []
  }
 ],
 "metadata": {
  "application/vnd.databricks.v1+notebook": {
   "dashboards": [],
   "language": "python",
   "notebookMetadata": {
    "pythonIndentUnit": 2
   },
   "notebookName": "3.6.6 Qualitative Predictors - Linear Regression Pathway",
   "widgets": {}
  }
 },
 "nbformat": 4,
 "nbformat_minor": 0
}
