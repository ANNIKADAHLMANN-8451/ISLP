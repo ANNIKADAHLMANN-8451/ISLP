{
 "cells": [
  {
   "cell_type": "markdown",
   "metadata": {
    "application/vnd.databricks.v1+cell": {
     "cellMetadata": {
      "byteLimit": 2048000,
      "rowLimit": 10000
     },
     "inputWidgets": {},
     "nuid": "2fa321fe-3229-46de-908e-e2828655f9a1",
     "showTitle": false,
     "title": ""
    }
   },
   "source": [
    "This question should be answered using the Weekly data set, which is part of the ISLP package. This data is similar in nature to the Smarket data from this chapter’s lab, except that it contains 1,089 weekly returns for 21 years, from the beginning of 1990 to the end of 2010."
   ]
  },
  {
   "cell_type": "code",
   "execution_count": 0,
   "metadata": {
    "application/vnd.databricks.v1+cell": {
     "cellMetadata": {
      "byteLimit": 2048000,
      "rowLimit": 10000
     },
     "inputWidgets": {},
     "nuid": "2bb973be-468f-4186-9673-994914040cc0",
     "showTitle": false,
     "title": ""
    }
   },
   "outputs": [],
   "source": [
    "# general imports\n",
    "import numpy as np\n",
    "import pandas as pd"
   ]
  },
  {
   "cell_type": "code",
   "execution_count": 0,
   "metadata": {
    "application/vnd.databricks.v1+cell": {
     "cellMetadata": {
      "byteLimit": 2048000,
      "rowLimit": 10000
     },
     "inputWidgets": {},
     "nuid": "60ba156c-53bf-4338-a472-78da45e6011f",
     "showTitle": false,
     "title": ""
    }
   },
   "outputs": [],
   "source": [
    "# import data visualisation packages\n",
    "import matplotlib.pyplot as plt\n",
    "import seaborn as sns\n",
    "%matplotlib inline"
   ]
  },
  {
   "cell_type": "code",
   "execution_count": 0,
   "metadata": {
    "application/vnd.databricks.v1+cell": {
     "cellMetadata": {
      "byteLimit": 2048000,
      "rowLimit": 10000
     },
     "inputWidgets": {},
     "nuid": "48821186-4f2f-4520-98b5-fee59f95ca81",
     "showTitle": false,
     "title": ""
    }
   },
   "outputs": [],
   "source": [
    "# load and preprocess data\n",
    "url = \"abfss://training@sa8451learningdev.dfs.core.windows.net/interpretable_machine_learning/eml_data/Weekly.csv\"\n",
    "Weekly = spark.read.option(\"header\", \"true\").csv(url).toPandas()\n",
    "Weekly.set_index('_c0', inplace=True)\n",
    "\n",
    "float_cols = [\"Lag1\", \"Lag2\", \"Lag3\", \"Lag4\", \"Lag5\", \"Volume\", \"Today\"]\n",
    "int_cols = ['Year']\n",
    "str_cols = [\"Direction\"]\n",
    "Weekly[float_cols] = Weekly[float_cols].astype(float)\n",
    "Weekly[int_cols] = Weekly[int_cols].astype(int)\n",
    "Weekly[str_cols] = Weekly[str_cols].astype(str)"
   ]
  },
  {
   "cell_type": "markdown",
   "metadata": {
    "application/vnd.databricks.v1+cell": {
     "cellMetadata": {
      "byteLimit": 2048000,
      "rowLimit": 10000
     },
     "inputWidgets": {},
     "nuid": "a492f431-af79-42e5-bee6-b901fb356c96",
     "showTitle": false,
     "title": ""
    }
   },
   "source": [
    "**a. Produce some numerical and graphical summaries of the `Weekly` data. Do there appear to be any patterns?**"
   ]
  },
  {
   "cell_type": "code",
   "execution_count": 0,
   "metadata": {
    "application/vnd.databricks.v1+cell": {
     "cellMetadata": {
      "byteLimit": 2048000,
      "rowLimit": 10000
     },
     "inputWidgets": {},
     "nuid": "fc208dc7-c671-41e5-8a7d-aaf43e48ed2e",
     "showTitle": false,
     "title": ""
    }
   },
   "outputs": [],
   "source": [
    "Weekly.head()"
   ]
  },
  {
   "cell_type": "code",
   "execution_count": 0,
   "metadata": {
    "application/vnd.databricks.v1+cell": {
     "cellMetadata": {
      "byteLimit": 2048000,
      "rowLimit": 10000
     },
     "inputWidgets": {},
     "nuid": "47bce4cb-650a-4e0f-ae8f-4ca085c3f67d",
     "showTitle": false,
     "title": ""
    }
   },
   "outputs": [],
   "source": [
    "Weekly.info()"
   ]
  },
  {
   "cell_type": "code",
   "execution_count": 0,
   "metadata": {
    "application/vnd.databricks.v1+cell": {
     "cellMetadata": {
      "byteLimit": 2048000,
      "rowLimit": 10000
     },
     "inputWidgets": {},
     "nuid": "1989616f-d2aa-48e8-b012-39624b1dfe14",
     "showTitle": false,
     "title": ""
    }
   },
   "outputs": [],
   "source": [
    "Weekly.describe()"
   ]
  },
  {
   "cell_type": "code",
   "execution_count": 0,
   "metadata": {
    "application/vnd.databricks.v1+cell": {
     "cellMetadata": {
      "byteLimit": 2048000,
      "rowLimit": 10000
     },
     "inputWidgets": {},
     "nuid": "db1778bd-b9aa-465e-a6fd-9760c5f4c995",
     "showTitle": false,
     "title": ""
    }
   },
   "outputs": [],
   "source": [
    "Weekly.cov()"
   ]
  },
  {
   "cell_type": "code",
   "execution_count": 0,
   "metadata": {
    "application/vnd.databricks.v1+cell": {
     "cellMetadata": {
      "byteLimit": 2048000,
      "rowLimit": 10000
     },
     "inputWidgets": {},
     "nuid": "044186be-8122-4606-9029-bd2e591f1e48",
     "showTitle": false,
     "title": ""
    }
   },
   "outputs": [],
   "source": [
    "Weekly.corr()"
   ]
  },
  {
   "cell_type": "code",
   "execution_count": 0,
   "metadata": {
    "application/vnd.databricks.v1+cell": {
     "cellMetadata": {
      "byteLimit": 2048000,
      "rowLimit": 10000
     },
     "inputWidgets": {},
     "nuid": "7bb135b1-28a6-442a-a55d-55dd598bb652",
     "showTitle": false,
     "title": ""
    }
   },
   "outputs": [],
   "source": [
    "sns.pairplot(Weekly)"
   ]
  },
  {
   "cell_type": "markdown",
   "metadata": {
    "application/vnd.databricks.v1+cell": {
     "cellMetadata": {
      "byteLimit": 2048000,
      "rowLimit": 10000
     },
     "inputWidgets": {},
     "nuid": "5454996d-d43e-4270-ae37-3b0bc74c46a8",
     "showTitle": false,
     "title": ""
    }
   },
   "source": [
    "There appears to be a strong discernable relationship between Year and Volume. This can be seen through correlation \n",
    "between Year and Volume (~0.84) as well as the graph where is a discernable pattern through which one can draw a regression\n",
    "line. There does not appear to be a discernable relation between other variables."
   ]
  },
  {
   "cell_type": "markdown",
   "metadata": {
    "application/vnd.databricks.v1+cell": {
     "cellMetadata": {
      "byteLimit": 2048000,
      "rowLimit": 10000
     },
     "inputWidgets": {},
     "nuid": "09aedeee-c51e-4dcb-95ed-382734a98c5b",
     "showTitle": false,
     "title": ""
    }
   },
   "source": [
    "**b. Use the full data set to perform a logistic regression with `Direction` as the response and the fve lag variables plus `Volume` as predictors. Use the summary function to print the results. Do any of the predictors appear to be statistically signifcant? If so, which ones?**"
   ]
  },
  {
   "cell_type": "code",
   "execution_count": 0,
   "metadata": {
    "application/vnd.databricks.v1+cell": {
     "cellMetadata": {
      "byteLimit": 2048000,
      "rowLimit": 10000
     },
     "inputWidgets": {},
     "nuid": "4f0a5caf-1ba4-4455-b784-36a60e5f758b",
     "showTitle": false,
     "title": ""
    }
   },
   "outputs": [],
   "source": [
    "from sklearn.linear_model import LogisticRegression"
   ]
  },
  {
   "cell_type": "code",
   "execution_count": 0,
   "metadata": {
    "application/vnd.databricks.v1+cell": {
     "cellMetadata": {
      "byteLimit": 2048000,
      "rowLimit": 10000
     },
     "inputWidgets": {},
     "nuid": "38483599-eb51-491f-a600-aa26482690e8",
     "showTitle": false,
     "title": ""
    }
   },
   "outputs": [],
   "source": [
    "X = Weekly.drop(columns='Direction', axis=1)\n",
    "y = Weekly['Direction']"
   ]
  },
  {
   "cell_type": "code",
   "execution_count": 0,
   "metadata": {
    "application/vnd.databricks.v1+cell": {
     "cellMetadata": {
      "byteLimit": 2048000,
      "rowLimit": 10000
     },
     "inputWidgets": {},
     "nuid": "89841a59-2357-424e-abe2-9c405c6a1b71",
     "showTitle": false,
     "title": ""
    }
   },
   "outputs": [],
   "source": [
    "glmfit = LogisticRegression(solver='lbfgs', multi_class='multinomial').fit(X, y)"
   ]
  },
  {
   "cell_type": "code",
   "execution_count": 0,
   "metadata": {
    "application/vnd.databricks.v1+cell": {
     "cellMetadata": {
      "byteLimit": 2048000,
      "rowLimit": 10000
     },
     "inputWidgets": {},
     "nuid": "5a91397a-ef10-41e6-b9a1-640f810ccd50",
     "showTitle": false,
     "title": ""
    }
   },
   "outputs": [],
   "source": [
    "coefficients = glmfit.coef_"
   ]
  },
  {
   "cell_type": "code",
   "execution_count": 0,
   "metadata": {
    "application/vnd.databricks.v1+cell": {
     "cellMetadata": {
      "byteLimit": 2048000,
      "rowLimit": 10000
     },
     "inputWidgets": {},
     "nuid": "87f04ea2-c7fd-46bb-821a-b32920ef4774",
     "showTitle": false,
     "title": ""
    }
   },
   "outputs": [],
   "source": [
    "print(coefficients)"
   ]
  },
  {
   "cell_type": "markdown",
   "metadata": {
    "application/vnd.databricks.v1+cell": {
     "cellMetadata": {
      "byteLimit": 2048000,
      "rowLimit": 10000
     },
     "inputWidgets": {},
     "nuid": "6290f04b-91cf-48eb-9a6a-b6474df1248e",
     "showTitle": false,
     "title": ""
    }
   },
   "source": [
    "**c. Compute the confusion matrix and overall fraction of correct predictions. Explain what the confusion matrix is telling you about the types of mistakes made by logistic regression.**"
   ]
  },
  {
   "cell_type": "code",
   "execution_count": 0,
   "metadata": {
    "application/vnd.databricks.v1+cell": {
     "cellMetadata": {
      "byteLimit": 2048000,
      "rowLimit": 10000
     },
     "inputWidgets": {},
     "nuid": "e4b38b66-d787-4352-91f1-4d1efcd64bcb",
     "showTitle": false,
     "title": ""
    }
   },
   "outputs": [],
   "source": [
    "from sklearn.metrics import confusion_matrix, classification_report"
   ]
  },
  {
   "cell_type": "code",
   "execution_count": 0,
   "metadata": {
    "application/vnd.databricks.v1+cell": {
     "cellMetadata": {
      "byteLimit": 2048000,
      "rowLimit": 10000
     },
     "inputWidgets": {},
     "nuid": "d8c2ce3d-2180-4d2a-886d-267b36736ece",
     "showTitle": false,
     "title": ""
    }
   },
   "outputs": [],
   "source": [
    "glmpred = glmfit.predict(X)"
   ]
  },
  {
   "cell_type": "code",
   "execution_count": 0,
   "metadata": {
    "application/vnd.databricks.v1+cell": {
     "cellMetadata": {
      "byteLimit": 2048000,
      "rowLimit": 10000
     },
     "inputWidgets": {},
     "nuid": "a2a337b9-9a37-4586-9bdc-4801cbbe4ab7",
     "showTitle": false,
     "title": ""
    }
   },
   "outputs": [],
   "source": [
    "print(confusion_matrix(y, glmpred))"
   ]
  },
  {
   "cell_type": "code",
   "execution_count": 0,
   "metadata": {
    "application/vnd.databricks.v1+cell": {
     "cellMetadata": {
      "byteLimit": 2048000,
      "rowLimit": 10000
     },
     "inputWidgets": {},
     "nuid": "a7a5025e-3c4c-4e06-a4ac-89a12406730c",
     "showTitle": false,
     "title": ""
    }
   },
   "outputs": [],
   "source": [
    "print(classification_report(y, glmpred))"
   ]
  },
  {
   "cell_type": "markdown",
   "metadata": {
    "application/vnd.databricks.v1+cell": {
     "cellMetadata": {
      "byteLimit": 2048000,
      "rowLimit": 10000
     },
     "inputWidgets": {},
     "nuid": "9e9861a0-7354-4cb7-b144-f88bc72a415f",
     "showTitle": false,
     "title": ""
    }
   },
   "source": [
    "Logistic regression predicts the values REALLY well given it just turns out 3 Type I errors (false positives). This is not surprising given the test data is the same as training data."
   ]
  },
  {
   "cell_type": "markdown",
   "metadata": {
    "application/vnd.databricks.v1+cell": {
     "cellMetadata": {
      "byteLimit": 2048000,
      "rowLimit": 10000
     },
     "inputWidgets": {},
     "nuid": "dc47694e-3d64-4c8d-ae8a-6aad3d93e3bc",
     "showTitle": false,
     "title": ""
    }
   },
   "source": [
    "**d. Now ft the logistic regression model using a training data period from 1990 to 2008, with `Lag2` as the only predictor. Compute the confusion matrix and the overall fraction of correct predictions for the held out data (that is, the data from 2009 and 2010).**"
   ]
  },
  {
   "cell_type": "code",
   "execution_count": 0,
   "metadata": {
    "application/vnd.databricks.v1+cell": {
     "cellMetadata": {
      "byteLimit": 2048000,
      "rowLimit": 10000
     },
     "inputWidgets": {},
     "nuid": "430332c0-fc75-4e25-98fa-7be7a5a03079",
     "showTitle": false,
     "title": ""
    }
   },
   "outputs": [],
   "source": [
    "X_train = Weekly[Weekly['Year'] < 2009].drop(columns=['Direction','Lag1', 'Lag3', 'Lag4', 'Lag5', 'Volume', 'Today', 'Year'], axis=1)"
   ]
  },
  {
   "cell_type": "code",
   "execution_count": 0,
   "metadata": {
    "application/vnd.databricks.v1+cell": {
     "cellMetadata": {
      "byteLimit": 2048000,
      "rowLimit": 10000
     },
     "inputWidgets": {},
     "nuid": "b14a532a-94be-4fe0-9f57-5083ccc2ec5d",
     "showTitle": false,
     "title": ""
    }
   },
   "outputs": [],
   "source": [
    "X_test = Weekly[Weekly['Year'] >= 2009].drop(columns=['Direction','Lag1', 'Lag3', 'Lag4', 'Lag5', 'Volume', 'Today', 'Year'], axis=1)"
   ]
  },
  {
   "cell_type": "code",
   "execution_count": 0,
   "metadata": {
    "application/vnd.databricks.v1+cell": {
     "cellMetadata": {
      "byteLimit": 2048000,
      "rowLimit": 10000
     },
     "inputWidgets": {},
     "nuid": "12ac2278-2b46-4d29-82e8-ac508a39ea90",
     "showTitle": false,
     "title": ""
    }
   },
   "outputs": [],
   "source": [
    "y_train = np.ravel(Weekly[Weekly['Year'] < 2009].drop(columns=['Lag1', 'Lag2', 'Lag3', 'Lag4', 'Lag5', 'Volume', 'Today', 'Year']))"
   ]
  },
  {
   "cell_type": "code",
   "execution_count": 0,
   "metadata": {
    "application/vnd.databricks.v1+cell": {
     "cellMetadata": {
      "byteLimit": 2048000,
      "rowLimit": 10000
     },
     "inputWidgets": {},
     "nuid": "682c87b9-cb72-4e07-b09f-cdbb8ed18e25",
     "showTitle": false,
     "title": ""
    }
   },
   "outputs": [],
   "source": [
    "y_test = np.ravel(Weekly[Weekly['Year'] >= 2009].drop(columns=['Lag1', 'Lag2', 'Lag3', 'Lag4', 'Lag5', 'Volume', 'Today', 'Year']))"
   ]
  },
  {
   "cell_type": "code",
   "execution_count": 0,
   "metadata": {
    "application/vnd.databricks.v1+cell": {
     "cellMetadata": {
      "byteLimit": 2048000,
      "rowLimit": 10000
     },
     "inputWidgets": {},
     "nuid": "5bd79044-bcbb-4230-b52e-404ecc7c215c",
     "showTitle": false,
     "title": ""
    }
   },
   "outputs": [],
   "source": [
    "glmfit1 = LogisticRegression(solver='liblinear').fit(X_train, y_train)"
   ]
  },
  {
   "cell_type": "code",
   "execution_count": 0,
   "metadata": {
    "application/vnd.databricks.v1+cell": {
     "cellMetadata": {
      "byteLimit": 2048000,
      "rowLimit": 10000
     },
     "inputWidgets": {},
     "nuid": "d2f814ec-fb52-46dc-b7f3-718607f00978",
     "showTitle": false,
     "title": ""
    }
   },
   "outputs": [],
   "source": [
    "glmfit1pred = glmfit1.predict(X_test)"
   ]
  },
  {
   "cell_type": "code",
   "execution_count": 0,
   "metadata": {
    "application/vnd.databricks.v1+cell": {
     "cellMetadata": {
      "byteLimit": 2048000,
      "rowLimit": 10000
     },
     "inputWidgets": {},
     "nuid": "9ad7735f-d41e-4fc9-9365-11602aa72b23",
     "showTitle": false,
     "title": ""
    }
   },
   "outputs": [],
   "source": [
    "print(confusion_matrix(y_test, glmfit1pred))"
   ]
  },
  {
   "cell_type": "code",
   "execution_count": 0,
   "metadata": {
    "application/vnd.databricks.v1+cell": {
     "cellMetadata": {
      "byteLimit": 2048000,
      "rowLimit": 10000
     },
     "inputWidgets": {},
     "nuid": "ac9bc826-1890-45d6-bd9a-a5b9d562a660",
     "showTitle": false,
     "title": ""
    }
   },
   "outputs": [],
   "source": [
    "print(confusion_matrix(y_test, glmfit1pred))"
   ]
  },
  {
   "cell_type": "markdown",
   "metadata": {
    "application/vnd.databricks.v1+cell": {
     "cellMetadata": {
      "byteLimit": 2048000,
      "rowLimit": 10000
     },
     "inputWidgets": {},
     "nuid": "3f1ddb9b-2bec-406c-a81a-d3c9790e228a",
     "showTitle": false,
     "title": ""
    }
   },
   "source": [
    "Looks like I have hit the jackpot here! Just kidding. This model is more realistic given the increase in Type I and Type II errors."
   ]
  },
  {
   "cell_type": "markdown",
   "metadata": {
    "application/vnd.databricks.v1+cell": {
     "cellMetadata": {
      "byteLimit": 2048000,
      "rowLimit": 10000
     },
     "inputWidgets": {},
     "nuid": "361f28c7-4885-432b-94da-c69f1afd4595",
     "showTitle": false,
     "title": ""
    }
   },
   "source": [
    "**e. Repeat (d) using LDA.**"
   ]
  },
  {
   "cell_type": "code",
   "execution_count": 0,
   "metadata": {
    "application/vnd.databricks.v1+cell": {
     "cellMetadata": {
      "byteLimit": 2048000,
      "rowLimit": 10000
     },
     "inputWidgets": {},
     "nuid": "cd37d73a-93e7-4a2c-ab6e-1d6a3ba6eaf1",
     "showTitle": false,
     "title": ""
    }
   },
   "outputs": [],
   "source": [
    "from sklearn.discriminant_analysis import LinearDiscriminantAnalysis"
   ]
  },
  {
   "cell_type": "code",
   "execution_count": 0,
   "metadata": {
    "application/vnd.databricks.v1+cell": {
     "cellMetadata": {
      "byteLimit": 2048000,
      "rowLimit": 10000
     },
     "inputWidgets": {},
     "nuid": "201411cc-64aa-47d0-98d7-a8911091a860",
     "showTitle": false,
     "title": ""
    }
   },
   "outputs": [],
   "source": [
    "lda = LinearDiscriminantAnalysis().fit(X_train, y_train)"
   ]
  },
  {
   "cell_type": "code",
   "execution_count": 0,
   "metadata": {
    "application/vnd.databricks.v1+cell": {
     "cellMetadata": {
      "byteLimit": 2048000,
      "rowLimit": 10000
     },
     "inputWidgets": {},
     "nuid": "0ccda108-154c-459d-a512-2266a588d379",
     "showTitle": false,
     "title": ""
    }
   },
   "outputs": [],
   "source": [
    "ldapred = lda.predict(X_test)"
   ]
  },
  {
   "cell_type": "code",
   "execution_count": 0,
   "metadata": {
    "application/vnd.databricks.v1+cell": {
     "cellMetadata": {
      "byteLimit": 2048000,
      "rowLimit": 10000
     },
     "inputWidgets": {},
     "nuid": "e36bf2f9-cfab-4a22-89c3-df4e70845779",
     "showTitle": false,
     "title": ""
    }
   },
   "outputs": [],
   "source": [
    "print(confusion_matrix(y_test, ldapred))"
   ]
  },
  {
   "cell_type": "code",
   "execution_count": 0,
   "metadata": {
    "application/vnd.databricks.v1+cell": {
     "cellMetadata": {
      "byteLimit": 2048000,
      "rowLimit": 10000
     },
     "inputWidgets": {},
     "nuid": "7c5eeac2-64b1-4bd8-828d-8eece56a0c73",
     "showTitle": false,
     "title": ""
    }
   },
   "outputs": [],
   "source": [
    "print(classification_report(y_test, ldapred))"
   ]
  },
  {
   "cell_type": "markdown",
   "metadata": {
    "application/vnd.databricks.v1+cell": {
     "cellMetadata": {
      "byteLimit": 2048000,
      "rowLimit": 10000
     },
     "inputWidgets": {},
     "nuid": "3d902537-e4a9-424b-a76a-b4d2287feb29",
     "showTitle": false,
     "title": ""
    }
   },
   "source": [
    "LDA does not provide any significant improvement over Logistic Regression. In fact, its accuracy is the same as that of\n",
    "Logistic Regression."
   ]
  },
  {
   "cell_type": "markdown",
   "metadata": {
    "application/vnd.databricks.v1+cell": {
     "cellMetadata": {
      "byteLimit": 2048000,
      "rowLimit": 10000
     },
     "inputWidgets": {},
     "nuid": "4a1631b1-07ca-4dde-866a-a9b3ea7ea97a",
     "showTitle": false,
     "title": ""
    }
   },
   "source": [
    "**f. Repeat (d) using QDA.**"
   ]
  },
  {
   "cell_type": "code",
   "execution_count": 0,
   "metadata": {
    "application/vnd.databricks.v1+cell": {
     "cellMetadata": {
      "byteLimit": 2048000,
      "rowLimit": 10000
     },
     "inputWidgets": {},
     "nuid": "cf358670-ff06-496c-a2a6-a714b1416b4b",
     "showTitle": false,
     "title": ""
    }
   },
   "outputs": [],
   "source": [
    "from sklearn.discriminant_analysis import QuadraticDiscriminantAnalysis"
   ]
  },
  {
   "cell_type": "code",
   "execution_count": 0,
   "metadata": {
    "application/vnd.databricks.v1+cell": {
     "cellMetadata": {
      "byteLimit": 2048000,
      "rowLimit": 10000
     },
     "inputWidgets": {},
     "nuid": "f13f7891-153a-4106-8f24-a64807d4a5d0",
     "showTitle": false,
     "title": ""
    }
   },
   "outputs": [],
   "source": [
    "qda = QuadraticDiscriminantAnalysis().fit(X_train, y_train)"
   ]
  },
  {
   "cell_type": "code",
   "execution_count": 0,
   "metadata": {
    "application/vnd.databricks.v1+cell": {
     "cellMetadata": {
      "byteLimit": 2048000,
      "rowLimit": 10000
     },
     "inputWidgets": {},
     "nuid": "a4193240-2092-4678-b869-15eb7d3b08c7",
     "showTitle": false,
     "title": ""
    }
   },
   "outputs": [],
   "source": [
    "qdapred = qda.predict(X_test)"
   ]
  },
  {
   "cell_type": "code",
   "execution_count": 0,
   "metadata": {
    "application/vnd.databricks.v1+cell": {
     "cellMetadata": {
      "byteLimit": 2048000,
      "rowLimit": 10000
     },
     "inputWidgets": {},
     "nuid": "47dea64a-4390-4ef4-9cee-793d86b9f011",
     "showTitle": false,
     "title": ""
    }
   },
   "outputs": [],
   "source": [
    "print(confusion_matrix(y_test, qdapred))"
   ]
  },
  {
   "cell_type": "code",
   "execution_count": 0,
   "metadata": {
    "application/vnd.databricks.v1+cell": {
     "cellMetadata": {
      "byteLimit": 2048000,
      "rowLimit": 10000
     },
     "inputWidgets": {},
     "nuid": "523bd231-35fe-4557-b9ca-84ea3ed9cf97",
     "showTitle": false,
     "title": ""
    }
   },
   "outputs": [],
   "source": [
    "import warnings\n",
    "warnings.filterwarnings('ignore') # I use this to ignore a warning that states the classification report is unable to calculate F-Scores, which is not required for this instance\n",
    "print(classification_report(y_test, qdapred))"
   ]
  },
  {
   "cell_type": "markdown",
   "metadata": {
    "application/vnd.databricks.v1+cell": {
     "cellMetadata": {
      "byteLimit": 2048000,
      "rowLimit": 10000
     },
     "inputWidgets": {},
     "nuid": "719192be-e725-47cc-9ee1-6babc43ec3db",
     "showTitle": false,
     "title": ""
    }
   },
   "source": [
    "As we can see QDA actually improves upon true positives and false positives, but it comes at a heavy cost of being able\n",
    "to predict true negatives and false negatives. Whether this is critical will depend on context. For examples, banks assessing\n",
    "the ability of the model to predict potential delinquencis might be alright with it since they are likely to prioritise\n",
    "false positives (people who will default, but the model declares them otherwise) over false negatives (people will not\n",
    "default, but the model declares them otherwise)."
   ]
  },
  {
   "cell_type": "markdown",
   "metadata": {
    "application/vnd.databricks.v1+cell": {
     "cellMetadata": {
      "byteLimit": 2048000,
      "rowLimit": 10000
     },
     "inputWidgets": {},
     "nuid": "50863653-16db-48a7-9f3e-f91cc53ce82e",
     "showTitle": false,
     "title": ""
    }
   },
   "source": [
    "**g. Repeat (d) using KNN with K = 1.**"
   ]
  },
  {
   "cell_type": "code",
   "execution_count": 0,
   "metadata": {
    "application/vnd.databricks.v1+cell": {
     "cellMetadata": {
      "byteLimit": 2048000,
      "rowLimit": 10000
     },
     "inputWidgets": {},
     "nuid": "b3190cd3-515f-407b-9405-7d041af0736a",
     "showTitle": false,
     "title": ""
    }
   },
   "outputs": [],
   "source": [
    "from sklearn.neighbors import KNeighborsClassifier"
   ]
  },
  {
   "cell_type": "code",
   "execution_count": 0,
   "metadata": {
    "application/vnd.databricks.v1+cell": {
     "cellMetadata": {
      "byteLimit": 2048000,
      "rowLimit": 10000
     },
     "inputWidgets": {},
     "nuid": "8402fdf6-95f0-4243-af9d-16e90cbb5e78",
     "showTitle": false,
     "title": ""
    }
   },
   "outputs": [],
   "source": [
    "knn = KNeighborsClassifier(n_neighbors=1).fit(X_train, y_train)"
   ]
  },
  {
   "cell_type": "code",
   "execution_count": 0,
   "metadata": {
    "application/vnd.databricks.v1+cell": {
     "cellMetadata": {
      "byteLimit": 2048000,
      "rowLimit": 10000
     },
     "inputWidgets": {},
     "nuid": "a502f1a3-1742-4715-8787-ce7a5b969297",
     "showTitle": false,
     "title": ""
    }
   },
   "outputs": [],
   "source": [
    "knnpred = knn.predict(X_test)"
   ]
  },
  {
   "cell_type": "code",
   "execution_count": 0,
   "metadata": {
    "application/vnd.databricks.v1+cell": {
     "cellMetadata": {
      "byteLimit": 2048000,
      "rowLimit": 10000
     },
     "inputWidgets": {},
     "nuid": "08389b95-0e0f-42de-b384-90f1fd728c17",
     "showTitle": false,
     "title": ""
    }
   },
   "outputs": [],
   "source": [
    "print(confusion_matrix(y_test, knnpred))"
   ]
  },
  {
   "cell_type": "code",
   "execution_count": 0,
   "metadata": {
    "application/vnd.databricks.v1+cell": {
     "cellMetadata": {
      "byteLimit": 2048000,
      "rowLimit": 10000
     },
     "inputWidgets": {},
     "nuid": "d2e344b3-8aee-4b84-a330-9d00cf6d7250",
     "showTitle": false,
     "title": ""
    }
   },
   "outputs": [],
   "source": [
    "print(classification_report(y_test, knnpred))"
   ]
  },
  {
   "cell_type": "markdown",
   "metadata": {
    "application/vnd.databricks.v1+cell": {
     "cellMetadata": {
      "byteLimit": 2048000,
      "rowLimit": 10000
     },
     "inputWidgets": {},
     "nuid": "5147bac7-b1ac-4b6d-bfea-34bf4f4454db",
     "showTitle": false,
     "title": ""
    }
   },
   "source": [
    "The precision of K-nearest neighbours reduces. This is because at K = 1, the classifier is highly non-linear and \n",
    "accuracy results from Logistic Regression and LDA suggest that the classifier is likely to be linear. As such, the \n",
    "K-nearest neighbours likely overfits the test data."
   ]
  },
  {
   "cell_type": "markdown",
   "metadata": {
    "application/vnd.databricks.v1+cell": {
     "cellMetadata": {
      "byteLimit": 2048000,
      "rowLimit": 10000
     },
     "inputWidgets": {},
     "nuid": "02105414-c754-4334-afec-4d88f8769a32",
     "showTitle": false,
     "title": ""
    }
   },
   "source": [
    "**i. Which of these methods appears to provide the best results on this data?**"
   ]
  },
  {
   "cell_type": "markdown",
   "metadata": {
    "application/vnd.databricks.v1+cell": {
     "cellMetadata": {
      "byteLimit": 2048000,
      "rowLimit": 10000
     },
     "inputWidgets": {},
     "nuid": "cd2bb6d5-ff5a-4453-a7b5-9648dbc7ca07",
     "showTitle": false,
     "title": ""
    }
   },
   "source": [
    "The accuracy reports suggest that Logistic Regression and Linear Discriminant Analysis provide the best results\n",
    "on this data."
   ]
  },
  {
   "cell_type": "code",
   "execution_count": 0,
   "metadata": {
    "application/vnd.databricks.v1+cell": {
     "cellMetadata": {
      "byteLimit": 2048000,
      "rowLimit": 10000
     },
     "inputWidgets": {},
     "nuid": "ce16e4f6-ae78-4736-a0f2-8e65b1b2b357",
     "showTitle": false,
     "title": ""
    }
   },
   "outputs": [],
   "source": []
  }
 ],
 "metadata": {
  "application/vnd.databricks.v1+notebook": {
   "dashboards": [],
   "language": "python",
   "notebookMetadata": {
    "pythonIndentUnit": 2
   },
   "notebookName": "Question 13 - answers",
   "widgets": {}
  }
 },
 "nbformat": 4,
 "nbformat_minor": 0
}
