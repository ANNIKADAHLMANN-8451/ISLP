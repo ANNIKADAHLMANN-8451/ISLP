{
 "cells": [
  {
   "cell_type": "markdown",
   "metadata": {
    "application/vnd.databricks.v1+cell": {
     "cellMetadata": {
      "byteLimit": 2048000,
      "rowLimit": 10000
     },
     "inputWidgets": {},
     "nuid": "a8cb1620-ad38-406c-b2ee-5c3222999c5a",
     "showTitle": false,
     "title": ""
    }
   },
   "source": [
    "In this problem, you will develop a model to predict whether a given car gets high or low gas mileage based on the `Auto` data set."
   ]
  },
  {
   "cell_type": "code",
   "execution_count": 0,
   "metadata": {
    "application/vnd.databricks.v1+cell": {
     "cellMetadata": {
      "byteLimit": 2048000,
      "rowLimit": 10000
     },
     "inputWidgets": {},
     "nuid": "f34fd9ae-362a-4410-a4c8-2b8255e35d16",
     "showTitle": false,
     "title": ""
    }
   },
   "outputs": [],
   "source": [
    "# import statistical packages\n",
    "import numpy as np\n",
    "import pandas as pd"
   ]
  },
  {
   "cell_type": "code",
   "execution_count": 0,
   "metadata": {
    "application/vnd.databricks.v1+cell": {
     "cellMetadata": {
      "byteLimit": 2048000,
      "rowLimit": 10000
     },
     "inputWidgets": {},
     "nuid": "836b1caa-1138-4376-8634-defabeed7884",
     "showTitle": false,
     "title": ""
    }
   },
   "outputs": [],
   "source": [
    "# import data visualisation packages\n",
    "import matplotlib.pyplot as plt\n",
    "import seaborn as sns\n",
    "%matplotlib inline"
   ]
  },
  {
   "cell_type": "code",
   "execution_count": 0,
   "metadata": {
    "application/vnd.databricks.v1+cell": {
     "cellMetadata": {
      "byteLimit": 2048000,
      "rowLimit": 10000
     },
     "inputWidgets": {},
     "nuid": "964a4534-263d-47a0-8290-97179870f3a5",
     "showTitle": false,
     "title": ""
    }
   },
   "outputs": [],
   "source": [
    "# import and preprocess data\n",
    "url = \"abfss://training@sa8451learningdev.dfs.core.windows.net/interpretable_machine_learning/eml_data/Auto.csv\"\n",
    "Auto = spark.read.option(\"header\", \"true\").csv(url).toPandas()\n",
    "\n",
    "str_cols = [\"name\"]\n",
    "num_cols = list(set(Auto.columns) - set(str_cols))\n",
    "Auto[str_cols] = Auto[str_cols].astype(str)\n",
    "Auto[num_cols] = Auto[num_cols].astype(float)"
   ]
  },
  {
   "cell_type": "code",
   "execution_count": 0,
   "metadata": {
    "application/vnd.databricks.v1+cell": {
     "cellMetadata": {
      "byteLimit": 2048000,
      "rowLimit": 10000
     },
     "inputWidgets": {},
     "nuid": "113ce1cd-c891-46dd-a838-a97e9794818f",
     "showTitle": false,
     "title": ""
    }
   },
   "outputs": [],
   "source": [
    "Auto.head()"
   ]
  },
  {
   "cell_type": "code",
   "execution_count": 0,
   "metadata": {
    "application/vnd.databricks.v1+cell": {
     "cellMetadata": {
      "byteLimit": 2048000,
      "rowLimit": 10000
     },
     "inputWidgets": {},
     "nuid": "dbbaac84-b77b-42be-a130-903a341f4bec",
     "showTitle": false,
     "title": ""
    }
   },
   "outputs": [],
   "source": [
    "Auto.info()"
   ]
  },
  {
   "cell_type": "code",
   "execution_count": 0,
   "metadata": {
    "application/vnd.databricks.v1+cell": {
     "cellMetadata": {
      "byteLimit": 2048000,
      "rowLimit": 10000
     },
     "inputWidgets": {},
     "nuid": "f5a7128d-07fc-412d-a6e0-4a9f239aec14",
     "showTitle": false,
     "title": ""
    }
   },
   "outputs": [],
   "source": [
    "Auto.describe()"
   ]
  },
  {
   "cell_type": "code",
   "execution_count": 0,
   "metadata": {
    "application/vnd.databricks.v1+cell": {
     "cellMetadata": {
      "byteLimit": 2048000,
      "rowLimit": 10000
     },
     "inputWidgets": {},
     "nuid": "e63c24c6-5f56-4eea-be89-6ab03b7425d3",
     "showTitle": false,
     "title": ""
    }
   },
   "outputs": [],
   "source": [
    "Auto = Auto.drop(Auto.index[[32, 126, 330, 336, 354]])\n",
    "Auto['hp'] = Auto['horsepower'].astype(float) # horsepower imports in my dataframe as string. So I convert it to float\n",
    "Auto.drop(columns = 'horsepower', inplace = True)\n",
    "Auto.reset_index(drop=True, inplace = True)"
   ]
  },
  {
   "cell_type": "markdown",
   "metadata": {
    "application/vnd.databricks.v1+cell": {
     "cellMetadata": {
      "byteLimit": 2048000,
      "rowLimit": 10000
     },
     "inputWidgets": {},
     "nuid": "5c7edb36-49e7-4eb1-a294-08ee6441cdef",
     "showTitle": false,
     "title": ""
    }
   },
   "source": [
    "**a. Create a binary variable, `mpg01`, that contains a 1 if `mpg` contains a value above its median, and a 0 if `mpg` contains a value below its median. You can compute the median using the `median()` method of the data frame. Note you may fnd it helpful to add a column `mpg01` to the data frame by assignment. Assuming you have stored the data frame as `Auto`, this can be done as follows:**\n",
    "<br>\n",
    "Auto['mpg01'] = mpg01"
   ]
  },
  {
   "cell_type": "code",
   "execution_count": 0,
   "metadata": {
    "application/vnd.databricks.v1+cell": {
     "cellMetadata": {
      "byteLimit": 2048000,
      "rowLimit": 10000
     },
     "inputWidgets": {},
     "nuid": "caf1184f-fab9-4230-974a-9845ea4b5bec",
     "showTitle": false,
     "title": ""
    }
   },
   "outputs": [],
   "source": [
    "mpg_median = Auto['mpg'].median()\n",
    "mpg_median"
   ]
  },
  {
   "cell_type": "code",
   "execution_count": 0,
   "metadata": {
    "application/vnd.databricks.v1+cell": {
     "cellMetadata": {
      "byteLimit": 2048000,
      "rowLimit": 10000
     },
     "inputWidgets": {},
     "nuid": "04142894-b390-4b15-b5ca-0abe0a7751b9",
     "showTitle": false,
     "title": ""
    }
   },
   "outputs": [],
   "source": [
    "mpg01 = pd.DataFrame(columns=['mpg01'])\n",
    "Auto = pd.concat([mpg01, Auto], axis = 1)"
   ]
  },
  {
   "cell_type": "code",
   "execution_count": 0,
   "metadata": {
    "application/vnd.databricks.v1+cell": {
     "cellMetadata": {
      "byteLimit": 2048000,
      "rowLimit": 10000
     },
     "inputWidgets": {},
     "nuid": "c327b238-0cba-4ba2-bbc1-378f193b8cf7",
     "showTitle": false,
     "title": ""
    }
   },
   "outputs": [],
   "source": [
    "Auto.head()"
   ]
  },
  {
   "cell_type": "code",
   "execution_count": 0,
   "metadata": {
    "application/vnd.databricks.v1+cell": {
     "cellMetadata": {
      "byteLimit": 2048000,
      "rowLimit": 10000
     },
     "inputWidgets": {},
     "nuid": "10b1672b-cd01-4a88-a552-8151c27f5959",
     "showTitle": false,
     "title": ""
    }
   },
   "outputs": [],
   "source": [
    "index = Auto.index"
   ]
  },
  {
   "cell_type": "code",
   "execution_count": 0,
   "metadata": {
    "application/vnd.databricks.v1+cell": {
     "cellMetadata": {
      "byteLimit": 2048000,
      "rowLimit": 10000
     },
     "inputWidgets": {},
     "nuid": "e9a8d0e9-4e15-4269-810c-de9e9d3185f2",
     "showTitle": false,
     "title": ""
    }
   },
   "outputs": [],
   "source": [
    "for i in index:\n",
    "    if Auto.iloc[i]['mpg'] > mpg_median:\n",
    "        Auto.at[i, 'mpg01'] = int(1)\n",
    "    else:\n",
    "        Auto.at[i, 'mpg01'] = int(0)"
   ]
  },
  {
   "cell_type": "code",
   "execution_count": 0,
   "metadata": {
    "application/vnd.databricks.v1+cell": {
     "cellMetadata": {
      "byteLimit": 2048000,
      "rowLimit": 10000
     },
     "inputWidgets": {},
     "nuid": "45792ec4-cbeb-4279-8689-3132c8d17b46",
     "showTitle": false,
     "title": ""
    }
   },
   "outputs": [],
   "source": [
    "Auto.mpg01.dtype"
   ]
  },
  {
   "cell_type": "code",
   "execution_count": 0,
   "metadata": {
    "application/vnd.databricks.v1+cell": {
     "cellMetadata": {
      "byteLimit": 2048000,
      "rowLimit": 10000
     },
     "inputWidgets": {},
     "nuid": "20e9df81-18aa-4bda-9f6d-2f08e9d5eedf",
     "showTitle": false,
     "title": ""
    }
   },
   "outputs": [],
   "source": [
    "Auto = pd.get_dummies(Auto, columns=['mpg01'], drop_first=True)"
   ]
  },
  {
   "cell_type": "code",
   "execution_count": 0,
   "metadata": {
    "application/vnd.databricks.v1+cell": {
     "cellMetadata": {
      "byteLimit": 2048000,
      "rowLimit": 10000
     },
     "inputWidgets": {},
     "nuid": "5865d6ef-3351-48b0-9a34-1f121557d7e4",
     "showTitle": false,
     "title": ""
    }
   },
   "outputs": [],
   "source": [
    "Auto.head()"
   ]
  },
  {
   "cell_type": "code",
   "execution_count": 0,
   "metadata": {
    "application/vnd.databricks.v1+cell": {
     "cellMetadata": {
      "byteLimit": 2048000,
      "rowLimit": 10000
     },
     "inputWidgets": {},
     "nuid": "3145c4aa-da74-482f-9e20-5b786f8bb7c9",
     "showTitle": false,
     "title": ""
    }
   },
   "outputs": [],
   "source": [
    "type(Auto.mpg01_1)"
   ]
  },
  {
   "cell_type": "code",
   "execution_count": 0,
   "metadata": {
    "application/vnd.databricks.v1+cell": {
     "cellMetadata": {
      "byteLimit": 2048000,
      "rowLimit": 10000
     },
     "inputWidgets": {},
     "nuid": "7d158036-c942-4463-9999-78d9ce439ec7",
     "showTitle": false,
     "title": ""
    }
   },
   "outputs": [],
   "source": [
    "cols = Auto[['mpg', 'cylinders', 'displacement', 'weight', 'acceleration',\n",
    "       'year', 'origin', 'hp']]"
   ]
  },
  {
   "cell_type": "markdown",
   "metadata": {
    "application/vnd.databricks.v1+cell": {
     "cellMetadata": {
      "byteLimit": 2048000,
      "rowLimit": 10000
     },
     "inputWidgets": {},
     "nuid": "90acc6bc-476a-4cbb-be07-20730a6d985c",
     "showTitle": false,
     "title": ""
    }
   },
   "source": [
    "**b. Explore the data graphically in order to investigate the association between `mpg01` and the other features. Which of the other features seem most likely to be useful in predicting `mpg01`? Scatterplots and boxplots may be useful tools to answer this question. Describe your fndings.**"
   ]
  },
  {
   "cell_type": "code",
   "execution_count": 0,
   "metadata": {
    "application/vnd.databricks.v1+cell": {
     "cellMetadata": {
      "byteLimit": 2048000,
      "rowLimit": 10000
     },
     "inputWidgets": {},
     "nuid": "b749dc93-5868-4a3d-a4db-ebb53a34b4e9",
     "showTitle": false,
     "title": ""
    }
   },
   "outputs": [],
   "source": [
    "for i in cols:\n",
    "    plt.xkcd()\n",
    "    plt.figure(figsize = (25, 10))\n",
    "    sns.scatterplot(y = Auto['mpg01_1'], x = Auto[i])"
   ]
  },
  {
   "cell_type": "code",
   "execution_count": 0,
   "metadata": {
    "application/vnd.databricks.v1+cell": {
     "cellMetadata": {
      "byteLimit": 2048000,
      "rowLimit": 10000
     },
     "inputWidgets": {},
     "nuid": "0e869973-812d-4c8a-9be0-b50ebfc31bb3",
     "showTitle": false,
     "title": ""
    }
   },
   "outputs": [],
   "source": [
    "for i in cols:\n",
    "    plt.xkcd()\n",
    "    plt.figure(figsize = (25, 10))\n",
    "    sns.boxplot(data = [Auto['mpg01_1'], Auto[i]])\n",
    "    plt.ylabel(i)\n",
    "    plt.xlabel('mpg01_1')"
   ]
  },
  {
   "cell_type": "code",
   "execution_count": 0,
   "metadata": {
    "application/vnd.databricks.v1+cell": {
     "cellMetadata": {
      "byteLimit": 2048000,
      "rowLimit": 10000
     },
     "inputWidgets": {},
     "nuid": "6e6694e4-43c2-4735-a50c-e0703a209a55",
     "showTitle": false,
     "title": ""
    }
   },
   "outputs": [],
   "source": [
    "import warnings\n",
    "warnings.simplefilter('ignore')\n",
    "plt.xkcd()\n",
    "plt.figure(figsize = (25, 10))\n",
    "sns.pairplot(Auto, hue = 'mpg01_1')"
   ]
  },
  {
   "cell_type": "markdown",
   "metadata": {
    "application/vnd.databricks.v1+cell": {
     "cellMetadata": {
      "byteLimit": 2048000,
      "rowLimit": 10000
     },
     "inputWidgets": {},
     "nuid": "9e70fadc-526e-4b24-812c-8aef88d2d45a",
     "showTitle": false,
     "title": ""
    }
   },
   "source": [
    "There is a clear negative correlation between cylinders, weight, displacement and horsepower. There is a positive\n",
    "correlation with acceleration."
   ]
  },
  {
   "cell_type": "markdown",
   "metadata": {
    "application/vnd.databricks.v1+cell": {
     "cellMetadata": {
      "byteLimit": 2048000,
      "rowLimit": 10000
     },
     "inputWidgets": {},
     "nuid": "7a2bf469-7418-43b1-997d-967fc596bd6e",
     "showTitle": false,
     "title": ""
    }
   },
   "source": [
    "**c. Split the data into a training set and a test set.**"
   ]
  },
  {
   "cell_type": "code",
   "execution_count": 0,
   "metadata": {
    "application/vnd.databricks.v1+cell": {
     "cellMetadata": {
      "byteLimit": 2048000,
      "rowLimit": 10000
     },
     "inputWidgets": {},
     "nuid": "bd61c718-2e6c-485e-868f-288944481dcd",
     "showTitle": false,
     "title": ""
    }
   },
   "outputs": [],
   "source": [
    "from sklearn.model_selection import train_test_split"
   ]
  },
  {
   "cell_type": "code",
   "execution_count": 0,
   "metadata": {
    "application/vnd.databricks.v1+cell": {
     "cellMetadata": {
      "byteLimit": 2048000,
      "rowLimit": 10000
     },
     "inputWidgets": {},
     "nuid": "04a3d078-a0e3-49ab-bcda-6157f71ee4fe",
     "showTitle": false,
     "title": ""
    }
   },
   "outputs": [],
   "source": [
    "Auto.drop(columns=['name', 'year', 'origin'], inplace=True) # deleting name since it does not contribute towards any modelling"
   ]
  },
  {
   "cell_type": "code",
   "execution_count": 0,
   "metadata": {
    "application/vnd.databricks.v1+cell": {
     "cellMetadata": {
      "byteLimit": 2048000,
      "rowLimit": 10000
     },
     "inputWidgets": {},
     "nuid": "4dd64d7f-2621-4138-b782-e2d756553d3f",
     "showTitle": false,
     "title": ""
    }
   },
   "outputs": [],
   "source": [
    "Auto.head()"
   ]
  },
  {
   "cell_type": "code",
   "execution_count": 0,
   "metadata": {
    "application/vnd.databricks.v1+cell": {
     "cellMetadata": {
      "byteLimit": 2048000,
      "rowLimit": 10000
     },
     "inputWidgets": {},
     "nuid": "65333b7b-916b-4a8e-8ed3-786d93e8412b",
     "showTitle": false,
     "title": ""
    }
   },
   "outputs": [],
   "source": [
    "X = Auto.drop(columns=['mpg01_1'])\n",
    "y = Auto['mpg01_1']\n",
    "X_train, X_test, y_train, y_test = train_test_split(X, y, test_size=0.33, random_state=42)"
   ]
  },
  {
   "cell_type": "markdown",
   "metadata": {
    "application/vnd.databricks.v1+cell": {
     "cellMetadata": {
      "byteLimit": 2048000,
      "rowLimit": 10000
     },
     "inputWidgets": {},
     "nuid": "27972164-ee2d-4d21-b0c3-a1f32798267f",
     "showTitle": false,
     "title": ""
    }
   },
   "source": [
    "**d. Perform LDA on the training data in order to predict `mpg01`\n",
    "using the variables that seemed most associated with `mpg01` in\n",
    "(b). What is the test error of the model obtained?**"
   ]
  },
  {
   "cell_type": "code",
   "execution_count": 0,
   "metadata": {
    "application/vnd.databricks.v1+cell": {
     "cellMetadata": {
      "byteLimit": 2048000,
      "rowLimit": 10000
     },
     "inputWidgets": {},
     "nuid": "2ed3a29f-84af-44fa-a912-bf0e5fe0111a",
     "showTitle": false,
     "title": ""
    }
   },
   "outputs": [],
   "source": [
    "from sklearn.discriminant_analysis import LinearDiscriminantAnalysis, QuadraticDiscriminantAnalysis"
   ]
  },
  {
   "cell_type": "code",
   "execution_count": 0,
   "metadata": {
    "application/vnd.databricks.v1+cell": {
     "cellMetadata": {
      "byteLimit": 2048000,
      "rowLimit": 10000
     },
     "inputWidgets": {},
     "nuid": "0c2ba968-029e-46eb-9c50-0efedf36ad3a",
     "showTitle": false,
     "title": ""
    }
   },
   "outputs": [],
   "source": [
    "y_train.dtype"
   ]
  },
  {
   "cell_type": "code",
   "execution_count": 0,
   "metadata": {
    "application/vnd.databricks.v1+cell": {
     "cellMetadata": {
      "byteLimit": 2048000,
      "rowLimit": 10000
     },
     "inputWidgets": {},
     "nuid": "a96170a9-ac48-4bfe-afb1-2659ef474cba",
     "showTitle": false,
     "title": ""
    }
   },
   "outputs": [],
   "source": [
    "ldafit = LinearDiscriminantAnalysis().fit(X_train, y_train)"
   ]
  },
  {
   "cell_type": "code",
   "execution_count": 0,
   "metadata": {
    "application/vnd.databricks.v1+cell": {
     "cellMetadata": {
      "byteLimit": 2048000,
      "rowLimit": 10000
     },
     "inputWidgets": {},
     "nuid": "437f009d-32da-4e22-ab07-9818174757fb",
     "showTitle": false,
     "title": ""
    }
   },
   "outputs": [],
   "source": [
    "ldapred = ldafit.predict(X_test)"
   ]
  },
  {
   "cell_type": "code",
   "execution_count": 0,
   "metadata": {
    "application/vnd.databricks.v1+cell": {
     "cellMetadata": {
      "byteLimit": 2048000,
      "rowLimit": 10000
     },
     "inputWidgets": {},
     "nuid": "740e3e4f-a910-4a87-aa06-e0c0e3800141",
     "showTitle": false,
     "title": ""
    }
   },
   "outputs": [],
   "source": [
    "from sklearn.metrics import confusion_matrix, classification_report"
   ]
  },
  {
   "cell_type": "code",
   "execution_count": 0,
   "metadata": {
    "application/vnd.databricks.v1+cell": {
     "cellMetadata": {
      "byteLimit": 2048000,
      "rowLimit": 10000
     },
     "inputWidgets": {},
     "nuid": "267a6322-c218-4388-8b02-c2476994ea8e",
     "showTitle": false,
     "title": ""
    }
   },
   "outputs": [],
   "source": [
    "print(confusion_matrix(y_test, ldapred))"
   ]
  },
  {
   "cell_type": "code",
   "execution_count": 0,
   "metadata": {
    "application/vnd.databricks.v1+cell": {
     "cellMetadata": {
      "byteLimit": 2048000,
      "rowLimit": 10000
     },
     "inputWidgets": {},
     "nuid": "445c6ce7-0738-43f1-863d-27c859020061",
     "showTitle": false,
     "title": ""
    }
   },
   "outputs": [],
   "source": [
    "print(classification_report(y_test, ldapred))"
   ]
  },
  {
   "cell_type": "markdown",
   "metadata": {
    "application/vnd.databricks.v1+cell": {
     "cellMetadata": {
      "byteLimit": 2048000,
      "rowLimit": 10000
     },
     "inputWidgets": {},
     "nuid": "3b26a31d-f8c9-4d5e-ade5-71e797c6be44",
     "showTitle": false,
     "title": ""
    }
   },
   "source": [
    "**e. Perform QDA on the training data in order to predict `mpg01`\n",
    "using the variables that seemed most associated with `mpg01` in\n",
    "(b). What is the test error of the model obtained?**"
   ]
  },
  {
   "cell_type": "code",
   "execution_count": 0,
   "metadata": {
    "application/vnd.databricks.v1+cell": {
     "cellMetadata": {
      "byteLimit": 2048000,
      "rowLimit": 10000
     },
     "inputWidgets": {},
     "nuid": "707be197-2aa9-429e-aacc-1eccebc30d9f",
     "showTitle": false,
     "title": ""
    }
   },
   "outputs": [],
   "source": [
    "qdafit = QuadraticDiscriminantAnalysis().fit(X_train, y_train)"
   ]
  },
  {
   "cell_type": "code",
   "execution_count": 0,
   "metadata": {
    "application/vnd.databricks.v1+cell": {
     "cellMetadata": {
      "byteLimit": 2048000,
      "rowLimit": 10000
     },
     "inputWidgets": {},
     "nuid": "6625f7f7-9a60-43a1-8c1a-76e92edfd853",
     "showTitle": false,
     "title": ""
    }
   },
   "outputs": [],
   "source": [
    "qdapred = qdafit.predict(X_test)"
   ]
  },
  {
   "cell_type": "code",
   "execution_count": 0,
   "metadata": {
    "application/vnd.databricks.v1+cell": {
     "cellMetadata": {
      "byteLimit": 2048000,
      "rowLimit": 10000
     },
     "inputWidgets": {},
     "nuid": "d0a911ce-e363-4bf2-9c47-ef55c5a0455c",
     "showTitle": false,
     "title": ""
    }
   },
   "outputs": [],
   "source": [
    "print(confusion_matrix(y_test, qdapred))"
   ]
  },
  {
   "cell_type": "code",
   "execution_count": 0,
   "metadata": {
    "application/vnd.databricks.v1+cell": {
     "cellMetadata": {
      "byteLimit": 2048000,
      "rowLimit": 10000
     },
     "inputWidgets": {},
     "nuid": "03d26dfe-b395-40e4-8e85-4fb54edee976",
     "showTitle": false,
     "title": ""
    }
   },
   "outputs": [],
   "source": [
    "print(classification_report(y_test, qdapred))"
   ]
  },
  {
   "cell_type": "markdown",
   "metadata": {
    "application/vnd.databricks.v1+cell": {
     "cellMetadata": {
      "byteLimit": 2048000,
      "rowLimit": 10000
     },
     "inputWidgets": {},
     "nuid": "7cbd0764-af16-4e90-8f34-e48de38538d2",
     "showTitle": false,
     "title": ""
    }
   },
   "source": [
    "QDA provides marginal improvement over LDA."
   ]
  },
  {
   "cell_type": "markdown",
   "metadata": {
    "application/vnd.databricks.v1+cell": {
     "cellMetadata": {
      "byteLimit": 2048000,
      "rowLimit": 10000
     },
     "inputWidgets": {},
     "nuid": "b3ac3767-2b3e-4245-9589-16844628e6eb",
     "showTitle": false,
     "title": ""
    }
   },
   "source": [
    "**f. Perform logistic regression on the training data in order to predict `mpg01` using the variables that seemed most associated with\n",
    "`mpg01` in (b). What is the test error of the model obtained?**"
   ]
  },
  {
   "cell_type": "code",
   "execution_count": 0,
   "metadata": {
    "application/vnd.databricks.v1+cell": {
     "cellMetadata": {
      "byteLimit": 2048000,
      "rowLimit": 10000
     },
     "inputWidgets": {},
     "nuid": "47d20847-ca85-4e60-8b99-82fa764660c2",
     "showTitle": false,
     "title": ""
    }
   },
   "outputs": [],
   "source": [
    "from sklearn.linear_model import LogisticRegression"
   ]
  },
  {
   "cell_type": "code",
   "execution_count": 0,
   "metadata": {
    "application/vnd.databricks.v1+cell": {
     "cellMetadata": {
      "byteLimit": 2048000,
      "rowLimit": 10000
     },
     "inputWidgets": {},
     "nuid": "17921de5-029c-4010-b5bf-0d57e6236170",
     "showTitle": false,
     "title": ""
    }
   },
   "outputs": [],
   "source": [
    "glmfit = LogisticRegression(solver='liblinear').fit(X_train, y_train)"
   ]
  },
  {
   "cell_type": "code",
   "execution_count": 0,
   "metadata": {
    "application/vnd.databricks.v1+cell": {
     "cellMetadata": {
      "byteLimit": 2048000,
      "rowLimit": 10000
     },
     "inputWidgets": {},
     "nuid": "3197a66e-7949-4694-b7e8-86db57a85e45",
     "showTitle": false,
     "title": ""
    }
   },
   "outputs": [],
   "source": [
    "glmpred = glmfit.predict(X_test)"
   ]
  },
  {
   "cell_type": "code",
   "execution_count": 0,
   "metadata": {
    "application/vnd.databricks.v1+cell": {
     "cellMetadata": {
      "byteLimit": 2048000,
      "rowLimit": 10000
     },
     "inputWidgets": {},
     "nuid": "d03d9a9e-ac6e-4335-9f4e-1f75883df613",
     "showTitle": false,
     "title": ""
    }
   },
   "outputs": [],
   "source": [
    "print(confusion_matrix(y_test, glmpred))"
   ]
  },
  {
   "cell_type": "code",
   "execution_count": 0,
   "metadata": {
    "application/vnd.databricks.v1+cell": {
     "cellMetadata": {
      "byteLimit": 2048000,
      "rowLimit": 10000
     },
     "inputWidgets": {},
     "nuid": "8a3003a4-430f-4128-93be-1fc54a395b45",
     "showTitle": false,
     "title": ""
    }
   },
   "outputs": [],
   "source": [
    "print(classification_report(y_test, glmpred))"
   ]
  },
  {
   "cell_type": "markdown",
   "metadata": {
    "application/vnd.databricks.v1+cell": {
     "cellMetadata": {
      "byteLimit": 2048000,
      "rowLimit": 10000
     },
     "inputWidgets": {},
     "nuid": "07f62329-5841-4938-8011-a39c3197994c",
     "showTitle": false,
     "title": ""
    }
   },
   "source": [
    "Logistic Regression performs the same as QDA"
   ]
  },
  {
   "cell_type": "markdown",
   "metadata": {
    "application/vnd.databricks.v1+cell": {
     "cellMetadata": {
      "byteLimit": 2048000,
      "rowLimit": 10000
     },
     "inputWidgets": {},
     "nuid": "17ced0e8-acc1-4768-899e-311b9c019976",
     "showTitle": false,
     "title": ""
    }
   },
   "source": [
    "**h. Perform KNN on the training data, with several values of K, in\n",
    "order to predict `mpg01`. Use only the variables that seemed most\n",
    "associated with `mpg01` in (b). What test errors do you obtain?\n",
    "Which value of K seems to perform the best on this data set?**"
   ]
  },
  {
   "cell_type": "markdown",
   "metadata": {
    "application/vnd.databricks.v1+cell": {
     "cellMetadata": {
      "byteLimit": 2048000,
      "rowLimit": 10000
     },
     "inputWidgets": {},
     "nuid": "94d39d3f-8588-43a3-a7fd-9a7655027b72",
     "showTitle": false,
     "title": ""
    }
   },
   "source": [
    "Since different features are measured differently, we will need to standardise them before modelling. However, since the dataset has already been manipulated quite a bit, I will need to re-import the data and redo some of the manipulations."
   ]
  },
  {
   "cell_type": "code",
   "execution_count": 0,
   "metadata": {
    "application/vnd.databricks.v1+cell": {
     "cellMetadata": {
      "byteLimit": 2048000,
      "rowLimit": 10000
     },
     "inputWidgets": {},
     "nuid": "e16f1137-85a6-49fb-9ce2-a9970c5f0571",
     "showTitle": false,
     "title": ""
    }
   },
   "outputs": [],
   "source": [
    "# import and preprocess data\n",
    "url = \"abfss://training@sa8451learningdev.dfs.core.windows.net/interpretable_machine_learning/eml_data/Auto.csv\"\n",
    "Auto = spark.read.option(\"header\", \"true\").csv(url).toPandas()\n",
    "\n",
    "str_cols = [\"name\"]\n",
    "num_cols = list(set(Auto.columns) - set(str_cols))\n",
    "Auto[str_cols] = Auto[str_cols].astype(str)\n",
    "Auto[num_cols] = Auto[num_cols].astype(float)"
   ]
  },
  {
   "cell_type": "code",
   "execution_count": 0,
   "metadata": {
    "application/vnd.databricks.v1+cell": {
     "cellMetadata": {
      "byteLimit": 2048000,
      "rowLimit": 10000
     },
     "inputWidgets": {},
     "nuid": "440491a9-66cf-4c87-9a4d-1f4138b68fb6",
     "showTitle": false,
     "title": ""
    }
   },
   "outputs": [],
   "source": [
    "Auto = Auto.drop(Auto.index[[32, 126, 330, 336, 354]])\n",
    "Auto['hp'] = Auto['horsepower'].astype(float) # horsepower imports in my dataframe as string. So I convert it to float\n",
    "Auto.drop(columns = 'horsepower', inplace = True)\n",
    "Auto.reset_index(drop=True, inplace = True)"
   ]
  },
  {
   "cell_type": "code",
   "execution_count": 0,
   "metadata": {
    "application/vnd.databricks.v1+cell": {
     "cellMetadata": {
      "byteLimit": 2048000,
      "rowLimit": 10000
     },
     "inputWidgets": {},
     "nuid": "8b9ec191-8443-4bfc-aa35-2f0d801b93c6",
     "showTitle": false,
     "title": ""
    }
   },
   "outputs": [],
   "source": [
    "mpg_median = Auto['mpg'].median()\n",
    "mpg_median"
   ]
  },
  {
   "cell_type": "code",
   "execution_count": 0,
   "metadata": {
    "application/vnd.databricks.v1+cell": {
     "cellMetadata": {
      "byteLimit": 2048000,
      "rowLimit": 10000
     },
     "inputWidgets": {},
     "nuid": "bc2024bf-ad35-4c8a-907e-33f7805822a0",
     "showTitle": false,
     "title": ""
    }
   },
   "outputs": [],
   "source": [
    "mpg01 = pd.DataFrame(columns=['mpg01'])\n",
    "Auto = pd.concat([mpg01, Auto], axis = 1)"
   ]
  },
  {
   "cell_type": "code",
   "execution_count": 0,
   "metadata": {
    "application/vnd.databricks.v1+cell": {
     "cellMetadata": {
      "byteLimit": 2048000,
      "rowLimit": 10000
     },
     "inputWidgets": {},
     "nuid": "70411eae-076a-45e7-bf73-60d8863bf23d",
     "showTitle": false,
     "title": ""
    }
   },
   "outputs": [],
   "source": [
    "index = Auto.index"
   ]
  },
  {
   "cell_type": "code",
   "execution_count": 0,
   "metadata": {
    "application/vnd.databricks.v1+cell": {
     "cellMetadata": {
      "byteLimit": 2048000,
      "rowLimit": 10000
     },
     "inputWidgets": {},
     "nuid": "28457ad6-b727-4e16-8279-bc6dfff49448",
     "showTitle": false,
     "title": ""
    }
   },
   "outputs": [],
   "source": [
    "for i in index:\n",
    "    if Auto.iloc[i]['mpg'] > mpg_median:\n",
    "        Auto.at[i, 'mpg01'] = int(1)\n",
    "    else:\n",
    "        Auto.at[i, 'mpg01'] = int(0)"
   ]
  },
  {
   "cell_type": "code",
   "execution_count": 0,
   "metadata": {
    "application/vnd.databricks.v1+cell": {
     "cellMetadata": {
      "byteLimit": 2048000,
      "rowLimit": 10000
     },
     "inputWidgets": {},
     "nuid": "36634eb9-e86a-40aa-8cd1-b8f1437af0ca",
     "showTitle": false,
     "title": ""
    }
   },
   "outputs": [],
   "source": [
    "Auto = pd.get_dummies(Auto, columns=['mpg01'], drop_first=True)"
   ]
  },
  {
   "cell_type": "code",
   "execution_count": 0,
   "metadata": {
    "application/vnd.databricks.v1+cell": {
     "cellMetadata": {
      "byteLimit": 2048000,
      "rowLimit": 10000
     },
     "inputWidgets": {},
     "nuid": "80c915e3-80af-42c5-b0d9-bb61e6c754c1",
     "showTitle": false,
     "title": ""
    }
   },
   "outputs": [],
   "source": [
    "Auto.drop(columns=['name', 'year', 'origin'], inplace=True) # deleting name since it does not contribute towards any modelling"
   ]
  },
  {
   "cell_type": "code",
   "execution_count": 0,
   "metadata": {
    "application/vnd.databricks.v1+cell": {
     "cellMetadata": {
      "byteLimit": 2048000,
      "rowLimit": 10000
     },
     "inputWidgets": {},
     "nuid": "b2c4fb6b-ff98-48d8-a275-d174f7e546a5",
     "showTitle": false,
     "title": ""
    }
   },
   "outputs": [],
   "source": [
    "Auto.head()"
   ]
  },
  {
   "cell_type": "code",
   "execution_count": 0,
   "metadata": {
    "application/vnd.databricks.v1+cell": {
     "cellMetadata": {
      "byteLimit": 2048000,
      "rowLimit": 10000
     },
     "inputWidgets": {},
     "nuid": "7afd7f0f-7bab-4a38-8661-5362e774b1a6",
     "showTitle": false,
     "title": ""
    }
   },
   "outputs": [],
   "source": [
    "Auto.shape"
   ]
  },
  {
   "cell_type": "code",
   "execution_count": 0,
   "metadata": {
    "application/vnd.databricks.v1+cell": {
     "cellMetadata": {
      "byteLimit": 2048000,
      "rowLimit": 10000
     },
     "inputWidgets": {},
     "nuid": "8e14070a-1cfc-4b3c-8eaa-b6edcab38208",
     "showTitle": false,
     "title": ""
    }
   },
   "outputs": [],
   "source": [
    "pf = pd.DataFrame()\n",
    "for i in Auto.columns[:-1]:\n",
    "    pf = pf.append([Auto[i].var()])\n",
    "\n",
    "\n",
    "plt.xkcd()\n",
    "plt.figure(figsize = (25, 10))\n",
    "plt.plot(pf.reset_index())"
   ]
  },
  {
   "cell_type": "markdown",
   "metadata": {
    "application/vnd.databricks.v1+cell": {
     "cellMetadata": {
      "byteLimit": 2048000,
      "rowLimit": 10000
     },
     "inputWidgets": {},
     "nuid": "d567b2fd-fc1c-4ad1-bf8f-771294b8c694",
     "showTitle": false,
     "title": ""
    }
   },
   "source": [
    "Whoa! We need to standardise the variables!"
   ]
  },
  {
   "cell_type": "code",
   "execution_count": 0,
   "metadata": {
    "application/vnd.databricks.v1+cell": {
     "cellMetadata": {
      "byteLimit": 2048000,
      "rowLimit": 10000
     },
     "inputWidgets": {},
     "nuid": "0cf4c40a-7b08-4e2b-bc90-d419d5ded4fc",
     "showTitle": false,
     "title": ""
    }
   },
   "outputs": [],
   "source": [
    "from sklearn.preprocessing import StandardScaler"
   ]
  },
  {
   "cell_type": "code",
   "execution_count": 0,
   "metadata": {
    "application/vnd.databricks.v1+cell": {
     "cellMetadata": {
      "byteLimit": 2048000,
      "rowLimit": 10000
     },
     "inputWidgets": {},
     "nuid": "15300c12-01c9-4705-bf15-ec2441efab16",
     "showTitle": false,
     "title": ""
    }
   },
   "outputs": [],
   "source": [
    "scaler = StandardScaler()"
   ]
  },
  {
   "cell_type": "code",
   "execution_count": 0,
   "metadata": {
    "application/vnd.databricks.v1+cell": {
     "cellMetadata": {
      "byteLimit": 2048000,
      "rowLimit": 10000
     },
     "inputWidgets": {},
     "nuid": "bc208ab6-9bf3-4c8a-b93e-5bd53c5eda21",
     "showTitle": false,
     "title": ""
    }
   },
   "outputs": [],
   "source": [
    "import warnings\n",
    "warnings.simplefilter('ignore')\n",
    "scaler.fit(Auto.drop(columns='mpg01_1', axis=1))"
   ]
  },
  {
   "cell_type": "code",
   "execution_count": 0,
   "metadata": {
    "application/vnd.databricks.v1+cell": {
     "cellMetadata": {
      "byteLimit": 2048000,
      "rowLimit": 10000
     },
     "inputWidgets": {},
     "nuid": "72595965-30b4-459b-a093-5c7d57907c60",
     "showTitle": false,
     "title": ""
    }
   },
   "outputs": [],
   "source": [
    "scaled_features = scaler.transform(Auto.drop(columns='mpg01_1',axis=1))"
   ]
  },
  {
   "cell_type": "code",
   "execution_count": 0,
   "metadata": {
    "application/vnd.databricks.v1+cell": {
     "cellMetadata": {
      "byteLimit": 2048000,
      "rowLimit": 10000
     },
     "inputWidgets": {},
     "nuid": "7f483eab-55d3-460e-81e8-12eecdceecc3",
     "showTitle": false,
     "title": ""
    }
   },
   "outputs": [],
   "source": [
    "Auto_scaled = pd.DataFrame(scaled_features,columns=Auto.columns[:-1])\n",
    "Auto_scaled.head()"
   ]
  },
  {
   "cell_type": "code",
   "execution_count": 0,
   "metadata": {
    "application/vnd.databricks.v1+cell": {
     "cellMetadata": {
      "byteLimit": 2048000,
      "rowLimit": 10000
     },
     "inputWidgets": {},
     "nuid": "9121c299-d587-4182-b871-5cd83a09d9bf",
     "showTitle": false,
     "title": ""
    }
   },
   "outputs": [],
   "source": [
    "pf = pd.DataFrame()\n",
    "for i in Auto_scaled.columns[:-1]:\n",
    "    pf = pf.append([Auto_scaled[i].var()])\n",
    "\n",
    "\n",
    "plt.xkcd()\n",
    "plt.figure(figsize = (25, 10))\n",
    "plt.plot(pf.reset_index())"
   ]
  },
  {
   "cell_type": "markdown",
   "metadata": {
    "application/vnd.databricks.v1+cell": {
     "cellMetadata": {
      "byteLimit": 2048000,
      "rowLimit": 10000
     },
     "inputWidgets": {},
     "nuid": "abf9e170-0cb7-4e84-891d-77a3f3482543",
     "showTitle": false,
     "title": ""
    }
   },
   "source": [
    "Looks great! Now, I can proceed to the modelling phase."
   ]
  },
  {
   "cell_type": "code",
   "execution_count": 0,
   "metadata": {
    "application/vnd.databricks.v1+cell": {
     "cellMetadata": {
      "byteLimit": 2048000,
      "rowLimit": 10000
     },
     "inputWidgets": {},
     "nuid": "faaf070c-2080-4d07-9f76-14aae85d717e",
     "showTitle": false,
     "title": ""
    }
   },
   "outputs": [],
   "source": [
    "from sklearn.neighbors import KNeighborsClassifier"
   ]
  },
  {
   "cell_type": "code",
   "execution_count": 0,
   "metadata": {
    "application/vnd.databricks.v1+cell": {
     "cellMetadata": {
      "byteLimit": 2048000,
      "rowLimit": 10000
     },
     "inputWidgets": {},
     "nuid": "d50d5262-94c0-4d58-893f-a1ecab84493e",
     "showTitle": false,
     "title": ""
    }
   },
   "outputs": [],
   "source": [
    "knn = KNeighborsClassifier(n_neighbors=1).fit(X_train, y_train)"
   ]
  },
  {
   "cell_type": "code",
   "execution_count": 0,
   "metadata": {
    "application/vnd.databricks.v1+cell": {
     "cellMetadata": {
      "byteLimit": 2048000,
      "rowLimit": 10000
     },
     "inputWidgets": {},
     "nuid": "7a149fae-c7be-4894-ba8f-18f918b2ab0f",
     "showTitle": false,
     "title": ""
    }
   },
   "outputs": [],
   "source": [
    "knnpred = knn.predict(X_test)"
   ]
  },
  {
   "cell_type": "code",
   "execution_count": 0,
   "metadata": {
    "application/vnd.databricks.v1+cell": {
     "cellMetadata": {
      "byteLimit": 2048000,
      "rowLimit": 10000
     },
     "inputWidgets": {},
     "nuid": "1c52c0ee-0650-4084-9131-94ffd907df68",
     "showTitle": false,
     "title": ""
    }
   },
   "outputs": [],
   "source": [
    "print(confusion_matrix(y_test, knnpred))"
   ]
  },
  {
   "cell_type": "code",
   "execution_count": 0,
   "metadata": {
    "application/vnd.databricks.v1+cell": {
     "cellMetadata": {
      "byteLimit": 2048000,
      "rowLimit": 10000
     },
     "inputWidgets": {},
     "nuid": "302fdda3-a299-4376-a4a8-330fc12f54b8",
     "showTitle": false,
     "title": ""
    }
   },
   "outputs": [],
   "source": [
    "print(classification_report(y_test, knnpred))"
   ]
  },
  {
   "cell_type": "code",
   "execution_count": 0,
   "metadata": {
    "application/vnd.databricks.v1+cell": {
     "cellMetadata": {
      "byteLimit": 2048000,
      "rowLimit": 10000
     },
     "inputWidgets": {},
     "nuid": "9599ac1f-8098-4150-ace1-ad93c5f88743",
     "showTitle": false,
     "title": ""
    }
   },
   "outputs": [],
   "source": [
    "error_rate = []\n",
    "\n",
    "# Will take some time\n",
    "for i in range(1,40):\n",
    "    \n",
    "    knn = KNeighborsClassifier(n_neighbors=i)\n",
    "    knn.fit(X_train,y_train)\n",
    "    pred_i = knn.predict(X_test)\n",
    "    error_rate.append(np.mean(pred_i != y_test))"
   ]
  },
  {
   "cell_type": "code",
   "execution_count": 0,
   "metadata": {
    "application/vnd.databricks.v1+cell": {
     "cellMetadata": {
      "byteLimit": 2048000,
      "rowLimit": 10000
     },
     "inputWidgets": {},
     "nuid": "6bdd7315-a277-41e3-bef4-509b325eabd3",
     "showTitle": false,
     "title": ""
    }
   },
   "outputs": [],
   "source": [
    "plt.xkcd()\n",
    "plt.figure(figsize=(25,10))\n",
    "plt.plot(range(1,40),error_rate,color='blue', linestyle='dashed', marker='o',\n",
    "         markerfacecolor='red', markersize=10)\n",
    "plt.title('Error Rate vs. K Value')\n",
    "plt.xlabel('K')\n",
    "plt.ylabel('Error Rate')"
   ]
  },
  {
   "cell_type": "markdown",
   "metadata": {
    "application/vnd.databricks.v1+cell": {
     "cellMetadata": {
      "byteLimit": 2048000,
      "rowLimit": 10000
     },
     "inputWidgets": {},
     "nuid": "fb01dfff-c4cf-481b-8652-d4cffdf3d9ec",
     "showTitle": false,
     "title": ""
    }
   },
   "source": [
    "As we can see, there is no point in modelling for K > 3, since the error rate increases drastically. This is primarily \n",
    "because the Bayesian Boundary is likely to be non-linear. Just to check, I will model with K = 3. However, I am not expecting any significant improvement in accuracy over K = 1."
   ]
  },
  {
   "cell_type": "code",
   "execution_count": 0,
   "metadata": {
    "application/vnd.databricks.v1+cell": {
     "cellMetadata": {
      "byteLimit": 2048000,
      "rowLimit": 10000
     },
     "inputWidgets": {},
     "nuid": "f9705456-772f-413c-bcd1-b17c7430b6a2",
     "showTitle": false,
     "title": ""
    }
   },
   "outputs": [],
   "source": [
    "knn3 = KNeighborsClassifier(n_neighbors=3).fit(X_train, y_train)"
   ]
  },
  {
   "cell_type": "code",
   "execution_count": 0,
   "metadata": {
    "application/vnd.databricks.v1+cell": {
     "cellMetadata": {
      "byteLimit": 2048000,
      "rowLimit": 10000
     },
     "inputWidgets": {},
     "nuid": "48763010-712b-4bdf-a846-2a86207d05a1",
     "showTitle": false,
     "title": ""
    }
   },
   "outputs": [],
   "source": [
    "knnpred3 = knn3.predict(X_test)"
   ]
  },
  {
   "cell_type": "code",
   "execution_count": 0,
   "metadata": {
    "application/vnd.databricks.v1+cell": {
     "cellMetadata": {
      "byteLimit": 2048000,
      "rowLimit": 10000
     },
     "inputWidgets": {},
     "nuid": "7dfc3f09-4e33-44e5-b2d4-9b4f1074245a",
     "showTitle": false,
     "title": ""
    }
   },
   "outputs": [],
   "source": [
    "print(confusion_matrix(y_test, knnpred3))"
   ]
  },
  {
   "cell_type": "code",
   "execution_count": 0,
   "metadata": {
    "application/vnd.databricks.v1+cell": {
     "cellMetadata": {
      "byteLimit": 2048000,
      "rowLimit": 10000
     },
     "inputWidgets": {},
     "nuid": "845edd18-03aa-4e79-aaf4-73780e01d0a2",
     "showTitle": false,
     "title": ""
    }
   },
   "outputs": [],
   "source": [
    "print(classification_report(y_test, knnpred3))"
   ]
  },
  {
   "cell_type": "markdown",
   "metadata": {
    "application/vnd.databricks.v1+cell": {
     "cellMetadata": {
      "byteLimit": 2048000,
      "rowLimit": 10000
     },
     "inputWidgets": {},
     "nuid": "793c6a89-a35e-4222-a0e8-63baa64f7303",
     "showTitle": false,
     "title": ""
    }
   },
   "source": [
    "As we can see, there is no significant change in model prediction accuracy. Now, for fun, let me do K = 11, which will highlight issues with overfitting a non-linear Bayesian Boundary."
   ]
  },
  {
   "cell_type": "code",
   "execution_count": 0,
   "metadata": {
    "application/vnd.databricks.v1+cell": {
     "cellMetadata": {
      "byteLimit": 2048000,
      "rowLimit": 10000
     },
     "inputWidgets": {},
     "nuid": "3346bd0e-e94d-4e38-8f24-d752128c0798",
     "showTitle": false,
     "title": ""
    }
   },
   "outputs": [],
   "source": [
    "knn11 = KNeighborsClassifier(n_neighbors=11).fit(X_train, y_train)"
   ]
  },
  {
   "cell_type": "code",
   "execution_count": 0,
   "metadata": {
    "application/vnd.databricks.v1+cell": {
     "cellMetadata": {
      "byteLimit": 2048000,
      "rowLimit": 10000
     },
     "inputWidgets": {},
     "nuid": "862162ee-aa3f-4d08-b464-189a9ba2f72e",
     "showTitle": false,
     "title": ""
    }
   },
   "outputs": [],
   "source": [
    "knnpred11 = knn11.predict(X_test)"
   ]
  },
  {
   "cell_type": "code",
   "execution_count": 0,
   "metadata": {
    "application/vnd.databricks.v1+cell": {
     "cellMetadata": {
      "byteLimit": 2048000,
      "rowLimit": 10000
     },
     "inputWidgets": {},
     "nuid": "bb724b2b-eea2-4471-8d1f-a91261d38354",
     "showTitle": false,
     "title": ""
    }
   },
   "outputs": [],
   "source": [
    "print(confusion_matrix(y_test, knnpred11))"
   ]
  },
  {
   "cell_type": "code",
   "execution_count": 0,
   "metadata": {
    "application/vnd.databricks.v1+cell": {
     "cellMetadata": {
      "byteLimit": 2048000,
      "rowLimit": 10000
     },
     "inputWidgets": {},
     "nuid": "6287cf42-12fe-4885-98ce-59e226abf00d",
     "showTitle": false,
     "title": ""
    }
   },
   "outputs": [],
   "source": [
    "print(classification_report(y_test, knnpred11))"
   ]
  },
  {
   "cell_type": "markdown",
   "metadata": {
    "application/vnd.databricks.v1+cell": {
     "cellMetadata": {
      "byteLimit": 2048000,
      "rowLimit": 10000
     },
     "inputWidgets": {},
     "nuid": "2fa980a5-3d3b-4127-ac80-a8d8bae72950",
     "showTitle": false,
     "title": ""
    }
   },
   "source": [
    "As we can see, there is a drastic reduction in model prediction accuracy due to overfitting of test data."
   ]
  },
  {
   "cell_type": "code",
   "execution_count": 0,
   "metadata": {
    "application/vnd.databricks.v1+cell": {
     "cellMetadata": {
      "byteLimit": 2048000,
      "rowLimit": 10000
     },
     "inputWidgets": {},
     "nuid": "3a90a1b9-819c-4e57-a216-d5e076cca4af",
     "showTitle": false,
     "title": ""
    }
   },
   "outputs": [],
   "source": []
  }
 ],
 "metadata": {
  "application/vnd.databricks.v1+notebook": {
   "dashboards": [],
   "language": "python",
   "notebookMetadata": {
    "pythonIndentUnit": 2
   },
   "notebookName": "Question 14 - answers",
   "widgets": {}
  }
 },
 "nbformat": 4,
 "nbformat_minor": 0
}
