{
 "cells": [
  {
   "cell_type": "markdown",
   "metadata": {
    "application/vnd.databricks.v1+cell": {
     "cellMetadata": {
      "byteLimit": 2048000,
      "rowLimit": 10000
     },
     "inputWidgets": {},
     "nuid": "e677c5ed-32b0-47f1-af69-b99d576c4475",
     "showTitle": false,
     "title": ""
    }
   },
   "source": [
    "This problem involves writing functions."
   ]
  },
  {
   "cell_type": "code",
   "execution_count": 0,
   "metadata": {
    "application/vnd.databricks.v1+cell": {
     "cellMetadata": {
      "byteLimit": 2048000,
      "rowLimit": 10000
     },
     "inputWidgets": {},
     "nuid": "4e379110-2f21-42e4-a97c-a37e16d49e8c",
     "showTitle": false,
     "title": ""
    }
   },
   "outputs": [],
   "source": [
    "# import statistical packages\n",
    "import numpy as np\n",
    "import pandas as pd"
   ]
  },
  {
   "cell_type": "code",
   "execution_count": 0,
   "metadata": {
    "application/vnd.databricks.v1+cell": {
     "cellMetadata": {
      "byteLimit": 2048000,
      "rowLimit": 10000
     },
     "inputWidgets": {},
     "nuid": "28aca902-b8f9-4587-b16d-912d2472cc9e",
     "showTitle": false,
     "title": ""
    }
   },
   "outputs": [],
   "source": [
    "# import data visualisation packages\n",
    "import matplotlib.pyplot as plt\n",
    "import seaborn as sns\n",
    "%matplotlib inline"
   ]
  },
  {
   "cell_type": "markdown",
   "metadata": {
    "application/vnd.databricks.v1+cell": {
     "cellMetadata": {
      "byteLimit": 2048000,
      "rowLimit": 10000
     },
     "inputWidgets": {},
     "nuid": "1dd66901-a8f9-4d35-bedb-0260dc8aa3f5",
     "showTitle": false,
     "title": ""
    }
   },
   "source": [
    "**a. Write a function, `Power()`, that prints out the result of raising 2\n",
    "to the 3rd power. In other words, your function should compute\n",
    "23 and print out the results.**\n",
    "\n",
    "*Hint: Recall that `x**a` raises `x` to the power `a`. Use the print()\n",
    "function to display the result.*"
   ]
  },
  {
   "cell_type": "code",
   "execution_count": 0,
   "metadata": {
    "application/vnd.databricks.v1+cell": {
     "cellMetadata": {
      "byteLimit": 2048000,
      "rowLimit": 10000
     },
     "inputWidgets": {},
     "nuid": "7c452d04-4186-424f-a786-d8e4c3da40e4",
     "showTitle": false,
     "title": ""
    }
   },
   "outputs": [],
   "source": [
    "def power():\n",
    "    print(pow(2, 3))"
   ]
  },
  {
   "cell_type": "code",
   "execution_count": 0,
   "metadata": {
    "application/vnd.databricks.v1+cell": {
     "cellMetadata": {
      "byteLimit": 2048000,
      "rowLimit": 10000
     },
     "inputWidgets": {},
     "nuid": "f114ac83-3201-4632-b8df-b26303bf6cfa",
     "showTitle": false,
     "title": ""
    }
   },
   "outputs": [],
   "source": [
    "power()"
   ]
  },
  {
   "cell_type": "markdown",
   "metadata": {
    "application/vnd.databricks.v1+cell": {
     "cellMetadata": {
      "byteLimit": 2048000,
      "rowLimit": 10000
     },
     "inputWidgets": {},
     "nuid": "24ded488-cb89-4e4e-8faf-42230e202901",
     "showTitle": false,
     "title": ""
    }
   },
   "source": [
    "**b. Create a new function, `Power2()`, that allows you to pass any two numbers, x and a, and prints out the value of `x^a`. You can do this by beginning your function with the line**\n",
    "<br>\n",
    "`def Power2(x, a):`\n",
    "<br>\n",
    "<br>\n",
    "You should be able to call your function by entering, for instance,\n",
    "<br>\n",
    "`Power2(3, 8)`"
   ]
  },
  {
   "cell_type": "code",
   "execution_count": 0,
   "metadata": {
    "application/vnd.databricks.v1+cell": {
     "cellMetadata": {
      "byteLimit": 2048000,
      "rowLimit": 10000
     },
     "inputWidgets": {},
     "nuid": "04d5f145-9df9-48b8-9c20-fa7bb6284a09",
     "showTitle": false,
     "title": ""
    }
   },
   "outputs": [],
   "source": [
    "def power2(x, a):\n",
    "    print(pow(x, a))"
   ]
  },
  {
   "cell_type": "code",
   "execution_count": 0,
   "metadata": {
    "application/vnd.databricks.v1+cell": {
     "cellMetadata": {
      "byteLimit": 2048000,
      "rowLimit": 10000
     },
     "inputWidgets": {},
     "nuid": "b3909855-d870-4f32-8ea8-7698ce40f141",
     "showTitle": false,
     "title": ""
    }
   },
   "outputs": [],
   "source": [
    "pow(3, 8)"
   ]
  },
  {
   "cell_type": "markdown",
   "metadata": {
    "application/vnd.databricks.v1+cell": {
     "cellMetadata": {
      "byteLimit": 2048000,
      "rowLimit": 10000
     },
     "inputWidgets": {},
     "nuid": "7bfe4c6b-dbbd-42f1-99d3-1fbcf629a0f0",
     "showTitle": false,
     "title": ""
    }
   },
   "source": [
    "**c. Using the `Power2()` function that you just wrote, compute 10^3, 8^17, and 131^3.**"
   ]
  },
  {
   "cell_type": "code",
   "execution_count": 0,
   "metadata": {
    "application/vnd.databricks.v1+cell": {
     "cellMetadata": {
      "byteLimit": 2048000,
      "rowLimit": 10000
     },
     "inputWidgets": {},
     "nuid": "d285e654-d796-452c-bf17-ce98fe717173",
     "showTitle": false,
     "title": ""
    }
   },
   "outputs": [],
   "source": [
    "power2(10, 3)"
   ]
  },
  {
   "cell_type": "code",
   "execution_count": 0,
   "metadata": {
    "application/vnd.databricks.v1+cell": {
     "cellMetadata": {
      "byteLimit": 2048000,
      "rowLimit": 10000
     },
     "inputWidgets": {},
     "nuid": "55613f16-1fea-45ee-af5a-fc8c80c0a824",
     "showTitle": false,
     "title": ""
    }
   },
   "outputs": [],
   "source": [
    "power2(8, 17)"
   ]
  },
  {
   "cell_type": "code",
   "execution_count": 0,
   "metadata": {
    "application/vnd.databricks.v1+cell": {
     "cellMetadata": {
      "byteLimit": 2048000,
      "rowLimit": 10000
     },
     "inputWidgets": {},
     "nuid": "b41f034c-4b93-407f-91a8-c7f386a02cb6",
     "showTitle": false,
     "title": ""
    }
   },
   "outputs": [],
   "source": [
    "power2(131, 3)"
   ]
  },
  {
   "cell_type": "markdown",
   "metadata": {
    "application/vnd.databricks.v1+cell": {
     "cellMetadata": {
      "byteLimit": 2048000,
      "rowLimit": 10000
     },
     "inputWidgets": {},
     "nuid": "60e7f6c6-c11c-45b1-be9d-a58056538d1d",
     "showTitle": false,
     "title": ""
    }
   },
   "source": [
    "**d. Now create a new function, `Power3()`, that actually returns the\n",
    "result `x^a` as a `Python` object, rather than simply printing it\n",
    "to the screen. That is, if you store the value `x^a` in an object\n",
    "called result within your function, then you can simply return return\n",
    "this result, using the following line:**\n",
    "<br>\n",
    "<br>\n",
    "`return result`\n",
    "<br>\n",
    "<br>\n",
    "Note that the line above should be the last line in your function."
   ]
  },
  {
   "cell_type": "code",
   "execution_count": 0,
   "metadata": {
    "application/vnd.databricks.v1+cell": {
     "cellMetadata": {
      "byteLimit": 2048000,
      "rowLimit": 10000
     },
     "inputWidgets": {},
     "nuid": "ae5e6505-4542-43bc-9903-b33a363dff5f",
     "showTitle": false,
     "title": ""
    }
   },
   "outputs": [],
   "source": [
    "def power3(x, a):\n",
    "    return pow(x, a)"
   ]
  },
  {
   "cell_type": "markdown",
   "metadata": {
    "application/vnd.databricks.v1+cell": {
     "cellMetadata": {
      "byteLimit": 2048000,
      "rowLimit": 10000
     },
     "inputWidgets": {},
     "nuid": "2faf848e-bc9a-4140-b761-dba347ba64c9",
     "showTitle": false,
     "title": ""
    }
   },
   "source": [
    "**e. Now using the `Power3()` function, create a plot of f(x) = x2.\n",
    "The x-axis should display a range of integers from 1 to 10, and\n",
    "the y-axis should display x2. Label the axes appropriately, and\n",
    "use an appropriate title for the fgure. Consider displaying either\n",
    "the x-axis, the y-axis, or both on the log-scale. You can do this\n",
    "by using the `ax.set_xscale()` and `ax.set_yscale()` methods of `.set_xscale()` and \n",
    "`.set_yscale()` the axes you are plotting to.**"
   ]
  },
  {
   "cell_type": "code",
   "execution_count": 0,
   "metadata": {
    "application/vnd.databricks.v1+cell": {
     "cellMetadata": {
      "byteLimit": 2048000,
      "rowLimit": 10000
     },
     "inputWidgets": {},
     "nuid": "6ebc3bff-0759-481c-95fe-47cc60accf49",
     "showTitle": false,
     "title": ""
    }
   },
   "outputs": [],
   "source": [
    "def fx(x):\n",
    "    return power3(x, 2)"
   ]
  },
  {
   "cell_type": "code",
   "execution_count": 0,
   "metadata": {
    "application/vnd.databricks.v1+cell": {
     "cellMetadata": {
      "byteLimit": 2048000,
      "rowLimit": 10000
     },
     "inputWidgets": {},
     "nuid": "ca7e49a3-dacc-4c6c-91b7-cd49fe109b52",
     "showTitle": false,
     "title": ""
    }
   },
   "outputs": [],
   "source": [
    "df = pd.DataFrame()\n",
    "for i in range(1,11):\n",
    "    df = df.append([[i, fx(i)]], ignore_index = True)"
   ]
  },
  {
   "cell_type": "code",
   "execution_count": 0,
   "metadata": {
    "application/vnd.databricks.v1+cell": {
     "cellMetadata": {
      "byteLimit": 2048000,
      "rowLimit": 10000
     },
     "inputWidgets": {},
     "nuid": "4aab2eaa-54d4-476c-abb3-eb562fa71167",
     "showTitle": false,
     "title": ""
    }
   },
   "outputs": [],
   "source": [
    "df.columns = [['x', 'fx']]"
   ]
  },
  {
   "cell_type": "code",
   "execution_count": 0,
   "metadata": {
    "application/vnd.databricks.v1+cell": {
     "cellMetadata": {
      "byteLimit": 2048000,
      "rowLimit": 10000
     },
     "inputWidgets": {},
     "nuid": "1d3bda04-ecbb-4c41-8e6f-af5846882631",
     "showTitle": false,
     "title": ""
    }
   },
   "outputs": [],
   "source": [
    "df"
   ]
  },
  {
   "cell_type": "code",
   "execution_count": 0,
   "metadata": {
    "application/vnd.databricks.v1+cell": {
     "cellMetadata": {
      "byteLimit": 2048000,
      "rowLimit": 10000
     },
     "inputWidgets": {},
     "nuid": "7cfef721-f95b-448c-96a1-16f92967f28d",
     "showTitle": false,
     "title": ""
    }
   },
   "outputs": [],
   "source": [
    "plt.xkcd()\n",
    "plt.figure(figsize = (25, 10))\n",
    "plt.plot(df['fx'],color='green', linestyle='dashed', marker='o',\n",
    "         markerfacecolor='yellow', markersize=10)\n",
    "plt.title('fx vs x')\n",
    "plt.xlabel('x')\n",
    "plt.ylabel('fx = x^2')"
   ]
  },
  {
   "cell_type": "markdown",
   "metadata": {
    "application/vnd.databricks.v1+cell": {
     "cellMetadata": {
      "byteLimit": 2048000,
      "rowLimit": 10000
     },
     "inputWidgets": {},
     "nuid": "b91e7d98-19c2-4c44-a163-e51643bbf4ef",
     "showTitle": false,
     "title": ""
    }
   },
   "source": [
    "**f. Create a function, `PlotPower()`, that allows you to create a plot of `x` against `x^a` for a fixed `a` and a sequence of values of `x`. For  instance, if you call**\n",
    "<br>\n",
    "<br>\n",
    "`PlotPower(np.arange(1, 11), 3)`\n",
    "<br>\n",
    "<br>\n",
    "**then a plot should be created with an x-axis taking on values 1, 2,..., 10, and a y-axis taking on values 13, 23,..., 103.**"
   ]
  },
  {
   "cell_type": "code",
   "execution_count": 0,
   "metadata": {
    "application/vnd.databricks.v1+cell": {
     "cellMetadata": {
      "byteLimit": 2048000,
      "rowLimit": 10000
     },
     "inputWidgets": {},
     "nuid": "41c50cd5-b79d-430f-9db6-e091f1e08fbf",
     "showTitle": false,
     "title": ""
    }
   },
   "outputs": [],
   "source": [
    "def PlotPower(x1, x2, a):\n",
    "    df1 = pd.DataFrame()\n",
    "    for i in range(x1, x2+1):\n",
    "        df1 = df1.append([[i, power3 (i, a)]], ignore_index = True)\n",
    "    df1.columns = [['x', 'x^a']]\n",
    "    plt.xkcd()\n",
    "    plt.figure(figsize = (25, 10))\n",
    "    plt.plot(df1[['x^a']], color='green', linestyle='dashed', marker='o',\n",
    "         markerfacecolor='yellow', markersize=10)\n",
    "    plt.xticks(df1.index,df1[\"x\"].values)\n",
    "    plt.title('x^a vs x')\n",
    "    plt.xlabel('x')\n",
    "    plt.ylabel('x^a')\n",
    "    return df1"
   ]
  },
  {
   "cell_type": "code",
   "execution_count": 0,
   "metadata": {
    "application/vnd.databricks.v1+cell": {
     "cellMetadata": {
      "byteLimit": 2048000,
      "rowLimit": 10000
     },
     "inputWidgets": {},
     "nuid": "7161af5d-367e-4f67-b1e6-08baaa2d5d19",
     "showTitle": false,
     "title": ""
    }
   },
   "outputs": [],
   "source": [
    "PlotPower(12, 25, 3)"
   ]
  }
 ],
 "metadata": {
  "application/vnd.databricks.v1+notebook": {
   "dashboards": [],
   "language": "python",
   "notebookMetadata": {
    "pythonIndentUnit": 2
   },
   "notebookName": "Question 15 - answers",
   "widgets": {}
  }
 },
 "nbformat": 4,
 "nbformat_minor": 0
}
