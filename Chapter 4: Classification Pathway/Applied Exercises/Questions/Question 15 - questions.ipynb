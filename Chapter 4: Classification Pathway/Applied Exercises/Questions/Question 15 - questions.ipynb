{
 "cells": [
  {
   "cell_type": "markdown",
   "metadata": {
    "application/vnd.databricks.v1+cell": {
     "cellMetadata": {
      "byteLimit": 2048000,
      "rowLimit": 10000
     },
     "inputWidgets": {},
     "nuid": "300471b6-9ba3-4418-8cdd-c59e3611914c",
     "showTitle": false,
     "title": ""
    }
   },
   "source": [
    "This problem involves writing functions."
   ]
  },
  {
   "cell_type": "code",
   "execution_count": 0,
   "metadata": {
    "application/vnd.databricks.v1+cell": {
     "cellMetadata": {
      "byteLimit": 2048000,
      "rowLimit": 10000
     },
     "inputWidgets": {},
     "nuid": "af79c000-dc96-4970-92b6-51a72b724738",
     "showTitle": false,
     "title": ""
    }
   },
   "outputs": [],
   "source": [
    "# import statistical packages\n",
    "import numpy as np\n",
    "import pandas as pd"
   ]
  },
  {
   "cell_type": "code",
   "execution_count": 0,
   "metadata": {
    "application/vnd.databricks.v1+cell": {
     "cellMetadata": {
      "byteLimit": 2048000,
      "rowLimit": 10000
     },
     "inputWidgets": {},
     "nuid": "9e506f72-6ba4-401e-bb30-68525166f830",
     "showTitle": false,
     "title": ""
    }
   },
   "outputs": [],
   "source": [
    "# import data visualisation packages\n",
    "import matplotlib.pyplot as plt\n",
    "import seaborn as sns\n",
    "%matplotlib inline"
   ]
  },
  {
   "cell_type": "markdown",
   "metadata": {
    "application/vnd.databricks.v1+cell": {
     "cellMetadata": {
      "byteLimit": 2048000,
      "rowLimit": 10000
     },
     "inputWidgets": {},
     "nuid": "368a9aef-51ea-493b-a33f-b1f4c3caa490",
     "showTitle": false,
     "title": ""
    }
   },
   "source": [
    "**a. Write a function, `Power()`, that prints out the result of raising 2\n",
    "to the 3rd power. In other words, your function should compute\n",
    "23 and print out the results.**\n",
    "\n",
    "*Hint: Recall that `x**a` raises `x` to the power `a`. Use the print()\n",
    "function to display the result.*"
   ]
  },
  {
   "cell_type": "code",
   "execution_count": 0,
   "metadata": {
    "application/vnd.databricks.v1+cell": {
     "cellMetadata": {
      "byteLimit": 2048000,
      "rowLimit": 10000
     },
     "inputWidgets": {},
     "nuid": "7b32b23e-1cf3-4378-9576-ea8e1735bb24",
     "showTitle": false,
     "title": ""
    }
   },
   "outputs": [],
   "source": [
    "# TODO: your response here"
   ]
  },
  {
   "cell_type": "markdown",
   "metadata": {
    "application/vnd.databricks.v1+cell": {
     "cellMetadata": {
      "byteLimit": 2048000,
      "rowLimit": 10000
     },
     "inputWidgets": {},
     "nuid": "0cce909a-c7f9-46fb-90f2-820d941a858b",
     "showTitle": false,
     "title": ""
    }
   },
   "source": [
    "**b. Create a new function, `Power2()`, that allows you to pass any two numbers, x and a, and prints out the value of `x^a`. You can do this by beginning your function with the line**\n",
    "<br>\n",
    "`def Power2(x, a):`\n",
    "<br>\n",
    "<br>\n",
    "You should be able to call your function by entering, for instance,\n",
    "<br>\n",
    "`Power2(3, 8)`"
   ]
  },
  {
   "cell_type": "code",
   "execution_count": 0,
   "metadata": {
    "application/vnd.databricks.v1+cell": {
     "cellMetadata": {
      "byteLimit": 2048000,
      "rowLimit": 10000
     },
     "inputWidgets": {},
     "nuid": "354b0ff6-b372-47b3-92dc-268fc53cf016",
     "showTitle": false,
     "title": ""
    }
   },
   "outputs": [],
   "source": [
    "# TODO: your response here"
   ]
  },
  {
   "cell_type": "markdown",
   "metadata": {
    "application/vnd.databricks.v1+cell": {
     "cellMetadata": {
      "byteLimit": 2048000,
      "rowLimit": 10000
     },
     "inputWidgets": {},
     "nuid": "59cf95a8-8619-4601-b572-aedb83224783",
     "showTitle": false,
     "title": ""
    }
   },
   "source": [
    "**c. Using the `Power2()` function that you just wrote, compute 10^3, 8^17, and 131^3.**"
   ]
  },
  {
   "cell_type": "code",
   "execution_count": 0,
   "metadata": {
    "application/vnd.databricks.v1+cell": {
     "cellMetadata": {
      "byteLimit": 2048000,
      "rowLimit": 10000
     },
     "inputWidgets": {},
     "nuid": "1f893f11-0cfe-4632-91d7-e905ace6e785",
     "showTitle": false,
     "title": ""
    }
   },
   "outputs": [],
   "source": [
    "# TODO: your response here"
   ]
  },
  {
   "cell_type": "markdown",
   "metadata": {
    "application/vnd.databricks.v1+cell": {
     "cellMetadata": {
      "byteLimit": 2048000,
      "rowLimit": 10000
     },
     "inputWidgets": {},
     "nuid": "e9bce242-c8d6-4cfc-a4b1-f4253c72551c",
     "showTitle": false,
     "title": ""
    }
   },
   "source": [
    "**d. Now create a new function, `Power3()`, that actually returns the\n",
    "result `x^a` as a `Python` object, rather than simply printing it\n",
    "to the screen. That is, if you store the value `x^a` in an object\n",
    "called result within your function, then you can simply return return\n",
    "this result, using the following line:**\n",
    "<br>\n",
    "<br>\n",
    "`return result`\n",
    "<br>\n",
    "<br>\n",
    "Note that the line above should be the last line in your function."
   ]
  },
  {
   "cell_type": "code",
   "execution_count": 0,
   "metadata": {
    "application/vnd.databricks.v1+cell": {
     "cellMetadata": {
      "byteLimit": 2048000,
      "rowLimit": 10000
     },
     "inputWidgets": {},
     "nuid": "23d6c508-9d0e-4723-ac95-62809262cba7",
     "showTitle": false,
     "title": ""
    }
   },
   "outputs": [],
   "source": [
    "# TODO: your response here"
   ]
  },
  {
   "cell_type": "markdown",
   "metadata": {
    "application/vnd.databricks.v1+cell": {
     "cellMetadata": {
      "byteLimit": 2048000,
      "rowLimit": 10000
     },
     "inputWidgets": {},
     "nuid": "3b7d34df-c05c-4ba2-9578-637031f50ba5",
     "showTitle": false,
     "title": ""
    }
   },
   "source": [
    "**e. Now using the `Power3()` function, create a plot of f(x) = x2.\n",
    "The x-axis should display a range of integers from 1 to 10, and\n",
    "the y-axis should display x2. Label the axes appropriately, and\n",
    "use an appropriate title for the fgure. Consider displaying either\n",
    "the x-axis, the y-axis, or both on the log-scale. You can do this\n",
    "by using the `ax.set_xscale()` and `ax.set_yscale()` methods of `.set_xscale()` and \n",
    "`.set_yscale()` the axes you are plotting to.**"
   ]
  },
  {
   "cell_type": "code",
   "execution_count": 0,
   "metadata": {
    "application/vnd.databricks.v1+cell": {
     "cellMetadata": {
      "byteLimit": 2048000,
      "rowLimit": 10000
     },
     "inputWidgets": {},
     "nuid": "56da4755-ce11-4af6-bbb5-f2dde29b8608",
     "showTitle": false,
     "title": ""
    }
   },
   "outputs": [],
   "source": [
    "# TODO: your response here"
   ]
  },
  {
   "cell_type": "markdown",
   "metadata": {
    "application/vnd.databricks.v1+cell": {
     "cellMetadata": {
      "byteLimit": 2048000,
      "rowLimit": 10000
     },
     "inputWidgets": {},
     "nuid": "6ff9cfdd-ad52-4450-b361-348769095110",
     "showTitle": false,
     "title": ""
    }
   },
   "source": [
    "**f. Create a function, `PlotPower()`, that allows you to create a plot of `x` against `x^a` for a fixed `a` and a sequence of values of `x`. For  instance, if you call**\n",
    "<br>\n",
    "<br>\n",
    "`PlotPower(np.arange(1, 11), 3)`\n",
    "<br>\n",
    "<br>\n",
    "**then a plot should be created with an x-axis taking on values 1, 2,..., 10, and a y-axis taking on values 13, 23,..., 103.**"
   ]
  },
  {
   "cell_type": "code",
   "execution_count": 0,
   "metadata": {
    "application/vnd.databricks.v1+cell": {
     "cellMetadata": {
      "byteLimit": 2048000,
      "rowLimit": 10000
     },
     "inputWidgets": {},
     "nuid": "77c411d0-8bb4-4554-b435-d5b65066e156",
     "showTitle": false,
     "title": ""
    }
   },
   "outputs": [],
   "source": [
    "# TODO: your response here"
   ]
  }
 ],
 "metadata": {
  "application/vnd.databricks.v1+notebook": {
   "dashboards": [],
   "language": "python",
   "notebookMetadata": {
    "pythonIndentUnit": 2
   },
   "notebookName": "Question 15 - questions",
   "widgets": {}
  }
 },
 "nbformat": 4,
 "nbformat_minor": 0
}
