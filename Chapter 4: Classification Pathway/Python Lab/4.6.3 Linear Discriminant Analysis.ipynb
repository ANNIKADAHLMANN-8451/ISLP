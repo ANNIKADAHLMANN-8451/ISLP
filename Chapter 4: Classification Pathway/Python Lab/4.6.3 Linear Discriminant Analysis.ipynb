{
 "cells": [
  {
   "cell_type": "code",
   "execution_count": 0,
   "metadata": {
    "application/vnd.databricks.v1+cell": {
     "cellMetadata": {
      "byteLimit": 2048000,
      "rowLimit": 10000
     },
     "inputWidgets": {},
     "nuid": "8281ae2b-ebb9-4c6a-bfdd-78590317da6e",
     "showTitle": false,
     "title": ""
    }
   },
   "outputs": [],
   "source": [
    "import numpy as np\n",
    "import pandas as pd\n",
    "from sklearn.discriminant_analysis import LinearDiscriminantAnalysis as LDA\n",
    "from sklearn.metrics import classification_report, confusion_matrix"
   ]
  },
  {
   "cell_type": "code",
   "execution_count": 0,
   "metadata": {
    "application/vnd.databricks.v1+cell": {
     "cellMetadata": {
      "byteLimit": 2048000,
      "rowLimit": 10000
     },
     "inputWidgets": {},
     "nuid": "57bc8d80-3300-4e9d-9741-173a5ba160ff",
     "showTitle": false,
     "title": ""
    }
   },
   "outputs": [],
   "source": [
    "# import and preprocess data\n",
    "url = \"abfss://training@sa8451learningdev.dfs.core.windows.net/interpretable_machine_learning/eml_data/Smarket.csv\"\n",
    "Smarket = spark.read.option(\"header\", \"true\").csv(url).toPandas()\n",
    "Smarket.set_index('SlNo', inplace=True)\n",
    "\n",
    "str_cols = [\"Direction\"]\n",
    "num_cols = list(set(Smarket.columns) - set(str_cols))\n",
    "Smarket[str_cols] = Smarket[str_cols].astype(str)\n",
    "Smarket[num_cols] = Smarket[num_cols].astype(float)"
   ]
  },
  {
   "cell_type": "code",
   "execution_count": 0,
   "metadata": {
    "application/vnd.databricks.v1+cell": {
     "cellMetadata": {
      "byteLimit": 2048000,
      "rowLimit": 10000
     },
     "inputWidgets": {},
     "nuid": "a815e141-8edb-4e45-81cc-4cf6c377debe",
     "showTitle": false,
     "title": ""
    }
   },
   "outputs": [],
   "source": [
    "Smarket.head()"
   ]
  },
  {
   "cell_type": "code",
   "execution_count": 0,
   "metadata": {
    "application/vnd.databricks.v1+cell": {
     "cellMetadata": {
      "byteLimit": 2048000,
      "rowLimit": 10000
     },
     "inputWidgets": {},
     "nuid": "b6f54230-cb89-466f-ba4c-0cbb68798eda",
     "showTitle": false,
     "title": ""
    }
   },
   "outputs": [],
   "source": [
    "from sklearn.model_selection import train_test_split"
   ]
  },
  {
   "cell_type": "code",
   "execution_count": 0,
   "metadata": {
    "application/vnd.databricks.v1+cell": {
     "cellMetadata": {
      "byteLimit": 2048000,
      "rowLimit": 10000
     },
     "inputWidgets": {},
     "nuid": "15d2814a-133f-4ac4-a7fd-879f687b894f",
     "showTitle": false,
     "title": ""
    }
   },
   "outputs": [],
   "source": [
    "X = np.array(Smarket[['Lag1', 'Lag2']])\n",
    "y = np.array(Smarket['Direction'])\n",
    "X_train, X_test, y_train, y_test = train_test_split(X, y, test_size=0.2016, random_state=101)"
   ]
  },
  {
   "cell_type": "code",
   "execution_count": 0,
   "metadata": {
    "application/vnd.databricks.v1+cell": {
     "cellMetadata": {
      "byteLimit": 2048000,
      "rowLimit": 10000
     },
     "inputWidgets": {},
     "nuid": "f64a4251-5336-457a-a938-405a8985e41e",
     "showTitle": false,
     "title": ""
    }
   },
   "outputs": [],
   "source": [
    "ldafit = LDA()\n",
    "ldafit.fit(X_train, y_train)"
   ]
  },
  {
   "cell_type": "code",
   "execution_count": 0,
   "metadata": {
    "application/vnd.databricks.v1+cell": {
     "cellMetadata": {
      "byteLimit": 2048000,
      "rowLimit": 10000
     },
     "inputWidgets": {},
     "nuid": "481c46ab-3cdd-4b22-af67-52cf3fc9e3c8",
     "showTitle": false,
     "title": ""
    }
   },
   "outputs": [],
   "source": [
    "ldafit.priors_"
   ]
  },
  {
   "cell_type": "code",
   "execution_count": 0,
   "metadata": {
    "application/vnd.databricks.v1+cell": {
     "cellMetadata": {
      "byteLimit": 2048000,
      "rowLimit": 10000
     },
     "inputWidgets": {},
     "nuid": "d8df3927-95cf-43d7-bff8-68c2b7aa1034",
     "showTitle": false,
     "title": ""
    }
   },
   "outputs": [],
   "source": [
    "ldafit.means_"
   ]
  },
  {
   "cell_type": "code",
   "execution_count": 0,
   "metadata": {
    "application/vnd.databricks.v1+cell": {
     "cellMetadata": {
      "byteLimit": 2048000,
      "rowLimit": 10000
     },
     "inputWidgets": {},
     "nuid": "1ab564f2-ba21-4488-be36-ac22a8731273",
     "showTitle": false,
     "title": ""
    }
   },
   "outputs": [],
   "source": [
    "ldafit.coef_"
   ]
  },
  {
   "cell_type": "code",
   "execution_count": 0,
   "metadata": {
    "application/vnd.databricks.v1+cell": {
     "cellMetadata": {
      "byteLimit": 2048000,
      "rowLimit": 10000
     },
     "inputWidgets": {},
     "nuid": "59edc036-2490-44d5-bdf8-228c88ff4e98",
     "showTitle": false,
     "title": ""
    }
   },
   "outputs": [],
   "source": [
    "ldapred = ldafit.predict(X_test)"
   ]
  },
  {
   "cell_type": "code",
   "execution_count": 0,
   "metadata": {
    "application/vnd.databricks.v1+cell": {
     "cellMetadata": {
      "byteLimit": 2048000,
      "rowLimit": 10000
     },
     "inputWidgets": {},
     "nuid": "7e832d03-3dfc-4b74-bbbe-d6f9f8965f4a",
     "showTitle": false,
     "title": ""
    }
   },
   "outputs": [],
   "source": [
    "print(confusion_matrix(y_test, ldapred))"
   ]
  },
  {
   "cell_type": "code",
   "execution_count": 0,
   "metadata": {
    "application/vnd.databricks.v1+cell": {
     "cellMetadata": {
      "byteLimit": 2048000,
      "rowLimit": 10000
     },
     "inputWidgets": {},
     "nuid": "4459af85-85e0-4bc0-8cec-50009f9f631f",
     "showTitle": false,
     "title": ""
    }
   },
   "outputs": [],
   "source": [
    "print(classification_report(y_test, ldapred))"
   ]
  },
  {
   "cell_type": "markdown",
   "metadata": {
    "application/vnd.databricks.v1+cell": {
     "cellMetadata": {
      "byteLimit": 2048000,
      "rowLimit": 10000
     },
     "inputWidgets": {},
     "nuid": "cae474ee-279c-4737-a953-99a816603ee5",
     "showTitle": false,
     "title": ""
    }
   },
   "source": [
    "**The precision is intuitively the ability of the classifier not to label as positive a sample that is negative. Therefore,\n",
    "this model is able to correctly classify 57% of the test data (which I believe is great given the vagaries of the stock \n",
    "market!!**"
   ]
  }
 ],
 "metadata": {
  "application/vnd.databricks.v1+notebook": {
   "dashboards": [],
   "language": "python",
   "notebookMetadata": {
    "pythonIndentUnit": 2
   },
   "notebookName": "4.6.3 Linear Discriminant Analysis",
   "widgets": {}
  }
 },
 "nbformat": 4,
 "nbformat_minor": 0
}
