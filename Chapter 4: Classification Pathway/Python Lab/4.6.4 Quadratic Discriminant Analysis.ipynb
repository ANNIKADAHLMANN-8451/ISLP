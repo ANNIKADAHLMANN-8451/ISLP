{
 "cells": [
  {
   "cell_type": "code",
   "execution_count": 0,
   "metadata": {
    "application/vnd.databricks.v1+cell": {
     "cellMetadata": {
      "byteLimit": 2048000,
      "rowLimit": 10000
     },
     "inputWidgets": {},
     "nuid": "08d3d1cb-79ba-4a7d-98e4-943a981784b4",
     "showTitle": false,
     "title": ""
    }
   },
   "outputs": [],
   "source": [
    "import numpy as np\n",
    "import pandas as pd\n",
    "from sklearn.discriminant_analysis import QuadraticDiscriminantAnalysis as QDA\n",
    "from sklearn.model_selection import train_test_split\n",
    "from sklearn.metrics import classification_report, confusion_matrix"
   ]
  },
  {
   "cell_type": "code",
   "execution_count": 0,
   "metadata": {
    "application/vnd.databricks.v1+cell": {
     "cellMetadata": {
      "byteLimit": 2048000,
      "rowLimit": 10000
     },
     "inputWidgets": {},
     "nuid": "bc32015e-c1fb-40bf-9b33-c2c9181fb128",
     "showTitle": false,
     "title": ""
    }
   },
   "outputs": [],
   "source": [
    "# import and preprocess data\n",
    "url = \"abfss://training@sa8451learningdev.dfs.core.windows.net/interpretable_machine_learning/eml_data/Smarket.csv\"\n",
    "Smarket = spark.read.option(\"header\", \"true\").csv(url).toPandas()\n",
    "Smarket.set_index('SlNo', inplace=True)\n",
    "\n",
    "str_cols = [\"Direction\"]\n",
    "num_cols = list(set(Smarket.columns) - set(str_cols))\n",
    "Smarket[str_cols] = Smarket[str_cols].astype(str)\n",
    "Smarket[num_cols] = Smarket[num_cols].astype(float)"
   ]
  },
  {
   "cell_type": "code",
   "execution_count": 0,
   "metadata": {
    "application/vnd.databricks.v1+cell": {
     "cellMetadata": {
      "byteLimit": 2048000,
      "rowLimit": 10000
     },
     "inputWidgets": {},
     "nuid": "cb9c8159-dc3d-4653-b2dd-23b873936432",
     "showTitle": false,
     "title": ""
    }
   },
   "outputs": [],
   "source": [
    "Smarket.head()"
   ]
  },
  {
   "cell_type": "code",
   "execution_count": 0,
   "metadata": {
    "application/vnd.databricks.v1+cell": {
     "cellMetadata": {
      "byteLimit": 2048000,
      "rowLimit": 10000
     },
     "inputWidgets": {},
     "nuid": "2f1e7e67-a728-4215-ac13-ce0a968049b2",
     "showTitle": false,
     "title": ""
    }
   },
   "outputs": [],
   "source": [
    "X = np.array(Smarket[['Lag1', 'Lag2']])\n",
    "y = np.array(Smarket['Direction'])\n",
    "X_train, X_test, y_train, y_test = train_test_split(X, y, test_size=0.2016, random_state=101)"
   ]
  },
  {
   "cell_type": "code",
   "execution_count": 0,
   "metadata": {
    "application/vnd.databricks.v1+cell": {
     "cellMetadata": {
      "byteLimit": 2048000,
      "rowLimit": 10000
     },
     "inputWidgets": {},
     "nuid": "62b1b9e6-43ce-4232-86e3-c12b6f557139",
     "showTitle": false,
     "title": ""
    }
   },
   "outputs": [],
   "source": [
    "qdafit = QDA().fit(X_train, y_train)"
   ]
  },
  {
   "cell_type": "code",
   "execution_count": 0,
   "metadata": {
    "application/vnd.databricks.v1+cell": {
     "cellMetadata": {
      "byteLimit": 2048000,
      "rowLimit": 10000
     },
     "inputWidgets": {},
     "nuid": "149b823c-956c-4695-a131-e4ff270c49f8",
     "showTitle": false,
     "title": ""
    }
   },
   "outputs": [],
   "source": [
    "qdafit.priors_"
   ]
  },
  {
   "cell_type": "code",
   "execution_count": 0,
   "metadata": {
    "application/vnd.databricks.v1+cell": {
     "cellMetadata": {
      "byteLimit": 2048000,
      "rowLimit": 10000
     },
     "inputWidgets": {},
     "nuid": "9ab56d71-0b60-448c-be4a-1f8602bc8469",
     "showTitle": false,
     "title": ""
    }
   },
   "outputs": [],
   "source": [
    "qdafit.means_"
   ]
  },
  {
   "cell_type": "code",
   "execution_count": 0,
   "metadata": {
    "application/vnd.databricks.v1+cell": {
     "cellMetadata": {
      "byteLimit": 2048000,
      "rowLimit": 10000
     },
     "inputWidgets": {},
     "nuid": "e5bbd9ad-9957-4aff-ab78-42bd78cd1672",
     "showTitle": false,
     "title": ""
    }
   },
   "outputs": [],
   "source": [
    "qdapred = qdafit.predict(X_test)"
   ]
  },
  {
   "cell_type": "code",
   "execution_count": 0,
   "metadata": {
    "application/vnd.databricks.v1+cell": {
     "cellMetadata": {
      "byteLimit": 2048000,
      "rowLimit": 10000
     },
     "inputWidgets": {},
     "nuid": "e37ebb09-8468-47fe-9d86-07f002a59926",
     "showTitle": false,
     "title": ""
    }
   },
   "outputs": [],
   "source": [
    "print(confusion_matrix(y_test, qdapred))"
   ]
  },
  {
   "cell_type": "code",
   "execution_count": 0,
   "metadata": {
    "application/vnd.databricks.v1+cell": {
     "cellMetadata": {
      "byteLimit": 2048000,
      "rowLimit": 10000
     },
     "inputWidgets": {},
     "nuid": "a1731236-9aed-4364-a9be-730079c60f64",
     "showTitle": false,
     "title": ""
    }
   },
   "outputs": [],
   "source": [
    "print(classification_report(y_test, qdapred))"
   ]
  },
  {
   "cell_type": "markdown",
   "metadata": {
    "application/vnd.databricks.v1+cell": {
     "cellMetadata": {
      "byteLimit": 2048000,
      "rowLimit": 10000
     },
     "inputWidgets": {},
     "nuid": "f95f9228-760b-4560-811b-f636dcac638e",
     "showTitle": false,
     "title": ""
    }
   },
   "source": [
    "**In this case, the prediction actually reduces. Although one needs to perform further analysis, this suggests that the QDA model actually introduces greater variance into the model which is not compensated by the reduction in bias, thereby \n",
    "leading to a poorer fit (the reverse happens in the book, but that is because the method of selection of training and test data in the book and in this notebook are different.**"
   ]
  }
 ],
 "metadata": {
  "application/vnd.databricks.v1+notebook": {
   "dashboards": [],
   "language": "python",
   "notebookMetadata": {
    "pythonIndentUnit": 2
   },
   "notebookName": "4.6.4 Quadratic Discriminant Analysis",
   "widgets": {}
  }
 },
 "nbformat": 4,
 "nbformat_minor": 0
}
