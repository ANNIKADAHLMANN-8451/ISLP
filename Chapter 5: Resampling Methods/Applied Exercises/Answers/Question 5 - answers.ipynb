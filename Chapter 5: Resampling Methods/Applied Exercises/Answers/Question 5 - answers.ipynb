{
 "cells": [
  {
   "cell_type": "markdown",
   "metadata": {
    "application/vnd.databricks.v1+cell": {
     "cellMetadata": {
      "byteLimit": 2048000,
      "rowLimit": 10000
     },
     "inputWidgets": {},
     "nuid": "b7176da5-3716-4243-9f00-5f3c28989779",
     "showTitle": false,
     "title": ""
    }
   },
   "source": [
    "In Chapter 4, we used logistic regression to predict the probability of\n",
    "`default` using `income` and `balance` on the `Default` data set. We will\n",
    "now estimate the test error of this logistic regression model using the\n",
    "validation set approach. Do not forget to set a random seed before\n",
    "beginning your analysis."
   ]
  },
  {
   "cell_type": "markdown",
   "metadata": {
    "application/vnd.databricks.v1+cell": {
     "cellMetadata": {
      "byteLimit": 2048000,
      "rowLimit": 10000
     },
     "inputWidgets": {},
     "nuid": "1bea75cb-fcf0-41cd-b640-eeddaca7af36",
     "showTitle": false,
     "title": ""
    }
   },
   "source": [
    "### Preprocessing"
   ]
  },
  {
   "cell_type": "code",
   "execution_count": 0,
   "metadata": {
    "application/vnd.databricks.v1+cell": {
     "cellMetadata": {
      "byteLimit": 2048000,
      "rowLimit": 10000
     },
     "inputWidgets": {},
     "nuid": "34108a79-ba36-45ec-aed8-5b6fe9f03a2c",
     "showTitle": false,
     "title": ""
    }
   },
   "outputs": [],
   "source": [
    "# import relevant statistical packages\n",
    "import numpy as np\n",
    "import pandas as pd"
   ]
  },
  {
   "cell_type": "code",
   "execution_count": 0,
   "metadata": {
    "application/vnd.databricks.v1+cell": {
     "cellMetadata": {
      "byteLimit": 2048000,
      "rowLimit": 10000
     },
     "inputWidgets": {},
     "nuid": "e18b506b-5e08-4967-8d2d-2785fd59c895",
     "showTitle": false,
     "title": ""
    }
   },
   "outputs": [],
   "source": [
    "# import relevant data visualisation packages\n",
    "import matplotlib.pyplot as plt\n",
    "import seaborn as sns\n",
    "%matplotlib inline"
   ]
  },
  {
   "cell_type": "code",
   "execution_count": 0,
   "metadata": {
    "application/vnd.databricks.v1+cell": {
     "cellMetadata": {
      "byteLimit": 2048000,
      "rowLimit": 10000
     },
     "inputWidgets": {},
     "nuid": "4d1e741c-f98e-40c3-a55a-098f7c2b544f",
     "showTitle": false,
     "title": ""
    }
   },
   "outputs": [],
   "source": [
    "# load and preprocess data\n",
    "url = \"abfss://training@sa8451learningdev.dfs.core.windows.net/interpretable_machine_learning/eml_data/Default.csv\"\n",
    "Default = spark.read.option(\"header\", \"true\").csv(url).toPandas()\n",
    "Default.set_index('_c0', inplace=True)\n",
    "\n",
    "float_cols = [\"balance\", \"income\"]\n",
    "str_cols = [\"default\", \"student\"]\n",
    "Default[float_cols] = Default[float_cols].astype(float)\n",
    "Default[str_cols] = Default[str_cols].astype(str)"
   ]
  },
  {
   "cell_type": "code",
   "execution_count": 0,
   "metadata": {
    "application/vnd.databricks.v1+cell": {
     "cellMetadata": {
      "byteLimit": 2048000,
      "rowLimit": 10000
     },
     "inputWidgets": {},
     "nuid": "e6f7afad-2a49-4a07-84e0-7834027031c3",
     "showTitle": false,
     "title": ""
    }
   },
   "outputs": [],
   "source": [
    "Default.head()"
   ]
  },
  {
   "cell_type": "code",
   "execution_count": 0,
   "metadata": {
    "application/vnd.databricks.v1+cell": {
     "cellMetadata": {
      "byteLimit": 2048000,
      "rowLimit": 10000
     },
     "inputWidgets": {},
     "nuid": "71a39e67-0547-4475-bb9e-601c64b1cf52",
     "showTitle": false,
     "title": ""
    }
   },
   "outputs": [],
   "source": [
    "Default.info()"
   ]
  },
  {
   "cell_type": "code",
   "execution_count": 0,
   "metadata": {
    "application/vnd.databricks.v1+cell": {
     "cellMetadata": {
      "byteLimit": 2048000,
      "rowLimit": 10000
     },
     "inputWidgets": {},
     "nuid": "905cf38c-1246-4ea1-b201-a64fd829143b",
     "showTitle": false,
     "title": ""
    }
   },
   "outputs": [],
   "source": [
    "dfX = Default[['student', 'balance','income']]\n",
    "dfX = pd.get_dummies(data = dfX, drop_first=True)\n",
    "dfy = Default['default']"
   ]
  },
  {
   "cell_type": "code",
   "execution_count": 0,
   "metadata": {
    "application/vnd.databricks.v1+cell": {
     "cellMetadata": {
      "byteLimit": 2048000,
      "rowLimit": 10000
     },
     "inputWidgets": {},
     "nuid": "3f20e273-81cd-4bf7-aa75-23880a7f2894",
     "showTitle": false,
     "title": ""
    }
   },
   "outputs": [],
   "source": [
    "dfX.head()"
   ]
  },
  {
   "cell_type": "code",
   "execution_count": 0,
   "metadata": {
    "application/vnd.databricks.v1+cell": {
     "cellMetadata": {
      "byteLimit": 2048000,
      "rowLimit": 10000
     },
     "inputWidgets": {},
     "nuid": "0277bd0f-aa00-4f6a-8a0b-0dc20895584e",
     "showTitle": false,
     "title": ""
    }
   },
   "outputs": [],
   "source": [
    "dfy.head()"
   ]
  },
  {
   "cell_type": "markdown",
   "metadata": {
    "application/vnd.databricks.v1+cell": {
     "cellMetadata": {
      "byteLimit": 2048000,
      "rowLimit": 10000
     },
     "inputWidgets": {},
     "nuid": "35cd39ff-1197-4692-ae76-7400ce79abbb",
     "showTitle": false,
     "title": ""
    }
   },
   "source": [
    "**a. Fit a logistic regression model that uses `income` and `balance` to\n",
    "predict `default`.**"
   ]
  },
  {
   "cell_type": "code",
   "execution_count": 0,
   "metadata": {
    "application/vnd.databricks.v1+cell": {
     "cellMetadata": {
      "byteLimit": 2048000,
      "rowLimit": 10000
     },
     "inputWidgets": {},
     "nuid": "12bf5d29-acbb-4fd4-85ce-76eb20197fb7",
     "showTitle": false,
     "title": ""
    }
   },
   "outputs": [],
   "source": [
    "from sklearn.linear_model import LogisticRegression"
   ]
  },
  {
   "cell_type": "code",
   "execution_count": 0,
   "metadata": {
    "application/vnd.databricks.v1+cell": {
     "cellMetadata": {
      "byteLimit": 2048000,
      "rowLimit": 10000
     },
     "inputWidgets": {},
     "nuid": "dec8a009-3816-455d-9862-84f338332a8f",
     "showTitle": false,
     "title": ""
    }
   },
   "outputs": [],
   "source": [
    "X = dfX[['income', 'balance']]\n",
    "y = dfy"
   ]
  },
  {
   "cell_type": "code",
   "execution_count": 0,
   "metadata": {
    "application/vnd.databricks.v1+cell": {
     "cellMetadata": {
      "byteLimit": 2048000,
      "rowLimit": 10000
     },
     "inputWidgets": {},
     "nuid": "0910647c-6de5-4e68-bd47-e1efde4116f6",
     "showTitle": false,
     "title": ""
    }
   },
   "outputs": [],
   "source": [
    "glmfit = LogisticRegression(solver = 'liblinear').fit(X, y)"
   ]
  },
  {
   "cell_type": "code",
   "execution_count": 0,
   "metadata": {
    "application/vnd.databricks.v1+cell": {
     "cellMetadata": {
      "byteLimit": 2048000,
      "rowLimit": 10000
     },
     "inputWidgets": {},
     "nuid": "382c2db1-51cf-4459-aac7-9b3ba4577553",
     "showTitle": false,
     "title": ""
    }
   },
   "outputs": [],
   "source": [
    "glmfit.coef_"
   ]
  },
  {
   "cell_type": "markdown",
   "metadata": {
    "application/vnd.databricks.v1+cell": {
     "cellMetadata": {
      "byteLimit": 2048000,
      "rowLimit": 10000
     },
     "inputWidgets": {},
     "nuid": "64639937-8aef-41cb-903e-a97b2ece040a",
     "showTitle": false,
     "title": ""
    }
   },
   "source": [
    "**b. Using the validation set approach, estimate the test error of this\n",
    "model. In order to do this, you must perform the following steps:**\n",
    "- i. Split the sample set into a training set and a validation set.\n",
    "- ii. Fit a multiple logistic regression model using only the training observations.\n",
    "- iii. Obtain a prediction of `default` status for each individual in the validation set by computing the posterior probability of default for that individual, and classifying the individual to the default category if the posterior probability is greater than 0.5.\n",
    "- iv. Compute the validation set error, which is the fraction of the observations in the validation set that are misclassifed."
   ]
  },
  {
   "cell_type": "code",
   "execution_count": 0,
   "metadata": {
    "application/vnd.databricks.v1+cell": {
     "cellMetadata": {
      "byteLimit": 2048000,
      "rowLimit": 10000
     },
     "inputWidgets": {},
     "nuid": "1d6f196b-3144-4ac5-a0f3-546d564ae6ec",
     "showTitle": false,
     "title": ""
    }
   },
   "outputs": [],
   "source": [
    "from sklearn.model_selection import train_test_split"
   ]
  },
  {
   "cell_type": "code",
   "execution_count": 0,
   "metadata": {
    "application/vnd.databricks.v1+cell": {
     "cellMetadata": {
      "byteLimit": 2048000,
      "rowLimit": 10000
     },
     "inputWidgets": {},
     "nuid": "3350030f-1f3b-4d18-9178-ff3040626eeb",
     "showTitle": false,
     "title": ""
    }
   },
   "outputs": [],
   "source": [
    "X = dfX[['income', 'balance']]\n",
    "y = dfy\n",
    "X_train, X_test, y_train, y_test = train_test_split(X, y, test_size=0.3, random_state=42)"
   ]
  },
  {
   "cell_type": "code",
   "execution_count": 0,
   "metadata": {
    "application/vnd.databricks.v1+cell": {
     "cellMetadata": {
      "byteLimit": 2048000,
      "rowLimit": 10000
     },
     "inputWidgets": {},
     "nuid": "f92da005-a9b0-41ef-b16c-80db0b1ff5e4",
     "showTitle": false,
     "title": ""
    }
   },
   "outputs": [],
   "source": [
    "print(\"X_train, \", X_train.shape, \"y_train, \", y_train.shape, \"X_test: \", X_test.shape, \"y_test: \", y_test.shape)"
   ]
  },
  {
   "cell_type": "code",
   "execution_count": 0,
   "metadata": {
    "application/vnd.databricks.v1+cell": {
     "cellMetadata": {
      "byteLimit": 2048000,
      "rowLimit": 10000
     },
     "inputWidgets": {},
     "nuid": "a8007474-5a54-465a-9de9-df539b3fbaed",
     "showTitle": false,
     "title": ""
    }
   },
   "outputs": [],
   "source": [
    "glmfit = LogisticRegression(solver='liblinear').fit(X_train, y_train)"
   ]
  },
  {
   "cell_type": "code",
   "execution_count": 0,
   "metadata": {
    "application/vnd.databricks.v1+cell": {
     "cellMetadata": {
      "byteLimit": 2048000,
      "rowLimit": 10000
     },
     "inputWidgets": {},
     "nuid": "bb80a879-c792-468f-b717-fccbf82f6858",
     "showTitle": false,
     "title": ""
    }
   },
   "outputs": [],
   "source": [
    "glmpred = glmfit.predict(X_test)"
   ]
  },
  {
   "cell_type": "code",
   "execution_count": 0,
   "metadata": {
    "application/vnd.databricks.v1+cell": {
     "cellMetadata": {
      "byteLimit": 2048000,
      "rowLimit": 10000
     },
     "inputWidgets": {},
     "nuid": "f7005dd4-3111-4920-bcab-7795cd12c3b9",
     "showTitle": false,
     "title": ""
    }
   },
   "outputs": [],
   "source": [
    "from sklearn.metrics import confusion_matrix"
   ]
  },
  {
   "cell_type": "code",
   "execution_count": 0,
   "metadata": {
    "application/vnd.databricks.v1+cell": {
     "cellMetadata": {
      "byteLimit": 2048000,
      "rowLimit": 10000
     },
     "inputWidgets": {},
     "nuid": "46bd77b7-4c10-42f3-9852-5274a265e378",
     "showTitle": false,
     "title": ""
    }
   },
   "outputs": [],
   "source": [
    "conf_mat = confusion_matrix(y_test, glmpred)\n",
    "conf_mat"
   ]
  },
  {
   "cell_type": "code",
   "execution_count": 0,
   "metadata": {
    "application/vnd.databricks.v1+cell": {
     "cellMetadata": {
      "byteLimit": 2048000,
      "rowLimit": 10000
     },
     "inputWidgets": {},
     "nuid": "fcb6eb86-b651-4277-a86c-df0aee17b56f",
     "showTitle": false,
     "title": ""
    }
   },
   "outputs": [],
   "source": [
    "round((conf_mat[0][1] + conf_mat[1][0]) / y_train.shape[0], 4)"
   ]
  },
  {
   "cell_type": "markdown",
   "metadata": {
    "application/vnd.databricks.v1+cell": {
     "cellMetadata": {
      "byteLimit": 2048000,
      "rowLimit": 10000
     },
     "inputWidgets": {},
     "nuid": "4cf72fc1-4521-47da-8579-9d81388eab1f",
     "showTitle": false,
     "title": ""
    }
   },
   "source": [
    "**c. Repeat the process in (b) three times, using three diferent splits\n",
    "of the observations into a training set and a validation set. Comment on the results obtained.**"
   ]
  },
  {
   "cell_type": "code",
   "execution_count": 0,
   "metadata": {
    "application/vnd.databricks.v1+cell": {
     "cellMetadata": {
      "byteLimit": 2048000,
      "rowLimit": 10000
     },
     "inputWidgets": {},
     "nuid": "f4fcb6bb-3613-4aa0-ab07-891ee56c3aea",
     "showTitle": false,
     "title": ""
    }
   },
   "outputs": [],
   "source": [
    "X_train, X_test, y_train, y_test = train_test_split(X, y, test_size=0.25, random_state=42)\n",
    "print(\"X_train, \", X_train.shape, \"y_train, \", y_train.shape, \"X_test: \", X_test.shape, \"y_test: \", y_test.shape)\n",
    "glmfit = LogisticRegression(solver='liblinear').fit(X_train, y_train)\n",
    "glmpred = glmfit.predict(X_test)\n",
    "conf_mat = confusion_matrix(y_test, glmpred)\n",
    "round((conf_mat[0][1] + conf_mat[1][0]) / y_train.shape[0], 4)"
   ]
  },
  {
   "cell_type": "code",
   "execution_count": 0,
   "metadata": {
    "application/vnd.databricks.v1+cell": {
     "cellMetadata": {
      "byteLimit": 2048000,
      "rowLimit": 10000
     },
     "inputWidgets": {},
     "nuid": "4f9af01e-1bcb-44f4-b04b-c6ee4965352f",
     "showTitle": false,
     "title": ""
    }
   },
   "outputs": [],
   "source": [
    "X_train, X_test, y_train, y_test = train_test_split(X, y, test_size=0.5, random_state=42)\n",
    "print(\"X_train, \", X_train.shape, \"y_train, \", y_train.shape, \"X_test: \", X_test.shape, \"y_test: \", y_test.shape)\n",
    "glmfit = LogisticRegression(solver='liblinear').fit(X_train, y_train)\n",
    "glmpred = glmfit.predict(X_test)\n",
    "conf_mat = confusion_matrix(y_test, glmpred)\n",
    "round((conf_mat[0][1] + conf_mat[1][0]) / y_train.shape[0], 4)"
   ]
  },
  {
   "cell_type": "code",
   "execution_count": 0,
   "metadata": {
    "application/vnd.databricks.v1+cell": {
     "cellMetadata": {
      "byteLimit": 2048000,
      "rowLimit": 10000
     },
     "inputWidgets": {},
     "nuid": "65516f86-34f1-48d8-8108-3a0a97e0a74d",
     "showTitle": false,
     "title": ""
    }
   },
   "outputs": [],
   "source": [
    "X_train, X_test, y_train, y_test = train_test_split(X, y, test_size=0.75, random_state=42)\n",
    "print(\"X_train, \", X_train.shape, \"y_train, \", y_train.shape, \"X_test: \", X_test.shape, \"y_test: \", y_test.shape)\n",
    "glmfit = LogisticRegression(solver='liblinear').fit(X_train, y_train)\n",
    "glmpred = glmfit.predict(X_test)\n",
    "conf_mat = confusion_matrix(y_test, glmpred)\n",
    "round((conf_mat[0][1] + conf_mat[1][0]) / y_train.shape[0], 4)"
   ]
  },
  {
   "cell_type": "markdown",
   "metadata": {
    "application/vnd.databricks.v1+cell": {
     "cellMetadata": {
      "byteLimit": 2048000,
      "rowLimit": 10000
     },
     "inputWidgets": {},
     "nuid": "3a50c59b-fe38-4057-a6b2-b6cd01ed08c4",
     "showTitle": false,
     "title": ""
    }
   },
   "source": [
    "Checking for multiple splits"
   ]
  },
  {
   "cell_type": "code",
   "execution_count": 0,
   "metadata": {
    "application/vnd.databricks.v1+cell": {
     "cellMetadata": {
      "byteLimit": 2048000,
      "rowLimit": 10000
     },
     "inputWidgets": {},
     "nuid": "60f6acad-4a82-40d9-8bac-5c7139236f21",
     "showTitle": false,
     "title": ""
    }
   },
   "outputs": [],
   "source": [
    "sample = np.linspace(start = 0.05, stop = 0.95, num = 20)"
   ]
  },
  {
   "cell_type": "code",
   "execution_count": 0,
   "metadata": {
    "application/vnd.databricks.v1+cell": {
     "cellMetadata": {
      "byteLimit": 2048000,
      "rowLimit": 10000
     },
     "inputWidgets": {},
     "nuid": "31092170-a545-4968-84e2-22e595ce6a31",
     "showTitle": false,
     "title": ""
    }
   },
   "outputs": [],
   "source": [
    "sample"
   ]
  },
  {
   "cell_type": "code",
   "execution_count": 0,
   "metadata": {
    "application/vnd.databricks.v1+cell": {
     "cellMetadata": {
      "byteLimit": 2048000,
      "rowLimit": 10000
     },
     "inputWidgets": {},
     "nuid": "14385354-676b-4b35-a02c-ab875b5f5a95",
     "showTitle": false,
     "title": ""
    }
   },
   "outputs": [],
   "source": [
    "X = dfX[['income', 'balance']]\n",
    "y = dfy\n",
    "confpd = pd.DataFrame()\n",
    "for i in sample:\n",
    "    X_train, X_test, y_train, y_test = train_test_split(X, y, test_size=i, random_state=42)\n",
    "    print(\"X_train, \", X_train.shape, \"y_train, \", y_train.shape, \"X_test: \", X_test.shape, \"y_test: \", y_test.shape)\n",
    "    glmfit = LogisticRegression(solver='liblinear').fit(X_train, y_train)\n",
    "    glmpred = glmfit.predict(X_test)\n",
    "    conf_mat = confusion_matrix(y_test, glmpred)\n",
    "    sum = round((conf_mat[0][1] + conf_mat[1][0]) / y_train.shape[0], 4)\n",
    "    confpd = confpd.append([sum])"
   ]
  },
  {
   "cell_type": "code",
   "execution_count": 0,
   "metadata": {
    "application/vnd.databricks.v1+cell": {
     "cellMetadata": {
      "byteLimit": 2048000,
      "rowLimit": 10000
     },
     "inputWidgets": {},
     "nuid": "11cb6bc9-9cb3-4ac7-8a87-e6d7152fc9b2",
     "showTitle": false,
     "title": ""
    }
   },
   "outputs": [],
   "source": [
    "confpd.reset_index(drop=True, inplace=True)"
   ]
  },
  {
   "cell_type": "code",
   "execution_count": 0,
   "metadata": {
    "application/vnd.databricks.v1+cell": {
     "cellMetadata": {
      "byteLimit": 2048000,
      "rowLimit": 10000
     },
     "inputWidgets": {},
     "nuid": "72de6c9e-b3d1-4072-8791-3536ae8f80ba",
     "showTitle": false,
     "title": ""
    }
   },
   "outputs": [],
   "source": [
    "confpd.columns = ['Error']"
   ]
  },
  {
   "cell_type": "code",
   "execution_count": 0,
   "metadata": {
    "application/vnd.databricks.v1+cell": {
     "cellMetadata": {
      "byteLimit": 2048000,
      "rowLimit": 10000
     },
     "inputWidgets": {},
     "nuid": "10005c22-40c7-4aed-96fa-9c16aa5bc0c2",
     "showTitle": false,
     "title": ""
    }
   },
   "outputs": [],
   "source": [
    "confpd.head()"
   ]
  },
  {
   "cell_type": "code",
   "execution_count": 0,
   "metadata": {
    "application/vnd.databricks.v1+cell": {
     "cellMetadata": {
      "byteLimit": 2048000,
      "rowLimit": 10000
     },
     "inputWidgets": {},
     "nuid": "dc500de6-66f9-4260-82e7-4e5d37c9e85a",
     "showTitle": false,
     "title": ""
    }
   },
   "outputs": [],
   "source": [
    "confpd.mean()"
   ]
  },
  {
   "cell_type": "code",
   "execution_count": 0,
   "metadata": {
    "application/vnd.databricks.v1+cell": {
     "cellMetadata": {
      "byteLimit": 2048000,
      "rowLimit": 10000
     },
     "inputWidgets": {},
     "nuid": "fd7def8c-3ac6-4046-a8df-93baf3240882",
     "showTitle": false,
     "title": ""
    }
   },
   "outputs": [],
   "source": [
    "plt.xkcd()\n",
    "plt.figure(figsize = (25, 10))\n",
    "plt.plot(confpd, marker = 'o', markersize = 10)\n",
    "plt.title(\"split% vs error rates\")\n",
    "plt.ylabel(\"error rates\")\n",
    "plt.xlabel(\"split%\")"
   ]
  },
  {
   "cell_type": "markdown",
   "metadata": {
    "application/vnd.databricks.v1+cell": {
     "cellMetadata": {
      "byteLimit": 2048000,
      "rowLimit": 10000
     },
     "inputWidgets": {},
     "nuid": "2953d094-a3f4-45c2-8faf-f69727efc5cc",
     "showTitle": false,
     "title": ""
    }
   },
   "source": [
    "We notice that the error rate asymptotically settle around ~0.62, but the growth really begins to plateau around 0.2."
   ]
  },
  {
   "cell_type": "markdown",
   "metadata": {
    "application/vnd.databricks.v1+cell": {
     "cellMetadata": {
      "byteLimit": 2048000,
      "rowLimit": 10000
     },
     "inputWidgets": {},
     "nuid": "1064be51-2ebe-4cfd-bd34-37d13b80c39a",
     "showTitle": false,
     "title": ""
    }
   },
   "source": [
    "**d. Now consider a logistic regression model that predicts the probability of `default` using `income`, `balance`, and a dummy variable\n",
    "for `student`. Estimate the test error for this model using the validation set approach. Comment on whether or not including a\n",
    "dummy variable for `student` leads to a reduction in the test error\n",
    "rate.**"
   ]
  },
  {
   "cell_type": "code",
   "execution_count": 0,
   "metadata": {
    "application/vnd.databricks.v1+cell": {
     "cellMetadata": {
      "byteLimit": 2048000,
      "rowLimit": 10000
     },
     "inputWidgets": {},
     "nuid": "bae1eb1a-fd0a-43be-b911-145fe482481f",
     "showTitle": false,
     "title": ""
    }
   },
   "outputs": [],
   "source": [
    "X = dfX # no need to change since dfX already incorporates the dummy variable transformation for 'student'\n",
    "y = dfy"
   ]
  },
  {
   "cell_type": "markdown",
   "metadata": {
    "application/vnd.databricks.v1+cell": {
     "cellMetadata": {
      "byteLimit": 2048000,
      "rowLimit": 10000
     },
     "inputWidgets": {},
     "nuid": "53c02869-ce79-4f8a-a6b6-c17226644078",
     "showTitle": false,
     "title": ""
    }
   },
   "source": [
    "Using the validation set approach"
   ]
  },
  {
   "cell_type": "code",
   "execution_count": 0,
   "metadata": {
    "application/vnd.databricks.v1+cell": {
     "cellMetadata": {
      "byteLimit": 2048000,
      "rowLimit": 10000
     },
     "inputWidgets": {},
     "nuid": "ca884ab5-bd40-4e51-9bf0-cfcbefd1db8f",
     "showTitle": false,
     "title": ""
    }
   },
   "outputs": [],
   "source": [
    "X_train, X_test, y_train, y_test = train_test_split(X, y, test_size=0.3, random_state=42)"
   ]
  },
  {
   "cell_type": "code",
   "execution_count": 0,
   "metadata": {
    "application/vnd.databricks.v1+cell": {
     "cellMetadata": {
      "byteLimit": 2048000,
      "rowLimit": 10000
     },
     "inputWidgets": {},
     "nuid": "f17b31d6-7ced-4197-b2f9-c9a82cf50483",
     "showTitle": false,
     "title": ""
    }
   },
   "outputs": [],
   "source": [
    "glmfit = LogisticRegression(solver='liblinear').fit(X_train, y_train)"
   ]
  },
  {
   "cell_type": "code",
   "execution_count": 0,
   "metadata": {
    "application/vnd.databricks.v1+cell": {
     "cellMetadata": {
      "byteLimit": 2048000,
      "rowLimit": 10000
     },
     "inputWidgets": {},
     "nuid": "4e8ba41b-b028-4cbf-81c0-9ec8dd414ea8",
     "showTitle": false,
     "title": ""
    }
   },
   "outputs": [],
   "source": [
    "glmpred = glmfit.predict(X_test)"
   ]
  },
  {
   "cell_type": "code",
   "execution_count": 0,
   "metadata": {
    "application/vnd.databricks.v1+cell": {
     "cellMetadata": {
      "byteLimit": 2048000,
      "rowLimit": 10000
     },
     "inputWidgets": {},
     "nuid": "0215c591-e149-4e19-a73e-80af1042c3d7",
     "showTitle": false,
     "title": ""
    }
   },
   "outputs": [],
   "source": [
    "confusion_matrix(y_test, glmpred)"
   ]
  },
  {
   "cell_type": "code",
   "execution_count": 0,
   "metadata": {
    "application/vnd.databricks.v1+cell": {
     "cellMetadata": {
      "byteLimit": 2048000,
      "rowLimit": 10000
     },
     "inputWidgets": {},
     "nuid": "9c509171-3e79-4b80-9ba0-f1d7e83cb009",
     "showTitle": false,
     "title": ""
    }
   },
   "outputs": [],
   "source": [
    "round((conf_mat[0][1] + conf_mat[1][0]) / y_train.shape[0], 4)"
   ]
  },
  {
   "cell_type": "markdown",
   "metadata": {
    "application/vnd.databricks.v1+cell": {
     "cellMetadata": {
      "byteLimit": 2048000,
      "rowLimit": 10000
     },
     "inputWidgets": {},
     "nuid": "751ceb64-209c-4dfc-960a-3782bebe61b7",
     "showTitle": false,
     "title": ""
    }
   },
   "source": [
    "Checking for multiple splits"
   ]
  },
  {
   "cell_type": "code",
   "execution_count": 0,
   "metadata": {
    "application/vnd.databricks.v1+cell": {
     "cellMetadata": {
      "byteLimit": 2048000,
      "rowLimit": 10000
     },
     "inputWidgets": {},
     "nuid": "1ed56a0c-70f3-4297-b9df-ae8147432ab3",
     "showTitle": false,
     "title": ""
    }
   },
   "outputs": [],
   "source": [
    "sample = np.linspace(start = 0.05, stop = 0.95, num = 20)\n",
    "sample"
   ]
  },
  {
   "cell_type": "code",
   "execution_count": 0,
   "metadata": {
    "application/vnd.databricks.v1+cell": {
     "cellMetadata": {
      "byteLimit": 2048000,
      "rowLimit": 10000
     },
     "inputWidgets": {},
     "nuid": "feac6b96-80b7-4495-9ed1-8d4432fcb0af",
     "showTitle": false,
     "title": ""
    }
   },
   "outputs": [],
   "source": [
    "X = dfX\n",
    "y = dfy\n",
    "confpd = pd.DataFrame()\n",
    "for i in sample:\n",
    "    X_train, X_test, y_train, y_test = train_test_split(X, y, test_size=i, random_state=42)\n",
    "    print(\"X_train, \", X_train.shape, \"y_train, \", y_train.shape, \"X_test: \", X_test.shape, \"y_test: \", y_test.shape)\n",
    "    glmfit = LogisticRegression(solver='liblinear').fit(X_train, y_train)\n",
    "    glmpred = glmfit.predict(X_test)\n",
    "    conf_mat = confusion_matrix(y_test, glmpred)\n",
    "    sum = round((conf_mat[0][1] + conf_mat[1][0]) / y_train.shape[0], 4)\n",
    "    confpd = confpd.append([sum])"
   ]
  },
  {
   "cell_type": "code",
   "execution_count": 0,
   "metadata": {
    "application/vnd.databricks.v1+cell": {
     "cellMetadata": {
      "byteLimit": 2048000,
      "rowLimit": 10000
     },
     "inputWidgets": {},
     "nuid": "f4a1b908-a9b4-4dc6-9979-6f8bae56e551",
     "showTitle": false,
     "title": ""
    }
   },
   "outputs": [],
   "source": [
    "confpd.reset_index(drop=True, inplace=True)\n",
    "confpd.columns = ['Error']\n",
    "confpd.head()"
   ]
  },
  {
   "cell_type": "code",
   "execution_count": 0,
   "metadata": {
    "application/vnd.databricks.v1+cell": {
     "cellMetadata": {
      "byteLimit": 2048000,
      "rowLimit": 10000
     },
     "inputWidgets": {},
     "nuid": "65995de0-bb70-424a-bfb8-251974c8865b",
     "showTitle": false,
     "title": ""
    }
   },
   "outputs": [],
   "source": [
    "confpd.mean()"
   ]
  },
  {
   "cell_type": "code",
   "execution_count": 0,
   "metadata": {
    "application/vnd.databricks.v1+cell": {
     "cellMetadata": {
      "byteLimit": 2048000,
      "rowLimit": 10000
     },
     "inputWidgets": {},
     "nuid": "955f5885-a5d2-4ed3-92ac-1987a99af106",
     "showTitle": false,
     "title": ""
    }
   },
   "outputs": [],
   "source": [
    "plt.xkcd()\n",
    "plt.figure(figsize = (25, 10))\n",
    "plt.plot(confpd, marker = 'o', markersize = 10)\n",
    "plt.title(\"split% vs error rates\")\n",
    "plt.ylabel(\"error rates\")\n",
    "plt.xlabel(\"split%\")"
   ]
  },
  {
   "cell_type": "markdown",
   "metadata": {
    "application/vnd.databricks.v1+cell": {
     "cellMetadata": {
      "byteLimit": 2048000,
      "rowLimit": 10000
     },
     "inputWidgets": {},
     "nuid": "6eb2be3f-5941-47b3-adf3-77dc02a419d0",
     "showTitle": false,
     "title": ""
    }
   },
   "source": [
    "We notice the same graph as that for logit without the dummy variable. So, we can conclude that the dummy variable\n",
    "does not lead to a reduction in the test error rate"
   ]
  }
 ],
 "metadata": {
  "application/vnd.databricks.v1+notebook": {
   "dashboards": [],
   "language": "python",
   "notebookMetadata": {
    "pythonIndentUnit": 2
   },
   "notebookName": "Question 5 - answers",
   "widgets": {}
  }
 },
 "nbformat": 4,
 "nbformat_minor": 0
}
