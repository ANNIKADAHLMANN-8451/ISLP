{
 "cells": [
  {
   "cell_type": "markdown",
   "metadata": {
    "application/vnd.databricks.v1+cell": {
     "cellMetadata": {
      "byteLimit": 2048000,
      "rowLimit": 10000
     },
     "inputWidgets": {},
     "nuid": "b162de07-2efa-40f6-b359-b256d743b7c9",
     "showTitle": false,
     "title": ""
    }
   },
   "source": [
    "We continue to consider the use of a logistic regression model to\n",
    "predict the probability of `default` using `income` and `balance` on the\n",
    "`Default` data set. In particular, we will now compute estimates for the\n",
    "standard errors of the `income` and `balance` logistic regression coefcients in two diferent ways: (1) using the bootstrap, and (2) using the\n",
    "standard formula for computing the standard errors in the `sm.GLM()`\n",
    "function. Do not forget to set a random seed before beginning your\n",
    "analysis."
   ]
  },
  {
   "cell_type": "markdown",
   "metadata": {
    "application/vnd.databricks.v1+cell": {
     "cellMetadata": {
      "byteLimit": 2048000,
      "rowLimit": 10000
     },
     "inputWidgets": {},
     "nuid": "2b9769e3-9213-4ad0-b691-cd8eb1e886a6",
     "showTitle": false,
     "title": ""
    }
   },
   "source": [
    "### Preprocessing"
   ]
  },
  {
   "cell_type": "code",
   "execution_count": 0,
   "metadata": {
    "application/vnd.databricks.v1+cell": {
     "cellMetadata": {
      "byteLimit": 2048000,
      "rowLimit": 10000
     },
     "inputWidgets": {},
     "nuid": "0d6cc608-98c4-4193-879a-263e19423b1d",
     "showTitle": false,
     "title": ""
    }
   },
   "outputs": [],
   "source": [
    "# import relevant statistical packages\n",
    "import numpy as np\n",
    "import pandas as pd"
   ]
  },
  {
   "cell_type": "code",
   "execution_count": 0,
   "metadata": {
    "application/vnd.databricks.v1+cell": {
     "cellMetadata": {
      "byteLimit": 2048000,
      "rowLimit": 10000
     },
     "inputWidgets": {},
     "nuid": "b7d69180-4312-4184-a66c-38a56615f922",
     "showTitle": false,
     "title": ""
    }
   },
   "outputs": [],
   "source": [
    "# import relevant data visualisation packages\n",
    "import matplotlib.pyplot as plt\n",
    "import seaborn as sns\n",
    "%matplotlib inline"
   ]
  },
  {
   "cell_type": "code",
   "execution_count": 0,
   "metadata": {
    "application/vnd.databricks.v1+cell": {
     "cellMetadata": {
      "byteLimit": 2048000,
      "rowLimit": 10000
     },
     "inputWidgets": {},
     "nuid": "64f2c692-919f-476f-b109-99f6d9f2d617",
     "showTitle": false,
     "title": ""
    }
   },
   "outputs": [],
   "source": [
    "# load and preprocess data\n",
    "url = \"abfss://training@sa8451learningdev.dfs.core.windows.net/interpretable_machine_learning/eml_data/Default.csv\"\n",
    "Default = spark.read.option(\"header\", \"true\").csv(url).toPandas()\n",
    "Default.set_index('_c0', inplace=True)\n",
    "\n",
    "float_cols = [\"balance\", \"income\"]\n",
    "str_cols = [\"default\", \"student\"]\n",
    "Default[float_cols] = Default[float_cols].astype(float)\n",
    "Default[str_cols] = Default[str_cols].astype(str)"
   ]
  },
  {
   "cell_type": "code",
   "execution_count": 0,
   "metadata": {
    "application/vnd.databricks.v1+cell": {
     "cellMetadata": {
      "byteLimit": 2048000,
      "rowLimit": 10000
     },
     "inputWidgets": {},
     "nuid": "f34e371f-4f90-4493-9080-3ac64af43bb4",
     "showTitle": false,
     "title": ""
    }
   },
   "outputs": [],
   "source": [
    "Default.head()"
   ]
  },
  {
   "cell_type": "code",
   "execution_count": 0,
   "metadata": {
    "application/vnd.databricks.v1+cell": {
     "cellMetadata": {
      "byteLimit": 2048000,
      "rowLimit": 10000
     },
     "inputWidgets": {},
     "nuid": "dfdd6b55-ca0a-4d96-949d-489941ae0e5f",
     "showTitle": false,
     "title": ""
    }
   },
   "outputs": [],
   "source": [
    "Default.info()"
   ]
  },
  {
   "cell_type": "code",
   "execution_count": 0,
   "metadata": {
    "application/vnd.databricks.v1+cell": {
     "cellMetadata": {
      "byteLimit": 2048000,
      "rowLimit": 10000
     },
     "inputWidgets": {},
     "nuid": "91c97497-23e7-45eb-b005-da507c652ec3",
     "showTitle": false,
     "title": ""
    }
   },
   "outputs": [],
   "source": [
    "dfX = Default[['student', 'balance','income']]\n",
    "dfX = pd.get_dummies(data = dfX, drop_first=True)\n",
    "dfy = Default['default']"
   ]
  },
  {
   "cell_type": "code",
   "execution_count": 0,
   "metadata": {
    "application/vnd.databricks.v1+cell": {
     "cellMetadata": {
      "byteLimit": 2048000,
      "rowLimit": 10000
     },
     "inputWidgets": {},
     "nuid": "ba304871-26c3-47eb-90cc-13ab2cd29dc0",
     "showTitle": false,
     "title": ""
    }
   },
   "outputs": [],
   "source": [
    "dfX.head()"
   ]
  },
  {
   "cell_type": "code",
   "execution_count": 0,
   "metadata": {
    "application/vnd.databricks.v1+cell": {
     "cellMetadata": {
      "byteLimit": 2048000,
      "rowLimit": 10000
     },
     "inputWidgets": {},
     "nuid": "d5d1a299-4a44-48e4-9ca2-0387d90d9ab2",
     "showTitle": false,
     "title": ""
    }
   },
   "outputs": [],
   "source": [
    "dfy.head()"
   ]
  },
  {
   "cell_type": "markdown",
   "metadata": {
    "application/vnd.databricks.v1+cell": {
     "cellMetadata": {
      "byteLimit": 2048000,
      "rowLimit": 10000
     },
     "inputWidgets": {},
     "nuid": "3194a6f2-5565-432b-829b-996acfd5a0b5",
     "showTitle": false,
     "title": ""
    }
   },
   "source": [
    "**a. Using the `.summary()` and `sm.GLM()` functions, determine the\n",
    "estimated standard errors for the coefcients associated with\n",
    "income and balance in a multiple logistic regression model that\n",
    "uses both predictors.**"
   ]
  },
  {
   "cell_type": "code",
   "execution_count": 0,
   "metadata": {
    "application/vnd.databricks.v1+cell": {
     "cellMetadata": {
      "byteLimit": 2048000,
      "rowLimit": 10000
     },
     "inputWidgets": {},
     "nuid": "a632908a-0dff-47ba-a78b-b1facf381bd8",
     "showTitle": false,
     "title": ""
    }
   },
   "outputs": [],
   "source": [
    "import statsmodels.api as sm"
   ]
  },
  {
   "cell_type": "code",
   "execution_count": 0,
   "metadata": {
    "application/vnd.databricks.v1+cell": {
     "cellMetadata": {
      "byteLimit": 2048000,
      "rowLimit": 10000
     },
     "inputWidgets": {},
     "nuid": "40e21c17-1f77-4a43-ab1b-ca0120ed6a41",
     "showTitle": false,
     "title": ""
    }
   },
   "outputs": [],
   "source": [
    "X = dfX[['balance', 'income']]\n",
    "X = sm.add_constant(X)\n",
    "y = pd.get_dummies(dfy, drop_first=True)"
   ]
  },
  {
   "cell_type": "code",
   "execution_count": 0,
   "metadata": {
    "application/vnd.databricks.v1+cell": {
     "cellMetadata": {
      "byteLimit": 2048000,
      "rowLimit": 10000
     },
     "inputWidgets": {},
     "nuid": "03d5f891-b490-4fa6-8c24-9e7290cd6891",
     "showTitle": false,
     "title": ""
    }
   },
   "outputs": [],
   "source": [
    "glmfit = sm.GLM(y, X, family=sm.families.Binomial()).fit()"
   ]
  },
  {
   "cell_type": "code",
   "execution_count": 0,
   "metadata": {
    "application/vnd.databricks.v1+cell": {
     "cellMetadata": {
      "byteLimit": 2048000,
      "rowLimit": 10000
     },
     "inputWidgets": {},
     "nuid": "647daafd-016b-4eb3-9650-c9f1311a0c6d",
     "showTitle": false,
     "title": ""
    }
   },
   "outputs": [],
   "source": [
    "glmfit.summary()"
   ]
  },
  {
   "cell_type": "code",
   "execution_count": 0,
   "metadata": {
    "application/vnd.databricks.v1+cell": {
     "cellMetadata": {
      "byteLimit": 2048000,
      "rowLimit": 10000
     },
     "inputWidgets": {},
     "nuid": "7102147f-b084-4807-af1a-4c7897030372",
     "showTitle": false,
     "title": ""
    }
   },
   "outputs": [],
   "source": [
    "estimated_std_err = np.array(glmfit.params / glmfit.tvalues)"
   ]
  },
  {
   "cell_type": "code",
   "execution_count": 0,
   "metadata": {
    "application/vnd.databricks.v1+cell": {
     "cellMetadata": {
      "byteLimit": 2048000,
      "rowLimit": 10000
     },
     "inputWidgets": {},
     "nuid": "d48617fa-1741-42e8-be1c-8f88b7a2763b",
     "showTitle": false,
     "title": ""
    }
   },
   "outputs": [],
   "source": [
    "estimated_std_err"
   ]
  },
  {
   "cell_type": "markdown",
   "metadata": {
    "application/vnd.databricks.v1+cell": {
     "cellMetadata": {
      "byteLimit": 2048000,
      "rowLimit": 10000
     },
     "inputWidgets": {},
     "nuid": "8a144bc7-290f-4426-80b6-52345009834c",
     "showTitle": false,
     "title": ""
    }
   },
   "source": [
    "**b. Write a function, `boot_fn()`, that takes as input the `Default` data\n",
    "set as well as an index of the observations, and that outputs\n",
    "the coefcient estimates for `income` and `balance` in the multiple\n",
    "logistic regression model.**"
   ]
  },
  {
   "cell_type": "code",
   "execution_count": 0,
   "metadata": {
    "application/vnd.databricks.v1+cell": {
     "cellMetadata": {
      "byteLimit": 2048000,
      "rowLimit": 10000
     },
     "inputWidgets": {},
     "nuid": "dc50df87-5589-42d2-9409-3ac7fc5d1042",
     "showTitle": false,
     "title": ""
    }
   },
   "outputs": [],
   "source": [
    "def bootfn(data, index):\n",
    "    X = data[['balance', 'income']]\n",
    "    X = sm.add_constant(X)\n",
    "    y = pd.get_dummies(data['default'], drop_first=True)\n",
    "    X_train = X.iloc[index]\n",
    "    y_train = y.iloc[index]\n",
    "    glmfit = sm.GLM(y_train, X_train, family=sm.families.Binomial()).fit()\n",
    "    estimated_std_err = np.array(glmfit.params / glmfit.tvalues)\n",
    "    return estimated_std_err"
   ]
  },
  {
   "cell_type": "code",
   "execution_count": 0,
   "metadata": {
    "application/vnd.databricks.v1+cell": {
     "cellMetadata": {
      "byteLimit": 2048000,
      "rowLimit": 10000
     },
     "inputWidgets": {},
     "nuid": "0eff1f8d-711d-4960-8447-b82e2a287277",
     "showTitle": false,
     "title": ""
    }
   },
   "outputs": [],
   "source": [
    "bootfn(Default, list(range(1,10000)))"
   ]
  },
  {
   "cell_type": "markdown",
   "metadata": {
    "application/vnd.databricks.v1+cell": {
     "cellMetadata": {
      "byteLimit": 2048000,
      "rowLimit": 10000
     },
     "inputWidgets": {},
     "nuid": "37477407-a249-4b53-b3b2-3a981791dcad",
     "showTitle": false,
     "title": ""
    }
   },
   "source": [
    "**c. Following the bootstrap example in the lab, use your `boot_fn()`\n",
    "function to estimate the standard errors of the logistic regression\n",
    "coefcients for `income` and `balance`.**"
   ]
  },
  {
   "cell_type": "code",
   "execution_count": 0,
   "metadata": {
    "application/vnd.databricks.v1+cell": {
     "cellMetadata": {
      "byteLimit": 2048000,
      "rowLimit": 10000
     },
     "inputWidgets": {},
     "nuid": "464d3d89-8a02-4520-b2ae-2f6530b868e9",
     "showTitle": false,
     "title": ""
    }
   },
   "outputs": [],
   "source": [
    "from sklearn.utils import resample"
   ]
  },
  {
   "cell_type": "code",
   "execution_count": 0,
   "metadata": {
    "application/vnd.databricks.v1+cell": {
     "cellMetadata": {
      "byteLimit": 2048000,
      "rowLimit": 10000
     },
     "inputWidgets": {},
     "nuid": "ca7fe4a5-463c-4f12-9231-df44ff37f7a9",
     "showTitle": false,
     "title": ""
    }
   },
   "outputs": [],
   "source": [
    "std_err_df = pd.DataFrame()\n",
    "idx = list(range(10000))"
   ]
  },
  {
   "cell_type": "code",
   "execution_count": 0,
   "metadata": {
    "application/vnd.databricks.v1+cell": {
     "cellMetadata": {
      "byteLimit": 2048000,
      "rowLimit": 10000
     },
     "inputWidgets": {},
     "nuid": "43ae7519-0093-4bc8-96fc-12d7f768ca8a",
     "showTitle": false,
     "title": ""
    }
   },
   "outputs": [],
   "source": [
    "for i in range(1000):\n",
    "    std_temp = bootfn(Default, resample(idx, replace=True))\n",
    "    std_err_df = std_err_df.append([std_temp])"
   ]
  },
  {
   "cell_type": "code",
   "execution_count": 0,
   "metadata": {
    "application/vnd.databricks.v1+cell": {
     "cellMetadata": {
      "byteLimit": 2048000,
      "rowLimit": 10000
     },
     "inputWidgets": {},
     "nuid": "fd83e8c7-15d1-420c-9619-84e9db26bbf1",
     "showTitle": false,
     "title": ""
    }
   },
   "outputs": [],
   "source": [
    "std_err_df.reset_index(drop=True, inplace=True)\n",
    "std_err_df.columns = ['intercept', 'balance', 'income']"
   ]
  },
  {
   "cell_type": "code",
   "execution_count": 0,
   "metadata": {
    "application/vnd.databricks.v1+cell": {
     "cellMetadata": {
      "byteLimit": 2048000,
      "rowLimit": 10000
     },
     "inputWidgets": {},
     "nuid": "3356eb45-e33a-4e02-a980-09da86c3c518",
     "showTitle": false,
     "title": ""
    }
   },
   "outputs": [],
   "source": [
    "std_err_df.head()"
   ]
  },
  {
   "cell_type": "code",
   "execution_count": 0,
   "metadata": {
    "application/vnd.databricks.v1+cell": {
     "cellMetadata": {
      "byteLimit": 2048000,
      "rowLimit": 10000
     },
     "inputWidgets": {},
     "nuid": "f0196a01-7aef-410a-8427-722bcbc972f0",
     "showTitle": false,
     "title": ""
    }
   },
   "outputs": [],
   "source": [
    "std_err_df.shape"
   ]
  },
  {
   "cell_type": "code",
   "execution_count": 0,
   "metadata": {
    "application/vnd.databricks.v1+cell": {
     "cellMetadata": {
      "byteLimit": 2048000,
      "rowLimit": 10000
     },
     "inputWidgets": {},
     "nuid": "4026d22f-a6bb-408e-bf70-a480fa05e74b",
     "showTitle": false,
     "title": ""
    }
   },
   "outputs": [],
   "source": [
    "std_err_df.mean()"
   ]
  },
  {
   "cell_type": "markdown",
   "metadata": {
    "application/vnd.databricks.v1+cell": {
     "cellMetadata": {
      "byteLimit": 2048000,
      "rowLimit": 10000
     },
     "inputWidgets": {},
     "nuid": "7355b00b-64f8-4ae7-8b58-d06c923d64bb",
     "showTitle": false,
     "title": ""
    }
   },
   "source": [
    "**d. Comment on the estimated standard errors obtained using the\n",
    "`sm.GLM()` function and using the bootstrap.**"
   ]
  },
  {
   "cell_type": "markdown",
   "metadata": {
    "application/vnd.databricks.v1+cell": {
     "cellMetadata": {
      "byteLimit": 2048000,
      "rowLimit": 10000
     },
     "inputWidgets": {},
     "nuid": "5c544279-2253-454c-967a-e22593763819",
     "showTitle": false,
     "title": ""
    }
   },
   "source": [
    "As we can see, the bootstrap of the standard error estimates are close to standard errors of logistic regression coefficients."
   ]
  }
 ],
 "metadata": {
  "application/vnd.databricks.v1+notebook": {
   "dashboards": [],
   "language": "python",
   "notebookMetadata": {
    "pythonIndentUnit": 2
   },
   "notebookName": "Question 6 - answers",
   "widgets": {}
  }
 },
 "nbformat": 4,
 "nbformat_minor": 0
}
