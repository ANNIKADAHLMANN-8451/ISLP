{
 "cells": [
  {
   "cell_type": "markdown",
   "metadata": {
    "application/vnd.databricks.v1+cell": {
     "cellMetadata": {
      "byteLimit": 2048000,
      "rowLimit": 10000
     },
     "inputWidgets": {},
     "nuid": "f3f34276-6295-44fc-bf9a-0b1497c36348",
     "showTitle": false,
     "title": ""
    }
   },
   "source": [
    "In Sections 5.1.2 and 5.1.3, we saw that the `cross_validate()` function\n",
    "can be used in order to compute the LOOCV test error estimate.\n",
    "Alternatively, one could compute those quantities using just `sm.GLM()`\n",
    "and the `predict()` method of the ftted model within a for loop. You\n",
    "will now take this approach in order to compute the LOOCV error\n",
    "for a simple logistic regression model on the `Weekly` data set. Recall\n",
    "that in the context of classifcation problems, the LOOCV error is\n",
    "given in (5.4)."
   ]
  },
  {
   "cell_type": "markdown",
   "metadata": {
    "application/vnd.databricks.v1+cell": {
     "cellMetadata": {
      "byteLimit": 2048000,
      "rowLimit": 10000
     },
     "inputWidgets": {},
     "nuid": "05da0c84-d1be-4f5e-a6ee-ea0abde2ae44",
     "showTitle": false,
     "title": ""
    }
   },
   "source": [
    "### Preprocessing"
   ]
  },
  {
   "cell_type": "code",
   "execution_count": 0,
   "metadata": {
    "application/vnd.databricks.v1+cell": {
     "cellMetadata": {
      "byteLimit": 2048000,
      "rowLimit": 10000
     },
     "inputWidgets": {},
     "nuid": "5e008cda-281f-4b66-b173-f554f101d5bf",
     "showTitle": false,
     "title": ""
    }
   },
   "outputs": [],
   "source": [
    "# import relevant statistical packages\n",
    "import numpy as np\n",
    "import pandas as pd"
   ]
  },
  {
   "cell_type": "code",
   "execution_count": 0,
   "metadata": {
    "application/vnd.databricks.v1+cell": {
     "cellMetadata": {
      "byteLimit": 2048000,
      "rowLimit": 10000
     },
     "inputWidgets": {},
     "nuid": "525e6ec0-e83e-4248-874d-c0bdd4f6d85d",
     "showTitle": false,
     "title": ""
    }
   },
   "outputs": [],
   "source": [
    "# import relevant data visualisation packages\n",
    "import matplotlib.pyplot as plt\n",
    "import seaborn as sns\n",
    "%matplotlib inline"
   ]
  },
  {
   "cell_type": "code",
   "execution_count": 0,
   "metadata": {
    "application/vnd.databricks.v1+cell": {
     "cellMetadata": {
      "byteLimit": 2048000,
      "rowLimit": 10000
     },
     "inputWidgets": {},
     "nuid": "5d8310a7-05be-45ef-b4e9-c90f08ddf98a",
     "showTitle": false,
     "title": ""
    }
   },
   "outputs": [],
   "source": [
    "# import and preprocess data\n",
    "url = \"abfss://training@sa8451learningdev.dfs.core.windows.net/interpretable_machine_learning/eml_data/Weekly.csv\"\n",
    "Weekly = spark.read.option(\"header\", \"true\").csv(url).toPandas()\n",
    "Weekly.set_index(\"_c0\", inplace=True)\n",
    "\n",
    "str_cols = [\"Direction\"]\n",
    "int_cols = ['Year']\n",
    "float_cols = list(set(Weekly.columns)-set(str_cols)-set(int_cols))\n",
    "Weekly[str_cols] = Weekly[str_cols].astype(str)\n",
    "Weekly[int_cols] = Weekly[int_cols].astype(int)\n",
    "Weekly[float_cols] = Weekly[float_cols].astype(float)"
   ]
  },
  {
   "cell_type": "code",
   "execution_count": 0,
   "metadata": {
    "application/vnd.databricks.v1+cell": {
     "cellMetadata": {
      "byteLimit": 2048000,
      "rowLimit": 10000
     },
     "inputWidgets": {},
     "nuid": "7be78e06-9c88-4f88-8c7c-2ec848d521f3",
     "showTitle": false,
     "title": ""
    }
   },
   "outputs": [],
   "source": [
    "Weekly.head()"
   ]
  },
  {
   "cell_type": "code",
   "execution_count": 0,
   "metadata": {
    "application/vnd.databricks.v1+cell": {
     "cellMetadata": {
      "byteLimit": 2048000,
      "rowLimit": 10000
     },
     "inputWidgets": {},
     "nuid": "743d1261-47b0-4565-a220-20890c63417c",
     "showTitle": false,
     "title": ""
    }
   },
   "outputs": [],
   "source": [
    "Weekly.info()"
   ]
  },
  {
   "cell_type": "code",
   "execution_count": 0,
   "metadata": {
    "application/vnd.databricks.v1+cell": {
     "cellMetadata": {
      "byteLimit": 2048000,
      "rowLimit": 10000
     },
     "inputWidgets": {},
     "nuid": "0fba8792-612e-41e8-9fa8-6dea110da29c",
     "showTitle": false,
     "title": ""
    }
   },
   "outputs": [],
   "source": [
    "dfX = Weekly.drop(columns='Direction')\n",
    "dfy = Weekly['Direction']"
   ]
  },
  {
   "cell_type": "code",
   "execution_count": 0,
   "metadata": {
    "application/vnd.databricks.v1+cell": {
     "cellMetadata": {
      "byteLimit": 2048000,
      "rowLimit": 10000
     },
     "inputWidgets": {},
     "nuid": "a15b3bd7-0c4c-464a-b8a6-118086c6420b",
     "showTitle": false,
     "title": ""
    }
   },
   "outputs": [],
   "source": [
    "dfX.head()"
   ]
  },
  {
   "cell_type": "code",
   "execution_count": 0,
   "metadata": {
    "application/vnd.databricks.v1+cell": {
     "cellMetadata": {
      "byteLimit": 2048000,
      "rowLimit": 10000
     },
     "inputWidgets": {},
     "nuid": "2e178bc9-4258-4d84-bb91-6a1fbc20ac52",
     "showTitle": false,
     "title": ""
    }
   },
   "outputs": [],
   "source": [
    "dfy.head()"
   ]
  },
  {
   "cell_type": "markdown",
   "metadata": {
    "application/vnd.databricks.v1+cell": {
     "cellMetadata": {
      "byteLimit": 2048000,
      "rowLimit": 10000
     },
     "inputWidgets": {},
     "nuid": "3f0d75a4-b883-4409-b29a-8eb461f105b3",
     "showTitle": false,
     "title": ""
    }
   },
   "source": [
    "**a. Fit a logistic regression model that predicts `Direction` using `Lag1`\n",
    "and `Lag2`.**"
   ]
  },
  {
   "cell_type": "code",
   "execution_count": 0,
   "metadata": {
    "application/vnd.databricks.v1+cell": {
     "cellMetadata": {
      "byteLimit": 2048000,
      "rowLimit": 10000
     },
     "inputWidgets": {},
     "nuid": "0ce44717-6d5e-4ecf-8848-12185a200e0c",
     "showTitle": false,
     "title": ""
    }
   },
   "outputs": [],
   "source": [
    "from sklearn.linear_model import LogisticRegression, LogisticRegressionCV"
   ]
  },
  {
   "cell_type": "code",
   "execution_count": 0,
   "metadata": {
    "application/vnd.databricks.v1+cell": {
     "cellMetadata": {
      "byteLimit": 2048000,
      "rowLimit": 10000
     },
     "inputWidgets": {},
     "nuid": "f152dec2-c351-4ad6-8408-4f8743ef83b3",
     "showTitle": false,
     "title": ""
    }
   },
   "outputs": [],
   "source": [
    "X = dfX[['Lag1', 'Lag2']]\n",
    "y = dfy"
   ]
  },
  {
   "cell_type": "code",
   "execution_count": 0,
   "metadata": {
    "application/vnd.databricks.v1+cell": {
     "cellMetadata": {
      "byteLimit": 2048000,
      "rowLimit": 10000
     },
     "inputWidgets": {},
     "nuid": "787eec90-d3d2-4659-9e28-72b60385c0c3",
     "showTitle": false,
     "title": ""
    }
   },
   "outputs": [],
   "source": [
    "glmfit = LogisticRegression(solver='liblinear').fit(X, y)"
   ]
  },
  {
   "cell_type": "code",
   "execution_count": 0,
   "metadata": {
    "application/vnd.databricks.v1+cell": {
     "cellMetadata": {
      "byteLimit": 2048000,
      "rowLimit": 10000
     },
     "inputWidgets": {},
     "nuid": "eb878976-e110-4b8a-8aed-90572cfbc40a",
     "showTitle": false,
     "title": ""
    }
   },
   "outputs": [],
   "source": [
    "glmpred = glmfit.predict(X)"
   ]
  },
  {
   "cell_type": "code",
   "execution_count": 0,
   "metadata": {
    "application/vnd.databricks.v1+cell": {
     "cellMetadata": {
      "byteLimit": 2048000,
      "rowLimit": 10000
     },
     "inputWidgets": {},
     "nuid": "8162b5a0-20aa-4e67-8c26-42626b35d119",
     "showTitle": false,
     "title": ""
    }
   },
   "outputs": [],
   "source": [
    "from sklearn.metrics import confusion_matrix"
   ]
  },
  {
   "cell_type": "code",
   "execution_count": 0,
   "metadata": {
    "application/vnd.databricks.v1+cell": {
     "cellMetadata": {
      "byteLimit": 2048000,
      "rowLimit": 10000
     },
     "inputWidgets": {},
     "nuid": "77e00a34-7af8-4719-8b90-e7496d113414",
     "showTitle": false,
     "title": ""
    }
   },
   "outputs": [],
   "source": [
    "conf_mat = confusion_matrix(y, glmpred)\n",
    "conf_mat"
   ]
  },
  {
   "cell_type": "code",
   "execution_count": 0,
   "metadata": {
    "application/vnd.databricks.v1+cell": {
     "cellMetadata": {
      "byteLimit": 2048000,
      "rowLimit": 10000
     },
     "inputWidgets": {},
     "nuid": "cc545917-3d4f-4ab3-a39d-e3a4d7a76eb5",
     "showTitle": false,
     "title": ""
    }
   },
   "outputs": [],
   "source": [
    "round((conf_mat[0][1] + conf_mat[1][0]) / y.shape[0], 4)"
   ]
  },
  {
   "cell_type": "markdown",
   "metadata": {
    "application/vnd.databricks.v1+cell": {
     "cellMetadata": {
      "byteLimit": 2048000,
      "rowLimit": 10000
     },
     "inputWidgets": {},
     "nuid": "65661805-09d5-459a-8c64-844a46dabeb5",
     "showTitle": false,
     "title": ""
    }
   },
   "source": [
    "**b. Fit a logistic regression model that predicts `Direction` using `Lag1`\n",
    "and `Lag2` using all but the frst observation.**"
   ]
  },
  {
   "cell_type": "code",
   "execution_count": 0,
   "metadata": {
    "application/vnd.databricks.v1+cell": {
     "cellMetadata": {
      "byteLimit": 2048000,
      "rowLimit": 10000
     },
     "inputWidgets": {},
     "nuid": "69b11c2c-c347-40aa-864c-426044ceede5",
     "showTitle": false,
     "title": ""
    }
   },
   "outputs": [],
   "source": [
    "X_train = dfX[['Lag1', 'Lag2']].iloc[1:]\n",
    "y_train = dfy.iloc[1:]"
   ]
  },
  {
   "cell_type": "code",
   "execution_count": 0,
   "metadata": {
    "application/vnd.databricks.v1+cell": {
     "cellMetadata": {
      "byteLimit": 2048000,
      "rowLimit": 10000
     },
     "inputWidgets": {},
     "nuid": "449d3f3a-1d15-4d5e-b7cd-860266304eaf",
     "showTitle": false,
     "title": ""
    }
   },
   "outputs": [],
   "source": [
    "X_test = np.asarray(dfX[['Lag1', 'Lag2']].iloc[0]).reshape(-1,2)\n",
    "y_test = np.asarray(dfy.iloc[0])"
   ]
  },
  {
   "cell_type": "code",
   "execution_count": 0,
   "metadata": {
    "application/vnd.databricks.v1+cell": {
     "cellMetadata": {
      "byteLimit": 2048000,
      "rowLimit": 10000
     },
     "inputWidgets": {},
     "nuid": "48353175-47d2-451e-80e7-96cd8633fe92",
     "showTitle": false,
     "title": ""
    }
   },
   "outputs": [],
   "source": [
    "y_test"
   ]
  },
  {
   "cell_type": "code",
   "execution_count": 0,
   "metadata": {
    "application/vnd.databricks.v1+cell": {
     "cellMetadata": {
      "byteLimit": 2048000,
      "rowLimit": 10000
     },
     "inputWidgets": {},
     "nuid": "8617d347-cde4-49e6-82e3-7a4a00a82169",
     "showTitle": false,
     "title": ""
    }
   },
   "outputs": [],
   "source": [
    "glmfit = LogisticRegression(solver='liblinear').fit(X_train, y_train)"
   ]
  },
  {
   "cell_type": "code",
   "execution_count": 0,
   "metadata": {
    "application/vnd.databricks.v1+cell": {
     "cellMetadata": {
      "byteLimit": 2048000,
      "rowLimit": 10000
     },
     "inputWidgets": {},
     "nuid": "0f131630-46bf-4c93-bc65-cd2038316943",
     "showTitle": false,
     "title": ""
    }
   },
   "outputs": [],
   "source": [
    "glmpred = glmfit.predict(X_test)\n",
    "glmpred"
   ]
  },
  {
   "cell_type": "markdown",
   "metadata": {
    "application/vnd.databricks.v1+cell": {
     "cellMetadata": {
      "byteLimit": 2048000,
      "rowLimit": 10000
     },
     "inputWidgets": {},
     "nuid": "92a38d67-95d9-480d-b827-ffc0f70059ae",
     "showTitle": false,
     "title": ""
    }
   },
   "source": [
    "**c. Use the model from (b) to predict the direction of the frst observation. You can do this by predicting that the frst observation\n",
    "will go up if P(`Direction = \"Up\"|Lag1, Lag2`) > 0.5. Was this\n",
    "observation correctly classifed?**"
   ]
  },
  {
   "cell_type": "markdown",
   "metadata": {
    "application/vnd.databricks.v1+cell": {
     "cellMetadata": {
      "byteLimit": 2048000,
      "rowLimit": 10000
     },
     "inputWidgets": {},
     "nuid": "dad4674a-e419-4b55-8fcf-ab625f7908d0",
     "showTitle": false,
     "title": ""
    }
   },
   "source": [
    "No, prediction was 'Up' and the true Direction was 'Down'"
   ]
  },
  {
   "cell_type": "markdown",
   "metadata": {
    "application/vnd.databricks.v1+cell": {
     "cellMetadata": {
      "byteLimit": 2048000,
      "rowLimit": 10000
     },
     "inputWidgets": {},
     "nuid": "b7c34382-e4d3-4c2d-9f61-320b4be0f17c",
     "showTitle": false,
     "title": ""
    }
   },
   "source": [
    "**d. Write a for loop from i = 1 to i = n, where n is the number of\n",
    "observations in the data set, that performs each of the following\n",
    "steps:**\n",
    "- i. Fit a logistic regression model using all but the ith observation to predict `Direction` using `Lag1` and `Lag2`.\n",
    "- ii. Compute the posterior probability of the market moving up for the ith observation.\n",
    "- iii. Use the posterior probability for the ith observation in order to predict whether or not the market moves up.\n",
    "- iv. Determine whether or not an error was made in predicting the direction for the ith observation. If an error was made, then indicate this as a 1, and otherwise indicate it as a 0."
   ]
  },
  {
   "cell_type": "code",
   "execution_count": 0,
   "metadata": {
    "application/vnd.databricks.v1+cell": {
     "cellMetadata": {
      "byteLimit": 2048000,
      "rowLimit": 10000
     },
     "inputWidgets": {},
     "nuid": "bd519156-e673-4084-af68-1e96b1feab0c",
     "showTitle": false,
     "title": ""
    }
   },
   "outputs": [],
   "source": [
    "n = len(dfX)\n",
    "n"
   ]
  },
  {
   "cell_type": "code",
   "execution_count": 0,
   "metadata": {
    "application/vnd.databricks.v1+cell": {
     "cellMetadata": {
      "byteLimit": 2048000,
      "rowLimit": 10000
     },
     "inputWidgets": {},
     "nuid": "f0301056-a215-43fe-bae7-8c3f83633999",
     "showTitle": false,
     "title": ""
    }
   },
   "outputs": [],
   "source": [
    "X"
   ]
  },
  {
   "cell_type": "code",
   "execution_count": 0,
   "metadata": {
    "application/vnd.databricks.v1+cell": {
     "cellMetadata": {
      "byteLimit": 2048000,
      "rowLimit": 10000
     },
     "inputWidgets": {},
     "nuid": "3ff22888-2983-480c-9e5d-e1b762e8a71e",
     "showTitle": false,
     "title": ""
    }
   },
   "outputs": [],
   "source": [
    "glmpred_df = pd.DataFrame()\n",
    "X = dfX[['Lag1', 'Lag2']]\n",
    "y = dfy\n",
    "for j in range(1, n):\n",
    "    X_train, y_train, X_test, y_test = X, y, np.asarray(X.iloc[j]).reshape(-1,2), np.asarray(y.iloc[j], dtype=object)\n",
    "    glmfit = LogisticRegression(solver='liblinear').fit(X_train, y_train)\n",
    "    glmpred = glmfit.predict(X_test)\n",
    "    if glmpred == y_test:\n",
    "        glmpred_df = glmpred_df.append([0])\n",
    "    else:\n",
    "        glmpred_df = glmpred_df.append([1])"
   ]
  },
  {
   "cell_type": "code",
   "execution_count": 0,
   "metadata": {
    "application/vnd.databricks.v1+cell": {
     "cellMetadata": {
      "byteLimit": 2048000,
      "rowLimit": 10000
     },
     "inputWidgets": {},
     "nuid": "46e560df-49d0-4232-9343-066bea71880a",
     "showTitle": false,
     "title": ""
    }
   },
   "outputs": [],
   "source": [
    "glmpred_df.reset_index(drop=True,inplace=True)\n",
    "glmpred_df.columns = ['Error']"
   ]
  },
  {
   "cell_type": "code",
   "execution_count": 0,
   "metadata": {
    "application/vnd.databricks.v1+cell": {
     "cellMetadata": {
      "byteLimit": 2048000,
      "rowLimit": 10000
     },
     "inputWidgets": {},
     "nuid": "9832d47e-fdf8-409c-b10a-fc661572e5af",
     "showTitle": false,
     "title": ""
    }
   },
   "outputs": [],
   "source": [
    "glmpred_df.head()"
   ]
  },
  {
   "cell_type": "code",
   "execution_count": 0,
   "metadata": {
    "application/vnd.databricks.v1+cell": {
     "cellMetadata": {
      "byteLimit": 2048000,
      "rowLimit": 10000
     },
     "inputWidgets": {},
     "nuid": "c0b392cb-5c9a-4fd7-9df0-46e5971dbfde",
     "showTitle": false,
     "title": ""
    }
   },
   "outputs": [],
   "source": [
    "glmpred_df.shape"
   ]
  },
  {
   "cell_type": "code",
   "execution_count": 0,
   "metadata": {
    "application/vnd.databricks.v1+cell": {
     "cellMetadata": {
      "byteLimit": 2048000,
      "rowLimit": 10000
     },
     "inputWidgets": {},
     "nuid": "84b9c67e-ae0a-477f-83dd-dd01ae474cda",
     "showTitle": false,
     "title": ""
    }
   },
   "outputs": [],
   "source": [
    "LOOCV_estimate = glmpred_df.mean()"
   ]
  },
  {
   "cell_type": "code",
   "execution_count": 0,
   "metadata": {
    "application/vnd.databricks.v1+cell": {
     "cellMetadata": {
      "byteLimit": 2048000,
      "rowLimit": 10000
     },
     "inputWidgets": {},
     "nuid": "d98b26f1-1e4a-4365-9234-54dce66f2e9a",
     "showTitle": false,
     "title": ""
    }
   },
   "outputs": [],
   "source": [
    "LOOCV_estimate"
   ]
  },
  {
   "cell_type": "markdown",
   "metadata": {
    "application/vnd.databricks.v1+cell": {
     "cellMetadata": {
      "byteLimit": 2048000,
      "rowLimit": 10000
     },
     "inputWidgets": {},
     "nuid": "d50f8a83-dcbc-436e-a6d9-24d9b5fa0ae7",
     "showTitle": false,
     "title": ""
    }
   },
   "source": [
    "**e. Take the average of the n numbers obtained in (d)iv in order to\n",
    "obtain the LOOCV estimate for the test error. Comment on the\n",
    "results.**"
   ]
  },
  {
   "cell_type": "markdown",
   "metadata": {
    "application/vnd.databricks.v1+cell": {
     "cellMetadata": {
      "byteLimit": 2048000,
      "rowLimit": 10000
     },
     "inputWidgets": {},
     "nuid": "c762670b-df64-4a87-80f4-e25c54fb2185",
     "showTitle": false,
     "title": ""
    }
   },
   "source": [
    "LOOCV and logistic regression have the almost same error rates (0.444853 and 0.4444 respectively)."
   ]
  },
  {
   "cell_type": "code",
   "execution_count": 0,
   "metadata": {
    "application/vnd.databricks.v1+cell": {
     "cellMetadata": {
      "byteLimit": 2048000,
      "rowLimit": 10000
     },
     "inputWidgets": {},
     "nuid": "04a607fc-938a-4531-9a9f-f377a13b33b5",
     "showTitle": false,
     "title": ""
    }
   },
   "outputs": [],
   "source": []
  }
 ],
 "metadata": {
  "application/vnd.databricks.v1+notebook": {
   "dashboards": [],
   "language": "python",
   "notebookMetadata": {
    "pythonIndentUnit": 2
   },
   "notebookName": "Question 7 - answers",
   "widgets": {}
  }
 },
 "nbformat": 4,
 "nbformat_minor": 0
}
