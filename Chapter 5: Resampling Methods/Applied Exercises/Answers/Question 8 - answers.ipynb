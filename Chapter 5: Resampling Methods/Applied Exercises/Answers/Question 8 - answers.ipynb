{
 "cells": [
  {
   "cell_type": "markdown",
   "metadata": {
    "application/vnd.databricks.v1+cell": {
     "cellMetadata": {
      "byteLimit": 2048000,
      "rowLimit": 10000
     },
     "inputWidgets": {},
     "nuid": "30bd3379-3f9b-4934-b475-59b03779492e",
     "showTitle": false,
     "title": ""
    }
   },
   "source": [
    "We will now perform cross-validation on a simulated data set."
   ]
  },
  {
   "cell_type": "code",
   "execution_count": 0,
   "metadata": {
    "application/vnd.databricks.v1+cell": {
     "cellMetadata": {
      "byteLimit": 2048000,
      "rowLimit": 10000
     },
     "inputWidgets": {},
     "nuid": "0de112d9-a0fa-4649-9e95-2e040118e44a",
     "showTitle": false,
     "title": ""
    }
   },
   "outputs": [],
   "source": [
    "import numpy as np\n",
    "import pandas as pd"
   ]
  },
  {
   "cell_type": "code",
   "execution_count": 0,
   "metadata": {
    "application/vnd.databricks.v1+cell": {
     "cellMetadata": {
      "byteLimit": 2048000,
      "rowLimit": 10000
     },
     "inputWidgets": {},
     "nuid": "a17c994f-acde-4db9-99d2-778d0a6536cc",
     "showTitle": false,
     "title": ""
    }
   },
   "outputs": [],
   "source": [
    "np.random.seed(1)"
   ]
  },
  {
   "cell_type": "code",
   "execution_count": 0,
   "metadata": {
    "application/vnd.databricks.v1+cell": {
     "cellMetadata": {
      "byteLimit": 2048000,
      "rowLimit": 10000
     },
     "inputWidgets": {},
     "nuid": "0990d234-3387-4152-ac13-a0bac86087aa",
     "showTitle": false,
     "title": ""
    }
   },
   "outputs": [],
   "source": [
    "x = np.random.normal(size=100)"
   ]
  },
  {
   "cell_type": "code",
   "execution_count": 0,
   "metadata": {
    "application/vnd.databricks.v1+cell": {
     "cellMetadata": {
      "byteLimit": 2048000,
      "rowLimit": 10000
     },
     "inputWidgets": {},
     "nuid": "9959459c-c4f0-4e72-9296-1f4a6585d0fb",
     "showTitle": false,
     "title": ""
    }
   },
   "outputs": [],
   "source": [
    "x"
   ]
  },
  {
   "cell_type": "markdown",
   "metadata": {
    "application/vnd.databricks.v1+cell": {
     "cellMetadata": {
      "byteLimit": 2048000,
      "rowLimit": 10000
     },
     "inputWidgets": {},
     "nuid": "2c68d39b-ed87-40c9-921b-05a7f7caee8e",
     "showTitle": false,
     "title": ""
    }
   },
   "source": [
    "**a. In this data set, what is n and what is p? Write out the model\n",
    "used to generate the data in equation form.**"
   ]
  },
  {
   "cell_type": "code",
   "execution_count": 0,
   "metadata": {
    "application/vnd.databricks.v1+cell": {
     "cellMetadata": {
      "byteLimit": 2048000,
      "rowLimit": 10000
     },
     "inputWidgets": {},
     "nuid": "7f4035b2-486c-4c9d-8bcf-88bd1ad67b9b",
     "showTitle": false,
     "title": ""
    }
   },
   "outputs": [],
   "source": [
    "len(x)"
   ]
  },
  {
   "cell_type": "code",
   "execution_count": 0,
   "metadata": {
    "application/vnd.databricks.v1+cell": {
     "cellMetadata": {
      "byteLimit": 2048000,
      "rowLimit": 10000
     },
     "inputWidgets": {},
     "nuid": "daa2ec3a-68c2-49f2-9748-3bde5ba9ce38",
     "showTitle": false,
     "title": ""
    }
   },
   "outputs": [],
   "source": [
    "x.mean(), np.sqrt(x.var()) # so roughly standard normal"
   ]
  },
  {
   "cell_type": "code",
   "execution_count": 0,
   "metadata": {
    "application/vnd.databricks.v1+cell": {
     "cellMetadata": {
      "byteLimit": 2048000,
      "rowLimit": 10000
     },
     "inputWidgets": {},
     "nuid": "1e0d339e-b198-4a2c-b3fe-e909f710bba3",
     "showTitle": false,
     "title": ""
    }
   },
   "outputs": [],
   "source": [
    "y = x - 2 * np.power(x, 2) + np.random.normal(size=100)"
   ]
  },
  {
   "cell_type": "code",
   "execution_count": 0,
   "metadata": {
    "application/vnd.databricks.v1+cell": {
     "cellMetadata": {
      "byteLimit": 2048000,
      "rowLimit": 10000
     },
     "inputWidgets": {},
     "nuid": "93e4d102-37d3-475f-9364-5319d870c8a6",
     "showTitle": false,
     "title": ""
    }
   },
   "outputs": [],
   "source": [
    "y"
   ]
  },
  {
   "cell_type": "code",
   "execution_count": 0,
   "metadata": {
    "application/vnd.databricks.v1+cell": {
     "cellMetadata": {
      "byteLimit": 2048000,
      "rowLimit": 10000
     },
     "inputWidgets": {},
     "nuid": "d3f8c9b0-3b7f-4cf8-833e-876aab98f5e6",
     "showTitle": false,
     "title": ""
    }
   },
   "outputs": [],
   "source": [
    "len(y)"
   ]
  },
  {
   "cell_type": "markdown",
   "metadata": {
    "application/vnd.databricks.v1+cell": {
     "cellMetadata": {
      "byteLimit": 2048000,
      "rowLimit": 10000
     },
     "inputWidgets": {},
     "nuid": "6bda5aa8-28c0-4e16-aa58-4ccda0fea14c",
     "showTitle": false,
     "title": ""
    }
   },
   "source": [
    "n = 100\n",
    "<br>\n",
    "p = 2\n",
    "<br>\n",
    "y = X - 2X$^{2}$ + $\\epsilon$"
   ]
  },
  {
   "cell_type": "markdown",
   "metadata": {
    "application/vnd.databricks.v1+cell": {
     "cellMetadata": {
      "byteLimit": 2048000,
      "rowLimit": 10000
     },
     "inputWidgets": {},
     "nuid": "f61696de-e49d-474d-b6f4-19b8d0547c40",
     "showTitle": false,
     "title": ""
    }
   },
   "source": [
    "**b.  Create a scatterplot of X against Y . Comment on what you find.**"
   ]
  },
  {
   "cell_type": "code",
   "execution_count": 0,
   "metadata": {
    "application/vnd.databricks.v1+cell": {
     "cellMetadata": {
      "byteLimit": 2048000,
      "rowLimit": 10000
     },
     "inputWidgets": {},
     "nuid": "739a962e-37e1-4c97-b5f5-5c8e72c07414",
     "showTitle": false,
     "title": ""
    }
   },
   "outputs": [],
   "source": [
    "import matplotlib.pyplot as plt\n",
    "import seaborn as sns\n",
    "%matplotlib inline"
   ]
  },
  {
   "cell_type": "code",
   "execution_count": 0,
   "metadata": {
    "application/vnd.databricks.v1+cell": {
     "cellMetadata": {
      "byteLimit": 2048000,
      "rowLimit": 10000
     },
     "inputWidgets": {},
     "nuid": "932ff72f-adbb-428b-9f4f-ca648eeb950b",
     "showTitle": false,
     "title": ""
    }
   },
   "outputs": [],
   "source": [
    "plt.xkcd()\n",
    "plt.figure(figsize = (25, 10))\n",
    "plt.scatter(x, y, color = 'green')\n",
    "plt.title(\"Scatterplot of X against Y\")\n",
    "plt.xlabel(\"x\")\n",
    "plt.ylabel(\"y\")"
   ]
  },
  {
   "cell_type": "markdown",
   "metadata": {
    "application/vnd.databricks.v1+cell": {
     "cellMetadata": {
      "byteLimit": 2048000,
      "rowLimit": 10000
     },
     "inputWidgets": {},
     "nuid": "6a752471-7762-4ee6-9bbb-628e313237fb",
     "showTitle": false,
     "title": ""
    }
   },
   "source": [
    "**c. Set a random seed, and then compute the LOOCV errors that\n",
    "result from ftting the following four models using least squares:**\n",
    "<br>\n",
    "<br>\n",
    "i. Y = β0 + β1X + e\n",
    "<br>\n",
    "ii. Y = β0 + β1X + β2X2 + e\n",
    "<br>\n",
    "iii. Y = β0 + β1X + β2X2 + β3X3 + e\n",
    "<br>\n",
    "iv. Y = β0 + β1X + β2X2 + β3X3 + β4X4 + e."
   ]
  },
  {
   "cell_type": "code",
   "execution_count": 0,
   "metadata": {
    "application/vnd.databricks.v1+cell": {
     "cellMetadata": {
      "byteLimit": 2048000,
      "rowLimit": 10000
     },
     "inputWidgets": {},
     "nuid": "739358c2-4174-4b1e-a1c7-b060302cd257",
     "showTitle": false,
     "title": ""
    }
   },
   "outputs": [],
   "source": [
    "from sklearn.preprocessing import PolynomialFeatures as PF"
   ]
  },
  {
   "cell_type": "code",
   "execution_count": 0,
   "metadata": {
    "application/vnd.databricks.v1+cell": {
     "cellMetadata": {
      "byteLimit": 2048000,
      "rowLimit": 10000
     },
     "inputWidgets": {},
     "nuid": "33e1f1fb-e416-48a4-8e2b-e5b05b24d211",
     "showTitle": false,
     "title": ""
    }
   },
   "outputs": [],
   "source": [
    "from sklearn.model_selection import LeaveOneOut, train_test_split"
   ]
  },
  {
   "cell_type": "code",
   "execution_count": 0,
   "metadata": {
    "application/vnd.databricks.v1+cell": {
     "cellMetadata": {
      "byteLimit": 2048000,
      "rowLimit": 10000
     },
     "inputWidgets": {},
     "nuid": "c9b5d9d4-db5f-4e67-9c85-fc66dadabe01",
     "showTitle": false,
     "title": ""
    }
   },
   "outputs": [],
   "source": [
    "from sklearn.linear_model import LinearRegression"
   ]
  },
  {
   "cell_type": "code",
   "execution_count": 0,
   "metadata": {
    "application/vnd.databricks.v1+cell": {
     "cellMetadata": {
      "byteLimit": 2048000,
      "rowLimit": 10000
     },
     "inputWidgets": {},
     "nuid": "d4059148-951e-416e-a1fe-79a06b263121",
     "showTitle": false,
     "title": ""
    }
   },
   "outputs": [],
   "source": [
    "from sklearn.metrics import confusion_matrix, mean_squared_error"
   ]
  },
  {
   "cell_type": "code",
   "execution_count": 0,
   "metadata": {
    "application/vnd.databricks.v1+cell": {
     "cellMetadata": {
      "byteLimit": 2048000,
      "rowLimit": 10000
     },
     "inputWidgets": {},
     "nuid": "d8e761a5-e928-4517-9019-25a158568156",
     "showTitle": false,
     "title": ""
    }
   },
   "outputs": [],
   "source": [
    "np.random.seed(1)"
   ]
  },
  {
   "cell_type": "code",
   "execution_count": 0,
   "metadata": {
    "application/vnd.databricks.v1+cell": {
     "cellMetadata": {
      "byteLimit": 2048000,
      "rowLimit": 10000
     },
     "inputWidgets": {},
     "nuid": "b3456db2-22d2-4a23-8f01-914fbc46dc80",
     "showTitle": false,
     "title": ""
    }
   },
   "outputs": [],
   "source": [
    "x = x.reshape(-1,1)"
   ]
  },
  {
   "cell_type": "code",
   "execution_count": 0,
   "metadata": {
    "application/vnd.databricks.v1+cell": {
     "cellMetadata": {
      "byteLimit": 2048000,
      "rowLimit": 10000
     },
     "inputWidgets": {},
     "nuid": "8140b1cb-6d90-478d-909c-8d7856bc11f3",
     "showTitle": false,
     "title": ""
    }
   },
   "outputs": [],
   "source": [
    "X = pd.DataFrame(x)\n",
    "Y = pd.DataFrame(y)"
   ]
  },
  {
   "cell_type": "code",
   "execution_count": 0,
   "metadata": {
    "application/vnd.databricks.v1+cell": {
     "cellMetadata": {
      "byteLimit": 2048000,
      "rowLimit": 10000
     },
     "inputWidgets": {},
     "nuid": "fc7ea894-fc17-4002-9ea8-073b3caf9e93",
     "showTitle": false,
     "title": ""
    }
   },
   "outputs": [],
   "source": [
    "X.columns = ['X']\n",
    "Y.columns = ['Y']"
   ]
  },
  {
   "cell_type": "code",
   "execution_count": 0,
   "metadata": {
    "application/vnd.databricks.v1+cell": {
     "cellMetadata": {
      "byteLimit": 2048000,
      "rowLimit": 10000
     },
     "inputWidgets": {},
     "nuid": "2c2782ae-dd78-442a-8b57-44f5ccd114c7",
     "showTitle": false,
     "title": ""
    }
   },
   "outputs": [],
   "source": [
    "X.head()"
   ]
  },
  {
   "cell_type": "code",
   "execution_count": 0,
   "metadata": {
    "application/vnd.databricks.v1+cell": {
     "cellMetadata": {
      "byteLimit": 2048000,
      "rowLimit": 10000
     },
     "inputWidgets": {},
     "nuid": "672fa322-fbd4-45dc-be0f-0401552b9c00",
     "showTitle": false,
     "title": ""
    }
   },
   "outputs": [],
   "source": [
    "Y.head()"
   ]
  },
  {
   "cell_type": "code",
   "execution_count": 0,
   "metadata": {
    "application/vnd.databricks.v1+cell": {
     "cellMetadata": {
      "byteLimit": 2048000,
      "rowLimit": 10000
     },
     "inputWidgets": {},
     "nuid": "36393c72-69ff-44ec-8169-688be6c468cd",
     "showTitle": false,
     "title": ""
    }
   },
   "outputs": [],
   "source": [
    "loo = LeaveOneOut()"
   ]
  },
  {
   "cell_type": "code",
   "execution_count": 0,
   "metadata": {
    "application/vnd.databricks.v1+cell": {
     "cellMetadata": {
      "byteLimit": 2048000,
      "rowLimit": 10000
     },
     "inputWidgets": {},
     "nuid": "2bb50d18-86df-46a2-8a90-c85c5dbb1b4b",
     "showTitle": false,
     "title": ""
    }
   },
   "outputs": [],
   "source": [
    "total_sets = loo.get_n_splits(X)"
   ]
  },
  {
   "cell_type": "code",
   "execution_count": 0,
   "metadata": {
    "application/vnd.databricks.v1+cell": {
     "cellMetadata": {
      "byteLimit": 2048000,
      "rowLimit": 10000
     },
     "inputWidgets": {},
     "nuid": "c3f3cd7c-5280-4a0f-ba6e-3ae86e929516",
     "showTitle": false,
     "title": ""
    }
   },
   "outputs": [],
   "source": [
    "MSE_all_OLS = pd.DataFrame()\n",
    "MSE_all_LOOCV = pd.DataFrame()"
   ]
  },
  {
   "cell_type": "code",
   "execution_count": 0,
   "metadata": {
    "application/vnd.databricks.v1+cell": {
     "cellMetadata": {
      "byteLimit": 2048000,
      "rowLimit": 10000
     },
     "inputWidgets": {},
     "nuid": "787d12f3-31b8-421a-ad68-29a995fd3d35",
     "showTitle": false,
     "title": ""
    }
   },
   "outputs": [],
   "source": [
    "for i in range(1, 5):\n",
    "    \n",
    "    MSE_OLS = 0\n",
    "    MSE_LOOCV = 0\n",
    "    \n",
    "    X = pd.DataFrame(x)\n",
    "    X_ = pd.DataFrame(PF(i).fit_transform(X))\n",
    "    X_.drop(columns=0, inplace=True)\n",
    "    Y = pd.DataFrame(y)\n",
    "    \n",
    "    X_train, X_test, y_train, y_test = train_test_split(X_, Y, test_size=0.5, random_state=42)\n",
    "    lmfit = LinearRegression().fit(X_train, y_train)\n",
    "    lmpred = lmfit.predict(X_test)\n",
    "    MSE_OLS += mean_squared_error(y_test, lmpred)\n",
    "    MSE_OLS_mean = MSE_OLS/total_sets\n",
    "    MSE_all_OLS = MSE_all_OLS.append([MSE_OLS])\n",
    "    \n",
    "    for train_index, test_index in loo.split(X):\n",
    "        X1_train, X1_test = X_.iloc[train_index], X_.iloc[test_index]\n",
    "        y1_train, y1_test = Y.iloc[train_index], Y.iloc[test_index]\n",
    "        lmfit1 = LinearRegression().fit(X1_train, y1_train)\n",
    "        lmpred1 = lmfit1.predict(X1_test)\n",
    "        MSE_LOOCV += mean_squared_error(y1_test, lmpred1)\n",
    "    \n",
    "    MSE_LOOCV_mean = MSE_LOOCV/total_sets\n",
    "    MSE_all_LOOCV = MSE_all_LOOCV.append([MSE_LOOCV_mean])"
   ]
  },
  {
   "cell_type": "code",
   "execution_count": 0,
   "metadata": {
    "application/vnd.databricks.v1+cell": {
     "cellMetadata": {
      "byteLimit": 2048000,
      "rowLimit": 10000
     },
     "inputWidgets": {},
     "nuid": "d4ad1dd9-fa34-44f8-a5e2-dfcc6aaf24bb",
     "showTitle": false,
     "title": ""
    }
   },
   "outputs": [],
   "source": [
    "MSE_all_OLS.reset_index(drop=True, inplace=True)"
   ]
  },
  {
   "cell_type": "code",
   "execution_count": 0,
   "metadata": {
    "application/vnd.databricks.v1+cell": {
     "cellMetadata": {
      "byteLimit": 2048000,
      "rowLimit": 10000
     },
     "inputWidgets": {},
     "nuid": "4629e867-1c36-473f-b270-167baedf2f6c",
     "showTitle": false,
     "title": ""
    }
   },
   "outputs": [],
   "source": [
    "MSE_all_LOOCV.reset_index(drop=True, inplace=True)"
   ]
  },
  {
   "cell_type": "code",
   "execution_count": 0,
   "metadata": {
    "application/vnd.databricks.v1+cell": {
     "cellMetadata": {
      "byteLimit": 2048000,
      "rowLimit": 10000
     },
     "inputWidgets": {},
     "nuid": "2c4ee0f0-a9be-49c1-82d4-1095df36b1ff",
     "showTitle": false,
     "title": ""
    }
   },
   "outputs": [],
   "source": [
    "MSE_all_OLS.columns = ['MSE_OLS']\n",
    "MSE_all_LOOCV.columns =['MSE_LOOCV']"
   ]
  },
  {
   "cell_type": "code",
   "execution_count": 0,
   "metadata": {
    "application/vnd.databricks.v1+cell": {
     "cellMetadata": {
      "byteLimit": 2048000,
      "rowLimit": 10000
     },
     "inputWidgets": {},
     "nuid": "be850453-8e98-4994-8d08-99a0a2a9bc47",
     "showTitle": false,
     "title": ""
    }
   },
   "outputs": [],
   "source": [
    "MSE_all = pd.concat([MSE_all_OLS, MSE_all_LOOCV], axis = 1)"
   ]
  },
  {
   "cell_type": "code",
   "execution_count": 0,
   "metadata": {
    "application/vnd.databricks.v1+cell": {
     "cellMetadata": {
      "byteLimit": 2048000,
      "rowLimit": 10000
     },
     "inputWidgets": {},
     "nuid": "6b82102b-fa30-40ba-ac71-7eb6e67122f3",
     "showTitle": false,
     "title": ""
    }
   },
   "outputs": [],
   "source": [
    "MSE_all"
   ]
  },
  {
   "cell_type": "markdown",
   "metadata": {
    "application/vnd.databricks.v1+cell": {
     "cellMetadata": {
      "byteLimit": 2048000,
      "rowLimit": 10000
     },
     "inputWidgets": {},
     "nuid": "62beca3e-b2e2-4a85-8340-8a83165a4422",
     "showTitle": false,
     "title": ""
    }
   },
   "source": [
    "**d. Repeat (c) using another random seed, and report your results.\n",
    "Are your results the same as what you got in (c)? Why?**"
   ]
  },
  {
   "cell_type": "code",
   "execution_count": 0,
   "metadata": {
    "application/vnd.databricks.v1+cell": {
     "cellMetadata": {
      "byteLimit": 2048000,
      "rowLimit": 10000
     },
     "inputWidgets": {},
     "nuid": "7874c30b-4c84-4c6e-a4d6-20a9e5e43435",
     "showTitle": false,
     "title": ""
    }
   },
   "outputs": [],
   "source": [
    "from sklearn.preprocessing import PolynomialFeatures as PF"
   ]
  },
  {
   "cell_type": "code",
   "execution_count": 0,
   "metadata": {
    "application/vnd.databricks.v1+cell": {
     "cellMetadata": {
      "byteLimit": 2048000,
      "rowLimit": 10000
     },
     "inputWidgets": {},
     "nuid": "be8d38c7-46ba-49cc-825d-0459c92c2018",
     "showTitle": false,
     "title": ""
    }
   },
   "outputs": [],
   "source": [
    "from sklearn.model_selection import LeaveOneOut, train_test_split"
   ]
  },
  {
   "cell_type": "code",
   "execution_count": 0,
   "metadata": {
    "application/vnd.databricks.v1+cell": {
     "cellMetadata": {
      "byteLimit": 2048000,
      "rowLimit": 10000
     },
     "inputWidgets": {},
     "nuid": "176598ee-4d21-43c6-91dc-f785ddfe5c79",
     "showTitle": false,
     "title": ""
    }
   },
   "outputs": [],
   "source": [
    "from sklearn.linear_model import LinearRegression"
   ]
  },
  {
   "cell_type": "code",
   "execution_count": 0,
   "metadata": {
    "application/vnd.databricks.v1+cell": {
     "cellMetadata": {
      "byteLimit": 2048000,
      "rowLimit": 10000
     },
     "inputWidgets": {},
     "nuid": "20d70c3d-45cc-4432-be9c-9c67e6d3d84a",
     "showTitle": false,
     "title": ""
    }
   },
   "outputs": [],
   "source": [
    "from sklearn.metrics import confusion_matrix, mean_squared_error"
   ]
  },
  {
   "cell_type": "code",
   "execution_count": 0,
   "metadata": {
    "application/vnd.databricks.v1+cell": {
     "cellMetadata": {
      "byteLimit": 2048000,
      "rowLimit": 10000
     },
     "inputWidgets": {},
     "nuid": "e003f379-4251-405a-adff-b669c57a948f",
     "showTitle": false,
     "title": ""
    }
   },
   "outputs": [],
   "source": [
    "np.random.seed(67)"
   ]
  },
  {
   "cell_type": "code",
   "execution_count": 0,
   "metadata": {
    "application/vnd.databricks.v1+cell": {
     "cellMetadata": {
      "byteLimit": 2048000,
      "rowLimit": 10000
     },
     "inputWidgets": {},
     "nuid": "4c2d88f5-4361-46ac-81c8-294332ec7a94",
     "showTitle": false,
     "title": ""
    }
   },
   "outputs": [],
   "source": [
    "x = x.reshape(-1,1)"
   ]
  },
  {
   "cell_type": "code",
   "execution_count": 0,
   "metadata": {
    "application/vnd.databricks.v1+cell": {
     "cellMetadata": {
      "byteLimit": 2048000,
      "rowLimit": 10000
     },
     "inputWidgets": {},
     "nuid": "aa1c6ecc-69fc-414b-8ad6-9fa0982e64ff",
     "showTitle": false,
     "title": ""
    }
   },
   "outputs": [],
   "source": [
    "X = pd.DataFrame(x)\n",
    "Y = pd.DataFrame(y)"
   ]
  },
  {
   "cell_type": "code",
   "execution_count": 0,
   "metadata": {
    "application/vnd.databricks.v1+cell": {
     "cellMetadata": {
      "byteLimit": 2048000,
      "rowLimit": 10000
     },
     "inputWidgets": {},
     "nuid": "701a7c04-8985-47d9-bf62-3eb77fece5b8",
     "showTitle": false,
     "title": ""
    }
   },
   "outputs": [],
   "source": [
    "X.columns = ['X']\n",
    "Y.columns = ['Y']"
   ]
  },
  {
   "cell_type": "code",
   "execution_count": 0,
   "metadata": {
    "application/vnd.databricks.v1+cell": {
     "cellMetadata": {
      "byteLimit": 2048000,
      "rowLimit": 10000
     },
     "inputWidgets": {},
     "nuid": "f5528f77-e327-4fcc-b7a0-ba5f45487273",
     "showTitle": false,
     "title": ""
    }
   },
   "outputs": [],
   "source": [
    "X.head()"
   ]
  },
  {
   "cell_type": "code",
   "execution_count": 0,
   "metadata": {
    "application/vnd.databricks.v1+cell": {
     "cellMetadata": {
      "byteLimit": 2048000,
      "rowLimit": 10000
     },
     "inputWidgets": {},
     "nuid": "40c66ceb-5596-4072-bacf-57d53f03e047",
     "showTitle": false,
     "title": ""
    }
   },
   "outputs": [],
   "source": [
    "Y.head()"
   ]
  },
  {
   "cell_type": "code",
   "execution_count": 0,
   "metadata": {
    "application/vnd.databricks.v1+cell": {
     "cellMetadata": {
      "byteLimit": 2048000,
      "rowLimit": 10000
     },
     "inputWidgets": {},
     "nuid": "a9931f47-34a8-493e-866c-8a235691e9db",
     "showTitle": false,
     "title": ""
    }
   },
   "outputs": [],
   "source": [
    "loo = LeaveOneOut()"
   ]
  },
  {
   "cell_type": "code",
   "execution_count": 0,
   "metadata": {
    "application/vnd.databricks.v1+cell": {
     "cellMetadata": {
      "byteLimit": 2048000,
      "rowLimit": 10000
     },
     "inputWidgets": {},
     "nuid": "9c0bf3bb-7391-4bb7-8ac7-becac2032a7c",
     "showTitle": false,
     "title": ""
    }
   },
   "outputs": [],
   "source": [
    "total_sets = loo.get_n_splits(X)"
   ]
  },
  {
   "cell_type": "code",
   "execution_count": 0,
   "metadata": {
    "application/vnd.databricks.v1+cell": {
     "cellMetadata": {
      "byteLimit": 2048000,
      "rowLimit": 10000
     },
     "inputWidgets": {},
     "nuid": "37f42da1-d3f4-4362-8fce-3720b035169d",
     "showTitle": false,
     "title": ""
    }
   },
   "outputs": [],
   "source": [
    "MSE_all_OLS = pd.DataFrame()\n",
    "MSE_all_LOOCV = pd.DataFrame()"
   ]
  },
  {
   "cell_type": "code",
   "execution_count": 0,
   "metadata": {
    "application/vnd.databricks.v1+cell": {
     "cellMetadata": {
      "byteLimit": 2048000,
      "rowLimit": 10000
     },
     "inputWidgets": {},
     "nuid": "1a54358b-cae3-4be9-bfdf-0aba82feb424",
     "showTitle": false,
     "title": ""
    }
   },
   "outputs": [],
   "source": [
    "for i in range(1, 5):\n",
    "    \n",
    "    MSE_OLS = 0\n",
    "    MSE_LOOCV = 0\n",
    "    \n",
    "    X = pd.DataFrame(x)\n",
    "    X_ = pd.DataFrame(PF(i).fit_transform(X))\n",
    "    X_.drop(columns=0, inplace=True)\n",
    "    Y = pd.DataFrame(y)\n",
    "    \n",
    "    X_train, X_test, y_train, y_test = train_test_split(X_, Y, test_size=0.5, random_state=42)\n",
    "    lmfit = LinearRegression().fit(X_train, y_train)\n",
    "    lmpred = lmfit.predict(X_test)\n",
    "    MSE_OLS += mean_squared_error(y_test, lmpred)\n",
    "    MSE_OLS_mean = MSE_OLS/total_sets\n",
    "    MSE_all_OLS = MSE_all_OLS.append([MSE_OLS])\n",
    "    \n",
    "    for train_index, test_index in loo.split(X):\n",
    "        X1_train, X1_test = X_.iloc[train_index], X_.iloc[test_index]\n",
    "        y1_train, y1_test = Y.iloc[train_index], Y.iloc[test_index]\n",
    "        lmfit1 = LinearRegression().fit(X1_train, y1_train)\n",
    "        lmpred1 = lmfit1.predict(X1_test)\n",
    "        MSE_LOOCV += mean_squared_error(y1_test, lmpred1)\n",
    "    \n",
    "    MSE_LOOCV_mean = MSE_LOOCV/total_sets\n",
    "    MSE_all_LOOCV = MSE_all_LOOCV.append([MSE_LOOCV_mean])"
   ]
  },
  {
   "cell_type": "code",
   "execution_count": 0,
   "metadata": {
    "application/vnd.databricks.v1+cell": {
     "cellMetadata": {
      "byteLimit": 2048000,
      "rowLimit": 10000
     },
     "inputWidgets": {},
     "nuid": "fdcf85d8-c3b8-4a4a-9a2b-9bfb6711607e",
     "showTitle": false,
     "title": ""
    }
   },
   "outputs": [],
   "source": [
    "MSE_all_OLS.reset_index(drop=True, inplace=True)"
   ]
  },
  {
   "cell_type": "code",
   "execution_count": 0,
   "metadata": {
    "application/vnd.databricks.v1+cell": {
     "cellMetadata": {
      "byteLimit": 2048000,
      "rowLimit": 10000
     },
     "inputWidgets": {},
     "nuid": "f3fad477-e225-4c43-af20-38831eba6213",
     "showTitle": false,
     "title": ""
    }
   },
   "outputs": [],
   "source": [
    "MSE_all_LOOCV.reset_index(drop=True, inplace=True)"
   ]
  },
  {
   "cell_type": "code",
   "execution_count": 0,
   "metadata": {
    "application/vnd.databricks.v1+cell": {
     "cellMetadata": {
      "byteLimit": 2048000,
      "rowLimit": 10000
     },
     "inputWidgets": {},
     "nuid": "572b5364-203a-4845-becd-b431caebe772",
     "showTitle": false,
     "title": ""
    }
   },
   "outputs": [],
   "source": [
    "MSE_all_OLS.columns = ['MSE_OLS']\n",
    "MSE_all_LOOCV.columns =['MSE_LOOCV']"
   ]
  },
  {
   "cell_type": "code",
   "execution_count": 0,
   "metadata": {
    "application/vnd.databricks.v1+cell": {
     "cellMetadata": {
      "byteLimit": 2048000,
      "rowLimit": 10000
     },
     "inputWidgets": {},
     "nuid": "8a256bd2-5300-41e5-85b3-0f9377bd7200",
     "showTitle": false,
     "title": ""
    }
   },
   "outputs": [],
   "source": [
    "MSE_all = pd.concat([MSE_all_OLS, MSE_all_LOOCV], axis = 1)"
   ]
  },
  {
   "cell_type": "code",
   "execution_count": 0,
   "metadata": {
    "application/vnd.databricks.v1+cell": {
     "cellMetadata": {
      "byteLimit": 2048000,
      "rowLimit": 10000
     },
     "inputWidgets": {},
     "nuid": "c7e628bc-e916-4291-8d77-83ae08a3098c",
     "showTitle": false,
     "title": ""
    }
   },
   "outputs": [],
   "source": [
    "MSE_all"
   ]
  },
  {
   "cell_type": "markdown",
   "metadata": {
    "application/vnd.databricks.v1+cell": {
     "cellMetadata": {
      "byteLimit": 2048000,
      "rowLimit": 10000
     },
     "inputWidgets": {},
     "nuid": "374fc341-81b5-419a-992f-03428c940d72",
     "showTitle": false,
     "title": ""
    }
   },
   "source": [
    "We get the same result because LOOCV goes through the same n iterations of a single observations. Hence, it is not affected\n",
    "in any way by the random seed."
   ]
  },
  {
   "cell_type": "markdown",
   "metadata": {
    "application/vnd.databricks.v1+cell": {
     "cellMetadata": {
      "byteLimit": 2048000,
      "rowLimit": 10000
     },
     "inputWidgets": {},
     "nuid": "43d3d01f-e622-4e2f-aa77-d5231adad901",
     "showTitle": false,
     "title": ""
    }
   },
   "source": [
    "**e. Which of the models in (c) had the smallest LOOCV error? Is\n",
    "this what you expected? Explain your answer.**"
   ]
  },
  {
   "cell_type": "markdown",
   "metadata": {
    "application/vnd.databricks.v1+cell": {
     "cellMetadata": {
      "byteLimit": 2048000,
      "rowLimit": 10000
     },
     "inputWidgets": {},
     "nuid": "d172b00b-cf1f-419a-885c-fb94a7279730",
     "showTitle": false,
     "title": ""
    }
   },
   "source": [
    "This can be explained by the fact that by increasing the order from linear to qudratic model, we reduce the bias, without significant increase in the variance. However, as we keep increasing the order of polynomials, the variance starts to increase thereby causing an increase in the overall MSE. In other words, the quadratic model most closely\n",
    "matches the true shape of Y."
   ]
  },
  {
   "cell_type": "markdown",
   "metadata": {
    "application/vnd.databricks.v1+cell": {
     "cellMetadata": {
      "byteLimit": 2048000,
      "rowLimit": 10000
     },
     "inputWidgets": {},
     "nuid": "6aa39b53-a58a-4132-854c-4aab3feeada9",
     "showTitle": false,
     "title": ""
    }
   },
   "source": [
    "**f. Comment on the statistical signifcance of the coefcient estimates that results from ftting each of the models in (c) using\n",
    "least squares. Do these results agree with the conclusions drawn\n",
    "based on the cross-validation results?**"
   ]
  },
  {
   "cell_type": "code",
   "execution_count": 0,
   "metadata": {
    "application/vnd.databricks.v1+cell": {
     "cellMetadata": {
      "byteLimit": 2048000,
      "rowLimit": 10000
     },
     "inputWidgets": {},
     "nuid": "24c7c849-04a2-467e-b4a6-b6f2b35b0fd1",
     "showTitle": false,
     "title": ""
    }
   },
   "outputs": [],
   "source": [
    "import statsmodels.api as sm"
   ]
  },
  {
   "cell_type": "code",
   "execution_count": 0,
   "metadata": {
    "application/vnd.databricks.v1+cell": {
     "cellMetadata": {
      "byteLimit": 2048000,
      "rowLimit": 10000
     },
     "inputWidgets": {},
     "nuid": "d5d4b97c-337f-4472-8ae1-7c2be1467a3b",
     "showTitle": false,
     "title": ""
    }
   },
   "outputs": [],
   "source": [
    "for i in range(1, 5):\n",
    "    X = pd.DataFrame(x)\n",
    "    X_ = pd.DataFrame(PF(i).fit_transform(X))\n",
    "    X_.drop(columns=0, inplace=True)\n",
    "    X_ = sm.add_constant(X_)\n",
    "    Y = pd.DataFrame(y)\n",
    "    lmfit = sm.OLS(Y, X_).fit()\n",
    "    candp = pd.concat([round(lmfit.params, 4), round(lmfit.pvalues, 4)], axis = 1)\n",
    "    candp.columns = ['Coefficients', 'pvalues']\n",
    "    print(candp)\n",
    "    print(\"\\n============================\\n\")"
   ]
  },
  {
   "cell_type": "markdown",
   "metadata": {
    "application/vnd.databricks.v1+cell": {
     "cellMetadata": {
      "byteLimit": 2048000,
      "rowLimit": 10000
     },
     "inputWidgets": {},
     "nuid": "73b71755-b8c6-46c1-aefe-19286b9dfdf8",
     "showTitle": false,
     "title": ""
    }
   },
   "source": [
    "In each instance, the linear (apart from the first model) and the quadratic terms are the only statistically significant terms. For the first model, only the constant is statistically significant. This explains the large MSE, since the there is unlikely to be a substantial association between the linear term and the dependent variable due to chance alone. Both linear and quadratic terms are significant in the second model. This suggests that the quadratic model most likely closely explain the shape of the true distribution of the dependent variable (which is reflected by a significant drop in MSE over the first model). The cubic and quartic terms are not significant in the third and fourth model, which suggests that any substantial relationship between the dependent variable and the cubic and quartic terms are likely due to chance alone. This reflects in the relatively minor increase in MSE of the cubic and quartic models."
   ]
  },
  {
   "cell_type": "code",
   "execution_count": 0,
   "metadata": {
    "application/vnd.databricks.v1+cell": {
     "cellMetadata": {
      "byteLimit": 2048000,
      "rowLimit": 10000
     },
     "inputWidgets": {},
     "nuid": "ad5b364f-9f1e-4811-9220-fa8c5f437a2b",
     "showTitle": false,
     "title": ""
    }
   },
   "outputs": [],
   "source": []
  }
 ],
 "metadata": {
  "application/vnd.databricks.v1+notebook": {
   "dashboards": [],
   "language": "python",
   "notebookMetadata": {
    "pythonIndentUnit": 2
   },
   "notebookName": "Question 8 - answers",
   "widgets": {}
  }
 },
 "nbformat": 4,
 "nbformat_minor": 0
}
