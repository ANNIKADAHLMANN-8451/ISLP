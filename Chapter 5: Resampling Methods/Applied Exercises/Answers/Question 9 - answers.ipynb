{
 "cells": [
  {
   "cell_type": "markdown",
   "metadata": {
    "application/vnd.databricks.v1+cell": {
     "cellMetadata": {
      "byteLimit": 2048000,
      "rowLimit": 10000
     },
     "inputWidgets": {},
     "nuid": "35c3b6b4-b3e3-4eb3-b4dc-fd12f7318268",
     "showTitle": false,
     "title": ""
    }
   },
   "source": [
    "We will now consider the `Boston` housing data set."
   ]
  },
  {
   "cell_type": "markdown",
   "metadata": {
    "application/vnd.databricks.v1+cell": {
     "cellMetadata": {
      "byteLimit": 2048000,
      "rowLimit": 10000
     },
     "inputWidgets": {},
     "nuid": "f1d60c23-9372-4180-b140-cb9279467f93",
     "showTitle": false,
     "title": ""
    }
   },
   "source": [
    "### Preprocessing"
   ]
  },
  {
   "cell_type": "code",
   "execution_count": 0,
   "metadata": {
    "application/vnd.databricks.v1+cell": {
     "cellMetadata": {
      "byteLimit": 2048000,
      "rowLimit": 10000
     },
     "inputWidgets": {},
     "nuid": "40603645-2110-4b46-9985-f1794ce9da08",
     "showTitle": false,
     "title": ""
    }
   },
   "outputs": [],
   "source": [
    "# import relevant statistical packages\n",
    "import numpy as np\n",
    "import pandas as pd\n",
    "from statistics import stdev\n",
    "from math import sqrt"
   ]
  },
  {
   "cell_type": "code",
   "execution_count": 0,
   "metadata": {
    "application/vnd.databricks.v1+cell": {
     "cellMetadata": {
      "byteLimit": 2048000,
      "rowLimit": 10000
     },
     "inputWidgets": {},
     "nuid": "34289979-2330-4e29-a1b0-c5926b54d8c2",
     "showTitle": false,
     "title": ""
    }
   },
   "outputs": [],
   "source": [
    "# import relevant data visualisaton packages\n",
    "import matplotlib.pyplot as plt\n",
    "import seaborn as sns\n",
    "%matplotlib inline"
   ]
  },
  {
   "cell_type": "code",
   "execution_count": 0,
   "metadata": {
    "application/vnd.databricks.v1+cell": {
     "cellMetadata": {
      "byteLimit": 2048000,
      "rowLimit": 10000
     },
     "inputWidgets": {},
     "nuid": "3402374d-c93d-4171-b90e-2144e669819c",
     "showTitle": false,
     "title": ""
    }
   },
   "outputs": [],
   "source": [
    "# load and preprocess data\n",
    "url = \"abfss://training@sa8451learningdev.dfs.core.windows.net/interpretable_machine_learning/eml_data/Boston.csv\"\n",
    "Boston = spark.read.option(\"header\", \"true\").csv(url).toPandas()\n",
    "Boston.set_index(\"SlNo\", inplace=True)\n",
    "\n",
    "int_cols = ['chas', 'rad']\n",
    "float_cols = list(set(Boston.columns)-set(int_cols))\n",
    "Boston[float_cols] = Boston[float_cols].astype(float)\n",
    "Boston[int_cols] = Boston[int_cols].astype(int)"
   ]
  },
  {
   "cell_type": "code",
   "execution_count": 0,
   "metadata": {
    "application/vnd.databricks.v1+cell": {
     "cellMetadata": {
      "byteLimit": 2048000,
      "rowLimit": 10000
     },
     "inputWidgets": {},
     "nuid": "e45ee257-f463-4e78-bed8-2623b98d939c",
     "showTitle": false,
     "title": ""
    }
   },
   "outputs": [],
   "source": [
    "Boston.head()"
   ]
  },
  {
   "cell_type": "markdown",
   "metadata": {
    "application/vnd.databricks.v1+cell": {
     "cellMetadata": {
      "byteLimit": 2048000,
      "rowLimit": 10000
     },
     "inputWidgets": {},
     "nuid": "15122ef6-e675-49c2-9352-8e28a7bf3186",
     "showTitle": false,
     "title": ""
    }
   },
   "source": [
    "**a. Based on this data set, provide an estimate for the population\n",
    "mean of `medv`. Call this estimate µˆ.**"
   ]
  },
  {
   "cell_type": "code",
   "execution_count": 0,
   "metadata": {
    "application/vnd.databricks.v1+cell": {
     "cellMetadata": {
      "byteLimit": 2048000,
      "rowLimit": 10000
     },
     "inputWidgets": {},
     "nuid": "e0575110-f8e5-4bd9-abee-febb6e44dafd",
     "showTitle": false,
     "title": ""
    }
   },
   "outputs": [],
   "source": [
    "mu_hat = round(Boston.medv.mean(), 2)\n",
    "mu_hat"
   ]
  },
  {
   "cell_type": "markdown",
   "metadata": {
    "application/vnd.databricks.v1+cell": {
     "cellMetadata": {
      "byteLimit": 2048000,
      "rowLimit": 10000
     },
     "inputWidgets": {},
     "nuid": "00458ec4-fcab-49f8-86a8-42d400625412",
     "showTitle": false,
     "title": ""
    }
   },
   "source": [
    "**b. Provide an estimate of the standard error of µˆ. Interpret this\n",
    "result.**\n",
    "<br>\n",
    "*Hint: We can compute the standard error of the sample mean by\n",
    "dividing the sample standard deviation by the square root of the\n",
    "number of observations.*"
   ]
  },
  {
   "cell_type": "code",
   "execution_count": 0,
   "metadata": {
    "application/vnd.databricks.v1+cell": {
     "cellMetadata": {
      "byteLimit": 2048000,
      "rowLimit": 10000
     },
     "inputWidgets": {},
     "nuid": "37da8c0b-e414-4c5e-b8ab-aeeb0ad2d9f7",
     "showTitle": false,
     "title": ""
    }
   },
   "outputs": [],
   "source": [
    "sigma_hat = round(sqrt(Boston.medv.var()/(len(Boston.medv))), 4)\n",
    "sigma_hat"
   ]
  },
  {
   "cell_type": "code",
   "execution_count": 0,
   "metadata": {
    "application/vnd.databricks.v1+cell": {
     "cellMetadata": {
      "byteLimit": 2048000,
      "rowLimit": 10000
     },
     "inputWidgets": {},
     "nuid": "d6cad3f0-8306-47b7-9965-534f6068f0c8",
     "showTitle": false,
     "title": ""
    }
   },
   "outputs": [],
   "source": [
    "plt.xkcd()\n",
    "plt.figure(figsize = (25, 10))\n",
    "sns.distplot(Boston.medv)"
   ]
  },
  {
   "cell_type": "markdown",
   "metadata": {
    "application/vnd.databricks.v1+cell": {
     "cellMetadata": {
      "byteLimit": 2048000,
      "rowLimit": 10000
     },
     "inputWidgets": {},
     "nuid": "7d4fe942-441b-4a71-bc95-6e3839750815",
     "showTitle": false,
     "title": ""
    }
   },
   "source": [
    "**c. Now estimate the standard error of µˆ using the bootstrap. How\n",
    "does this compare to your answer from (b)?**"
   ]
  },
  {
   "cell_type": "code",
   "execution_count": 0,
   "metadata": {
    "application/vnd.databricks.v1+cell": {
     "cellMetadata": {
      "byteLimit": 2048000,
      "rowLimit": 10000
     },
     "inputWidgets": {},
     "nuid": "2a055a4a-75a0-4366-a66a-2f8461f92563",
     "showTitle": false,
     "title": ""
    }
   },
   "outputs": [],
   "source": [
    "def meanfn(data, index):\n",
    "    X = data.medv.iloc[index]\n",
    "    return round(X.mean(), 2)"
   ]
  },
  {
   "cell_type": "code",
   "execution_count": 0,
   "metadata": {
    "application/vnd.databricks.v1+cell": {
     "cellMetadata": {
      "byteLimit": 2048000,
      "rowLimit": 10000
     },
     "inputWidgets": {},
     "nuid": "bbb5b0c4-11ec-47c0-9c9b-c1247fac5bc1",
     "showTitle": false,
     "title": ""
    }
   },
   "outputs": [],
   "source": [
    "n = len(Boston.medv)\n",
    "n"
   ]
  },
  {
   "cell_type": "code",
   "execution_count": 0,
   "metadata": {
    "application/vnd.databricks.v1+cell": {
     "cellMetadata": {
      "byteLimit": 2048000,
      "rowLimit": 10000
     },
     "inputWidgets": {},
     "nuid": "4bb7d245-a671-4cc6-b615-4570597d9238",
     "showTitle": false,
     "title": ""
    }
   },
   "outputs": [],
   "source": [
    "idx = list(range(n))"
   ]
  },
  {
   "cell_type": "code",
   "execution_count": 0,
   "metadata": {
    "application/vnd.databricks.v1+cell": {
     "cellMetadata": {
      "byteLimit": 2048000,
      "rowLimit": 10000
     },
     "inputWidgets": {},
     "nuid": "e47872a5-23f8-4dd0-b7e7-2c475b29c85d",
     "showTitle": false,
     "title": ""
    }
   },
   "outputs": [],
   "source": [
    "true_mean = meanfn(Boston, idx)\n",
    "true_mean"
   ]
  },
  {
   "cell_type": "code",
   "execution_count": 0,
   "metadata": {
    "application/vnd.databricks.v1+cell": {
     "cellMetadata": {
      "byteLimit": 2048000,
      "rowLimit": 10000
     },
     "inputWidgets": {},
     "nuid": "f777273a-200f-4070-b61a-5f4c0058b80a",
     "showTitle": false,
     "title": ""
    }
   },
   "outputs": [],
   "source": [
    "from sklearn.utils import resample"
   ]
  },
  {
   "cell_type": "code",
   "execution_count": 0,
   "metadata": {
    "application/vnd.databricks.v1+cell": {
     "cellMetadata": {
      "byteLimit": 2048000,
      "rowLimit": 10000
     },
     "inputWidgets": {},
     "nuid": "ccdc7139-b523-477a-a8c7-4ab0e7884eda",
     "showTitle": false,
     "title": ""
    }
   },
   "outputs": [],
   "source": [
    "estimate_mean = pd.DataFrame()\n",
    "for i in range(n): # this is equivalent to constructing a new bootstrap data set and recomputing alpha_hat based on the new data set and generating 1,000 bootstrap estimates \n",
    "    bootstrap_estimate = meanfn(Boston, resample(idx, replace=True))\n",
    "    estimate_mean = estimate_mean.append([bootstrap_estimate])    "
   ]
  },
  {
   "cell_type": "code",
   "execution_count": 0,
   "metadata": {
    "application/vnd.databricks.v1+cell": {
     "cellMetadata": {
      "byteLimit": 2048000,
      "rowLimit": 10000
     },
     "inputWidgets": {},
     "nuid": "4790a1fc-92cc-47af-acb1-7cb595172af0",
     "showTitle": false,
     "title": ""
    }
   },
   "outputs": [],
   "source": [
    "estimate_mean.reset_index(drop=True, inplace=True)\n",
    "estimate_mean.columns = ['Mean Estimate']\n",
    "estimate_mean.head()"
   ]
  },
  {
   "cell_type": "code",
   "execution_count": 0,
   "metadata": {
    "application/vnd.databricks.v1+cell": {
     "cellMetadata": {
      "byteLimit": 2048000,
      "rowLimit": 10000
     },
     "inputWidgets": {},
     "nuid": "5f9f9af2-4588-4ee0-be4e-8e51a7dd88b0",
     "showTitle": false,
     "title": ""
    }
   },
   "outputs": [],
   "source": [
    "bootstrap_mean = round(estimate_mean['Mean Estimate'].mean(), 2)\n",
    "bootstrap_mean"
   ]
  },
  {
   "cell_type": "code",
   "execution_count": 0,
   "metadata": {
    "application/vnd.databricks.v1+cell": {
     "cellMetadata": {
      "byteLimit": 2048000,
      "rowLimit": 10000
     },
     "inputWidgets": {},
     "nuid": "12000660-128d-4a4b-939a-48c3f724573d",
     "showTitle": false,
     "title": ""
    }
   },
   "outputs": [],
   "source": [
    "len(estimate_mean)"
   ]
  },
  {
   "cell_type": "code",
   "execution_count": 0,
   "metadata": {
    "application/vnd.databricks.v1+cell": {
     "cellMetadata": {
      "byteLimit": 2048000,
      "rowLimit": 10000
     },
     "inputWidgets": {},
     "nuid": "aba86af8-9a45-4c59-a858-e351ee6cf471",
     "showTitle": false,
     "title": ""
    }
   },
   "outputs": [],
   "source": [
    "std_err = round(np.sqrt(np.sum(pow(estimate_mean - (np.sum(estimate_mean) / 506), 2))/505), 4) # check formula for standard error in page 189 of ISLR"
   ]
  },
  {
   "cell_type": "code",
   "execution_count": 0,
   "metadata": {
    "application/vnd.databricks.v1+cell": {
     "cellMetadata": {
      "byteLimit": 2048000,
      "rowLimit": 10000
     },
     "inputWidgets": {},
     "nuid": "59c517cd-04c3-43ec-82b5-2744d2c7ab31",
     "showTitle": false,
     "title": ""
    }
   },
   "outputs": [],
   "source": [
    "std_err"
   ]
  },
  {
   "cell_type": "markdown",
   "metadata": {
    "application/vnd.databricks.v1+cell": {
     "cellMetadata": {
      "byteLimit": 2048000,
      "rowLimit": 10000
     },
     "inputWidgets": {},
     "nuid": "0fe8bda9-5164-448b-9acd-d440fe5a30aa",
     "showTitle": false,
     "title": ""
    }
   },
   "source": [
    "The bootstrap estimate of the mean is 22.55 with a standard error of 0.3939. This is not too dissimilar from the \n",
    "true (population) mean and standard error of 22.53 and 0.4089 respectively."
   ]
  },
  {
   "cell_type": "markdown",
   "metadata": {
    "application/vnd.databricks.v1+cell": {
     "cellMetadata": {
      "byteLimit": 2048000,
      "rowLimit": 10000
     },
     "inputWidgets": {},
     "nuid": "3380e004-98ff-4e3b-a8ba-dcabafe62d82",
     "showTitle": false,
     "title": ""
    }
   },
   "source": [
    "**d. Based on your bootstrap estimate from (c), provide a 95 % confdence interval for the mean of `medv`. Compare it to the results\n",
    "obtained by using `Boston['medv'].std()` and the two standard\n",
    "error rule (3.9).**\n",
    "<br>\n",
    "*Hint: You can approximate a 95 % confdence interval using the\n",
    "formula [ˆµ − 2SE(ˆµ), µˆ + 2SE(ˆµ)].*"
   ]
  },
  {
   "cell_type": "markdown",
   "metadata": {
    "application/vnd.databricks.v1+cell": {
     "cellMetadata": {
      "byteLimit": 2048000,
      "rowLimit": 10000
     },
     "inputWidgets": {},
     "nuid": "bf81fa48-6ce0-4568-b574-f4666dc0278d",
     "showTitle": false,
     "title": ""
    }
   },
   "source": [
    "Bootstrap estimates"
   ]
  },
  {
   "cell_type": "code",
   "execution_count": 0,
   "metadata": {
    "application/vnd.databricks.v1+cell": {
     "cellMetadata": {
      "byteLimit": 2048000,
      "rowLimit": 10000
     },
     "inputWidgets": {},
     "nuid": "884fdf10-e1c7-4830-ad83-20b0af2d5372",
     "showTitle": false,
     "title": ""
    }
   },
   "outputs": [],
   "source": [
    "conf_int_BS = [[round(bootstrap_mean - 2 * std_err, 4), round(bootstrap_mean + 2 * std_err, 4)]]\n",
    "conf_int_BS"
   ]
  },
  {
   "cell_type": "markdown",
   "metadata": {
    "application/vnd.databricks.v1+cell": {
     "cellMetadata": {
      "byteLimit": 2048000,
      "rowLimit": 10000
     },
     "inputWidgets": {},
     "nuid": "580b2daf-dc4b-4236-9048-e89e58120faf",
     "showTitle": false,
     "title": ""
    }
   },
   "source": [
    "Population estimates"
   ]
  },
  {
   "cell_type": "code",
   "execution_count": 0,
   "metadata": {
    "application/vnd.databricks.v1+cell": {
     "cellMetadata": {
      "byteLimit": 2048000,
      "rowLimit": 10000
     },
     "inputWidgets": {},
     "nuid": "89ab995d-2827-4592-a3d3-d11517da141f",
     "showTitle": false,
     "title": ""
    }
   },
   "outputs": [],
   "source": [
    "conf_int_pop = [[round(mu_hat - 2 * sigma_hat, 4), round(mu_hat + 2 * sigma_hat, 4)]]\n",
    "conf_int_pop"
   ]
  },
  {
   "cell_type": "markdown",
   "metadata": {
    "application/vnd.databricks.v1+cell": {
     "cellMetadata": {
      "byteLimit": 2048000,
      "rowLimit": 10000
     },
     "inputWidgets": {},
     "nuid": "38c895fb-fbac-4351-b2ae-ec2eb599df44",
     "showTitle": false,
     "title": ""
    }
   },
   "source": [
    "The C.I. of the bootstrap estimates are narrower than the C.I. of the population estimates."
   ]
  },
  {
   "cell_type": "markdown",
   "metadata": {
    "application/vnd.databricks.v1+cell": {
     "cellMetadata": {
      "byteLimit": 2048000,
      "rowLimit": 10000
     },
     "inputWidgets": {},
     "nuid": "3e4dab56-0e5e-4d3b-9494-4f6f613db733",
     "showTitle": false,
     "title": ""
    }
   },
   "source": [
    "**e. Based on this data set, provide an estimate, µ_med, for the median\n",
    "value of `medv` in the population.**"
   ]
  },
  {
   "cell_type": "code",
   "execution_count": 0,
   "metadata": {
    "application/vnd.databricks.v1+cell": {
     "cellMetadata": {
      "byteLimit": 2048000,
      "rowLimit": 10000
     },
     "inputWidgets": {},
     "nuid": "2b078f91-3e07-448c-b6b5-49fabff32684",
     "showTitle": false,
     "title": ""
    }
   },
   "outputs": [],
   "source": [
    "mu_med = Boston.medv.median()\n",
    "mu_med"
   ]
  },
  {
   "cell_type": "markdown",
   "metadata": {
    "application/vnd.databricks.v1+cell": {
     "cellMetadata": {
      "byteLimit": 2048000,
      "rowLimit": 10000
     },
     "inputWidgets": {},
     "nuid": "0ffa7287-2356-42bf-847e-0cbf0df19a06",
     "showTitle": false,
     "title": ""
    }
   },
   "source": [
    "**f. We now would like to estimate the standard error of µˆ_med. Unfortunately, there is no simple formula for computing the standard\n",
    "error of the median. Instead, estimate the standard error of the\n",
    "median using the bootstrap. Comment on your fndings.**"
   ]
  },
  {
   "cell_type": "code",
   "execution_count": 0,
   "metadata": {
    "application/vnd.databricks.v1+cell": {
     "cellMetadata": {
      "byteLimit": 2048000,
      "rowLimit": 10000
     },
     "inputWidgets": {},
     "nuid": "5ea81adb-85f3-4009-a534-bafdd8129b13",
     "showTitle": false,
     "title": ""
    }
   },
   "outputs": [],
   "source": [
    "def medfn(data, index):\n",
    "    X = data.medv.iloc[index]\n",
    "    return round(X.median(), 2)"
   ]
  },
  {
   "cell_type": "code",
   "execution_count": 0,
   "metadata": {
    "application/vnd.databricks.v1+cell": {
     "cellMetadata": {
      "byteLimit": 2048000,
      "rowLimit": 10000
     },
     "inputWidgets": {},
     "nuid": "f10ba38e-5a40-4bbf-aa03-85e48462933d",
     "showTitle": false,
     "title": ""
    }
   },
   "outputs": [],
   "source": [
    "n = len(Boston.medv)\n",
    "n"
   ]
  },
  {
   "cell_type": "code",
   "execution_count": 0,
   "metadata": {
    "application/vnd.databricks.v1+cell": {
     "cellMetadata": {
      "byteLimit": 2048000,
      "rowLimit": 10000
     },
     "inputWidgets": {},
     "nuid": "a59dc817-d129-44b7-a527-d6e409fba82b",
     "showTitle": false,
     "title": ""
    }
   },
   "outputs": [],
   "source": [
    "idx = list(range(n))"
   ]
  },
  {
   "cell_type": "code",
   "execution_count": 0,
   "metadata": {
    "application/vnd.databricks.v1+cell": {
     "cellMetadata": {
      "byteLimit": 2048000,
      "rowLimit": 10000
     },
     "inputWidgets": {},
     "nuid": "ba419512-c789-4ada-8e79-f0c55011fb28",
     "showTitle": false,
     "title": ""
    }
   },
   "outputs": [],
   "source": [
    "true_med = medfn(Boston, idx)\n",
    "true_med"
   ]
  },
  {
   "cell_type": "code",
   "execution_count": 0,
   "metadata": {
    "application/vnd.databricks.v1+cell": {
     "cellMetadata": {
      "byteLimit": 2048000,
      "rowLimit": 10000
     },
     "inputWidgets": {},
     "nuid": "3f3f444e-a074-4768-89ed-9e850ffdfd5c",
     "showTitle": false,
     "title": ""
    }
   },
   "outputs": [],
   "source": [
    "from sklearn.utils import resample"
   ]
  },
  {
   "cell_type": "code",
   "execution_count": 0,
   "metadata": {
    "application/vnd.databricks.v1+cell": {
     "cellMetadata": {
      "byteLimit": 2048000,
      "rowLimit": 10000
     },
     "inputWidgets": {},
     "nuid": "e98a9356-4fd7-48ce-a450-a14b6be890df",
     "showTitle": false,
     "title": ""
    }
   },
   "outputs": [],
   "source": [
    "estimate_med = pd.DataFrame()\n",
    "for i in range(n): # this is equivalent to constructing a new bootstrap data set and recomputing alpha_hat based on the new data set and generating 1,000 bootstrap estimates \n",
    "    bootstrap_estimate = medfn(Boston, resample(idx, replace=True))\n",
    "    estimate_med = estimate_med.append([bootstrap_estimate])    "
   ]
  },
  {
   "cell_type": "code",
   "execution_count": 0,
   "metadata": {
    "application/vnd.databricks.v1+cell": {
     "cellMetadata": {
      "byteLimit": 2048000,
      "rowLimit": 10000
     },
     "inputWidgets": {},
     "nuid": "26458860-c50e-4094-b477-018f2bf04c98",
     "showTitle": false,
     "title": ""
    }
   },
   "outputs": [],
   "source": [
    "estimate_med.reset_index(drop=True, inplace=True)\n",
    "estimate_med.columns = ['Median Estimate']\n",
    "estimate_med.head()"
   ]
  },
  {
   "cell_type": "code",
   "execution_count": 0,
   "metadata": {
    "application/vnd.databricks.v1+cell": {
     "cellMetadata": {
      "byteLimit": 2048000,
      "rowLimit": 10000
     },
     "inputWidgets": {},
     "nuid": "bff38942-e23f-4961-8525-c8fd7ad1b887",
     "showTitle": false,
     "title": ""
    }
   },
   "outputs": [],
   "source": [
    "std_err = round(np.sqrt(np.sum(pow(estimate_med - (np.sum(estimate_med) / 506), 2))/505), 4) # check formula for standard error in page 189 of ISLR"
   ]
  },
  {
   "cell_type": "code",
   "execution_count": 0,
   "metadata": {
    "application/vnd.databricks.v1+cell": {
     "cellMetadata": {
      "byteLimit": 2048000,
      "rowLimit": 10000
     },
     "inputWidgets": {},
     "nuid": "350ea657-1920-4ab2-8d12-b6a078f24075",
     "showTitle": false,
     "title": ""
    }
   },
   "outputs": [],
   "source": [
    "std_err"
   ]
  },
  {
   "cell_type": "markdown",
   "metadata": {
    "application/vnd.databricks.v1+cell": {
     "cellMetadata": {
      "byteLimit": 2048000,
      "rowLimit": 10000
     },
     "inputWidgets": {},
     "nuid": "af4fcfd1-afed-40a2-a481-1218966a15b7",
     "showTitle": false,
     "title": ""
    }
   },
   "source": [
    "Therefore, the median and standard error using bootstrap are 21.2 and 0.3731 respectively. The standard error is small\n",
    "relative to the the median."
   ]
  },
  {
   "cell_type": "markdown",
   "metadata": {
    "application/vnd.databricks.v1+cell": {
     "cellMetadata": {
      "byteLimit": 2048000,
      "rowLimit": 10000
     },
     "inputWidgets": {},
     "nuid": "2a2b2b22-fdcf-4586-bf05-81f27ab4ce17",
     "showTitle": false,
     "title": ""
    }
   },
   "source": [
    "**g. Based on this data set, provide an estimate for the tenth percentile of `medv` in Boston census tracts. Call this quantity µˆ0.1.\n",
    "(You can use the `np.percentile()` function.)**"
   ]
  },
  {
   "cell_type": "code",
   "execution_count": 0,
   "metadata": {
    "application/vnd.databricks.v1+cell": {
     "cellMetadata": {
      "byteLimit": 2048000,
      "rowLimit": 10000
     },
     "inputWidgets": {},
     "nuid": "4561024b-9ca0-467d-94d8-237a5e24698d",
     "showTitle": false,
     "title": ""
    }
   },
   "outputs": [],
   "source": [
    "mu_01 = Boston.medv.quantile(0.1)\n",
    "mu_01"
   ]
  },
  {
   "cell_type": "markdown",
   "metadata": {
    "application/vnd.databricks.v1+cell": {
     "cellMetadata": {
      "byteLimit": 2048000,
      "rowLimit": 10000
     },
     "inputWidgets": {},
     "nuid": "33331328-fd62-426d-a3e1-85c49a9d8722",
     "showTitle": false,
     "title": ""
    }
   },
   "source": [
    "**h. Use the bootstrap to estimate the standard error of µˆ0.1. Comment on your fndings.**"
   ]
  },
  {
   "cell_type": "code",
   "execution_count": 0,
   "metadata": {
    "application/vnd.databricks.v1+cell": {
     "cellMetadata": {
      "byteLimit": 2048000,
      "rowLimit": 10000
     },
     "inputWidgets": {},
     "nuid": "7e1e2deb-816d-4eff-a7f5-e62fbdf3e5ae",
     "showTitle": false,
     "title": ""
    }
   },
   "outputs": [],
   "source": [
    "def perc01fn(data, index):\n",
    "    X = data.medv.iloc[index]\n",
    "    return round(X.quantile(0.1), 2)"
   ]
  },
  {
   "cell_type": "code",
   "execution_count": 0,
   "metadata": {
    "application/vnd.databricks.v1+cell": {
     "cellMetadata": {
      "byteLimit": 2048000,
      "rowLimit": 10000
     },
     "inputWidgets": {},
     "nuid": "ef9da496-0a74-4855-b5c8-3dc5a895fba4",
     "showTitle": false,
     "title": ""
    }
   },
   "outputs": [],
   "source": [
    "n = len(Boston.medv)\n",
    "n"
   ]
  },
  {
   "cell_type": "code",
   "execution_count": 0,
   "metadata": {
    "application/vnd.databricks.v1+cell": {
     "cellMetadata": {
      "byteLimit": 2048000,
      "rowLimit": 10000
     },
     "inputWidgets": {},
     "nuid": "091e4a49-f653-48fd-9931-da246cbe5273",
     "showTitle": false,
     "title": ""
    }
   },
   "outputs": [],
   "source": [
    "idx = list(range(n))"
   ]
  },
  {
   "cell_type": "code",
   "execution_count": 0,
   "metadata": {
    "application/vnd.databricks.v1+cell": {
     "cellMetadata": {
      "byteLimit": 2048000,
      "rowLimit": 10000
     },
     "inputWidgets": {},
     "nuid": "49619579-eb0b-4b9f-959a-4d1a950f80f3",
     "showTitle": false,
     "title": ""
    }
   },
   "outputs": [],
   "source": [
    "true_perc01 = perc01fn(Boston, idx)\n",
    "true_perc01"
   ]
  },
  {
   "cell_type": "code",
   "execution_count": 0,
   "metadata": {
    "application/vnd.databricks.v1+cell": {
     "cellMetadata": {
      "byteLimit": 2048000,
      "rowLimit": 10000
     },
     "inputWidgets": {},
     "nuid": "7c532989-eb89-4a60-a350-a716eed2016d",
     "showTitle": false,
     "title": ""
    }
   },
   "outputs": [],
   "source": [
    "from sklearn.utils import resample"
   ]
  },
  {
   "cell_type": "code",
   "execution_count": 0,
   "metadata": {
    "application/vnd.databricks.v1+cell": {
     "cellMetadata": {
      "byteLimit": 2048000,
      "rowLimit": 10000
     },
     "inputWidgets": {},
     "nuid": "a960420a-babc-4c3c-a683-fff592af675c",
     "showTitle": false,
     "title": ""
    }
   },
   "outputs": [],
   "source": [
    "estimate_perc01 = pd.DataFrame()\n",
    "for i in range(n): # this is equivalent to constructing a new bootstrap data set and recomputing alpha_hat based on the new data set and generating 1,000 bootstrap estimates \n",
    "    bootstrap_estimate = perc01fn(Boston, resample(idx, replace=True))\n",
    "    estimate_perc01 = estimate_perc01.append([bootstrap_estimate])    "
   ]
  },
  {
   "cell_type": "code",
   "execution_count": 0,
   "metadata": {
    "application/vnd.databricks.v1+cell": {
     "cellMetadata": {
      "byteLimit": 2048000,
      "rowLimit": 10000
     },
     "inputWidgets": {},
     "nuid": "ef66eed1-9de6-45eb-8aa5-690dff3a2ca9",
     "showTitle": false,
     "title": ""
    }
   },
   "outputs": [],
   "source": [
    "estimate_perc01.reset_index(drop=True, inplace=True)\n",
    "estimate_perc01.columns = ['10th-percentile Estimate']\n",
    "estimate_perc01.head()"
   ]
  },
  {
   "cell_type": "code",
   "execution_count": 0,
   "metadata": {
    "application/vnd.databricks.v1+cell": {
     "cellMetadata": {
      "byteLimit": 2048000,
      "rowLimit": 10000
     },
     "inputWidgets": {},
     "nuid": "380cab9a-5f1e-4403-92be-880728b498d5",
     "showTitle": false,
     "title": ""
    }
   },
   "outputs": [],
   "source": [
    "std_err = round(np.sqrt(np.sum(pow(estimate_perc01 - (np.sum(estimate_perc01) / 506), 2))/505), 4) # check formula for standard error in page 189 of ISLR"
   ]
  },
  {
   "cell_type": "code",
   "execution_count": 0,
   "metadata": {
    "application/vnd.databricks.v1+cell": {
     "cellMetadata": {
      "byteLimit": 2048000,
      "rowLimit": 10000
     },
     "inputWidgets": {},
     "nuid": "2eb83eb5-4185-4127-97c8-2bd885f2496e",
     "showTitle": false,
     "title": ""
    }
   },
   "outputs": [],
   "source": [
    "std_err"
   ]
  },
  {
   "cell_type": "markdown",
   "metadata": {
    "application/vnd.databricks.v1+cell": {
     "cellMetadata": {
      "byteLimit": 2048000,
      "rowLimit": 10000
     },
     "inputWidgets": {},
     "nuid": "09e17703-6b2d-48f0-baa1-201dd0712a4e",
     "showTitle": false,
     "title": ""
    }
   },
   "source": [
    "Therefore, the median and standard error using bootstrap are 12.75 and 0.4994 respectively. The standard error is small\n",
    "relative to the the median."
   ]
  }
 ],
 "metadata": {
  "application/vnd.databricks.v1+notebook": {
   "dashboards": [],
   "language": "python",
   "notebookMetadata": {
    "pythonIndentUnit": 2
   },
   "notebookName": "Question 9 - answers",
   "widgets": {}
  }
 },
 "nbformat": 4,
 "nbformat_minor": 0
}
