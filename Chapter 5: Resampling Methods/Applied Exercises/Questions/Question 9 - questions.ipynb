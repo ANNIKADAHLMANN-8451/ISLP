{
 "cells": [
  {
   "cell_type": "markdown",
   "metadata": {
    "application/vnd.databricks.v1+cell": {
     "cellMetadata": {
      "byteLimit": 2048000,
      "rowLimit": 10000
     },
     "inputWidgets": {},
     "nuid": "b21a5811-5443-40f5-b1f9-1c44b3b15acf",
     "showTitle": false,
     "title": ""
    }
   },
   "source": [
    "We will now consider the `Boston` housing data set."
   ]
  },
  {
   "cell_type": "markdown",
   "metadata": {
    "application/vnd.databricks.v1+cell": {
     "cellMetadata": {
      "byteLimit": 2048000,
      "rowLimit": 10000
     },
     "inputWidgets": {},
     "nuid": "f893cb88-f6a0-40fa-8942-72ead14e9c83",
     "showTitle": false,
     "title": ""
    }
   },
   "source": [
    "### Preprocessing"
   ]
  },
  {
   "cell_type": "code",
   "execution_count": 0,
   "metadata": {
    "application/vnd.databricks.v1+cell": {
     "cellMetadata": {
      "byteLimit": 2048000,
      "rowLimit": 10000
     },
     "inputWidgets": {},
     "nuid": "505d26df-88db-4a1d-a48a-46d94cd1b3b5",
     "showTitle": false,
     "title": ""
    }
   },
   "outputs": [],
   "source": [
    "# import relevant statistical packages\n",
    "import numpy as np\n",
    "import pandas as pd\n",
    "from statistics import stdev\n",
    "from math import sqrt"
   ]
  },
  {
   "cell_type": "code",
   "execution_count": 0,
   "metadata": {
    "application/vnd.databricks.v1+cell": {
     "cellMetadata": {
      "byteLimit": 2048000,
      "rowLimit": 10000
     },
     "inputWidgets": {},
     "nuid": "5c7a8a13-659e-4744-ac37-a2cb5874f338",
     "showTitle": false,
     "title": ""
    }
   },
   "outputs": [],
   "source": [
    "# import relevant data visualisaton packages\n",
    "import matplotlib.pyplot as plt\n",
    "import seaborn as sns\n",
    "%matplotlib inline"
   ]
  },
  {
   "cell_type": "code",
   "execution_count": 0,
   "metadata": {
    "application/vnd.databricks.v1+cell": {
     "cellMetadata": {
      "byteLimit": 2048000,
      "rowLimit": 10000
     },
     "inputWidgets": {},
     "nuid": "2dc06713-224f-4a53-bb78-923f0099bbec",
     "showTitle": false,
     "title": ""
    }
   },
   "outputs": [],
   "source": [
    "# load and preprocess data\n",
    "url = \"abfss://training@sa8451learningdev.dfs.core.windows.net/interpretable_machine_learning/eml_data/Boston.csv\"\n",
    "Boston = spark.read.option(\"header\", \"true\").csv(url).toPandas()\n",
    "Boston.set_index(\"SlNo\", inplace=True)\n",
    "\n",
    "int_cols = ['chas', 'rad']\n",
    "float_cols = list(set(Boston.columns)-set(int_cols))\n",
    "Boston[float_cols] = Boston[float_cols].astype(float)\n",
    "Boston[int_cols] = Boston[int_cols].astype(int)"
   ]
  },
  {
   "cell_type": "code",
   "execution_count": 0,
   "metadata": {
    "application/vnd.databricks.v1+cell": {
     "cellMetadata": {
      "byteLimit": 2048000,
      "rowLimit": 10000
     },
     "inputWidgets": {},
     "nuid": "48427625-1e6c-4828-9afc-e36ff5fcbae2",
     "showTitle": false,
     "title": ""
    }
   },
   "outputs": [],
   "source": [
    "Boston.head()"
   ]
  },
  {
   "cell_type": "markdown",
   "metadata": {
    "application/vnd.databricks.v1+cell": {
     "cellMetadata": {
      "byteLimit": 2048000,
      "rowLimit": 10000
     },
     "inputWidgets": {},
     "nuid": "f37cca69-96f9-49d0-92bf-91aabbdd3c37",
     "showTitle": false,
     "title": ""
    }
   },
   "source": [
    "**a. Based on this data set, provide an estimate for the population\n",
    "mean of `medv`. Call this estimate µˆ.**"
   ]
  },
  {
   "cell_type": "code",
   "execution_count": 0,
   "metadata": {
    "application/vnd.databricks.v1+cell": {
     "cellMetadata": {
      "byteLimit": 2048000,
      "rowLimit": 10000
     },
     "inputWidgets": {},
     "nuid": "6adb214a-3d74-4394-b4f9-637d87b894c3",
     "showTitle": false,
     "title": ""
    }
   },
   "outputs": [],
   "source": [
    "# TODO: your response here"
   ]
  },
  {
   "cell_type": "markdown",
   "metadata": {
    "application/vnd.databricks.v1+cell": {
     "cellMetadata": {
      "byteLimit": 2048000,
      "rowLimit": 10000
     },
     "inputWidgets": {},
     "nuid": "a7f59918-9828-4a87-b44d-be9ba74108ed",
     "showTitle": false,
     "title": ""
    }
   },
   "source": [
    "**Provide an estimate of the standard error of µˆ. Interpret this\n",
    "result.**\n",
    "<br>\n",
    "*Hint: We can compute the standard error of the sample mean by\n",
    "dividing the sample standard deviation by the square root of the\n",
    "number of observations.*"
   ]
  },
  {
   "cell_type": "code",
   "execution_count": 0,
   "metadata": {
    "application/vnd.databricks.v1+cell": {
     "cellMetadata": {
      "byteLimit": 2048000,
      "rowLimit": 10000
     },
     "inputWidgets": {},
     "nuid": "ab14d21d-4317-440a-8156-f2274443c85c",
     "showTitle": false,
     "title": ""
    }
   },
   "outputs": [],
   "source": [
    "# TODO: your response here"
   ]
  },
  {
   "cell_type": "markdown",
   "metadata": {
    "application/vnd.databricks.v1+cell": {
     "cellMetadata": {
      "byteLimit": 2048000,
      "rowLimit": 10000
     },
     "inputWidgets": {},
     "nuid": "9a99ec8d-9c3d-4a1f-a236-9a5033fb6294",
     "showTitle": false,
     "title": ""
    }
   },
   "source": [
    "**c. Now estimate the standard error of µˆ using the bootstrap. How\n",
    "does this compare to your answer from (b)?**"
   ]
  },
  {
   "cell_type": "code",
   "execution_count": 0,
   "metadata": {
    "application/vnd.databricks.v1+cell": {
     "cellMetadata": {
      "byteLimit": 2048000,
      "rowLimit": 10000
     },
     "inputWidgets": {},
     "nuid": "4d57eb1e-5b92-4cbf-91bf-e13ee93908d1",
     "showTitle": false,
     "title": ""
    }
   },
   "outputs": [],
   "source": [
    "# TODO: your response here"
   ]
  },
  {
   "cell_type": "markdown",
   "metadata": {
    "application/vnd.databricks.v1+cell": {
     "cellMetadata": {
      "byteLimit": 2048000,
      "rowLimit": 10000
     },
     "inputWidgets": {},
     "nuid": "26eded2f-7e46-4ae0-94b9-1df44788497f",
     "showTitle": false,
     "title": ""
    }
   },
   "source": [
    "**d. Based on your bootstrap estimate from (c), provide a 95 % confdence interval for the mean of `medv`. Compare it to the results\n",
    "obtained by using `Boston['medv'].std()` and the two standard\n",
    "error rule (3.9).**\n",
    "<br>\n",
    "*Hint: You can approximate a 95 % confdence interval using the\n",
    "formula [ˆµ − 2SE(ˆµ), µˆ + 2SE(ˆµ)].*"
   ]
  },
  {
   "cell_type": "code",
   "execution_count": 0,
   "metadata": {
    "application/vnd.databricks.v1+cell": {
     "cellMetadata": {
      "byteLimit": 2048000,
      "rowLimit": 10000
     },
     "inputWidgets": {},
     "nuid": "e77f03a5-c73e-42ef-82f3-7367c14737cc",
     "showTitle": false,
     "title": ""
    }
   },
   "outputs": [],
   "source": [
    "# TODO: your response here"
   ]
  },
  {
   "cell_type": "markdown",
   "metadata": {
    "application/vnd.databricks.v1+cell": {
     "cellMetadata": {
      "byteLimit": 2048000,
      "rowLimit": 10000
     },
     "inputWidgets": {},
     "nuid": "c3a0734b-a349-4528-a629-357bf5674350",
     "showTitle": false,
     "title": ""
    }
   },
   "source": [
    "**e. Based on this data set, provide an estimate, µ_med, for the median\n",
    "value of `medv` in the population.**"
   ]
  },
  {
   "cell_type": "code",
   "execution_count": 0,
   "metadata": {
    "application/vnd.databricks.v1+cell": {
     "cellMetadata": {
      "byteLimit": 2048000,
      "rowLimit": 10000
     },
     "inputWidgets": {},
     "nuid": "11e3cdcd-9f21-4bde-b0aa-78bca83694ea",
     "showTitle": false,
     "title": ""
    }
   },
   "outputs": [],
   "source": [
    "# TODO: your response here"
   ]
  },
  {
   "cell_type": "markdown",
   "metadata": {
    "application/vnd.databricks.v1+cell": {
     "cellMetadata": {
      "byteLimit": 2048000,
      "rowLimit": 10000
     },
     "inputWidgets": {},
     "nuid": "111e6ad7-8edd-4fb6-b4b6-b422f811db35",
     "showTitle": false,
     "title": ""
    }
   },
   "source": [
    "**f. We now would like to estimate the standard error of µˆ_med. Unfortunately, there is no simple formula for computing the standard\n",
    "error of the median. Instead, estimate the standard error of the\n",
    "median using the bootstrap. Comment on your fndings.**"
   ]
  },
  {
   "cell_type": "code",
   "execution_count": 0,
   "metadata": {
    "application/vnd.databricks.v1+cell": {
     "cellMetadata": {
      "byteLimit": 2048000,
      "rowLimit": 10000
     },
     "inputWidgets": {},
     "nuid": "3dfe6f12-be95-4e1c-b505-2dfbfe2ac730",
     "showTitle": false,
     "title": ""
    }
   },
   "outputs": [],
   "source": [
    "# TODO: your response here"
   ]
  },
  {
   "cell_type": "markdown",
   "metadata": {
    "application/vnd.databricks.v1+cell": {
     "cellMetadata": {
      "byteLimit": 2048000,
      "rowLimit": 10000
     },
     "inputWidgets": {},
     "nuid": "ef1d6ad0-f9ed-41af-bcf4-cd39d22968ce",
     "showTitle": false,
     "title": ""
    }
   },
   "source": [
    "**g. Based on this data set, provide an estimate for the tenth percentile of `medv` in Boston census tracts. Call this quantity µˆ0.1.\n",
    "(You can use the `np.percentile()` function.)**"
   ]
  },
  {
   "cell_type": "code",
   "execution_count": 0,
   "metadata": {
    "application/vnd.databricks.v1+cell": {
     "cellMetadata": {
      "byteLimit": 2048000,
      "rowLimit": 10000
     },
     "inputWidgets": {},
     "nuid": "a8ec5a4a-0444-4f8b-87c5-30522f436aab",
     "showTitle": false,
     "title": ""
    }
   },
   "outputs": [],
   "source": [
    "# TODO: your response here"
   ]
  },
  {
   "cell_type": "markdown",
   "metadata": {
    "application/vnd.databricks.v1+cell": {
     "cellMetadata": {
      "byteLimit": 2048000,
      "rowLimit": 10000
     },
     "inputWidgets": {},
     "nuid": "495230a6-7647-4950-8a6f-bcc6682539c0",
     "showTitle": false,
     "title": ""
    }
   },
   "source": [
    "**h. Use the bootstrap to estimate the standard error of µˆ0.1. Comment on your fndings.**"
   ]
  },
  {
   "cell_type": "code",
   "execution_count": 0,
   "metadata": {
    "application/vnd.databricks.v1+cell": {
     "cellMetadata": {
      "byteLimit": 2048000,
      "rowLimit": 10000
     },
     "inputWidgets": {},
     "nuid": "22fdd38a-cc5f-442a-90a5-598a2079f8a2",
     "showTitle": false,
     "title": ""
    }
   },
   "outputs": [],
   "source": [
    "# TODO: your response here"
   ]
  }
 ],
 "metadata": {
  "application/vnd.databricks.v1+notebook": {
   "dashboards": [],
   "language": "python",
   "notebookMetadata": {
    "pythonIndentUnit": 2
   },
   "notebookName": "Question 9 - questions",
   "widgets": {}
  }
 },
 "nbformat": 4,
 "nbformat_minor": 0
}
