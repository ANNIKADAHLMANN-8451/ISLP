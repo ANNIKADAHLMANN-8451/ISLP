{
 "cells": [
  {
   "cell_type": "markdown",
   "metadata": {
    "application/vnd.databricks.v1+cell": {
     "cellMetadata": {
      "byteLimit": 2048000,
      "rowLimit": 10000
     },
     "inputWidgets": {},
     "nuid": "f3bc1d48-8fa4-46f1-9de0-59f618ae21a6",
     "showTitle": false,
     "title": ""
    }
   },
   "source": [
    "### Preprocessing"
   ]
  },
  {
   "cell_type": "code",
   "execution_count": 0,
   "metadata": {
    "application/vnd.databricks.v1+cell": {
     "cellMetadata": {
      "byteLimit": 2048000,
      "rowLimit": 10000
     },
     "inputWidgets": {},
     "nuid": "ad5f34d5-9369-4f53-875d-8bfb1737ffc4",
     "showTitle": false,
     "title": ""
    }
   },
   "outputs": [],
   "source": [
    "# import relevant statistical packages\n",
    "import numpy as np\n",
    "import pandas as pd"
   ]
  },
  {
   "cell_type": "code",
   "execution_count": 0,
   "metadata": {
    "application/vnd.databricks.v1+cell": {
     "cellMetadata": {
      "byteLimit": 2048000,
      "rowLimit": 10000
     },
     "inputWidgets": {},
     "nuid": "2e342e0b-0961-453d-8521-d8d877171e6b",
     "showTitle": false,
     "title": ""
    }
   },
   "outputs": [],
   "source": [
    "# import relevant data visualisation packages\n",
    "import matplotlib.pyplot as plt\n",
    "import seaborn as sns\n",
    "%matplotlib inline"
   ]
  },
  {
   "cell_type": "code",
   "execution_count": 0,
   "metadata": {
    "application/vnd.databricks.v1+cell": {
     "cellMetadata": {
      "byteLimit": 2048000,
      "rowLimit": 10000
     },
     "inputWidgets": {},
     "nuid": "6bf649af-f127-4869-9b5f-7e5749ec1efb",
     "showTitle": false,
     "title": ""
    }
   },
   "outputs": [],
   "source": [
    "from sklearn.model_selection import train_test_split"
   ]
  },
  {
   "cell_type": "code",
   "execution_count": 0,
   "metadata": {
    "application/vnd.databricks.v1+cell": {
     "cellMetadata": {
      "byteLimit": 2048000,
      "rowLimit": 10000
     },
     "inputWidgets": {},
     "nuid": "b9b14bee-fccf-4352-bc8b-ee730ac501b0",
     "showTitle": false,
     "title": ""
    }
   },
   "outputs": [],
   "source": [
    "# import and preprocess data\n",
    "url = \"abfss://training@sa8451learningdev.dfs.core.windows.net/interpretable_machine_learning/eml_data/Auto.csv\"\n",
    "df = spark.read.option(\"header\", \"true\").csv(url).toPandas()\n",
    "\n",
    "str_cols = [\"name\"]\n",
    "num_cols = list(set(df.columns) - set(str_cols))\n",
    "df[str_cols] = df[str_cols].astype(str)\n",
    "df[num_cols] = df[num_cols].astype(float)"
   ]
  },
  {
   "cell_type": "code",
   "execution_count": 0,
   "metadata": {
    "application/vnd.databricks.v1+cell": {
     "cellMetadata": {
      "byteLimit": 2048000,
      "rowLimit": 10000
     },
     "inputWidgets": {},
     "nuid": "f0695b5b-ab1a-4644-ba09-e6443460dc11",
     "showTitle": false,
     "title": ""
    }
   },
   "outputs": [],
   "source": [
    "df.head()"
   ]
  },
  {
   "cell_type": "markdown",
   "metadata": {
    "application/vnd.databricks.v1+cell": {
     "cellMetadata": {
      "byteLimit": 2048000,
      "rowLimit": 10000
     },
     "inputWidgets": {},
     "nuid": "8e2ceed1-f924-4b77-af8f-8712bbcaecd5",
     "showTitle": false,
     "title": ""
    }
   },
   "source": [
    "### k-Fold Cross-Validation"
   ]
  },
  {
   "cell_type": "code",
   "execution_count": 0,
   "metadata": {
    "application/vnd.databricks.v1+cell": {
     "cellMetadata": {
      "byteLimit": 2048000,
      "rowLimit": 10000
     },
     "inputWidgets": {},
     "nuid": "db71e7d3-84a9-4dfa-b863-be439f40a206",
     "showTitle": false,
     "title": ""
    }
   },
   "outputs": [],
   "source": [
    "from sklearn.model_selection import KFold as KF"
   ]
  },
  {
   "cell_type": "code",
   "execution_count": 0,
   "metadata": {
    "application/vnd.databricks.v1+cell": {
     "cellMetadata": {
      "byteLimit": 2048000,
      "rowLimit": 10000
     },
     "inputWidgets": {},
     "nuid": "639d1f86-f4bb-4df0-8d6c-a4fe46f5dae4",
     "showTitle": false,
     "title": ""
    }
   },
   "outputs": [],
   "source": [
    "kf = KF(n_splits=10) # k = 10"
   ]
  },
  {
   "cell_type": "code",
   "execution_count": 0,
   "metadata": {
    "application/vnd.databricks.v1+cell": {
     "cellMetadata": {
      "byteLimit": 2048000,
      "rowLimit": 10000
     },
     "inputWidgets": {},
     "nuid": "1faae257-33a4-4b6f-8a45-a0f4b5d9a483",
     "showTitle": false,
     "title": ""
    }
   },
   "outputs": [],
   "source": [
    "from sklearn.linear_model import LinearRegression\n",
    "from sklearn.metrics import mean_squared_error"
   ]
  },
  {
   "cell_type": "code",
   "execution_count": 0,
   "metadata": {
    "application/vnd.databricks.v1+cell": {
     "cellMetadata": {
      "byteLimit": 2048000,
      "rowLimit": 10000
     },
     "inputWidgets": {},
     "nuid": "1a95fd97-aa6e-4414-86bd-aba5a2df2b31",
     "showTitle": false,
     "title": ""
    }
   },
   "outputs": [],
   "source": [
    "MSE_all = pd.DataFrame()"
   ]
  },
  {
   "cell_type": "code",
   "execution_count": 0,
   "metadata": {
    "application/vnd.databricks.v1+cell": {
     "cellMetadata": {
      "byteLimit": 2048000,
      "rowLimit": 10000
     },
     "inputWidgets": {},
     "nuid": "d20b40b8-5c41-43fb-9bdf-cc885877caec",
     "showTitle": false,
     "title": ""
    }
   },
   "outputs": [],
   "source": [
    "from sklearn.preprocessing import PolynomialFeatures as PF"
   ]
  },
  {
   "cell_type": "code",
   "execution_count": 0,
   "metadata": {
    "application/vnd.databricks.v1+cell": {
     "cellMetadata": {
      "byteLimit": 2048000,
      "rowLimit": 10000
     },
     "inputWidgets": {},
     "nuid": "b5d2db0e-968c-4080-8be2-b93b1b99fdca",
     "showTitle": false,
     "title": ""
    }
   },
   "outputs": [],
   "source": [
    "for i in range(1,11):\n",
    "    MSE = 0\n",
    "    X = df[['horsepower']]\n",
    "    X_ = pd.DataFrame(PF(i).fit_transform(X))\n",
    "    X_.drop(columns=0, inplace=True)\n",
    "    y = df[['mpg']]\n",
    "    for train_index, test_index in kf.split(X):\n",
    "        X_train, X_test = X_.iloc[train_index], X_.iloc[test_index]\n",
    "        y_train, y_test = y.iloc[train_index], y.iloc[test_index]\n",
    "        lmfit = LinearRegression().fit(X_train, y_train)\n",
    "        lmpred = lmfit.predict(X_test)\n",
    "        MSE += mean_squared_error(y_test, lmpred)\n",
    "    MSE_mean = MSE/10\n",
    "    MSE_all = MSE_all.append([MSE_mean])"
   ]
  },
  {
   "cell_type": "code",
   "execution_count": 0,
   "metadata": {
    "application/vnd.databricks.v1+cell": {
     "cellMetadata": {
      "byteLimit": 2048000,
      "rowLimit": 10000
     },
     "inputWidgets": {},
     "nuid": "1ebd5295-73da-49d2-a367-27f2422e1979",
     "showTitle": false,
     "title": ""
    }
   },
   "outputs": [],
   "source": [
    "MSE_all.columns = [['MSE']]\n",
    "MSE_all.reset_index(drop=True, inplace=True)\n",
    "round(MSE_all, 2)"
   ]
  },
  {
   "cell_type": "code",
   "execution_count": 0,
   "metadata": {
    "application/vnd.databricks.v1+cell": {
     "cellMetadata": {
      "byteLimit": 2048000,
      "rowLimit": 10000
     },
     "inputWidgets": {},
     "nuid": "44c8e674-8f90-483e-a914-aed7d691b79f",
     "showTitle": false,
     "title": ""
    }
   },
   "outputs": [],
   "source": [
    "plt.xkcd()\n",
    "plt.figure(figsize = (25, 10))\n",
    "plt.plot(MSE_all, color='green', marker='o', linestyle='dashed',\n",
    "        linewidth=2, markersize=12, markerfacecolor = 'orange')\n",
    "plt.title(\"MSE vs order of regression\")\n",
    "plt.xlabel(\"order\")\n",
    "plt.ylabel(\"MSE\")"
   ]
  },
  {
   "cell_type": "markdown",
   "metadata": {
    "application/vnd.databricks.v1+cell": {
     "cellMetadata": {
      "byteLimit": 2048000,
      "rowLimit": 10000
     },
     "inputWidgets": {},
     "nuid": "dd8fbb0a-91dd-4e59-afb7-c2f5e45122c2",
     "showTitle": false,
     "title": ""
    }
   },
   "source": [
    "**Some observations: First, the computation time was significantly lesser than LOOCV. Second, there is a slight difference\n",
    "in errors between LOOCV and K-Fold CV for first order regression. This is because the k-Fold CV displays bias.**"
   ]
  }
 ],
 "metadata": {
  "application/vnd.databricks.v1+notebook": {
   "dashboards": [],
   "language": "python",
   "notebookMetadata": {
    "pythonIndentUnit": 2
   },
   "notebookName": "5.3.3 k-Fold Cross-Validation",
   "widgets": {}
  }
 },
 "nbformat": 4,
 "nbformat_minor": 0
}
