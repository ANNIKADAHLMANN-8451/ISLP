{
 "cells": [
  {
   "cell_type": "markdown",
   "metadata": {
    "application/vnd.databricks.v1+cell": {
     "cellMetadata": {
      "byteLimit": 2048000,
      "rowLimit": 10000
     },
     "inputWidgets": {},
     "nuid": "8824bfa3-f590-4a0d-a380-9c1771e2be20",
     "showTitle": false,
     "title": ""
    }
   },
   "source": [
    "### Preprocessing - I"
   ]
  },
  {
   "cell_type": "code",
   "execution_count": 0,
   "metadata": {
    "application/vnd.databricks.v1+cell": {
     "cellMetadata": {
      "byteLimit": 2048000,
      "rowLimit": 10000
     },
     "inputWidgets": {},
     "nuid": "637fc939-a535-4435-aacf-ecd63fb676bb",
     "showTitle": false,
     "title": ""
    }
   },
   "outputs": [],
   "source": [
    "# import relevant statistical packages\n",
    "import numpy as np\n",
    "import pandas as pd"
   ]
  },
  {
   "cell_type": "code",
   "execution_count": 0,
   "metadata": {
    "application/vnd.databricks.v1+cell": {
     "cellMetadata": {
      "byteLimit": 2048000,
      "rowLimit": 10000
     },
     "inputWidgets": {},
     "nuid": "42108065-89af-4cc8-a61b-b8a327b51872",
     "showTitle": false,
     "title": ""
    }
   },
   "outputs": [],
   "source": [
    "# import relevant data visualisation packages\n",
    "import matplotlib.pyplot as plt\n",
    "import seaborn as sns\n",
    "%matplotlib inline"
   ]
  },
  {
   "cell_type": "code",
   "execution_count": 0,
   "metadata": {
    "application/vnd.databricks.v1+cell": {
     "cellMetadata": {
      "byteLimit": 2048000,
      "rowLimit": 10000
     },
     "inputWidgets": {},
     "nuid": "a8fe8f39-a2f2-456b-b98b-27323158a0f0",
     "showTitle": false,
     "title": ""
    }
   },
   "outputs": [],
   "source": [
    "from sklearn.model_selection import train_test_split"
   ]
  },
  {
   "cell_type": "code",
   "execution_count": 0,
   "metadata": {
    "application/vnd.databricks.v1+cell": {
     "cellMetadata": {
      "byteLimit": 2048000,
      "rowLimit": 10000
     },
     "inputWidgets": {},
     "nuid": "a2311a41-8adc-4428-83eb-a36639063d56",
     "showTitle": false,
     "title": ""
    }
   },
   "outputs": [],
   "source": [
    "# import and preprocess data\n",
    "url = \"abfss://training@sa8451learningdev.dfs.core.windows.net/interpretable_machine_learning/eml_data/Portfolio.csv\"\n",
    "Portfolio = spark.read.option(\"header\", \"true\").csv(url).toPandas().astype(float)\n",
    "Portfolio.set_index('_c0', inplace=True)\n",
    "Portfolio.index.names = ['Index']"
   ]
  },
  {
   "cell_type": "code",
   "execution_count": 0,
   "metadata": {
    "application/vnd.databricks.v1+cell": {
     "cellMetadata": {
      "byteLimit": 2048000,
      "rowLimit": 10000
     },
     "inputWidgets": {},
     "nuid": "b40ac6fd-3ad9-4255-ba84-fe48f5e04d48",
     "showTitle": false,
     "title": ""
    }
   },
   "outputs": [],
   "source": [
    "Portfolio.head()"
   ]
  },
  {
   "cell_type": "code",
   "execution_count": 0,
   "metadata": {
    "application/vnd.databricks.v1+cell": {
     "cellMetadata": {
      "byteLimit": 2048000,
      "rowLimit": 10000
     },
     "inputWidgets": {},
     "nuid": "953e6e00-c5b7-4d84-b758-855ba1148e24",
     "showTitle": false,
     "title": ""
    }
   },
   "outputs": [],
   "source": [
    "covmatrix = Portfolio.cov()"
   ]
  },
  {
   "cell_type": "code",
   "execution_count": 0,
   "metadata": {
    "application/vnd.databricks.v1+cell": {
     "cellMetadata": {
      "byteLimit": 2048000,
      "rowLimit": 10000
     },
     "inputWidgets": {},
     "nuid": "c7f88eb2-e3d1-4d5a-9cd4-b02336810036",
     "showTitle": false,
     "title": ""
    }
   },
   "outputs": [],
   "source": [
    "covmatrix"
   ]
  },
  {
   "cell_type": "code",
   "execution_count": 0,
   "metadata": {
    "application/vnd.databricks.v1+cell": {
     "cellMetadata": {
      "byteLimit": 2048000,
      "rowLimit": 10000
     },
     "inputWidgets": {},
     "nuid": "068ea24f-3afc-4b6b-85f9-58ba4012202b",
     "showTitle": false,
     "title": ""
    }
   },
   "outputs": [],
   "source": [
    "covmatrix.iloc[0][1]"
   ]
  },
  {
   "cell_type": "markdown",
   "metadata": {
    "application/vnd.databricks.v1+cell": {
     "cellMetadata": {
      "byteLimit": 2048000,
      "rowLimit": 10000
     },
     "inputWidgets": {},
     "nuid": "2c6b10a9-7098-4ea9-9cdc-8aaea7de9c57",
     "showTitle": false,
     "title": ""
    }
   },
   "source": [
    "*Okay cool!*"
   ]
  },
  {
   "cell_type": "markdown",
   "metadata": {
    "application/vnd.databricks.v1+cell": {
     "cellMetadata": {
      "byteLimit": 2048000,
      "rowLimit": 10000
     },
     "inputWidgets": {},
     "nuid": "c1a342a3-5460-43f7-b16e-bc65529d67d7",
     "showTitle": false,
     "title": ""
    }
   },
   "source": [
    "### Estimating the Accuracy of a Statistic of Interest through Bootstrap"
   ]
  },
  {
   "cell_type": "code",
   "execution_count": 0,
   "metadata": {
    "application/vnd.databricks.v1+cell": {
     "cellMetadata": {
      "byteLimit": 2048000,
      "rowLimit": 10000
     },
     "inputWidgets": {},
     "nuid": "08a99139-210b-4e8a-bc7f-072dddcf960e",
     "showTitle": false,
     "title": ""
    }
   },
   "outputs": [],
   "source": [
    "def alphafn(data, index):\n",
    "    X = data.X[index]\n",
    "    Y = data.Y[index]\n",
    "    return round((Y.var() - covmatrix.iloc[0][1]) / (X.var() + Y.var() - 2*covmatrix.iloc[0][1]), 3)"
   ]
  },
  {
   "cell_type": "code",
   "execution_count": 0,
   "metadata": {
    "application/vnd.databricks.v1+cell": {
     "cellMetadata": {
      "byteLimit": 2048000,
      "rowLimit": 10000
     },
     "inputWidgets": {},
     "nuid": "9e3889d6-96ae-4264-95aa-83ecaf99e3a1",
     "showTitle": false,
     "title": ""
    }
   },
   "outputs": [],
   "source": [
    "idx = list(range(1,101))"
   ]
  },
  {
   "cell_type": "code",
   "execution_count": 0,
   "metadata": {
    "application/vnd.databricks.v1+cell": {
     "cellMetadata": {
      "byteLimit": 2048000,
      "rowLimit": 10000
     },
     "inputWidgets": {},
     "nuid": "ca4fd077-6359-49b5-a9fb-7874aec2d264",
     "showTitle": false,
     "title": ""
    }
   },
   "outputs": [],
   "source": [
    "true_alpha = alphafn(Portfolio, idx)\n",
    "true_alpha"
   ]
  },
  {
   "cell_type": "code",
   "execution_count": 0,
   "metadata": {
    "application/vnd.databricks.v1+cell": {
     "cellMetadata": {
      "byteLimit": 2048000,
      "rowLimit": 10000
     },
     "inputWidgets": {},
     "nuid": "339ea78b-2584-4012-b176-f4712a13b551",
     "showTitle": false,
     "title": ""
    }
   },
   "outputs": [],
   "source": [
    "from sklearn.utils import resample"
   ]
  },
  {
   "cell_type": "code",
   "execution_count": 0,
   "metadata": {
    "application/vnd.databricks.v1+cell": {
     "cellMetadata": {
      "byteLimit": 2048000,
      "rowLimit": 10000
     },
     "inputWidgets": {},
     "nuid": "7ad55a8d-d0dc-4832-a70d-959c419fc2a2",
     "showTitle": false,
     "title": ""
    }
   },
   "outputs": [],
   "source": [
    "estimate_alpha = pd.DataFrame()\n",
    "for i in range(1,1001): # this is equivalent to constructing a new bootstrap data set and recomputing alpha_hat based on the new data set and generating 1,000 bootstrap estimates \n",
    "    bootstrap_estimate = alphafn(Portfolio, resample(idx, replace=True))\n",
    "    estimate_alpha = estimate_alpha.append([bootstrap_estimate])    "
   ]
  },
  {
   "cell_type": "code",
   "execution_count": 0,
   "metadata": {
    "application/vnd.databricks.v1+cell": {
     "cellMetadata": {
      "byteLimit": 2048000,
      "rowLimit": 10000
     },
     "inputWidgets": {},
     "nuid": "f216cb82-0416-45a9-ae91-afe5325497e8",
     "showTitle": false,
     "title": ""
    }
   },
   "outputs": [],
   "source": [
    "estimate_alpha.reset_index(drop=True, inplace=True)\n",
    "estimate_alpha.columns = ['Alpha Estimate']\n",
    "estimate_alpha.head()"
   ]
  },
  {
   "cell_type": "code",
   "execution_count": 0,
   "metadata": {
    "application/vnd.databricks.v1+cell": {
     "cellMetadata": {
      "byteLimit": 2048000,
      "rowLimit": 10000
     },
     "inputWidgets": {},
     "nuid": "393e8243-64cc-4601-900d-75b4208d879f",
     "showTitle": false,
     "title": ""
    }
   },
   "outputs": [],
   "source": [
    "estimate_alpha.shape"
   ]
  },
  {
   "cell_type": "markdown",
   "metadata": {
    "application/vnd.databricks.v1+cell": {
     "cellMetadata": {
      "byteLimit": 2048000,
      "rowLimit": 10000
     },
     "inputWidgets": {},
     "nuid": "47e8c655-3206-4d47-ac0a-0a3d256077d2",
     "showTitle": false,
     "title": ""
    }
   },
   "source": [
    "*We see here that we have generated 1,000 estimates of alpha.*"
   ]
  },
  {
   "cell_type": "code",
   "execution_count": 0,
   "metadata": {
    "application/vnd.databricks.v1+cell": {
     "cellMetadata": {
      "byteLimit": 2048000,
      "rowLimit": 10000
     },
     "inputWidgets": {},
     "nuid": "f3cd076c-9079-40a8-a823-6ac4702f8c41",
     "showTitle": false,
     "title": ""
    }
   },
   "outputs": [],
   "source": [
    "std_err = np.sqrt(np.sum(pow(estimate_alpha - (np.sum(estimate_alpha) / 1000), 2))/999) # check formula for standard error in page 189 of ISLR"
   ]
  },
  {
   "cell_type": "code",
   "execution_count": 0,
   "metadata": {
    "application/vnd.databricks.v1+cell": {
     "cellMetadata": {
      "byteLimit": 2048000,
      "rowLimit": 10000
     },
     "inputWidgets": {},
     "nuid": "ec2c7527-a62a-4920-90d8-725bc6148591",
     "showTitle": false,
     "title": ""
    }
   },
   "outputs": [],
   "source": [
    "std_err"
   ]
  },
  {
   "cell_type": "markdown",
   "metadata": {
    "application/vnd.databricks.v1+cell": {
     "cellMetadata": {
      "byteLimit": 2048000,
      "rowLimit": 10000
     },
     "inputWidgets": {},
     "nuid": "9186f6d0-8c60-4928-9522-7f7b24fe5d89",
     "showTitle": false,
     "title": ""
    }
   },
   "source": [
    "**Therefore, the estimate of $\\alpha$-hat using the original data is 0.576, and that the bootstrap estimate for SE($\\alpha$-hat)\n",
    "is 0.091405.**"
   ]
  },
  {
   "cell_type": "markdown",
   "metadata": {
    "application/vnd.databricks.v1+cell": {
     "cellMetadata": {
      "byteLimit": 2048000,
      "rowLimit": 10000
     },
     "inputWidgets": {},
     "nuid": "ae966f3b-1116-43dd-8de5-c2385ed591f2",
     "showTitle": false,
     "title": ""
    }
   },
   "source": [
    "### Preprocessing - II"
   ]
  },
  {
   "cell_type": "code",
   "execution_count": 0,
   "metadata": {
    "application/vnd.databricks.v1+cell": {
     "cellMetadata": {
      "byteLimit": 2048000,
      "rowLimit": 10000
     },
     "inputWidgets": {},
     "nuid": "c4eb88a0-4373-4370-a812-01daabe0b696",
     "showTitle": false,
     "title": ""
    }
   },
   "outputs": [],
   "source": [
    "# import relevant statistical packages\n",
    "import numpy as np\n",
    "import pandas as pd"
   ]
  },
  {
   "cell_type": "code",
   "execution_count": 0,
   "metadata": {
    "application/vnd.databricks.v1+cell": {
     "cellMetadata": {
      "byteLimit": 2048000,
      "rowLimit": 10000
     },
     "inputWidgets": {},
     "nuid": "0af93b7c-9b2d-47e0-890a-3002dc919fb9",
     "showTitle": false,
     "title": ""
    }
   },
   "outputs": [],
   "source": [
    "# import relevant data visualisation packages\n",
    "import matplotlib.pyplot as plt\n",
    "import seaborn as sns\n",
    "%matplotlib inline"
   ]
  },
  {
   "cell_type": "code",
   "execution_count": 0,
   "metadata": {
    "application/vnd.databricks.v1+cell": {
     "cellMetadata": {
      "byteLimit": 2048000,
      "rowLimit": 10000
     },
     "inputWidgets": {},
     "nuid": "8fd9db56-fde4-42d5-8c5c-59e5552755a6",
     "showTitle": false,
     "title": ""
    }
   },
   "outputs": [],
   "source": [
    "from sklearn.model_selection import train_test_split"
   ]
  },
  {
   "cell_type": "code",
   "execution_count": 0,
   "metadata": {
    "application/vnd.databricks.v1+cell": {
     "cellMetadata": {
      "byteLimit": 2048000,
      "rowLimit": 10000
     },
     "inputWidgets": {},
     "nuid": "5d579f39-2cd4-40c2-b6be-66f231313996",
     "showTitle": false,
     "title": ""
    }
   },
   "outputs": [],
   "source": [
    "# import and preprocess data\n",
    "url = \"abfss://training@sa8451learningdev.dfs.core.windows.net/interpretable_machine_learning/eml_data/Auto.csv\"\n",
    "Auto = spark.read.option(\"header\", \"true\").csv(url).toPandas()\n",
    "\n",
    "str_cols = [\"name\"]\n",
    "num_cols = list(set(Auto.columns) - set(str_cols))\n",
    "Auto[str_cols] = Auto[str_cols].astype(str)\n",
    "Auto[num_cols] = Auto[num_cols].astype(float)"
   ]
  },
  {
   "cell_type": "code",
   "execution_count": 0,
   "metadata": {
    "application/vnd.databricks.v1+cell": {
     "cellMetadata": {
      "byteLimit": 2048000,
      "rowLimit": 10000
     },
     "inputWidgets": {},
     "nuid": "1e71a926-63be-4bca-a5c4-e3914fac3fed",
     "showTitle": false,
     "title": ""
    }
   },
   "outputs": [],
   "source": [
    "Auto.head()"
   ]
  },
  {
   "cell_type": "markdown",
   "metadata": {
    "application/vnd.databricks.v1+cell": {
     "cellMetadata": {
      "byteLimit": 2048000,
      "rowLimit": 10000
     },
     "inputWidgets": {},
     "nuid": "c9a73bfa-d1d8-4b40-b2a5-ce11449d2d64",
     "showTitle": false,
     "title": ""
    }
   },
   "source": [
    "### Estimating the Accuracy of a Linear Regression Model through Bootstrap"
   ]
  },
  {
   "cell_type": "code",
   "execution_count": 0,
   "metadata": {
    "application/vnd.databricks.v1+cell": {
     "cellMetadata": {
      "byteLimit": 2048000,
      "rowLimit": 10000
     },
     "inputWidgets": {},
     "nuid": "982862c2-376e-491c-83db-df191de2c4da",
     "showTitle": false,
     "title": ""
    }
   },
   "outputs": [],
   "source": [
    "from sklearn.linear_model import LinearRegression"
   ]
  },
  {
   "cell_type": "code",
   "execution_count": 0,
   "metadata": {
    "application/vnd.databricks.v1+cell": {
     "cellMetadata": {
      "byteLimit": 2048000,
      "rowLimit": 10000
     },
     "inputWidgets": {},
     "nuid": "8407c322-bf3a-4a48-809d-ae5bea0bfed0",
     "showTitle": false,
     "title": ""
    }
   },
   "outputs": [],
   "source": [
    "from sklearn.model_selection import train_test_split"
   ]
  },
  {
   "cell_type": "code",
   "execution_count": 0,
   "metadata": {
    "application/vnd.databricks.v1+cell": {
     "cellMetadata": {
      "byteLimit": 2048000,
      "rowLimit": 10000
     },
     "inputWidgets": {},
     "nuid": "471d788e-11c2-4ed6-a7c2-c7304cf392f0",
     "showTitle": false,
     "title": ""
    }
   },
   "outputs": [],
   "source": [
    "def bootfn(data, index):\n",
    "    X = data[['horsepower']]\n",
    "    y = data['mpg']\n",
    "    X_train = X.iloc[index]\n",
    "    y_train = y.iloc[index]\n",
    "    lmfit = LinearRegression().fit(X_train, y_train)\n",
    "    return round(lmfit.intercept_, 3), np.round(lmfit.coef_, 3)"
   ]
  },
  {
   "cell_type": "code",
   "execution_count": 0,
   "metadata": {
    "application/vnd.databricks.v1+cell": {
     "cellMetadata": {
      "byteLimit": 2048000,
      "rowLimit": 10000
     },
     "inputWidgets": {},
     "nuid": "3d5699e0-d827-440d-a7ca-7ed01ce2e0b5",
     "showTitle": false,
     "title": ""
    }
   },
   "outputs": [],
   "source": [
    "idx = list(range(1,393))"
   ]
  },
  {
   "cell_type": "code",
   "execution_count": 0,
   "metadata": {
    "application/vnd.databricks.v1+cell": {
     "cellMetadata": {
      "byteLimit": 2048000,
      "rowLimit": 10000
     },
     "inputWidgets": {},
     "nuid": "b7f167ea-d6e3-4531-990b-53a1f7599405",
     "showTitle": false,
     "title": ""
    }
   },
   "outputs": [],
   "source": [
    "bootfn(Auto, idx)"
   ]
  },
  {
   "cell_type": "markdown",
   "metadata": {
    "application/vnd.databricks.v1+cell": {
     "cellMetadata": {
      "byteLimit": 2048000,
      "rowLimit": 10000
     },
     "inputWidgets": {},
     "nuid": "35c16396-b86f-4bde-bfe7-56b00d304014",
     "showTitle": false,
     "title": ""
    }
   },
   "source": [
    "**Creating bootstrap estimates**"
   ]
  },
  {
   "cell_type": "code",
   "execution_count": 0,
   "metadata": {
    "application/vnd.databricks.v1+cell": {
     "cellMetadata": {
      "byteLimit": 2048000,
      "rowLimit": 10000
     },
     "inputWidgets": {},
     "nuid": "b1f6c24c-651b-4a28-a59a-30b08bc3ceef",
     "showTitle": false,
     "title": ""
    }
   },
   "outputs": [],
   "source": [
    "bootfn(Auto, resample(idx, replace=True))"
   ]
  },
  {
   "cell_type": "code",
   "execution_count": 0,
   "metadata": {
    "application/vnd.databricks.v1+cell": {
     "cellMetadata": {
      "byteLimit": 2048000,
      "rowLimit": 10000
     },
     "inputWidgets": {},
     "nuid": "229b5d60-96c4-4bb1-a9ca-5bfac2f96c01",
     "showTitle": false,
     "title": ""
    }
   },
   "outputs": [],
   "source": [
    "bootfn(Auto, resample(idx, replace=True))"
   ]
  },
  {
   "cell_type": "markdown",
   "metadata": {
    "application/vnd.databricks.v1+cell": {
     "cellMetadata": {
      "byteLimit": 2048000,
      "rowLimit": 10000
     },
     "inputWidgets": {},
     "nuid": "2821d120-2050-49f8-9190-7620a316e80b",
     "showTitle": false,
     "title": ""
    }
   },
   "source": [
    "*As we can see, bootstrapping generates different estimates for both the intercept and slope each time through random\n",
    "sampling.*"
   ]
  },
  {
   "cell_type": "code",
   "execution_count": 0,
   "metadata": {
    "application/vnd.databricks.v1+cell": {
     "cellMetadata": {
      "byteLimit": 2048000,
      "rowLimit": 10000
     },
     "inputWidgets": {},
     "nuid": "28f52c93-9937-44b7-90f1-7e16b8d854ce",
     "showTitle": false,
     "title": ""
    }
   },
   "outputs": [],
   "source": [
    "estimate_coefficients = pd.DataFrame()\n",
    "for i in range(1,1001): # this is equivalent to constructing a new bootstrap data set and recomputing alpha_hat based on the new data set and generating 1,000 bootstrap estimates \n",
    "    coef_estimate = bootfn(Auto, resample(idx, replace=True))\n",
    "    estimate_coefficients = estimate_coefficients.append([coef_estimate])   "
   ]
  },
  {
   "cell_type": "code",
   "execution_count": 0,
   "metadata": {
    "application/vnd.databricks.v1+cell": {
     "cellMetadata": {
      "byteLimit": 2048000,
      "rowLimit": 10000
     },
     "inputWidgets": {},
     "nuid": "e9200f94-1f61-48fb-80c0-bce4bfa718aa",
     "showTitle": false,
     "title": ""
    }
   },
   "outputs": [],
   "source": [
    "estimate_coefficients.reset_index(drop=True, inplace=True)\n",
    "estimate_coefficients.columns = ['Intercept', 'Slope Term']\n",
    "estimate_coefficients.head()"
   ]
  },
  {
   "cell_type": "code",
   "execution_count": 0,
   "metadata": {
    "application/vnd.databricks.v1+cell": {
     "cellMetadata": {
      "byteLimit": 2048000,
      "rowLimit": 10000
     },
     "inputWidgets": {},
     "nuid": "9757f563-348d-4683-b5ac-612d13783134",
     "showTitle": false,
     "title": ""
    }
   },
   "outputs": [],
   "source": [
    "estimate_coefficients.shape"
   ]
  },
  {
   "cell_type": "markdown",
   "metadata": {
    "application/vnd.databricks.v1+cell": {
     "cellMetadata": {
      "byteLimit": 2048000,
      "rowLimit": 10000
     },
     "inputWidgets": {},
     "nuid": "a783750d-9ed3-4e81-a5e3-f0f30df8deec",
     "showTitle": false,
     "title": ""
    }
   },
   "source": [
    "*We see here that we have generated 1,000 estimates of intercepts and slope terms.*"
   ]
  },
  {
   "cell_type": "code",
   "execution_count": 0,
   "metadata": {
    "application/vnd.databricks.v1+cell": {
     "cellMetadata": {
      "byteLimit": 2048000,
      "rowLimit": 10000
     },
     "inputWidgets": {},
     "nuid": "23e104f5-5fac-4df9-a01b-875e98ee90f5",
     "showTitle": false,
     "title": ""
    }
   },
   "outputs": [],
   "source": [
    "std_err_st = np.sqrt(np.sum(pow(estimate_coefficients['Slope Term'] - (np.sum(estimate_coefficients['Slope Term']) / 1000), 2))/999)"
   ]
  },
  {
   "cell_type": "code",
   "execution_count": 0,
   "metadata": {
    "application/vnd.databricks.v1+cell": {
     "cellMetadata": {
      "byteLimit": 2048000,
      "rowLimit": 10000
     },
     "inputWidgets": {},
     "nuid": "1324478d-7835-4260-bec7-7207204db7f3",
     "showTitle": false,
     "title": ""
    }
   },
   "outputs": [],
   "source": [
    "std_err_intercept = np.sqrt(np.sum(pow(estimate_coefficients['Intercept'] - (np.sum(estimate_coefficients['Intercept']) / 1000), 2))/999)"
   ]
  },
  {
   "cell_type": "code",
   "execution_count": 0,
   "metadata": {
    "application/vnd.databricks.v1+cell": {
     "cellMetadata": {
      "byteLimit": 2048000,
      "rowLimit": 10000
     },
     "inputWidgets": {},
     "nuid": "fd93c67a-6b10-49c9-9680-f54cd66834a2",
     "showTitle": false,
     "title": ""
    }
   },
   "outputs": [],
   "source": [
    "print(\"Bootsrapped Intercept Standard Error: \", round(std_err_intercept, 4), \"Bootstrapped Slope Term Standard Error: \", np.round(std_err_st, 4))"
   ]
  },
  {
   "cell_type": "markdown",
   "metadata": {
    "application/vnd.databricks.v1+cell": {
     "cellMetadata": {
      "byteLimit": 2048000,
      "rowLimit": 10000
     },
     "inputWidgets": {},
     "nuid": "0487d0e8-0456-4e77-92f9-1ff494f34c8a",
     "showTitle": false,
     "title": ""
    }
   },
   "source": [
    "**Conducting simple linear regression**"
   ]
  },
  {
   "cell_type": "code",
   "execution_count": 0,
   "metadata": {
    "application/vnd.databricks.v1+cell": {
     "cellMetadata": {
      "byteLimit": 2048000,
      "rowLimit": 10000
     },
     "inputWidgets": {},
     "nuid": "11562cbc-f6bb-4ea4-bc6f-00257da929de",
     "showTitle": false,
     "title": ""
    }
   },
   "outputs": [],
   "source": [
    "import statsmodels.api as sm"
   ]
  },
  {
   "cell_type": "markdown",
   "metadata": {
    "application/vnd.databricks.v1+cell": {
     "cellMetadata": {
      "byteLimit": 2048000,
      "rowLimit": 10000
     },
     "inputWidgets": {},
     "nuid": "af8d20b4-5428-4683-8ede-ba6a8227431a",
     "showTitle": false,
     "title": ""
    }
   },
   "source": [
    "**Note:** scikit-learn does not have modules for inference. Hence, I am importing statsmodels to generate inferential statistics to get standard errors from simple linear regression"
   ]
  },
  {
   "cell_type": "code",
   "execution_count": 0,
   "metadata": {
    "application/vnd.databricks.v1+cell": {
     "cellMetadata": {
      "byteLimit": 2048000,
      "rowLimit": 10000
     },
     "inputWidgets": {},
     "nuid": "750bcc09-4450-4c6e-8920-e60b8b01412e",
     "showTitle": false,
     "title": ""
    }
   },
   "outputs": [],
   "source": [
    "import statsmodels.api as sm"
   ]
  },
  {
   "cell_type": "code",
   "execution_count": 0,
   "metadata": {
    "application/vnd.databricks.v1+cell": {
     "cellMetadata": {
      "byteLimit": 2048000,
      "rowLimit": 10000
     },
     "inputWidgets": {},
     "nuid": "c877a991-9015-4a83-a728-3b4ac58bccd5",
     "showTitle": false,
     "title": ""
    }
   },
   "outputs": [],
   "source": [
    "X1 = Auto[['horsepower']]\n",
    "X1 = sm.add_constant(X1)\n",
    "y1 = Auto['mpg']\n",
    "lmfit1 = LinearRegression().fit(X1, y1)"
   ]
  },
  {
   "cell_type": "code",
   "execution_count": 0,
   "metadata": {
    "application/vnd.databricks.v1+cell": {
     "cellMetadata": {
      "byteLimit": 2048000,
      "rowLimit": 10000
     },
     "inputWidgets": {},
     "nuid": "67b8d2e2-538a-4527-8f32-56ee01be4718",
     "showTitle": false,
     "title": ""
    }
   },
   "outputs": [],
   "source": [
    "ols = sm.OLS(y1, X1).fit()"
   ]
  },
  {
   "cell_type": "code",
   "execution_count": 0,
   "metadata": {
    "application/vnd.databricks.v1+cell": {
     "cellMetadata": {
      "byteLimit": 2048000,
      "rowLimit": 10000
     },
     "inputWidgets": {},
     "nuid": "3fefa3b0-31c2-40c2-9c48-3866bbc1d6d6",
     "showTitle": false,
     "title": ""
    }
   },
   "outputs": [],
   "source": [
    "ols.summary()"
   ]
  },
  {
   "cell_type": "markdown",
   "metadata": {
    "application/vnd.databricks.v1+cell": {
     "cellMetadata": {
      "byteLimit": 2048000,
      "rowLimit": 10000
     },
     "inputWidgets": {},
     "nuid": "82cfcc65-87cf-43b2-9cde-0626aad3b0e2",
     "showTitle": false,
     "title": ""
    }
   },
   "source": [
    "**Interestingly, note here that the standard errors generated through the bootstrap model seem way off than those from \n",
    "the simple linear regression. This is because the bootstrap model does not presume assumptions for standard errors like\n",
    "they do in simple linear regression. Therfore, bootstrap estimates of standard errors are more likely to be accurate than\n",
    "those of simple linear regression. For more information, I recommend reading page 196 of ISLR.**"
   ]
  },
  {
   "cell_type": "markdown",
   "metadata": {
    "application/vnd.databricks.v1+cell": {
     "cellMetadata": {
      "byteLimit": 2048000,
      "rowLimit": 10000
     },
     "inputWidgets": {},
     "nuid": "e52e5665-61a9-4090-8cea-d258c0af65a4",
     "showTitle": false,
     "title": ""
    }
   },
   "source": [
    "### Estimating the Accuracy of a Quadratic Regression Model through Bootstrap"
   ]
  },
  {
   "cell_type": "code",
   "execution_count": 0,
   "metadata": {
    "application/vnd.databricks.v1+cell": {
     "cellMetadata": {
      "byteLimit": 2048000,
      "rowLimit": 10000
     },
     "inputWidgets": {},
     "nuid": "1c4332de-d734-4bda-abfd-f039769c246b",
     "showTitle": false,
     "title": ""
    }
   },
   "outputs": [],
   "source": [
    "from sklearn.preprocessing import PolynomialFeatures as PF"
   ]
  },
  {
   "cell_type": "code",
   "execution_count": 0,
   "metadata": {
    "application/vnd.databricks.v1+cell": {
     "cellMetadata": {
      "byteLimit": 2048000,
      "rowLimit": 10000
     },
     "inputWidgets": {},
     "nuid": "90306616-b2d6-45b4-b5c9-38734b45fc90",
     "showTitle": false,
     "title": ""
    }
   },
   "outputs": [],
   "source": [
    "def bootfn(df, index):\n",
    "    for i in range(1, 3):\n",
    "        MSE = 0\n",
    "        X = df[['horsepower']]\n",
    "        X_ = pd.DataFrame(PF(i).fit_transform(X))\n",
    "        X_.drop(columns=0, inplace=True)\n",
    "        y = df[['mpg']]\n",
    "        X_train = X_.iloc[index]\n",
    "        y_train = y.iloc[index]\n",
    "        lmfit = LinearRegression().fit(X_train, y_train)\n",
    "    return lmfit.intercept_, lmfit.coef_"
   ]
  },
  {
   "cell_type": "code",
   "execution_count": 0,
   "metadata": {
    "application/vnd.databricks.v1+cell": {
     "cellMetadata": {
      "byteLimit": 2048000,
      "rowLimit": 10000
     },
     "inputWidgets": {},
     "nuid": "e620d0fa-ef18-4bd4-bbc9-49fad2b094e8",
     "showTitle": false,
     "title": ""
    }
   },
   "outputs": [],
   "source": [
    "bootfn(Auto, idx)"
   ]
  },
  {
   "cell_type": "code",
   "execution_count": 0,
   "metadata": {
    "application/vnd.databricks.v1+cell": {
     "cellMetadata": {
      "byteLimit": 2048000,
      "rowLimit": 10000
     },
     "inputWidgets": {},
     "nuid": "d8b067d8-2d3e-4d1f-a469-4deb144b364b",
     "showTitle": false,
     "title": ""
    }
   },
   "outputs": [],
   "source": [
    "estim = bootfn(Auto, resample(idx, replace=True))"
   ]
  },
  {
   "cell_type": "code",
   "execution_count": 0,
   "metadata": {
    "application/vnd.databricks.v1+cell": {
     "cellMetadata": {
      "byteLimit": 2048000,
      "rowLimit": 10000
     },
     "inputWidgets": {},
     "nuid": "04ac6c3c-bf02-45af-aa0b-bce03b6ad9ef",
     "showTitle": false,
     "title": ""
    }
   },
   "outputs": [],
   "source": [
    "estim"
   ]
  },
  {
   "cell_type": "code",
   "execution_count": 0,
   "metadata": {
    "application/vnd.databricks.v1+cell": {
     "cellMetadata": {
      "byteLimit": 2048000,
      "rowLimit": 10000
     },
     "inputWidgets": {},
     "nuid": "2862ba2c-2780-4812-8147-a16ca69e365f",
     "showTitle": false,
     "title": ""
    }
   },
   "outputs": [],
   "source": [
    "df1 = pd.DataFrame()\n",
    "df1 = pd.concat([pd.DataFrame([estim[1].reshape(2,-1)[0]]), pd.DataFrame([estim[1].reshape(2,-1)[1]])], axis=1)"
   ]
  },
  {
   "cell_type": "code",
   "execution_count": 0,
   "metadata": {
    "application/vnd.databricks.v1+cell": {
     "cellMetadata": {
      "byteLimit": 2048000,
      "rowLimit": 10000
     },
     "inputWidgets": {},
     "nuid": "03afa78d-8e29-4743-90da-0abd8fa625b5",
     "showTitle": false,
     "title": ""
    }
   },
   "outputs": [],
   "source": [
    "estimate_coef = pd.DataFrame()"
   ]
  },
  {
   "cell_type": "code",
   "execution_count": 0,
   "metadata": {
    "application/vnd.databricks.v1+cell": {
     "cellMetadata": {
      "byteLimit": 2048000,
      "rowLimit": 10000
     },
     "inputWidgets": {},
     "nuid": "812e1c3e-a2c2-4207-bc3f-0cbb396b3a1c",
     "showTitle": false,
     "title": ""
    }
   },
   "outputs": [],
   "source": [
    "for i in range(1,1001):\n",
    "    coefs = bootfn(Auto, resample(idx, replace=True))\n",
    "    estimate_coef = estimate_coef.append(pd.concat([pd.DataFrame(coefs[0]), pd.DataFrame([coefs[1].reshape(2,-1)[0]]), pd.DataFrame([coefs[1].reshape(2,-1)[1]])], axis=1))"
   ]
  },
  {
   "cell_type": "code",
   "execution_count": 0,
   "metadata": {
    "application/vnd.databricks.v1+cell": {
     "cellMetadata": {
      "byteLimit": 2048000,
      "rowLimit": 10000
     },
     "inputWidgets": {},
     "nuid": "383bc9a8-d35b-45b6-abf5-dda93b748f63",
     "showTitle": false,
     "title": ""
    }
   },
   "outputs": [],
   "source": [
    "estimate_coef.reset_index(drop=True, inplace=True)\n",
    "estimate_coef.columns = ['Intercept', 'hp', 'hp^2']"
   ]
  },
  {
   "cell_type": "code",
   "execution_count": 0,
   "metadata": {
    "application/vnd.databricks.v1+cell": {
     "cellMetadata": {
      "byteLimit": 2048000,
      "rowLimit": 10000
     },
     "inputWidgets": {},
     "nuid": "c6ab95be-62cd-4d89-a739-e9ed2103d0e6",
     "showTitle": false,
     "title": ""
    }
   },
   "outputs": [],
   "source": [
    "estimate_coef.head()"
   ]
  },
  {
   "cell_type": "code",
   "execution_count": 0,
   "metadata": {
    "application/vnd.databricks.v1+cell": {
     "cellMetadata": {
      "byteLimit": 2048000,
      "rowLimit": 10000
     },
     "inputWidgets": {},
     "nuid": "da9945bb-0851-4b74-a667-4fce8e6bb619",
     "showTitle": false,
     "title": ""
    }
   },
   "outputs": [],
   "source": [
    "estimate_coef.shape"
   ]
  },
  {
   "cell_type": "code",
   "execution_count": 0,
   "metadata": {
    "application/vnd.databricks.v1+cell": {
     "cellMetadata": {
      "byteLimit": 2048000,
      "rowLimit": 10000
     },
     "inputWidgets": {},
     "nuid": "43fc468f-f5f7-40da-bdbf-6909c6039615",
     "showTitle": false,
     "title": ""
    }
   },
   "outputs": [],
   "source": [
    "std_err_intercept = np.sqrt(np.sum(pow(estimate_coef['Intercept'] - (np.sum(estimate_coef['Intercept']) / 1000), 2))/999)"
   ]
  },
  {
   "cell_type": "code",
   "execution_count": 0,
   "metadata": {
    "application/vnd.databricks.v1+cell": {
     "cellMetadata": {
      "byteLimit": 2048000,
      "rowLimit": 10000
     },
     "inputWidgets": {},
     "nuid": "4351c99c-1a39-4685-a950-3e5fc2353866",
     "showTitle": false,
     "title": ""
    }
   },
   "outputs": [],
   "source": [
    "std_err_hp = np.sqrt(np.sum(pow(estimate_coef['hp'] - (np.sum(estimate_coef['hp']) / 1000), 2))/999)"
   ]
  },
  {
   "cell_type": "code",
   "execution_count": 0,
   "metadata": {
    "application/vnd.databricks.v1+cell": {
     "cellMetadata": {
      "byteLimit": 2048000,
      "rowLimit": 10000
     },
     "inputWidgets": {},
     "nuid": "25e50d72-9db1-4599-bed1-195a4b1c7c2a",
     "showTitle": false,
     "title": ""
    }
   },
   "outputs": [],
   "source": [
    "std_err_hp2 = np.sqrt(np.sum(pow(estimate_coef['hp^2'] - (np.sum(estimate_coef['hp^2']) / 1000), 2))/999)"
   ]
  },
  {
   "cell_type": "code",
   "execution_count": 0,
   "metadata": {
    "application/vnd.databricks.v1+cell": {
     "cellMetadata": {
      "byteLimit": 2048000,
      "rowLimit": 10000
     },
     "inputWidgets": {},
     "nuid": "671c9ae3-4c1f-4c51-a737-5916649dcbfd",
     "showTitle": false,
     "title": ""
    }
   },
   "outputs": [],
   "source": [
    "print(\"SE Intercept: \", round(std_err_intercept, 4), \"SE HP: \", round(std_err_hp, 4), \"SE HP^2: \", round(std_err_hp2, 4))"
   ]
  },
  {
   "cell_type": "markdown",
   "metadata": {
    "application/vnd.databricks.v1+cell": {
     "cellMetadata": {
      "byteLimit": 2048000,
      "rowLimit": 10000
     },
     "inputWidgets": {},
     "nuid": "fc2ff12c-eb00-4163-8631-56085a0e2d57",
     "showTitle": false,
     "title": ""
    }
   },
   "source": [
    "**Linear Regression**"
   ]
  },
  {
   "cell_type": "code",
   "execution_count": 0,
   "metadata": {
    "application/vnd.databricks.v1+cell": {
     "cellMetadata": {
      "byteLimit": 2048000,
      "rowLimit": 10000
     },
     "inputWidgets": {},
     "nuid": "108e8adb-72a8-4f80-8c31-d60d7de0c6f6",
     "showTitle": false,
     "title": ""
    }
   },
   "outputs": [],
   "source": [
    "import statsmodels.api as sm"
   ]
  },
  {
   "cell_type": "code",
   "execution_count": 0,
   "metadata": {
    "application/vnd.databricks.v1+cell": {
     "cellMetadata": {
      "byteLimit": 2048000,
      "rowLimit": 10000
     },
     "inputWidgets": {},
     "nuid": "17bb1eab-808a-4c2b-84c5-3e8cbf70fc53",
     "showTitle": false,
     "title": ""
    }
   },
   "outputs": [],
   "source": [
    "X1 = Auto[['horsepower']]\n",
    "X2 = pow(X1, 2)\n",
    "X3 = pd.concat([X1, X2], axis = 1)\n",
    "X3 = sm.add_constant(X3)\n",
    "Y1 = Auto[['mpg']]\n",
    "X3.columns = ['const', 'hp', 'hp2']\n",
    "X3.head()"
   ]
  },
  {
   "cell_type": "code",
   "execution_count": 0,
   "metadata": {
    "application/vnd.databricks.v1+cell": {
     "cellMetadata": {
      "byteLimit": 2048000,
      "rowLimit": 10000
     },
     "inputWidgets": {},
     "nuid": "b8b44242-8c4d-4311-98d3-03b167f0e1af",
     "showTitle": false,
     "title": ""
    }
   },
   "outputs": [],
   "source": [
    "ols = sm.OLS(Y1, X3).fit()"
   ]
  },
  {
   "cell_type": "code",
   "execution_count": 0,
   "metadata": {
    "application/vnd.databricks.v1+cell": {
     "cellMetadata": {
      "byteLimit": 2048000,
      "rowLimit": 10000
     },
     "inputWidgets": {},
     "nuid": "801101d4-a4fc-4bf7-b0da-60dadbf7e8ab",
     "showTitle": false,
     "title": ""
    }
   },
   "outputs": [],
   "source": [
    "ols.summary()"
   ]
  },
  {
   "cell_type": "markdown",
   "metadata": {
    "application/vnd.databricks.v1+cell": {
     "cellMetadata": {
      "byteLimit": 2048000,
      "rowLimit": 10000
     },
     "inputWidgets": {},
     "nuid": "f071f578-f196-4fa8-8c0e-d00dffc36442",
     "showTitle": false,
     "title": ""
    }
   },
   "source": [
    "**As with simple linear regression, the standard errors generated through bootstrap is larger than the usual quadratic\n",
    "regression, because it does not hold any assumptions that regressions need to calculate standard errors.**"
   ]
  }
 ],
 "metadata": {
  "application/vnd.databricks.v1+notebook": {
   "dashboards": [],
   "language": "python",
   "notebookMetadata": {
    "pythonIndentUnit": 2
   },
   "notebookName": "5.3.4 The Bootstrap",
   "widgets": {}
  }
 },
 "nbformat": 4,
 "nbformat_minor": 0
}
