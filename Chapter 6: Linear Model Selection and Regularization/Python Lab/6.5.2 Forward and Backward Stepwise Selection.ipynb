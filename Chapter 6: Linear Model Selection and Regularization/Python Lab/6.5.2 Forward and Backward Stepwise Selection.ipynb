{
 "cells": [
  {
   "cell_type": "code",
   "execution_count": 0,
   "metadata": {
    "application/vnd.databricks.v1+cell": {
     "cellMetadata": {
      "byteLimit": 2048000,
      "rowLimit": 10000
     },
     "inputWidgets": {},
     "nuid": "62a52c4d-8618-43e0-b168-43f354a4b90b",
     "showTitle": false,
     "title": ""
    }
   },
   "outputs": [],
   "source": [
    "%pip install --quiet mlxtend"
   ]
  },
  {
   "cell_type": "markdown",
   "metadata": {
    "application/vnd.databricks.v1+cell": {
     "cellMetadata": {
      "byteLimit": 2048000,
      "rowLimit": 10000
     },
     "inputWidgets": {},
     "nuid": "7956ef9b-0888-4aff-830a-c9522eae783e",
     "showTitle": false,
     "title": ""
    }
   },
   "source": [
    "# Preprocessing"
   ]
  },
  {
   "cell_type": "code",
   "execution_count": 0,
   "metadata": {
    "application/vnd.databricks.v1+cell": {
     "cellMetadata": {
      "byteLimit": 2048000,
      "rowLimit": 10000
     },
     "inputWidgets": {},
     "nuid": "00565c66-daf7-47a7-9f25-4f7c494fffef",
     "showTitle": false,
     "title": ""
    }
   },
   "outputs": [],
   "source": [
    "# import relevant statistical packages\n",
    "import numpy as np\n",
    "import pandas as pd"
   ]
  },
  {
   "cell_type": "code",
   "execution_count": 0,
   "metadata": {
    "application/vnd.databricks.v1+cell": {
     "cellMetadata": {
      "byteLimit": 2048000,
      "rowLimit": 10000
     },
     "inputWidgets": {},
     "nuid": "0f3b1716-f0c9-4cf0-bdc1-481bfbd3178e",
     "showTitle": false,
     "title": ""
    }
   },
   "outputs": [],
   "source": [
    "# import relevant data visualisation packages\n",
    "import matplotlib.pyplot as plt\n",
    "import seaborn as sns\n",
    "%matplotlib inline"
   ]
  },
  {
   "cell_type": "code",
   "execution_count": 0,
   "metadata": {
    "application/vnd.databricks.v1+cell": {
     "cellMetadata": {
      "byteLimit": 2048000,
      "rowLimit": 10000
     },
     "inputWidgets": {},
     "nuid": "aab0a9cb-2dd8-4259-b76c-ebd73d075867",
     "showTitle": false,
     "title": ""
    }
   },
   "outputs": [],
   "source": [
    "# import custom packages\n",
    "from sklearn.linear_model import LinearRegression\n",
    "from sklearn.metrics import r2_score as r2\n",
    "from mlxtend.feature_selection import SequentialFeatureSelector as SFS\n",
    "from mlxtend.plotting import plot_sequential_feature_selection as plot_sfs"
   ]
  },
  {
   "cell_type": "code",
   "execution_count": 0,
   "metadata": {
    "application/vnd.databricks.v1+cell": {
     "cellMetadata": {
      "byteLimit": 2048000,
      "rowLimit": 10000
     },
     "inputWidgets": {},
     "nuid": "91925c50-b843-4878-a596-77a442ecf3e0",
     "showTitle": false,
     "title": ""
    }
   },
   "outputs": [],
   "source": [
    "# import and preprocess data\n",
    "url = \"abfss://training@sa8451learningdev.dfs.core.windows.net/interpretable_machine_learning/eml_data/Hitters.csv\"\n",
    "Hitters = spark.read.option(\"header\", \"true\").csv(url).toPandas()\n",
    "\n",
    "str_cols = [\"Names\", \"NewLeague\", \"League\", \"Division\"]\n",
    "num_cols = list(set(Hitters.columns) - set(str_cols))\n",
    "Hitters[\"Salary\"] = np.where(Hitters[\"Salary\"] == \"NA\", np.nan, Hitters[\"Salary\"])\n",
    "Hitters[str_cols] = Hitters[str_cols].astype(str)\n",
    "Hitters[num_cols] = Hitters[num_cols].astype(float)"
   ]
  },
  {
   "cell_type": "code",
   "execution_count": 0,
   "metadata": {
    "application/vnd.databricks.v1+cell": {
     "cellMetadata": {
      "byteLimit": 2048000,
      "rowLimit": 10000
     },
     "inputWidgets": {},
     "nuid": "77d09631-e55c-48f4-b204-4183e85aea51",
     "showTitle": false,
     "title": ""
    }
   },
   "outputs": [],
   "source": [
    "Hitters.head()"
   ]
  },
  {
   "cell_type": "code",
   "execution_count": 0,
   "metadata": {
    "application/vnd.databricks.v1+cell": {
     "cellMetadata": {
      "byteLimit": 2048000,
      "rowLimit": 10000
     },
     "inputWidgets": {},
     "nuid": "fe9e5704-fbfc-467b-819c-c6d46903a9af",
     "showTitle": false,
     "title": ""
    }
   },
   "outputs": [],
   "source": [
    "# clean data\n",
    "print(Hitters.shape)\n",
    "Hitters = Hitters.dropna()"
   ]
  },
  {
   "cell_type": "code",
   "execution_count": 0,
   "metadata": {
    "application/vnd.databricks.v1+cell": {
     "cellMetadata": {
      "byteLimit": 2048000,
      "rowLimit": 10000
     },
     "inputWidgets": {},
     "nuid": "c6141253-f656-4b58-8e7a-a3e984152d30",
     "showTitle": false,
     "title": ""
    }
   },
   "outputs": [],
   "source": [
    "Hitters.shape"
   ]
  },
  {
   "cell_type": "code",
   "execution_count": 0,
   "metadata": {
    "application/vnd.databricks.v1+cell": {
     "cellMetadata": {
      "byteLimit": 2048000,
      "rowLimit": 10000
     },
     "inputWidgets": {},
     "nuid": "2c44abf9-85a5-493b-802c-3c9e50e8989e",
     "showTitle": false,
     "title": ""
    }
   },
   "outputs": [],
   "source": [
    "Hitters.head()"
   ]
  },
  {
   "cell_type": "code",
   "execution_count": 0,
   "metadata": {
    "application/vnd.databricks.v1+cell": {
     "cellMetadata": {
      "byteLimit": 2048000,
      "rowLimit": 10000
     },
     "inputWidgets": {},
     "nuid": "1fdab4e6-5c35-4054-b787-08d05d35c6ae",
     "showTitle": false,
     "title": ""
    }
   },
   "outputs": [],
   "source": [
    "# converting categorical data into dummy variable\n",
    "Hitters_1 = pd.get_dummies(Hitters, drop_first=True, columns=['League', 'Division', 'NewLeague'])"
   ]
  },
  {
   "cell_type": "code",
   "execution_count": 0,
   "metadata": {
    "application/vnd.databricks.v1+cell": {
     "cellMetadata": {
      "byteLimit": 2048000,
      "rowLimit": 10000
     },
     "inputWidgets": {},
     "nuid": "e4a15842-80c5-4d27-8bca-d00423a596f4",
     "showTitle": false,
     "title": ""
    }
   },
   "outputs": [],
   "source": [
    "Hitters_1.head()"
   ]
  },
  {
   "cell_type": "markdown",
   "metadata": {
    "application/vnd.databricks.v1+cell": {
     "cellMetadata": {
      "byteLimit": 2048000,
      "rowLimit": 10000
     },
     "inputWidgets": {},
     "nuid": "21aeee7f-6a46-4364-a2bc-87170f9ef83e",
     "showTitle": false,
     "title": ""
    }
   },
   "source": [
    "## Forward Stepwise Selection"
   ]
  },
  {
   "cell_type": "code",
   "execution_count": 0,
   "metadata": {
    "application/vnd.databricks.v1+cell": {
     "cellMetadata": {
      "byteLimit": 2048000,
      "rowLimit": 10000
     },
     "inputWidgets": {},
     "nuid": "1648a7ab-ee96-43bd-a11f-258133cb083e",
     "showTitle": false,
     "title": ""
    }
   },
   "outputs": [],
   "source": [
    "lmf = LinearRegression()"
   ]
  },
  {
   "cell_type": "code",
   "execution_count": 0,
   "metadata": {
    "application/vnd.databricks.v1+cell": {
     "cellMetadata": {
      "byteLimit": 2048000,
      "rowLimit": 10000
     },
     "inputWidgets": {},
     "nuid": "d46f85c0-ca79-4966-abe0-9f19082aac00",
     "showTitle": false,
     "title": ""
    }
   },
   "outputs": [],
   "source": [
    "X = Hitters_1.drop(columns = ['Salary', 'Names'])\n",
    "y = Hitters_1.Salary"
   ]
  },
  {
   "cell_type": "code",
   "execution_count": 0,
   "metadata": {
    "application/vnd.databricks.v1+cell": {
     "cellMetadata": {
      "byteLimit": 2048000,
      "rowLimit": 10000
     },
     "inputWidgets": {},
     "nuid": "445be58e-37c1-41ea-81c8-3b92785342f6",
     "showTitle": false,
     "title": ""
    }
   },
   "outputs": [],
   "source": [
    "X.head()"
   ]
  },
  {
   "cell_type": "code",
   "execution_count": 0,
   "metadata": {
    "application/vnd.databricks.v1+cell": {
     "cellMetadata": {
      "byteLimit": 2048000,
      "rowLimit": 10000
     },
     "inputWidgets": {},
     "nuid": "e639b58c-7261-4152-8be7-11b24f49bfe0",
     "showTitle": false,
     "title": ""
    }
   },
   "outputs": [],
   "source": [
    "sfs = SFS(lmf, k_features=(1,len(X.columns)), forward=True, floating=False, scoring='r2',cv=10)"
   ]
  },
  {
   "cell_type": "code",
   "execution_count": 0,
   "metadata": {
    "application/vnd.databricks.v1+cell": {
     "cellMetadata": {
      "byteLimit": 2048000,
      "rowLimit": 10000
     },
     "inputWidgets": {},
     "nuid": "fae8abf7-f8f1-4cb1-88b1-9cf2d5db5e85",
     "showTitle": false,
     "title": ""
    }
   },
   "outputs": [],
   "source": [
    "plt.xkcd()\n",
    "sfs = sfs.fit(X.values, y)\n",
    "fig = plot_sfs(sfs.get_metric_dict(), kind='std_err', color='green')\n",
    "plt.title('Forward Stepwise Selection')\n",
    "plt.ylabel('R^2')\n",
    "plt.grid()\n",
    "fig = plt.gcf()\n",
    "fig.set_size_inches(25, 10)"
   ]
  },
  {
   "cell_type": "markdown",
   "metadata": {
    "application/vnd.databricks.v1+cell": {
     "cellMetadata": {
      "byteLimit": 2048000,
      "rowLimit": 10000
     },
     "inputWidgets": {},
     "nuid": "9795a995-473a-49ed-a1c3-2503ec3e912b",
     "showTitle": false,
     "title": ""
    }
   },
   "source": [
    "**Forward stepwise selection achieves the highest $R^2$ for n=13. This means that the best regression equation will contain 13 features when employing forward stepwise selection.**"
   ]
  },
  {
   "cell_type": "code",
   "execution_count": 0,
   "metadata": {
    "application/vnd.databricks.v1+cell": {
     "cellMetadata": {
      "byteLimit": 2048000,
      "rowLimit": 10000
     },
     "inputWidgets": {},
     "nuid": "96a97d16-dd56-4cdd-9427-7a1fb02ce445",
     "showTitle": false,
     "title": ""
    }
   },
   "outputs": [],
   "source": [
    "X.columns"
   ]
  },
  {
   "cell_type": "code",
   "execution_count": 0,
   "metadata": {
    "application/vnd.databricks.v1+cell": {
     "cellMetadata": {
      "byteLimit": 2048000,
      "rowLimit": 10000
     },
     "inputWidgets": {},
     "nuid": "bd4438c0-ad0c-4124-88e7-ff2214c28741",
     "showTitle": false,
     "title": ""
    }
   },
   "outputs": [],
   "source": [
    "feat = sfs.k_feature_idx_\n",
    "feat"
   ]
  },
  {
   "cell_type": "code",
   "execution_count": 0,
   "metadata": {
    "application/vnd.databricks.v1+cell": {
     "cellMetadata": {
      "byteLimit": 2048000,
      "rowLimit": 10000
     },
     "inputWidgets": {},
     "nuid": "c90cbd2f-6c4a-4e6c-b58b-dda7d399a044",
     "showTitle": false,
     "title": ""
    }
   },
   "outputs": [],
   "source": [
    "feat_list = pd.DataFrame()\n",
    "for i in feat:\n",
    "    print(X.columns[i])\n",
    "    feat_list = feat_list.append(pd.DataFrame([X.columns[i]]))\n",
    "feat_list.reset_index(inplace=True, drop=True)\n",
    "feat_list.columns = ['Features']\n",
    "feat_list"
   ]
  },
  {
   "cell_type": "code",
   "execution_count": 0,
   "metadata": {
    "application/vnd.databricks.v1+cell": {
     "cellMetadata": {
      "byteLimit": 2048000,
      "rowLimit": 10000
     },
     "inputWidgets": {},
     "nuid": "5c614d98-a4b6-4ea5-bf13-a259e1ff537e",
     "showTitle": false,
     "title": ""
    }
   },
   "outputs": [],
   "source": [
    "X_reg = X[feat_list['Features']]\n",
    "X_reg.head()"
   ]
  },
  {
   "cell_type": "code",
   "execution_count": 0,
   "metadata": {
    "application/vnd.databricks.v1+cell": {
     "cellMetadata": {
      "byteLimit": 2048000,
      "rowLimit": 10000
     },
     "inputWidgets": {},
     "nuid": "2b85fb37-3cb7-494a-9e18-44357d09e20c",
     "showTitle": false,
     "title": ""
    }
   },
   "outputs": [],
   "source": [
    "lm_best = LinearRegression().fit(X_reg, y)"
   ]
  },
  {
   "cell_type": "code",
   "execution_count": 0,
   "metadata": {
    "application/vnd.databricks.v1+cell": {
     "cellMetadata": {
      "byteLimit": 2048000,
      "rowLimit": 10000
     },
     "inputWidgets": {},
     "nuid": "4cb17c73-b318-4ae8-acf7-d198767f0312",
     "showTitle": false,
     "title": ""
    }
   },
   "outputs": [],
   "source": [
    "final_coefs = pd.DataFrame(lm_best.coef_)\n",
    "final_coefs = pd.concat([feat_list['Features'], final_coefs], axis = 1)\n",
    "final_intercept = pd.DataFrame([lm_best.intercept_]*13)\n",
    "final_coefs = pd.concat([final_coefs, final_intercept], axis = 1)\n",
    "final_coefs.columns = ['Features', 'Coefficients', 'Intercept']\n",
    "final_coefs"
   ]
  },
  {
   "cell_type": "markdown",
   "metadata": {
    "application/vnd.databricks.v1+cell": {
     "cellMetadata": {
      "byteLimit": 2048000,
      "rowLimit": 10000
     },
     "inputWidgets": {},
     "nuid": "e3bdd537-843a-405a-bc10-c10aa308c26e",
     "showTitle": false,
     "title": ""
    }
   },
   "source": [
    "**Therefore the best regression line for Hitters using Forward Selection will be: Salary = 92.653259 -1.565413*AtBat +  6.831929*Hits + 0.132142*HmRun -0.226508*RBI + 2.622761*Walks -0.162907*CAtBat -0.877268*CHmRun + 0.992862*CRuns + 1.009177*CRBI + 0.264327*PutOuts +  56.899972*League(=N) -109.864179*Division(=W) -11.548970*NewLeague(=N).**"
   ]
  },
  {
   "cell_type": "markdown",
   "metadata": {
    "application/vnd.databricks.v1+cell": {
     "cellMetadata": {
      "byteLimit": 2048000,
      "rowLimit": 10000
     },
     "inputWidgets": {},
     "nuid": "a3c6163e-628f-4e59-a1a1-e6342dd3624e",
     "showTitle": false,
     "title": ""
    }
   },
   "source": [
    "### Backward Stepwise Selection"
   ]
  },
  {
   "cell_type": "code",
   "execution_count": 0,
   "metadata": {
    "application/vnd.databricks.v1+cell": {
     "cellMetadata": {
      "byteLimit": 2048000,
      "rowLimit": 10000
     },
     "inputWidgets": {},
     "nuid": "19c2a3b8-b798-41b3-9289-60eaa9fff888",
     "showTitle": false,
     "title": ""
    }
   },
   "outputs": [],
   "source": [
    "lmb = LinearRegression()"
   ]
  },
  {
   "cell_type": "code",
   "execution_count": 0,
   "metadata": {
    "application/vnd.databricks.v1+cell": {
     "cellMetadata": {
      "byteLimit": 2048000,
      "rowLimit": 10000
     },
     "inputWidgets": {},
     "nuid": "7454c963-464e-4ca3-9467-bcd525330150",
     "showTitle": false,
     "title": ""
    }
   },
   "outputs": [],
   "source": [
    "X = Hitters_1.drop(columns = ['Salary', 'Names'])\n",
    "y = Hitters_1.Salary"
   ]
  },
  {
   "cell_type": "code",
   "execution_count": 0,
   "metadata": {
    "application/vnd.databricks.v1+cell": {
     "cellMetadata": {
      "byteLimit": 2048000,
      "rowLimit": 10000
     },
     "inputWidgets": {},
     "nuid": "9d429406-f2d3-4d77-8458-f482a32cf2fe",
     "showTitle": false,
     "title": ""
    }
   },
   "outputs": [],
   "source": [
    "X.head()"
   ]
  },
  {
   "cell_type": "code",
   "execution_count": 0,
   "metadata": {
    "application/vnd.databricks.v1+cell": {
     "cellMetadata": {
      "byteLimit": 2048000,
      "rowLimit": 10000
     },
     "inputWidgets": {},
     "nuid": "888a411a-55f5-4264-a089-6baa61d5c762",
     "showTitle": false,
     "title": ""
    }
   },
   "outputs": [],
   "source": [
    "sfs = SFS(lmf, k_features=(1,len(X.columns)), forward=False, floating=False, scoring='r2',cv=10)"
   ]
  },
  {
   "cell_type": "code",
   "execution_count": 0,
   "metadata": {
    "application/vnd.databricks.v1+cell": {
     "cellMetadata": {
      "byteLimit": 2048000,
      "rowLimit": 10000
     },
     "inputWidgets": {},
     "nuid": "9c7be1e9-dd90-435d-9c62-99018cfdf8f6",
     "showTitle": false,
     "title": ""
    }
   },
   "outputs": [],
   "source": [
    "plt.xkcd()\n",
    "sfs = sfs.fit(X.values, y)\n",
    "fig = plot_sfs(sfs.get_metric_dict(), kind='std_err', color='green')\n",
    "plt.title('Forward Stepwise Selection')\n",
    "plt.ylabel('R^2')\n",
    "plt.grid()\n",
    "fig = plt.gcf()\n",
    "fig.set_size_inches(25, 10)"
   ]
  },
  {
   "cell_type": "markdown",
   "metadata": {
    "application/vnd.databricks.v1+cell": {
     "cellMetadata": {
      "byteLimit": 2048000,
      "rowLimit": 10000
     },
     "inputWidgets": {},
     "nuid": "29acdd42-2e7f-4da9-a2ae-723e379053da",
     "showTitle": false,
     "title": ""
    }
   },
   "source": [
    "**Backward stepwise selection achieves the highest $𝑅^2$ for n=8. This means that the best regression equation will contain 8 features when employing backward stepwise selection.**"
   ]
  },
  {
   "cell_type": "code",
   "execution_count": 0,
   "metadata": {
    "application/vnd.databricks.v1+cell": {
     "cellMetadata": {
      "byteLimit": 2048000,
      "rowLimit": 10000
     },
     "inputWidgets": {},
     "nuid": "6492d8d6-f04b-41f8-a831-5bd5ceb4c18a",
     "showTitle": false,
     "title": ""
    }
   },
   "outputs": [],
   "source": [
    "X.columns"
   ]
  },
  {
   "cell_type": "code",
   "execution_count": 0,
   "metadata": {
    "application/vnd.databricks.v1+cell": {
     "cellMetadata": {
      "byteLimit": 2048000,
      "rowLimit": 10000
     },
     "inputWidgets": {},
     "nuid": "06190352-d5e8-444b-ba5b-4d616d4ebbc3",
     "showTitle": false,
     "title": ""
    }
   },
   "outputs": [],
   "source": [
    "feat = sfs.k_feature_idx_[:8]\n",
    "feat"
   ]
  },
  {
   "cell_type": "code",
   "execution_count": 0,
   "metadata": {
    "application/vnd.databricks.v1+cell": {
     "cellMetadata": {
      "byteLimit": 2048000,
      "rowLimit": 10000
     },
     "inputWidgets": {},
     "nuid": "e6fffd34-cce5-49e5-b80c-fcf2b577886d",
     "showTitle": false,
     "title": ""
    }
   },
   "outputs": [],
   "source": [
    "feat_list = pd.DataFrame()\n",
    "for i in feat:\n",
    "    print(X.columns[i])\n",
    "    feat_list = feat_list.append(pd.DataFrame([X.columns[i]]))\n",
    "feat_list.reset_index(inplace=True, drop=True)\n",
    "feat_list.columns = ['Features']\n",
    "feat_list"
   ]
  },
  {
   "cell_type": "code",
   "execution_count": 0,
   "metadata": {
    "application/vnd.databricks.v1+cell": {
     "cellMetadata": {
      "byteLimit": 2048000,
      "rowLimit": 10000
     },
     "inputWidgets": {},
     "nuid": "1e907884-5ef3-439b-b30a-251a264272c9",
     "showTitle": false,
     "title": ""
    }
   },
   "outputs": [],
   "source": [
    "X_reg = X[feat_list['Features']]\n",
    "X_reg.head()"
   ]
  },
  {
   "cell_type": "code",
   "execution_count": 0,
   "metadata": {
    "application/vnd.databricks.v1+cell": {
     "cellMetadata": {
      "byteLimit": 2048000,
      "rowLimit": 10000
     },
     "inputWidgets": {},
     "nuid": "567c4375-eb2d-4802-9c55-cbfff951d6b2",
     "showTitle": false,
     "title": ""
    }
   },
   "outputs": [],
   "source": [
    "lm_best = LinearRegression().fit(X_reg, y)"
   ]
  },
  {
   "cell_type": "code",
   "execution_count": 0,
   "metadata": {
    "application/vnd.databricks.v1+cell": {
     "cellMetadata": {
      "byteLimit": 2048000,
      "rowLimit": 10000
     },
     "inputWidgets": {},
     "nuid": "215aa548-fe94-412f-a53d-f01d21ec3aea",
     "showTitle": false,
     "title": ""
    }
   },
   "outputs": [],
   "source": [
    "final_coefs = pd.DataFrame(lm_best.coef_)\n",
    "final_coefs = pd.concat([feat_list['Features'], final_coefs], axis = 1)\n",
    "final_intercept = pd.DataFrame([lm_best.intercept_]*8)\n",
    "final_coefs = pd.concat([final_coefs, final_intercept], axis = 1)\n",
    "final_coefs.columns = ['Features', 'Coefficients', 'Intercept']\n",
    "final_coefs"
   ]
  },
  {
   "cell_type": "markdown",
   "metadata": {
    "application/vnd.databricks.v1+cell": {
     "cellMetadata": {
      "byteLimit": 2048000,
      "rowLimit": 10000
     },
     "inputWidgets": {},
     "nuid": "96b6b2c7-481d-4956-9d97-6637fd454a96",
     "showTitle": false,
     "title": ""
    }
   },
   "source": [
    "**Therefore the best regression line for Hitters using Forward Selection will be: Salary = 118.235253 -1.749469*AtBat + 7.268237*Hits + 2.709401*Walks -0.108637*CAtBat +  0.810856*CRuns + 0.606283*CRBI + 0.277954*PutOuts -111.070298*Division(=W).**"
   ]
  },
  {
   "cell_type": "code",
   "execution_count": 0,
   "metadata": {
    "application/vnd.databricks.v1+cell": {
     "cellMetadata": {
      "byteLimit": 2048000,
      "rowLimit": 10000
     },
     "inputWidgets": {},
     "nuid": "a82ce09a-12fb-413b-a16b-8626c550f1d4",
     "showTitle": false,
     "title": ""
    }
   },
   "outputs": [],
   "source": []
  }
 ],
 "metadata": {
  "application/vnd.databricks.v1+notebook": {
   "dashboards": [],
   "language": "python",
   "notebookMetadata": {
    "pythonIndentUnit": 2
   },
   "notebookName": "6.5.2 Forward and Backward Stepwise Selection",
   "widgets": {}
  }
 },
 "nbformat": 4,
 "nbformat_minor": 0
}
