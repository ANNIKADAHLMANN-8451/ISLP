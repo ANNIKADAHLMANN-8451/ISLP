{
 "cells": [
  {
   "cell_type": "markdown",
   "metadata": {
    "application/vnd.databricks.v1+cell": {
     "cellMetadata": {
      "byteLimit": 2048000,
      "rowLimit": 10000
     },
     "inputWidgets": {},
     "nuid": "f21a94c2-268a-4888-b8df-253c9bca1aec",
     "showTitle": false,
     "title": ""
    }
   },
   "source": [
    "### Preprocessing"
   ]
  },
  {
   "cell_type": "code",
   "execution_count": 0,
   "metadata": {
    "application/vnd.databricks.v1+cell": {
     "cellMetadata": {
      "byteLimit": 2048000,
      "rowLimit": 10000
     },
     "inputWidgets": {},
     "nuid": "5bbe3583-551a-4b5d-b3c9-bd8ba002b384",
     "showTitle": false,
     "title": ""
    }
   },
   "outputs": [],
   "source": [
    "# import relevant statistical packages\n",
    "import numpy as np\n",
    "import pandas as pd"
   ]
  },
  {
   "cell_type": "code",
   "execution_count": 0,
   "metadata": {
    "application/vnd.databricks.v1+cell": {
     "cellMetadata": {
      "byteLimit": 2048000,
      "rowLimit": 10000
     },
     "inputWidgets": {},
     "nuid": "8902afaf-33cb-454b-9a0d-c734a5c6236e",
     "showTitle": false,
     "title": ""
    }
   },
   "outputs": [],
   "source": [
    "# import relevant data visualisation packages\n",
    "import matplotlib.pyplot as plt\n",
    "import seaborn as sns\n",
    "%matplotlib inline"
   ]
  },
  {
   "cell_type": "code",
   "execution_count": 0,
   "metadata": {
    "application/vnd.databricks.v1+cell": {
     "cellMetadata": {
      "byteLimit": 2048000,
      "rowLimit": 10000
     },
     "inputWidgets": {},
     "nuid": "44a6bf4c-1bc1-4c13-9058-46ee13388d39",
     "showTitle": false,
     "title": ""
    }
   },
   "outputs": [],
   "source": [
    "# import custom packages\n",
    "from sklearn.decomposition import PCA\n",
    "from sklearn.metrics import mean_squared_error"
   ]
  },
  {
   "cell_type": "code",
   "execution_count": 0,
   "metadata": {
    "application/vnd.databricks.v1+cell": {
     "cellMetadata": {
      "byteLimit": 2048000,
      "rowLimit": 10000
     },
     "inputWidgets": {},
     "nuid": "6b96c4bb-61c1-4a82-a93a-4163002eaa2d",
     "showTitle": false,
     "title": ""
    }
   },
   "outputs": [],
   "source": [
    "# import and preprocess data\n",
    "url = \"abfss://training@sa8451learningdev.dfs.core.windows.net/interpretable_machine_learning/eml_data/Hitters.csv\"\n",
    "Hitters = spark.read.option(\"header\", \"true\").csv(url).toPandas()\n",
    "\n",
    "str_cols = [\"Names\", \"NewLeague\", \"League\", \"Division\"]\n",
    "num_cols = list(set(Hitters.columns) - set(str_cols))\n",
    "Hitters[\"Salary\"] = np.where(Hitters[\"Salary\"] == \"NA\", np.nan, Hitters[\"Salary\"])\n",
    "Hitters[str_cols] = Hitters[str_cols].astype(str)\n",
    "Hitters[num_cols] = Hitters[num_cols].astype(float)"
   ]
  },
  {
   "cell_type": "code",
   "execution_count": 0,
   "metadata": {
    "application/vnd.databricks.v1+cell": {
     "cellMetadata": {
      "byteLimit": 2048000,
      "rowLimit": 10000
     },
     "inputWidgets": {},
     "nuid": "c6849acf-bf46-4470-b1fc-83a07d6718b3",
     "showTitle": false,
     "title": ""
    }
   },
   "outputs": [],
   "source": [
    "Hitters.head()"
   ]
  },
  {
   "cell_type": "code",
   "execution_count": 0,
   "metadata": {
    "application/vnd.databricks.v1+cell": {
     "cellMetadata": {
      "byteLimit": 2048000,
      "rowLimit": 10000
     },
     "inputWidgets": {},
     "nuid": "8473c0b9-709c-4dc5-ba24-4526321acb13",
     "showTitle": false,
     "title": ""
    }
   },
   "outputs": [],
   "source": [
    "# clean data\n",
    "print(Hitters.shape)\n",
    "Hitters = Hitters.dropna()"
   ]
  },
  {
   "cell_type": "code",
   "execution_count": 0,
   "metadata": {
    "application/vnd.databricks.v1+cell": {
     "cellMetadata": {
      "byteLimit": 2048000,
      "rowLimit": 10000
     },
     "inputWidgets": {},
     "nuid": "87aec10d-dce2-4ac9-88ef-bd56b92eb9b0",
     "showTitle": false,
     "title": ""
    }
   },
   "outputs": [],
   "source": [
    "Hitters.shape"
   ]
  },
  {
   "cell_type": "code",
   "execution_count": 0,
   "metadata": {
    "application/vnd.databricks.v1+cell": {
     "cellMetadata": {
      "byteLimit": 2048000,
      "rowLimit": 10000
     },
     "inputWidgets": {},
     "nuid": "3ec3a32f-aa08-4d88-a200-ddcab00db05e",
     "showTitle": false,
     "title": ""
    }
   },
   "outputs": [],
   "source": [
    "Hitters.head()"
   ]
  },
  {
   "cell_type": "code",
   "execution_count": 0,
   "metadata": {
    "application/vnd.databricks.v1+cell": {
     "cellMetadata": {
      "byteLimit": 2048000,
      "rowLimit": 10000
     },
     "inputWidgets": {},
     "nuid": "215659bd-4fab-421a-89ec-f9241b99538d",
     "showTitle": false,
     "title": ""
    }
   },
   "outputs": [],
   "source": [
    "# converting categorical data into dummy variable\n",
    "Hitters_1 = pd.get_dummies(Hitters, drop_first=True, columns=['League', 'Division', 'NewLeague'])\n",
    "Hitters_1.head()"
   ]
  },
  {
   "cell_type": "markdown",
   "metadata": {
    "application/vnd.databricks.v1+cell": {
     "cellMetadata": {
      "byteLimit": 2048000,
      "rowLimit": 10000
     },
     "inputWidgets": {},
     "nuid": "75cea705-4633-4887-b9f1-660ec4312c38",
     "showTitle": false,
     "title": ""
    }
   },
   "source": [
    "### Split dataset into training and test dataset (and standardise them)"
   ]
  },
  {
   "cell_type": "code",
   "execution_count": 0,
   "metadata": {
    "application/vnd.databricks.v1+cell": {
     "cellMetadata": {
      "byteLimit": 2048000,
      "rowLimit": 10000
     },
     "inputWidgets": {},
     "nuid": "8926df69-860a-413a-9b33-17a23e369bf3",
     "showTitle": false,
     "title": ""
    }
   },
   "outputs": [],
   "source": [
    "from sklearn.model_selection import train_test_split\n",
    "X = Hitters_1.drop(columns = ['Salary', 'Names'])\n",
    "y = Hitters_1.Salary\n",
    "X_train, X_test, y_train, y_test = train_test_split(X, y, test_size=0.5, random_state=42)"
   ]
  },
  {
   "cell_type": "markdown",
   "metadata": {
    "application/vnd.databricks.v1+cell": {
     "cellMetadata": {
      "byteLimit": 2048000,
      "rowLimit": 10000
     },
     "inputWidgets": {},
     "nuid": "138c54aa-098b-4a2a-b10d-97b09c25d31a",
     "showTitle": false,
     "title": ""
    }
   },
   "source": [
    "### Partial least squares regression"
   ]
  },
  {
   "cell_type": "code",
   "execution_count": 0,
   "metadata": {
    "application/vnd.databricks.v1+cell": {
     "cellMetadata": {
      "byteLimit": 2048000,
      "rowLimit": 10000
     },
     "inputWidgets": {},
     "nuid": "ee3333c6-cf77-488b-8c41-42c635692128",
     "showTitle": false,
     "title": ""
    }
   },
   "outputs": [],
   "source": [
    "from sklearn.cross_decomposition import PLSRegression as PLS\n",
    "from sklearn.preprocessing import scale"
   ]
  },
  {
   "cell_type": "code",
   "execution_count": 0,
   "metadata": {
    "application/vnd.databricks.v1+cell": {
     "cellMetadata": {
      "byteLimit": 2048000,
      "rowLimit": 10000
     },
     "inputWidgets": {},
     "nuid": "255f7014-2bc2-422e-a0cf-672c081ff083",
     "showTitle": false,
     "title": ""
    }
   },
   "outputs": [],
   "source": [
    "n = len(X_train)\n",
    "n"
   ]
  },
  {
   "cell_type": "code",
   "execution_count": 0,
   "metadata": {
    "application/vnd.databricks.v1+cell": {
     "cellMetadata": {
      "byteLimit": 2048000,
      "rowLimit": 10000
     },
     "inputWidgets": {},
     "nuid": "92a5db70-abc3-4879-8ee5-4ed492b6ce39",
     "showTitle": false,
     "title": ""
    }
   },
   "outputs": [],
   "source": [
    "from sklearn.model_selection import KFold, cross_val_score\n",
    "import warnings\n",
    "warnings.filterwarnings('ignore')\n",
    "kf10 = KFold(n_splits=10, shuffle=True, random_state=1)\n",
    "\n",
    "RMSEdf = pd.DataFrame()\n",
    "\n",
    "for i in np.arange(1, 20):\n",
    "    pls = PLS(n_components=i)\n",
    "    MSE = -1*cross_val_score(pls, scale(X_train), y_train, cv=kf10, scoring='neg_mean_squared_error').mean()\n",
    "    RMSEdf = RMSEdf.append([pow(MSE, 0.5)])\n",
    "    \n",
    "RMSEdf.columns = ['MSE']\n",
    "RMSEdf.reset_index(drop=True, inplace=True)\n",
    "RMSEdf.index = RMSEdf.index + 1\n",
    "RMSEdf"
   ]
  },
  {
   "cell_type": "code",
   "execution_count": 0,
   "metadata": {
    "application/vnd.databricks.v1+cell": {
     "cellMetadata": {
      "byteLimit": 2048000,
      "rowLimit": 10000
     },
     "inputWidgets": {},
     "nuid": "5d7e5ade-82da-4f44-b6b9-f33e3e4f402e",
     "showTitle": false,
     "title": ""
    }
   },
   "outputs": [],
   "source": [
    "# Plot of PCR results\n",
    "plt.xkcd()\n",
    "plt.figure(figsize=(25, 10))\n",
    "plt.plot(RMSEdf, '-', marker = 'o', markerfacecolor='blue', markersize=8, color='green')\n",
    "plt.xlabel('number of principal components', fontsize=20)\n",
    "plt.ylabel('RMSE', fontsize=20)\n",
    "plt.title('partial least squares results', fontsize=30)\n",
    "plt.xlim(xmin=1)\n",
    "plt.xlim(xmax=19);"
   ]
  },
  {
   "cell_type": "markdown",
   "metadata": {
    "application/vnd.databricks.v1+cell": {
     "cellMetadata": {
      "byteLimit": 2048000,
      "rowLimit": 10000
     },
     "inputWidgets": {},
     "nuid": "60074aa0-4732-49d3-98f4-f87bdc6bfab7",
     "showTitle": false,
     "title": ""
    }
   },
   "source": [
    "**The lowest RMSE is when I regress using 2 principal components using partial least squares.**"
   ]
  },
  {
   "cell_type": "code",
   "execution_count": 0,
   "metadata": {
    "application/vnd.databricks.v1+cell": {
     "cellMetadata": {
      "byteLimit": 2048000,
      "rowLimit": 10000
     },
     "inputWidgets": {},
     "nuid": "9330cd2b-2216-4462-af24-11eb4a6ea1d1",
     "showTitle": false,
     "title": ""
    }
   },
   "outputs": [],
   "source": [
    "pls2 = PLS(n_components=2, scale=True)\n",
    "pls2.fit(scale(X_train), y_train)\n",
    "\n",
    "pls2pred = pls2.predict(scale(X_test))\n",
    "print(np.sqrt(mean_squared_error(y_test, pls2pred)))"
   ]
  },
  {
   "cell_type": "code",
   "execution_count": 0,
   "metadata": {
    "application/vnd.databricks.v1+cell": {
     "cellMetadata": {
      "byteLimit": 2048000,
      "rowLimit": 10000
     },
     "inputWidgets": {},
     "nuid": "930ffcfb-45cf-4a91-9c4a-169a1a1aa836",
     "showTitle": false,
     "title": ""
    }
   },
   "outputs": [],
   "source": [
    "explained_variance_ratio_test = np.var(scale(X_test), axis=0) / np.sum(np.var(scale(X_test), axis=0))\n",
    "EVR2 = pd.DataFrame(np.cumsum(np.round(explained_variance_ratio_test, decimals=4)*100), columns=['Explained Variance Ratio'])\n",
    "EVR2.index = EVR2.index + 1\n",
    "EVR2"
   ]
  },
  {
   "cell_type": "code",
   "execution_count": 0,
   "metadata": {
    "application/vnd.databricks.v1+cell": {
     "cellMetadata": {
      "byteLimit": 2048000,
      "rowLimit": 10000
     },
     "inputWidgets": {},
     "nuid": "7a386fb1-a972-4177-865c-4e1773b94b6f",
     "showTitle": false,
     "title": ""
    }
   },
   "outputs": [],
   "source": []
  }
 ],
 "metadata": {
  "application/vnd.databricks.v1+notebook": {
   "dashboards": [],
   "language": "python",
   "notebookMetadata": {
    "pythonIndentUnit": 2
   },
   "notebookName": "6.7.2 Partial Least Squares",
   "widgets": {}
  }
 },
 "nbformat": 4,
 "nbformat_minor": 0
}
