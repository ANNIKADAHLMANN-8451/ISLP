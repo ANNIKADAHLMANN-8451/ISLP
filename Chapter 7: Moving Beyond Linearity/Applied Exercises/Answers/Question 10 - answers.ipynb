{
 "cells": [
  {
   "cell_type": "markdown",
   "metadata": {
    "application/vnd.databricks.v1+cell": {
     "cellMetadata": {
      "byteLimit": 2048000,
      "rowLimit": 10000
     },
     "inputWidgets": {},
     "nuid": "08ed07ff-15ab-47c0-bec9-97759af93789",
     "showTitle": false,
     "title": ""
    }
   },
   "source": [
    "This question relates to the `College` data set."
   ]
  },
  {
   "cell_type": "code",
   "execution_count": 0,
   "metadata": {
    "application/vnd.databricks.v1+cell": {
     "cellMetadata": {
      "byteLimit": 2048000,
      "rowLimit": 10000
     },
     "inputWidgets": {},
     "nuid": "cdda7957-3b93-413e-aa58-89ed98a23a66",
     "showTitle": false,
     "title": ""
    }
   },
   "outputs": [],
   "source": [
    "%pip install --quiet mlxtend pygam"
   ]
  },
  {
   "cell_type": "markdown",
   "metadata": {
    "application/vnd.databricks.v1+cell": {
     "cellMetadata": {
      "byteLimit": 2048000,
      "rowLimit": 10000
     },
     "inputWidgets": {},
     "nuid": "9d3cd319-ef20-40d8-9869-31562f3f92fb",
     "showTitle": false,
     "title": ""
    }
   },
   "source": [
    "### Preprocessing"
   ]
  },
  {
   "cell_type": "code",
   "execution_count": 0,
   "metadata": {
    "application/vnd.databricks.v1+cell": {
     "cellMetadata": {
      "byteLimit": 2048000,
      "rowLimit": 10000
     },
     "inputWidgets": {},
     "nuid": "c99459ea-359a-49e2-aa09-6c0561b5fea3",
     "showTitle": false,
     "title": ""
    }
   },
   "outputs": [],
   "source": [
    "# import relevant statistical packages\n",
    "import numpy as np\n",
    "import pandas as pd"
   ]
  },
  {
   "cell_type": "code",
   "execution_count": 0,
   "metadata": {
    "application/vnd.databricks.v1+cell": {
     "cellMetadata": {
      "byteLimit": 2048000,
      "rowLimit": 10000
     },
     "inputWidgets": {},
     "nuid": "79fc3332-da75-4db2-a97a-5920491c88d8",
     "showTitle": false,
     "title": ""
    }
   },
   "outputs": [],
   "source": [
    "# import relevant data visualisation packages\n",
    "import matplotlib.pyplot as plt\n",
    "import seaborn as sns\n",
    "%matplotlib inline"
   ]
  },
  {
   "cell_type": "code",
   "execution_count": 0,
   "metadata": {
    "application/vnd.databricks.v1+cell": {
     "cellMetadata": {
      "byteLimit": 2048000,
      "rowLimit": 10000
     },
     "inputWidgets": {},
     "nuid": "25d76a5b-0a55-4a30-a4e7-88d911c7b11b",
     "showTitle": false,
     "title": ""
    }
   },
   "outputs": [],
   "source": [
    "# import custom packages\n",
    "from sklearn.metrics import mean_squared_error\n",
    "from sklearn.linear_model import LinearRegression\n",
    "from sklearn.metrics import r2_score, mean_squared_error\n",
    "from mlxtend.feature_selection import ExhaustiveFeatureSelector as EFS\n",
    "from mlxtend.plotting import plot_linear_regression as PLS\n",
    "from sklearn.preprocessing import scale\n",
    "from mlxtend.feature_selection import SequentialFeatureSelector as SFS\n",
    "from mlxtend.plotting import plot_sequential_feature_selection as plot_sfs"
   ]
  },
  {
   "cell_type": "code",
   "execution_count": 0,
   "metadata": {
    "application/vnd.databricks.v1+cell": {
     "cellMetadata": {
      "byteLimit": 2048000,
      "rowLimit": 10000
     },
     "inputWidgets": {},
     "nuid": "98b1e2f9-0c17-4a08-abab-38462f317ccf",
     "showTitle": false,
     "title": ""
    }
   },
   "outputs": [],
   "source": [
    "# load and preprocess data\n",
    "url = \"abfss://training@sa8451learningdev.dfs.core.windows.net/interpretable_machine_learning/eml_data/College.csv\"\n",
    "College = spark.read.option(\"header\", \"true\").csv(url).toPandas()\n",
    "College.set_index(\"_c0\", inplace=True)\n",
    "\n",
    "str_cols = [\"Private\"]\n",
    "float_cols = [\"S.F.Ratio\"]\n",
    "int_cols = list(set(College.columns)-set(str_cols)-set(float_cols))\n",
    "College[str_cols] = College[str_cols].astype(str)\n",
    "College[float_cols] = College[float_cols].astype(float)\n",
    "College[int_cols] = College[int_cols].astype(int)"
   ]
  },
  {
   "cell_type": "code",
   "execution_count": 0,
   "metadata": {
    "application/vnd.databricks.v1+cell": {
     "cellMetadata": {
      "byteLimit": 2048000,
      "rowLimit": 10000
     },
     "inputWidgets": {},
     "nuid": "16eb3d3b-707f-4049-91f4-9684000ec70a",
     "showTitle": false,
     "title": ""
    }
   },
   "outputs": [],
   "source": [
    "College.head()"
   ]
  },
  {
   "cell_type": "code",
   "execution_count": 0,
   "metadata": {
    "application/vnd.databricks.v1+cell": {
     "cellMetadata": {
      "byteLimit": 2048000,
      "rowLimit": 10000
     },
     "inputWidgets": {},
     "nuid": "a6a1f889-3ab8-46e0-bd22-e446a515d8e8",
     "showTitle": false,
     "title": ""
    }
   },
   "outputs": [],
   "source": [
    "College.info()"
   ]
  },
  {
   "cell_type": "code",
   "execution_count": 0,
   "metadata": {
    "application/vnd.databricks.v1+cell": {
     "cellMetadata": {
      "byteLimit": 2048000,
      "rowLimit": 10000
     },
     "inputWidgets": {},
     "nuid": "184a1bfe-4395-414e-91e4-209b63dfa866",
     "showTitle": false,
     "title": ""
    }
   },
   "outputs": [],
   "source": [
    "College = pd.get_dummies(data=College, columns=['Private'], drop_first=True)"
   ]
  },
  {
   "cell_type": "code",
   "execution_count": 0,
   "metadata": {
    "application/vnd.databricks.v1+cell": {
     "cellMetadata": {
      "byteLimit": 2048000,
      "rowLimit": 10000
     },
     "inputWidgets": {},
     "nuid": "867a7658-5d82-4e79-9834-b776bde096d4",
     "showTitle": false,
     "title": ""
    }
   },
   "outputs": [],
   "source": [
    "College.head()"
   ]
  },
  {
   "cell_type": "markdown",
   "metadata": {
    "application/vnd.databricks.v1+cell": {
     "cellMetadata": {
      "byteLimit": 2048000,
      "rowLimit": 10000
     },
     "inputWidgets": {},
     "nuid": "83412cc6-2ac6-4190-b1e8-3f948f3a5ab9",
     "showTitle": false,
     "title": ""
    }
   },
   "source": [
    "**a. Split the data into a training set and a test set. Using out-of-state\n",
    "tuition as the response and the other variables as the predictors,\n",
    "perform forward stepwise selection on the training set in order\n",
    "to identify a satisfactory model that uses just a subset of the\n",
    "predictors.**"
   ]
  },
  {
   "cell_type": "code",
   "execution_count": 0,
   "metadata": {
    "application/vnd.databricks.v1+cell": {
     "cellMetadata": {
      "byteLimit": 2048000,
      "rowLimit": 10000
     },
     "inputWidgets": {},
     "nuid": "e0ba9c94-dc87-42a3-91a3-63afde821bdb",
     "showTitle": false,
     "title": ""
    }
   },
   "outputs": [],
   "source": [
    "from sklearn.model_selection import train_test_split\n",
    "from pygam import LinearGAM\n",
    "from pygam.terms import gen_edge_knots"
   ]
  },
  {
   "cell_type": "code",
   "execution_count": 0,
   "metadata": {
    "application/vnd.databricks.v1+cell": {
     "cellMetadata": {
      "byteLimit": 2048000,
      "rowLimit": 10000
     },
     "inputWidgets": {},
     "nuid": "2d8076f2-66c2-4326-af69-4c476a8f6ec9",
     "showTitle": false,
     "title": ""
    }
   },
   "outputs": [],
   "source": [
    "X = College.drop(columns='Outstate')\n",
    "y = College.Outstate"
   ]
  },
  {
   "cell_type": "code",
   "execution_count": 0,
   "metadata": {
    "application/vnd.databricks.v1+cell": {
     "cellMetadata": {
      "byteLimit": 2048000,
      "rowLimit": 10000
     },
     "inputWidgets": {},
     "nuid": "b9c41cbc-c79f-4b97-8388-04820cdfd706",
     "showTitle": false,
     "title": ""
    }
   },
   "outputs": [],
   "source": [
    "lmf = LinearRegression()\n",
    "sfs = SFS(lmf, k_features=(1,len(X.columns)), forward=True, floating=False, scoring='r2',cv=10)"
   ]
  },
  {
   "cell_type": "code",
   "execution_count": 0,
   "metadata": {
    "application/vnd.databricks.v1+cell": {
     "cellMetadata": {
      "byteLimit": 2048000,
      "rowLimit": 10000
     },
     "inputWidgets": {},
     "nuid": "6eed4afb-38d0-4699-bb36-c702e3eddd58",
     "showTitle": false,
     "title": ""
    }
   },
   "outputs": [],
   "source": [
    "plt.xkcd()\n",
    "sfs = sfs.fit(X.values, y)\n",
    "fig = plot_sfs(sfs.get_metric_dict(), kind='std_err', color='green')\n",
    "plt.title('Forward Stepwise Selection')\n",
    "plt.ylabel('R^2')\n",
    "plt.grid()\n",
    "fig = plt.gcf()\n",
    "fig.set_size_inches(25, 10)\n",
    "[plt.hlines(0.735 , 0, 18, linestyles='dashed', lw=2, colors='c')]\n",
    "[plt.vlines(12 , 0, 0.8, linestyles='dashed', lw=2, colors='c')]"
   ]
  },
  {
   "cell_type": "markdown",
   "metadata": {
    "application/vnd.databricks.v1+cell": {
     "cellMetadata": {
      "byteLimit": 2048000,
      "rowLimit": 10000
     },
     "inputWidgets": {},
     "nuid": "0cb983be-7905-4e7b-bfd9-f3044c1cb636",
     "showTitle": false,
     "title": ""
    }
   },
   "source": [
    "Forward stepwise selection achieves the highest $R^2$ for n=12. This means that the best regression equation will contain 12 features when employing forward stepwise selection."
   ]
  },
  {
   "cell_type": "code",
   "execution_count": 0,
   "metadata": {
    "application/vnd.databricks.v1+cell": {
     "cellMetadata": {
      "byteLimit": 2048000,
      "rowLimit": 10000
     },
     "inputWidgets": {},
     "nuid": "a77915a5-7b31-493f-be4c-f9d074489562",
     "showTitle": false,
     "title": ""
    }
   },
   "outputs": [],
   "source": [
    "feat = sfs.k_feature_idx_\n",
    "feat_list = pd.DataFrame()\n",
    "for i in feat:\n",
    "    print(X.columns[i])\n",
    "    feat_list = feat_list.append(pd.DataFrame([X.columns[i]]))\n",
    "feat_list.columns = ['Features']\n",
    "feat_list.reset_index(inplace=True, drop=True)\n",
    "feat_list.head()"
   ]
  }
 ],
 "metadata": {
  "application/vnd.databricks.v1+notebook": {
   "dashboards": [],
   "language": "python",
   "notebookMetadata": {
    "pythonIndentUnit": 2
   },
   "notebookName": "Question 10 - answers",
   "widgets": {}
  }
 },
 "nbformat": 4,
 "nbformat_minor": 0
}
