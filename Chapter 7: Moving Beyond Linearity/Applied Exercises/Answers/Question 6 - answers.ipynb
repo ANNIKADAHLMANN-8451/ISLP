{
 "cells": [
  {
   "cell_type": "markdown",
   "metadata": {
    "application/vnd.databricks.v1+cell": {
     "cellMetadata": {
      "byteLimit": 2048000,
      "rowLimit": 10000
     },
     "inputWidgets": {},
     "nuid": "ad14925f-865b-4cc4-bb69-fea0e1d43464",
     "showTitle": false,
     "title": ""
    }
   },
   "source": [
    "In this exercise, you will further analyze the `Wage` data set considered\n",
    "throughout this chapter."
   ]
  },
  {
   "cell_type": "markdown",
   "metadata": {
    "application/vnd.databricks.v1+cell": {
     "cellMetadata": {
      "byteLimit": 2048000,
      "rowLimit": 10000
     },
     "inputWidgets": {},
     "nuid": "45ffe3cc-a829-499f-8ea2-afffaf52aad7",
     "showTitle": false,
     "title": ""
    }
   },
   "source": [
    "### Preprocessing"
   ]
  },
  {
   "cell_type": "code",
   "execution_count": 0,
   "metadata": {
    "application/vnd.databricks.v1+cell": {
     "cellMetadata": {
      "byteLimit": 2048000,
      "rowLimit": 10000
     },
     "inputWidgets": {},
     "nuid": "04b3aa4c-c590-417a-8957-8d8d717c3b50",
     "showTitle": false,
     "title": ""
    }
   },
   "outputs": [],
   "source": [
    "# import packages\n",
    "import numpy as np\n",
    "import pandas as pd\n",
    "import statsmodels.api as sm\n",
    "from statsmodels.formula.api import ols\n",
    "from scipy import stats\n",
    "import matplotlib.pyplot as plt\n",
    "pd.options.display.float_format = '{:,}'.format\n",
    "import seaborn as sns\n",
    "%matplotlib inline"
   ]
  },
  {
   "cell_type": "code",
   "execution_count": 0,
   "metadata": {
    "application/vnd.databricks.v1+cell": {
     "cellMetadata": {
      "byteLimit": 2048000,
      "rowLimit": 10000
     },
     "inputWidgets": {},
     "nuid": "1c7ed2c6-3a51-4ec3-a4b3-2f7c20171ce2",
     "showTitle": false,
     "title": ""
    }
   },
   "outputs": [],
   "source": [
    "# load and preprocess data\n",
    "url = \"abfss://training@sa8451learningdev.dfs.core.windows.net/interpretable_machine_learning/eml_data/Wage.csv\"\n",
    "Wage = spark.read.option(\"header\", \"true\").csv(url).toPandas()\n",
    "Wage.set_index(\"SlNo\", inplace=True)\n",
    "\n",
    "str_cols = [\"maritl\", \"race\", \"education\", \"region\", \"jobclass\", \"health\", \"health_ins\"]\n",
    "float_cols = [\"logwage\", \"wage\"]\n",
    "int_cols = list(set(Wage.columns)-set(str_cols)-set(float_cols))\n",
    "Wage[str_cols] = Wage[str_cols].astype(str)\n",
    "Wage[float_cols] = Wage[float_cols].astype(float)\n",
    "Wage[int_cols] = Wage[int_cols].astype(int)"
   ]
  },
  {
   "cell_type": "code",
   "execution_count": 0,
   "metadata": {
    "application/vnd.databricks.v1+cell": {
     "cellMetadata": {
      "byteLimit": 2048000,
      "rowLimit": 10000
     },
     "inputWidgets": {},
     "nuid": "97686a3b-9e0f-431a-9b99-533e7ea66665",
     "showTitle": false,
     "title": ""
    }
   },
   "outputs": [],
   "source": [
    "Wage.head()"
   ]
  },
  {
   "cell_type": "code",
   "execution_count": 0,
   "metadata": {
    "application/vnd.databricks.v1+cell": {
     "cellMetadata": {
      "byteLimit": 2048000,
      "rowLimit": 10000
     },
     "inputWidgets": {},
     "nuid": "c72970ff-d210-4c53-9d91-bb58dae248ca",
     "showTitle": false,
     "title": ""
    }
   },
   "outputs": [],
   "source": [
    "Wage.describe().round(2)"
   ]
  },
  {
   "cell_type": "code",
   "execution_count": 0,
   "metadata": {
    "application/vnd.databricks.v1+cell": {
     "cellMetadata": {
      "byteLimit": 2048000,
      "rowLimit": 10000
     },
     "inputWidgets": {},
     "nuid": "4414dc6c-e2bf-4b07-8212-9e89e50ee382",
     "showTitle": false,
     "title": ""
    }
   },
   "outputs": [],
   "source": [
    "Wage.info()"
   ]
  },
  {
   "cell_type": "markdown",
   "metadata": {
    "application/vnd.databricks.v1+cell": {
     "cellMetadata": {
      "byteLimit": 2048000,
      "rowLimit": 10000
     },
     "inputWidgets": {},
     "nuid": "1a5c0455-73e8-4a01-9e77-8b93d1f24117",
     "showTitle": false,
     "title": ""
    }
   },
   "source": [
    "**a. Perform polynomial regression to predict `wage` using `age`. Use\n",
    "cross-validation to select the optimal degree d for the polynomial. What degree was chosen, and how does this compare to\n",
    "the results of hypothesis testing using ANOVA? Make a plot of\n",
    "the resulting polynomial ft to the data.**"
   ]
  },
  {
   "cell_type": "code",
   "execution_count": 0,
   "metadata": {
    "application/vnd.databricks.v1+cell": {
     "cellMetadata": {
      "byteLimit": 2048000,
      "rowLimit": 10000
     },
     "inputWidgets": {},
     "nuid": "d72cfdb6-1e1a-4b3b-9124-6a6f8c34fcf8",
     "showTitle": false,
     "title": ""
    }
   },
   "outputs": [],
   "source": [
    "from sklearn.model_selection import KFold as KF, cross_val_score as CVS\n",
    "from sklearn.linear_model import LinearRegression"
   ]
  },
  {
   "cell_type": "code",
   "execution_count": 0,
   "metadata": {
    "application/vnd.databricks.v1+cell": {
     "cellMetadata": {
      "byteLimit": 2048000,
      "rowLimit": 10000
     },
     "inputWidgets": {},
     "nuid": "2c6a895a-4158-47c3-afae-b22f9c936e25",
     "showTitle": false,
     "title": ""
    }
   },
   "outputs": [],
   "source": [
    "X = Wage[['age']]\n",
    "y = Wage[['wage']]"
   ]
  },
  {
   "cell_type": "code",
   "execution_count": 0,
   "metadata": {
    "application/vnd.databricks.v1+cell": {
     "cellMetadata": {
      "byteLimit": 2048000,
      "rowLimit": 10000
     },
     "inputWidgets": {},
     "nuid": "aadbfa1d-6bda-4cf3-9ab5-4851fdd0e043",
     "showTitle": false,
     "title": ""
    }
   },
   "outputs": [],
   "source": [
    "# selecting M, the number of components that give the lowest cross-validation error\n",
    "n = len(X)\n",
    "kf10 = KF(n_splits=10, shuffle=True, random_state=42)\n",
    "\n",
    "lm = LinearRegression()\n",
    "MSEdf= pd.DataFrame()\n",
    "Xi = pd.DataFrame()\n",
    "\n",
    "# calculating MSE with only the intercept through cross-validation\n",
    "mse = -1*CVS(lm, np.ones((n,1)), y, cv=kf10, scoring='neg_mean_squared_error').mean()    \n",
    "MSEdf = MSEdf.append([round(mse, 9)], ignore_index=True)\n",
    "\n",
    "# calculating MSE for 15 degrees through cross-validation\n",
    "for i in np.arange(1, 15):\n",
    "    Xi = pd.concat([Xi, X**i], axis = 1)\n",
    "    mse = -1*CVS(lm, Xi.iloc[:,:i], y, cv=kf10, scoring='neg_mean_squared_error').mean()\n",
    "    MSEdf = MSEdf.append([round(mse, 9)])\n",
    "    \n",
    "MSEdf.reset_index(drop=True, inplace=True)\n",
    "MSEdf.columns = ['MSE']\n",
    "MSEdf"
   ]
  },
  {
   "cell_type": "code",
   "execution_count": 0,
   "metadata": {
    "application/vnd.databricks.v1+cell": {
     "cellMetadata": {
      "byteLimit": 2048000,
      "rowLimit": 10000
     },
     "inputWidgets": {},
     "nuid": "0ec026e4-1104-491a-b6d5-1dd6f68515da",
     "showTitle": false,
     "title": ""
    }
   },
   "outputs": [],
   "source": [
    "plt.xkcd()\n",
    "plt.figure(figsize=(25, 10))\n",
    "plt.plot(MSEdf, color='g',  linestyle='-.', marker='o', markerfacecolor='orange', markersize=10)\n",
    "plt.title('cross-validation to find optimal degree, d', fontsize=30)\n",
    "plt.xlabel('order of polynomial', fontsize=20)\n",
    "plt.ylabel('MSE')"
   ]
  },
  {
   "cell_type": "markdown",
   "metadata": {
    "application/vnd.databricks.v1+cell": {
     "cellMetadata": {
      "byteLimit": 2048000,
      "rowLimit": 10000
     },
     "inputWidgets": {},
     "nuid": "a0482992-a11f-4c8a-9b9b-27b58b5b0e9a",
     "showTitle": false,
     "title": ""
    }
   },
   "source": [
    "Cross-validation suggests $d$=6 to be give the smallest error and therefore is the optimal degree."
   ]
  },
  {
   "cell_type": "markdown",
   "metadata": {
    "application/vnd.databricks.v1+cell": {
     "cellMetadata": {
      "byteLimit": 2048000,
      "rowLimit": 10000
     },
     "inputWidgets": {},
     "nuid": "18711d48-7338-478f-9895-4b94cfd1d33f",
     "showTitle": false,
     "title": ""
    }
   },
   "source": [
    "Comparing it with $d$=4, which as suggested in R Lab 7.8.1 provides the best fit"
   ]
  },
  {
   "cell_type": "code",
   "execution_count": 0,
   "metadata": {
    "application/vnd.databricks.v1+cell": {
     "cellMetadata": {
      "byteLimit": 2048000,
      "rowLimit": 10000
     },
     "inputWidgets": {},
     "nuid": "334d57ee-c299-4f62-9485-fa36ca1ba0f3",
     "showTitle": false,
     "title": ""
    }
   },
   "outputs": [],
   "source": [
    "df = pd.concat([y, X, X**2, X**3, X**4, X**5, X**6], axis=1)\n",
    "df.columns = ['wage', 'age', 'age^2', 'age^3', 'age^4', 'age^5', 'age^6']\n",
    "lmfit4 = ols(\"df['wage']~df['age']+df['age^2']+df['age^3']+df['age^4']\", data=df).fit()\n",
    "lmfit5 = ols(\"df['wage']~df['age']+df['age^2']+df['age^3']+df['age^4']+df['age^5']\", data=df).fit()\n",
    "lmfit6 = ols(\"df['wage']~df['age']+df['age^2']+df['age^3']+df['age^4']+df['age^5']+df['age^6']\", data=df).fit()"
   ]
  },
  {
   "cell_type": "code",
   "execution_count": 0,
   "metadata": {
    "application/vnd.databricks.v1+cell": {
     "cellMetadata": {
      "byteLimit": 2048000,
      "rowLimit": 10000
     },
     "inputWidgets": {},
     "nuid": "2d6f6f30-e98c-4811-b3a1-0dc38e152280",
     "showTitle": false,
     "title": ""
    }
   },
   "outputs": [],
   "source": [
    "anova_table = sm.stats.anova_lm(lmfit4, lmfit5, lmfit6, typ=1)\n",
    "anova_table.index = anova_table.index+1\n",
    "anova_table.round(2)"
   ]
  },
  {
   "cell_type": "markdown",
   "metadata": {
    "application/vnd.databricks.v1+cell": {
     "cellMetadata": {
      "byteLimit": 2048000,
      "rowLimit": 10000
     },
     "inputWidgets": {},
     "nuid": "31cdd7c6-6644-4c65-b513-c89d9ede8256",
     "showTitle": false,
     "title": ""
    }
   },
   "source": [
    "ANOVA however suggests that any degree, $d$>4 is not statistically significant (since the $p$-value>5 for $d$>4)."
   ]
  },
  {
   "cell_type": "code",
   "execution_count": 0,
   "metadata": {
    "application/vnd.databricks.v1+cell": {
     "cellMetadata": {
      "byteLimit": 2048000,
      "rowLimit": 10000
     },
     "inputWidgets": {},
     "nuid": "9ef1653c-1b79-4d38-9329-315939da6935",
     "showTitle": false,
     "title": ""
    }
   },
   "outputs": [],
   "source": [
    "X1 = Wage['age']\n",
    "X2 = X1**2\n",
    "X3 = X1**3\n",
    "X4 = X1**4\n",
    "X5 = X1**5\n",
    "X6 = X1**6\n",
    "plotdf = pd.concat([y, X1, X2, X3, X4, X5, X6], axis=1)\n",
    "plotdf.columns = ['wage', 'age', 'age^2', 'age^3', 'age^4', 'age^5', 'age^6']\n",
    "plt.xkcd()\n",
    "plt.figure(figsize = (25, 10))\n",
    "sns.regplot('age', 'wage', data=plotdf, fit_reg=True, ci = 95, color='y', order=6, line_kws={'color':'green'})\n",
    "plt.title('wage vs poly(age, 6)', fontsize=30)\n",
    "plt.xlabel('poly(age, 6)', fontsize=20)\n",
    "plt.ylabel('wage', fontsize=20)"
   ]
  },
  {
   "cell_type": "markdown",
   "metadata": {
    "application/vnd.databricks.v1+cell": {
     "cellMetadata": {
      "byteLimit": 2048000,
      "rowLimit": 10000
     },
     "inputWidgets": {},
     "nuid": "70180268-693c-4ab6-9e0b-c4743130fe1d",
     "showTitle": false,
     "title": ""
    }
   },
   "source": [
    "**b. Fit a step function to predict `wage` using `age`, and perform crossvalidation to choose the optimal number of cuts. Make a plot of\n",
    "the ft obtained.**"
   ]
  },
  {
   "cell_type": "code",
   "execution_count": 0,
   "metadata": {
    "application/vnd.databricks.v1+cell": {
     "cellMetadata": {
      "byteLimit": 2048000,
      "rowLimit": 10000
     },
     "inputWidgets": {},
     "nuid": "d58d47d3-fe14-465b-8776-28885fda60a6",
     "showTitle": false,
     "title": ""
    }
   },
   "outputs": [],
   "source": [
    "df = pd.concat([y, X], axis=1)\n",
    "Wage_cut, bins = pd.cut(Wage.age, 4, retbins = True, right = True)\n",
    "df.head()"
   ]
  },
  {
   "cell_type": "code",
   "execution_count": 0,
   "metadata": {
    "application/vnd.databricks.v1+cell": {
     "cellMetadata": {
      "byteLimit": 2048000,
      "rowLimit": 10000
     },
     "inputWidgets": {},
     "nuid": "85bd9f25-b4aa-43c2-9dd4-867750f53468",
     "showTitle": false,
     "title": ""
    }
   },
   "outputs": [],
   "source": [
    "# selecting M, the number of components that give the lowest cross-validation error\n",
    "n = len(X)\n",
    "kf10 = KF(n_splits=10, shuffle=True, random_state=42)\n",
    "\n",
    "MSEdf= pd.DataFrame()\n",
    "lm = LinearRegression()\n",
    "\n",
    "# calculating MSE with only the intercept through cross-validation\n",
    "mse = -1*CVS(lm, np.ones((n,1)), y, cv=kf10, scoring='neg_mean_squared_error').mean()    \n",
    "MSEdf = MSEdf.append([round(mse, 9)], ignore_index=True)\n",
    "\n",
    "# calculating MSE for 15 degrees through cross-validation\n",
    "for i in np.arange(1, 15):\n",
    "    X = pd.DataFrame(pd.cut(Wage.age, i))\n",
    "    X = pd.get_dummies(X)\n",
    "    y = Wage.wage\n",
    "    mse = -1*CVS(lm, X, y, cv=kf10, scoring='neg_mean_squared_error').mean()\n",
    "    MSEdf = MSEdf.append([round(mse, 9)])\n",
    "    \n",
    "MSEdf.reset_index(drop=True, inplace=True)\n",
    "MSEdf.columns = ['MSE']\n",
    "MSEdf"
   ]
  },
  {
   "cell_type": "code",
   "execution_count": 0,
   "metadata": {
    "application/vnd.databricks.v1+cell": {
     "cellMetadata": {
      "byteLimit": 2048000,
      "rowLimit": 10000
     },
     "inputWidgets": {},
     "nuid": "f0f6b80e-0f46-41df-b22c-87b0769ba9ca",
     "showTitle": false,
     "title": ""
    }
   },
   "outputs": [],
   "source": [
    "plt.xkcd()\n",
    "plt.figure(figsize=(25, 10))\n",
    "plt.plot(MSEdf, color='g',  linestyle='-.', marker='o', markerfacecolor='orange', markersize=10)\n",
    "plt.title('cross-validation to find optimal number of cuts', fontsize=30)\n",
    "plt.xlabel('order of polynomial', fontsize=20)\n",
    "plt.ylabel('MSE')"
   ]
  },
  {
   "cell_type": "markdown",
   "metadata": {
    "application/vnd.databricks.v1+cell": {
     "cellMetadata": {
      "byteLimit": 2048000,
      "rowLimit": 10000
     },
     "inputWidgets": {},
     "nuid": "35c6f78b-6e07-4747-bea7-debb37d56e8b",
     "showTitle": false,
     "title": ""
    }
   },
   "source": [
    "From the graph, it's clear that the MSE is least at $M$=8."
   ]
  },
  {
   "cell_type": "markdown",
   "metadata": {
    "application/vnd.databricks.v1+cell": {
     "cellMetadata": {
      "byteLimit": 2048000,
      "rowLimit": 10000
     },
     "inputWidgets": {},
     "nuid": "4ce4c867-3bb0-4e3d-91e6-9812c12266f6",
     "showTitle": false,
     "title": ""
    }
   },
   "source": [
    "Performing regression"
   ]
  },
  {
   "cell_type": "code",
   "execution_count": 0,
   "metadata": {
    "application/vnd.databricks.v1+cell": {
     "cellMetadata": {
      "byteLimit": 2048000,
      "rowLimit": 10000
     },
     "inputWidgets": {},
     "nuid": "9a0c9c58-509a-4b91-a240-2249315e30fb",
     "showTitle": false,
     "title": ""
    }
   },
   "outputs": [],
   "source": [
    "dfX = pd.DataFrame(pd.cut(Wage.age, 8))\n",
    "dfX = pd.get_dummies(dfX)\n",
    "dfX['age'] = Wage.age\n",
    "dfy = Wage.wage\n",
    "df_step = pd.concat([dfy, dfX], axis=1)\n",
    "df_step.head()"
   ]
  },
  {
   "cell_type": "code",
   "execution_count": 0,
   "metadata": {
    "application/vnd.databricks.v1+cell": {
     "cellMetadata": {
      "byteLimit": 2048000,
      "rowLimit": 10000
     },
     "inputWidgets": {},
     "nuid": "3f94a164-d697-4861-b76a-a6d4d734d495",
     "showTitle": false,
     "title": ""
    }
   },
   "outputs": [],
   "source": [
    "X = df_step[df_step.columns.difference(['wage', 'age'])]\n",
    "y = df_step['wage']\n",
    "\n",
    "lmfitOLS = ols('y~X', data=df_step).fit()\n",
    "lmfit = LinearRegression().fit(X, y)"
   ]
  },
  {
   "cell_type": "code",
   "execution_count": 0,
   "metadata": {
    "application/vnd.databricks.v1+cell": {
     "cellMetadata": {
      "byteLimit": 2048000,
      "rowLimit": 10000
     },
     "inputWidgets": {},
     "nuid": "80c4c9d6-eb81-45a4-9d65-9da7bda1c341",
     "showTitle": false,
     "title": ""
    }
   },
   "outputs": [],
   "source": [
    "lmfitOLS.summary()"
   ]
  },
  {
   "cell_type": "code",
   "execution_count": 0,
   "metadata": {
    "application/vnd.databricks.v1+cell": {
     "cellMetadata": {
      "byteLimit": 2048000,
      "rowLimit": 10000
     },
     "inputWidgets": {},
     "nuid": "4f7e1f0f-93d0-4b33-b7fa-32b2dececf7a",
     "showTitle": false,
     "title": ""
    }
   },
   "outputs": [],
   "source": [
    "plt.xkcd()\n",
    "plt.figure(figsize=(25, 10))\n",
    "plt.scatter(df_step.age, df_step.wage, color='orange', alpha=.5)\n",
    "agerange = np.linspace(df_step.age.min(), df_step.age.max(), 1000)\n",
    "agerange_d = pd.get_dummies(pd.cut(agerange, 8))\n",
    "predictions = lmfit.predict(agerange_d)\n",
    "plt.plot(agerange, predictions, color='g')\n",
    "plt.title('step function', fontsize=30)\n",
    "plt.xlabel('age', fontsize=20)\n",
    "plt.ylabel('wage', fontsize=20)"
   ]
  }
 ],
 "metadata": {
  "application/vnd.databricks.v1+notebook": {
   "dashboards": [],
   "language": "python",
   "notebookMetadata": {
    "pythonIndentUnit": 2
   },
   "notebookName": "Question 6 - answers",
   "widgets": {}
  }
 },
 "nbformat": 4,
 "nbformat_minor": 0
}
