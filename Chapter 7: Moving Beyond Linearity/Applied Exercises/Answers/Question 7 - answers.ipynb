{
 "cells": [
  {
   "cell_type": "markdown",
   "metadata": {
    "application/vnd.databricks.v1+cell": {
     "cellMetadata": {
      "byteLimit": 2048000,
      "rowLimit": 10000
     },
     "inputWidgets": {},
     "nuid": "e0e7f3f7-5213-496f-8ee2-fc0f95392145",
     "showTitle": false,
     "title": ""
    }
   },
   "source": [
    "The `Wage` data set contains a number of other features not explored\n",
    "in this chapter, such as marital status (`maritl`), job class (`jobclass`),\n",
    "and others. Explore the relationships between some of these other\n",
    "predictors and `wage`, and use non-linear ftting techniques in order to\n",
    "ft fexible models to the data. Create plots of the results obtained,\n",
    "and write a summary of your fndings."
   ]
  },
  {
   "cell_type": "markdown",
   "metadata": {
    "application/vnd.databricks.v1+cell": {
     "cellMetadata": {
      "byteLimit": 2048000,
      "rowLimit": 10000
     },
     "inputWidgets": {},
     "nuid": "9a9b2eaa-fbf9-43c6-b1c7-5fe7575a36f7",
     "showTitle": false,
     "title": ""
    }
   },
   "source": [
    "# Preprocessing"
   ]
  },
  {
   "cell_type": "code",
   "execution_count": 0,
   "metadata": {
    "application/vnd.databricks.v1+cell": {
     "cellMetadata": {
      "byteLimit": 2048000,
      "rowLimit": 10000
     },
     "inputWidgets": {},
     "nuid": "c863883f-51cf-462b-8d5f-11a9a2fc92ec",
     "showTitle": false,
     "title": ""
    }
   },
   "outputs": [],
   "source": [
    "# import packages\n",
    "import numpy as np\n",
    "import pandas as pd\n",
    "import statsmodels.api as sm\n",
    "from statsmodels.formula.api import ols\n",
    "from scipy import stats\n",
    "import matplotlib.pyplot as plt\n",
    "pd.options.display.float_format = '{:,}'.format\n",
    "import seaborn as sns\n",
    "%matplotlib inline"
   ]
  },
  {
   "cell_type": "code",
   "execution_count": 0,
   "metadata": {
    "application/vnd.databricks.v1+cell": {
     "cellMetadata": {
      "byteLimit": 2048000,
      "rowLimit": 10000
     },
     "inputWidgets": {},
     "nuid": "59b97e91-91c7-487d-a534-ea4b4d5d291a",
     "showTitle": false,
     "title": ""
    }
   },
   "outputs": [],
   "source": [
    "# load and preprocess data\n",
    "url = \"abfss://training@sa8451learningdev.dfs.core.windows.net/interpretable_machine_learning/eml_data/Wage.csv\"\n",
    "Wage = spark.read.option(\"header\", \"true\").csv(url).toPandas()\n",
    "Wage.set_index(\"SlNo\", inplace=True)\n",
    "\n",
    "str_cols = [\"maritl\", \"race\", \"education\", \"region\", \"jobclass\", \"health\", \"health_ins\"]\n",
    "float_cols = [\"logwage\", \"wage\"]\n",
    "int_cols = list(set(Wage.columns)-set(str_cols)-set(float_cols))\n",
    "Wage[str_cols] = Wage[str_cols].astype(str)\n",
    "Wage[float_cols] = Wage[float_cols].astype(float)\n",
    "Wage[int_cols] = Wage[int_cols].astype(int)"
   ]
  },
  {
   "cell_type": "code",
   "execution_count": 0,
   "metadata": {
    "application/vnd.databricks.v1+cell": {
     "cellMetadata": {
      "byteLimit": 2048000,
      "rowLimit": 10000
     },
     "inputWidgets": {},
     "nuid": "89bdf183-0873-4c9a-97b7-ac94d0bfeca9",
     "showTitle": false,
     "title": ""
    }
   },
   "outputs": [],
   "source": [
    "Wage.head()"
   ]
  },
  {
   "cell_type": "code",
   "execution_count": 0,
   "metadata": {
    "application/vnd.databricks.v1+cell": {
     "cellMetadata": {
      "byteLimit": 2048000,
      "rowLimit": 10000
     },
     "inputWidgets": {},
     "nuid": "311a7934-e800-4211-b20a-bcf908c10442",
     "showTitle": false,
     "title": ""
    }
   },
   "outputs": [],
   "source": [
    "Wage.describe().round(2)"
   ]
  },
  {
   "cell_type": "code",
   "execution_count": 0,
   "metadata": {
    "application/vnd.databricks.v1+cell": {
     "cellMetadata": {
      "byteLimit": 2048000,
      "rowLimit": 10000
     },
     "inputWidgets": {},
     "nuid": "2f1eb06a-1283-4772-a340-e4d3dcda4622",
     "showTitle": false,
     "title": ""
    }
   },
   "outputs": [],
   "source": [
    "Wage.info()"
   ]
  },
  {
   "cell_type": "markdown",
   "metadata": {
    "application/vnd.databricks.v1+cell": {
     "cellMetadata": {
      "byteLimit": 2048000,
      "rowLimit": 10000
     },
     "inputWidgets": {},
     "nuid": "b99e17fc-f77d-4044-9c6e-cc26bb38cc69",
     "showTitle": false,
     "title": ""
    }
   },
   "source": [
    "Exploring relationships with other features in the Wage data set"
   ]
  },
  {
   "cell_type": "markdown",
   "metadata": {
    "application/vnd.databricks.v1+cell": {
     "cellMetadata": {
      "byteLimit": 2048000,
      "rowLimit": 10000
     },
     "inputWidgets": {},
     "nuid": "b5fb505b-2cf3-4f49-9652-8957da6f59da",
     "showTitle": false,
     "title": ""
    }
   },
   "source": [
    "'maritl' and 'jobclass'"
   ]
  },
  {
   "cell_type": "markdown",
   "metadata": {
    "application/vnd.databricks.v1+cell": {
     "cellMetadata": {
      "byteLimit": 2048000,
      "rowLimit": 10000
     },
     "inputWidgets": {},
     "nuid": "a2178fed-58ed-4e1f-b48e-b0c471e4f33a",
     "showTitle": false,
     "title": ""
    }
   },
   "source": [
    "*Basic exploration of the dataset*"
   ]
  },
  {
   "cell_type": "code",
   "execution_count": 0,
   "metadata": {
    "application/vnd.databricks.v1+cell": {
     "cellMetadata": {
      "byteLimit": 2048000,
      "rowLimit": 10000
     },
     "inputWidgets": {},
     "nuid": "00f2dd0d-3943-4c6f-89fe-8218208d739b",
     "showTitle": false,
     "title": ""
    }
   },
   "outputs": [],
   "source": [
    "Wage.maritl.value_counts(sort=True)"
   ]
  },
  {
   "cell_type": "code",
   "execution_count": 0,
   "metadata": {
    "application/vnd.databricks.v1+cell": {
     "cellMetadata": {
      "byteLimit": 2048000,
      "rowLimit": 10000
     },
     "inputWidgets": {},
     "nuid": "63122f70-fcf5-4a5d-a799-5f535382bead",
     "showTitle": false,
     "title": ""
    }
   },
   "outputs": [],
   "source": [
    "Wage.jobclass.value_counts(sort=True)"
   ]
  },
  {
   "cell_type": "code",
   "execution_count": 0,
   "metadata": {
    "application/vnd.databricks.v1+cell": {
     "cellMetadata": {
      "byteLimit": 2048000,
      "rowLimit": 10000
     },
     "inputWidgets": {},
     "nuid": "1e1a7be7-c670-4685-a943-b0a85b2cdf7f",
     "showTitle": false,
     "title": ""
    }
   },
   "outputs": [],
   "source": [
    "plt.xkcd()\n",
    "fig, axes = plt.subplots(1, 2, figsize=(25,10))\n",
    "\n",
    "sns.boxplot(Wage.maritl, Wage.wage, ax=axes[0])\n",
    "axes[0].set_xlabel('maritl', fontsize=20, color='c')\n",
    "axes[0].set_ylabel('wage', fontsize=20, color='c')\n",
    "axes[0].set_title('wage as function of martial status', color='m', fontsize=30)\n",
    "\n",
    "\n",
    "sns.boxplot(Wage.jobclass, Wage.wage, ax=axes[1])\n",
    "axes[1].set_xlabel('jobclass', fontsize=20, color='c')\n",
    "axes[1].set_ylabel('wage', fontsize=20, color='c')\n",
    "axes[1].set_title('wage as function of jobclass', color='m', fontsize=30)"
   ]
  },
  {
   "cell_type": "markdown",
   "metadata": {
    "application/vnd.databricks.v1+cell": {
     "cellMetadata": {
      "byteLimit": 2048000,
      "rowLimit": 10000
     },
     "inputWidgets": {},
     "nuid": "3eafead0-ec6e-49f2-bca3-de872336bc10",
     "showTitle": false,
     "title": ""
    }
   },
   "source": [
    "Initial plots show married people and those in the the information sector make more money than their counterparts."
   ]
  },
  {
   "cell_type": "markdown",
   "metadata": {
    "application/vnd.databricks.v1+cell": {
     "cellMetadata": {
      "byteLimit": 2048000,
      "rowLimit": 10000
     },
     "inputWidgets": {},
     "nuid": "cad54205-62b3-441e-a658-39a97e1139e3",
     "showTitle": false,
     "title": ""
    }
   },
   "source": [
    "Polynomial regression"
   ]
  },
  {
   "cell_type": "markdown",
   "metadata": {
    "application/vnd.databricks.v1+cell": {
     "cellMetadata": {
      "byteLimit": 2048000,
      "rowLimit": 10000
     },
     "inputWidgets": {},
     "nuid": "64bf78cc-35e7-481f-b1d2-4611af69085f",
     "showTitle": false,
     "title": ""
    }
   },
   "source": [
    "*I cannot increase degrees of categorical variables like 'maritl' and 'jobclass'. Therefore, it will reduce to normal linear regression.*"
   ]
  },
  {
   "cell_type": "code",
   "execution_count": 0,
   "metadata": {
    "application/vnd.databricks.v1+cell": {
     "cellMetadata": {
      "byteLimit": 2048000,
      "rowLimit": 10000
     },
     "inputWidgets": {},
     "nuid": "bc90a545-e580-4de1-9e8e-c7c5f0504e1e",
     "showTitle": false,
     "title": ""
    }
   },
   "outputs": [],
   "source": [
    "X1 = Wage.maritl.astype('category').cat.codes\n",
    "X2 = Wage.jobclass.astype('category').cat.codes\n",
    "y = Wage.wage\n",
    "df = pd.concat([y, X1, X2], axis=1)\n",
    "df.columns = ['wage', 'maritl', 'jobclass']\n",
    "df.head()"
   ]
  },
  {
   "cell_type": "code",
   "execution_count": 0,
   "metadata": {
    "application/vnd.databricks.v1+cell": {
     "cellMetadata": {
      "byteLimit": 2048000,
      "rowLimit": 10000
     },
     "inputWidgets": {},
     "nuid": "e4b48f7c-a264-43a2-8d59-7acbb23a2ff1",
     "showTitle": false,
     "title": ""
    }
   },
   "outputs": [],
   "source": [
    "lm1 = ols('df.wage~df.maritl', data=df).fit()\n",
    "lm1.summary()"
   ]
  },
  {
   "cell_type": "code",
   "execution_count": 0,
   "metadata": {
    "application/vnd.databricks.v1+cell": {
     "cellMetadata": {
      "byteLimit": 2048000,
      "rowLimit": 10000
     },
     "inputWidgets": {},
     "nuid": "bc01d85a-72da-40ec-9c26-f81dad149d99",
     "showTitle": false,
     "title": ""
    }
   },
   "outputs": [],
   "source": [
    "lm2 = ols('df.wage~df.jobclass', data=df).fit()\n",
    "lm2.summary()"
   ]
  },
  {
   "cell_type": "code",
   "execution_count": 0,
   "metadata": {
    "application/vnd.databricks.v1+cell": {
     "cellMetadata": {
      "byteLimit": 2048000,
      "rowLimit": 10000
     },
     "inputWidgets": {},
     "nuid": "efa025af-2486-4d4f-854b-bb869005b50a",
     "showTitle": false,
     "title": ""
    }
   },
   "outputs": [],
   "source": [
    "lm3 = ols('df.wage~df.maritl+df.jobclass', data=df).fit()\n",
    "lm3.summary()"
   ]
  },
  {
   "cell_type": "code",
   "execution_count": 0,
   "metadata": {
    "application/vnd.databricks.v1+cell": {
     "cellMetadata": {
      "byteLimit": 2048000,
      "rowLimit": 10000
     },
     "inputWidgets": {},
     "nuid": "a7a0622e-9bd8-4b3d-8cfe-901d68c6bab3",
     "showTitle": false,
     "title": ""
    }
   },
   "outputs": [],
   "source": [
    "MSE_df = pd.concat([pd.DataFrame([lm1.mse_model]), pd.DataFrame([lm2.mse_model]), pd.DataFrame([lm3.mse_model])], axis=1)\n",
    "MSE_df.columns = ['lm1', 'lm2', 'lm3']\n",
    "MSE_df = MSE_df.T\n",
    "MSE_df.columns = ['Model MSE']\n",
    "MSE_df"
   ]
  },
  {
   "cell_type": "markdown",
   "metadata": {
    "application/vnd.databricks.v1+cell": {
     "cellMetadata": {
      "byteLimit": 2048000,
      "rowLimit": 10000
     },
     "inputWidgets": {},
     "nuid": "eab733a2-b95c-4e12-8771-c9714a526245",
     "showTitle": false,
     "title": ""
    }
   },
   "source": [
    "The model with marital status as the sole regressor provides the least MSE."
   ]
  },
  {
   "cell_type": "markdown",
   "metadata": {
    "application/vnd.databricks.v1+cell": {
     "cellMetadata": {
      "byteLimit": 2048000,
      "rowLimit": 10000
     },
     "inputWidgets": {},
     "nuid": "f674f727-13f2-4b6d-9df0-6c32f6c362f4",
     "showTitle": false,
     "title": ""
    }
   },
   "source": [
    "Splines"
   ]
  },
  {
   "cell_type": "markdown",
   "metadata": {
    "application/vnd.databricks.v1+cell": {
     "cellMetadata": {
      "byteLimit": 2048000,
      "rowLimit": 10000
     },
     "inputWidgets": {},
     "nuid": "faee2d49-2e5e-44c9-818d-03820ae6b8f6",
     "showTitle": false,
     "title": ""
    }
   },
   "source": [
    "*Splines cannot be fit on categorical variables.*"
   ]
  },
  {
   "cell_type": "markdown",
   "metadata": {
    "application/vnd.databricks.v1+cell": {
     "cellMetadata": {
      "byteLimit": 2048000,
      "rowLimit": 10000
     },
     "inputWidgets": {},
     "nuid": "a4e4753c-03b1-4812-82ed-72878cced38a",
     "showTitle": false,
     "title": ""
    }
   },
   "source": [
    "GAM"
   ]
  },
  {
   "cell_type": "code",
   "execution_count": 0,
   "metadata": {
    "application/vnd.databricks.v1+cell": {
     "cellMetadata": {
      "byteLimit": 2048000,
      "rowLimit": 10000
     },
     "inputWidgets": {},
     "nuid": "9dd7745d-8bc4-40a7-98ed-40e536db30f9",
     "showTitle": false,
     "title": ""
    }
   },
   "outputs": [],
   "source": [
    "from patsy import dmatrix\n",
    "X3 = Wage.age\n",
    "X3_age = dmatrix(\"cr(AGE, df=4)\", {\"AGE\": Wage['age']}, return_type='dataframe')\n",
    "df = pd.concat([df, X3_age], axis=1)\n",
    "df.head()"
   ]
  },
  {
   "cell_type": "code",
   "execution_count": 0,
   "metadata": {
    "application/vnd.databricks.v1+cell": {
     "cellMetadata": {
      "byteLimit": 2048000,
      "rowLimit": 10000
     },
     "inputWidgets": {},
     "nuid": "2c10865e-878b-489d-9494-02c49d084454",
     "showTitle": false,
     "title": ""
    }
   },
   "outputs": [],
   "source": [
    "lm_gam = ols('df.wage~df.maritl+df.jobclass+X3_age', data=df).fit()\n",
    "lm_gam.summary()"
   ]
  },
  {
   "cell_type": "code",
   "execution_count": 0,
   "metadata": {
    "application/vnd.databricks.v1+cell": {
     "cellMetadata": {
      "byteLimit": 2048000,
      "rowLimit": 10000
     },
     "inputWidgets": {},
     "nuid": "1f9d4e4a-a4e3-4b0e-9c82-6767e2f646fc",
     "showTitle": false,
     "title": ""
    }
   },
   "outputs": [],
   "source": [
    "lmgam_mse = lm_gam.mse_model"
   ]
  },
  {
   "cell_type": "code",
   "execution_count": 0,
   "metadata": {
    "application/vnd.databricks.v1+cell": {
     "cellMetadata": {
      "byteLimit": 2048000,
      "rowLimit": 10000
     },
     "inputWidgets": {},
     "nuid": "a7a418e4-7c3b-4ffd-90b2-c8065a66fea4",
     "showTitle": false,
     "title": ""
    }
   },
   "outputs": [],
   "source": [
    "MSE_df = pd.concat([pd.DataFrame([lm1.mse_model]), pd.DataFrame([lm2.mse_model]), pd.DataFrame([lm3.mse_model]), pd.DataFrame([lmgam_mse])], axis=1)\n",
    "MSE_df.columns = [\"regression(maritl)\", \"regression(jobclass)\", \"regression(maritl+jobclass)\", 'GAM']\n",
    "MSE_df = MSE_df.T\n",
    "MSE_df.columns = ['model_MSE']\n",
    "MSE_df"
   ]
  },
  {
   "cell_type": "code",
   "execution_count": 0,
   "metadata": {
    "application/vnd.databricks.v1+cell": {
     "cellMetadata": {
      "byteLimit": 2048000,
      "rowLimit": 10000
     },
     "inputWidgets": {},
     "nuid": "e51d1b1f-3605-4c37-be9d-182d4304cb64",
     "showTitle": false,
     "title": ""
    }
   },
   "outputs": [],
   "source": [
    "plt.xkcd()\n",
    "plt.figure(figsize=(25, 10))\n",
    "sns.barplot(x=MSE_df.index, y=MSE_df.model_MSE, data=MSE_df)\n",
    "plt.xlabel('models', fontsize=20, color='c')\n",
    "plt.ylabel('model_MSE', fontsize=20, color='c')\n",
    "plt.title('model MSE for different models', fontsize=30, color='m')"
   ]
  }
 ],
 "metadata": {
  "application/vnd.databricks.v1+notebook": {
   "dashboards": [],
   "language": "python",
   "notebookMetadata": {
    "pythonIndentUnit": 2
   },
   "notebookName": "Question 7 - answers",
   "widgets": {}
  }
 },
 "nbformat": 4,
 "nbformat_minor": 0
}
