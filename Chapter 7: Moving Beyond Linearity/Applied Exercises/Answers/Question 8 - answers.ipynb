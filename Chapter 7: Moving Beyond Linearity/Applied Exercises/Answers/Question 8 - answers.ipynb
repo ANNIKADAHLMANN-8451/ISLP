{
 "cells": [
  {
   "cell_type": "markdown",
   "metadata": {
    "application/vnd.databricks.v1+cell": {
     "cellMetadata": {
      "byteLimit": 2048000,
      "rowLimit": 10000
     },
     "inputWidgets": {},
     "nuid": "f07f61cd-75e4-48f0-b5dc-c337c3dd123f",
     "showTitle": false,
     "title": ""
    }
   },
   "source": [
    "Fit some of the non-linear models investigated in this chapter to the\n",
    "`Auto` data set. Is there evidence for non-linear relationships in this\n",
    "data set? Create some informative plots to justify your answer."
   ]
  },
  {
   "cell_type": "markdown",
   "metadata": {
    "application/vnd.databricks.v1+cell": {
     "cellMetadata": {
      "byteLimit": 2048000,
      "rowLimit": 10000
     },
     "inputWidgets": {},
     "nuid": "ad3a91b8-63ca-4fd6-92b2-c7b3dac81ef3",
     "showTitle": false,
     "title": ""
    }
   },
   "source": [
    "### Preprocessing"
   ]
  },
  {
   "cell_type": "code",
   "execution_count": 0,
   "metadata": {
    "application/vnd.databricks.v1+cell": {
     "cellMetadata": {
      "byteLimit": 2048000,
      "rowLimit": 10000
     },
     "inputWidgets": {},
     "nuid": "f8271af4-8c01-487b-90fd-30bd841aed06",
     "showTitle": false,
     "title": ""
    }
   },
   "outputs": [],
   "source": [
    "# import relevant statistical packages\n",
    "import numpy as np\n",
    "import pandas as pd"
   ]
  },
  {
   "cell_type": "code",
   "execution_count": 0,
   "metadata": {
    "application/vnd.databricks.v1+cell": {
     "cellMetadata": {
      "byteLimit": 2048000,
      "rowLimit": 10000
     },
     "inputWidgets": {},
     "nuid": "ecacc077-44ee-4578-8e70-459b97fde34c",
     "showTitle": false,
     "title": ""
    }
   },
   "outputs": [],
   "source": [
    "# import relevant data visualisation packages\n",
    "import matplotlib.pyplot as plt\n",
    "import seaborn as sns; sns.set(style=\"ticks\", color_codes=True)\n",
    "%matplotlib inline"
   ]
  },
  {
   "cell_type": "code",
   "execution_count": 0,
   "metadata": {
    "application/vnd.databricks.v1+cell": {
     "cellMetadata": {
      "byteLimit": 2048000,
      "rowLimit": 10000
     },
     "inputWidgets": {},
     "nuid": "dd41fb8d-9525-4c79-89af-b9ea4c1459d6",
     "showTitle": false,
     "title": ""
    }
   },
   "outputs": [],
   "source": [
    "url = \"abfss://training@sa8451learningdev.dfs.core.windows.net/interpretable_machine_learning/eml_data/Auto.csv\"\n",
    "Auto = spark.read.option(\"header\", \"true\").csv(url).toPandas()\n",
    "\n",
    "str_cols = [\"name\"]\n",
    "num_cols = list(set(Auto.columns)-set(str_cols))\n",
    "Auto[str_cols] = Auto[str_cols].astype(str)\n",
    "Auto[num_cols] = Auto[num_cols].astype(float)"
   ]
  },
  {
   "cell_type": "code",
   "execution_count": 0,
   "metadata": {
    "application/vnd.databricks.v1+cell": {
     "cellMetadata": {
      "byteLimit": 2048000,
      "rowLimit": 10000
     },
     "inputWidgets": {},
     "nuid": "b13f05fe-2514-4342-ac0e-b95da0e147fa",
     "showTitle": false,
     "title": ""
    }
   },
   "outputs": [],
   "source": [
    "plt.xkcd()\n",
    "plt.figure(figsize=(25, 10))\n",
    "sns.heatmap(Auto[['horsepower']]=='?', yticklabels=False, xticklabels=False, cmap='viridis')\n",
    "plt.title(\"missing values in Auto['horsepower']\", fontsize=30, color='m')"
   ]
  },
  {
   "cell_type": "code",
   "execution_count": 0,
   "metadata": {
    "application/vnd.databricks.v1+cell": {
     "cellMetadata": {
      "byteLimit": 2048000,
      "rowLimit": 10000
     },
     "inputWidgets": {},
     "nuid": "5715a3cb-4760-4dc2-813b-1ab0bd9fc90e",
     "showTitle": false,
     "title": ""
    }
   },
   "outputs": [],
   "source": [
    "Auto.loc[Auto.horsepower==\"?\"]"
   ]
  },
  {
   "cell_type": "code",
   "execution_count": 0,
   "metadata": {
    "application/vnd.databricks.v1+cell": {
     "cellMetadata": {
      "byteLimit": 2048000,
      "rowLimit": 10000
     },
     "inputWidgets": {},
     "nuid": "88997517-fef3-4765-906e-9cb1e2b923e9",
     "showTitle": false,
     "title": ""
    }
   },
   "outputs": [],
   "source": [
    "Auto.shape"
   ]
  },
  {
   "cell_type": "code",
   "execution_count": 0,
   "metadata": {
    "application/vnd.databricks.v1+cell": {
     "cellMetadata": {
      "byteLimit": 2048000,
      "rowLimit": 10000
     },
     "inputWidgets": {},
     "nuid": "9e0b9a59-c44c-4403-9a54-b316bb8d6745",
     "showTitle": false,
     "title": ""
    }
   },
   "outputs": [],
   "source": [
    "Auto.drop(index=[32, 126, 330, 336, 354], inplace=True)"
   ]
  },
  {
   "cell_type": "code",
   "execution_count": 0,
   "metadata": {
    "application/vnd.databricks.v1+cell": {
     "cellMetadata": {
      "byteLimit": 2048000,
      "rowLimit": 10000
     },
     "inputWidgets": {},
     "nuid": "f60bc528-1e7c-46a1-b981-933b57758288",
     "showTitle": false,
     "title": ""
    }
   },
   "outputs": [],
   "source": [
    "Auto.shape"
   ]
  },
  {
   "cell_type": "markdown",
   "metadata": {
    "application/vnd.databricks.v1+cell": {
     "cellMetadata": {
      "byteLimit": 2048000,
      "rowLimit": 10000
     },
     "inputWidgets": {},
     "nuid": "5ec11990-7939-4e43-90d5-3a902ebedd0e",
     "showTitle": false,
     "title": ""
    }
   },
   "source": [
    "*So,I have deleted the rows containing erroneous values of horsepower.*"
   ]
  },
  {
   "cell_type": "code",
   "execution_count": 0,
   "metadata": {
    "application/vnd.databricks.v1+cell": {
     "cellMetadata": {
      "byteLimit": 2048000,
      "rowLimit": 10000
     },
     "inputWidgets": {},
     "nuid": "47591061-ba7d-4042-bfcb-1bfa94b95d79",
     "showTitle": false,
     "title": ""
    }
   },
   "outputs": [],
   "source": [
    "plt.xkcd()\n",
    "plt.figure(figsize=(25, 10))\n",
    "sns.heatmap(Auto[['horsepower']]=='?', yticklabels=False, xticklabels=False, cmap='viridis')\n",
    "plt.title(\"missing values in Auto['horsepower']\", fontsize=30, color='m')"
   ]
  },
  {
   "cell_type": "markdown",
   "metadata": {
    "application/vnd.databricks.v1+cell": {
     "cellMetadata": {
      "byteLimit": 2048000,
      "rowLimit": 10000
     },
     "inputWidgets": {},
     "nuid": "dae676ee-59a9-45dc-90ed-2adce15c8065",
     "showTitle": false,
     "title": ""
    }
   },
   "source": [
    "*See, no missing values!*"
   ]
  },
  {
   "cell_type": "code",
   "execution_count": 0,
   "metadata": {
    "application/vnd.databricks.v1+cell": {
     "cellMetadata": {
      "byteLimit": 2048000,
      "rowLimit": 10000
     },
     "inputWidgets": {},
     "nuid": "61c74575-49a2-4bd8-b233-bfee9e5498b4",
     "showTitle": false,
     "title": ""
    }
   },
   "outputs": [],
   "source": [
    "Auto.corr()"
   ]
  },
  {
   "cell_type": "code",
   "execution_count": 0,
   "metadata": {
    "application/vnd.databricks.v1+cell": {
     "cellMetadata": {
      "byteLimit": 2048000,
      "rowLimit": 10000
     },
     "inputWidgets": {},
     "nuid": "6d9fa4fa-324f-455c-9cd2-d0566ae4fa8e",
     "showTitle": false,
     "title": ""
    }
   },
   "outputs": [],
   "source": [
    "sns.PairGrid(Auto, hue='mpg').map(plt.scatter)"
   ]
  },
  {
   "cell_type": "markdown",
   "metadata": {
    "application/vnd.databricks.v1+cell": {
     "cellMetadata": {
      "byteLimit": 2048000,
      "rowLimit": 10000
     },
     "inputWidgets": {},
     "nuid": "20d499c2-2d7d-4294-acae-34aa7cbb988b",
     "showTitle": false,
     "title": ""
    }
   },
   "source": [
    "From the pairplots, it appears that displacement, weight and acceleration have non-linear relationships with mpg."
   ]
  },
  {
   "cell_type": "markdown",
   "metadata": {
    "application/vnd.databricks.v1+cell": {
     "cellMetadata": {
      "byteLimit": 2048000,
      "rowLimit": 10000
     },
     "inputWidgets": {},
     "nuid": "3640348a-77cd-4558-b88e-6453706e9284",
     "showTitle": false,
     "title": ""
    }
   },
   "source": [
    "Polynomial"
   ]
  },
  {
   "cell_type": "code",
   "execution_count": 0,
   "metadata": {
    "application/vnd.databricks.v1+cell": {
     "cellMetadata": {
      "byteLimit": 2048000,
      "rowLimit": 10000
     },
     "inputWidgets": {},
     "nuid": "fadbd032-51f2-4a63-86b1-c165863560d3",
     "showTitle": false,
     "title": ""
    }
   },
   "outputs": [],
   "source": [
    "from sklearn.model_selection import KFold as KF, cross_val_score as CVS\n",
    "from sklearn.linear_model import LinearRegression\n",
    "from sklearn.metrics import mean_squared_error\n",
    "import statsmodels.api as sm\n",
    "from sklearn.feature_selection import f_classif\n",
    "import warnings\n",
    "warnings.filterwarnings('ignore')"
   ]
  },
  {
   "cell_type": "markdown",
   "metadata": {
    "application/vnd.databricks.v1+cell": {
     "cellMetadata": {
      "byteLimit": 2048000,
      "rowLimit": 10000
     },
     "inputWidgets": {},
     "nuid": "8b63c4ae-db62-44e0-b8ec-292b7314ed71",
     "showTitle": false,
     "title": ""
    }
   },
   "source": [
    "*Checking for non-linear relationship between mpg and displacement*"
   ]
  },
  {
   "cell_type": "code",
   "execution_count": 0,
   "metadata": {
    "application/vnd.databricks.v1+cell": {
     "cellMetadata": {
      "byteLimit": 2048000,
      "rowLimit": 10000
     },
     "inputWidgets": {},
     "nuid": "7b025f93-6804-4674-84a0-8ea9220863e5",
     "showTitle": false,
     "title": ""
    }
   },
   "outputs": [],
   "source": [
    "X = Auto[['displacement']]\n",
    "y = Auto.mpg\n",
    "df = pd.DataFrame()\n",
    "MSEdf = pd.DataFrame()\n",
    "SCORE = []\n",
    "\n",
    "for k in range(0,20):\n",
    "    X_k = X**k\n",
    "    df = pd.concat([df, X_k], axis=1)\n",
    "    df_a = np.array(df)\n",
    "    lmk = LinearRegression().fit(df_a, y)\n",
    "    err = pd.DataFrame([mean_squared_error(y, lmk.predict(df_a))])\n",
    "    MSEdf = MSEdf.append(err)\n",
    "    SCORE.append(lmk.score(df_a, y))\n",
    "    \n",
    "MSEdf.columns = ['MSE']\n",
    "MSEdf.reset_index(drop=True, inplace=True)\n",
    "\n",
    "SCOREdf = pd.DataFrame(SCORE)\n",
    "SCOREdf.columns = ['R^2']\n",
    "SCOREdf.reset_index(drop=True, inplace=True)"
   ]
  },
  {
   "cell_type": "code",
   "execution_count": 0,
   "metadata": {
    "application/vnd.databricks.v1+cell": {
     "cellMetadata": {
      "byteLimit": 2048000,
      "rowLimit": 10000
     },
     "inputWidgets": {},
     "nuid": "a3172837-8c25-45af-aea6-83df41bd6e0c",
     "showTitle": false,
     "title": ""
    }
   },
   "outputs": [],
   "source": [
    "plt.xkcd()\n",
    "plt.figure(figsize=(25, 10))\n",
    "plt.plot(MSEdf, color='g', ls = '-.', marker='o', markerfacecolor='orange', markersize=10)\n",
    "plt.title(\"MSE\", fontsize=30, color='m')\n",
    "plt.xlabel(\"displacement\", fontsize=20, color='c')\n",
    "plt.ylabel(\"MSE\", fontsize=20, color='c')"
   ]
  },
  {
   "cell_type": "code",
   "execution_count": 0,
   "metadata": {
    "application/vnd.databricks.v1+cell": {
     "cellMetadata": {
      "byteLimit": 2048000,
      "rowLimit": 10000
     },
     "inputWidgets": {},
     "nuid": "8aa0303e-fafb-4ac7-abb4-98d2c85578ad",
     "showTitle": false,
     "title": ""
    }
   },
   "outputs": [],
   "source": [
    "plt.xkcd()\n",
    "plt.figure(figsize=(25, 10))\n",
    "plt.plot(SCOREdf, color='g', ls = '-.', marker='o', markerfacecolor='orange', markersize=10)\n",
    "plt.title(\"R^2\", fontsize=30, color='m')\n",
    "plt.xlabel(\"displacement\", fontsize=20, color='c')\n",
    "plt.ylabel(\"R^2\", fontsize=20, color='c')"
   ]
  },
  {
   "cell_type": "markdown",
   "metadata": {
    "application/vnd.databricks.v1+cell": {
     "cellMetadata": {
      "byteLimit": 2048000,
      "rowLimit": 10000
     },
     "inputWidgets": {},
     "nuid": "4b0fb0bb-ae57-4a73-b5b1-9fcfdbdace99",
     "showTitle": false,
     "title": ""
    }
   },
   "source": [
    "*Checking for non-linear relationship between mpg and acceleration*"
   ]
  },
  {
   "cell_type": "code",
   "execution_count": 0,
   "metadata": {
    "application/vnd.databricks.v1+cell": {
     "cellMetadata": {
      "byteLimit": 2048000,
      "rowLimit": 10000
     },
     "inputWidgets": {},
     "nuid": "5c63e09f-20e1-4d19-adfa-c14ef3227505",
     "showTitle": false,
     "title": ""
    }
   },
   "outputs": [],
   "source": [
    "X = Auto[['acceleration']]\n",
    "y = Auto.mpg\n",
    "df = pd.DataFrame()\n",
    "MSEdf = pd.DataFrame()\n",
    "SCORE = []\n",
    "\n",
    "for k in range(0,25):\n",
    "    X_k = X**k\n",
    "    df = pd.concat([df, X_k], axis=1)\n",
    "    df_a = np.array(df)\n",
    "    lmk = LinearRegression().fit(df_a, y)\n",
    "    err = pd.DataFrame([mean_squared_error(y, lmk.predict(df_a))])\n",
    "    MSEdf = MSEdf.append(err)\n",
    "    SCORE.append(lmk.score(df_a, y))\n",
    "    \n",
    "MSEdf.columns = ['MSE']\n",
    "MSEdf.reset_index(drop=True, inplace=True)\n",
    "\n",
    "SCOREdf = pd.DataFrame(SCORE)\n",
    "SCOREdf.columns = ['R^2']\n",
    "SCOREdf.reset_index(drop=True, inplace=True)\n",
    "\n",
    "MSEdf.head()"
   ]
  },
  {
   "cell_type": "code",
   "execution_count": 0,
   "metadata": {
    "application/vnd.databricks.v1+cell": {
     "cellMetadata": {
      "byteLimit": 2048000,
      "rowLimit": 10000
     },
     "inputWidgets": {},
     "nuid": "9f2f90e3-3369-46f5-bcfc-6b1fb9bcf71e",
     "showTitle": false,
     "title": ""
    }
   },
   "outputs": [],
   "source": [
    "plt.xkcd()\n",
    "plt.figure(figsize=(25, 10))\n",
    "plt.plot(MSEdf, color='g', ls = '-.', marker='o', markerfacecolor='orange', markersize=10)\n",
    "plt.title(\"MSE\", fontsize=30, color='m')\n",
    "plt.xlabel(\"acceleration\", fontsize=20, color='c')\n",
    "plt.ylabel(\"MSE\", fontsize=20, color='c')"
   ]
  },
  {
   "cell_type": "code",
   "execution_count": 0,
   "metadata": {
    "application/vnd.databricks.v1+cell": {
     "cellMetadata": {
      "byteLimit": 2048000,
      "rowLimit": 10000
     },
     "inputWidgets": {},
     "nuid": "1e930de1-b821-45ca-84ef-22e8fe8b76e5",
     "showTitle": false,
     "title": ""
    }
   },
   "outputs": [],
   "source": [
    "plt.xkcd()\n",
    "plt.figure(figsize=(25, 10))\n",
    "plt.plot(SCOREdf, color='g', ls = '-.', marker='o', markerfacecolor='orange', markersize=10)\n",
    "plt.title(\"R^2\", fontsize=30, color='m')\n",
    "plt.xlabel(\"acceleration\", fontsize=20, color='c')\n",
    "plt.ylabel(\"R^2\", fontsize=20, color='c')"
   ]
  },
  {
   "cell_type": "markdown",
   "metadata": {
    "application/vnd.databricks.v1+cell": {
     "cellMetadata": {
      "byteLimit": 2048000,
      "rowLimit": 10000
     },
     "inputWidgets": {},
     "nuid": "9ed06bc7-e669-43bd-8d0e-34f475cbb376",
     "showTitle": false,
     "title": ""
    }
   },
   "source": [
    "*Checking for non-linear relationship between mpg and weight*"
   ]
  },
  {
   "cell_type": "code",
   "execution_count": 0,
   "metadata": {
    "application/vnd.databricks.v1+cell": {
     "cellMetadata": {
      "byteLimit": 2048000,
      "rowLimit": 10000
     },
     "inputWidgets": {},
     "nuid": "84e76345-da95-4693-b3f3-aa0ab48d8992",
     "showTitle": false,
     "title": ""
    }
   },
   "outputs": [],
   "source": [
    "X = Auto[['weight']]\n",
    "y = Auto.mpg\n",
    "df = pd.DataFrame()\n",
    "MSEdf = pd.DataFrame()\n",
    "SCORE = []\n",
    "\n",
    "for k in range(0,25):\n",
    "    X_k = X**k\n",
    "    df = pd.concat([df, X_k], axis=1)\n",
    "    df_a = np.array(df)\n",
    "    lmk = LinearRegression().fit(df_a, y)\n",
    "    err = pd.DataFrame([mean_squared_error(y, lmk.predict(df_a))])\n",
    "    MSEdf = MSEdf.append(err)\n",
    "    SCORE.append(lmk.score(df_a, y))\n",
    "    \n",
    "MSEdf.columns = ['MSE']\n",
    "MSEdf.reset_index(drop=True, inplace=True)\n",
    "\n",
    "SCOREdf = pd.DataFrame(SCORE)\n",
    "SCOREdf.columns = ['R^2']\n",
    "SCOREdf.reset_index(drop=True, inplace=True)\n",
    "\n",
    "MSEdf.head()"
   ]
  },
  {
   "cell_type": "code",
   "execution_count": 0,
   "metadata": {
    "application/vnd.databricks.v1+cell": {
     "cellMetadata": {
      "byteLimit": 2048000,
      "rowLimit": 10000
     },
     "inputWidgets": {},
     "nuid": "2a66f469-e97e-4414-9a91-504823bed4fc",
     "showTitle": false,
     "title": ""
    }
   },
   "outputs": [],
   "source": [
    "plt.xkcd()\n",
    "plt.figure(figsize=(25, 10))\n",
    "plt.plot(MSEdf, color='g', ls = '-.', marker='o', markerfacecolor='orange', markersize=10)\n",
    "plt.title(\"MSE\", fontsize=30, color='m')\n",
    "plt.xlabel(\"weight\", fontsize=20, color='c')\n",
    "plt.ylabel(\"MSE\", fontsize=20, color='c')"
   ]
  },
  {
   "cell_type": "code",
   "execution_count": 0,
   "metadata": {
    "application/vnd.databricks.v1+cell": {
     "cellMetadata": {
      "byteLimit": 2048000,
      "rowLimit": 10000
     },
     "inputWidgets": {},
     "nuid": "38f7d70a-9bb3-4e97-8d17-4efbd622bf58",
     "showTitle": false,
     "title": ""
    }
   },
   "outputs": [],
   "source": [
    "plt.xkcd()\n",
    "plt.figure(figsize=(25, 10))\n",
    "plt.plot(SCOREdf, color='g', ls = '-.', marker='o', markerfacecolor='orange', markersize=10)\n",
    "plt.title(\"R^2\", fontsize=30, color='m')\n",
    "plt.xlabel(\"weight\", fontsize=20, color='c')\n",
    "plt.ylabel(\"R^2\", fontsize=20, color='c')"
   ]
  },
  {
   "cell_type": "markdown",
   "metadata": {
    "application/vnd.databricks.v1+cell": {
     "cellMetadata": {
      "byteLimit": 2048000,
      "rowLimit": 10000
     },
     "inputWidgets": {},
     "nuid": "ab327f3b-c1af-4563-9428-6de88a018439",
     "showTitle": false,
     "title": ""
    }
   },
   "source": [
    "In all these variables, I notice there is some form of non-linear relationship. However, the order at which they give the best fit is quite high. However, one needs to keep in mind that these scores are not cross-validated, which makes them extremely susceptible to variance. However, their non-linear relationhip with 'mpg' cannot be argued against."
   ]
  }
 ],
 "metadata": {
  "application/vnd.databricks.v1+notebook": {
   "dashboards": [],
   "language": "python",
   "notebookMetadata": {
    "pythonIndentUnit": 2
   },
   "notebookName": "Question 8 - answers",
   "widgets": {}
  }
 },
 "nbformat": 4,
 "nbformat_minor": 0
}
