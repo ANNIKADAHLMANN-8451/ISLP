{
 "cells": [
  {
   "cell_type": "markdown",
   "metadata": {
    "application/vnd.databricks.v1+cell": {
     "cellMetadata": {
      "byteLimit": 2048000,
      "rowLimit": 10000
     },
     "inputWidgets": {},
     "nuid": "80bcaef4-2319-48ce-aff5-137bea66af26",
     "showTitle": false,
     "title": ""
    }
   },
   "source": [
    "This question uses the variables `dis` (the weighted mean of distances\n",
    "to fve Boston employment centers) and `nox` (nitrogen oxides concentration in parts per 10 million) from the `Boston` data. We will treat\n",
    "`dis` as the predictor and `nox` as the response."
   ]
  },
  {
   "cell_type": "code",
   "execution_count": 0,
   "metadata": {
    "application/vnd.databricks.v1+cell": {
     "cellMetadata": {
      "byteLimit": 2048000,
      "rowLimit": 10000
     },
     "inputWidgets": {},
     "nuid": "0499fc33-8898-4a26-8099-c214be49d7b3",
     "showTitle": false,
     "title": ""
    }
   },
   "outputs": [],
   "source": [
    "%pip install --quiet mlxtend"
   ]
  },
  {
   "cell_type": "markdown",
   "metadata": {
    "application/vnd.databricks.v1+cell": {
     "cellMetadata": {
      "byteLimit": 2048000,
      "rowLimit": 10000
     },
     "inputWidgets": {},
     "nuid": "112a249d-1594-4eaa-b79c-f5da608e169a",
     "showTitle": false,
     "title": ""
    }
   },
   "source": [
    "### Preprocessing"
   ]
  },
  {
   "cell_type": "code",
   "execution_count": 0,
   "metadata": {
    "application/vnd.databricks.v1+cell": {
     "cellMetadata": {
      "byteLimit": 2048000,
      "rowLimit": 10000
     },
     "inputWidgets": {},
     "nuid": "d143b68c-c688-4937-bdb8-97f762a96c7d",
     "showTitle": false,
     "title": ""
    }
   },
   "outputs": [],
   "source": [
    "# import relevant statistical packages\n",
    "import numpy as np\n",
    "import pandas as pd"
   ]
  },
  {
   "cell_type": "code",
   "execution_count": 0,
   "metadata": {
    "application/vnd.databricks.v1+cell": {
     "cellMetadata": {
      "byteLimit": 2048000,
      "rowLimit": 10000
     },
     "inputWidgets": {},
     "nuid": "492f34c6-0840-4d50-bf6b-4309b54ade01",
     "showTitle": false,
     "title": ""
    }
   },
   "outputs": [],
   "source": [
    "# import relevant data visualisation packages\n",
    "import matplotlib.pyplot as plt\n",
    "import seaborn as sns\n",
    "%matplotlib inline"
   ]
  },
  {
   "cell_type": "code",
   "execution_count": 0,
   "metadata": {
    "application/vnd.databricks.v1+cell": {
     "cellMetadata": {
      "byteLimit": 2048000,
      "rowLimit": 10000
     },
     "inputWidgets": {},
     "nuid": "866539bd-fde8-461f-b3da-a98cf0e8bde0",
     "showTitle": false,
     "title": ""
    }
   },
   "outputs": [],
   "source": [
    "# import custom packages\n",
    "from sklearn.metrics import mean_squared_error\n",
    "from sklearn.linear_model import LinearRegression\n",
    "from sklearn.metrics import r2_score, mean_squared_error\n",
    "from mlxtend.feature_selection import ExhaustiveFeatureSelector as EFS\n",
    "from mlxtend.plotting import plot_linear_regression as PLS\n",
    "from sklearn.preprocessing import scale"
   ]
  },
  {
   "cell_type": "code",
   "execution_count": 0,
   "metadata": {
    "application/vnd.databricks.v1+cell": {
     "cellMetadata": {
      "byteLimit": 2048000,
      "rowLimit": 10000
     },
     "inputWidgets": {},
     "nuid": "89e206ae-856f-4071-84bc-7818145486d0",
     "showTitle": false,
     "title": ""
    }
   },
   "outputs": [],
   "source": [
    "# import and preprocess data\n",
    "url = \"abfss://training@sa8451learningdev.dfs.core.windows.net/interpretable_machine_learning/eml_data/Boston.csv\"\n",
    "Boston = spark.read.option(\"header\", \"true\").csv(url).toPandas().astype(float)\n",
    "Boston.set_index(\"SlNo\", inplace=True)"
   ]
  },
  {
   "cell_type": "code",
   "execution_count": 0,
   "metadata": {
    "application/vnd.databricks.v1+cell": {
     "cellMetadata": {
      "byteLimit": 2048000,
      "rowLimit": 10000
     },
     "inputWidgets": {},
     "nuid": "250514f6-3247-4bfc-a453-ca0fed2d84cb",
     "showTitle": false,
     "title": ""
    }
   },
   "outputs": [],
   "source": [
    "Boston = pd.get_dummies(Boston, columns =['chas'], drop_first=True)"
   ]
  },
  {
   "cell_type": "code",
   "execution_count": 0,
   "metadata": {
    "application/vnd.databricks.v1+cell": {
     "cellMetadata": {
      "byteLimit": 2048000,
      "rowLimit": 10000
     },
     "inputWidgets": {},
     "nuid": "2b323e06-6f20-4f55-8b29-f9a0f29e0f6c",
     "showTitle": false,
     "title": ""
    }
   },
   "outputs": [],
   "source": [
    "Boston.head()"
   ]
  },
  {
   "cell_type": "code",
   "execution_count": 0,
   "metadata": {
    "application/vnd.databricks.v1+cell": {
     "cellMetadata": {
      "byteLimit": 2048000,
      "rowLimit": 10000
     },
     "inputWidgets": {},
     "nuid": "100cbd58-5c0f-4309-9d59-df0d93eda307",
     "showTitle": false,
     "title": ""
    }
   },
   "outputs": [],
   "source": [
    "Boston.shape"
   ]
  },
  {
   "cell_type": "markdown",
   "metadata": {
    "application/vnd.databricks.v1+cell": {
     "cellMetadata": {
      "byteLimit": 2048000,
      "rowLimit": 10000
     },
     "inputWidgets": {},
     "nuid": "51d45e66-7630-4e95-b1cf-e1634b08286f",
     "showTitle": false,
     "title": ""
    }
   },
   "source": [
    "**a. Use the `LinearRegression()` function from `sklearn` module to ft a\n",
    "cubic polynomial regression to predict `nox` using `dis`. Report the\n",
    "regression output, and plot the resulting data and polynomial\n",
    "fts.**"
   ]
  },
  {
   "cell_type": "code",
   "execution_count": 0,
   "metadata": {
    "application/vnd.databricks.v1+cell": {
     "cellMetadata": {
      "byteLimit": 2048000,
      "rowLimit": 10000
     },
     "inputWidgets": {},
     "nuid": "768d6399-7185-4b3e-b9b3-43e4631bbfd7",
     "showTitle": false,
     "title": ""
    }
   },
   "outputs": [],
   "source": [
    "X = Boston['dis']\n",
    "y = Boston['nox']"
   ]
  },
  {
   "cell_type": "code",
   "execution_count": 0,
   "metadata": {
    "application/vnd.databricks.v1+cell": {
     "cellMetadata": {
      "byteLimit": 2048000,
      "rowLimit": 10000
     },
     "inputWidgets": {},
     "nuid": "1e941e5f-b81e-473a-94e8-dde54b371b4f",
     "showTitle": false,
     "title": ""
    }
   },
   "outputs": [],
   "source": [
    "from sklearn.model_selection import KFold as KF, cross_val_score as CVS\n",
    "from sklearn.linear_model import LinearRegression\n",
    "from statsmodels.formula.api import ols\n",
    "import statsmodels.api as sm"
   ]
  },
  {
   "cell_type": "code",
   "execution_count": 0,
   "metadata": {
    "application/vnd.databricks.v1+cell": {
     "cellMetadata": {
      "byteLimit": 2048000,
      "rowLimit": 10000
     },
     "inputWidgets": {},
     "nuid": "2fd7187c-53c8-4fb1-8e45-c40a822d9c92",
     "showTitle": false,
     "title": ""
    }
   },
   "outputs": [],
   "source": [
    "# selecting M, the number of components that give the lowest cross-validation error\n",
    "n = len(X)\n",
    "kf10 = KF(n_splits=10, shuffle=True, random_state=42)\n",
    "\n",
    "lm = LinearRegression()\n",
    "MSEdf= pd.DataFrame()\n",
    "Xi = pd.DataFrame()\n",
    "\n",
    "# calculating MSE with only the intercept through cross-validation\n",
    "mse = -1*CVS(lm, np.ones((n,1)), y, cv=kf10, scoring='neg_mean_squared_error').mean()    \n",
    "MSEdf = MSEdf.append([round(mse, 9)], ignore_index=True)\n",
    "\n",
    "# calculating MSE for 15 degrees through cross-validation\n",
    "for i in np.arange(1, 15):\n",
    "    Xi = pd.concat([Xi, X**i], axis = 1)\n",
    "    mse = -1*CVS(lm, Xi.iloc[:,:i], y, cv=kf10, scoring='neg_mean_squared_error').mean()\n",
    "    MSEdf = MSEdf.append([round(mse, 9)])\n",
    "    \n",
    "MSEdf.reset_index(drop=True, inplace=True)\n",
    "MSEdf.columns = ['MSE']\n",
    "MSEdf.head()"
   ]
  },
  {
   "cell_type": "code",
   "execution_count": 0,
   "metadata": {
    "application/vnd.databricks.v1+cell": {
     "cellMetadata": {
      "byteLimit": 2048000,
      "rowLimit": 10000
     },
     "inputWidgets": {},
     "nuid": "6394b911-8005-477c-93b7-f756b5f8d407",
     "showTitle": false,
     "title": ""
    }
   },
   "outputs": [],
   "source": [
    "plt.xkcd()\n",
    "plt.figure(figsize=(25, 10))\n",
    "plt.plot(MSEdf, color='g',  linestyle='-.', marker='o', markerfacecolor='orange', markersize=10)\n",
    "plt.title('cross-validation to find optimal degree, d', fontsize=30)\n",
    "plt.xlabel('order of polynomial', fontsize=20)\n",
    "plt.ylabel('MSE')"
   ]
  },
  {
   "cell_type": "markdown",
   "metadata": {
    "application/vnd.databricks.v1+cell": {
     "cellMetadata": {
      "byteLimit": 2048000,
      "rowLimit": 10000
     },
     "inputWidgets": {},
     "nuid": "0bc46ef1-8b22-4c96-8eff-26cd666273ed",
     "showTitle": false,
     "title": ""
    }
   },
   "source": [
    "Cross-validation suggests $d$=3 to be give the smallest error and therefore is the optimal degree."
   ]
  },
  {
   "cell_type": "markdown",
   "metadata": {
    "application/vnd.databricks.v1+cell": {
     "cellMetadata": {
      "byteLimit": 2048000,
      "rowLimit": 10000
     },
     "inputWidgets": {},
     "nuid": "0bf684c6-8cf0-46f6-acc1-34bc7fa4de9f",
     "showTitle": false,
     "title": ""
    }
   },
   "source": [
    "Comparing it with $d$=4 and $d$=2"
   ]
  },
  {
   "cell_type": "code",
   "execution_count": 0,
   "metadata": {
    "application/vnd.databricks.v1+cell": {
     "cellMetadata": {
      "byteLimit": 2048000,
      "rowLimit": 10000
     },
     "inputWidgets": {},
     "nuid": "0a26645b-0c82-471e-93d0-c9b5fd9dc67a",
     "showTitle": false,
     "title": ""
    }
   },
   "outputs": [],
   "source": [
    "df = pd.concat([y, X, X**2, X**3, X**4], axis=1)\n",
    "df.columns = ['nox', 'dis', 'dis^2', 'dis^3', 'dis^4']\n",
    "lmfit2 = ols(\"df['nox']~df['dis']+df['dis^2']\", data=df).fit()\n",
    "lmfit3 = ols(\"df['nox']~df['dis']+df['dis^2']+df['dis^3']\", data=df).fit()\n",
    "lmfit4 = ols(\"df['nox']~df['dis']+df['dis^2']+df['dis^3']+df['dis^4']\", data=df).fit()"
   ]
  },
  {
   "cell_type": "code",
   "execution_count": 0,
   "metadata": {
    "application/vnd.databricks.v1+cell": {
     "cellMetadata": {
      "byteLimit": 2048000,
      "rowLimit": 10000
     },
     "inputWidgets": {},
     "nuid": "99b06a6d-5c9f-45f6-baea-90869a12904c",
     "showTitle": false,
     "title": ""
    }
   },
   "outputs": [],
   "source": [
    "anova_table = sm.stats.anova_lm(lmfit2, lmfit3, lmfit4, typ=1)\n",
    "anova_table.index = anova_table.index+2\n",
    "anova_table.round(2)"
   ]
  },
  {
   "cell_type": "markdown",
   "metadata": {
    "application/vnd.databricks.v1+cell": {
     "cellMetadata": {
      "byteLimit": 2048000,
      "rowLimit": 10000
     },
     "inputWidgets": {},
     "nuid": "1e61ed5d-ae29-4c95-9182-9d109274fd77",
     "showTitle": false,
     "title": ""
    }
   },
   "source": [
    "I notice that at $d$=4, the $p$-value>5%. Therefore, it's not significant to have $d$>3."
   ]
  },
  {
   "cell_type": "code",
   "execution_count": 0,
   "metadata": {
    "application/vnd.databricks.v1+cell": {
     "cellMetadata": {
      "byteLimit": 2048000,
      "rowLimit": 10000
     },
     "inputWidgets": {},
     "nuid": "a4ca3888-d818-4b90-b919-ea5f7103a464",
     "showTitle": false,
     "title": ""
    }
   },
   "outputs": [],
   "source": [
    "X1 = Boston['dis']\n",
    "X2 = X1**2\n",
    "X3 = X1**3\n",
    "plotdf = pd.concat([y, X1, X2, X3], axis=1)\n",
    "plotdf.columns = ['nox', 'dis', 'dis^2', 'dis^3']\n",
    "plt.xkcd()\n",
    "plt.figure(figsize = (25, 10))\n",
    "sns.regplot('dis', 'nox', data=plotdf, fit_reg=True, ci = 95, color='y', order=3, line_kws={'color':'green'})\n",
    "plt.title('NOX vs poly(DIS, 3)', fontsize=30)\n",
    "plt.xlabel('poly(DIS, 3)', fontsize=20)\n",
    "plt.ylabel('NOX', fontsize=20)"
   ]
  },
  {
   "cell_type": "code",
   "execution_count": 0,
   "metadata": {
    "application/vnd.databricks.v1+cell": {
     "cellMetadata": {
      "byteLimit": 2048000,
      "rowLimit": 10000
     },
     "inputWidgets": {},
     "nuid": "0fe0b071-d458-4649-af26-acd1f9836e53",
     "showTitle": false,
     "title": ""
    }
   },
   "outputs": [],
   "source": [
    "lmfit3.summary()"
   ]
  },
  {
   "cell_type": "markdown",
   "metadata": {
    "application/vnd.databricks.v1+cell": {
     "cellMetadata": {
      "byteLimit": 2048000,
      "rowLimit": 10000
     },
     "inputWidgets": {},
     "nuid": "b1ddf7cc-0e12-4cf5-a010-702dbf74ba3b",
     "showTitle": false,
     "title": ""
    }
   },
   "source": [
    "**b. Plot the polynomial fts for a range of diferent polynomial\n",
    "degrees (say, from 1 to 10), and report the associated residual\n",
    "sum of squares.**"
   ]
  },
  {
   "cell_type": "code",
   "execution_count": 0,
   "metadata": {
    "application/vnd.databricks.v1+cell": {
     "cellMetadata": {
      "byteLimit": 2048000,
      "rowLimit": 10000
     },
     "inputWidgets": {},
     "nuid": "3950785b-61e4-4c1d-8ae5-b202608bc5b2",
     "showTitle": false,
     "title": ""
    }
   },
   "outputs": [],
   "source": [
    "X = Boston[['dis']]\n",
    "y = Boston['nox']\n",
    "\n",
    "n = len(X)\n",
    "\n",
    "df = pd.DataFrame()\n",
    "RSSdf = pd.DataFrame()\n",
    "\n",
    "for k in range(0,21):\n",
    "    X_k = X**k\n",
    "    df = pd.concat([df, X_k], axis=1)\n",
    "    df_a = np.array(df)\n",
    "    lmk = LinearRegression().fit(df_a, y)\n",
    "    err = pd.DataFrame([mean_squared_error(y, lmk.predict(df_a))*n]) # multiplying MSE by n gives RSS\n",
    "    RSSdf = pd.concat([RSSdf, err], axis=0)\n",
    "\n",
    "RSSdf.columns = ['RSS']\n",
    "RSSdf.reset_index(drop=True, inplace=True)\n",
    "RSSdf.head()"
   ]
  },
  {
   "cell_type": "code",
   "execution_count": 0,
   "metadata": {
    "application/vnd.databricks.v1+cell": {
     "cellMetadata": {
      "byteLimit": 2048000,
      "rowLimit": 10000
     },
     "inputWidgets": {},
     "nuid": "c6e4aa61-3825-48bc-84ae-be3555426bd5",
     "showTitle": false,
     "title": ""
    }
   },
   "outputs": [],
   "source": [
    "plt.xkcd()\n",
    "plt.figure(figsize=(25, 10))\n",
    "plt.plot(RSSdf, color='g', ls = '-.', marker='o', markerfacecolor='orange', markersize=10)\n",
    "plt.title(\"RSS as a function of degrees, d\", fontsize=30, color='m')\n",
    "plt.xlabel(\"degrees, d\", fontsize=20, color='c')\n",
    "plt.ylabel(\"RSS\", fontsize=20, color='c')"
   ]
  },
  {
   "cell_type": "markdown",
   "metadata": {
    "application/vnd.databricks.v1+cell": {
     "cellMetadata": {
      "byteLimit": 2048000,
      "rowLimit": 10000
     },
     "inputWidgets": {},
     "nuid": "9948db90-ada8-4f80-8766-ec3cdf921342",
     "showTitle": false,
     "title": ""
    }
   },
   "source": [
    "Without cross-validation, I get the lowest RSS at $d$=16. However, using such high-degree polynomial regression risks the model overfitting test results (I have achieved this RSS by predicting on the training data set)."
   ]
  },
  {
   "cell_type": "markdown",
   "metadata": {
    "application/vnd.databricks.v1+cell": {
     "cellMetadata": {
      "byteLimit": 2048000,
      "rowLimit": 10000
     },
     "inputWidgets": {},
     "nuid": "cc936b43-1f3a-4bc9-973a-62f431c756f1",
     "showTitle": false,
     "title": ""
    }
   },
   "source": [
    "**d. Use the `LinearRegression()` function from the `sklearn` module to fit a regression spline to predict `nox` using `dis`. Report the output for\n",
    "the fit using four degrees of freedom. How did you choose the\n",
    "knots? Plot the resulting fit.**"
   ]
  },
  {
   "cell_type": "code",
   "execution_count": 0,
   "metadata": {
    "application/vnd.databricks.v1+cell": {
     "cellMetadata": {
      "byteLimit": 2048000,
      "rowLimit": 10000
     },
     "inputWidgets": {},
     "nuid": "54c6e6d9-3fef-47ea-9d02-73a9ef24fc39",
     "showTitle": false,
     "title": ""
    }
   },
   "outputs": [],
   "source": [
    "from patsy import dmatrix"
   ]
  },
  {
   "cell_type": "code",
   "execution_count": 0,
   "metadata": {
    "application/vnd.databricks.v1+cell": {
     "cellMetadata": {
      "byteLimit": 2048000,
      "rowLimit": 10000
     },
     "inputWidgets": {},
     "nuid": "9ff58702-90d2-405f-a046-aafbf398ed64",
     "showTitle": false,
     "title": ""
    }
   },
   "outputs": [],
   "source": [
    "plt.xkcd()\n",
    "plt.figure(figsize=(25, 10))\n",
    "df = pd.concat([y, X], axis=1)\n",
    "sns.distplot(X, color='g', bins=30, kde=True, rug=True, hist_kws={\"color\":\"yellow\"}, kde_kws={\"color\":\"green\"})\n",
    "plt.title(\"distribution of 'dis'\", fontsize=30, color='m')\n",
    "plt.xlabel('dis', fontsize=20, color='c')"
   ]
  },
  {
   "cell_type": "markdown",
   "metadata": {
    "application/vnd.databricks.v1+cell": {
     "cellMetadata": {
      "byteLimit": 2048000,
      "rowLimit": 10000
     },
     "inputWidgets": {},
     "nuid": "4818a12e-a363-45ec-962e-b31253ed8fa9",
     "showTitle": false,
     "title": ""
    }
   },
   "source": [
    "*I notice that NOX has the most significant change in distribution at 2 and is fairly smooth otherwise. So, I choose the knots at (2, 4, 6, 8)*"
   ]
  },
  {
   "cell_type": "code",
   "execution_count": 0,
   "metadata": {
    "application/vnd.databricks.v1+cell": {
     "cellMetadata": {
      "byteLimit": 2048000,
      "rowLimit": 10000
     },
     "inputWidgets": {},
     "nuid": "029fc9c5-a2a0-4284-8a71-4a6b863b8e0b",
     "showTitle": false,
     "title": ""
    }
   },
   "outputs": [],
   "source": [
    "X1 = dmatrix(\"bs(DIS, knots=(2, 4, 6, 8), degree=3, include_intercept=False)\", {\"DIS\": X}, return_type='dataframe')\n",
    "y1 = y\n",
    "df1 = pd.concat([y1, X1], axis=1)"
   ]
  },
  {
   "cell_type": "code",
   "execution_count": 0,
   "metadata": {
    "application/vnd.databricks.v1+cell": {
     "cellMetadata": {
      "byteLimit": 2048000,
      "rowLimit": 10000
     },
     "inputWidgets": {},
     "nuid": "985abffd-77b9-434c-99a6-9379d7220656",
     "showTitle": false,
     "title": ""
    }
   },
   "outputs": [],
   "source": [
    "lmfit1 = ols('y1~X1', data=df1).fit()\n",
    "lmfit1.summary()"
   ]
  },
  {
   "cell_type": "code",
   "execution_count": 0,
   "metadata": {
    "application/vnd.databricks.v1+cell": {
     "cellMetadata": {
      "byteLimit": 2048000,
      "rowLimit": 10000
     },
     "inputWidgets": {},
     "nuid": "dbdb8f9d-7f78-47ef-816b-af4d6216c001",
     "showTitle": false,
     "title": ""
    }
   },
   "outputs": [],
   "source": [
    "lmfit1_skl = LinearRegression().fit(X1, y1)\n",
    "DISgrid = np.arange(Boston.dis.min(), Boston.dis.max()).reshape(-1,1)\n",
    "Xpred1 = dmatrix(\"bs(DIS, knots=(2, 4, 6, 8), degree=3, include_intercept=False)\", {\"DIS\": DISgrid}, return_type='dataframe')\n",
    "lmpred1 = lmfit1_skl.predict(Xpred1)"
   ]
  },
  {
   "cell_type": "code",
   "execution_count": 0,
   "metadata": {
    "application/vnd.databricks.v1+cell": {
     "cellMetadata": {
      "byteLimit": 2048000,
      "rowLimit": 10000
     },
     "inputWidgets": {},
     "nuid": "e2aa8328-4b2b-4ba0-a7fc-9ba45c0d15a8",
     "showTitle": false,
     "title": ""
    }
   },
   "outputs": [],
   "source": [
    "# plotting all predictions\n",
    "plt.xkcd()\n",
    "plt.figure(figsize=(25, 10))\n",
    "plt.scatter(X, y, facecolor='y', alpha=0.5)\n",
    "plt.plot(DISgrid, lmpred1, color='r', label='Specifying the knots in a spline')\n",
    "[plt.vlines(i , 0, 12, linestyles='dashed', lw=2, colors='k') for i in [2, 4, 6, 8]]\n",
    "plt.legend()\n",
    "plt.ylim(ymin=0,ymax=1)\n",
    "plt.xlabel('DIS', fontsize=20, color='c')\n",
    "plt.ylabel('spline predictions for NOX', fontsize=20, color='c')\n",
    "plt.title('spline predictions for NOX vs DIS', fontsize=30, color='m')"
   ]
  },
  {
   "cell_type": "markdown",
   "metadata": {
    "application/vnd.databricks.v1+cell": {
     "cellMetadata": {
      "byteLimit": 2048000,
      "rowLimit": 10000
     },
     "inputWidgets": {},
     "nuid": "94a4c8f7-805d-4725-a654-bf694b325b8a",
     "showTitle": false,
     "title": ""
    }
   },
   "source": [
    "**e. Now fit a regression spline for a range of degrees of freedom, and\n",
    "plot the resulting fits and report the resulting RSS. Describe the\n",
    "results obtained.**"
   ]
  },
  {
   "cell_type": "code",
   "execution_count": 0,
   "metadata": {
    "application/vnd.databricks.v1+cell": {
     "cellMetadata": {
      "byteLimit": 2048000,
      "rowLimit": 10000
     },
     "inputWidgets": {},
     "nuid": "0b63bd52-1603-4f4c-a14b-328f8045a2fd",
     "showTitle": false,
     "title": ""
    }
   },
   "outputs": [],
   "source": [
    "X = Boston[['dis']]\n",
    "y = Boston['nox']\n",
    "MSEdf = pd.DataFrame()\n",
    "r2df = pd.DataFrame()\n",
    "\n",
    "plt.xkcd()\n",
    "plt.figure(figsize=(25, 10))\n",
    "plt.scatter(X, y, facecolor='y', alpha=0.5)\n",
    "[plt.vlines(i , 0, 12, linestyles='dashed', lw=2, colors='k') for i in [2, 4, 6, 8, 10, 12]]\n",
    "plt.ylim(ymin=0,ymax=1)\n",
    "plt.xlabel('DIS', fontsize=20, color='c')\n",
    "plt.ylabel('spline predictions for NOX', fontsize=20, color='c')\n",
    "plt.title('spline predictions for NOX vs DIS', fontsize=30, color='m')\n",
    "for k in range(3,20):\n",
    "    Xk = dmatrix(\"bs(DIS, df=k)\", {\"DIS\": X}, return_type='dataframe')\n",
    "    yk = y\n",
    "    dfX = pd.concat([yk, Xk], axis=1)\n",
    "    lmfit_skl = LinearRegression().fit(Xk, yk)\n",
    "    DISgrid = np.arange(Boston.dis.min(), Boston.dis.max()).reshape(-1,1)\n",
    "    Xpredk = dmatrix(f\"bs(DIS, df=k)\", {\"DIS\": DISgrid}, return_type='dataframe')\n",
    "    lmpredk = lmfit_skl.predict(Xpredk)\n",
    "    lmpredk1 = lmfit_skl.predict(Xk)\n",
    "    err = pd.DataFrame([mean_squared_error(y, lmpredk1)])\n",
    "    MSEdf = MSEdf.append(err)\n",
    "    r2 = pd.DataFrame([r2_score(y, lmpredk1)])\n",
    "    r2df = r2df.append(r2)\n",
    "    plt.plot(DISgrid, lmpredk, label=k)\n",
    "    plt.legend()\n",
    "    \n",
    "MSEdf.columns = ['MSE']\n",
    "MSEdf.reset_index(drop=True, inplace=True)\n",
    "MSEdf.index = MSEdf.index+3\n",
    "\n",
    "r2df.columns = ['MSE']\n",
    "r2df.reset_index(drop=True, inplace=True)\n",
    "MSEdf.index = MSEdf.index+3"
   ]
  },
  {
   "cell_type": "markdown",
   "metadata": {
    "application/vnd.databricks.v1+cell": {
     "cellMetadata": {
      "byteLimit": 2048000,
      "rowLimit": 10000
     },
     "inputWidgets": {},
     "nuid": "d2cc3b2d-6470-4957-bcd0-cff547d9cc36",
     "showTitle": false,
     "title": ""
    }
   },
   "source": [
    "I have plotted regression splines from degrees, $d$=3 to $d$=20. It's easy to see that the spline overfits the data in higher order."
   ]
  },
  {
   "cell_type": "code",
   "execution_count": 0,
   "metadata": {
    "application/vnd.databricks.v1+cell": {
     "cellMetadata": {
      "byteLimit": 2048000,
      "rowLimit": 10000
     },
     "inputWidgets": {},
     "nuid": "dcf65398-6f39-4505-a7cd-49bf9fbdce4e",
     "showTitle": false,
     "title": ""
    }
   },
   "outputs": [],
   "source": [
    "plt.xkcd()\n",
    "fig, (ax1, ax2) = plt.subplots(1, 2, figsize=(25,10))\n",
    "\n",
    "ax1.plot(MSEdf, ls='-.', color='g', marker='o', markersize=10, markerfacecolor='orange')\n",
    "ax1.set_xlabel('degrees', fontsize=20, color='c')\n",
    "ax1.set_ylabel('MSE', fontsize=20, color='c')\n",
    "ax1.set_title('MSE for degrees of DIS', color='m', fontsize=30)\n",
    "\n",
    "ax2.plot(r2df, ls='-.', color='g', marker='o', markersize=10, markerfacecolor='orange')\n",
    "ax2.set_xlabel('degrees', fontsize=20, color='c')\n",
    "ax2.set_ylabel('R^2', fontsize=20, color='c')\n",
    "ax2.set_title('R^2 for degrees of DIS', color='m', fontsize=30)"
   ]
  },
  {
   "cell_type": "markdown",
   "metadata": {
    "application/vnd.databricks.v1+cell": {
     "cellMetadata": {
      "byteLimit": 2048000,
      "rowLimit": 10000
     },
     "inputWidgets": {},
     "nuid": "4a8f0b2e-d3bc-4390-94af-9a9c89700c3c",
     "showTitle": false,
     "title": ""
    }
   },
   "source": [
    "The MSE decreases monotonically and then the rate of decrease slows down near $d$=20. Likewise, the $R^2$ increases monotonically and then the rate of increase slows down near $d$=20"
   ]
  },
  {
   "cell_type": "markdown",
   "metadata": {
    "application/vnd.databricks.v1+cell": {
     "cellMetadata": {
      "byteLimit": 2048000,
      "rowLimit": 10000
     },
     "inputWidgets": {},
     "nuid": "96f4efee-58ba-4a2c-8c7a-1736a447baa7",
     "showTitle": false,
     "title": ""
    }
   },
   "source": [
    "**f. Perform cross-validation or another approach in order to select\n",
    "the best degrees of freedom for a regression spline on this data.\n",
    "Describe your results.**"
   ]
  },
  {
   "cell_type": "code",
   "execution_count": 0,
   "metadata": {
    "application/vnd.databricks.v1+cell": {
     "cellMetadata": {
      "byteLimit": 2048000,
      "rowLimit": 10000
     },
     "inputWidgets": {},
     "nuid": "cfda6986-4bc1-4446-9386-615434592e90",
     "showTitle": false,
     "title": ""
    }
   },
   "outputs": [],
   "source": [
    "from sklearn.pipeline import make_pipeline\n",
    "X = Boston.dis.values.reshape(-1, 1)\n",
    "y = Boston.dis.values"
   ]
  },
  {
   "cell_type": "code",
   "execution_count": 0,
   "metadata": {
    "application/vnd.databricks.v1+cell": {
     "cellMetadata": {
      "byteLimit": 2048000,
      "rowLimit": 10000
     },
     "inputWidgets": {},
     "nuid": "4d0e6030-4764-4f1d-ae77-599662745827",
     "showTitle": false,
     "title": ""
    }
   },
   "outputs": [],
   "source": [
    "# selecting M, the number of components that give the lowest cross-validation error\n",
    "n = len(X)\n",
    "kf10 = KF(n_splits=10, shuffle=True, random_state=42)\n",
    "\n",
    "lm = LinearRegression()\n",
    "MSEdf= pd.DataFrame()\n",
    "Xk = pd.DataFrame()\n",
    "\n",
    "# calculating MSE for 15 degrees through cross-validation\n",
    "for k in np.arange(3, 35):\n",
    "    Xk = dmatrix(\"bs(DIS, df=k)\", {\"DIS\": X}, return_type='dataframe')\n",
    "    mse = -1*CVS(lm, Xk.iloc[:,:k], y, cv=kf10, scoring='neg_mean_squared_error').mean()\n",
    "    MSEdf = MSEdf.append([round(mse, 9)])\n",
    "    \n",
    "MSEdf.reset_index(drop=True, inplace=True)\n",
    "MSEdf.columns = ['MSE']\n",
    "MSEdf.index = MSEdf.index + 3\n",
    "MSEdf.head()"
   ]
  },
  {
   "cell_type": "code",
   "execution_count": 0,
   "metadata": {
    "application/vnd.databricks.v1+cell": {
     "cellMetadata": {
      "byteLimit": 2048000,
      "rowLimit": 10000
     },
     "inputWidgets": {},
     "nuid": "8f3ef602-23e2-4f1a-87ac-55d91ee27f91",
     "showTitle": false,
     "title": ""
    }
   },
   "outputs": [],
   "source": [
    "plt.xkcd()\n",
    "plt.figure(figsize=(25, 10))\n",
    "plt.plot(MSEdf, color='g',  linestyle='-.', marker='o', markerfacecolor='orange', markersize=10)\n",
    "plt.title('cross-validation to find optimal degree, d', fontsize=30)\n",
    "plt.xlabel('order of polynomial', fontsize=20)\n",
    "plt.ylabel('MSE')"
   ]
  },
  {
   "cell_type": "markdown",
   "metadata": {
    "application/vnd.databricks.v1+cell": {
     "cellMetadata": {
      "byteLimit": 2048000,
      "rowLimit": 10000
     },
     "inputWidgets": {},
     "nuid": "da90e480-276b-4cb3-ab6d-9ca6d510f83f",
     "showTitle": false,
     "title": ""
    }
   },
   "source": [
    "The lowest MSE occurs at $d$=14 and then increases over increasing degrees. Therefore, $d$=10 is the optimal degrees of freedom."
   ]
  },
  {
   "cell_type": "code",
   "execution_count": 0,
   "metadata": {
    "application/vnd.databricks.v1+cell": {
     "cellMetadata": {
      "byteLimit": 2048000,
      "rowLimit": 10000
     },
     "inputWidgets": {},
     "nuid": "c319093d-b8d0-40fa-859e-da34fe59a5f6",
     "showTitle": false,
     "title": ""
    }
   },
   "outputs": [],
   "source": []
  }
 ],
 "metadata": {
  "application/vnd.databricks.v1+notebook": {
   "dashboards": [],
   "language": "python",
   "notebookMetadata": {
    "pythonIndentUnit": 2
   },
   "notebookName": "Question 9 - answers",
   "widgets": {}
  }
 },
 "nbformat": 4,
 "nbformat_minor": 0
}
