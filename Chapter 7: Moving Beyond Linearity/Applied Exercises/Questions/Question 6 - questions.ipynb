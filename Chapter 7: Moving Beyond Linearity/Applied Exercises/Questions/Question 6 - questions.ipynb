{
 "cells": [
  {
   "cell_type": "markdown",
   "metadata": {
    "application/vnd.databricks.v1+cell": {
     "cellMetadata": {
      "byteLimit": 2048000,
      "rowLimit": 10000
     },
     "inputWidgets": {},
     "nuid": "46abce17-a119-4dfd-a654-e46d22304055",
     "showTitle": false,
     "title": ""
    }
   },
   "source": [
    "In this exercise, you will further analyze the `Wage` data set considered\n",
    "throughout this chapter."
   ]
  },
  {
   "cell_type": "markdown",
   "metadata": {
    "application/vnd.databricks.v1+cell": {
     "cellMetadata": {
      "byteLimit": 2048000,
      "rowLimit": 10000
     },
     "inputWidgets": {},
     "nuid": "ad73435d-960f-48e1-a881-f0c662fe85d5",
     "showTitle": false,
     "title": ""
    }
   },
   "source": [
    "### Preprocessing"
   ]
  },
  {
   "cell_type": "code",
   "execution_count": 0,
   "metadata": {
    "application/vnd.databricks.v1+cell": {
     "cellMetadata": {
      "byteLimit": 2048000,
      "rowLimit": 10000
     },
     "inputWidgets": {},
     "nuid": "5d4e74cd-ac6a-4f4a-a9aa-1e477a2f638e",
     "showTitle": false,
     "title": ""
    }
   },
   "outputs": [],
   "source": [
    "# import packages\n",
    "import numpy as np\n",
    "import pandas as pd\n",
    "import statsmodels.api as sm\n",
    "from statsmodels.formula.api import ols\n",
    "from scipy import stats\n",
    "import matplotlib.pyplot as plt\n",
    "pd.options.display.float_format = '{:,}'.format\n",
    "import seaborn as sns\n",
    "%matplotlib inline"
   ]
  },
  {
   "cell_type": "code",
   "execution_count": 0,
   "metadata": {
    "application/vnd.databricks.v1+cell": {
     "cellMetadata": {
      "byteLimit": 2048000,
      "rowLimit": 10000
     },
     "inputWidgets": {},
     "nuid": "dc86b217-6b30-4930-a3fb-251044bd54f1",
     "showTitle": false,
     "title": ""
    }
   },
   "outputs": [],
   "source": [
    "# load and preprocess data\n",
    "url = \"abfss://training@sa8451learningdev.dfs.core.windows.net/interpretable_machine_learning/eml_data/Wage.csv\"\n",
    "Wage = spark.read.option(\"header\", \"true\").csv(url).toPandas()\n",
    "Wage.set_index(\"SlNo\", inplace=True)\n",
    "\n",
    "str_cols = [\"maritl\", \"race\", \"education\", \"region\", \"jobclass\", \"health\", \"health_ins\"]\n",
    "float_cols = [\"logwage\", \"wage\"]\n",
    "int_cols = list(set(Wage.columns)-set(str_cols)-set(float_cols))\n",
    "Wage[str_cols] = Wage[str_cols].astype(str)\n",
    "Wage[float_cols] = Wage[float_cols].astype(float)\n",
    "Wage[int_cols] = Wage[int_cols].astype(int)"
   ]
  },
  {
   "cell_type": "code",
   "execution_count": 0,
   "metadata": {
    "application/vnd.databricks.v1+cell": {
     "cellMetadata": {
      "byteLimit": 2048000,
      "rowLimit": 10000
     },
     "inputWidgets": {},
     "nuid": "7c8bbd9c-2754-49e1-a119-551eb0b4f008",
     "showTitle": false,
     "title": ""
    }
   },
   "outputs": [],
   "source": [
    "Wage.head()"
   ]
  },
  {
   "cell_type": "code",
   "execution_count": 0,
   "metadata": {
    "application/vnd.databricks.v1+cell": {
     "cellMetadata": {
      "byteLimit": 2048000,
      "rowLimit": 10000
     },
     "inputWidgets": {},
     "nuid": "edf46b0d-db8d-4a4e-aa03-20aa7485ba09",
     "showTitle": false,
     "title": ""
    }
   },
   "outputs": [],
   "source": [
    "Wage.describe().round(2)"
   ]
  },
  {
   "cell_type": "code",
   "execution_count": 0,
   "metadata": {
    "application/vnd.databricks.v1+cell": {
     "cellMetadata": {
      "byteLimit": 2048000,
      "rowLimit": 10000
     },
     "inputWidgets": {},
     "nuid": "58efc89f-f899-4175-b9f3-733c4ff0355b",
     "showTitle": false,
     "title": ""
    }
   },
   "outputs": [],
   "source": [
    "Wage.info()"
   ]
  },
  {
   "cell_type": "markdown",
   "metadata": {
    "application/vnd.databricks.v1+cell": {
     "cellMetadata": {
      "byteLimit": 2048000,
      "rowLimit": 10000
     },
     "inputWidgets": {},
     "nuid": "3b1d0882-f560-4806-8c58-b72d607d7d3c",
     "showTitle": false,
     "title": ""
    }
   },
   "source": [
    "**a. Perform polynomial regression to predict `wage` using `age`. Use\n",
    "cross-validation to select the optimal degree d for the polynomial. What degree was chosen, and how does this compare to\n",
    "the results of hypothesis testing using ANOVA? Make a plot of\n",
    "the resulting polynomial ft to the data.**"
   ]
  },
  {
   "cell_type": "code",
   "execution_count": 0,
   "metadata": {
    "application/vnd.databricks.v1+cell": {
     "cellMetadata": {
      "byteLimit": 2048000,
      "rowLimit": 10000
     },
     "inputWidgets": {},
     "nuid": "3252630a-1887-47a5-8148-2f937563c087",
     "showTitle": false,
     "title": ""
    }
   },
   "outputs": [],
   "source": [
    "from sklearn.model_selection import KFold as KF, cross_val_score as CVS\n",
    "from sklearn.linear_model import LinearRegression"
   ]
  },
  {
   "cell_type": "code",
   "execution_count": 0,
   "metadata": {
    "application/vnd.databricks.v1+cell": {
     "cellMetadata": {
      "byteLimit": 2048000,
      "rowLimit": 10000
     },
     "inputWidgets": {},
     "nuid": "6d95a138-03f9-4e31-b8f0-2a524efcdd47",
     "showTitle": false,
     "title": ""
    }
   },
   "outputs": [],
   "source": [
    "# TODO: your response here"
   ]
  },
  {
   "cell_type": "markdown",
   "metadata": {
    "application/vnd.databricks.v1+cell": {
     "cellMetadata": {
      "byteLimit": 2048000,
      "rowLimit": 10000
     },
     "inputWidgets": {},
     "nuid": "64399c48-696b-4b65-af08-cf972f3b850f",
     "showTitle": false,
     "title": ""
    }
   },
   "source": [
    "**b. Fit a step function to predict `wage` using `age`, and perform crossvalidation to choose the optimal number of cuts. Make a plot of\n",
    "the ft obtained.**"
   ]
  },
  {
   "cell_type": "code",
   "execution_count": 0,
   "metadata": {
    "application/vnd.databricks.v1+cell": {
     "cellMetadata": {
      "byteLimit": 2048000,
      "rowLimit": 10000
     },
     "inputWidgets": {},
     "nuid": "87be7c37-00a7-4bfb-9669-ade4208b6b89",
     "showTitle": false,
     "title": ""
    }
   },
   "outputs": [],
   "source": [
    "# TODO: your response here"
   ]
  }
 ],
 "metadata": {
  "application/vnd.databricks.v1+notebook": {
   "dashboards": [],
   "language": "python",
   "notebookMetadata": {
    "pythonIndentUnit": 2
   },
   "notebookName": "Question 6 - questions",
   "widgets": {}
  }
 },
 "nbformat": 4,
 "nbformat_minor": 0
}
