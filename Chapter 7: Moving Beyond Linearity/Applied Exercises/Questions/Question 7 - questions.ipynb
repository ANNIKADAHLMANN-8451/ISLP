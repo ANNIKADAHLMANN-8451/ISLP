{
 "cells": [
  {
   "cell_type": "markdown",
   "metadata": {
    "application/vnd.databricks.v1+cell": {
     "cellMetadata": {
      "byteLimit": 2048000,
      "rowLimit": 10000
     },
     "inputWidgets": {},
     "nuid": "8a91bdd1-d379-495b-b70c-25f4e1b8246f",
     "showTitle": false,
     "title": ""
    }
   },
   "source": [
    "The `Wage` data set contains a number of other features not explored\n",
    "in this chapter, such as marital status (`maritl`), job class (`jobclass`),\n",
    "and others. Explore the relationships between some of these other\n",
    "predictors and `wage`, and use non-linear ftting techniques in order to\n",
    "ft fexible models to the data. Create plots of the results obtained,\n",
    "and write a summary of your fndings."
   ]
  },
  {
   "cell_type": "markdown",
   "metadata": {
    "application/vnd.databricks.v1+cell": {
     "cellMetadata": {
      "byteLimit": 2048000,
      "rowLimit": 10000
     },
     "inputWidgets": {},
     "nuid": "0ddfedc2-8528-44bb-8c6f-9a3200967f4c",
     "showTitle": false,
     "title": ""
    }
   },
   "source": [
    "# Preprocessing"
   ]
  },
  {
   "cell_type": "code",
   "execution_count": 0,
   "metadata": {
    "application/vnd.databricks.v1+cell": {
     "cellMetadata": {
      "byteLimit": 2048000,
      "rowLimit": 10000
     },
     "inputWidgets": {},
     "nuid": "6e41b052-e850-4c28-a3aa-5f5909659412",
     "showTitle": false,
     "title": ""
    }
   },
   "outputs": [],
   "source": [
    "# import packages\n",
    "import numpy as np\n",
    "import pandas as pd\n",
    "import statsmodels.api as sm\n",
    "from statsmodels.formula.api import ols\n",
    "from scipy import stats\n",
    "import matplotlib.pyplot as plt\n",
    "pd.options.display.float_format = '{:,}'.format\n",
    "import seaborn as sns\n",
    "%matplotlib inline"
   ]
  },
  {
   "cell_type": "code",
   "execution_count": 0,
   "metadata": {
    "application/vnd.databricks.v1+cell": {
     "cellMetadata": {
      "byteLimit": 2048000,
      "rowLimit": 10000
     },
     "inputWidgets": {},
     "nuid": "cc901ef3-20c4-4420-8df8-680c4b2a0883",
     "showTitle": false,
     "title": ""
    }
   },
   "outputs": [],
   "source": [
    "# load and preprocess data\n",
    "url = \"abfss://training@sa8451learningdev.dfs.core.windows.net/interpretable_machine_learning/eml_data/Wage.csv\"\n",
    "Wage = spark.read.option(\"header\", \"true\").csv(url).toPandas()\n",
    "Wage.set_index(\"SlNo\", inplace=True)\n",
    "\n",
    "str_cols = [\"maritl\", \"race\", \"education\", \"region\", \"jobclass\", \"health\", \"health_ins\"]\n",
    "float_cols = [\"logwage\", \"wage\"]\n",
    "int_cols = list(set(Wage.columns)-set(str_cols)-set(float_cols))\n",
    "Wage[str_cols] = Wage[str_cols].astype(str)\n",
    "Wage[float_cols] = Wage[float_cols].astype(float)\n",
    "Wage[int_cols] = Wage[int_cols].astype(int)"
   ]
  },
  {
   "cell_type": "code",
   "execution_count": 0,
   "metadata": {
    "application/vnd.databricks.v1+cell": {
     "cellMetadata": {
      "byteLimit": 2048000,
      "rowLimit": 10000
     },
     "inputWidgets": {},
     "nuid": "3577287c-5ef4-43f3-9a82-4b39dd48c122",
     "showTitle": false,
     "title": ""
    }
   },
   "outputs": [],
   "source": [
    "Wage.head()"
   ]
  },
  {
   "cell_type": "code",
   "execution_count": 0,
   "metadata": {
    "application/vnd.databricks.v1+cell": {
     "cellMetadata": {
      "byteLimit": 2048000,
      "rowLimit": 10000
     },
     "inputWidgets": {},
     "nuid": "42cb5c95-5980-4476-8bf5-7f949b22b657",
     "showTitle": false,
     "title": ""
    }
   },
   "outputs": [],
   "source": [
    "Wage.describe().round(2)"
   ]
  },
  {
   "cell_type": "code",
   "execution_count": 0,
   "metadata": {
    "application/vnd.databricks.v1+cell": {
     "cellMetadata": {
      "byteLimit": 2048000,
      "rowLimit": 10000
     },
     "inputWidgets": {},
     "nuid": "49f762c4-f972-4df4-9f6a-e27a437c57c7",
     "showTitle": false,
     "title": ""
    }
   },
   "outputs": [],
   "source": [
    "Wage.info()"
   ]
  },
  {
   "cell_type": "code",
   "execution_count": 0,
   "metadata": {
    "application/vnd.databricks.v1+cell": {
     "cellMetadata": {
      "byteLimit": 2048000,
      "rowLimit": 10000
     },
     "inputWidgets": {},
     "nuid": "758c2161-57ed-4063-a3e9-3a46085663a6",
     "showTitle": false,
     "title": ""
    }
   },
   "outputs": [],
   "source": [
    "# TODO: your response here"
   ]
  }
 ],
 "metadata": {
  "application/vnd.databricks.v1+notebook": {
   "dashboards": [],
   "language": "python",
   "notebookMetadata": {
    "pythonIndentUnit": 2
   },
   "notebookName": "Question 7 - questions",
   "widgets": {}
  }
 },
 "nbformat": 4,
 "nbformat_minor": 0
}
