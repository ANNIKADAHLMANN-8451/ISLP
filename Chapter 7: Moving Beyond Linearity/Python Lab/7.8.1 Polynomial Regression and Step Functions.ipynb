{
 "cells": [
  {
   "cell_type": "markdown",
   "metadata": {
    "application/vnd.databricks.v1+cell": {
     "cellMetadata": {
      "byteLimit": 2048000,
      "rowLimit": 10000
     },
     "inputWidgets": {},
     "nuid": "0695fe7a-b6ec-4c4c-a34c-1ec463dc7f53",
     "showTitle": false,
     "title": ""
    }
   },
   "source": [
    "### Preprocessing"
   ]
  },
  {
   "cell_type": "code",
   "execution_count": 0,
   "metadata": {
    "application/vnd.databricks.v1+cell": {
     "cellMetadata": {
      "byteLimit": 2048000,
      "rowLimit": 10000
     },
     "inputWidgets": {},
     "nuid": "da56be23-706d-44a7-9212-3b347f465a06",
     "showTitle": false,
     "title": ""
    }
   },
   "outputs": [],
   "source": [
    "# import packages\n",
    "import numpy as np\n",
    "import pandas as pd\n",
    "import statsmodels.api as sm\n",
    "from statsmodels.formula.api import ols, logit\n",
    "from scipy import stats\n",
    "import matplotlib.pyplot as plt\n",
    "pd.options.display.float_format = '{:,}'.format\n",
    "import seaborn as sns\n",
    "%matplotlib inline"
   ]
  },
  {
   "cell_type": "code",
   "execution_count": 0,
   "metadata": {
    "application/vnd.databricks.v1+cell": {
     "cellMetadata": {
      "byteLimit": 2048000,
      "rowLimit": 10000
     },
     "inputWidgets": {},
     "nuid": "f1ef2778-456d-4643-a457-422c471e9c74",
     "showTitle": false,
     "title": ""
    }
   },
   "outputs": [],
   "source": [
    "# import and preprocess data\n",
    "url = \"abfss://training@sa8451learningdev.dfs.core.windows.net/interpretable_machine_learning/eml_data/Wage.csv\"\n",
    "Wage = spark.read.option(\"header\", \"true\").csv(url).toPandas()\n",
    "Wage.set_index('SlNo', inplace=True)\n",
    "\n",
    "int_cols = [\"year\", \"age\"]\n",
    "float_cols = [\"logwage\", \"wage\"]\n",
    "str_cols = [\"maritl\", \"race\", \"education\", \"region\", \"jobclass\", \"health\", \"health_ins\"]\n",
    "Wage[int_cols] = Wage[int_cols].astype(int)\n",
    "Wage[float_cols] = Wage[float_cols].astype(float)\n",
    "Wage[str_cols] = Wage[str_cols].astype(str)"
   ]
  },
  {
   "cell_type": "code",
   "execution_count": 0,
   "metadata": {
    "application/vnd.databricks.v1+cell": {
     "cellMetadata": {
      "byteLimit": 2048000,
      "rowLimit": 10000
     },
     "inputWidgets": {},
     "nuid": "7ff4324d-b0a7-496b-8eb7-3f7f39a7a337",
     "showTitle": false,
     "title": ""
    }
   },
   "outputs": [],
   "source": [
    "Wage.head()"
   ]
  },
  {
   "cell_type": "code",
   "execution_count": 0,
   "metadata": {
    "application/vnd.databricks.v1+cell": {
     "cellMetadata": {
      "byteLimit": 2048000,
      "rowLimit": 10000
     },
     "inputWidgets": {},
     "nuid": "8738381f-7569-4a05-bd84-2ff4cac99e3a",
     "showTitle": false,
     "title": ""
    }
   },
   "outputs": [],
   "source": [
    "Wage.describe().round(2)"
   ]
  },
  {
   "cell_type": "code",
   "execution_count": 0,
   "metadata": {
    "application/vnd.databricks.v1+cell": {
     "cellMetadata": {
      "byteLimit": 2048000,
      "rowLimit": 10000
     },
     "inputWidgets": {},
     "nuid": "19006872-390d-401c-be29-c1ed7fabb610",
     "showTitle": false,
     "title": ""
    }
   },
   "outputs": [],
   "source": [
    "Wage.info()"
   ]
  },
  {
   "cell_type": "markdown",
   "metadata": {
    "application/vnd.databricks.v1+cell": {
     "cellMetadata": {
      "byteLimit": 2048000,
      "rowLimit": 10000
     },
     "inputWidgets": {},
     "nuid": "8cabcee2-37dd-4d8e-a19c-d5aa8d4c47c6",
     "showTitle": false,
     "title": ""
    }
   },
   "source": [
    "### Polynomial regression"
   ]
  },
  {
   "cell_type": "code",
   "execution_count": 0,
   "metadata": {
    "application/vnd.databricks.v1+cell": {
     "cellMetadata": {
      "byteLimit": 2048000,
      "rowLimit": 10000
     },
     "inputWidgets": {},
     "nuid": "550690a0-4bc0-4fe2-bd51-aa96b448923e",
     "showTitle": false,
     "title": ""
    }
   },
   "outputs": [],
   "source": [
    "X1 = Wage['age']\n",
    "X2 = X1**2\n",
    "X3 = X1**3\n",
    "X4 = X1**4\n",
    "y = Wage['wage']\n",
    "df4 = pd.concat([X1, X2, X3, X4], axis=1)"
   ]
  },
  {
   "cell_type": "code",
   "execution_count": 0,
   "metadata": {
    "application/vnd.databricks.v1+cell": {
     "cellMetadata": {
      "byteLimit": 2048000,
      "rowLimit": 10000
     },
     "inputWidgets": {},
     "nuid": "3198f508-b368-4f25-a55f-32b3731ca8f7",
     "showTitle": false,
     "title": ""
    }
   },
   "outputs": [],
   "source": [
    "lmfit = ols('y~df4', data=Wage).fit()"
   ]
  },
  {
   "cell_type": "code",
   "execution_count": 0,
   "metadata": {
    "application/vnd.databricks.v1+cell": {
     "cellMetadata": {
      "byteLimit": 2048000,
      "rowLimit": 10000
     },
     "inputWidgets": {},
     "nuid": "2da0a62a-e051-4475-aa1e-9794bda5be94",
     "showTitle": false,
     "title": ""
    }
   },
   "outputs": [],
   "source": [
    "lmsummary = lmfit.summary()\n",
    "lmsummary.tables[1]"
   ]
  },
  {
   "cell_type": "code",
   "execution_count": 0,
   "metadata": {
    "application/vnd.databricks.v1+cell": {
     "cellMetadata": {
      "byteLimit": 2048000,
      "rowLimit": 10000
     },
     "inputWidgets": {},
     "nuid": "dee8f1f5-38a2-49e1-8803-9d0ca340fafd",
     "showTitle": false,
     "title": ""
    }
   },
   "outputs": [],
   "source": [
    "lmpred = lmfit.get_prediction(df4)\n",
    "lmpred_df = lmpred.summary_frame()\n",
    "lmpred_df.head().round(2)"
   ]
  },
  {
   "cell_type": "code",
   "execution_count": 0,
   "metadata": {
    "application/vnd.databricks.v1+cell": {
     "cellMetadata": {
      "byteLimit": 2048000,
      "rowLimit": 10000
     },
     "inputWidgets": {},
     "nuid": "38a9823c-13f8-4e5c-bff8-29ddeb444f85",
     "showTitle": false,
     "title": ""
    }
   },
   "outputs": [],
   "source": [
    "lmse = pd.DataFrame([lmpred_df['mean']-2*lmpred_df['mean_se'], lmpred_df['mean']+2*lmpred_df['mean_se']]).T\n",
    "lmse.columns = ['lower', 'upper']\n",
    "lmse.head().round(2)"
   ]
  },
  {
   "cell_type": "code",
   "execution_count": 0,
   "metadata": {
    "application/vnd.databricks.v1+cell": {
     "cellMetadata": {
      "byteLimit": 2048000,
      "rowLimit": 10000
     },
     "inputWidgets": {},
     "nuid": "d44a7b26-e25f-4deb-9e90-892d9b162b0c",
     "showTitle": false,
     "title": ""
    }
   },
   "outputs": [],
   "source": [
    "plotdf = pd.concat([y, X1, X2, X3, X4], axis=1)\n",
    "plotdf.columns = ['wage', 'age', 'age^2', 'age^3', 'age^4']\n",
    "plt.xkcd()\n",
    "plt.figure(figsize = (25, 10))\n",
    "sns.regplot('age', 'wage', data=plotdf, fit_reg=True, ci = 95, order=4, color='yellow', line_kws={'color':'green'})\n",
    "plt.title('wage vs poly(age, 4)', fontsize=30)\n",
    "plt.xlabel('poly(age, 4)', fontsize=20)\n",
    "plt.ylabel('wage', fontsize=20)"
   ]
  },
  {
   "cell_type": "code",
   "execution_count": 0,
   "metadata": {
    "application/vnd.databricks.v1+cell": {
     "cellMetadata": {
      "byteLimit": 2048000,
      "rowLimit": 10000
     },
     "inputWidgets": {},
     "nuid": "be9f366d-0379-4dd9-9c5b-9b809f1858d5",
     "showTitle": false,
     "title": ""
    }
   },
   "outputs": [],
   "source": [
    "df5 = pd.concat([plotdf, X1**5], axis=1)\n",
    "df5.columns = ['wage', 'age', 'age^2', 'age^3', 'age^4', 'age^5']\n",
    "df5.head().round(2)"
   ]
  },
  {
   "cell_type": "code",
   "execution_count": 0,
   "metadata": {
    "application/vnd.databricks.v1+cell": {
     "cellMetadata": {
      "byteLimit": 2048000,
      "rowLimit": 10000
     },
     "inputWidgets": {},
     "nuid": "a2e5e640-b8e5-4033-81d6-486179fd06ff",
     "showTitle": false,
     "title": ""
    }
   },
   "outputs": [],
   "source": [
    "lmfit1 = ols(\"df5['wage']~df5['age']\", data=df5).fit()\n",
    "lmfit2 = ols(\"df5['wage']~df5['age']+df5['age^2']\", data=df5).fit()\n",
    "lmfit3 = ols(\"df5['wage']~df5['age']+df5['age^2']+df5['age^3']\", data=df5).fit()\n",
    "lmfit4 = ols(\"df5['wage']~df5['age']+df5['age^2']+df5['age^3']+df5['age^4']\", data=df5).fit()\n",
    "lmfit5 = ols(\"df5['wage']~df5['age']+df5['age^2']+df5['age^3']+df5['age^4']+df5['age^5']\", data=df5).fit()"
   ]
  },
  {
   "cell_type": "code",
   "execution_count": 0,
   "metadata": {
    "application/vnd.databricks.v1+cell": {
     "cellMetadata": {
      "byteLimit": 2048000,
      "rowLimit": 10000
     },
     "inputWidgets": {},
     "nuid": "e57c95a3-ca41-438b-a298-a0c0eada2960",
     "showTitle": false,
     "title": ""
    }
   },
   "outputs": [],
   "source": [
    "anova_table = sm.stats.anova_lm(lmfit1, lmfit2, lmfit3, lmfit4, lmfit5, typ=1)\n",
    "anova_table.index = anova_table.index+1\n",
    "anova_table.round(6)"
   ]
  },
  {
   "cell_type": "markdown",
   "metadata": {
    "application/vnd.databricks.v1+cell": {
     "cellMetadata": {
      "byteLimit": 2048000,
      "rowLimit": 10000
     },
     "inputWidgets": {},
     "nuid": "0e091f2c-7f7b-4cd8-84c1-7f6ba1ea7307",
     "showTitle": false,
     "title": ""
    }
   },
   "source": [
    "*The p-value of the cubic and quartic models border on the statistical significance level of 5%, while the quintic model is unnecessary since its p-value>5%. Therfore, the ANOVA table suggets that a cubic or quartic model should suffice to explain the relationship between age and wage.*"
   ]
  },
  {
   "cell_type": "code",
   "execution_count": 0,
   "metadata": {
    "application/vnd.databricks.v1+cell": {
     "cellMetadata": {
      "byteLimit": 2048000,
      "rowLimit": 10000
     },
     "inputWidgets": {},
     "nuid": "6daefdff-67f8-4e47-827c-2abc448b853d",
     "showTitle": false,
     "title": ""
    }
   },
   "outputs": [],
   "source": [
    "# another way to explain the aforementioned phenomena\n",
    "lmfit5.summary().tables[1]"
   ]
  },
  {
   "cell_type": "markdown",
   "metadata": {
    "application/vnd.databricks.v1+cell": {
     "cellMetadata": {
      "byteLimit": 2048000,
      "rowLimit": 10000
     },
     "inputWidgets": {},
     "nuid": "780b4eeb-9e40-4bc0-aa8c-631c1e5ded8a",
     "showTitle": false,
     "title": ""
    }
   },
   "source": [
    "### Polynomial logistic regression"
   ]
  },
  {
   "cell_type": "code",
   "execution_count": 0,
   "metadata": {
    "application/vnd.databricks.v1+cell": {
     "cellMetadata": {
      "byteLimit": 2048000,
      "rowLimit": 10000
     },
     "inputWidgets": {},
     "nuid": "d782c4c6-1fe4-492b-9fac-c6a2d5d19197",
     "showTitle": false,
     "title": ""
    }
   },
   "outputs": [],
   "source": [
    "df4 = df5.drop(columns='age^5')\n",
    "df4['wage'] = np.where(df4['wage']>=250, 1, 0)"
   ]
  },
  {
   "cell_type": "code",
   "execution_count": 0,
   "metadata": {
    "application/vnd.databricks.v1+cell": {
     "cellMetadata": {
      "byteLimit": 2048000,
      "rowLimit": 10000
     },
     "inputWidgets": {},
     "nuid": "ffff90cd-0d09-4ac8-b98b-3a6350399e24",
     "showTitle": false,
     "title": ""
    }
   },
   "outputs": [],
   "source": [
    "df4['wage'].value_counts()"
   ]
  },
  {
   "cell_type": "code",
   "execution_count": 0,
   "metadata": {
    "application/vnd.databricks.v1+cell": {
     "cellMetadata": {
      "byteLimit": 2048000,
      "rowLimit": 10000
     },
     "inputWidgets": {},
     "nuid": "84202620-87bf-4d1f-85b3-42e2e950a26b",
     "showTitle": false,
     "title": ""
    }
   },
   "outputs": [],
   "source": [
    "df4.head()"
   ]
  },
  {
   "cell_type": "code",
   "execution_count": 0,
   "metadata": {
    "application/vnd.databricks.v1+cell": {
     "cellMetadata": {
      "byteLimit": 2048000,
      "rowLimit": 10000
     },
     "inputWidgets": {},
     "nuid": "4a04dbd0-4e7c-4234-a01d-a6c57fa7a92a",
     "showTitle": false,
     "title": ""
    }
   },
   "outputs": [],
   "source": [
    "logfit = sm.GLM(df4['wage'], df4[['age', 'age^2', 'age^3', 'age^4']], family=sm.families.Binomial()).fit()"
   ]
  },
  {
   "cell_type": "code",
   "execution_count": 0,
   "metadata": {
    "application/vnd.databricks.v1+cell": {
     "cellMetadata": {
      "byteLimit": 2048000,
      "rowLimit": 10000
     },
     "inputWidgets": {},
     "nuid": "98fb8949-74eb-4aef-8133-2e2f5076eaa4",
     "showTitle": false,
     "title": ""
    }
   },
   "outputs": [],
   "source": [
    "logpred = logfit.get_prediction(df4[['age', 'age^2', 'age^3', 'age^4']])\n",
    "logpred_df = logpred.summary_frame()\n",
    "logpred_df.head()"
   ]
  },
  {
   "cell_type": "code",
   "execution_count": 0,
   "metadata": {
    "application/vnd.databricks.v1+cell": {
     "cellMetadata": {
      "byteLimit": 2048000,
      "rowLimit": 10000
     },
     "inputWidgets": {},
     "nuid": "326715b0-4eda-47de-b73f-e3f12e570299",
     "showTitle": false,
     "title": ""
    }
   },
   "outputs": [],
   "source": [
    "logse = pd.DataFrame([logpred_df['mean']-2*logpred_df['mean_se'], logpred_df['mean']+2*logpred_df['mean_se']]).T\n",
    "logse.columns = ['lower', 'upper']\n",
    "logse.head()"
   ]
  },
  {
   "cell_type": "markdown",
   "metadata": {
    "application/vnd.databricks.v1+cell": {
     "cellMetadata": {
      "byteLimit": 2048000,
      "rowLimit": 10000
     },
     "inputWidgets": {},
     "nuid": "8b700a85-32b1-4718-88ff-254fb0878408",
     "showTitle": false,
     "title": ""
    }
   },
   "source": [
    "### Step functions"
   ]
  },
  {
   "cell_type": "code",
   "execution_count": 0,
   "metadata": {
    "application/vnd.databricks.v1+cell": {
     "cellMetadata": {
      "byteLimit": 2048000,
      "rowLimit": 10000
     },
     "inputWidgets": {},
     "nuid": "f94f2716-c3bc-4749-a9b2-53c9d1f1084a",
     "showTitle": false,
     "title": ""
    }
   },
   "outputs": [],
   "source": [
    "df4_cut, bins = pd.cut(df4.age, 4, retbins = True, right = True)\n",
    "df4_cut.value_counts()"
   ]
  },
  {
   "cell_type": "code",
   "execution_count": 0,
   "metadata": {
    "application/vnd.databricks.v1+cell": {
     "cellMetadata": {
      "byteLimit": 2048000,
      "rowLimit": 10000
     },
     "inputWidgets": {},
     "nuid": "2f8a4e38-4f8f-4723-88c5-d0023d0f259f",
     "showTitle": false,
     "title": ""
    }
   },
   "outputs": [],
   "source": [
    "lmfit_step = ols('df4.wage~df4_cut', data=df4).fit()\n",
    "lmfit_step.summary()"
   ]
  },
  {
   "cell_type": "code",
   "execution_count": 0,
   "metadata": {
    "application/vnd.databricks.v1+cell": {
     "cellMetadata": {
      "byteLimit": 2048000,
      "rowLimit": 10000
     },
     "inputWidgets": {},
     "nuid": "1290e941-7ed9-4cb9-bd0c-3a6bdcee25b1",
     "showTitle": false,
     "title": ""
    }
   },
   "outputs": [],
   "source": []
  }
 ],
 "metadata": {
  "application/vnd.databricks.v1+notebook": {
   "dashboards": [],
   "language": "python",
   "notebookMetadata": {
    "pythonIndentUnit": 2
   },
   "notebookName": "7.8.1 Polynomial Regression and Step Functions",
   "widgets": {}
  }
 },
 "nbformat": 4,
 "nbformat_minor": 0
}
