{
 "cells": [
  {
   "cell_type": "code",
   "execution_count": 0,
   "metadata": {
    "application/vnd.databricks.v1+cell": {
     "cellMetadata": {
      "byteLimit": 2048000,
      "rowLimit": 10000
     },
     "inputWidgets": {},
     "nuid": "be2d5815-010a-4687-bf56-e608e5717739",
     "showTitle": false,
     "title": ""
    }
   },
   "outputs": [],
   "source": [
    "%pip install loess"
   ]
  },
  {
   "cell_type": "markdown",
   "metadata": {
    "application/vnd.databricks.v1+cell": {
     "cellMetadata": {
      "byteLimit": 2048000,
      "rowLimit": 10000
     },
     "inputWidgets": {},
     "nuid": "5a26d88e-44b2-470b-9e92-97f9a39414bc",
     "showTitle": false,
     "title": ""
    }
   },
   "source": [
    "### Preprocessing"
   ]
  },
  {
   "cell_type": "code",
   "execution_count": 0,
   "metadata": {
    "application/vnd.databricks.v1+cell": {
     "cellMetadata": {
      "byteLimit": 2048000,
      "rowLimit": 10000
     },
     "inputWidgets": {},
     "nuid": "4bd75843-56be-41e1-98d4-3ed795b31694",
     "showTitle": false,
     "title": ""
    }
   },
   "outputs": [],
   "source": [
    "# import packages\n",
    "import numpy as np\n",
    "import pandas as pd\n",
    "import statsmodels.api as sm\n",
    "from statsmodels.formula.api import ols, logit\n",
    "from scipy import stats\n",
    "import matplotlib.pyplot as plt\n",
    "pd.options.display.float_format = '{:,}'.format\n",
    "import seaborn as sns\n",
    "%matplotlib inline"
   ]
  },
  {
   "cell_type": "code",
   "execution_count": 0,
   "metadata": {
    "application/vnd.databricks.v1+cell": {
     "cellMetadata": {
      "byteLimit": 2048000,
      "rowLimit": 10000
     },
     "inputWidgets": {},
     "nuid": "aaf343d9-a08a-4bb4-b776-2fd9fa0c9031",
     "showTitle": false,
     "title": ""
    }
   },
   "outputs": [],
   "source": [
    "# import and preprocess data\n",
    "url = \"abfss://training@sa8451learningdev.dfs.core.windows.net/interpretable_machine_learning/eml_data/Wage.csv\"\n",
    "Wage = spark.read.option(\"header\", \"true\").csv(url).toPandas()\n",
    "Wage.set_index('SlNo', inplace=True)\n",
    "\n",
    "int_cols = [\"year\", \"age\"]\n",
    "float_cols = [\"logwage\", \"wage\"]\n",
    "str_cols = [\"maritl\", \"race\", \"education\", \"region\", \"jobclass\", \"health\", \"health_ins\"]\n",
    "Wage[int_cols] = Wage[int_cols].astype(int)\n",
    "Wage[float_cols] = Wage[float_cols].astype(float)\n",
    "Wage[str_cols] = Wage[str_cols].astype(str)"
   ]
  },
  {
   "cell_type": "code",
   "execution_count": 0,
   "metadata": {
    "application/vnd.databricks.v1+cell": {
     "cellMetadata": {
      "byteLimit": 2048000,
      "rowLimit": 10000
     },
     "inputWidgets": {},
     "nuid": "ce257e29-b30c-432a-aec9-663e9bbcb0bf",
     "showTitle": false,
     "title": ""
    }
   },
   "outputs": [],
   "source": [
    "Wage.head()"
   ]
  },
  {
   "cell_type": "code",
   "execution_count": 0,
   "metadata": {
    "application/vnd.databricks.v1+cell": {
     "cellMetadata": {
      "byteLimit": 2048000,
      "rowLimit": 10000
     },
     "inputWidgets": {},
     "nuid": "5559ebe3-3c86-41fe-af62-6935c41b5daa",
     "showTitle": false,
     "title": ""
    }
   },
   "outputs": [],
   "source": [
    "Wage.describe().round(2)"
   ]
  },
  {
   "cell_type": "code",
   "execution_count": 0,
   "metadata": {
    "application/vnd.databricks.v1+cell": {
     "cellMetadata": {
      "byteLimit": 2048000,
      "rowLimit": 10000
     },
     "inputWidgets": {},
     "nuid": "043f4ffb-6281-4ca9-b595-137937b0588a",
     "showTitle": false,
     "title": ""
    }
   },
   "outputs": [],
   "source": [
    "Wage.info()"
   ]
  },
  {
   "cell_type": "code",
   "execution_count": 0,
   "metadata": {
    "application/vnd.databricks.v1+cell": {
     "cellMetadata": {
      "byteLimit": 2048000,
      "rowLimit": 10000
     },
     "inputWidgets": {},
     "nuid": "16238557-4fee-4d1f-8a4a-1c837f15d0f1",
     "showTitle": false,
     "title": ""
    }
   },
   "outputs": [],
   "source": [
    "agegrid = np.arange(Wage['age'].min(), Wage['age'].max()).reshape(-1,1)"
   ]
  },
  {
   "cell_type": "markdown",
   "metadata": {
    "application/vnd.databricks.v1+cell": {
     "cellMetadata": {
      "byteLimit": 2048000,
      "rowLimit": 10000
     },
     "inputWidgets": {},
     "nuid": "d466723e-0fe1-4522-bb98-9fa14f89e03f",
     "showTitle": false,
     "title": ""
    }
   },
   "source": [
    "### Splines"
   ]
  },
  {
   "cell_type": "code",
   "execution_count": 0,
   "metadata": {
    "application/vnd.databricks.v1+cell": {
     "cellMetadata": {
      "byteLimit": 2048000,
      "rowLimit": 10000
     },
     "inputWidgets": {},
     "nuid": "87cc1dda-4c90-4340-adf5-da89efdbccbe",
     "showTitle": false,
     "title": ""
    }
   },
   "outputs": [],
   "source": [
    "from patsy import dmatrix"
   ]
  },
  {
   "cell_type": "markdown",
   "metadata": {
    "application/vnd.databricks.v1+cell": {
     "cellMetadata": {
      "byteLimit": 2048000,
      "rowLimit": 10000
     },
     "inputWidgets": {},
     "nuid": "aa6b17ec-fb5b-44d0-82e1-363b82b5a481",
     "showTitle": false,
     "title": ""
    }
   },
   "source": [
    "**Specifying the knots in a cubic spline**"
   ]
  },
  {
   "cell_type": "code",
   "execution_count": 0,
   "metadata": {
    "application/vnd.databricks.v1+cell": {
     "cellMetadata": {
      "byteLimit": 2048000,
      "rowLimit": 10000
     },
     "inputWidgets": {},
     "nuid": "20a2c548-7bc2-414e-8a2a-be1cb53cd0ef",
     "showTitle": false,
     "title": ""
    }
   },
   "outputs": [],
   "source": [
    "X1 = dmatrix(\"bs(AGE, knots=(25, 40, 60), degree=3, include_intercept=False)\", {\"AGE\": Wage['age']}, return_type='dataframe')\n",
    "y1 = Wage['wage']\n",
    "df1 = pd.concat([y1, X1], axis=1)"
   ]
  },
  {
   "cell_type": "code",
   "execution_count": 0,
   "metadata": {
    "application/vnd.databricks.v1+cell": {
     "cellMetadata": {
      "byteLimit": 2048000,
      "rowLimit": 10000
     },
     "inputWidgets": {},
     "nuid": "a3b6e456-5d2c-44d7-9048-64250d8e53d4",
     "showTitle": false,
     "title": ""
    }
   },
   "outputs": [],
   "source": [
    "lmfit1 = ols('y1~X1', data=df1).fit()\n",
    "lmfit1.summary()"
   ]
  },
  {
   "cell_type": "markdown",
   "metadata": {
    "application/vnd.databricks.v1+cell": {
     "cellMetadata": {
      "byteLimit": 2048000,
      "rowLimit": 10000
     },
     "inputWidgets": {},
     "nuid": "873f45c0-fc96-4bb7-8372-76496b12b751",
     "showTitle": false,
     "title": ""
    }
   },
   "source": [
    "**Degrees of freedom($df$) = 6**"
   ]
  },
  {
   "cell_type": "code",
   "execution_count": 0,
   "metadata": {
    "application/vnd.databricks.v1+cell": {
     "cellMetadata": {
      "byteLimit": 2048000,
      "rowLimit": 10000
     },
     "inputWidgets": {},
     "nuid": "87f05bd9-5ac6-49f2-9599-88ee63e268fc",
     "showTitle": false,
     "title": ""
    }
   },
   "outputs": [],
   "source": [
    "X2 = dmatrix(\"bs(AGE, df=6, include_intercept=False)\", {\"AGE\": Wage['age']}, return_type='dataframe')\n",
    "y2 = Wage['wage']\n",
    "df2 = pd.concat([y2, X2], axis=1)"
   ]
  },
  {
   "cell_type": "code",
   "execution_count": 0,
   "metadata": {
    "application/vnd.databricks.v1+cell": {
     "cellMetadata": {
      "byteLimit": 2048000,
      "rowLimit": 10000
     },
     "inputWidgets": {},
     "nuid": "bab11225-66c7-4033-9dd0-b94e84650574",
     "showTitle": false,
     "title": ""
    }
   },
   "outputs": [],
   "source": [
    "lmfit2 = ols('y2~X2', data=df2).fit()\n",
    "lmfit2.summary()"
   ]
  },
  {
   "cell_type": "markdown",
   "metadata": {
    "application/vnd.databricks.v1+cell": {
     "cellMetadata": {
      "byteLimit": 2048000,
      "rowLimit": 10000
     },
     "inputWidgets": {},
     "nuid": "5ecefeb2-732d-4fde-bef7-6c6bfc54facd",
     "showTitle": false,
     "title": ""
    }
   },
   "source": [
    "**Natural spline, $df$=4**"
   ]
  },
  {
   "cell_type": "code",
   "execution_count": 0,
   "metadata": {
    "application/vnd.databricks.v1+cell": {
     "cellMetadata": {
      "byteLimit": 2048000,
      "rowLimit": 10000
     },
     "inputWidgets": {},
     "nuid": "bf54281c-2e13-4360-ab71-a154351eeb5e",
     "showTitle": false,
     "title": ""
    }
   },
   "outputs": [],
   "source": [
    "X3 = dmatrix(\"cr(AGE, df=4)\", {\"AGE\": Wage['age']}, return_type='dataframe')\n",
    "y3 = Wage['wage']\n",
    "df3 = pd.concat([y3, X3], axis=1)"
   ]
  },
  {
   "cell_type": "code",
   "execution_count": 0,
   "metadata": {
    "application/vnd.databricks.v1+cell": {
     "cellMetadata": {
      "byteLimit": 2048000,
      "rowLimit": 10000
     },
     "inputWidgets": {},
     "nuid": "276e86fc-6cab-4542-9ca1-2d2c740bfd9c",
     "showTitle": false,
     "title": ""
    }
   },
   "outputs": [],
   "source": [
    "lmfit3 = ols('y3~X3', data=df3).fit()\n",
    "lmfit3.summary()"
   ]
  },
  {
   "cell_type": "markdown",
   "metadata": {
    "application/vnd.databricks.v1+cell": {
     "cellMetadata": {
      "byteLimit": 2048000,
      "rowLimit": 10000
     },
     "inputWidgets": {},
     "nuid": "62f1326c-4274-45d9-8676-c8892a3e755c",
     "showTitle": false,
     "title": ""
    }
   },
   "source": [
    "**Comparing relative strengths of predictions of each of the aforementioned methods**"
   ]
  },
  {
   "cell_type": "code",
   "execution_count": 0,
   "metadata": {
    "application/vnd.databricks.v1+cell": {
     "cellMetadata": {
      "byteLimit": 2048000,
      "rowLimit": 10000
     },
     "inputWidgets": {},
     "nuid": "63fb0306-855b-4668-8542-3a7881781d73",
     "showTitle": false,
     "title": ""
    }
   },
   "outputs": [],
   "source": [
    "from sklearn.linear_model import LinearRegression\n",
    "lmfit1_skl = LinearRegression().fit(X1, y1)\n",
    "lmfit2_skl = LinearRegression().fit(X2, y2)\n",
    "lmfit3_skl = LinearRegression().fit(X3, y3)"
   ]
  },
  {
   "cell_type": "code",
   "execution_count": 0,
   "metadata": {
    "application/vnd.databricks.v1+cell": {
     "cellMetadata": {
      "byteLimit": 2048000,
      "rowLimit": 10000
     },
     "inputWidgets": {},
     "nuid": "a8fb5ae6-cfa0-4587-b14e-66704b5cce87",
     "showTitle": false,
     "title": ""
    }
   },
   "outputs": [],
   "source": [
    "Xpred1 = dmatrix(\"bs(agegrid, knots=(25,40,60), include_intercept=False)\", {\"agegrid\": agegrid}, return_type='dataframe')\n",
    "Xpred2 = dmatrix(\"bs(agegrid, df=6, include_intercept=False)\", {\"age_grid\": agegrid}, return_type='dataframe')\n",
    "Xpred3 = dmatrix(\"cr(agegrid, df=4)\", {\"agegrid\": agegrid}, return_type='dataframe')"
   ]
  },
  {
   "cell_type": "code",
   "execution_count": 0,
   "metadata": {
    "application/vnd.databricks.v1+cell": {
     "cellMetadata": {
      "byteLimit": 2048000,
      "rowLimit": 10000
     },
     "inputWidgets": {},
     "nuid": "adbc18fc-cb20-4fac-a8f3-f9f9e0f990ca",
     "showTitle": false,
     "title": ""
    }
   },
   "outputs": [],
   "source": [
    "lmpred1 = lmfit1_skl.predict(Xpred1)\n",
    "lmpred2 = lmfit2_skl.predict(Xpred2)\n",
    "lmpred3 = lmfit3_skl.predict(Xpred3)"
   ]
  },
  {
   "cell_type": "code",
   "execution_count": 0,
   "metadata": {
    "application/vnd.databricks.v1+cell": {
     "cellMetadata": {
      "byteLimit": 2048000,
      "rowLimit": 10000
     },
     "inputWidgets": {},
     "nuid": "c9de72e0-0fda-4897-822e-cd0234526a7e",
     "showTitle": false,
     "title": ""
    }
   },
   "outputs": [],
   "source": [
    "# plotting all predictions\n",
    "plt.xkcd()\n",
    "plt.figure(figsize=(25, 10))\n",
    "plt.scatter(Wage['age'], Wage['wage'], facecolor='y', alpha=0.5)\n",
    "plt.plot(agegrid, lmpred1, color='r', label='Specifying the knots in a cubic spline')\n",
    "plt.plot(agegrid, lmpred2, color='g', label='Degrees of freedom(df)=6')\n",
    "plt.plot(agegrid, lmpred3, color='b', label='Natural spline, df=4')\n",
    "[plt.vlines(i , 0, 350, linestyles='dashed', lw=2, colors='k') for i in [25,40,60]]\n",
    "plt.legend()\n",
    "plt.xlabel('age', fontsize=20, color='c')\n",
    "plt.ylabel('spline predictions', fontsize=20, color='c')\n",
    "plt.title('spline predictions vs age', fontsize=30, color='m')"
   ]
  },
  {
   "cell_type": "markdown",
   "metadata": {
    "application/vnd.databricks.v1+cell": {
     "cellMetadata": {
      "byteLimit": 2048000,
      "rowLimit": 10000
     },
     "inputWidgets": {},
     "nuid": "5f5f8862-6dc6-41da-950c-4a2f79a2ffbc",
     "showTitle": false,
     "title": ""
    }
   },
   "source": [
    "### Local regression"
   ]
  },
  {
   "cell_type": "code",
   "execution_count": 0,
   "metadata": {
    "application/vnd.databricks.v1+cell": {
     "cellMetadata": {
      "byteLimit": 2048000,
      "rowLimit": 10000
     },
     "inputWidgets": {},
     "nuid": "752341be-e8e5-48f9-ae23-446f77855cd9",
     "showTitle": false,
     "title": ""
    }
   },
   "outputs": [],
   "source": [
    "import loess\n",
    "from statsmodels.nonparametric.smoothers_lowess import lowess"
   ]
  },
  {
   "cell_type": "code",
   "execution_count": 0,
   "metadata": {
    "application/vnd.databricks.v1+cell": {
     "cellMetadata": {
      "byteLimit": 2048000,
      "rowLimit": 10000
     },
     "inputWidgets": {},
     "nuid": "6022e985-4b7a-44a0-8a27-4c11c6eefa4d",
     "showTitle": false,
     "title": ""
    }
   },
   "outputs": [],
   "source": [
    "lX = Wage.age\n",
    "ly = Wage.wage"
   ]
  },
  {
   "cell_type": "code",
   "execution_count": 0,
   "metadata": {
    "application/vnd.databricks.v1+cell": {
     "cellMetadata": {
      "byteLimit": 2048000,
      "rowLimit": 10000
     },
     "inputWidgets": {},
     "nuid": "249b4548-cdf3-440a-bde1-04ee9b125a8d",
     "showTitle": false,
     "title": ""
    }
   },
   "outputs": [],
   "source": [
    "lsfit02 = lowess(ly, lX, frac=0.2, return_sorted=True)\n",
    "lsfit02"
   ]
  },
  {
   "cell_type": "code",
   "execution_count": 0,
   "metadata": {
    "application/vnd.databricks.v1+cell": {
     "cellMetadata": {
      "byteLimit": 2048000,
      "rowLimit": 10000
     },
     "inputWidgets": {},
     "nuid": "5e1d611d-eef9-48f4-9032-49a5a98ce801",
     "showTitle": false,
     "title": ""
    }
   },
   "outputs": [],
   "source": [
    "plt.xkcd()\n",
    "plt.figure(figsize=(25, 10))\n",
    "plt.scatter(Wage.age, Wage.wage, facecolor='lightgrey')\n",
    "plt.plot(lsfit02[:3000,0], lsfit02[:3000,1], color='g')\n",
    "plt.title('wage as a function of age using local regression (span=0.2)', fontsize=30, color='m')\n",
    "plt.xlabel('age', fontsize=20, color='c')\n",
    "plt.ylabel('wage', fontsize=20, color='c')"
   ]
  },
  {
   "cell_type": "code",
   "execution_count": 0,
   "metadata": {
    "application/vnd.databricks.v1+cell": {
     "cellMetadata": {
      "byteLimit": 2048000,
      "rowLimit": 10000
     },
     "inputWidgets": {},
     "nuid": "5bcc43d1-b1c0-4fcd-abbb-112570911183",
     "showTitle": false,
     "title": ""
    }
   },
   "outputs": [],
   "source": [
    "lsfit05 = lowess(ly, lX, frac=0.5)\n",
    "lsfit05"
   ]
  },
  {
   "cell_type": "code",
   "execution_count": 0,
   "metadata": {
    "application/vnd.databricks.v1+cell": {
     "cellMetadata": {
      "byteLimit": 2048000,
      "rowLimit": 10000
     },
     "inputWidgets": {},
     "nuid": "048f54bb-cdbd-4b94-be6b-164da06d817e",
     "showTitle": false,
     "title": ""
    }
   },
   "outputs": [],
   "source": [
    "plt.xkcd()\n",
    "plt.figure(figsize=(25, 10))\n",
    "plt.scatter(Wage.age, Wage.wage, facecolor='lightgrey')\n",
    "plt.plot(lsfit05[:3000,0], lsfit05[:3000,1], color='g')\n",
    "plt.title('wage as a function of age using local regression (span=0.5)', fontsize=30, color='m')\n",
    "plt.xlabel('age', fontsize=20, color='c')\n",
    "plt.ylabel('wage', fontsize=20, color='c')"
   ]
  },
  {
   "cell_type": "code",
   "execution_count": 0,
   "metadata": {
    "application/vnd.databricks.v1+cell": {
     "cellMetadata": {
      "byteLimit": 2048000,
      "rowLimit": 10000
     },
     "inputWidgets": {},
     "nuid": "efb87e52-a876-414b-8309-7114538e8af5",
     "showTitle": false,
     "title": ""
    }
   },
   "outputs": [],
   "source": [
    "lsfit09 = lowess(ly, lX, frac=0.9)\n",
    "lsfit09"
   ]
  },
  {
   "cell_type": "code",
   "execution_count": 0,
   "metadata": {
    "application/vnd.databricks.v1+cell": {
     "cellMetadata": {
      "byteLimit": 2048000,
      "rowLimit": 10000
     },
     "inputWidgets": {},
     "nuid": "0edc4e67-6af9-4716-be3b-ab19bc7b98b6",
     "showTitle": false,
     "title": ""
    }
   },
   "outputs": [],
   "source": [
    "plt.xkcd()\n",
    "plt.figure(figsize=(25, 10))\n",
    "plt.scatter(Wage.age, Wage.wage, facecolor='lightgrey')\n",
    "plt.plot(lsfit09[:3000,0], lsfit09[:3000,1], color='g')\n",
    "plt.title('wage as a function of age using local regression (span=0.9)', fontsize=30, color='m')\n",
    "plt.xlabel('age', fontsize=20, color='c')\n",
    "plt.ylabel('wage', fontsize=20, color='c')"
   ]
  },
  {
   "cell_type": "code",
   "execution_count": 0,
   "metadata": {
    "application/vnd.databricks.v1+cell": {
     "cellMetadata": {
      "byteLimit": 2048000,
      "rowLimit": 10000
     },
     "inputWidgets": {},
     "nuid": "78429785-22cf-44dd-9fab-8c47a11a536d",
     "showTitle": false,
     "title": ""
    }
   },
   "outputs": [],
   "source": [
    "lsfit01 = lowess(ly, lX, frac=0.1)\n",
    "lsfit01"
   ]
  },
  {
   "cell_type": "code",
   "execution_count": 0,
   "metadata": {
    "application/vnd.databricks.v1+cell": {
     "cellMetadata": {
      "byteLimit": 2048000,
      "rowLimit": 10000
     },
     "inputWidgets": {},
     "nuid": "d54dcb55-a536-4ef8-ac80-706f1fb2da2f",
     "showTitle": false,
     "title": ""
    }
   },
   "outputs": [],
   "source": [
    "plt.xkcd()\n",
    "plt.figure(figsize=(25, 10))\n",
    "plt.scatter(Wage.age, Wage.wage, facecolor='lightgrey')\n",
    "plt.plot(lsfit01[:3000,0], lsfit01[:3000,1], color='g')\n",
    "plt.title('wage as a function of age using local regression (span=0.1)', fontsize=30, color='m')\n",
    "plt.xlabel('age', fontsize=20, color='c')\n",
    "plt.ylabel('wage', fontsize=20, color='c')"
   ]
  },
  {
   "cell_type": "markdown",
   "metadata": {
    "application/vnd.databricks.v1+cell": {
     "cellMetadata": {
      "byteLimit": 2048000,
      "rowLimit": 10000
     },
     "inputWidgets": {},
     "nuid": "a938a2df-f2d5-4f4a-afca-1a8458531b1c",
     "showTitle": false,
     "title": ""
    }
   },
   "source": [
    "**As we can see, larger the span, smoother the fit.**"
   ]
  }
 ],
 "metadata": {
  "application/vnd.databricks.v1+notebook": {
   "dashboards": [],
   "language": "python",
   "notebookMetadata": {
    "pythonIndentUnit": 2
   },
   "notebookName": "7.8.2. Splines",
   "widgets": {}
  }
 },
 "nbformat": 4,
 "nbformat_minor": 0
}
