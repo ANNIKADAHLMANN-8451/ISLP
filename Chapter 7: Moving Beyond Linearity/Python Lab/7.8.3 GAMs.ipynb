{
 "cells": [
  {
   "cell_type": "code",
   "execution_count": 0,
   "metadata": {
    "application/vnd.databricks.v1+cell": {
     "cellMetadata": {
      "byteLimit": 2048000,
      "rowLimit": 10000
     },
     "inputWidgets": {},
     "nuid": "90753ca1-72db-4ffd-a2cf-f0909b6b80ba",
     "showTitle": false,
     "title": ""
    }
   },
   "outputs": [],
   "source": [
    "%pip install statsmodels==0.13.2 pygam"
   ]
  },
  {
   "cell_type": "markdown",
   "metadata": {
    "application/vnd.databricks.v1+cell": {
     "cellMetadata": {
      "byteLimit": 2048000,
      "rowLimit": 10000
     },
     "inputWidgets": {},
     "nuid": "6cc8bc2b-7a7d-478d-88a8-761b8f373839",
     "showTitle": false,
     "title": ""
    }
   },
   "source": [
    "### Preprocessing"
   ]
  },
  {
   "cell_type": "code",
   "execution_count": 0,
   "metadata": {
    "application/vnd.databricks.v1+cell": {
     "cellMetadata": {
      "byteLimit": 2048000,
      "rowLimit": 10000
     },
     "inputWidgets": {},
     "nuid": "439d77c7-d0fe-4ec8-9b53-3ddcde800d77",
     "showTitle": false,
     "title": ""
    }
   },
   "outputs": [],
   "source": [
    "# import packages\n",
    "import numpy as np\n",
    "import pandas as pd\n",
    "import statsmodels.api as sm\n",
    "from statsmodels.formula.api import ols, logit\n",
    "from scipy import stats\n",
    "import matplotlib.pyplot as plt\n",
    "pd.options.display.float_format = '{:,}'.format\n",
    "import seaborn as sns\n",
    "%matplotlib inline"
   ]
  },
  {
   "cell_type": "code",
   "execution_count": 0,
   "metadata": {
    "application/vnd.databricks.v1+cell": {
     "cellMetadata": {
      "byteLimit": 2048000,
      "rowLimit": 10000
     },
     "inputWidgets": {},
     "nuid": "96005fe3-0591-4b06-90e6-b7023b61f928",
     "showTitle": false,
     "title": ""
    }
   },
   "outputs": [],
   "source": [
    "# import and preprocess data\n",
    "url = \"abfss://training@sa8451learningdev.dfs.core.windows.net/interpretable_machine_learning/eml_data/Wage.csv\"\n",
    "Wage = spark.read.option(\"header\", \"true\").csv(url).toPandas()\n",
    "Wage.set_index('SlNo', inplace=True)\n",
    "\n",
    "int_cols = [\"year\", \"age\"]\n",
    "float_cols = [\"logwage\", \"wage\"]\n",
    "str_cols = [\"maritl\", \"race\", \"education\", \"region\", \"jobclass\", \"health\", \"health_ins\"]\n",
    "Wage[int_cols] = Wage[int_cols].astype(int)\n",
    "Wage[float_cols] = Wage[float_cols].astype(float)\n",
    "Wage[str_cols] = Wage[str_cols].astype(str)"
   ]
  },
  {
   "cell_type": "code",
   "execution_count": 0,
   "metadata": {
    "application/vnd.databricks.v1+cell": {
     "cellMetadata": {
      "byteLimit": 2048000,
      "rowLimit": 10000
     },
     "inputWidgets": {},
     "nuid": "71a8e346-2d25-4138-b9a4-220281116678",
     "showTitle": false,
     "title": ""
    }
   },
   "outputs": [],
   "source": [
    "Wage.head()"
   ]
  },
  {
   "cell_type": "code",
   "execution_count": 0,
   "metadata": {
    "application/vnd.databricks.v1+cell": {
     "cellMetadata": {
      "byteLimit": 2048000,
      "rowLimit": 10000
     },
     "inputWidgets": {},
     "nuid": "85b771a3-45f2-42fb-889e-3a78e02e4b19",
     "showTitle": false,
     "title": ""
    }
   },
   "outputs": [],
   "source": [
    "Wage.describe().round(2)"
   ]
  },
  {
   "cell_type": "code",
   "execution_count": 0,
   "metadata": {
    "application/vnd.databricks.v1+cell": {
     "cellMetadata": {
      "byteLimit": 2048000,
      "rowLimit": 10000
     },
     "inputWidgets": {},
     "nuid": "92a128f6-45fe-4a25-b560-e1add0c1655e",
     "showTitle": false,
     "title": ""
    }
   },
   "outputs": [],
   "source": [
    "Wage.info()"
   ]
  },
  {
   "cell_type": "markdown",
   "metadata": {
    "application/vnd.databricks.v1+cell": {
     "cellMetadata": {
      "byteLimit": 2048000,
      "rowLimit": 10000
     },
     "inputWidgets": {},
     "nuid": "66a6ac8e-e4ad-4291-a55f-62831e97f847",
     "showTitle": false,
     "title": ""
    }
   },
   "source": [
    "### GAMs"
   ]
  },
  {
   "cell_type": "code",
   "execution_count": 0,
   "metadata": {
    "application/vnd.databricks.v1+cell": {
     "cellMetadata": {
      "byteLimit": 2048000,
      "rowLimit": 10000
     },
     "inputWidgets": {},
     "nuid": "fdcdffe9-4aad-48dd-aa80-f00d7598fbdb",
     "showTitle": false,
     "title": ""
    }
   },
   "outputs": [],
   "source": [
    "from pygam import LinearGAM, LogisticGAM, s, f\n",
    "from patsy import dmatrix"
   ]
  },
  {
   "cell_type": "code",
   "execution_count": 0,
   "metadata": {
    "application/vnd.databricks.v1+cell": {
     "cellMetadata": {
      "byteLimit": 2048000,
      "rowLimit": 10000
     },
     "inputWidgets": {},
     "nuid": "82994dcf-4ef0-46b1-ba41-d7c202af6e75",
     "showTitle": false,
     "title": ""
    }
   },
   "outputs": [],
   "source": [
    "X = pd.concat([Wage['year'], Wage['age'], Wage['education'].astype('category').cat.codes], axis=1)\n",
    "X.rename(columns={0: 'education'}, inplace=True)\n",
    "y = Wage['wage']"
   ]
  },
  {
   "cell_type": "code",
   "execution_count": 0,
   "metadata": {
    "application/vnd.databricks.v1+cell": {
     "cellMetadata": {
      "byteLimit": 2048000,
      "rowLimit": 10000
     },
     "inputWidgets": {},
     "nuid": "4c8961e1-8045-44a6-8624-e481369f27c4",
     "showTitle": false,
     "title": ""
    }
   },
   "outputs": [],
   "source": [
    "X.head()"
   ]
  },
  {
   "cell_type": "code",
   "execution_count": 0,
   "metadata": {
    "application/vnd.databricks.v1+cell": {
     "cellMetadata": {
      "byteLimit": 2048000,
      "rowLimit": 10000
     },
     "inputWidgets": {},
     "nuid": "7ddb551c-d828-40c3-b286-a4c3cac24c74",
     "showTitle": false,
     "title": ""
    }
   },
   "outputs": [],
   "source": [
    "X_age = dmatrix(\"cr(AGE, df=5)\", {\"AGE\": Wage['age']}, return_type='dataframe')\n",
    "X_year = dmatrix(\"cr(YEAR, df=4)\", {\"YEAR\": Wage['year']}, return_type='dataframe')\n",
    "X_education = Wage['education']\n",
    "y = Wage.wage\n",
    "df = pd.concat([y, X_year, X_age, X_education], axis=1)\n",
    "df.head()"
   ]
  },
  {
   "cell_type": "code",
   "execution_count": 0,
   "metadata": {
    "application/vnd.databricks.v1+cell": {
     "cellMetadata": {
      "byteLimit": 2048000,
      "rowLimit": 10000
     },
     "inputWidgets": {},
     "nuid": "ed15f6a1-5b80-47fe-86b8-62c8f5aec055",
     "showTitle": false,
     "title": ""
    }
   },
   "outputs": [],
   "source": [
    "gam1 = ols('y~X_year+X_age+X_education', data=df).fit()\n",
    "gam1.summary()"
   ]
  },
  {
   "cell_type": "code",
   "execution_count": 0,
   "metadata": {
    "application/vnd.databricks.v1+cell": {
     "cellMetadata": {
      "byteLimit": 2048000,
      "rowLimit": 10000
     },
     "inputWidgets": {},
     "nuid": "a285c729-41f6-4d21-a656-2a910472ab42",
     "showTitle": false,
     "title": ""
    }
   },
   "outputs": [],
   "source": [
    "X_age_1 = dmatrix(\"cr(AGE, df=5)\", {\"AGE\": Wage['age']}, return_type='dataframe')\n",
    "X_year_1 = dmatrix(\"cr(YEAR, df=4)\", {\"YEAR\": Wage['year']}, return_type='dataframe')\n",
    "X_education_1 = Wage['education']\n",
    "y_1 = Wage.wage\n",
    "df_1 = pd.concat([y_1, X_year_1, X_age_1, X_education_1], axis=1)\n",
    "df_1.head()"
   ]
  },
  {
   "cell_type": "code",
   "execution_count": 0,
   "metadata": {
    "application/vnd.databricks.v1+cell": {
     "cellMetadata": {
      "byteLimit": 2048000,
      "rowLimit": 10000
     },
     "inputWidgets": {},
     "nuid": "b811dc1d-2daa-45e0-8780-429e85d3be70",
     "showTitle": false,
     "title": ""
    }
   },
   "outputs": [],
   "source": [
    "gam_1 = ols('y~X_year', data=df).fit()\n",
    "gam_2 = ols('y~X_year+X_age', data=df).fit()\n",
    "gam_3 = ols('y~X_year+X_age+X_education', data=df).fit() "
   ]
  },
  {
   "cell_type": "code",
   "execution_count": 0,
   "metadata": {
    "application/vnd.databricks.v1+cell": {
     "cellMetadata": {
      "byteLimit": 2048000,
      "rowLimit": 10000
     },
     "inputWidgets": {},
     "nuid": "0149a74d-5021-48da-90a7-37013613f0eb",
     "showTitle": false,
     "title": ""
    }
   },
   "outputs": [],
   "source": [
    "anova_table = sm.stats.anova_lm(gam_1, gam_2, gam_3, typ=1)\n",
    "anova_table.index = anova_table.index+1\n",
    "anova_table.round(6)"
   ]
  },
  {
   "cell_type": "code",
   "execution_count": 0,
   "metadata": {
    "application/vnd.databricks.v1+cell": {
     "cellMetadata": {
      "byteLimit": 2048000,
      "rowLimit": 10000
     },
     "inputWidgets": {},
     "nuid": "c01b2b1d-264e-4840-9001-0cb624d05358",
     "showTitle": false,
     "title": ""
    }
   },
   "outputs": [],
   "source": [
    "gam_3.summary()"
   ]
  },
  {
   "cell_type": "markdown",
   "metadata": {
    "application/vnd.databricks.v1+cell": {
     "cellMetadata": {
      "byteLimit": 2048000,
      "rowLimit": 10000
     },
     "inputWidgets": {},
     "nuid": "a62743c2-6602-4932-83a6-9a553da86535",
     "showTitle": false,
     "title": ""
    }
   },
   "source": [
    "**Logistic regression GAM**"
   ]
  },
  {
   "cell_type": "code",
   "execution_count": 0,
   "metadata": {
    "application/vnd.databricks.v1+cell": {
     "cellMetadata": {
      "byteLimit": 2048000,
      "rowLimit": 10000
     },
     "inputWidgets": {},
     "nuid": "3141b21b-352d-4bc7-8ee0-928bcfec25cd",
     "showTitle": false,
     "title": ""
    }
   },
   "outputs": [],
   "source": [
    "X_age = dmatrix(\"cr(AGE, df=5)\", {\"AGE\": Wage['age']}, return_type='dataframe')\n",
    "X_year = Wage['year']\n",
    "X_education = Wage['education'].astype('category').cat.codes\n",
    "y_wage = np.where(Wage['wage']>=250, 1, 0)\n",
    "dflog = np.array(pd.concat([X_age, X_year, X_education], axis=1))"
   ]
  },
  {
   "cell_type": "code",
   "execution_count": 0,
   "metadata": {
    "application/vnd.databricks.v1+cell": {
     "cellMetadata": {
      "byteLimit": 2048000,
      "rowLimit": 10000
     },
     "inputWidgets": {},
     "nuid": "dd5a0921-86b8-46cf-bb8e-d4ffe926b0b5",
     "showTitle": false,
     "title": ""
    }
   },
   "outputs": [],
   "source": [
    "glmlog = sm.GLM(y_wage, dflog, family=sm.families.Binomial()).fit()\n",
    "glmlog.summary()"
   ]
  },
  {
   "cell_type": "code",
   "execution_count": 0,
   "metadata": {
    "application/vnd.databricks.v1+cell": {
     "cellMetadata": {
      "byteLimit": 2048000,
      "rowLimit": 10000
     },
     "inputWidgets": {},
     "nuid": "3b8009bd-1bda-4223-ba5e-ac252ffab6bc",
     "showTitle": false,
     "title": ""
    }
   },
   "outputs": [],
   "source": []
  }
 ],
 "metadata": {
  "application/vnd.databricks.v1+notebook": {
   "dashboards": [],
   "language": "python",
   "notebookMetadata": {
    "pythonIndentUnit": 2
   },
   "notebookName": "7.8.3 GAMs",
   "widgets": {}
  }
 },
 "nbformat": 4,
 "nbformat_minor": 0
}
