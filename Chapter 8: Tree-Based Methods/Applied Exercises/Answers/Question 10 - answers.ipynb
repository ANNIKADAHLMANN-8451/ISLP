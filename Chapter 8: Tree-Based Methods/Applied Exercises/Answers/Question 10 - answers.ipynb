{
 "cells": [
  {
   "cell_type": "markdown",
   "metadata": {
    "application/vnd.databricks.v1+cell": {
     "cellMetadata": {
      "byteLimit": 2048000,
      "rowLimit": 10000
     },
     "inputWidgets": {},
     "nuid": "20ede2be-6657-44b1-8a80-a1a74ebca86e",
     "showTitle": false,
     "title": ""
    }
   },
   "source": [
    "We now use boosting to predict `Salary` in the `Hitters` data set."
   ]
  },
  {
   "cell_type": "code",
   "execution_count": 0,
   "metadata": {
    "application/vnd.databricks.v1+cell": {
     "cellMetadata": {
      "byteLimit": 2048000,
      "rowLimit": 10000
     },
     "inputWidgets": {},
     "nuid": "231131f0-8533-44cd-8477-0c41754e225d",
     "showTitle": false,
     "title": ""
    }
   },
   "outputs": [],
   "source": [
    "%pip install --quiet mlxtend"
   ]
  },
  {
   "cell_type": "markdown",
   "metadata": {
    "application/vnd.databricks.v1+cell": {
     "cellMetadata": {
      "byteLimit": 2048000,
      "rowLimit": 10000
     },
     "inputWidgets": {},
     "nuid": "2ee95fd8-75d8-4129-9b10-594f8bdcc4f3",
     "showTitle": false,
     "title": ""
    }
   },
   "source": [
    "### Preprocessing"
   ]
  },
  {
   "cell_type": "code",
   "execution_count": 0,
   "metadata": {
    "application/vnd.databricks.v1+cell": {
     "cellMetadata": {
      "byteLimit": 2048000,
      "rowLimit": 10000
     },
     "inputWidgets": {},
     "nuid": "3ae423d1-1902-4885-8df4-4ebbb0f431ad",
     "showTitle": false,
     "title": ""
    }
   },
   "outputs": [],
   "source": [
    "# import relevant statistical packages\n",
    "import numpy as np\n",
    "import pandas as pd"
   ]
  },
  {
   "cell_type": "code",
   "execution_count": 0,
   "metadata": {
    "application/vnd.databricks.v1+cell": {
     "cellMetadata": {
      "byteLimit": 2048000,
      "rowLimit": 10000
     },
     "inputWidgets": {},
     "nuid": "f2f89fe4-3da5-4214-9434-16905dddfd31",
     "showTitle": false,
     "title": ""
    }
   },
   "outputs": [],
   "source": [
    "# import relevant data visualisation packages\n",
    "import matplotlib.pyplot as plt\n",
    "import seaborn as sns\n",
    "%matplotlib inline"
   ]
  },
  {
   "cell_type": "code",
   "execution_count": 0,
   "metadata": {
    "application/vnd.databricks.v1+cell": {
     "cellMetadata": {
      "byteLimit": 2048000,
      "rowLimit": 10000
     },
     "inputWidgets": {},
     "nuid": "8d745c19-bfcc-4008-854b-c70e4cada4a3",
     "showTitle": false,
     "title": ""
    }
   },
   "outputs": [],
   "source": [
    "# import custom packages\n",
    "from sklearn.metrics import mean_squared_error\n",
    "from sklearn.linear_model import LinearRegression\n",
    "from sklearn.metrics import r2_score as r2, mean_squared_error\n",
    "from mlxtend.feature_selection import ExhaustiveFeatureSelector as EFS\n",
    "from mlxtend.plotting import plot_linear_regression as PLS\n",
    "from sklearn.preprocessing import scale\n",
    "from sklearn.model_selection import train_test_split, cross_val_score\n",
    "from sklearn.tree import DecisionTreeRegressor, plot_tree\n",
    "from sklearn.ensemble import RandomForestRegressor, GradientBoostingRegressor"
   ]
  },
  {
   "cell_type": "code",
   "execution_count": 0,
   "metadata": {
    "application/vnd.databricks.v1+cell": {
     "cellMetadata": {
      "byteLimit": 2048000,
      "rowLimit": 10000
     },
     "inputWidgets": {},
     "nuid": "49664120-adcc-4ad0-ab7a-921741a5fcdb",
     "showTitle": false,
     "title": ""
    }
   },
   "outputs": [],
   "source": [
    "# import and preprocess data\n",
    "url = \"abfss://training@sa8451learningdev.dfs.core.windows.net/interpretable_machine_learning/eml_data/Hitters.csv\"\n",
    "Hitters = spark.read.option(\"header\", \"true\").csv(url).toPandas()\n",
    "\n",
    "str_cols = [\"Names\", \"NewLeague\", \"League\", \"Division\"]\n",
    "num_cols = list(set(Hitters.columns) - set(str_cols))\n",
    "Hitters[\"Salary\"] = np.where(Hitters[\"Salary\"] == \"NA\", np.nan, Hitters[\"Salary\"])\n",
    "Hitters[str_cols] = Hitters[str_cols].astype(str)\n",
    "Hitters[num_cols] = Hitters[num_cols].astype(float)"
   ]
  },
  {
   "cell_type": "code",
   "execution_count": 0,
   "metadata": {
    "application/vnd.databricks.v1+cell": {
     "cellMetadata": {
      "byteLimit": 2048000,
      "rowLimit": 10000
     },
     "inputWidgets": {},
     "nuid": "eae66d78-577f-4fd9-8d8c-24dbf2f83020",
     "showTitle": false,
     "title": ""
    }
   },
   "outputs": [],
   "source": [
    "Hitters.head()"
   ]
  },
  {
   "cell_type": "markdown",
   "metadata": {
    "application/vnd.databricks.v1+cell": {
     "cellMetadata": {
      "byteLimit": 2048000,
      "rowLimit": 10000
     },
     "inputWidgets": {},
     "nuid": "5b29b4d0-6e98-4afc-8b3c-d5630446f62b",
     "showTitle": false,
     "title": ""
    }
   },
   "source": [
    "**a. Remove the observations for whom the salary information is\n",
    "unknown, and then log-transform the salaries.**"
   ]
  },
  {
   "cell_type": "code",
   "execution_count": 0,
   "metadata": {
    "application/vnd.databricks.v1+cell": {
     "cellMetadata": {
      "byteLimit": 2048000,
      "rowLimit": 10000
     },
     "inputWidgets": {},
     "nuid": "f219ef64-eabb-45db-b4b6-22815d3bd028",
     "showTitle": false,
     "title": ""
    }
   },
   "outputs": [],
   "source": [
    "plt.xkcd()\n",
    "plt.figure(figsize=(25, 10))\n",
    "sns.heatmap(Hitters.isna(), cmap='viridis', yticklabels=False, cbar=False)\n",
    "plt.title('heatmap to visualise missing data', fontsize=30, color='m')\n",
    "plt.xlabel('features', fontsize=20, color='c')"
   ]
  },
  {
   "cell_type": "code",
   "execution_count": 0,
   "metadata": {
    "application/vnd.databricks.v1+cell": {
     "cellMetadata": {
      "byteLimit": 2048000,
      "rowLimit": 10000
     },
     "inputWidgets": {},
     "nuid": "dcc06091-34a3-4d34-9443-16a3feb8de8d",
     "showTitle": false,
     "title": ""
    }
   },
   "outputs": [],
   "source": [
    "Hitters.dropna(axis=0, inplace=True)"
   ]
  },
  {
   "cell_type": "code",
   "execution_count": 0,
   "metadata": {
    "application/vnd.databricks.v1+cell": {
     "cellMetadata": {
      "byteLimit": 2048000,
      "rowLimit": 10000
     },
     "inputWidgets": {},
     "nuid": "d91b6d53-bf2f-4522-9c16-695d95bedb06",
     "showTitle": false,
     "title": ""
    }
   },
   "outputs": [],
   "source": [
    "Hitters.head()"
   ]
  },
  {
   "cell_type": "code",
   "execution_count": 0,
   "metadata": {
    "application/vnd.databricks.v1+cell": {
     "cellMetadata": {
      "byteLimit": 2048000,
      "rowLimit": 10000
     },
     "inputWidgets": {},
     "nuid": "617248a8-8918-4585-9539-d1e09e68847f",
     "showTitle": false,
     "title": ""
    }
   },
   "outputs": [],
   "source": [
    "plt.xkcd()\n",
    "plt.figure(figsize=(25, 10))\n",
    "sns.heatmap(Hitters.isna(), cmap='viridis', yticklabels=False, cbar=False)\n",
    "plt.title('heatmap to visualise missing data', fontsize=30, color='m')\n",
    "plt.xlabel('features', fontsize=20, color='c')"
   ]
  },
  {
   "cell_type": "markdown",
   "metadata": {
    "application/vnd.databricks.v1+cell": {
     "cellMetadata": {
      "byteLimit": 2048000,
      "rowLimit": 10000
     },
     "inputWidgets": {},
     "nuid": "2122cd75-9377-4352-834b-71a87560fed8",
     "showTitle": false,
     "title": ""
    }
   },
   "source": [
    "So, I have removed all observations where Salary information is unknown."
   ]
  },
  {
   "cell_type": "code",
   "execution_count": 0,
   "metadata": {
    "application/vnd.databricks.v1+cell": {
     "cellMetadata": {
      "byteLimit": 2048000,
      "rowLimit": 10000
     },
     "inputWidgets": {},
     "nuid": "910631ca-83ed-4e55-8e16-a3f36ec2e989",
     "showTitle": false,
     "title": ""
    }
   },
   "outputs": [],
   "source": [
    "Hitters.Salary = np.log(Hitters.Salary)"
   ]
  },
  {
   "cell_type": "code",
   "execution_count": 0,
   "metadata": {
    "application/vnd.databricks.v1+cell": {
     "cellMetadata": {
      "byteLimit": 2048000,
      "rowLimit": 10000
     },
     "inputWidgets": {},
     "nuid": "d5e1e7d0-43f2-4263-84c5-d605786d83fc",
     "showTitle": false,
     "title": ""
    }
   },
   "outputs": [],
   "source": [
    "Hitters.head()"
   ]
  },
  {
   "cell_type": "markdown",
   "metadata": {
    "application/vnd.databricks.v1+cell": {
     "cellMetadata": {
      "byteLimit": 2048000,
      "rowLimit": 10000
     },
     "inputWidgets": {},
     "nuid": "fadb54f6-451b-41a8-9152-c01953e2a6c8",
     "showTitle": false,
     "title": ""
    }
   },
   "source": [
    "Therefore, I have log-transformed the salaries."
   ]
  },
  {
   "cell_type": "code",
   "execution_count": 0,
   "metadata": {
    "application/vnd.databricks.v1+cell": {
     "cellMetadata": {
      "byteLimit": 2048000,
      "rowLimit": 10000
     },
     "inputWidgets": {},
     "nuid": "c80262b4-fcde-4e0b-b43c-593b5ad73c81",
     "showTitle": false,
     "title": ""
    }
   },
   "outputs": [],
   "source": [
    "Hitters.League.value_counts()"
   ]
  },
  {
   "cell_type": "code",
   "execution_count": 0,
   "metadata": {
    "application/vnd.databricks.v1+cell": {
     "cellMetadata": {
      "byteLimit": 2048000,
      "rowLimit": 10000
     },
     "inputWidgets": {},
     "nuid": "5c919b63-93f9-4087-91a2-99027d0e757d",
     "showTitle": false,
     "title": ""
    }
   },
   "outputs": [],
   "source": [
    "Hitters.Division.value_counts()"
   ]
  },
  {
   "cell_type": "code",
   "execution_count": 0,
   "metadata": {
    "application/vnd.databricks.v1+cell": {
     "cellMetadata": {
      "byteLimit": 2048000,
      "rowLimit": 10000
     },
     "inputWidgets": {},
     "nuid": "677a2764-2e37-4fd1-8656-44155ddcbf41",
     "showTitle": false,
     "title": ""
    }
   },
   "outputs": [],
   "source": [
    "Hitters.NewLeague.value_counts()"
   ]
  },
  {
   "cell_type": "code",
   "execution_count": 0,
   "metadata": {
    "application/vnd.databricks.v1+cell": {
     "cellMetadata": {
      "byteLimit": 2048000,
      "rowLimit": 10000
     },
     "inputWidgets": {},
     "nuid": "3cedc49d-6ac4-43b5-8ca0-2e6a5a782a01",
     "showTitle": false,
     "title": ""
    }
   },
   "outputs": [],
   "source": [
    "Hitters.League = Hitters.League.map({'N': 0, 'A': 1})\n",
    "Hitters.Division = Hitters.Division.map({'W': 0, 'E': 1})\n",
    "Hitters.NewLeague = Hitters.NewLeague.map({'N': 0, 'A': 1})"
   ]
  },
  {
   "cell_type": "code",
   "execution_count": 0,
   "metadata": {
    "application/vnd.databricks.v1+cell": {
     "cellMetadata": {
      "byteLimit": 2048000,
      "rowLimit": 10000
     },
     "inputWidgets": {},
     "nuid": "06272c3b-e42d-4c91-afc8-d291a51f21a6",
     "showTitle": false,
     "title": ""
    }
   },
   "outputs": [],
   "source": [
    "Hitters.head()"
   ]
  },
  {
   "cell_type": "markdown",
   "metadata": {
    "application/vnd.databricks.v1+cell": {
     "cellMetadata": {
      "byteLimit": 2048000,
      "rowLimit": 10000
     },
     "inputWidgets": {},
     "nuid": "a657b0b2-6a6e-4054-91c2-cebaf1f6bf47",
     "showTitle": false,
     "title": ""
    }
   },
   "source": [
    "**b. Create a training set consisting of the frst 200 observations, and\n",
    "a test set consisting of the remaining observations.**"
   ]
  },
  {
   "cell_type": "code",
   "execution_count": 0,
   "metadata": {
    "application/vnd.databricks.v1+cell": {
     "cellMetadata": {
      "byteLimit": 2048000,
      "rowLimit": 10000
     },
     "inputWidgets": {},
     "nuid": "c2cbcfeb-7120-431f-b22c-5c848116cd16",
     "showTitle": false,
     "title": ""
    }
   },
   "outputs": [],
   "source": [
    "X = Hitters.drop(columns=['Salary', 'Names'])\n",
    "y = Hitters.Salary\n",
    "\n",
    "X_train, X_test, y_train, y_test = train_test_split(X, y, test_size=0.23954372623, random_state=42)"
   ]
  },
  {
   "cell_type": "code",
   "execution_count": 0,
   "metadata": {
    "application/vnd.databricks.v1+cell": {
     "cellMetadata": {
      "byteLimit": 2048000,
      "rowLimit": 10000
     },
     "inputWidgets": {},
     "nuid": "e9d582be-7c85-4cc1-8f22-ecb554c1820d",
     "showTitle": false,
     "title": ""
    }
   },
   "outputs": [],
   "source": [
    "X_train.info()"
   ]
  },
  {
   "cell_type": "markdown",
   "metadata": {
    "application/vnd.databricks.v1+cell": {
     "cellMetadata": {
      "byteLimit": 2048000,
      "rowLimit": 10000
     },
     "inputWidgets": {},
     "nuid": "76b484ab-f5af-4831-8281-a65b943cfd12",
     "showTitle": false,
     "title": ""
    }
   },
   "source": [
    "**c. Perform boosting on the training set with 1,000 trees for a range\n",
    "of values of the shrinkage parameter λ. Produce a plot with\n",
    "diferent shrinkage values on the x-axis and the corresponding\n",
    "training set MSE on the y-axis.**"
   ]
  },
  {
   "cell_type": "code",
   "execution_count": 0,
   "metadata": {
    "application/vnd.databricks.v1+cell": {
     "cellMetadata": {
      "byteLimit": 2048000,
      "rowLimit": 10000
     },
     "inputWidgets": {},
     "nuid": "91bbf765-8f81-4b5f-9636-59dddab9ba3c",
     "showTitle": false,
     "title": ""
    }
   },
   "outputs": [],
   "source": [
    "SP = np.linspace(start=0.001, stop=0.9, num=100)\n",
    "MSE = pd.DataFrame()\n",
    "\n",
    "for k in SP:\n",
    "    boost = GradientBoostingRegressor(n_estimators=1000, max_depth=4, learning_rate=k).fit(X_train, y_train)\n",
    "    mse = mean_squared_error(y_test, boost.predict(X_test))\n",
    "    MSE = MSE.append([mse])\n",
    "\n",
    "MSE.columns = ['MSE']\n",
    "MSE.reset_index(drop=True, inplace=True)"
   ]
  },
  {
   "cell_type": "code",
   "execution_count": 0,
   "metadata": {
    "application/vnd.databricks.v1+cell": {
     "cellMetadata": {
      "byteLimit": 2048000,
      "rowLimit": 10000
     },
     "inputWidgets": {},
     "nuid": "8c883116-2510-4328-850f-a80d539d2890",
     "showTitle": false,
     "title": ""
    }
   },
   "outputs": [],
   "source": [
    "MSE.head()"
   ]
  },
  {
   "cell_type": "markdown",
   "metadata": {
    "application/vnd.databricks.v1+cell": {
     "cellMetadata": {
      "byteLimit": 2048000,
      "rowLimit": 10000
     },
     "inputWidgets": {},
     "nuid": "e56a81de-a67b-4d0c-83d9-d2dc8e6bb254",
     "showTitle": false,
     "title": ""
    }
   },
   "source": [
    "**d. Produce a plot with diferent shrinkage values on the x-axis and\n",
    "the corresponding test set MSE on the y-axis.**"
   ]
  },
  {
   "cell_type": "code",
   "execution_count": 0,
   "metadata": {
    "application/vnd.databricks.v1+cell": {
     "cellMetadata": {
      "byteLimit": 2048000,
      "rowLimit": 10000
     },
     "inputWidgets": {},
     "nuid": "088d52ab-c5da-4abf-8d85-d90c49b0e0a7",
     "showTitle": false,
     "title": ""
    }
   },
   "outputs": [],
   "source": [
    "plt.xkcd()\n",
    "plt.figure(figsize=(25, 10))\n",
    "plt.scatter(MSE, SP, alpha=1)\n",
    "sns.regplot(MSE, SP, x_ci='0.95', line_kws={'color': 'g', 'ls': '-.'})\n",
    "plt.title('MSE vs shrinkage values', fontsize=30, color='m')\n",
    "plt.xlabel('MSE', fontsize=20, color='c')\n",
    "plt.ylabel('shrinkage values', fontsize=20, color='c')"
   ]
  },
  {
   "cell_type": "markdown",
   "metadata": {
    "application/vnd.databricks.v1+cell": {
     "cellMetadata": {
      "byteLimit": 2048000,
      "rowLimit": 10000
     },
     "inputWidgets": {},
     "nuid": "a3f55755-5a16-4cc6-9960-a6406f312d73",
     "showTitle": false,
     "title": ""
    }
   },
   "source": [
    "**e. Compare the test MSE of boosting to the test MSE that results\n",
    "from applying two of the regression approaches seen in\n",
    "Chapters 3 and 6.**"
   ]
  },
  {
   "cell_type": "code",
   "execution_count": 0,
   "metadata": {
    "application/vnd.databricks.v1+cell": {
     "cellMetadata": {
      "byteLimit": 2048000,
      "rowLimit": 10000
     },
     "inputWidgets": {},
     "nuid": "400b2b8b-b59f-44b0-b1e6-db9f973be05e",
     "showTitle": false,
     "title": ""
    }
   },
   "outputs": [],
   "source": [
    "from sklearn.linear_model import LinearRegression"
   ]
  },
  {
   "cell_type": "code",
   "execution_count": 0,
   "metadata": {
    "application/vnd.databricks.v1+cell": {
     "cellMetadata": {
      "byteLimit": 2048000,
      "rowLimit": 10000
     },
     "inputWidgets": {},
     "nuid": "0afc4f0f-9056-4927-9321-b94a3e62d21b",
     "showTitle": false,
     "title": ""
    }
   },
   "outputs": [],
   "source": [
    "lmreg = LinearRegression().fit(X_train, y_train)\n",
    "lmpred = lmreg.predict(X_test)\n",
    "print(\"MSE from linear regression: \", mean_squared_error(y_test, lmpred))"
   ]
  },
  {
   "cell_type": "code",
   "execution_count": 0,
   "metadata": {
    "application/vnd.databricks.v1+cell": {
     "cellMetadata": {
      "byteLimit": 2048000,
      "rowLimit": 10000
     },
     "inputWidgets": {},
     "nuid": "05033f32-11fd-43db-91bd-3f2844c49642",
     "showTitle": false,
     "title": ""
    }
   },
   "outputs": [],
   "source": [
    "print(\"MSE from boosting: \", MSE.mean())"
   ]
  },
  {
   "cell_type": "markdown",
   "metadata": {
    "application/vnd.databricks.v1+cell": {
     "cellMetadata": {
      "byteLimit": 2048000,
      "rowLimit": 10000
     },
     "inputWidgets": {},
     "nuid": "ec351de1-bc99-4216-bca9-4feee30bdd13",
     "showTitle": false,
     "title": ""
    }
   },
   "source": [
    "Therefore, boosting provides lower MSE than linear regression."
   ]
  },
  {
   "cell_type": "markdown",
   "metadata": {
    "application/vnd.databricks.v1+cell": {
     "cellMetadata": {
      "byteLimit": 2048000,
      "rowLimit": 10000
     },
     "inputWidgets": {},
     "nuid": "6f1a5efa-d99b-446a-966d-6f248851b0c0",
     "showTitle": false,
     "title": ""
    }
   },
   "source": [
    "**f. Which variables appear to be the most important predictors in\n",
    "the boosted model?**"
   ]
  },
  {
   "cell_type": "code",
   "execution_count": 0,
   "metadata": {
    "application/vnd.databricks.v1+cell": {
     "cellMetadata": {
      "byteLimit": 2048000,
      "rowLimit": 10000
     },
     "inputWidgets": {},
     "nuid": "0c3f0f45-b8de-488f-8146-e4ee1d5e9b97",
     "showTitle": false,
     "title": ""
    }
   },
   "outputs": [],
   "source": [
    "feature_importance = boost.feature_importances_*100\n",
    "rel_imp = pd.Series(feature_importance, index = X.columns).sort_values(inplace = False)\n",
    "\n",
    "rel_imp.T.plot(kind = 'barh', color = 'y', figsize=(25, 10), grid= True, )\n",
    "\n",
    "plt.xkcd()\n",
    "plt.xlabel('variable importance', fontsize=20, color='c')\n",
    "plt.ylabel('variables', fontsize=20, color='c')\n",
    "plt.title('importance of each variables', fontsize=30, color='m')\n",
    "plt.gca().legend_ = None"
   ]
  },
  {
   "cell_type": "markdown",
   "metadata": {
    "application/vnd.databricks.v1+cell": {
     "cellMetadata": {
      "byteLimit": 2048000,
      "rowLimit": 10000
     },
     "inputWidgets": {},
     "nuid": "fb6f789a-3dc2-4522-b827-d8548e1c60c8",
     "showTitle": false,
     "title": ""
    }
   },
   "source": [
    "Therefore, 'CRuns', 'CRBI' and 'AtBat' are the most important variables."
   ]
  },
  {
   "cell_type": "markdown",
   "metadata": {
    "application/vnd.databricks.v1+cell": {
     "cellMetadata": {
      "byteLimit": 2048000,
      "rowLimit": 10000
     },
     "inputWidgets": {},
     "nuid": "fd2e9132-fff1-4ca1-a656-efc3b4664021",
     "showTitle": false,
     "title": ""
    }
   },
   "source": [
    "**g. Now apply bagging to the training set. What is the test set MSE\n",
    "for this approach?**"
   ]
  },
  {
   "cell_type": "code",
   "execution_count": 0,
   "metadata": {
    "application/vnd.databricks.v1+cell": {
     "cellMetadata": {
      "byteLimit": 2048000,
      "rowLimit": 10000
     },
     "inputWidgets": {},
     "nuid": "affb58b0-a787-4ca9-8301-3816f806a789",
     "showTitle": false,
     "title": ""
    }
   },
   "outputs": [],
   "source": [
    "import warnings\n",
    "warnings.simplefilter(action='ignore', category=FutureWarning)\n",
    "\n",
    "bag = RandomForestRegressor(max_features=19).fit(X_train, y_train)\n",
    "bag_pred = bag.predict(X_test)\n",
    "\n",
    "plt.xkcd()\n",
    "plt.figure(figsize=(25, 10))\n",
    "plt.scatter(bag_pred, y_test, label = 'medv', color='g')\n",
    "plt.plot([0, 1], [0, 1], 'r', transform = plt.gca().transAxes)\n",
    "plt.xlabel('pred')\n",
    "plt.ylabel('y_test')\n",
    "\n",
    "print(\"Mean Squared Error: \", mean_squared_error(y_test, bag_pred))"
   ]
  },
  {
   "cell_type": "markdown",
   "metadata": {
    "application/vnd.databricks.v1+cell": {
     "cellMetadata": {
      "byteLimit": 2048000,
      "rowLimit": 10000
     },
     "inputWidgets": {},
     "nuid": "226b7b28-b46d-4cb1-807b-7801ea4b1cb0",
     "showTitle": false,
     "title": ""
    }
   },
   "source": [
    "The test MSE for bagging is $\\approx$0.25, which is lower than the test MSE for boosting."
   ]
  },
  {
   "cell_type": "code",
   "execution_count": 0,
   "metadata": {
    "application/vnd.databricks.v1+cell": {
     "cellMetadata": {
      "byteLimit": 2048000,
      "rowLimit": 10000
     },
     "inputWidgets": {},
     "nuid": "5ca8812b-257f-40e9-ab2d-fdbdadd0427b",
     "showTitle": false,
     "title": ""
    }
   },
   "outputs": [],
   "source": []
  }
 ],
 "metadata": {
  "application/vnd.databricks.v1+notebook": {
   "dashboards": [],
   "language": "python",
   "notebookMetadata": {
    "pythonIndentUnit": 2
   },
   "notebookName": "Question 10 - answers",
   "widgets": {}
  }
 },
 "nbformat": 4,
 "nbformat_minor": 0
}
