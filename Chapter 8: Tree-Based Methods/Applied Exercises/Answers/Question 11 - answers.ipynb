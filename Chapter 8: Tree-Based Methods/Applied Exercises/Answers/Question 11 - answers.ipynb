{
 "cells": [
  {
   "cell_type": "markdown",
   "metadata": {
    "application/vnd.databricks.v1+cell": {
     "cellMetadata": {
      "byteLimit": 2048000,
      "rowLimit": 10000
     },
     "inputWidgets": {},
     "nuid": "e06a1583-9f84-495c-9b2d-82cfc9293480",
     "showTitle": false,
     "title": ""
    }
   },
   "source": [
    "This question uses the `Caravan` data set."
   ]
  },
  {
   "cell_type": "code",
   "execution_count": 0,
   "metadata": {
    "application/vnd.databricks.v1+cell": {
     "cellMetadata": {
      "byteLimit": 2048000,
      "rowLimit": 10000
     },
     "inputWidgets": {},
     "nuid": "732526c5-af9d-456f-ac45-6dd2cd6295d1",
     "showTitle": false,
     "title": ""
    }
   },
   "outputs": [],
   "source": [
    "%pip install --quiet mlxtend"
   ]
  },
  {
   "cell_type": "markdown",
   "metadata": {
    "application/vnd.databricks.v1+cell": {
     "cellMetadata": {
      "byteLimit": 2048000,
      "rowLimit": 10000
     },
     "inputWidgets": {},
     "nuid": "fc9539a4-20ec-4e00-9043-0aab5982baa9",
     "showTitle": false,
     "title": ""
    }
   },
   "source": [
    "### Preprocessing"
   ]
  },
  {
   "cell_type": "code",
   "execution_count": 0,
   "metadata": {
    "application/vnd.databricks.v1+cell": {
     "cellMetadata": {
      "byteLimit": 2048000,
      "rowLimit": 10000
     },
     "inputWidgets": {},
     "nuid": "2ba9d8ec-2235-4f3d-93aa-d985d316953a",
     "showTitle": false,
     "title": ""
    }
   },
   "outputs": [],
   "source": [
    "# import relevant statistical packages\n",
    "import numpy as np\n",
    "import pandas as pd"
   ]
  },
  {
   "cell_type": "code",
   "execution_count": 0,
   "metadata": {
    "application/vnd.databricks.v1+cell": {
     "cellMetadata": {
      "byteLimit": 2048000,
      "rowLimit": 10000
     },
     "inputWidgets": {},
     "nuid": "037e76d5-4968-4fae-adec-226b2ce7ba22",
     "showTitle": false,
     "title": ""
    }
   },
   "outputs": [],
   "source": [
    "# import relevant data visualisation packages\n",
    "import matplotlib.pyplot as plt\n",
    "import seaborn as sns\n",
    "%matplotlib inline"
   ]
  },
  {
   "cell_type": "code",
   "execution_count": 0,
   "metadata": {
    "application/vnd.databricks.v1+cell": {
     "cellMetadata": {
      "byteLimit": 2048000,
      "rowLimit": 10000
     },
     "inputWidgets": {},
     "nuid": "5b33ac69-0ac2-471e-83f8-0ed9f7875c05",
     "showTitle": false,
     "title": ""
    }
   },
   "outputs": [],
   "source": [
    "# import custom packages\n",
    "from sklearn.metrics import mean_squared_error\n",
    "from sklearn.linear_model import LinearRegression\n",
    "from sklearn.metrics import r2_score as r2, mean_squared_error\n",
    "from mlxtend.feature_selection import ExhaustiveFeatureSelector as EFS\n",
    "from mlxtend.plotting import plot_linear_regression as PLS\n",
    "from sklearn.preprocessing import scale\n",
    "from sklearn.model_selection import train_test_split, cross_val_score\n",
    "from sklearn.tree import DecisionTreeRegressor\n",
    "from sklearn.ensemble import RandomForestRegressor, GradientBoostingRegressor\n",
    "from sklearn.metrics import confusion_matrix, classification_report"
   ]
  },
  {
   "cell_type": "code",
   "execution_count": 0,
   "metadata": {
    "application/vnd.databricks.v1+cell": {
     "cellMetadata": {
      "byteLimit": 2048000,
      "rowLimit": 10000
     },
     "inputWidgets": {},
     "nuid": "afe02b4e-b3dc-4eae-9cf2-35028890e1e5",
     "showTitle": false,
     "title": ""
    }
   },
   "outputs": [],
   "source": [
    "# import and preprocess data\n",
    "url = \"abfss://training@sa8451learningdev.dfs.core.windows.net/interpretable_machine_learning/eml_data/Caravan.csv\"\n",
    "Caravan = spark.read.option(\"header\", \"true\").csv(url).toPandas()\n",
    "Caravan.set_index('_c0', inplace=True)\n",
    "Caravan.index.names = ['Index']\n",
    "\n",
    "str_cols = [\"Purchase\"]\n",
    "num_cols = list(set(Caravan.columns) - set(str_cols))\n",
    "Caravan[str_cols] = Caravan[str_cols].astype(str)\n",
    "Caravan[num_cols] = Caravan[num_cols].astype(float)"
   ]
  },
  {
   "cell_type": "code",
   "execution_count": 0,
   "metadata": {
    "application/vnd.databricks.v1+cell": {
     "cellMetadata": {
      "byteLimit": 2048000,
      "rowLimit": 10000
     },
     "inputWidgets": {},
     "nuid": "d0b59781-09fb-402b-b779-ebf47014c075",
     "showTitle": false,
     "title": ""
    }
   },
   "outputs": [],
   "source": [
    "Caravan.Purchase.value_counts()"
   ]
  },
  {
   "cell_type": "code",
   "execution_count": 0,
   "metadata": {
    "application/vnd.databricks.v1+cell": {
     "cellMetadata": {
      "byteLimit": 2048000,
      "rowLimit": 10000
     },
     "inputWidgets": {},
     "nuid": "15b174b6-5185-4ad6-9211-1a8cbd3c021d",
     "showTitle": false,
     "title": ""
    }
   },
   "outputs": [],
   "source": [
    "Caravan.Purchase = Caravan.Purchase.map({'No': 0, 'Yes': 1})\n",
    "Caravan.head()"
   ]
  },
  {
   "cell_type": "code",
   "execution_count": 0,
   "metadata": {
    "application/vnd.databricks.v1+cell": {
     "cellMetadata": {
      "byteLimit": 2048000,
      "rowLimit": 10000
     },
     "inputWidgets": {},
     "nuid": "e3e05c16-7184-4cbc-bfc7-b7756c96fff0",
     "showTitle": false,
     "title": ""
    }
   },
   "outputs": [],
   "source": [
    "Caravan.Purchase.value_counts()"
   ]
  },
  {
   "cell_type": "markdown",
   "metadata": {
    "application/vnd.databricks.v1+cell": {
     "cellMetadata": {
      "byteLimit": 2048000,
      "rowLimit": 10000
     },
     "inputWidgets": {},
     "nuid": "a4ed2030-7145-43b7-8fec-496aa0bda185",
     "showTitle": false,
     "title": ""
    }
   },
   "source": [
    "**a. Create a training set consisting of the frst 1,000 observations,\n",
    "and a test set consisting of the remaining observations.**"
   ]
  },
  {
   "cell_type": "code",
   "execution_count": 0,
   "metadata": {
    "application/vnd.databricks.v1+cell": {
     "cellMetadata": {
      "byteLimit": 2048000,
      "rowLimit": 10000
     },
     "inputWidgets": {},
     "nuid": "3270836f-27f0-4379-a928-975cbebf65dc",
     "showTitle": false,
     "title": ""
    }
   },
   "outputs": [],
   "source": [
    "X = Caravan.drop(columns='Purchase')\n",
    "y = Caravan.Purchase\n",
    "\n",
    "X_train, X_test, y_train, y_test = train_test_split(X, y, test_size=0.82823771899, random_state=42)"
   ]
  },
  {
   "cell_type": "code",
   "execution_count": 0,
   "metadata": {
    "application/vnd.databricks.v1+cell": {
     "cellMetadata": {
      "byteLimit": 2048000,
      "rowLimit": 10000
     },
     "inputWidgets": {},
     "nuid": "1d5035a5-0778-4b7b-abdc-f968d411a983",
     "showTitle": false,
     "title": ""
    }
   },
   "outputs": [],
   "source": [
    "len(X_train), len(y_train)"
   ]
  },
  {
   "cell_type": "markdown",
   "metadata": {
    "application/vnd.databricks.v1+cell": {
     "cellMetadata": {
      "byteLimit": 2048000,
      "rowLimit": 10000
     },
     "inputWidgets": {},
     "nuid": "0ea9ed5f-5352-40a7-8a4b-6ed5d5b9f39b",
     "showTitle": false,
     "title": ""
    }
   },
   "source": [
    "**b.  Fit a boosting model to the training set with `Purchase` as the\n",
    "response and the other variables as predictors. Use 1,000 trees,\n",
    "and a shrinkage value of 0.01. Which predictors appear to be\n",
    "the most important?**"
   ]
  },
  {
   "cell_type": "code",
   "execution_count": 0,
   "metadata": {
    "application/vnd.databricks.v1+cell": {
     "cellMetadata": {
      "byteLimit": 2048000,
      "rowLimit": 10000
     },
     "inputWidgets": {},
     "nuid": "76f915ea-a7c1-4ede-a0b2-a76488acc525",
     "showTitle": false,
     "title": ""
    }
   },
   "outputs": [],
   "source": [
    "boost = GradientBoostingRegressor(n_estimators=1000, max_depth=6, learning_rate=0.01).fit(X_train, y_train)"
   ]
  },
  {
   "cell_type": "code",
   "execution_count": 0,
   "metadata": {
    "application/vnd.databricks.v1+cell": {
     "cellMetadata": {
      "byteLimit": 2048000,
      "rowLimit": 10000
     },
     "inputWidgets": {},
     "nuid": "16e5c702-0d12-48ac-8a51-a6ffe7b25030",
     "showTitle": false,
     "title": ""
    }
   },
   "outputs": [],
   "source": [
    "feature_importance = boost.feature_importances_*100\n",
    "rel_imp = pd.Series(feature_importance, index = X.columns).sort_values(inplace = False)\n",
    "\n",
    "rel_imp.T.plot(kind = 'barh', color = 'y', figsize=(25, 25), grid= True, )\n",
    "\n",
    "plt.xkcd()\n",
    "plt.xlabel('variable importance', fontsize=20, color='c')\n",
    "plt.ylabel('variables', fontsize=20, color='c')\n",
    "plt.title('importance of each variables', fontsize=30, color='m')\n",
    "plt.gca().legend_ = None"
   ]
  },
  {
   "cell_type": "markdown",
   "metadata": {
    "application/vnd.databricks.v1+cell": {
     "cellMetadata": {
      "byteLimit": 2048000,
      "rowLimit": 10000
     },
     "inputWidgets": {},
     "nuid": "486517a6-a469-40c6-b748-4fbfb0257f6b",
     "showTitle": false,
     "title": ""
    }
   },
   "source": [
    "'PPERSAUT', 'MOSTYPE', 'MFGEKIND', 'MBERABO' and 'MINK3045' are the most important predictors. The meaning of these variables can be found at: http://bit.ly/2Bb2N2J"
   ]
  },
  {
   "cell_type": "code",
   "execution_count": 0,
   "metadata": {
    "application/vnd.databricks.v1+cell": {
     "cellMetadata": {
      "byteLimit": 2048000,
      "rowLimit": 10000
     },
     "inputWidgets": {},
     "nuid": "6484cde7-799e-4ff6-a483-62f8d729ad22",
     "showTitle": false,
     "title": ""
    }
   },
   "outputs": [],
   "source": [
    "print(\"Mean Squared Error: \", mean_squared_error(y_test, boost.predict(X_test)))"
   ]
  },
  {
   "cell_type": "code",
   "execution_count": 0,
   "metadata": {
    "application/vnd.databricks.v1+cell": {
     "cellMetadata": {
      "byteLimit": 2048000,
      "rowLimit": 10000
     },
     "inputWidgets": {},
     "nuid": "d6cee344-1cdc-499e-a55c-77200b729701",
     "showTitle": false,
     "title": ""
    }
   },
   "outputs": [],
   "source": [
    "boost_pred = pd.DataFrame(boost.predict(X_test))\n",
    "boost_pred.columns = ['Predictions']\n",
    "boost_pred.head()"
   ]
  },
  {
   "cell_type": "code",
   "execution_count": 0,
   "metadata": {
    "application/vnd.databricks.v1+cell": {
     "cellMetadata": {
      "byteLimit": 2048000,
      "rowLimit": 10000
     },
     "inputWidgets": {},
     "nuid": "3797989e-8ad9-432f-a9cd-e621c25e443d",
     "showTitle": false,
     "title": ""
    }
   },
   "outputs": [],
   "source": [
    "boost_prob = np.where(boost_pred.Predictions>0.2, 1, 0)\n",
    "boost_prob"
   ]
  },
  {
   "cell_type": "code",
   "execution_count": 0,
   "metadata": {
    "application/vnd.databricks.v1+cell": {
     "cellMetadata": {
      "byteLimit": 2048000,
      "rowLimit": 10000
     },
     "inputWidgets": {},
     "nuid": "3c0a7651-ae33-40ab-b67a-24cb434d0a9d",
     "showTitle": false,
     "title": ""
    }
   },
   "outputs": [],
   "source": [
    "class_mat = pd.DataFrame(confusion_matrix(y_test, boost_prob).T, index = ['No', 'Yes'], columns = ['No', 'Yes'])\n",
    "class_mat"
   ]
  },
  {
   "cell_type": "code",
   "execution_count": 0,
   "metadata": {
    "application/vnd.databricks.v1+cell": {
     "cellMetadata": {
      "byteLimit": 2048000,
      "rowLimit": 10000
     },
     "inputWidgets": {},
     "nuid": "44a4f627-0f55-4a42-bb63-9451c142f048",
     "showTitle": false,
     "title": ""
    }
   },
   "outputs": [],
   "source": [
    "print(classification_report(y_test, boost_prob))"
   ]
  },
  {
   "cell_type": "markdown",
   "metadata": {
    "application/vnd.databricks.v1+cell": {
     "cellMetadata": {
      "byteLimit": 2048000,
      "rowLimit": 10000
     },
     "inputWidgets": {},
     "nuid": "4bee5ac6-194c-464f-99d5-c8978296ad91",
     "showTitle": false,
     "title": ""
    }
   },
   "source": [
    "Therefore, it correctly predicts for $\\approx$86% of the test data set."
   ]
  },
  {
   "cell_type": "markdown",
   "metadata": {
    "application/vnd.databricks.v1+cell": {
     "cellMetadata": {
      "byteLimit": 2048000,
      "rowLimit": 10000
     },
     "inputWidgets": {},
     "nuid": "179fcb76-3d21-4efe-9778-5477317f3f26",
     "showTitle": false,
     "title": ""
    }
   },
   "source": [
    "**c. Use the boosting model to predict the response on the test data.\n",
    "Predict that a person will make a purchase if the estimated probability of purchase is greater than 20 %. Form a confusion matrix. What fraction of the people predicted to make a purchase\n",
    "do in fact make one? How does this compare with the results\n",
    "obtained from applying KNN or logistic regression to this data\n",
    "set?**"
   ]
  },
  {
   "cell_type": "code",
   "execution_count": 0,
   "metadata": {
    "application/vnd.databricks.v1+cell": {
     "cellMetadata": {
      "byteLimit": 2048000,
      "rowLimit": 10000
     },
     "inputWidgets": {},
     "nuid": "8701b67e-8b31-4af7-9b12-7c5c3bc81c5c",
     "showTitle": false,
     "title": ""
    }
   },
   "outputs": [],
   "source": [
    "from sklearn.linear_model import LinearRegression"
   ]
  },
  {
   "cell_type": "code",
   "execution_count": 0,
   "metadata": {
    "application/vnd.databricks.v1+cell": {
     "cellMetadata": {
      "byteLimit": 2048000,
      "rowLimit": 10000
     },
     "inputWidgets": {},
     "nuid": "9c40ff77-2088-40de-ab85-a866afbb6547",
     "showTitle": false,
     "title": ""
    }
   },
   "outputs": [],
   "source": [
    "lmreg = LinearRegression().fit(X_train, y_train)\n",
    "lmpred = pd.DataFrame(lmreg.predict(X_test))\n",
    "lmpred.columns = ['Predictions']"
   ]
  },
  {
   "cell_type": "code",
   "execution_count": 0,
   "metadata": {
    "application/vnd.databricks.v1+cell": {
     "cellMetadata": {
      "byteLimit": 2048000,
      "rowLimit": 10000
     },
     "inputWidgets": {},
     "nuid": "d55950ff-6143-4176-b0e0-3473f90c09af",
     "showTitle": false,
     "title": ""
    }
   },
   "outputs": [],
   "source": [
    "lmpred.Predictions = np.where(lmpred.Predictions>0.2, 1, 0)\n",
    "class_mat = pd.DataFrame(confusion_matrix(y_test, lmpred).T, index = ['No', 'Yes'], columns = ['No', 'Yes'])\n",
    "class_mat"
   ]
  },
  {
   "cell_type": "code",
   "execution_count": 0,
   "metadata": {
    "application/vnd.databricks.v1+cell": {
     "cellMetadata": {
      "byteLimit": 2048000,
      "rowLimit": 10000
     },
     "inputWidgets": {},
     "nuid": "7a821d38-9c4d-4db5-b44c-77b9918bbc5d",
     "showTitle": false,
     "title": ""
    }
   },
   "outputs": [],
   "source": [
    "print(classification_report(y_test, lmpred))"
   ]
  },
  {
   "cell_type": "markdown",
   "metadata": {
    "application/vnd.databricks.v1+cell": {
     "cellMetadata": {
      "byteLimit": 2048000,
      "rowLimit": 10000
     },
     "inputWidgets": {},
     "nuid": "0dbb0be6-a45a-4632-9131-2e533d48ccef",
     "showTitle": false,
     "title": ""
    }
   },
   "source": [
    "Linear regression provides better results to those of boosting."
   ]
  },
  {
   "cell_type": "code",
   "execution_count": 0,
   "metadata": {
    "application/vnd.databricks.v1+cell": {
     "cellMetadata": {
      "byteLimit": 2048000,
      "rowLimit": 10000
     },
     "inputWidgets": {},
     "nuid": "c71a306f-a9e7-4b83-a685-7a3b8b4c4d62",
     "showTitle": false,
     "title": ""
    }
   },
   "outputs": [],
   "source": [
    "from sklearn.linear_model import LogisticRegression"
   ]
  },
  {
   "cell_type": "code",
   "execution_count": 0,
   "metadata": {
    "application/vnd.databricks.v1+cell": {
     "cellMetadata": {
      "byteLimit": 2048000,
      "rowLimit": 10000
     },
     "inputWidgets": {},
     "nuid": "59e6aab2-6f22-46ec-aab7-a7a9de1bf653",
     "showTitle": false,
     "title": ""
    }
   },
   "outputs": [],
   "source": [
    "logreg = LogisticRegression(solver='liblinear').fit(X_train, y_train)\n",
    "logpred = pd.DataFrame(logreg.predict(X_test))\n",
    "logpred.columns = ['Predictions']"
   ]
  },
  {
   "cell_type": "code",
   "execution_count": 0,
   "metadata": {
    "application/vnd.databricks.v1+cell": {
     "cellMetadata": {
      "byteLimit": 2048000,
      "rowLimit": 10000
     },
     "inputWidgets": {},
     "nuid": "5d658548-8f34-4c42-9d98-7ee8dff589b7",
     "showTitle": false,
     "title": ""
    }
   },
   "outputs": [],
   "source": [
    "logpred.Predictions = np.where(logpred.Predictions>0.2, 1, 0)\n",
    "class_mat = pd.DataFrame(confusion_matrix(y_test, logpred).T, index = ['No', 'Yes'], columns = ['No', 'Yes'])\n",
    "class_mat"
   ]
  },
  {
   "cell_type": "code",
   "execution_count": 0,
   "metadata": {
    "application/vnd.databricks.v1+cell": {
     "cellMetadata": {
      "byteLimit": 2048000,
      "rowLimit": 10000
     },
     "inputWidgets": {},
     "nuid": "c57d1743-c8cc-4d09-90c8-5acb3096a752",
     "showTitle": false,
     "title": ""
    }
   },
   "outputs": [],
   "source": [
    "print(classification_report(y_test, logpred))"
   ]
  },
  {
   "cell_type": "markdown",
   "metadata": {
    "application/vnd.databricks.v1+cell": {
     "cellMetadata": {
      "byteLimit": 2048000,
      "rowLimit": 10000
     },
     "inputWidgets": {},
     "nuid": "8bc6dbb4-7d5b-46a3-883f-ba50ca2cc77d",
     "showTitle": false,
     "title": ""
    }
   },
   "source": [
    "Logistic regression provides even better predictions than linear regression and boosting."
   ]
  }
 ],
 "metadata": {
  "application/vnd.databricks.v1+notebook": {
   "dashboards": [],
   "language": "python",
   "notebookMetadata": {
    "pythonIndentUnit": 2
   },
   "notebookName": "Question 11 - answers",
   "widgets": {}
  }
 },
 "nbformat": 4,
 "nbformat_minor": 0
}
