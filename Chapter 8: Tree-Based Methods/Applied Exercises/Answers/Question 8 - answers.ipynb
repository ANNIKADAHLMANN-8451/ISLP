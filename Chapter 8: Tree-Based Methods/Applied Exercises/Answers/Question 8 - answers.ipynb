{
 "cells": [
  {
   "cell_type": "markdown",
   "metadata": {
    "application/vnd.databricks.v1+cell": {
     "cellMetadata": {
      "byteLimit": 2048000,
      "rowLimit": 10000
     },
     "inputWidgets": {},
     "nuid": "2990da2e-53bf-4981-b706-8ef614db1c85",
     "showTitle": false,
     "title": ""
    }
   },
   "source": [
    "In the lab, a classifcation tree was applied to the `Carseats` data set after converting `Sales` into a qualitative response variable. Now we will\n",
    "seek to predict `Sales` using regression trees and related approaches,\n",
    "treating the response as a quantitative variable."
   ]
  },
  {
   "cell_type": "markdown",
   "metadata": {
    "application/vnd.databricks.v1+cell": {
     "cellMetadata": {
      "byteLimit": 2048000,
      "rowLimit": 10000
     },
     "inputWidgets": {},
     "nuid": "1b84ef4d-3e5d-44d4-a2cf-bc7212211d13",
     "showTitle": false,
     "title": ""
    }
   },
   "source": [
    "### Preprocessing"
   ]
  },
  {
   "cell_type": "code",
   "execution_count": 0,
   "metadata": {
    "application/vnd.databricks.v1+cell": {
     "cellMetadata": {
      "byteLimit": 2048000,
      "rowLimit": 10000
     },
     "inputWidgets": {},
     "nuid": "1564ebb3-9219-467d-91e3-9c85b5f26743",
     "showTitle": false,
     "title": ""
    }
   },
   "outputs": [],
   "source": [
    "# import relevant statistical packages\n",
    "import numpy as np\n",
    "import pandas as pd\n",
    "from sklearn.model_selection import train_test_split\n",
    "from sklearn.tree import DecisionTreeClassifier, DecisionTreeRegressor, plot_tree\n",
    "from sklearn.ensemble import RandomForestClassifier, RandomForestRegressor, GradientBoostingRegressor, GradientBoostingClassifier\n",
    "from sklearn.metrics import confusion_matrix, mean_squared_error, classification_report, roc_curve, roc_auc_score\n",
    "from sklearn.model_selection import cross_val_score"
   ]
  },
  {
   "cell_type": "code",
   "execution_count": 0,
   "metadata": {
    "application/vnd.databricks.v1+cell": {
     "cellMetadata": {
      "byteLimit": 2048000,
      "rowLimit": 10000
     },
     "inputWidgets": {},
     "nuid": "b031da01-b737-4bf9-a972-783a1f2a52f0",
     "showTitle": false,
     "title": ""
    }
   },
   "outputs": [],
   "source": [
    "# import data visualisation packages\n",
    "import matplotlib as mpl\n",
    "import matplotlib.pyplot as plt\n",
    "import seaborn as sns\n",
    "%matplotlib inline"
   ]
  },
  {
   "cell_type": "code",
   "execution_count": 0,
   "metadata": {
    "application/vnd.databricks.v1+cell": {
     "cellMetadata": {
      "byteLimit": 2048000,
      "rowLimit": 10000
     },
     "inputWidgets": {},
     "nuid": "36969f41-8f19-46a8-a71a-85122f8ee729",
     "showTitle": false,
     "title": ""
    }
   },
   "outputs": [],
   "source": [
    "# load and preprocess data\n",
    "url = \"abfss://training@sa8451learningdev.dfs.core.windows.net/interpretable_machine_learning/eml_data/Carseats.csv\"\n",
    "df = spark.read.option(\"header\", \"true\").csv(url).toPandas()\n",
    "df.set_index(\"SlNo\", inplace=True)\n",
    "\n",
    "str_cols = [\"ShelveLoc\", \"Urban\", \"US\"]\n",
    "float_cols = [\"Sales\"]\n",
    "int_cols = list(set(df.columns)-set(str_cols)-set(float_cols))\n",
    "df[str_cols] = df[str_cols].astype(str)\n",
    "df[float_cols] = df[float_cols].astype(float)\n",
    "df[int_cols] = df[int_cols].astype(int)\n",
    "\n",
    "\n",
    "df.Sales = df.Sales.map(lambda x: 0 if x<=8 else 1)\n",
    "df.ShelveLoc = pd.factorize(df.ShelveLoc)[0]\n",
    "df.Urban = df.Urban.map({'No':0, 'Yes':1})\n",
    "df.US = df.US.map({'No':0, 'Yes':1})"
   ]
  },
  {
   "cell_type": "code",
   "execution_count": 0,
   "metadata": {
    "application/vnd.databricks.v1+cell": {
     "cellMetadata": {
      "byteLimit": 2048000,
      "rowLimit": 10000
     },
     "inputWidgets": {},
     "nuid": "f3933071-3b25-47b6-92b1-cc12106fa340",
     "showTitle": false,
     "title": ""
    }
   },
   "outputs": [],
   "source": [
    "df.head()"
   ]
  },
  {
   "cell_type": "markdown",
   "metadata": {
    "application/vnd.databricks.v1+cell": {
     "cellMetadata": {
      "byteLimit": 2048000,
      "rowLimit": 10000
     },
     "inputWidgets": {},
     "nuid": "3e40ebe6-6a04-4ad3-8d16-63b6a0840230",
     "showTitle": false,
     "title": ""
    }
   },
   "source": [
    "**a. Split the data set into a training set and a test set.**"
   ]
  },
  {
   "cell_type": "code",
   "execution_count": 0,
   "metadata": {
    "application/vnd.databricks.v1+cell": {
     "cellMetadata": {
      "byteLimit": 2048000,
      "rowLimit": 10000
     },
     "inputWidgets": {},
     "nuid": "72dd345b-60a6-4b85-9e26-2608b3795190",
     "showTitle": false,
     "title": ""
    }
   },
   "outputs": [],
   "source": [
    "X = df.drop(['Sales'], axis = 1)\n",
    "y = df.Sales\n",
    "\n",
    "X_train, X_test, y_train, y_test = train_test_split(X, y, train_size = 0.5, test_size = 0.3, random_state = 0)"
   ]
  },
  {
   "cell_type": "markdown",
   "metadata": {
    "application/vnd.databricks.v1+cell": {
     "cellMetadata": {
      "byteLimit": 2048000,
      "rowLimit": 10000
     },
     "inputWidgets": {},
     "nuid": "a591a05e-7af3-46e9-890a-00f81e1b9d97",
     "showTitle": false,
     "title": ""
    }
   },
   "source": [
    "**b. Fit a regression tree to the training set. Plot the tree, and interpret the results. What test MSE do you obtain?**"
   ]
  },
  {
   "cell_type": "code",
   "execution_count": 0,
   "metadata": {
    "application/vnd.databricks.v1+cell": {
     "cellMetadata": {
      "byteLimit": 2048000,
      "rowLimit": 10000
     },
     "inputWidgets": {},
     "nuid": "10d4de08-ec9e-4380-ab58-3f065a891945",
     "showTitle": false,
     "title": ""
    }
   },
   "outputs": [],
   "source": [
    "tree_cs = DecisionTreeRegressor(max_depth = 2).fit(X_train, y_train)\n",
    "\n",
    "plot_tree(tree_cs)"
   ]
  },
  {
   "cell_type": "code",
   "execution_count": 0,
   "metadata": {
    "application/vnd.databricks.v1+cell": {
     "cellMetadata": {
      "byteLimit": 2048000,
      "rowLimit": 10000
     },
     "inputWidgets": {},
     "nuid": "1bed67b8-e8e2-4198-ae3e-d9a08bd6016b",
     "showTitle": false,
     "title": ""
    }
   },
   "outputs": [],
   "source": [
    "pred = tree_cs.predict(X_test)\n",
    "\n",
    "plt.xkcd()\n",
    "plt.figure(figsize=(25, 10))\n",
    "plt.scatter(pred, y_test, label = 'medv', color='g')\n",
    "plt.plot([0, 1], [0, 1], 'r', transform = plt.gca().transAxes)\n",
    "\n",
    "plt.xlabel('pred', color='c', fontsize=20)\n",
    "plt.ylabel('y_test', color='c', fontsize=20)\n",
    "plt.title('mean squared error of predicted values', fontsize=30, color='m')\n",
    "\n",
    "print(\"Mean Squared Error: \", mean_squared_error(y_test, pred))"
   ]
  },
  {
   "cell_type": "markdown",
   "metadata": {
    "application/vnd.databricks.v1+cell": {
     "cellMetadata": {
      "byteLimit": 2048000,
      "rowLimit": 10000
     },
     "inputWidgets": {},
     "nuid": "19d04b4b-fc25-4ad1-9854-77bc707ad090",
     "showTitle": false,
     "title": ""
    }
   },
   "source": [
    "Therefore, the test MSE$\\approx$0.22"
   ]
  },
  {
   "cell_type": "markdown",
   "metadata": {
    "application/vnd.databricks.v1+cell": {
     "cellMetadata": {
      "byteLimit": 2048000,
      "rowLimit": 10000
     },
     "inputWidgets": {},
     "nuid": "708a1a1f-7405-496c-afb3-b27cd2b16f1f",
     "showTitle": false,
     "title": ""
    }
   },
   "source": [
    "**c. Use cross-validation in order to determine the optimal level of\n",
    "tree complexity. Does pruning the tree improve the test MSE?**"
   ]
  },
  {
   "cell_type": "code",
   "execution_count": 0,
   "metadata": {
    "application/vnd.databricks.v1+cell": {
     "cellMetadata": {
      "byteLimit": 2048000,
      "rowLimit": 10000
     },
     "inputWidgets": {},
     "nuid": "bc33be3b-a471-4af4-8865-bff1aa782e23",
     "showTitle": false,
     "title": ""
    }
   },
   "outputs": [],
   "source": [
    "SCORES = []\n",
    "max_leafs_arr = range(2, 50)\n",
    "for max_leafs in max_leafs_arr:\n",
    "    regressionTree = DecisionTreeRegressor(max_leaf_nodes=max_leafs)\n",
    "    sc = cross_val_score(regressionTree, X, y, cv=10, scoring=\"neg_mean_squared_error\")\n",
    "    SCORES.append((-sc.mean(), sc.std()))\n",
    "SCORES = np.array(SCORES)"
   ]
  },
  {
   "cell_type": "code",
   "execution_count": 0,
   "metadata": {
    "application/vnd.databricks.v1+cell": {
     "cellMetadata": {
      "byteLimit": 2048000,
      "rowLimit": 10000
     },
     "inputWidgets": {},
     "nuid": "97de0a2c-319d-4a02-b852-bd9eb5b35bcc",
     "showTitle": false,
     "title": ""
    }
   },
   "outputs": [],
   "source": [
    "plt.xkcd()\n",
    "plt.figure(figsize=(25, 10))\n",
    "plt.plot(max_leafs_arr, SCORES[:,0], 'g')\n",
    "plt.fill_between(max_leafs_arr, SCORES[:,0]+SCORES[:,1], SCORES[:,0]-SCORES[:,1], alpha=0.3, color='y')\n",
    "plt.xlabel('tree size', fontsize=20, color='c')\n",
    "plt.ylabel('MSE', fontsize=20, color='c')\n",
    "plt.title('finding the best tree through cross-validation', fontsize=30, color='m')\n",
    "best_min_leafs = max_leafs_arr[np.argmin(SCORES[:,0])]\n",
    "print(f\"The best tree has {best_min_leafs} leafs.\")"
   ]
  },
  {
   "cell_type": "code",
   "execution_count": 0,
   "metadata": {
    "application/vnd.databricks.v1+cell": {
     "cellMetadata": {
      "byteLimit": 2048000,
      "rowLimit": 10000
     },
     "inputWidgets": {},
     "nuid": "f7b3a228-18b3-4057-a55b-39ec4a634fe9",
     "showTitle": false,
     "title": ""
    }
   },
   "outputs": [],
   "source": [
    "tree_cs = DecisionTreeRegressor(max_depth = 4).fit(X_train, y_train)\n",
    "\n",
    "plot_tree(tree_cs)"
   ]
  },
  {
   "cell_type": "code",
   "execution_count": 0,
   "metadata": {
    "application/vnd.databricks.v1+cell": {
     "cellMetadata": {
      "byteLimit": 2048000,
      "rowLimit": 10000
     },
     "inputWidgets": {},
     "nuid": "2ec76358-ea26-4d14-ac9e-7d957672b07a",
     "showTitle": false,
     "title": ""
    }
   },
   "outputs": [],
   "source": [
    "pred = tree_cs.predict(X_test)\n",
    "\n",
    "plt.xkcd()\n",
    "plt.figure(figsize=(25, 10))\n",
    "plt.scatter(pred, y_test, label = 'medv', color='g')\n",
    "plt.plot([0, 1], [0, 1], 'r', transform = plt.gca().transAxes)\n",
    "\n",
    "plt.xlabel('pred', color='c', fontsize=20)\n",
    "plt.ylabel('y_test', color='c', fontsize=20)\n",
    "plt.title('mean squared error of predicted values', fontsize=30, color='m')\n",
    "\n",
    "print(\"Mean Squared Error: \", mean_squared_error(y_test, pred))"
   ]
  },
  {
   "cell_type": "markdown",
   "metadata": {
    "application/vnd.databricks.v1+cell": {
     "cellMetadata": {
      "byteLimit": 2048000,
      "rowLimit": 10000
     },
     "inputWidgets": {},
     "nuid": "4604641c-12e3-4469-848c-6a9f015ef494",
     "showTitle": false,
     "title": ""
    }
   },
   "source": [
    "Pruning in this instance actually *increases* the test MSE."
   ]
  },
  {
   "cell_type": "markdown",
   "metadata": {
    "application/vnd.databricks.v1+cell": {
     "cellMetadata": {
      "byteLimit": 2048000,
      "rowLimit": 10000
     },
     "inputWidgets": {},
     "nuid": "2735359e-3dcb-416d-beac-72930e393ff2",
     "showTitle": false,
     "title": ""
    }
   },
   "source": [
    "**d. Use the bagging approach in order to analyze this data. What\n",
    "test MSE do you obtain? Use the `feature\\_importance\\_ values` to\n",
    "determine which variables are most important.**"
   ]
  },
  {
   "cell_type": "code",
   "execution_count": 0,
   "metadata": {
    "application/vnd.databricks.v1+cell": {
     "cellMetadata": {
      "byteLimit": 2048000,
      "rowLimit": 10000
     },
     "inputWidgets": {},
     "nuid": "3aee81ee-d601-4407-ba26-deb963d3d24e",
     "showTitle": false,
     "title": ""
    }
   },
   "outputs": [],
   "source": [
    "import warnings\n",
    "warnings.filterwarnings('ignore')\n",
    "\n",
    "bag_cs = RandomForestRegressor(max_features=10).fit(X_train, y_train)\n",
    "bag_pred = bag_cs.predict(X_test)\n",
    "\n",
    "plt.xkcd()\n",
    "plt.figure(figsize=(25, 10))\n",
    "plt.scatter(bag_pred, y_test, label = 'medv', color='g')\n",
    "plt.plot([0, 1], [0, 1], 'r', transform = plt.gca().transAxes)\n",
    "plt.xlabel('pred')\n",
    "plt.ylabel('y_test')\n",
    "\n",
    "print(\"Mean Squared Error: \", mean_squared_error(y_test, bag_pred))"
   ]
  },
  {
   "cell_type": "markdown",
   "metadata": {
    "application/vnd.databricks.v1+cell": {
     "cellMetadata": {
      "byteLimit": 2048000,
      "rowLimit": 10000
     },
     "inputWidgets": {},
     "nuid": "fb8a7df2-a279-4260-9c4f-c64a28047144",
     "showTitle": false,
     "title": ""
    }
   },
   "source": [
    "Bagging provides significant reduction in mean squared error over regression models."
   ]
  },
  {
   "cell_type": "code",
   "execution_count": 0,
   "metadata": {
    "application/vnd.databricks.v1+cell": {
     "cellMetadata": {
      "byteLimit": 2048000,
      "rowLimit": 10000
     },
     "inputWidgets": {},
     "nuid": "0fbfc3e0-4863-4597-b78b-86962dd07681",
     "showTitle": false,
     "title": ""
    }
   },
   "outputs": [],
   "source": [
    "Importance = pd.DataFrame({'Importance': bag_cs.feature_importances_*100}, index = X.columns)\n",
    "Importance.sort_values(by = 'Importance', axis = 0, ascending = True).plot(kind = 'barh', color = 'y')\n",
    "\n",
    "plt.xkcd()\n",
    "plt.xlabel('variable importance', fontsize=20, color='c')\n",
    "plt.ylabel('variables', fontsize=20, color='c')\n",
    "plt.title('importance of each variables', fontsize=30, color='m')\n",
    "plt.gca().legend_ = None\n",
    "fig = plt.gcf()\n",
    "fig.set_size_inches(25, 10)"
   ]
  },
  {
   "cell_type": "markdown",
   "metadata": {
    "application/vnd.databricks.v1+cell": {
     "cellMetadata": {
      "byteLimit": 2048000,
      "rowLimit": 10000
     },
     "inputWidgets": {},
     "nuid": "25a7082b-4b9e-4a25-b572-471796a3a01c",
     "showTitle": false,
     "title": ""
    }
   },
   "source": [
    "**e. Use random forests to analyze this data. What test MSE do\n",
    "you obtain? Use the `feature\\_importance\\_ values` to determine\n",
    "which variables are most important. Describe the efect of m, the\n",
    "number of variables considered at each split, on the error rate\n",
    "obtained.**"
   ]
  },
  {
   "cell_type": "markdown",
   "metadata": {
    "application/vnd.databricks.v1+cell": {
     "cellMetadata": {
      "byteLimit": 2048000,
      "rowLimit": 10000
     },
     "inputWidgets": {},
     "nuid": "cec2973c-37af-4e4c-b0e1-879ecc817cf6",
     "showTitle": false,
     "title": ""
    }
   },
   "source": [
    "$m$=4"
   ]
  },
  {
   "cell_type": "code",
   "execution_count": 0,
   "metadata": {
    "application/vnd.databricks.v1+cell": {
     "cellMetadata": {
      "byteLimit": 2048000,
      "rowLimit": 10000
     },
     "inputWidgets": {},
     "nuid": "040a8cbe-48f4-42fa-b17e-aaaf29d1f6c7",
     "showTitle": false,
     "title": ""
    }
   },
   "outputs": [],
   "source": [
    "rf_cs = RandomForestRegressor(max_features=3).fit(X_train, y_train)\n",
    "\n",
    "rf_pred = rf_cs.predict(X_test)\n",
    "\n",
    "plt.xkcd()\n",
    "plt.figure(figsize=(25, 10))\n",
    "plt.scatter(rf_pred, y_test, label = 'medv', color='g')\n",
    "plt.plot([0, 1], [0, 1], 'r', transform = plt.gca().transAxes)\n",
    "plt.xlabel('pred')\n",
    "plt.ylabel('y_test')\n",
    "\n",
    "print(\"Mean Squared Error: \", mean_squared_error(y_test, rf_pred))"
   ]
  },
  {
   "cell_type": "code",
   "execution_count": 0,
   "metadata": {
    "application/vnd.databricks.v1+cell": {
     "cellMetadata": {
      "byteLimit": 2048000,
      "rowLimit": 10000
     },
     "inputWidgets": {},
     "nuid": "056d7c2c-ebcd-4275-a836-2dbaab2a49d8",
     "showTitle": false,
     "title": ""
    }
   },
   "outputs": [],
   "source": [
    "Importance = pd.DataFrame({'Importance': rf_cs.feature_importances_*100}, index = X.columns)\n",
    "Importance.sort_values(by = 'Importance', axis = 0, ascending = True).plot(kind = 'barh', color = 'y')\n",
    "\n",
    "plt.xkcd()\n",
    "plt.xlabel('variable importance', fontsize=20, color='c')\n",
    "plt.ylabel('variables', fontsize=20, color='c')\n",
    "plt.title('importance of each variables', fontsize=30, color='m')\n",
    "plt.gca().legend_ = None\n",
    "fig = plt.gcf()\n",
    "fig.set_size_inches(25, 10)"
   ]
  },
  {
   "cell_type": "markdown",
   "metadata": {
    "application/vnd.databricks.v1+cell": {
     "cellMetadata": {
      "byteLimit": 2048000,
      "rowLimit": 10000
     },
     "inputWidgets": {},
     "nuid": "a4a031b8-1472-4533-94dd-9a29e4eace85",
     "showTitle": false,
     "title": ""
    }
   },
   "source": [
    "Random forest decreases the test MSE."
   ]
  },
  {
   "cell_type": "code",
   "execution_count": 0,
   "metadata": {
    "application/vnd.databricks.v1+cell": {
     "cellMetadata": {
      "byteLimit": 2048000,
      "rowLimit": 10000
     },
     "inputWidgets": {},
     "nuid": "cdad4bd6-d152-4714-aa66-529baeb5f075",
     "showTitle": false,
     "title": ""
    }
   },
   "outputs": [],
   "source": [
    "MSE = pd.DataFrame()\n",
    "\n",
    "for k in range(1,11):\n",
    "    rf_cs = RandomForestRegressor(max_features=k).fit(X_train, y_train)\n",
    "    rf_pred = rf_cs.predict(X_test)\n",
    "    mse = mean_squared_error(y_test, rf_pred)\n",
    "    MSE = MSE.append([mse])\n",
    "    \n",
    "MSE.reset_index(drop=True, inplace=True)\n",
    "plt.figure(figsize=(25, 10))\n",
    "plt.plot(MSE, color='g', ls='-.', marker='o', markersize=10, markerfacecolor='orange')\n",
    "plt.xlabel('number of variables', color='c', fontsize=20)\n",
    "plt.ylabel('MSE', color='c', fontsize=20)\n",
    "plt.title('effect of number of variables on MSE', color='m', fontsize=30)"
   ]
  },
  {
   "cell_type": "markdown",
   "metadata": {
    "application/vnd.databricks.v1+cell": {
     "cellMetadata": {
      "byteLimit": 2048000,
      "rowLimit": 10000
     },
     "inputWidgets": {},
     "nuid": "e08d2d29-5633-4678-8499-1bf5dde001f8",
     "showTitle": false,
     "title": ""
    }
   },
   "source": [
    "Changing m varies test MSE between approx. 0.15 to approx. 0.20."
   ]
  }
 ],
 "metadata": {
  "application/vnd.databricks.v1+notebook": {
   "dashboards": [],
   "language": "python",
   "notebookMetadata": {
    "pythonIndentUnit": 2
   },
   "notebookName": "Question 8 - answers",
   "widgets": {}
  }
 },
 "nbformat": 4,
 "nbformat_minor": 0
}
