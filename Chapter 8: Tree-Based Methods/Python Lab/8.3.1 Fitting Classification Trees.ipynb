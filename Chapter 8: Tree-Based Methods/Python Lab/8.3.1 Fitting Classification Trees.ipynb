{
 "cells": [
  {
   "cell_type": "markdown",
   "metadata": {
    "application/vnd.databricks.v1+cell": {
     "cellMetadata": {
      "byteLimit": 2048000,
      "rowLimit": 10000
     },
     "inputWidgets": {},
     "nuid": "f5c6e925-99e7-4244-9430-ccfd3b5f7164",
     "showTitle": false,
     "title": ""
    }
   },
   "source": [
    "### Preprocessing"
   ]
  },
  {
   "cell_type": "code",
   "execution_count": 0,
   "metadata": {
    "application/vnd.databricks.v1+cell": {
     "cellMetadata": {
      "byteLimit": 2048000,
      "rowLimit": 10000
     },
     "inputWidgets": {},
     "nuid": "01a799ba-545d-42be-a158-ca95372e7c04",
     "showTitle": false,
     "title": ""
    }
   },
   "outputs": [],
   "source": [
    "# import relevant statistical packages\n",
    "import numpy as np\n",
    "import pandas as pd\n",
    "from sklearn.model_selection import train_test_split\n",
    "from sklearn.tree import DecisionTreeClassifier, DecisionTreeRegressor, plot_tree\n",
    "from sklearn.ensemble import RandomForestClassifier, RandomForestRegressor, GradientBoostingRegressor, GradientBoostingClassifier\n",
    "from sklearn.metrics import confusion_matrix, mean_squared_error, classification_report, roc_curve, roc_auc_score\n",
    "from sklearn.model_selection import cross_val_score"
   ]
  },
  {
   "cell_type": "code",
   "execution_count": 0,
   "metadata": {
    "application/vnd.databricks.v1+cell": {
     "cellMetadata": {
      "byteLimit": 2048000,
      "rowLimit": 10000
     },
     "inputWidgets": {},
     "nuid": "3893d850-fdd5-4022-bf7f-159040ddedda",
     "showTitle": false,
     "title": ""
    }
   },
   "outputs": [],
   "source": [
    "# import data visualisation packages\n",
    "import matplotlib as mpl\n",
    "import matplotlib.pyplot as plt\n",
    "import seaborn as sns\n",
    "%matplotlib inline"
   ]
  },
  {
   "cell_type": "code",
   "execution_count": 0,
   "metadata": {
    "application/vnd.databricks.v1+cell": {
     "cellMetadata": {
      "byteLimit": 2048000,
      "rowLimit": 10000
     },
     "inputWidgets": {},
     "nuid": "a43ba411-3d18-4f9c-bd51-1ce80e34641c",
     "showTitle": false,
     "title": ""
    }
   },
   "outputs": [],
   "source": [
    "# import and preprocess data\n",
    "url = \"abfss://training@sa8451learningdev.dfs.core.windows.net/interpretable_machine_learning/eml_data/Carseats.csv\"\n",
    "df = spark.read.option(\"header\", \"true\").csv(url).toPandas()\n",
    "df.set_index(\"SlNo\")\n",
    "\n",
    "int_cols = [\"CompPrice\", \"Income\", \"Advertising\", \"Population\", \"Price\", \"Age\", \"Education\"]\n",
    "float_cols = [\"Sales\"]\n",
    "str_cols = [\"ShelveLoc\", \"Urban\", \"US\"]\n",
    "df[int_cols] = df[int_cols].astype(int)\n",
    "df[float_cols] = df[float_cols].astype(float)\n",
    "df[str_cols] = df[str_cols].astype(str)\n",
    "\n",
    "df.Sales = df.Sales.map(lambda x: 0 if x<=8 else 1)\n",
    "df.ShelveLoc = pd.factorize(df.ShelveLoc)[0]\n",
    "df.Urban = df.Urban.map({'No':0, 'Yes':1})\n",
    "df.US = df.US.map({'No':0, 'Yes':1})"
   ]
  },
  {
   "cell_type": "code",
   "execution_count": 0,
   "metadata": {
    "application/vnd.databricks.v1+cell": {
     "cellMetadata": {
      "byteLimit": 2048000,
      "rowLimit": 10000
     },
     "inputWidgets": {},
     "nuid": "f6dc48a6-b538-4446-b26a-6aaf9e42e15a",
     "showTitle": false,
     "title": ""
    }
   },
   "outputs": [],
   "source": [
    "df.head()"
   ]
  },
  {
   "cell_type": "markdown",
   "metadata": {
    "application/vnd.databricks.v1+cell": {
     "cellMetadata": {
      "byteLimit": 2048000,
      "rowLimit": 10000
     },
     "inputWidgets": {},
     "nuid": "801656e5-a2c0-4fbd-a16e-6a56aec73577",
     "showTitle": false,
     "title": ""
    }
   },
   "source": [
    "### Performing decision tree classification"
   ]
  },
  {
   "cell_type": "code",
   "execution_count": 0,
   "metadata": {
    "application/vnd.databricks.v1+cell": {
     "cellMetadata": {
      "byteLimit": 2048000,
      "rowLimit": 10000
     },
     "inputWidgets": {},
     "nuid": "c2674d33-45e1-4aa2-90e1-802aa943e137",
     "showTitle": false,
     "title": ""
    }
   },
   "outputs": [],
   "source": [
    "X = df.drop(['Sales'], axis = 1)\n",
    "y = df.Sales\n",
    "\n",
    "X_train, X_test, y_train, y_test = train_test_split(X, y, train_size = 0.5, random_state = 0)"
   ]
  },
  {
   "cell_type": "code",
   "execution_count": 0,
   "metadata": {
    "application/vnd.databricks.v1+cell": {
     "cellMetadata": {
      "byteLimit": 2048000,
      "rowLimit": 10000
     },
     "inputWidgets": {},
     "nuid": "7f11b67f-7e45-49e7-916f-629038f088c9",
     "showTitle": false,
     "title": ""
    }
   },
   "outputs": [],
   "source": [
    "tree_carseats = DecisionTreeClassifier(max_depth = 2)\n",
    "tree_carseats.fit(X_train, y_train)\n",
    "tree_carseats.score(X_train, y_train)"
   ]
  },
  {
   "cell_type": "markdown",
   "metadata": {
    "application/vnd.databricks.v1+cell": {
     "cellMetadata": {
      "byteLimit": 2048000,
      "rowLimit": 10000
     },
     "inputWidgets": {},
     "nuid": "1c8c4370-2205-4c0c-b8de-63ec7f7012d6",
     "showTitle": false,
     "title": ""
    }
   },
   "source": [
    "**This suggests that the training accuracy of the model is 74%. However, the true test of the model's predictive ability lies in the test set.**"
   ]
  },
  {
   "cell_type": "code",
   "execution_count": 0,
   "metadata": {
    "application/vnd.databricks.v1+cell": {
     "cellMetadata": {
      "byteLimit": 2048000,
      "rowLimit": 10000
     },
     "inputWidgets": {},
     "nuid": "611c1932-bad7-4744-bdf1-9582d17c6dd6",
     "showTitle": false,
     "title": ""
    }
   },
   "outputs": [],
   "source": [
    "tree_pred = tree_carseats.predict(X_test)\n",
    "class_mat = pd.DataFrame(confusion_matrix(y_test, tree_pred).T, index = ['No', 'Yes'], columns = ['No', 'Yes'])\n",
    "print(class_mat)"
   ]
  },
  {
   "cell_type": "code",
   "execution_count": 0,
   "metadata": {
    "application/vnd.databricks.v1+cell": {
     "cellMetadata": {
      "byteLimit": 2048000,
      "rowLimit": 10000
     },
     "inputWidgets": {},
     "nuid": "87846cc5-4244-44ca-a4f8-38e9ba2c8793",
     "showTitle": false,
     "title": ""
    }
   },
   "outputs": [],
   "source": [
    "print(classification_report(y_test, tree_pred))"
   ]
  },
  {
   "cell_type": "markdown",
   "metadata": {
    "application/vnd.databricks.v1+cell": {
     "cellMetadata": {
      "byteLimit": 2048000,
      "rowLimit": 10000
     },
     "inputWidgets": {},
     "nuid": "1f0a596e-970b-45f0-b29d-e4da88634ce8",
     "showTitle": false,
     "title": ""
    }
   },
   "source": [
    "**This suggests that the model predicts 69% of correct predictions in the test set.**"
   ]
  },
  {
   "cell_type": "code",
   "execution_count": 0,
   "metadata": {
    "application/vnd.databricks.v1+cell": {
     "cellMetadata": {
      "byteLimit": 2048000,
      "rowLimit": 10000
     },
     "inputWidgets": {},
     "nuid": "012e00bb-77c8-41a9-a9db-fded6b1253b9",
     "showTitle": false,
     "title": ""
    }
   },
   "outputs": [],
   "source": [
    "plot_tree(tree_carseats)"
   ]
  },
  {
   "cell_type": "markdown",
   "metadata": {
    "application/vnd.databricks.v1+cell": {
     "cellMetadata": {
      "byteLimit": 2048000,
      "rowLimit": 10000
     },
     "inputWidgets": {},
     "nuid": "62c35ff9-60d4-41ac-983f-dd2ded98c534",
     "showTitle": false,
     "title": ""
    }
   },
   "source": [
    "### Pruning the decision tree"
   ]
  },
  {
   "cell_type": "code",
   "execution_count": 0,
   "metadata": {
    "application/vnd.databricks.v1+cell": {
     "cellMetadata": {
      "byteLimit": 2048000,
      "rowLimit": 10000
     },
     "inputWidgets": {},
     "nuid": "58a64751-38fa-479a-9b7c-fc1c0e655279",
     "showTitle": false,
     "title": ""
    }
   },
   "outputs": [],
   "source": [
    "SCORES = []\n",
    "max_leafs_arr = range(2, 50)\n",
    "for max_leafs in max_leafs_arr:\n",
    "    regressionTree = DecisionTreeClassifier(max_leaf_nodes=max_leafs)\n",
    "    sc = cross_val_score(regressionTree, X, y, cv=10, scoring=\"neg_mean_squared_error\")\n",
    "    SCORES.append((-sc.mean(), sc.std()))\n",
    "SCORES = np.array(SCORES)"
   ]
  },
  {
   "cell_type": "code",
   "execution_count": 0,
   "metadata": {
    "application/vnd.databricks.v1+cell": {
     "cellMetadata": {
      "byteLimit": 2048000,
      "rowLimit": 10000
     },
     "inputWidgets": {},
     "nuid": "a4a0d559-6267-481d-8ceb-0ae886052c4f",
     "showTitle": false,
     "title": ""
    }
   },
   "outputs": [],
   "source": [
    "plt.xkcd()\n",
    "plt.figure(figsize=(25, 10))\n",
    "plt.plot(max_leafs_arr, SCORES[:,0], 'g')\n",
    "plt.fill_between(max_leafs_arr, SCORES[:,0]+SCORES[:,1], SCORES[:,0]-SCORES[:,1], alpha=0.3, color='y')\n",
    "plt.xlabel('tree size', fontsize=20, color='c')\n",
    "plt.ylabel('MSE', fontsize=20, color='c')\n",
    "plt.title('finding the best tree through cross-validation', fontsize=30, color='m')\n",
    "best_min_leafs = max_leafs_arr[np.argmin(SCORES[:,0])]\n",
    "print(f\"The best tree has {best_min_leafs} leafs.\")"
   ]
  },
  {
   "cell_type": "code",
   "execution_count": 0,
   "metadata": {
    "application/vnd.databricks.v1+cell": {
     "cellMetadata": {
      "byteLimit": 2048000,
      "rowLimit": 10000
     },
     "inputWidgets": {},
     "nuid": "e5ca6de5-32dc-499e-8f8d-a1510b30b06e",
     "showTitle": false,
     "title": ""
    }
   },
   "outputs": [],
   "source": [
    "tree_carseats_1 = DecisionTreeClassifier(max_depth = 17)\n",
    "tree_carseats_1.fit(X_train, y_train)\n",
    "tree_carseats_1.score(X_train, y_train)"
   ]
  },
  {
   "cell_type": "code",
   "execution_count": 0,
   "metadata": {
    "application/vnd.databricks.v1+cell": {
     "cellMetadata": {
      "byteLimit": 2048000,
      "rowLimit": 10000
     },
     "inputWidgets": {},
     "nuid": "34cbccb4-bc3b-423a-85d5-2521af78cd53",
     "showTitle": false,
     "title": ""
    }
   },
   "outputs": [],
   "source": [
    "tree_pred_1 = tree_carseats_1.predict(X_test)\n",
    "class_mat_1 = pd.DataFrame(confusion_matrix(y_test, tree_pred_1).T, index = ['No', 'Yes'], columns = ['No', 'Yes'])\n",
    "print(class_mat_1)"
   ]
  },
  {
   "cell_type": "code",
   "execution_count": 0,
   "metadata": {
    "application/vnd.databricks.v1+cell": {
     "cellMetadata": {
      "byteLimit": 2048000,
      "rowLimit": 10000
     },
     "inputWidgets": {},
     "nuid": "acd05080-430c-4a1e-a054-04359f4b3472",
     "showTitle": false,
     "title": ""
    }
   },
   "outputs": [],
   "source": [
    "print(classification_report(y_test, tree_pred_1))"
   ]
  },
  {
   "cell_type": "code",
   "execution_count": 0,
   "metadata": {
    "application/vnd.databricks.v1+cell": {
     "cellMetadata": {
      "byteLimit": 2048000,
      "rowLimit": 10000
     },
     "inputWidgets": {},
     "nuid": "50292c0a-7cdf-4e39-908f-a6f020a6b8a1",
     "showTitle": false,
     "title": ""
    }
   },
   "outputs": [],
   "source": [
    "plot_tree(tree_carseats_1)"
   ]
  },
  {
   "cell_type": "markdown",
   "metadata": {
    "application/vnd.databricks.v1+cell": {
     "cellMetadata": {
      "byteLimit": 2048000,
      "rowLimit": 10000
     },
     "inputWidgets": {},
     "nuid": "a2dd65cf-1aae-4696-aba6-2b092c142c0f",
     "showTitle": false,
     "title": ""
    }
   },
   "source": [
    "**I can achieve the closest to 38 leaves when depth = 17. At 17 leaves with pruning, the predictive ability of the decision tree increases to 72%, which succesfully demonstrates how pruning via. cross-validation can be useful).**"
   ]
  }
 ],
 "metadata": {
  "application/vnd.databricks.v1+notebook": {
   "dashboards": [],
   "language": "python",
   "notebookMetadata": {
    "pythonIndentUnit": 2
   },
   "notebookName": "8.3.1 Fitting Classification Trees",
   "widgets": {}
  }
 },
 "nbformat": 4,
 "nbformat_minor": 0
}
