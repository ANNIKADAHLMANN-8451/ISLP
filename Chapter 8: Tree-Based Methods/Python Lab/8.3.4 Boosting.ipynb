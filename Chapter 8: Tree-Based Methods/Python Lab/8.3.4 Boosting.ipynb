{
 "cells": [
  {
   "cell_type": "markdown",
   "metadata": {
    "application/vnd.databricks.v1+cell": {
     "cellMetadata": {
      "byteLimit": 2048000,
      "rowLimit": 10000
     },
     "inputWidgets": {},
     "nuid": "db3ef86a-e2f1-473e-8db5-725ad893fe69",
     "showTitle": false,
     "title": ""
    }
   },
   "source": [
    "### Preprocessing"
   ]
  },
  {
   "cell_type": "code",
   "execution_count": 0,
   "metadata": {
    "application/vnd.databricks.v1+cell": {
     "cellMetadata": {
      "byteLimit": 2048000,
      "rowLimit": 10000
     },
     "inputWidgets": {},
     "nuid": "16149ecf-e7cc-4d11-a675-0ffc88ed7af7",
     "showTitle": false,
     "title": ""
    }
   },
   "outputs": [],
   "source": [
    "# import relevant statistical packages\n",
    "import numpy as np\n",
    "import pandas as pd"
   ]
  },
  {
   "cell_type": "code",
   "execution_count": 0,
   "metadata": {
    "application/vnd.databricks.v1+cell": {
     "cellMetadata": {
      "byteLimit": 2048000,
      "rowLimit": 10000
     },
     "inputWidgets": {},
     "nuid": "69b5dd85-36a8-4a17-b293-657e9739405f",
     "showTitle": false,
     "title": ""
    }
   },
   "outputs": [],
   "source": [
    "# import relevant data visualisation packages\n",
    "import matplotlib.pyplot as plt\n",
    "import seaborn as sns\n",
    "%matplotlib inline"
   ]
  },
  {
   "cell_type": "code",
   "execution_count": 0,
   "metadata": {
    "application/vnd.databricks.v1+cell": {
     "cellMetadata": {
      "byteLimit": 2048000,
      "rowLimit": 10000
     },
     "inputWidgets": {},
     "nuid": "67a19b90-f827-4b68-abba-1c3388bfb42a",
     "showTitle": false,
     "title": ""
    }
   },
   "outputs": [],
   "source": [
    "# import custom packages\n",
    "from sklearn.metrics import mean_squared_error\n",
    "from sklearn.model_selection import train_test_split, cross_val_score\n",
    "from sklearn.ensemble import GradientBoostingRegressor\n",
    "from sklearn.ensemble import RandomForestRegressor"
   ]
  },
  {
   "cell_type": "code",
   "execution_count": 0,
   "metadata": {
    "application/vnd.databricks.v1+cell": {
     "cellMetadata": {
      "byteLimit": 2048000,
      "rowLimit": 10000
     },
     "inputWidgets": {},
     "nuid": "3436dd39-6613-4011-a566-b8f74b826e29",
     "showTitle": false,
     "title": ""
    }
   },
   "outputs": [],
   "source": [
    "# import and preprocess data\n",
    "url = \"abfss://training@sa8451learningdev.dfs.core.windows.net/interpretable_machine_learning/eml_data/Boston.csv\"\n",
    "Boston = spark.read.option(\"header\", \"true\").csv(url).toPandas().astype(float)\n",
    "Boston.set_index(\"SlNo\")\n",
    "\n",
    "Boston = pd.get_dummies(Boston, columns=['chas'], drop_first=True)\n",
    "Boston.head()"
   ]
  },
  {
   "cell_type": "markdown",
   "metadata": {
    "application/vnd.databricks.v1+cell": {
     "cellMetadata": {
      "byteLimit": 2048000,
      "rowLimit": 10000
     },
     "inputWidgets": {},
     "nuid": "a3ebfef6-d7d8-4710-9b68-327b4f82d118",
     "showTitle": false,
     "title": ""
    }
   },
   "source": [
    "### Boosting ($\\lambda$=0.001)"
   ]
  },
  {
   "cell_type": "code",
   "execution_count": 0,
   "metadata": {
    "application/vnd.databricks.v1+cell": {
     "cellMetadata": {
      "byteLimit": 2048000,
      "rowLimit": 10000
     },
     "inputWidgets": {},
     "nuid": "198fa5f9-a0b1-44b1-acb6-dc6de69834d8",
     "showTitle": false,
     "title": ""
    }
   },
   "outputs": [],
   "source": [
    "X = Boston.drop('medv', axis = 1)\n",
    "y = Boston.medv\n",
    "\n",
    "import warnings\n",
    "warnings.simplefilter(action='ignore', category=FutureWarning)\n",
    "\n",
    "X_train, X_test, y_train, y_test = train_test_split(X, y, train_size = 0.5, test_size = 0.5, random_state = 0)\n",
    "bag_Boston = RandomForestRegressor(max_features=13).fit(X_train, y_train)"
   ]
  },
  {
   "cell_type": "code",
   "execution_count": 0,
   "metadata": {
    "application/vnd.databricks.v1+cell": {
     "cellMetadata": {
      "byteLimit": 2048000,
      "rowLimit": 10000
     },
     "inputWidgets": {},
     "nuid": "748f03c2-407e-47ba-8a79-7376df27a91b",
     "showTitle": false,
     "title": ""
    }
   },
   "outputs": [],
   "source": [
    "boost_Boston = GradientBoostingRegressor(n_estimators=5000, max_depth=4, learning_rate=0.001).fit(X_train, y_train)\n",
    "print(\"Mean Squared Error: \", mean_squared_error(y_test, boost_Boston.predict(X_test)))"
   ]
  },
  {
   "cell_type": "code",
   "execution_count": 0,
   "metadata": {
    "application/vnd.databricks.v1+cell": {
     "cellMetadata": {
      "byteLimit": 2048000,
      "rowLimit": 10000
     },
     "inputWidgets": {},
     "nuid": "f1205e07-3b7c-44e7-be0a-433c1a754ad5",
     "showTitle": false,
     "title": ""
    }
   },
   "outputs": [],
   "source": [
    "feature_importance = boost_Boston.feature_importances_*100\n",
    "rel_imp = pd.Series(feature_importance, index = X.columns).sort_values(inplace = False)\n",
    "\n",
    "rel_imp.T.plot(kind = 'barh', color = 'y', figsize=(25, 10), grid= True, )\n",
    "\n",
    "plt.xkcd()\n",
    "plt.xlabel('variable importance', fontsize=20, color='c')\n",
    "plt.ylabel('variables', fontsize=20, color='c')\n",
    "plt.title('importance of each variables', fontsize=30, color='m')\n",
    "plt.gca().legend_ = None"
   ]
  },
  {
   "cell_type": "markdown",
   "metadata": {
    "application/vnd.databricks.v1+cell": {
     "cellMetadata": {
      "byteLimit": 2048000,
      "rowLimit": 10000
     },
     "inputWidgets": {},
     "nuid": "f77fbced-0110-4f92-a652-05fbe3e50640",
     "showTitle": false,
     "title": ""
    }
   },
   "source": [
    "**From the above diagramme, it is clear that $lstat$ and $rm$ are the most important variables. What is important to note is that the MSE of boosting is similar to that of bagging. Therefore, I will need to use a different value of the tuning parameter, $\\lambda$.**"
   ]
  },
  {
   "cell_type": "markdown",
   "metadata": {
    "application/vnd.databricks.v1+cell": {
     "cellMetadata": {
      "byteLimit": 2048000,
      "rowLimit": 10000
     },
     "inputWidgets": {},
     "nuid": "d60f184b-6dbe-41bd-9849-ac3506416695",
     "showTitle": false,
     "title": ""
    }
   },
   "source": [
    "### Boosting ($\\lambda$=0.2)"
   ]
  },
  {
   "cell_type": "code",
   "execution_count": 0,
   "metadata": {
    "application/vnd.databricks.v1+cell": {
     "cellMetadata": {
      "byteLimit": 2048000,
      "rowLimit": 10000
     },
     "inputWidgets": {},
     "nuid": "78c71985-62aa-4920-abac-c6bcccca4784",
     "showTitle": false,
     "title": ""
    }
   },
   "outputs": [],
   "source": [
    "boost_Boston = GradientBoostingRegressor(n_estimators=5000, max_depth=4, learning_rate=0.2).fit(X_train, y_train)\n",
    "print(\"Mean Squared Error: \", mean_squared_error(y_test, boost_Boston.predict(X_test)))"
   ]
  },
  {
   "cell_type": "markdown",
   "metadata": {
    "application/vnd.databricks.v1+cell": {
     "cellMetadata": {
      "byteLimit": 2048000,
      "rowLimit": 10000
     },
     "inputWidgets": {},
     "nuid": "9dc6ebe6-df95-4ebf-a354-23a0196eeef4",
     "showTitle": false,
     "title": ""
    }
   },
   "source": [
    "**Therefore using $\\lambda$=0.2 leads to a slightly lower test MSE than $\\lambda$=0.0001.**"
   ]
  }
 ],
 "metadata": {
  "application/vnd.databricks.v1+notebook": {
   "dashboards": [],
   "language": "python",
   "notebookMetadata": {
    "pythonIndentUnit": 2
   },
   "notebookName": "8.3.4 Boosting",
   "widgets": {}
  }
 },
 "nbformat": 4,
 "nbformat_minor": 0
}
