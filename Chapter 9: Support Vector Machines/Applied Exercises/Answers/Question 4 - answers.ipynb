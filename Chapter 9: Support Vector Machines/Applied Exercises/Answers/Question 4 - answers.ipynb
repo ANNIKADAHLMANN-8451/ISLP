{
 "cells": [
  {
   "cell_type": "markdown",
   "metadata": {
    "application/vnd.databricks.v1+cell": {
     "cellMetadata": {
      "byteLimit": 2048000,
      "rowLimit": 10000
     },
     "inputWidgets": {},
     "nuid": "a33ba82e-4122-4bc2-9a3e-bfd964245c39",
     "showTitle": false,
     "title": ""
    }
   },
   "source": [
    "Generate a simulated two-class data set with 100 observations and\n",
    "two features in which there is a visible but non-linear separation between the two classes. Show that in this setting, a support vector\n",
    "machine with a polynomial kernel (with degree greater than 1) or a\n",
    "radial kernel will outperform a support vector classifer on the training data. Which technique performs best on the test data? Make\n",
    "plots and report training and test error rates in order to back up\n",
    "your assertions."
   ]
  },
  {
   "cell_type": "markdown",
   "metadata": {
    "application/vnd.databricks.v1+cell": {
     "cellMetadata": {
      "byteLimit": 2048000,
      "rowLimit": 10000
     },
     "inputWidgets": {},
     "nuid": "5f8b2583-6802-4712-aace-1f9626cfe1c8",
     "showTitle": false,
     "title": ""
    }
   },
   "source": [
    "### Preprocessing"
   ]
  },
  {
   "cell_type": "code",
   "execution_count": 0,
   "metadata": {
    "application/vnd.databricks.v1+cell": {
     "cellMetadata": {
      "byteLimit": 2048000,
      "rowLimit": 10000
     },
     "inputWidgets": {},
     "nuid": "cbeb4f67-2642-45d5-a446-a9bba2589123",
     "showTitle": false,
     "title": ""
    }
   },
   "outputs": [],
   "source": [
    "import numpy as np\n",
    "import pandas as pd\n",
    "from sklearn.metrics import confusion_matrix, classification_report\n",
    "from sklearn.model_selection import train_test_split\n",
    "from sklearn.svm import SVC"
   ]
  },
  {
   "cell_type": "code",
   "execution_count": 0,
   "metadata": {
    "application/vnd.databricks.v1+cell": {
     "cellMetadata": {
      "byteLimit": 2048000,
      "rowLimit": 10000
     },
     "inputWidgets": {},
     "nuid": "8a92e700-e088-4cf6-9b36-ab5288b10aa8",
     "showTitle": false,
     "title": ""
    }
   },
   "outputs": [],
   "source": [
    "import matplotlib as mpl\n",
    "import matplotlib.pyplot as plt\n",
    "import seaborn as sns\n",
    "%matplotlib inline"
   ]
  },
  {
   "cell_type": "code",
   "execution_count": 0,
   "metadata": {
    "application/vnd.databricks.v1+cell": {
     "cellMetadata": {
      "byteLimit": 2048000,
      "rowLimit": 10000
     },
     "inputWidgets": {},
     "nuid": "543d3dca-0c42-4e4e-85d4-7022b54ae81e",
     "showTitle": false,
     "title": ""
    }
   },
   "outputs": [],
   "source": [
    "X = np.random.normal(size=100)\n",
    "X1 = X[0:50]\n",
    "X2 = X[51:100]\n",
    "\n",
    "y = 2 * pow(X,2) + 3.5 + np.random.normal(size=100)\n",
    "y1 = y[0:50]\n",
    "y2 = y[51:100]\n",
    "\n",
    "\n",
    "y1 += 3.7\n",
    "y2 -= 3.7\n",
    "\n",
    "plt.xkcd()\n",
    "plt.figure(figsize=(25, 10))\n",
    "plt.scatter(X1, y1, cmap=mpl.cm.Paired, marker='o', s=500)\n",
    "plt.scatter(X2, y2, cmap=mpl.cm.Paired, marker='o', s=500)\n",
    "plt.xlabel('X', color='green', fontsize=20)\n",
    "plt.ylabel('y', color='orange', fontsize=20)\n",
    "plt.title('data with visible but non-linear separation', color='m', fontsize=30)"
   ]
  },
  {
   "cell_type": "markdown",
   "metadata": {
    "application/vnd.databricks.v1+cell": {
     "cellMetadata": {
      "byteLimit": 2048000,
      "rowLimit": 10000
     },
     "inputWidgets": {},
     "nuid": "249788ba-6588-41a3-b1e0-2cec98faafb9",
     "showTitle": false,
     "title": ""
    }
   },
   "source": [
    "### Support vector machine with a non-linear kernel"
   ]
  },
  {
   "cell_type": "code",
   "execution_count": 0,
   "metadata": {
    "application/vnd.databricks.v1+cell": {
     "cellMetadata": {
      "byteLimit": 2048000,
      "rowLimit": 10000
     },
     "inputWidgets": {},
     "nuid": "20fc7c8f-3abf-41f0-9067-e61d2f2212f7",
     "showTitle": false,
     "title": ""
    }
   },
   "outputs": [],
   "source": [
    "Z = y = np.concatenate([1*np.ones((50,)), -1*np.zeros((50,))])\n",
    "X_train, X_test, Z_train, Z_test = train_test_split(X, Z, test_size=0.5, random_state=42)\n",
    "svmfit = SVC(C=40, kernel='rbf', gamma=1).fit(X_train.reshape(-1, 1), Z_train)"
   ]
  },
  {
   "cell_type": "code",
   "execution_count": 0,
   "metadata": {
    "application/vnd.databricks.v1+cell": {
     "cellMetadata": {
      "byteLimit": 2048000,
      "rowLimit": 10000
     },
     "inputWidgets": {},
     "nuid": "eee5b514-dd24-4a38-ac49-996ff2864907",
     "showTitle": false,
     "title": ""
    }
   },
   "outputs": [],
   "source": [
    "svmfit.support_"
   ]
  },
  {
   "cell_type": "code",
   "execution_count": 0,
   "metadata": {
    "application/vnd.databricks.v1+cell": {
     "cellMetadata": {
      "byteLimit": 2048000,
      "rowLimit": 10000
     },
     "inputWidgets": {},
     "nuid": "5aa6a5ff-b1ae-4de4-9421-7c405beaec49",
     "showTitle": false,
     "title": ""
    }
   },
   "outputs": [],
   "source": [
    "from sklearn.metrics import confusion_matrix, classification_report\n",
    "\n",
    "conf_mat_train = pd.DataFrame(confusion_matrix(Z_train, svmfit.predict(X_train.reshape(-1,1))).T, index = svmfit.classes_, columns = svmfit.classes_)\n",
    "conf_mat_train"
   ]
  },
  {
   "cell_type": "code",
   "execution_count": 0,
   "metadata": {
    "application/vnd.databricks.v1+cell": {
     "cellMetadata": {
      "byteLimit": 2048000,
      "rowLimit": 10000
     },
     "inputWidgets": {},
     "nuid": "b711edb1-72b2-4dfa-9aa3-dc50b16b30fe",
     "showTitle": false,
     "title": ""
    }
   },
   "outputs": [],
   "source": [
    "class_mat_train = classification_report(Z_train, svmfit.predict(X_train.reshape(-1, 1)))\n",
    "print(class_mat_train)"
   ]
  },
  {
   "cell_type": "code",
   "execution_count": 0,
   "metadata": {
    "application/vnd.databricks.v1+cell": {
     "cellMetadata": {
      "byteLimit": 2048000,
      "rowLimit": 10000
     },
     "inputWidgets": {},
     "nuid": "722af1c7-739b-4613-8fd6-559b58c6d4ec",
     "showTitle": false,
     "title": ""
    }
   },
   "outputs": [],
   "source": [
    "conf_mat_test = pd.DataFrame(confusion_matrix(Z_test, svmfit.predict(X_test.reshape(-1,1))).T, index = svmfit.classes_, columns = svmfit.classes_)\n",
    "conf_mat_test"
   ]
  },
  {
   "cell_type": "code",
   "execution_count": 0,
   "metadata": {
    "application/vnd.databricks.v1+cell": {
     "cellMetadata": {
      "byteLimit": 2048000,
      "rowLimit": 10000
     },
     "inputWidgets": {},
     "nuid": "89c15154-d3ad-4350-b630-3fc2f5f2ac06",
     "showTitle": false,
     "title": ""
    }
   },
   "outputs": [],
   "source": [
    "class_mat_test = classification_report(Z_test, svmfit.predict(X_test.reshape(-1, 1)))\n",
    "print(class_mat_test)"
   ]
  },
  {
   "cell_type": "markdown",
   "metadata": {
    "application/vnd.databricks.v1+cell": {
     "cellMetadata": {
      "byteLimit": 2048000,
      "rowLimit": 10000
     },
     "inputWidgets": {},
     "nuid": "7cfc98a2-15ce-41ee-9c6f-b9ff9bd2fbf7",
     "showTitle": false,
     "title": ""
    }
   },
   "source": [
    "### Support vector classifier (linear kernel)"
   ]
  },
  {
   "cell_type": "code",
   "execution_count": 0,
   "metadata": {
    "application/vnd.databricks.v1+cell": {
     "cellMetadata": {
      "byteLimit": 2048000,
      "rowLimit": 10000
     },
     "inputWidgets": {},
     "nuid": "3589a10d-b808-4293-8fa3-c3dbf73ed2f5",
     "showTitle": false,
     "title": ""
    }
   },
   "outputs": [],
   "source": [
    "svmfit_linear = SVC(kernel='linear', C=40).fit(X_train.reshape(-1, 1), Z_train)"
   ]
  },
  {
   "cell_type": "code",
   "execution_count": 0,
   "metadata": {
    "application/vnd.databricks.v1+cell": {
     "cellMetadata": {
      "byteLimit": 2048000,
      "rowLimit": 10000
     },
     "inputWidgets": {},
     "nuid": "2d445743-3b11-4d7d-90f0-be729d0dc7a7",
     "showTitle": false,
     "title": ""
    }
   },
   "outputs": [],
   "source": [
    "conf_mat_linear_train = pd.DataFrame(confusion_matrix(Z_train, svmfit_linear.predict(X_train.reshape(-1,1))).T, index = svmfit_linear.classes_, columns = svmfit.classes_)\n",
    "conf_mat_linear_train"
   ]
  },
  {
   "cell_type": "code",
   "execution_count": 0,
   "metadata": {
    "application/vnd.databricks.v1+cell": {
     "cellMetadata": {
      "byteLimit": 2048000,
      "rowLimit": 10000
     },
     "inputWidgets": {},
     "nuid": "00f7ec0c-cc11-4918-8b3e-21ab74fb3d38",
     "showTitle": false,
     "title": ""
    }
   },
   "outputs": [],
   "source": [
    "class_mat_linear_train = classification_report(Z_train, svmfit_linear.predict(X_train.reshape(-1, 1)))\n",
    "print(class_mat_linear_train)"
   ]
  },
  {
   "cell_type": "code",
   "execution_count": 0,
   "metadata": {
    "application/vnd.databricks.v1+cell": {
     "cellMetadata": {
      "byteLimit": 2048000,
      "rowLimit": 10000
     },
     "inputWidgets": {},
     "nuid": "d2e5fe9c-3734-46da-9e9a-069d67897441",
     "showTitle": false,
     "title": ""
    }
   },
   "outputs": [],
   "source": [
    "conf_mat_linear_test = pd.DataFrame(confusion_matrix(Z_test, svmfit_linear.predict(X_test.reshape(-1,1))).T, index = svmfit_linear.classes_, columns = svmfit.classes_)\n",
    "conf_mat_linear_test"
   ]
  },
  {
   "cell_type": "code",
   "execution_count": 0,
   "metadata": {
    "application/vnd.databricks.v1+cell": {
     "cellMetadata": {
      "byteLimit": 2048000,
      "rowLimit": 10000
     },
     "inputWidgets": {},
     "nuid": "f5885b43-9aa3-43df-ae3a-23682d67da7c",
     "showTitle": false,
     "title": ""
    }
   },
   "outputs": [],
   "source": [
    "class_mat_linear_test = classification_report(Z_test, svmfit_linear.predict(X_test.reshape(-1, 1)))\n",
    "print(class_mat_linear_test)"
   ]
  },
  {
   "cell_type": "markdown",
   "metadata": {
    "application/vnd.databricks.v1+cell": {
     "cellMetadata": {
      "byteLimit": 2048000,
      "rowLimit": 10000
     },
     "inputWidgets": {},
     "nuid": "2e534010-5e9b-4c9d-9e84-6c3df2f57b04",
     "showTitle": false,
     "title": ""
    }
   },
   "source": [
    "Therefore, there is no difference between the performance of a linear and non-linear kernel on training data. But, non-linear kernel outperforms linear kernel on test data."
   ]
  },
  {
   "cell_type": "code",
   "execution_count": 0,
   "metadata": {
    "application/vnd.databricks.v1+cell": {
     "cellMetadata": {
      "byteLimit": 2048000,
      "rowLimit": 10000
     },
     "inputWidgets": {},
     "nuid": "a3511a9e-5e45-4802-9b6c-c49e594a7542",
     "showTitle": false,
     "title": ""
    }
   },
   "outputs": [],
   "source": []
  }
 ],
 "metadata": {
  "application/vnd.databricks.v1+notebook": {
   "dashboards": [],
   "language": "python",
   "notebookMetadata": {
    "pythonIndentUnit": 2
   },
   "notebookName": "Question 4 - answers",
   "widgets": {}
  }
 },
 "nbformat": 4,
 "nbformat_minor": 0
}
