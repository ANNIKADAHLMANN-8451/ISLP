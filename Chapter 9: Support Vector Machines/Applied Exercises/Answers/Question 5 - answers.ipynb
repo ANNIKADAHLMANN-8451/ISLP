{
 "cells": [
  {
   "cell_type": "markdown",
   "metadata": {
    "application/vnd.databricks.v1+cell": {
     "cellMetadata": {
      "byteLimit": 2048000,
      "rowLimit": 10000
     },
     "inputWidgets": {},
     "nuid": "4e5707c7-dbdb-4bae-8e12-06b1dbd78a60",
     "showTitle": false,
     "title": ""
    }
   },
   "source": [
    "We have seen that we can ft an SVM with a non-linear kernel in order\n",
    "to perform classifcation using a non-linear decision boundary. We will\n",
    "now see that we can also obtain a non-linear decision boundary by\n",
    "performing logistic regression using non-linear transformations of the\n",
    "features."
   ]
  },
  {
   "cell_type": "markdown",
   "metadata": {
    "application/vnd.databricks.v1+cell": {
     "cellMetadata": {
      "byteLimit": 2048000,
      "rowLimit": 10000
     },
     "inputWidgets": {},
     "nuid": "b9d97b2f-3866-49f6-8bf2-90f8e6aad30f",
     "showTitle": false,
     "title": ""
    }
   },
   "source": [
    "## Preprocessing"
   ]
  },
  {
   "cell_type": "code",
   "execution_count": 0,
   "metadata": {
    "application/vnd.databricks.v1+cell": {
     "cellMetadata": {
      "byteLimit": 2048000,
      "rowLimit": 10000
     },
     "inputWidgets": {},
     "nuid": "6bee1624-7cb8-4011-bc66-cd73ebcc8867",
     "showTitle": false,
     "title": ""
    }
   },
   "outputs": [],
   "source": [
    "import numpy as np\n",
    "import pandas as pd"
   ]
  },
  {
   "cell_type": "code",
   "execution_count": 0,
   "metadata": {
    "application/vnd.databricks.v1+cell": {
     "cellMetadata": {
      "byteLimit": 2048000,
      "rowLimit": 10000
     },
     "inputWidgets": {},
     "nuid": "3d8bac87-f8e3-4cb7-9a6e-de0fd5649971",
     "showTitle": false,
     "title": ""
    }
   },
   "outputs": [],
   "source": [
    "import matplotlib.pyplot as plt\n",
    "import seaborn as sns\n",
    "%matplotlib inline"
   ]
  },
  {
   "cell_type": "markdown",
   "metadata": {
    "application/vnd.databricks.v1+cell": {
     "cellMetadata": {
      "byteLimit": 2048000,
      "rowLimit": 10000
     },
     "inputWidgets": {},
     "nuid": "1dd0e23b-1eb0-4b85-bc89-e7feb331f7e1",
     "showTitle": false,
     "title": ""
    }
   },
   "source": [
    "**a. Generate a data set with n = 500 and p = 2, such that the observations belong to two classes with a quadratic decision boundary\n",
    "between them. For instance, you can do this as follows:**"
   ]
  },
  {
   "cell_type": "code",
   "execution_count": 0,
   "metadata": {
    "application/vnd.databricks.v1+cell": {
     "cellMetadata": {
      "byteLimit": 2048000,
      "rowLimit": 10000
     },
     "inputWidgets": {},
     "nuid": "494aca82-8d86-4153-9c47-a59962deb161",
     "showTitle": false,
     "title": ""
    }
   },
   "outputs": [],
   "source": [
    "x1 = np.random.uniform(size=500) - 0.5\n",
    "x2 = np.random.uniform(size=500) - 0.5\n",
    "y = 1 * (x1**2 - x2**2 > 0)"
   ]
  },
  {
   "cell_type": "markdown",
   "metadata": {
    "application/vnd.databricks.v1+cell": {
     "cellMetadata": {
      "byteLimit": 2048000,
      "rowLimit": 10000
     },
     "inputWidgets": {},
     "nuid": "9d20f20b-2604-43aa-94d0-46984af9287e",
     "showTitle": false,
     "title": ""
    }
   },
   "source": [
    "**b. Plot the observations, colored according to their class labels.\n",
    "Your plot should display X1 on the x-axis, and X2 on the y-axis.**"
   ]
  },
  {
   "cell_type": "code",
   "execution_count": 0,
   "metadata": {
    "application/vnd.databricks.v1+cell": {
     "cellMetadata": {
      "byteLimit": 2048000,
      "rowLimit": 10000
     },
     "inputWidgets": {},
     "nuid": "42162939-65db-43b3-9c77-5635226bd5aa",
     "showTitle": false,
     "title": ""
    }
   },
   "outputs": [],
   "source": [
    "plt.xkcd()\n",
    "plt.figure(figsize=(25, 10))\n",
    "plt.scatter(x=x1[y==0], y=x2[y==0], cmap='viridis', c='orange', s=500, marker='o', alpha=0.75)\n",
    "plt.scatter(x=x1[y==1], y=x2[y==1], cmap='viridis', c='green', s=500, marker='o', alpha=0.75)\n",
    "plt.title('observations', color='m', fontsize=30)\n",
    "plt.xlabel('X1', color='orange', fontsize=20)\n",
    "plt.ylabel('X2', color='green', fontsize=20)"
   ]
  },
  {
   "cell_type": "markdown",
   "metadata": {
    "application/vnd.databricks.v1+cell": {
     "cellMetadata": {
      "byteLimit": 2048000,
      "rowLimit": 10000
     },
     "inputWidgets": {},
     "nuid": "6c5c5493-d407-46d1-bb3b-5a4fd58c1d90",
     "showTitle": false,
     "title": ""
    }
   },
   "source": [
    "Clearly, there is a non-linear decision boundary."
   ]
  },
  {
   "cell_type": "markdown",
   "metadata": {
    "application/vnd.databricks.v1+cell": {
     "cellMetadata": {
      "byteLimit": 2048000,
      "rowLimit": 10000
     },
     "inputWidgets": {},
     "nuid": "8f3872b0-e8ca-4bae-8db2-07322b2b63b8",
     "showTitle": false,
     "title": ""
    }
   },
   "source": [
    "**c. Fit a logistic regression model to the data, using X1 and X2 as\n",
    "predictors.**"
   ]
  },
  {
   "cell_type": "code",
   "execution_count": 0,
   "metadata": {
    "application/vnd.databricks.v1+cell": {
     "cellMetadata": {
      "byteLimit": 2048000,
      "rowLimit": 10000
     },
     "inputWidgets": {},
     "nuid": "fa322d53-2666-4a73-b4bb-35e3af4dc6c1",
     "showTitle": false,
     "title": ""
    }
   },
   "outputs": [],
   "source": [
    "from sklearn.linear_model import LogisticRegression\n",
    "from sklearn.model_selection import train_test_split"
   ]
  },
  {
   "cell_type": "code",
   "execution_count": 0,
   "metadata": {
    "application/vnd.databricks.v1+cell": {
     "cellMetadata": {
      "byteLimit": 2048000,
      "rowLimit": 10000
     },
     "inputWidgets": {},
     "nuid": "0a57b1a1-b6a5-46ad-a48a-dab196ee9475",
     "showTitle": false,
     "title": ""
    }
   },
   "outputs": [],
   "source": [
    "X = pd.concat([pd.DataFrame([x1]), pd.DataFrame([x2])], axis=0).T\n",
    "X.columns = ['X1', 'X2']\n",
    "X.head()"
   ]
  },
  {
   "cell_type": "code",
   "execution_count": 0,
   "metadata": {
    "application/vnd.databricks.v1+cell": {
     "cellMetadata": {
      "byteLimit": 2048000,
      "rowLimit": 10000
     },
     "inputWidgets": {},
     "nuid": "056e85b2-1bc8-4f3f-8b53-80ce2bd2cdf5",
     "showTitle": false,
     "title": ""
    }
   },
   "outputs": [],
   "source": [
    "logfit = LogisticRegression(solver='liblinear').fit(X, y.ravel())"
   ]
  },
  {
   "cell_type": "markdown",
   "metadata": {
    "application/vnd.databricks.v1+cell": {
     "cellMetadata": {
      "byteLimit": 2048000,
      "rowLimit": 10000
     },
     "inputWidgets": {},
     "nuid": "60c69a3c-927c-4a79-b6b8-fb771dc330aa",
     "showTitle": false,
     "title": ""
    }
   },
   "source": [
    "**d. Apply this model to the training data in order to obtain a predicted class label for each training observation. Plot the observations, colored according to the predicted class labels. The\n",
    "decision boundary should be linear.**"
   ]
  },
  {
   "cell_type": "code",
   "execution_count": 0,
   "metadata": {
    "application/vnd.databricks.v1+cell": {
     "cellMetadata": {
      "byteLimit": 2048000,
      "rowLimit": 10000
     },
     "inputWidgets": {},
     "nuid": "9dec9815-de17-4c39-8fda-bb7550f24692",
     "showTitle": false,
     "title": ""
    }
   },
   "outputs": [],
   "source": [
    "from sklearn.metrics import confusion_matrix, classification_report"
   ]
  },
  {
   "cell_type": "code",
   "execution_count": 0,
   "metadata": {
    "application/vnd.databricks.v1+cell": {
     "cellMetadata": {
      "byteLimit": 2048000,
      "rowLimit": 10000
     },
     "inputWidgets": {},
     "nuid": "556e5bc1-dd54-41ec-8468-9c66a0b78890",
     "showTitle": false,
     "title": ""
    }
   },
   "outputs": [],
   "source": [
    "Y = pd.DataFrame([y]).T\n",
    "df = pd.concat([Y, X], axis=1)\n",
    "df.columns = ['Y', 'X1', 'X2']\n",
    "df.head()"
   ]
  },
  {
   "cell_type": "code",
   "execution_count": 0,
   "metadata": {
    "application/vnd.databricks.v1+cell": {
     "cellMetadata": {
      "byteLimit": 2048000,
      "rowLimit": 10000
     },
     "inputWidgets": {},
     "nuid": "caaac47c-008d-49ff-b28e-b4044ddb38d6",
     "showTitle": false,
     "title": ""
    }
   },
   "outputs": [],
   "source": [
    "logpred = pd.DataFrame([logfit.predict(X)]).T\n",
    "logpred.columns = ['Y_PRED']\n",
    "logpred.head()"
   ]
  },
  {
   "cell_type": "code",
   "execution_count": 0,
   "metadata": {
    "application/vnd.databricks.v1+cell": {
     "cellMetadata": {
      "byteLimit": 2048000,
      "rowLimit": 10000
     },
     "inputWidgets": {},
     "nuid": "b43aae8d-f9a8-4573-9408-c6cdbc4cff12",
     "showTitle": false,
     "title": ""
    }
   },
   "outputs": [],
   "source": [
    "df = pd.concat([logpred, df], axis=1,  sort=False)\n",
    "df.head()"
   ]
  },
  {
   "cell_type": "code",
   "execution_count": 0,
   "metadata": {
    "application/vnd.databricks.v1+cell": {
     "cellMetadata": {
      "byteLimit": 2048000,
      "rowLimit": 10000
     },
     "inputWidgets": {},
     "nuid": "bc4370e0-49aa-4df6-bb31-42f91db8f8b0",
     "showTitle": false,
     "title": ""
    }
   },
   "outputs": [],
   "source": [
    "plt.xkcd()\n",
    "plt.figure(figsize=(25, 10))\n",
    "plt.scatter(x=df.X1[df.Y_PRED==0], y=df.X2[df.Y_PRED==0], cmap='viridis', c='orange', s=500, marker='o', alpha=0.75)\n",
    "plt.scatter(x=df.X1[df.Y_PRED==1], y=df.X2[df.Y_PRED==1], cmap='viridis', c='green', s=500, marker='o', alpha=0.75)\n",
    "plt.title('observations', color='m', fontsize=30)\n",
    "plt.xlabel('X1', color='orange', fontsize=20)\n",
    "plt.ylabel('X2', color='green', fontsize=20)"
   ]
  },
  {
   "cell_type": "code",
   "execution_count": 0,
   "metadata": {
    "application/vnd.databricks.v1+cell": {
     "cellMetadata": {
      "byteLimit": 2048000,
      "rowLimit": 10000
     },
     "inputWidgets": {},
     "nuid": "d66458e0-6c07-4d39-be11-a828fa974cea",
     "showTitle": false,
     "title": ""
    }
   },
   "outputs": [],
   "source": [
    "conf_mat = pd.DataFrame(confusion_matrix(df.Y, df.Y_PRED).T, index = [0, 1], columns = [0, 1])\n",
    "conf_mat"
   ]
  },
  {
   "cell_type": "code",
   "execution_count": 0,
   "metadata": {
    "application/vnd.databricks.v1+cell": {
     "cellMetadata": {
      "byteLimit": 2048000,
      "rowLimit": 10000
     },
     "inputWidgets": {},
     "nuid": "3ea346f7-c5cd-445a-a6f5-0d24c572f5ed",
     "showTitle": false,
     "title": ""
    }
   },
   "outputs": [],
   "source": [
    "class_rep = classification_report(df.Y, df.Y_PRED)\n",
    "print(class_rep)"
   ]
  },
  {
   "cell_type": "markdown",
   "metadata": {
    "application/vnd.databricks.v1+cell": {
     "cellMetadata": {
      "byteLimit": 2048000,
      "rowLimit": 10000
     },
     "inputWidgets": {},
     "nuid": "61d47bee-b279-4620-8294-03d51b5e8576",
     "showTitle": false,
     "title": ""
    }
   },
   "source": [
    "Therefore, there is a linear decision boundary."
   ]
  },
  {
   "cell_type": "markdown",
   "metadata": {
    "application/vnd.databricks.v1+cell": {
     "cellMetadata": {
      "byteLimit": 2048000,
      "rowLimit": 10000
     },
     "inputWidgets": {},
     "nuid": "7eff168b-bf3d-4403-aaad-4122009d6152",
     "showTitle": false,
     "title": ""
    }
   },
   "source": [
    "**e. Now fit a logistic regression model to the data using non-linear\n",
    "functions of X1 and X2 as predictors (e.g. X_1^2, X1×X2, log(X2),\n",
    "and so forth).**"
   ]
  },
  {
   "cell_type": "markdown",
   "metadata": {
    "application/vnd.databricks.v1+cell": {
     "cellMetadata": {
      "byteLimit": 2048000,
      "rowLimit": 10000
     },
     "inputWidgets": {},
     "nuid": "ad2d89e6-5e0b-4f8a-aa4f-c60be1a1fbc2",
     "showTitle": false,
     "title": ""
    }
   },
   "source": [
    "$X_1$ x $X_2$"
   ]
  },
  {
   "cell_type": "code",
   "execution_count": 0,
   "metadata": {
    "application/vnd.databricks.v1+cell": {
     "cellMetadata": {
      "byteLimit": 2048000,
      "rowLimit": 10000
     },
     "inputWidgets": {},
     "nuid": "f6fc9ce4-e22e-43ab-abb1-583bf537311c",
     "showTitle": false,
     "title": ""
    }
   },
   "outputs": [],
   "source": [
    "x1x2 = x1*x2\n",
    "\n",
    "X = pd.concat([pd.DataFrame([x1]), pd.DataFrame([x2]), pd.DataFrame([x1x2])], axis=0).T\n",
    "X.columns = ['X1', 'X2', 'X1 x X2']\n",
    "X.head()"
   ]
  },
  {
   "cell_type": "code",
   "execution_count": 0,
   "metadata": {
    "application/vnd.databricks.v1+cell": {
     "cellMetadata": {
      "byteLimit": 2048000,
      "rowLimit": 10000
     },
     "inputWidgets": {},
     "nuid": "00979b3e-0dec-403b-8430-9204e7a9a79c",
     "showTitle": false,
     "title": ""
    }
   },
   "outputs": [],
   "source": [
    "logfitX1X2 = LogisticRegression(solver='liblinear').fit(X, y.ravel())"
   ]
  },
  {
   "cell_type": "code",
   "execution_count": 0,
   "metadata": {
    "application/vnd.databricks.v1+cell": {
     "cellMetadata": {
      "byteLimit": 2048000,
      "rowLimit": 10000
     },
     "inputWidgets": {},
     "nuid": "366837e9-fcdf-4b5d-b903-426e4fce1d12",
     "showTitle": false,
     "title": ""
    }
   },
   "outputs": [],
   "source": [
    "Y = pd.DataFrame([y]).T\n",
    "df = pd.concat([Y, X], axis=1)\n",
    "df.columns = ['Y', 'X1', 'X2', 'X1 x X2']\n",
    "df.head()"
   ]
  },
  {
   "cell_type": "code",
   "execution_count": 0,
   "metadata": {
    "application/vnd.databricks.v1+cell": {
     "cellMetadata": {
      "byteLimit": 2048000,
      "rowLimit": 10000
     },
     "inputWidgets": {},
     "nuid": "62226700-ece0-4bb2-b61d-0754a10c51d6",
     "showTitle": false,
     "title": ""
    }
   },
   "outputs": [],
   "source": [
    "logpred = pd.DataFrame([logfitX1X2.predict(X)]).T\n",
    "logpred.columns = ['Y_PRED']\n",
    "logpred.head()"
   ]
  },
  {
   "cell_type": "code",
   "execution_count": 0,
   "metadata": {
    "application/vnd.databricks.v1+cell": {
     "cellMetadata": {
      "byteLimit": 2048000,
      "rowLimit": 10000
     },
     "inputWidgets": {},
     "nuid": "6fb5e0e4-904d-4852-99b8-e2b51a273e53",
     "showTitle": false,
     "title": ""
    }
   },
   "outputs": [],
   "source": [
    "df = pd.concat([logpred, df], axis=1,  sort=False)\n",
    "df.head()"
   ]
  },
  {
   "cell_type": "code",
   "execution_count": 0,
   "metadata": {
    "application/vnd.databricks.v1+cell": {
     "cellMetadata": {
      "byteLimit": 2048000,
      "rowLimit": 10000
     },
     "inputWidgets": {},
     "nuid": "713b9404-2317-44ed-9d0c-a3d2a57dfc0c",
     "showTitle": false,
     "title": ""
    }
   },
   "outputs": [],
   "source": [
    "plt.xkcd()\n",
    "plt.figure(figsize=(25, 10))\n",
    "plt.scatter(x=df.X1[df.Y_PRED==0], y=df['X1 x X2'][df.Y_PRED==0], cmap='viridis', c='orange', s=500, marker='o', alpha=0.75)\n",
    "plt.scatter(x=df.X1[df.Y_PRED==1], y=df['X1 x X2'][df.Y_PRED==1], cmap='viridis', c='green', s=500, marker='o', alpha=0.75)\n",
    "plt.title('observations', color='m', fontsize=30)\n",
    "plt.xlabel('X1', color='orange', fontsize=20)\n",
    "plt.ylabel('X1 x X2', color='green', fontsize=20)"
   ]
  },
  {
   "cell_type": "code",
   "execution_count": 0,
   "metadata": {
    "application/vnd.databricks.v1+cell": {
     "cellMetadata": {
      "byteLimit": 2048000,
      "rowLimit": 10000
     },
     "inputWidgets": {},
     "nuid": "edee9c7c-f2e2-4ece-9d1a-2cff148c8efa",
     "showTitle": false,
     "title": ""
    }
   },
   "outputs": [],
   "source": [
    "plt.xkcd()\n",
    "plt.figure(figsize=(25, 10))\n",
    "plt.scatter(x=df.X2[df.Y_PRED==0], y=df['X1 x X2'][df.Y_PRED==0], cmap='viridis', c='orange', s=500, marker='o', alpha=0.75)\n",
    "plt.scatter(x=df.X2[df.Y_PRED==1], y=df['X1 x X2'][df.Y_PRED==1], cmap='viridis', c='green', s=500, marker='o', alpha=0.75)\n",
    "plt.title('observations', color='m', fontsize=30)\n",
    "plt.xlabel('X1', color='orange', fontsize=20)\n",
    "plt.ylabel('X1 x X2', color='green', fontsize=20)"
   ]
  },
  {
   "cell_type": "code",
   "execution_count": 0,
   "metadata": {
    "application/vnd.databricks.v1+cell": {
     "cellMetadata": {
      "byteLimit": 2048000,
      "rowLimit": 10000
     },
     "inputWidgets": {},
     "nuid": "de300249-f132-409e-8f91-d2a7599f9a89",
     "showTitle": false,
     "title": ""
    }
   },
   "outputs": [],
   "source": [
    "conf_mat = pd.DataFrame(confusion_matrix(df.Y, df.Y_PRED).T, index = [0, 1], columns = [0, 1])\n",
    "conf_mat"
   ]
  },
  {
   "cell_type": "code",
   "execution_count": 0,
   "metadata": {
    "application/vnd.databricks.v1+cell": {
     "cellMetadata": {
      "byteLimit": 2048000,
      "rowLimit": 10000
     },
     "inputWidgets": {},
     "nuid": "da25c25f-6778-470d-8d76-b3545eafa8a7",
     "showTitle": false,
     "title": ""
    }
   },
   "outputs": [],
   "source": [
    "class_rep = classification_report(df.Y, df.Y_PRED)\n",
    "print(class_rep)"
   ]
  },
  {
   "cell_type": "markdown",
   "metadata": {
    "application/vnd.databricks.v1+cell": {
     "cellMetadata": {
      "byteLimit": 2048000,
      "rowLimit": 10000
     },
     "inputWidgets": {},
     "nuid": "6e703523-6e51-4222-b377-50d3742977c3",
     "showTitle": false,
     "title": ""
    }
   },
   "source": [
    "X_1^2"
   ]
  },
  {
   "cell_type": "code",
   "execution_count": 0,
   "metadata": {
    "application/vnd.databricks.v1+cell": {
     "cellMetadata": {
      "byteLimit": 2048000,
      "rowLimit": 10000
     },
     "inputWidgets": {},
     "nuid": "fa43d7c9-da41-459e-9d22-e32aa221c0a0",
     "showTitle": false,
     "title": ""
    }
   },
   "outputs": [],
   "source": [
    "x12 = x1**2\n",
    "\n",
    "X = pd.concat([pd.DataFrame([x1]), pd.DataFrame([x2]), pd.DataFrame([x12])], axis=0).T\n",
    "X.columns = ['X1', 'X2', 'X1^2']\n",
    "X.head()"
   ]
  },
  {
   "cell_type": "code",
   "execution_count": 0,
   "metadata": {
    "application/vnd.databricks.v1+cell": {
     "cellMetadata": {
      "byteLimit": 2048000,
      "rowLimit": 10000
     },
     "inputWidgets": {},
     "nuid": "5742aed0-ff2d-437b-9c8f-ba7ccccce1d7",
     "showTitle": false,
     "title": ""
    }
   },
   "outputs": [],
   "source": [
    "logfitX12 = LogisticRegression(solver='liblinear').fit(X, y.ravel())"
   ]
  },
  {
   "cell_type": "code",
   "execution_count": 0,
   "metadata": {
    "application/vnd.databricks.v1+cell": {
     "cellMetadata": {
      "byteLimit": 2048000,
      "rowLimit": 10000
     },
     "inputWidgets": {},
     "nuid": "ac1f6abc-c125-42ec-a903-e3c098b5ab19",
     "showTitle": false,
     "title": ""
    }
   },
   "outputs": [],
   "source": [
    "Y = pd.DataFrame([y]).T\n",
    "df = pd.concat([Y, X], axis=1)\n",
    "df.columns = ['Y', 'X1', 'X2', 'X1^2']\n",
    "df.head()"
   ]
  },
  {
   "cell_type": "code",
   "execution_count": 0,
   "metadata": {
    "application/vnd.databricks.v1+cell": {
     "cellMetadata": {
      "byteLimit": 2048000,
      "rowLimit": 10000
     },
     "inputWidgets": {},
     "nuid": "15aaf4c7-a9a0-4c33-9f03-5b7730dffae8",
     "showTitle": false,
     "title": ""
    }
   },
   "outputs": [],
   "source": [
    "logpred = pd.DataFrame([logfitX12.predict(X)]).T\n",
    "logpred.columns = ['Y_PRED']\n",
    "logpred.head()"
   ]
  },
  {
   "cell_type": "code",
   "execution_count": 0,
   "metadata": {
    "application/vnd.databricks.v1+cell": {
     "cellMetadata": {
      "byteLimit": 2048000,
      "rowLimit": 10000
     },
     "inputWidgets": {},
     "nuid": "7c126d6a-634e-43c4-95da-8ca0a42d074a",
     "showTitle": false,
     "title": ""
    }
   },
   "outputs": [],
   "source": [
    "df = pd.concat([logpred, df], axis=1,  sort=False)\n",
    "df.head()"
   ]
  },
  {
   "cell_type": "code",
   "execution_count": 0,
   "metadata": {
    "application/vnd.databricks.v1+cell": {
     "cellMetadata": {
      "byteLimit": 2048000,
      "rowLimit": 10000
     },
     "inputWidgets": {},
     "nuid": "74a0f2d2-7565-436c-9c21-f2eb566c31b6",
     "showTitle": false,
     "title": ""
    }
   },
   "outputs": [],
   "source": [
    "plt.xkcd()\n",
    "plt.figure(figsize=(25, 10))\n",
    "plt.scatter(x=df.X1[df.Y_PRED==0], y=df['X1^2'][df.Y_PRED==0], cmap='viridis', c='orange', s=500, marker='o', alpha=0.75)\n",
    "plt.scatter(x=df.X1[df.Y_PRED==1], y=df['X1^2'][df.Y_PRED==1], cmap='viridis', c='green', s=500, marker='o', alpha=0.75)\n",
    "plt.title('observations', color='m', fontsize=30)\n",
    "plt.xlabel('X1', color='orange', fontsize=20)\n",
    "plt.ylabel('X1^2', color='green', fontsize=20)"
   ]
  },
  {
   "cell_type": "code",
   "execution_count": 0,
   "metadata": {
    "application/vnd.databricks.v1+cell": {
     "cellMetadata": {
      "byteLimit": 2048000,
      "rowLimit": 10000
     },
     "inputWidgets": {},
     "nuid": "34a32722-7205-418a-9856-c74d4cbe5caf",
     "showTitle": false,
     "title": ""
    }
   },
   "outputs": [],
   "source": [
    "plt.xkcd()\n",
    "plt.figure(figsize=(25, 10))\n",
    "plt.scatter(x=df.X2[df.Y_PRED==0], y=df['X1^2'][df.Y_PRED==0], cmap='viridis', c='orange', s=500, marker='o', alpha=0.75)\n",
    "plt.scatter(x=df.X2[df.Y_PRED==1], y=df['X1^2'][df.Y_PRED==1], cmap='viridis', c='green', s=500, marker='o', alpha=0.75)\n",
    "plt.title('observations', color='m', fontsize=30)\n",
    "plt.xlabel('X1', color='orange', fontsize=20)\n",
    "plt.ylabel('X1^2', color='green', fontsize=20)"
   ]
  },
  {
   "cell_type": "code",
   "execution_count": 0,
   "metadata": {
    "application/vnd.databricks.v1+cell": {
     "cellMetadata": {
      "byteLimit": 2048000,
      "rowLimit": 10000
     },
     "inputWidgets": {},
     "nuid": "eba61e51-6145-4786-9816-353c765ff68e",
     "showTitle": false,
     "title": ""
    }
   },
   "outputs": [],
   "source": [
    "conf_mat = pd.DataFrame(confusion_matrix(df.Y, df.Y_PRED).T, index = [0, 1], columns = [0, 1])\n",
    "conf_mat"
   ]
  },
  {
   "cell_type": "code",
   "execution_count": 0,
   "metadata": {
    "application/vnd.databricks.v1+cell": {
     "cellMetadata": {
      "byteLimit": 2048000,
      "rowLimit": 10000
     },
     "inputWidgets": {},
     "nuid": "9c7004fa-6913-43a7-8c09-f7167218bbe4",
     "showTitle": false,
     "title": ""
    }
   },
   "outputs": [],
   "source": [
    "class_rep = classification_report(df.Y, df.Y_PRED)\n",
    "print(class_rep)"
   ]
  },
  {
   "cell_type": "markdown",
   "metadata": {
    "application/vnd.databricks.v1+cell": {
     "cellMetadata": {
      "byteLimit": 2048000,
      "rowLimit": 10000
     },
     "inputWidgets": {},
     "nuid": "d6719030-1bbd-46fb-b232-5f9a29464b70",
     "showTitle": false,
     "title": ""
    }
   },
   "source": [
    "X_2^2"
   ]
  },
  {
   "cell_type": "code",
   "execution_count": 0,
   "metadata": {
    "application/vnd.databricks.v1+cell": {
     "cellMetadata": {
      "byteLimit": 2048000,
      "rowLimit": 10000
     },
     "inputWidgets": {},
     "nuid": "61fa8989-c4aa-41c5-80cf-824e95583dcd",
     "showTitle": false,
     "title": ""
    }
   },
   "outputs": [],
   "source": [
    "x22 = x2**2\n",
    "\n",
    "X = pd.concat([pd.DataFrame([x1]), pd.DataFrame([x2]), pd.DataFrame([x22])], axis=0).T\n",
    "X.columns = ['X1', 'X2', 'X2^2']\n",
    "X.head()"
   ]
  },
  {
   "cell_type": "code",
   "execution_count": 0,
   "metadata": {
    "application/vnd.databricks.v1+cell": {
     "cellMetadata": {
      "byteLimit": 2048000,
      "rowLimit": 10000
     },
     "inputWidgets": {},
     "nuid": "f3141356-0492-4fbe-8656-79ce31c947db",
     "showTitle": false,
     "title": ""
    }
   },
   "outputs": [],
   "source": [
    "logfitX22 = LogisticRegression(solver='liblinear').fit(X, y.ravel())"
   ]
  },
  {
   "cell_type": "code",
   "execution_count": 0,
   "metadata": {
    "application/vnd.databricks.v1+cell": {
     "cellMetadata": {
      "byteLimit": 2048000,
      "rowLimit": 10000
     },
     "inputWidgets": {},
     "nuid": "9071dab3-c2a3-48c6-8079-6092a7db63bc",
     "showTitle": false,
     "title": ""
    }
   },
   "outputs": [],
   "source": [
    "Y = pd.DataFrame([y]).T\n",
    "df = pd.concat([Y, X], axis=1)\n",
    "df.columns = ['Y', 'X1', 'X2', 'X2^2']\n",
    "df.head()"
   ]
  },
  {
   "cell_type": "code",
   "execution_count": 0,
   "metadata": {
    "application/vnd.databricks.v1+cell": {
     "cellMetadata": {
      "byteLimit": 2048000,
      "rowLimit": 10000
     },
     "inputWidgets": {},
     "nuid": "b1122d1b-5150-4c2c-9a3c-cde39a441bbc",
     "showTitle": false,
     "title": ""
    }
   },
   "outputs": [],
   "source": [
    "logpred = pd.DataFrame([logfitX12.predict(X)]).T\n",
    "logpred.columns = ['Y_PRED']\n",
    "logpred.head()"
   ]
  },
  {
   "cell_type": "code",
   "execution_count": 0,
   "metadata": {
    "application/vnd.databricks.v1+cell": {
     "cellMetadata": {
      "byteLimit": 2048000,
      "rowLimit": 10000
     },
     "inputWidgets": {},
     "nuid": "78295b62-9f40-4a27-bb04-93b9ea4d94e0",
     "showTitle": false,
     "title": ""
    }
   },
   "outputs": [],
   "source": [
    "df = pd.concat([logpred, df], axis=1,  sort=False)\n",
    "df.head()"
   ]
  },
  {
   "cell_type": "code",
   "execution_count": 0,
   "metadata": {
    "application/vnd.databricks.v1+cell": {
     "cellMetadata": {
      "byteLimit": 2048000,
      "rowLimit": 10000
     },
     "inputWidgets": {},
     "nuid": "0f848294-d9e0-4a98-825e-75162239c815",
     "showTitle": false,
     "title": ""
    }
   },
   "outputs": [],
   "source": [
    "plt.xkcd()\n",
    "plt.figure(figsize=(25, 10))\n",
    "plt.scatter(x=df.X1[df.Y_PRED==0], y=df['X2^2'][df.Y_PRED==0], cmap='viridis', c='orange', s=500, marker='o', alpha=0.75)\n",
    "plt.scatter(x=df.X1[df.Y_PRED==1], y=df['X2^2'][df.Y_PRED==1], cmap='viridis', c='green', s=500, marker='o', alpha=0.75)\n",
    "plt.title('observations', color='m', fontsize=30)\n",
    "plt.xlabel('X1', color='orange', fontsize=20)\n",
    "plt.ylabel('X2^2', color='green', fontsize=20)"
   ]
  },
  {
   "cell_type": "code",
   "execution_count": 0,
   "metadata": {
    "application/vnd.databricks.v1+cell": {
     "cellMetadata": {
      "byteLimit": 2048000,
      "rowLimit": 10000
     },
     "inputWidgets": {},
     "nuid": "19c73792-1271-411e-b413-1ae01e2d0752",
     "showTitle": false,
     "title": ""
    }
   },
   "outputs": [],
   "source": [
    "plt.xkcd()\n",
    "plt.figure(figsize=(25, 10))\n",
    "plt.scatter(x=df.X2[df.Y_PRED==0], y=df['X2^2'][df.Y_PRED==0], cmap='viridis', c='orange', s=500, marker='o', alpha=0.75)\n",
    "plt.scatter(x=df.X2[df.Y_PRED==1], y=df['X2^2'][df.Y_PRED==1], cmap='viridis', c='green', s=500, marker='o', alpha=0.75)\n",
    "plt.title('observations', color='m', fontsize=30)\n",
    "plt.xlabel('X1', color='orange', fontsize=20)\n",
    "plt.ylabel('X2^2', color='green', fontsize=20)"
   ]
  },
  {
   "cell_type": "code",
   "execution_count": 0,
   "metadata": {
    "application/vnd.databricks.v1+cell": {
     "cellMetadata": {
      "byteLimit": 2048000,
      "rowLimit": 10000
     },
     "inputWidgets": {},
     "nuid": "6027b3d4-f282-4342-9a97-1ffb968848e9",
     "showTitle": false,
     "title": ""
    }
   },
   "outputs": [],
   "source": [
    "conf_mat = pd.DataFrame(confusion_matrix(df.Y, df.Y_PRED).T, index = [0, 1], columns = [0, 1])\n",
    "conf_mat"
   ]
  },
  {
   "cell_type": "code",
   "execution_count": 0,
   "metadata": {
    "application/vnd.databricks.v1+cell": {
     "cellMetadata": {
      "byteLimit": 2048000,
      "rowLimit": 10000
     },
     "inputWidgets": {},
     "nuid": "2e6184b6-abd4-41c3-ae43-da8ab36ab838",
     "showTitle": false,
     "title": ""
    }
   },
   "outputs": [],
   "source": [
    "class_rep = classification_report(df.Y, df.Y_PRED)\n",
    "print(class_rep)"
   ]
  },
  {
   "cell_type": "markdown",
   "metadata": {
    "application/vnd.databricks.v1+cell": {
     "cellMetadata": {
      "byteLimit": 2048000,
      "rowLimit": 10000
     },
     "inputWidgets": {},
     "nuid": "91f0fba7-4a34-45c5-b050-da75e14813bf",
     "showTitle": false,
     "title": ""
    }
   },
   "source": [
    "Therefore, the non-linear boundaries don't really explain the true decision boundary well ($X1^2$ is still able to approximate the true decision boundary somewhat)."
   ]
  },
  {
   "cell_type": "markdown",
   "metadata": {
    "application/vnd.databricks.v1+cell": {
     "cellMetadata": {
      "byteLimit": 2048000,
      "rowLimit": 10000
     },
     "inputWidgets": {},
     "nuid": "0672b0df-e820-4950-a564-a970dae4557b",
     "showTitle": false,
     "title": ""
    }
   },
   "source": [
    "**g. Fit a support vector classifer to the data with X1 and X2 as\n",
    "predictors. Obtain a class prediction for each training observation. Plot the observations, colored according to the predicted\n",
    "class labels.**"
   ]
  },
  {
   "cell_type": "code",
   "execution_count": 0,
   "metadata": {
    "application/vnd.databricks.v1+cell": {
     "cellMetadata": {
      "byteLimit": 2048000,
      "rowLimit": 10000
     },
     "inputWidgets": {},
     "nuid": "d673a2e9-8905-4f47-a8bc-300b9ae9ff6d",
     "showTitle": false,
     "title": ""
    }
   },
   "outputs": [],
   "source": [
    "from sklearn.svm import SVC"
   ]
  },
  {
   "cell_type": "code",
   "execution_count": 0,
   "metadata": {
    "application/vnd.databricks.v1+cell": {
     "cellMetadata": {
      "byteLimit": 2048000,
      "rowLimit": 10000
     },
     "inputWidgets": {},
     "nuid": "ef9894f4-92cc-4ea2-bf56-fbd45204c3a7",
     "showTitle": false,
     "title": ""
    }
   },
   "outputs": [],
   "source": [
    "X = pd.concat([pd.DataFrame([x1]), pd.DataFrame([x2])], axis=0).T\n",
    "X.columns = ['X1', 'X2']\n",
    "X.head()"
   ]
  },
  {
   "cell_type": "code",
   "execution_count": 0,
   "metadata": {
    "application/vnd.databricks.v1+cell": {
     "cellMetadata": {
      "byteLimit": 2048000,
      "rowLimit": 10000
     },
     "inputWidgets": {},
     "nuid": "09ed06ac-6572-4c71-b71f-5f83d202e519",
     "showTitle": false,
     "title": ""
    }
   },
   "outputs": [],
   "source": [
    "Y = pd.DataFrame([y]).T\n",
    "df = pd.concat([Y, X], axis=1)\n",
    "df.columns = ['Y', 'X1', 'X2']\n",
    "df.head()"
   ]
  },
  {
   "cell_type": "code",
   "execution_count": 0,
   "metadata": {
    "application/vnd.databricks.v1+cell": {
     "cellMetadata": {
      "byteLimit": 2048000,
      "rowLimit": 10000
     },
     "inputWidgets": {},
     "nuid": "f76edd3f-5143-4869-a7a7-f34bfb4e4f49",
     "showTitle": false,
     "title": ""
    }
   },
   "outputs": [],
   "source": [
    "svmfit = SVC(kernel='linear', C=10).fit(X, y)"
   ]
  },
  {
   "cell_type": "code",
   "execution_count": 0,
   "metadata": {
    "application/vnd.databricks.v1+cell": {
     "cellMetadata": {
      "byteLimit": 2048000,
      "rowLimit": 10000
     },
     "inputWidgets": {},
     "nuid": "7b01604c-f94e-49a8-acf2-c55f5d8bc298",
     "showTitle": false,
     "title": ""
    }
   },
   "outputs": [],
   "source": [
    "def svmplot(svc, X, y, height=0.02, buffer=0.25):\n",
    "    x_min, x_max = X.X1.min()-buffer, X.X1.max()+buffer\n",
    "    y_min, y_max = X.X2.min()-buffer, X.X2.max()+buffer\n",
    "    xx, yy = np.meshgrid(np.arange(x_min, x_max, height), np.arange(y_min, y_max, height))\n",
    "    Z = svc.predict(np.c_[xx.ravel(), yy.ravel()])\n",
    "    Z = Z.reshape(xx.shape)\n",
    "    plt.contourf(xx, yy, Z, cmap=plt.cm.Paired, alpha=0.2)\n",
    "    \n",
    "plt.xkcd()\n",
    "plt.figure(figsize=(25, 10))\n",
    "svmplot(svmfit, X, y)\n",
    "colors = ['orange' if yy == 1 else 'green' for yy in y]\n",
    "plt.scatter(X.X1[:],X.X2[:], marker='o', s=250, c=colors, alpha=0.75)\n",
    "plt.title('support vector classifier', color='m', fontsize=30)\n",
    "plt.xlabel('X[:, 0]', color='green', fontsize=20)\n",
    "plt.ylabel('X[:, 1]', color='orange', fontsize=20)"
   ]
  },
  {
   "cell_type": "code",
   "execution_count": 0,
   "metadata": {
    "application/vnd.databricks.v1+cell": {
     "cellMetadata": {
      "byteLimit": 2048000,
      "rowLimit": 10000
     },
     "inputWidgets": {},
     "nuid": "934cee4e-fd21-4cba-8429-0481926ea54c",
     "showTitle": false,
     "title": ""
    }
   },
   "outputs": [],
   "source": [
    "svmpred = pd.DataFrame([svmfit.predict(X)]).T\n",
    "svmpred.columns = ['Y_PRED']\n",
    "svmpred.head()"
   ]
  },
  {
   "cell_type": "code",
   "execution_count": 0,
   "metadata": {
    "application/vnd.databricks.v1+cell": {
     "cellMetadata": {
      "byteLimit": 2048000,
      "rowLimit": 10000
     },
     "inputWidgets": {},
     "nuid": "3af9f45e-7690-4301-953e-46c5137604f7",
     "showTitle": false,
     "title": ""
    }
   },
   "outputs": [],
   "source": [
    "df = pd.concat([svmpred, df], axis=1,)\n",
    "df.head()"
   ]
  },
  {
   "cell_type": "code",
   "execution_count": 0,
   "metadata": {
    "application/vnd.databricks.v1+cell": {
     "cellMetadata": {
      "byteLimit": 2048000,
      "rowLimit": 10000
     },
     "inputWidgets": {},
     "nuid": "eb62b281-37eb-4679-aa11-9ccc142fbafd",
     "showTitle": false,
     "title": ""
    }
   },
   "outputs": [],
   "source": [
    "conf_mat = pd.DataFrame(confusion_matrix(df.Y, df.Y_PRED).T, index = [0, 1], columns = [0, 1])\n",
    "conf_mat"
   ]
  },
  {
   "cell_type": "code",
   "execution_count": 0,
   "metadata": {
    "application/vnd.databricks.v1+cell": {
     "cellMetadata": {
      "byteLimit": 2048000,
      "rowLimit": 10000
     },
     "inputWidgets": {},
     "nuid": "5c4dfdfe-d801-4c3f-95bb-45eee41b3efa",
     "showTitle": false,
     "title": ""
    }
   },
   "outputs": [],
   "source": [
    "class_rep = classification_report(df.Y, df.Y_PRED)\n",
    "print(class_rep)"
   ]
  },
  {
   "cell_type": "markdown",
   "metadata": {
    "application/vnd.databricks.v1+cell": {
     "cellMetadata": {
      "byteLimit": 2048000,
      "rowLimit": 10000
     },
     "inputWidgets": {},
     "nuid": "9e4f8efd-ab9e-4bd0-a240-9d98fbf90b1d",
     "showTitle": false,
     "title": ""
    }
   },
   "source": [
    "Support vector classifier with linear decision boundary doesn't provide significant improvements over logistic regression."
   ]
  },
  {
   "cell_type": "markdown",
   "metadata": {
    "application/vnd.databricks.v1+cell": {
     "cellMetadata": {
      "byteLimit": 2048000,
      "rowLimit": 10000
     },
     "inputWidgets": {},
     "nuid": "a01bf886-fccc-4ac1-9304-be2fce3c5847",
     "showTitle": false,
     "title": ""
    }
   },
   "source": [
    "**h. Fit a SVM using a non-linear kernel to the data. Obtain a class\n",
    "prediction for each training observation. Plot the observations,\n",
    "colored according to the predicted class labels.**"
   ]
  },
  {
   "cell_type": "code",
   "execution_count": 0,
   "metadata": {
    "application/vnd.databricks.v1+cell": {
     "cellMetadata": {
      "byteLimit": 2048000,
      "rowLimit": 10000
     },
     "inputWidgets": {},
     "nuid": "e27fa62a-8bdf-493c-84f3-2622b6200a46",
     "showTitle": false,
     "title": ""
    }
   },
   "outputs": [],
   "source": [
    "svmfit = SVC(C=10, kernel='rbf', gamma=1).fit(X, y)"
   ]
  },
  {
   "cell_type": "code",
   "execution_count": 0,
   "metadata": {
    "application/vnd.databricks.v1+cell": {
     "cellMetadata": {
      "byteLimit": 2048000,
      "rowLimit": 10000
     },
     "inputWidgets": {},
     "nuid": "2670caaf-1cfe-409f-bc78-cfd6417eabab",
     "showTitle": false,
     "title": ""
    }
   },
   "outputs": [],
   "source": [
    "X = pd.concat([pd.DataFrame([x1]), pd.DataFrame([x2])], axis=0).T\n",
    "X.columns = ['X1', 'X2']\n",
    "X.head()"
   ]
  },
  {
   "cell_type": "code",
   "execution_count": 0,
   "metadata": {
    "application/vnd.databricks.v1+cell": {
     "cellMetadata": {
      "byteLimit": 2048000,
      "rowLimit": 10000
     },
     "inputWidgets": {},
     "nuid": "d1783431-7d1f-47a2-840d-1d0bc0214241",
     "showTitle": false,
     "title": ""
    }
   },
   "outputs": [],
   "source": [
    "Y = pd.DataFrame([y]).T\n",
    "df = pd.concat([Y, X], axis=1)\n",
    "df.columns = ['Y', 'X1', 'X2']\n",
    "df.head()"
   ]
  },
  {
   "cell_type": "code",
   "execution_count": 0,
   "metadata": {
    "application/vnd.databricks.v1+cell": {
     "cellMetadata": {
      "byteLimit": 2048000,
      "rowLimit": 10000
     },
     "inputWidgets": {},
     "nuid": "93b10434-e026-44f5-afe1-1854a1154940",
     "showTitle": false,
     "title": ""
    }
   },
   "outputs": [],
   "source": [
    "plt.xkcd()\n",
    "plt.figure(figsize=(25, 10))\n",
    "svmplot(svmfit, X, y)\n",
    "colors = ['orange' if yy == 1 else 'green' for yy in y]\n",
    "plt.scatter(X.X1[:],X.X2[:], marker='o', s=250, c=colors, alpha=0.75)\n",
    "plt.title('support vector machine', color='m', fontsize=30)\n",
    "plt.xlabel('X[:, 0]', color='green', fontsize=20)\n",
    "plt.ylabel('X[:, 1]', color='orange', fontsize=20)"
   ]
  },
  {
   "cell_type": "code",
   "execution_count": 0,
   "metadata": {
    "application/vnd.databricks.v1+cell": {
     "cellMetadata": {
      "byteLimit": 2048000,
      "rowLimit": 10000
     },
     "inputWidgets": {},
     "nuid": "23210529-d227-491d-b27d-ca69ffa1c0cd",
     "showTitle": false,
     "title": ""
    }
   },
   "outputs": [],
   "source": [
    "svmpred = pd.DataFrame([svmfit.predict(X)]).T\n",
    "svmpred.columns = ['Y_PRED']\n",
    "svmpred.head()"
   ]
  },
  {
   "cell_type": "code",
   "execution_count": 0,
   "metadata": {
    "application/vnd.databricks.v1+cell": {
     "cellMetadata": {
      "byteLimit": 2048000,
      "rowLimit": 10000
     },
     "inputWidgets": {},
     "nuid": "e36a17be-dde2-4366-89a6-0bccbc41fa83",
     "showTitle": false,
     "title": ""
    }
   },
   "outputs": [],
   "source": [
    "df = pd.concat([svmpred, df], axis=1,)\n",
    "df.head()"
   ]
  },
  {
   "cell_type": "code",
   "execution_count": 0,
   "metadata": {
    "application/vnd.databricks.v1+cell": {
     "cellMetadata": {
      "byteLimit": 2048000,
      "rowLimit": 10000
     },
     "inputWidgets": {},
     "nuid": "e8867360-fdb2-41ac-9bfb-db8ecba9ece5",
     "showTitle": false,
     "title": ""
    }
   },
   "outputs": [],
   "source": [
    "conf_mat = pd.DataFrame(confusion_matrix(df.Y, df.Y_PRED).T, index = [0, 1], columns = [0, 1])\n",
    "conf_mat"
   ]
  },
  {
   "cell_type": "code",
   "execution_count": 0,
   "metadata": {
    "application/vnd.databricks.v1+cell": {
     "cellMetadata": {
      "byteLimit": 2048000,
      "rowLimit": 10000
     },
     "inputWidgets": {},
     "nuid": "f3dc6623-6fe5-491d-9a46-5df37898bd14",
     "showTitle": false,
     "title": ""
    }
   },
   "outputs": [],
   "source": [
    "class_rep = classification_report(df.Y, df.Y_PRED)\n",
    "print(class_rep)"
   ]
  },
  {
   "cell_type": "markdown",
   "metadata": {
    "application/vnd.databricks.v1+cell": {
     "cellMetadata": {
      "byteLimit": 2048000,
      "rowLimit": 10000
     },
     "inputWidgets": {},
     "nuid": "fd8a7486-fc49-4c25-bf7e-d1bf6d416d76",
     "showTitle": false,
     "title": ""
    }
   },
   "source": [
    "SVM provides an extremely significant improvement in prediction over logistic regression as well as support vector classifier."
   ]
  },
  {
   "cell_type": "markdown",
   "metadata": {
    "application/vnd.databricks.v1+cell": {
     "cellMetadata": {
      "byteLimit": 2048000,
      "rowLimit": 10000
     },
     "inputWidgets": {},
     "nuid": "2e0f7f19-3961-4bae-83cb-5af5b6879e65",
     "showTitle": false,
     "title": ""
    }
   },
   "source": [
    "**i. Comment on results.**"
   ]
  },
  {
   "cell_type": "markdown",
   "metadata": {
    "application/vnd.databricks.v1+cell": {
     "cellMetadata": {
      "byteLimit": 2048000,
      "rowLimit": 10000
     },
     "inputWidgets": {},
     "nuid": "0be5c15b-49ca-458e-b28a-f0712605fc4f",
     "showTitle": false,
     "title": ""
    }
   },
   "source": [
    "This question shows the power of support vector machines over other linear measures like logistic regression and support vector classifiers. This can be seen through predictive precision of different models above."
   ]
  }
 ],
 "metadata": {
  "application/vnd.databricks.v1+notebook": {
   "dashboards": [],
   "language": "python",
   "notebookMetadata": {
    "pythonIndentUnit": 2
   },
   "notebookName": "Question 5 - answers",
   "widgets": {}
  }
 },
 "nbformat": 4,
 "nbformat_minor": 0
}
