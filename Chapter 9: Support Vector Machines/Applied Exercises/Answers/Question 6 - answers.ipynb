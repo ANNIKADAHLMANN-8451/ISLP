{
 "cells": [
  {
   "cell_type": "markdown",
   "metadata": {
    "application/vnd.databricks.v1+cell": {
     "cellMetadata": {
      "byteLimit": 2048000,
      "rowLimit": 10000
     },
     "inputWidgets": {},
     "nuid": "7ba07efe-8cae-45fe-b986-410daae41bb1",
     "showTitle": false,
     "title": ""
    }
   },
   "source": [
    "At the end of Section 9.6.1, it is claimed that in the case of data that is\n",
    "just barely linearly separable, a support vector classifer with a small\n",
    "value of C that misclassifes a couple of training observations may\n",
    "perform better on test data than one with a huge value of C that does\n",
    "not misclassify any training observations. You will now investigate\n",
    "this claim"
   ]
  },
  {
   "cell_type": "markdown",
   "metadata": {
    "application/vnd.databricks.v1+cell": {
     "cellMetadata": {
      "byteLimit": 2048000,
      "rowLimit": 10000
     },
     "inputWidgets": {},
     "nuid": "a147cf4a-9dcc-4c46-a6e8-20a44ddabddb",
     "showTitle": false,
     "title": ""
    }
   },
   "source": [
    "## Preprocessing"
   ]
  },
  {
   "cell_type": "code",
   "execution_count": 0,
   "metadata": {
    "application/vnd.databricks.v1+cell": {
     "cellMetadata": {
      "byteLimit": 2048000,
      "rowLimit": 10000
     },
     "inputWidgets": {},
     "nuid": "fbe0888f-d51b-4bc2-aca0-6564a7e9abcc",
     "showTitle": false,
     "title": ""
    }
   },
   "outputs": [],
   "source": [
    "import numpy as np\n",
    "import pandas as pd"
   ]
  },
  {
   "cell_type": "code",
   "execution_count": 0,
   "metadata": {
    "application/vnd.databricks.v1+cell": {
     "cellMetadata": {
      "byteLimit": 2048000,
      "rowLimit": 10000
     },
     "inputWidgets": {},
     "nuid": "012c9f75-2173-4bf6-87c9-7c72d4e298c0",
     "showTitle": false,
     "title": ""
    }
   },
   "outputs": [],
   "source": [
    "import matplotlib.pyplot as plt\n",
    "import seaborn as sns\n",
    "%matplotlib inline"
   ]
  },
  {
   "cell_type": "markdown",
   "metadata": {
    "application/vnd.databricks.v1+cell": {
     "cellMetadata": {
      "byteLimit": 2048000,
      "rowLimit": 10000
     },
     "inputWidgets": {},
     "nuid": "27c8827a-4add-4ae4-8c33-4ec11d29d9de",
     "showTitle": false,
     "title": ""
    }
   },
   "source": [
    "**a. Generate two-class data with p = 2 in such a way that the classes\n",
    "are just barely linearly separable.**"
   ]
  },
  {
   "cell_type": "code",
   "execution_count": 0,
   "metadata": {
    "application/vnd.databricks.v1+cell": {
     "cellMetadata": {
      "byteLimit": 2048000,
      "rowLimit": 10000
     },
     "inputWidgets": {},
     "nuid": "a193e0af-c904-4e9e-9561-eb97e18ebe0a",
     "showTitle": false,
     "title": ""
    }
   },
   "outputs": [],
   "source": [
    "x1 = np.random.uniform(low=0.0, high=90.0, size=500)\n",
    "y1 = np.random.uniform(low=x1+10, high=100.0, size=500)\n",
    "x1_noise = np.random.uniform(low=20.0, high=80.0, size=50)\n",
    "y1_noise = (5/4) + (x1_noise - 10) + 0.1"
   ]
  },
  {
   "cell_type": "code",
   "execution_count": 0,
   "metadata": {
    "application/vnd.databricks.v1+cell": {
     "cellMetadata": {
      "byteLimit": 2048000,
      "rowLimit": 10000
     },
     "inputWidgets": {},
     "nuid": "87915e95-9b83-4978-9d17-7423448e323e",
     "showTitle": false,
     "title": ""
    }
   },
   "outputs": [],
   "source": [
    "x0 = np.random.uniform(low=10.0, high=100.0, size=500)\n",
    "y0 = np.random.uniform(low=0.0, high=x0-10, size=500)\n",
    "x0_noise = np.random.uniform(low=20.0, high=80.0, size=50)\n",
    "y0_noise = (5/4) + (x0_noise - 10) - 0.1"
   ]
  },
  {
   "cell_type": "code",
   "execution_count": 0,
   "metadata": {
    "application/vnd.databricks.v1+cell": {
     "cellMetadata": {
      "byteLimit": 2048000,
      "rowLimit": 10000
     },
     "inputWidgets": {},
     "nuid": "975f8045-7b52-4089-8854-439a49fb6fca",
     "showTitle": false,
     "title": ""
    }
   },
   "outputs": [],
   "source": [
    "class1 = range(0,551)\n",
    "class2 = range(551, 1100)"
   ]
  },
  {
   "cell_type": "code",
   "execution_count": 0,
   "metadata": {
    "application/vnd.databricks.v1+cell": {
     "cellMetadata": {
      "byteLimit": 2048000,
      "rowLimit": 10000
     },
     "inputWidgets": {},
     "nuid": "477d5d86-b119-4c4d-b40b-c46dfd91a83b",
     "showTitle": false,
     "title": ""
    }
   },
   "outputs": [],
   "source": [
    "X = pd.concat([pd.DataFrame([x1]), pd.DataFrame([x1_noise]), pd.DataFrame([x0]), pd.DataFrame([x0_noise])], axis=1).T\n",
    "X.columns = ['X']\n",
    "X.head()"
   ]
  },
  {
   "cell_type": "code",
   "execution_count": 0,
   "metadata": {
    "application/vnd.databricks.v1+cell": {
     "cellMetadata": {
      "byteLimit": 2048000,
      "rowLimit": 10000
     },
     "inputWidgets": {},
     "nuid": "e483e005-24a0-4cdd-8b3e-308d1f3ab180",
     "showTitle": false,
     "title": ""
    }
   },
   "outputs": [],
   "source": [
    "Y = pd.concat([pd.DataFrame([y1]), pd.DataFrame([y1_noise]), pd.DataFrame([y0]), pd.DataFrame([y0_noise])], axis=1).T\n",
    "Y.columns = ['Y']\n",
    "Y.head()"
   ]
  },
  {
   "cell_type": "code",
   "execution_count": 0,
   "metadata": {
    "application/vnd.databricks.v1+cell": {
     "cellMetadata": {
      "byteLimit": 2048000,
      "rowLimit": 10000
     },
     "inputWidgets": {},
     "nuid": "7098bb9e-77bc-4a81-aa0b-bba29790a389",
     "showTitle": false,
     "title": ""
    }
   },
   "outputs": [],
   "source": [
    "plt.xkcd()\n",
    "plt.figure(figsize=(25, 10))\n",
    "plt.scatter(X.iloc[class1], Y.iloc[class1], s=250, alpha=0.65, cmap='viridis')\n",
    "plt.scatter(X.iloc[class2], Y.iloc[class2], s=250, alpha=0.65, cmap='viridis')\n",
    "plt.title('sample data with barely linearly separable classes', color='m', fontsize=30)"
   ]
  },
  {
   "cell_type": "markdown",
   "metadata": {
    "application/vnd.databricks.v1+cell": {
     "cellMetadata": {
      "byteLimit": 2048000,
      "rowLimit": 10000
     },
     "inputWidgets": {},
     "nuid": "25f120f8-4700-46f0-82dc-140818a87fc0",
     "showTitle": false,
     "title": ""
    }
   },
   "source": [
    "This plot creates a barely separable linear boundary at $5x - 4y - 50 = 0.$"
   ]
  },
  {
   "cell_type": "markdown",
   "metadata": {
    "application/vnd.databricks.v1+cell": {
     "cellMetadata": {
      "byteLimit": 2048000,
      "rowLimit": 10000
     },
     "inputWidgets": {},
     "nuid": "09d259bb-b537-4058-96e6-b8e74b46ff17",
     "showTitle": false,
     "title": ""
    }
   },
   "source": [
    "**b. Compute the cross-validation error rates for support vector\n",
    "classifers with a range of C values. How many training observations are misclassifed for each value of C considered, and how\n",
    "does this relate to the cross-validation errors obtained?**"
   ]
  },
  {
   "cell_type": "code",
   "execution_count": 0,
   "metadata": {
    "application/vnd.databricks.v1+cell": {
     "cellMetadata": {
      "byteLimit": 2048000,
      "rowLimit": 10000
     },
     "inputWidgets": {},
     "nuid": "0ead393b-355b-4d42-9a3e-6175f7d464a3",
     "showTitle": false,
     "title": ""
    }
   },
   "outputs": [],
   "source": [
    "from sklearn.model_selection import GridSearchCV as GSV\n",
    "from sklearn.svm import SVC"
   ]
  },
  {
   "cell_type": "code",
   "execution_count": 0,
   "metadata": {
    "application/vnd.databricks.v1+cell": {
     "cellMetadata": {
      "byteLimit": 2048000,
      "rowLimit": 10000
     },
     "inputWidgets": {},
     "nuid": "33643fd8-0a63-476f-a2fb-011ac75e9471",
     "showTitle": false,
     "title": ""
    }
   },
   "outputs": [],
   "source": [
    "Z = pd.DataFrame([np.zeros(shape=1100, dtype=int)]).T\n",
    "Z.iloc[class1] = 1\n",
    "Z.columns = ['Z']\n",
    "Z.head()"
   ]
  },
  {
   "cell_type": "code",
   "execution_count": 0,
   "metadata": {
    "application/vnd.databricks.v1+cell": {
     "cellMetadata": {
      "byteLimit": 2048000,
      "rowLimit": 10000
     },
     "inputWidgets": {},
     "nuid": "c40e9d06-0dcb-4c71-a555-56d4f7ba359d",
     "showTitle": false,
     "title": ""
    }
   },
   "outputs": [],
   "source": [
    "df = pd.concat([X, Y], axis=1)\n",
    "df.head()"
   ]
  },
  {
   "cell_type": "code",
   "execution_count": 0,
   "metadata": {
    "application/vnd.databricks.v1+cell": {
     "cellMetadata": {
      "byteLimit": 2048000,
      "rowLimit": 10000
     },
     "inputWidgets": {},
     "nuid": "4943d827-a7ee-47a3-bdc5-2cdd9f112ed4",
     "showTitle": false,
     "title": ""
    }
   },
   "outputs": [],
   "source": [
    "import warnings\n",
    "warnings.filterwarnings('ignore')\n",
    "cost_range = [{'C': [0.01, 0.1, 1, 5, 10, 100, 1000, 10000], 'gamma': [0.5, 1,2,3,4, 5, 6]}]\n",
    "cost_cv= GSV(SVC(kernel='rbf'), cost_range, cv=10, scoring='accuracy', return_train_score=True).fit(df, Z.Z)"
   ]
  },
  {
   "cell_type": "code",
   "execution_count": 0,
   "metadata": {
    "application/vnd.databricks.v1+cell": {
     "cellMetadata": {
      "byteLimit": 2048000,
      "rowLimit": 10000
     },
     "inputWidgets": {},
     "nuid": "f1d732e1-9df5-45a0-9420-62f5646cca3a",
     "showTitle": false,
     "title": ""
    }
   },
   "outputs": [],
   "source": [
    "best_params = cost_cv.best_params_\n",
    "best_params['C']"
   ]
  },
  {
   "cell_type": "code",
   "execution_count": 0,
   "metadata": {
    "application/vnd.databricks.v1+cell": {
     "cellMetadata": {
      "byteLimit": 2048000,
      "rowLimit": 10000
     },
     "inputWidgets": {},
     "nuid": "ef9fd48f-ef00-4b95-bf47-d08e678e7761",
     "showTitle": false,
     "title": ""
    }
   },
   "outputs": [],
   "source": [
    "from sklearn.metrics import confusion_matrix, classification_report, accuracy_score"
   ]
  },
  {
   "cell_type": "code",
   "execution_count": 0,
   "metadata": {
    "application/vnd.databricks.v1+cell": {
     "cellMetadata": {
      "byteLimit": 2048000,
      "rowLimit": 10000
     },
     "inputWidgets": {},
     "nuid": "fdaa33c9-5667-4081-b1dc-2327a0ecd612",
     "showTitle": false,
     "title": ""
    }
   },
   "outputs": [],
   "source": [
    "means = pd.DataFrame([cost_cv.cv_results_['mean_test_score']]).T\n",
    "means.columns = ['means']\n",
    "means.head()"
   ]
  },
  {
   "cell_type": "code",
   "execution_count": 0,
   "metadata": {
    "application/vnd.databricks.v1+cell": {
     "cellMetadata": {
      "byteLimit": 2048000,
      "rowLimit": 10000
     },
     "inputWidgets": {},
     "nuid": "71c51dc0-0f0b-4cd4-9232-f09b08eb461f",
     "showTitle": false,
     "title": ""
    }
   },
   "outputs": [],
   "source": [
    "plt.xkcd()\n",
    "plt.figure(figsize=(25, 10))\n",
    "plt.plot(means, c='g', ls='-.', marker='o', markerfacecolor='orange')\n",
    "plt.title('mean test score', fontsize=30, color='m')"
   ]
  },
  {
   "cell_type": "code",
   "execution_count": 0,
   "metadata": {
    "application/vnd.databricks.v1+cell": {
     "cellMetadata": {
      "byteLimit": 2048000,
      "rowLimit": 10000
     },
     "inputWidgets": {},
     "nuid": "0795e640-5b59-470f-ba5d-d50266f4fc00",
     "showTitle": false,
     "title": ""
    }
   },
   "outputs": [],
   "source": [
    "std = pd.DataFrame([cost_cv.cv_results_['std_test_score']]).T\n",
    "std.columns = ['std']\n",
    "std.head()"
   ]
  },
  {
   "cell_type": "code",
   "execution_count": 0,
   "metadata": {
    "application/vnd.databricks.v1+cell": {
     "cellMetadata": {
      "byteLimit": 2048000,
      "rowLimit": 10000
     },
     "inputWidgets": {},
     "nuid": "9c8bc810-0477-4e3c-881b-d1feb954557a",
     "showTitle": false,
     "title": ""
    }
   },
   "outputs": [],
   "source": [
    "plt.xkcd()\n",
    "plt.figure(figsize=(25, 10))\n",
    "plt.plot(std, c='g', ls='-.', marker='o', markerfacecolor='orange')\n",
    "plt.title('std test score', fontsize=30, color='m')"
   ]
  },
  {
   "cell_type": "code",
   "execution_count": 0,
   "metadata": {
    "application/vnd.databricks.v1+cell": {
     "cellMetadata": {
      "byteLimit": 2048000,
      "rowLimit": 10000
     },
     "inputWidgets": {},
     "nuid": "c97632fe-6c2f-4fbf-8b17-b9087fb559a4",
     "showTitle": false,
     "title": ""
    }
   },
   "outputs": [],
   "source": [
    "resultsdf = pd.concat([means, std], axis=1)\n",
    "resultsdf.head()"
   ]
  },
  {
   "cell_type": "code",
   "execution_count": 0,
   "metadata": {
    "application/vnd.databricks.v1+cell": {
     "cellMetadata": {
      "byteLimit": 2048000,
      "rowLimit": 10000
     },
     "inputWidgets": {},
     "nuid": "533aba3b-29cb-4c62-9150-ced037eb2f38",
     "showTitle": false,
     "title": ""
    }
   },
   "outputs": [],
   "source": [
    "from sklearn.metrics import confusion_matrix, classification_report"
   ]
  },
  {
   "cell_type": "code",
   "execution_count": 0,
   "metadata": {
    "application/vnd.databricks.v1+cell": {
     "cellMetadata": {
      "byteLimit": 2048000,
      "rowLimit": 10000
     },
     "inputWidgets": {},
     "nuid": "8e2cc9b3-5195-4293-8800-8614338f4009",
     "showTitle": false,
     "title": ""
    }
   },
   "outputs": [],
   "source": [
    "C = [0.01, 0.1, 1, 5, 10, 100, 1000, 10000]\n",
    "g = [0.5, 1, 2,3,4, 5, 6]"
   ]
  },
  {
   "cell_type": "code",
   "execution_count": 0,
   "metadata": {
    "application/vnd.databricks.v1+cell": {
     "cellMetadata": {
      "byteLimit": 2048000,
      "rowLimit": 10000
     },
     "inputWidgets": {},
     "nuid": "2db93c23-20ea-4670-90a1-5e7c89ea9f83",
     "showTitle": false,
     "title": ""
    }
   },
   "outputs": [],
   "source": [
    "for k in C:\n",
    "    print(g)"
   ]
  },
  {
   "cell_type": "code",
   "execution_count": 0,
   "metadata": {
    "application/vnd.databricks.v1+cell": {
     "cellMetadata": {
      "byteLimit": 2048000,
      "rowLimit": 10000
     },
     "inputWidgets": {},
     "nuid": "91851c88-bb1b-4ad5-afc1-aa146f6874f9",
     "showTitle": false,
     "title": ""
    }
   },
   "outputs": [],
   "source": [
    "errdf = pd.DataFrame()\n",
    "for k in C:\n",
    "    for p in g:\n",
    "        svmfit = SVC(C=k, kernel='rbf', gamma=p).fit(df, Z)\n",
    "        Zpred = svmfit.predict(df)\n",
    "        class_mat = pd.DataFrame(confusion_matrix(Z, Zpred).T, index = ['No', 'Yes'], columns = ['No', 'Yes'])\n",
    "        err_perc = (class_mat.No.No + class_mat.Yes.Yes)/1100 * 100\n",
    "        errdf = errdf.append(pd.DataFrame([err_perc]))"
   ]
  },
  {
   "cell_type": "code",
   "execution_count": 0,
   "metadata": {
    "application/vnd.databricks.v1+cell": {
     "cellMetadata": {
      "byteLimit": 2048000,
      "rowLimit": 10000
     },
     "inputWidgets": {},
     "nuid": "71cdc8ae-cbba-41c2-98d9-cb24fe7b110a",
     "showTitle": false,
     "title": ""
    }
   },
   "outputs": [],
   "source": [
    "errdf.reset_index(drop=True, inplace=True)\n",
    "errdf.columns= ['errors']\n",
    "plt.xkcd()\n",
    "plt.figure(figsize=(25, 10))\n",
    "plt.plot(100-errdf, c='g', ls='-.', marker='o', markerfacecolor='orange')\n",
    "plt.title('number of misclassifications', fontsize=30, color='m')"
   ]
  },
  {
   "cell_type": "markdown",
   "metadata": {
    "application/vnd.databricks.v1+cell": {
     "cellMetadata": {
      "byteLimit": 2048000,
      "rowLimit": 10000
     },
     "inputWidgets": {},
     "nuid": "bce5bc92-a20a-478e-a67e-908682af6baa",
     "showTitle": false,
     "title": ""
    }
   },
   "source": [
    "**c. Generate an appropriate test data set, and compute the test\n",
    "errors corresponding to each of the values of C considered. Which\n",
    "value of C leads to the fewest test errors, and how does this\n",
    "compare to the values of C that yield the fewest training errors\n",
    "and the fewest cross-validation errors?**"
   ]
  },
  {
   "cell_type": "code",
   "execution_count": 0,
   "metadata": {
    "application/vnd.databricks.v1+cell": {
     "cellMetadata": {
      "byteLimit": 2048000,
      "rowLimit": 10000
     },
     "inputWidgets": {},
     "nuid": "cdaefa81-3823-4d2b-bb2a-9dba9c333b3f",
     "showTitle": false,
     "title": ""
    }
   },
   "outputs": [],
   "source": [
    "X_test = np.random.uniform(low=0.0, high=100.0, size=1000)\n",
    "class_1 = np.random.randint(low=0, high=1000, size=500)\n",
    "y_test = np.zeros(1000)"
   ]
  },
  {
   "cell_type": "code",
   "execution_count": 0,
   "metadata": {
    "application/vnd.databricks.v1+cell": {
     "cellMetadata": {
      "byteLimit": 2048000,
      "rowLimit": 10000
     },
     "inputWidgets": {},
     "nuid": "f19b51f5-e9e1-4fbf-a232-f1f3349e4368",
     "showTitle": false,
     "title": ""
    }
   },
   "outputs": [],
   "source": [
    "x1_test = np.random.uniform(low=0.0, high=90.0, size=500)\n",
    "y1_test = np.random.uniform(low=x1_test+10, high=100.0, size=500)\n",
    "x1_noise_test = np.random.uniform(low=20.0, high=80.0, size=50)\n",
    "y1_noise_test = (5/4) + (x1_noise_test - 10) + 0.1"
   ]
  },
  {
   "cell_type": "code",
   "execution_count": 0,
   "metadata": {
    "application/vnd.databricks.v1+cell": {
     "cellMetadata": {
      "byteLimit": 2048000,
      "rowLimit": 10000
     },
     "inputWidgets": {},
     "nuid": "861af48b-b8b9-4289-9dea-6f98d0dd3970",
     "showTitle": false,
     "title": ""
    }
   },
   "outputs": [],
   "source": [
    "x0_test = np.random.uniform(low=10.0, high=100.0, size=500)\n",
    "y0_test = np.random.uniform(low=0.0, high=x0-10, size=500)\n",
    "x0_noise_test = np.random.uniform(low=20.0, high=80.0, size=50)\n",
    "y0_noise_test = (5/4) + (x0_noise_test - 10) - 0.1"
   ]
  },
  {
   "cell_type": "code",
   "execution_count": 0,
   "metadata": {
    "application/vnd.databricks.v1+cell": {
     "cellMetadata": {
      "byteLimit": 2048000,
      "rowLimit": 10000
     },
     "inputWidgets": {},
     "nuid": "b55d2040-3cb9-45aa-a83a-abb74430f192",
     "showTitle": false,
     "title": ""
    }
   },
   "outputs": [],
   "source": [
    "class1 = range(0,551)\n",
    "class2 = range(551, 1100)"
   ]
  },
  {
   "cell_type": "code",
   "execution_count": 0,
   "metadata": {
    "application/vnd.databricks.v1+cell": {
     "cellMetadata": {
      "byteLimit": 2048000,
      "rowLimit": 10000
     },
     "inputWidgets": {},
     "nuid": "e09813f2-0527-46d6-8112-cbfa108cdeac",
     "showTitle": false,
     "title": ""
    }
   },
   "outputs": [],
   "source": [
    "X = pd.concat([pd.DataFrame([x1_test]), pd.DataFrame([x1_noise_test]), pd.DataFrame([x0_test]), pd.DataFrame([x0_noise_test])], axis=1).T\n",
    "X.columns = ['X_test']\n",
    "X.head()"
   ]
  },
  {
   "cell_type": "code",
   "execution_count": 0,
   "metadata": {
    "application/vnd.databricks.v1+cell": {
     "cellMetadata": {
      "byteLimit": 2048000,
      "rowLimit": 10000
     },
     "inputWidgets": {},
     "nuid": "e6d48681-71f5-4196-aac1-cb40e7e7e491",
     "showTitle": false,
     "title": ""
    }
   },
   "outputs": [],
   "source": [
    "Y = pd.concat([pd.DataFrame([y1_test]), pd.DataFrame([y1_noise_test]), pd.DataFrame([y0_test]), pd.DataFrame([y0_noise_test])], axis=1).T\n",
    "Y.columns = ['Y_test']\n",
    "Y.head()"
   ]
  },
  {
   "cell_type": "code",
   "execution_count": 0,
   "metadata": {
    "application/vnd.databricks.v1+cell": {
     "cellMetadata": {
      "byteLimit": 2048000,
      "rowLimit": 10000
     },
     "inputWidgets": {},
     "nuid": "693b0aab-73f5-4dca-94c6-49a232341a3c",
     "showTitle": false,
     "title": ""
    }
   },
   "outputs": [],
   "source": [
    "plt.xkcd()\n",
    "plt.figure(figsize=(25, 10))\n",
    "plt.scatter(X.iloc[class1], Y.iloc[class1], s=250, alpha=0.65, cmap='viridis')\n",
    "plt.scatter(X.iloc[class2], Y.iloc[class2], s=250, alpha=0.65, cmap='viridis')\n",
    "plt.title('test data', color='m', fontsize=30)"
   ]
  },
  {
   "cell_type": "code",
   "execution_count": 0,
   "metadata": {
    "application/vnd.databricks.v1+cell": {
     "cellMetadata": {
      "byteLimit": 2048000,
      "rowLimit": 10000
     },
     "inputWidgets": {},
     "nuid": "7fdd5f87-6664-4d83-b947-ad8b497b2eb0",
     "showTitle": false,
     "title": ""
    }
   },
   "outputs": [],
   "source": [
    "Z = pd.DataFrame([np.zeros(shape=1100, dtype=int)]).T\n",
    "Z.iloc[class1] = 1\n",
    "Z.columns = ['Z']\n",
    "Z.head()"
   ]
  },
  {
   "cell_type": "code",
   "execution_count": 0,
   "metadata": {
    "application/vnd.databricks.v1+cell": {
     "cellMetadata": {
      "byteLimit": 2048000,
      "rowLimit": 10000
     },
     "inputWidgets": {},
     "nuid": "fd53355d-8791-4559-afcb-1f5fd8a5674c",
     "showTitle": false,
     "title": ""
    }
   },
   "outputs": [],
   "source": [
    "df = pd.concat([X, Y], axis=1)\n",
    "df.head()"
   ]
  },
  {
   "cell_type": "code",
   "execution_count": 0,
   "metadata": {
    "application/vnd.databricks.v1+cell": {
     "cellMetadata": {
      "byteLimit": 2048000,
      "rowLimit": 10000
     },
     "inputWidgets": {},
     "nuid": "3ea44ce0-1349-4efc-8811-1b63cb5f90cd",
     "showTitle": false,
     "title": ""
    }
   },
   "outputs": [],
   "source": [
    "import warnings\n",
    "warnings.filterwarnings('ignore')\n",
    "cost_range = [{'C': [0.01, 0.1, 1, 5, 10, 100, 1000, 10000], 'gamma': [0.5, 1,2,3,4, 5, 6]}]\n",
    "cost_cv= GSV(SVC(kernel='rbf'), cost_range, cv=10, scoring='accuracy', return_train_score=True).fit(df, Z.Z)"
   ]
  },
  {
   "cell_type": "code",
   "execution_count": 0,
   "metadata": {
    "application/vnd.databricks.v1+cell": {
     "cellMetadata": {
      "byteLimit": 2048000,
      "rowLimit": 10000
     },
     "inputWidgets": {},
     "nuid": "a5e681b8-7b82-46f7-9f00-0aa5b10d005f",
     "showTitle": false,
     "title": ""
    }
   },
   "outputs": [],
   "source": [
    "best_params = cost_cv.best_params_\n",
    "best_params['C']"
   ]
  },
  {
   "cell_type": "code",
   "execution_count": 0,
   "metadata": {
    "application/vnd.databricks.v1+cell": {
     "cellMetadata": {
      "byteLimit": 2048000,
      "rowLimit": 10000
     },
     "inputWidgets": {},
     "nuid": "da7e549a-b48c-4851-996e-0f4e7fd15e6b",
     "showTitle": false,
     "title": ""
    }
   },
   "outputs": [],
   "source": [
    "from sklearn.metrics import confusion_matrix, classification_report, accuracy_score"
   ]
  },
  {
   "cell_type": "code",
   "execution_count": 0,
   "metadata": {
    "application/vnd.databricks.v1+cell": {
     "cellMetadata": {
      "byteLimit": 2048000,
      "rowLimit": 10000
     },
     "inputWidgets": {},
     "nuid": "1e128335-22f6-4669-8f49-5dc5b2e892b8",
     "showTitle": false,
     "title": ""
    }
   },
   "outputs": [],
   "source": [
    "means = pd.DataFrame([cost_cv.cv_results_['mean_test_score']]).T\n",
    "means.columns = ['means']\n",
    "means.head()"
   ]
  },
  {
   "cell_type": "code",
   "execution_count": 0,
   "metadata": {
    "application/vnd.databricks.v1+cell": {
     "cellMetadata": {
      "byteLimit": 2048000,
      "rowLimit": 10000
     },
     "inputWidgets": {},
     "nuid": "18a81173-7574-4e86-a06b-fb63e8778a65",
     "showTitle": false,
     "title": ""
    }
   },
   "outputs": [],
   "source": [
    "plt.xkcd()\n",
    "plt.figure(figsize=(25, 10))\n",
    "plt.plot(means, c='g', ls='-.', marker='o', markerfacecolor='orange')\n",
    "plt.title('mean test score', fontsize=30, color='m')"
   ]
  },
  {
   "cell_type": "code",
   "execution_count": 0,
   "metadata": {
    "application/vnd.databricks.v1+cell": {
     "cellMetadata": {
      "byteLimit": 2048000,
      "rowLimit": 10000
     },
     "inputWidgets": {},
     "nuid": "0e214f2b-5aaa-4aa5-83cb-0be1805a84cd",
     "showTitle": false,
     "title": ""
    }
   },
   "outputs": [],
   "source": [
    "std = pd.DataFrame([cost_cv.cv_results_['std_test_score']]).T\n",
    "std.columns = ['std']\n",
    "std.head()"
   ]
  },
  {
   "cell_type": "code",
   "execution_count": 0,
   "metadata": {
    "application/vnd.databricks.v1+cell": {
     "cellMetadata": {
      "byteLimit": 2048000,
      "rowLimit": 10000
     },
     "inputWidgets": {},
     "nuid": "d34eb941-c4ce-435e-842f-c57127d9e1cb",
     "showTitle": false,
     "title": ""
    }
   },
   "outputs": [],
   "source": [
    "plt.xkcd()\n",
    "plt.figure(figsize=(25, 10))\n",
    "plt.plot(std, c='g', ls='-.', marker='o', markerfacecolor='orange')\n",
    "plt.title('std test score', fontsize=30, color='m')"
   ]
  },
  {
   "cell_type": "code",
   "execution_count": 0,
   "metadata": {
    "application/vnd.databricks.v1+cell": {
     "cellMetadata": {
      "byteLimit": 2048000,
      "rowLimit": 10000
     },
     "inputWidgets": {},
     "nuid": "22921d92-e3a6-4554-bc10-fe52a48e6147",
     "showTitle": false,
     "title": ""
    }
   },
   "outputs": [],
   "source": [
    "resultsdf = pd.concat([means, std], axis=1)\n",
    "resultsdf.head()"
   ]
  },
  {
   "cell_type": "code",
   "execution_count": 0,
   "metadata": {
    "application/vnd.databricks.v1+cell": {
     "cellMetadata": {
      "byteLimit": 2048000,
      "rowLimit": 10000
     },
     "inputWidgets": {},
     "nuid": "70a6c66c-e7d6-4a9f-b0fa-e1b54381cce2",
     "showTitle": false,
     "title": ""
    }
   },
   "outputs": [],
   "source": [
    "from sklearn.metrics import confusion_matrix, classification_report"
   ]
  },
  {
   "cell_type": "code",
   "execution_count": 0,
   "metadata": {
    "application/vnd.databricks.v1+cell": {
     "cellMetadata": {
      "byteLimit": 2048000,
      "rowLimit": 10000
     },
     "inputWidgets": {},
     "nuid": "a362f627-e93d-4e39-a66e-8841bebb721f",
     "showTitle": false,
     "title": ""
    }
   },
   "outputs": [],
   "source": [
    "C = [0.01, 0.1, 1, 5, 10, 100, 1000, 10000]\n",
    "g = [0.5, 1, 2,3,4, 5, 6]"
   ]
  },
  {
   "cell_type": "code",
   "execution_count": 0,
   "metadata": {
    "application/vnd.databricks.v1+cell": {
     "cellMetadata": {
      "byteLimit": 2048000,
      "rowLimit": 10000
     },
     "inputWidgets": {},
     "nuid": "337a9595-a290-4cfe-ab25-8f4f4b593b7d",
     "showTitle": false,
     "title": ""
    }
   },
   "outputs": [],
   "source": [
    "for k in C:\n",
    "    print(g)"
   ]
  },
  {
   "cell_type": "code",
   "execution_count": 0,
   "metadata": {
    "application/vnd.databricks.v1+cell": {
     "cellMetadata": {
      "byteLimit": 2048000,
      "rowLimit": 10000
     },
     "inputWidgets": {},
     "nuid": "1d590dd0-8000-413d-886e-cc82027e1995",
     "showTitle": false,
     "title": ""
    }
   },
   "outputs": [],
   "source": [
    "errdf = pd.DataFrame()\n",
    "for k in C:\n",
    "    for p in g:\n",
    "        svmfit = SVC(C=k, kernel='rbf', gamma=p).fit(df, Z)\n",
    "        Zpred = svmfit.predict(df)\n",
    "        class_mat = pd.DataFrame(confusion_matrix(Z, Zpred).T, index = ['No', 'Yes'], columns = ['No', 'Yes'])\n",
    "        err_perc = (class_mat.No.No + class_mat.Yes.Yes)/1100 * 100\n",
    "        errdf = errdf.append(pd.DataFrame([err_perc]))"
   ]
  },
  {
   "cell_type": "code",
   "execution_count": 0,
   "metadata": {
    "application/vnd.databricks.v1+cell": {
     "cellMetadata": {
      "byteLimit": 2048000,
      "rowLimit": 10000
     },
     "inputWidgets": {},
     "nuid": "37d44fa5-b198-478f-adb4-071f923e2f0c",
     "showTitle": false,
     "title": ""
    }
   },
   "outputs": [],
   "source": [
    "errdf.reset_index(drop=True, inplace=True)\n",
    "errdf.columns= ['errors']\n",
    "plt.xkcd()\n",
    "plt.figure(figsize=(25, 10))\n",
    "plt.plot(100-errdf, c='g', ls='-.', marker='o', markerfacecolor='orange')\n",
    "plt.title('number of misclassifications', fontsize=30, color='m')"
   ]
  },
  {
   "cell_type": "markdown",
   "metadata": {
    "application/vnd.databricks.v1+cell": {
     "cellMetadata": {
      "byteLimit": 2048000,
      "rowLimit": 10000
     },
     "inputWidgets": {},
     "nuid": "ca269f04-14f4-4b1e-a916-0f3ed3cf82ac",
     "showTitle": false,
     "title": ""
    }
   },
   "source": [
    "$cost$=5 seems to be performing best on test data while $cost$=10 seems to perform best on training data."
   ]
  },
  {
   "cell_type": "markdown",
   "metadata": {
    "application/vnd.databricks.v1+cell": {
     "cellMetadata": {
      "byteLimit": 2048000,
      "rowLimit": 10000
     },
     "inputWidgets": {},
     "nuid": "03cd80f3-80a0-4e66-94be-02d4dc45b6b3",
     "showTitle": false,
     "title": ""
    }
   },
   "source": [
    "**d. Discuss your results.**"
   ]
  },
  {
   "cell_type": "markdown",
   "metadata": {
    "application/vnd.databricks.v1+cell": {
     "cellMetadata": {
      "byteLimit": 2048000,
      "rowLimit": 10000
     },
     "inputWidgets": {},
     "nuid": "dcacc81f-2881-4d1b-95dd-d263a39b7e2d",
     "showTitle": false,
     "title": ""
    }
   },
   "source": [
    "A large cost results in overfitting and greater misclassification as opposed to a smaller cost."
   ]
  }
 ],
 "metadata": {
  "application/vnd.databricks.v1+notebook": {
   "dashboards": [],
   "language": "python",
   "notebookMetadata": {
    "pythonIndentUnit": 2
   },
   "notebookName": "Question 6 - answers",
   "widgets": {}
  }
 },
 "nbformat": 4,
 "nbformat_minor": 0
}
