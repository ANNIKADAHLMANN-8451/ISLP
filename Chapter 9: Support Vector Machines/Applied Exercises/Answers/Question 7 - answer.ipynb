{
 "cells": [
  {
   "cell_type": "markdown",
   "metadata": {
    "application/vnd.databricks.v1+cell": {
     "cellMetadata": {
      "byteLimit": 2048000,
      "rowLimit": 10000
     },
     "inputWidgets": {},
     "nuid": "b72fcdde-2b2d-4ec3-8b8b-2589d27023c0",
     "showTitle": false,
     "title": ""
    }
   },
   "source": [
    "In this problem, you will use support vector approaches in order to\n",
    "predict whether a given car gets high or low gas mileage based on the\n",
    "`Auto` data set."
   ]
  },
  {
   "cell_type": "markdown",
   "metadata": {
    "application/vnd.databricks.v1+cell": {
     "cellMetadata": {
      "byteLimit": 2048000,
      "rowLimit": 10000
     },
     "inputWidgets": {},
     "nuid": "222afc33-9592-426b-af13-08b6c193d16d",
     "showTitle": false,
     "title": ""
    }
   },
   "source": [
    "## Preprocessing"
   ]
  },
  {
   "cell_type": "code",
   "execution_count": 0,
   "metadata": {
    "application/vnd.databricks.v1+cell": {
     "cellMetadata": {
      "byteLimit": 2048000,
      "rowLimit": 10000
     },
     "inputWidgets": {},
     "nuid": "ef018c80-72f5-4425-b318-2be90fbd88a8",
     "showTitle": false,
     "title": ""
    }
   },
   "outputs": [],
   "source": [
    "import numpy as np\n",
    "import pandas as pd"
   ]
  },
  {
   "cell_type": "code",
   "execution_count": 0,
   "metadata": {
    "application/vnd.databricks.v1+cell": {
     "cellMetadata": {
      "byteLimit": 2048000,
      "rowLimit": 10000
     },
     "inputWidgets": {},
     "nuid": "0fc088b7-9bf6-43a0-9e86-3c3f4737c9c4",
     "showTitle": false,
     "title": ""
    }
   },
   "outputs": [],
   "source": [
    "import matplotlib.pyplot as plt\n",
    "import seaborn as sns\n",
    "%matplotlib inline"
   ]
  },
  {
   "cell_type": "code",
   "execution_count": 0,
   "metadata": {
    "application/vnd.databricks.v1+cell": {
     "cellMetadata": {
      "byteLimit": 2048000,
      "rowLimit": 10000
     },
     "inputWidgets": {},
     "nuid": "11d26224-c5e7-436c-9a55-9b2131089200",
     "showTitle": false,
     "title": ""
    }
   },
   "outputs": [],
   "source": [
    "# import and preprocess data\n",
    "url = \"abfss://training@sa8451learningdev.dfs.core.windows.net/interpretable_machine_learning/eml_data/Auto.csv\"\n",
    "Auto = spark.read.option(\"header\", \"true\").csv(url).toPandas()\n",
    "\n",
    "str_cols = [\"name\"]\n",
    "num_cols = list(set(Auto.columns) - set(str_cols))\n",
    "Auto[str_cols] = Auto[str_cols].astype(str)\n",
    "Auto[num_cols] = Auto[num_cols].astype(float)"
   ]
  },
  {
   "cell_type": "markdown",
   "metadata": {
    "application/vnd.databricks.v1+cell": {
     "cellMetadata": {
      "byteLimit": 2048000,
      "rowLimit": 10000
     },
     "inputWidgets": {},
     "nuid": "6ed692c8-fb44-4a27-bdb9-e32a00445b03",
     "showTitle": false,
     "title": ""
    }
   },
   "source": [
    "**a. Create a binary variable that takes on a 1 for cars with gas\n",
    "mileage above the median, and a 0 for cars with gas mileage\n",
    "below the median.**"
   ]
  },
  {
   "cell_type": "code",
   "execution_count": 0,
   "metadata": {
    "application/vnd.databricks.v1+cell": {
     "cellMetadata": {
      "byteLimit": 2048000,
      "rowLimit": 10000
     },
     "inputWidgets": {},
     "nuid": "21ef4c44-1ef7-439e-a0d4-c949ebda06d0",
     "showTitle": false,
     "title": ""
    }
   },
   "outputs": [],
   "source": [
    "mpg_median = Auto.mpg.median()\n",
    "mpg_median"
   ]
  },
  {
   "cell_type": "code",
   "execution_count": 0,
   "metadata": {
    "application/vnd.databricks.v1+cell": {
     "cellMetadata": {
      "byteLimit": 2048000,
      "rowLimit": 10000
     },
     "inputWidgets": {},
     "nuid": "20c06751-0517-47c4-ac48-c0936b02a6c0",
     "showTitle": false,
     "title": ""
    }
   },
   "outputs": [],
   "source": [
    "Auto['med'] = np.where(Auto.mpg > mpg_median, 1, 0)\n",
    "Auto.head()"
   ]
  },
  {
   "cell_type": "code",
   "execution_count": 0,
   "metadata": {
    "application/vnd.databricks.v1+cell": {
     "cellMetadata": {
      "byteLimit": 2048000,
      "rowLimit": 10000
     },
     "inputWidgets": {},
     "nuid": "a66a84ec-6b76-4245-b4e9-2b8b004816f7",
     "showTitle": false,
     "title": ""
    }
   },
   "outputs": [],
   "source": [
    "Auto.med.value_counts()"
   ]
  },
  {
   "cell_type": "code",
   "execution_count": 0,
   "metadata": {
    "application/vnd.databricks.v1+cell": {
     "cellMetadata": {
      "byteLimit": 2048000,
      "rowLimit": 10000
     },
     "inputWidgets": {},
     "nuid": "cf1a5381-3185-4580-8448-a874e90242a7",
     "showTitle": false,
     "title": ""
    }
   },
   "outputs": [],
   "source": [
    "plt.xkcd()\n",
    "plt.figure(figsize=(25, 10))\n",
    "plt.scatter(Auto.mpg, Auto.med, color='green', s=250, alpha=0.5)\n",
    "plt.vlines(x=mpg_median, ymin=0.0, ymax=1.0, colors='orange', linestyles='dotted', label='median')\n",
    "plt.legend()\n",
    "plt.xlabel('miles per gallon', fontsize=20, color='c')\n",
    "plt.ylabel('greater than or lesser than median', fontsize=20, color='c')\n",
    "plt.title('miles per gallon and median value', fontsize=30, color='m')"
   ]
  },
  {
   "cell_type": "code",
   "execution_count": 0,
   "metadata": {
    "application/vnd.databricks.v1+cell": {
     "cellMetadata": {
      "byteLimit": 2048000,
      "rowLimit": 10000
     },
     "inputWidgets": {},
     "nuid": "d3d58cc1-70e5-43f4-8d43-66a5a344e3bf",
     "showTitle": false,
     "title": ""
    }
   },
   "outputs": [],
   "source": [
    "Auto.horsepower.dtype"
   ]
  },
  {
   "cell_type": "code",
   "execution_count": 0,
   "metadata": {
    "application/vnd.databricks.v1+cell": {
     "cellMetadata": {
      "byteLimit": 2048000,
      "rowLimit": 10000
     },
     "inputWidgets": {},
     "nuid": "0eb1bc34-0d9e-4935-bb4e-98d5e0b17fc9",
     "showTitle": false,
     "title": ""
    }
   },
   "outputs": [],
   "source": [
    "Auto['hp'] = Auto.horsepower.astype(float)"
   ]
  },
  {
   "cell_type": "code",
   "execution_count": 0,
   "metadata": {
    "application/vnd.databricks.v1+cell": {
     "cellMetadata": {
      "byteLimit": 2048000,
      "rowLimit": 10000
     },
     "inputWidgets": {},
     "nuid": "9a2abb3b-6480-4932-b2be-085190be7c8a",
     "showTitle": false,
     "title": ""
    }
   },
   "outputs": [],
   "source": [
    "Auto.head()"
   ]
  },
  {
   "cell_type": "code",
   "execution_count": 0,
   "metadata": {
    "application/vnd.databricks.v1+cell": {
     "cellMetadata": {
      "byteLimit": 2048000,
      "rowLimit": 10000
     },
     "inputWidgets": {},
     "nuid": "357e0698-e771-4627-8d2c-6edf0de9c4bf",
     "showTitle": false,
     "title": ""
    }
   },
   "outputs": [],
   "source": [
    "Auto.hp.dtype"
   ]
  },
  {
   "cell_type": "code",
   "execution_count": 0,
   "metadata": {
    "application/vnd.databricks.v1+cell": {
     "cellMetadata": {
      "byteLimit": 2048000,
      "rowLimit": 10000
     },
     "inputWidgets": {},
     "nuid": "2d733d43-a501-4f4c-bbd3-36bb82386ed2",
     "showTitle": false,
     "title": ""
    }
   },
   "outputs": [],
   "source": [
    "Auto.drop(columns='horsepower', inplace=True)\n",
    "Auto.head()"
   ]
  },
  {
   "cell_type": "code",
   "execution_count": 0,
   "metadata": {
    "application/vnd.databricks.v1+cell": {
     "cellMetadata": {
      "byteLimit": 2048000,
      "rowLimit": 10000
     },
     "inputWidgets": {},
     "nuid": "95965b57-e622-4416-84db-8178c19d1e08",
     "showTitle": false,
     "title": ""
    }
   },
   "outputs": [],
   "source": [
    "Auto.info()"
   ]
  },
  {
   "cell_type": "markdown",
   "metadata": {
    "application/vnd.databricks.v1+cell": {
     "cellMetadata": {
      "byteLimit": 2048000,
      "rowLimit": 10000
     },
     "inputWidgets": {},
     "nuid": "a47b0e9b-b909-4b5a-9215-d4612c4a9a8a",
     "showTitle": false,
     "title": ""
    }
   },
   "source": [
    "**b. Fit a support vector classifer to the data with various values of\n",
    "C, in order to predict whether a car gets high or low gas mileage.\n",
    "Report the cross-validation errors associated with diferent values of this parameter. Comment on your results. Note you will\n",
    "need to ft the classifer without the gas mileage variable to produce sensible results.**"
   ]
  },
  {
   "cell_type": "code",
   "execution_count": 0,
   "metadata": {
    "application/vnd.databricks.v1+cell": {
     "cellMetadata": {
      "byteLimit": 2048000,
      "rowLimit": 10000
     },
     "inputWidgets": {},
     "nuid": "0d2bfaa0-17bf-492f-8552-9347cdcbed37",
     "showTitle": false,
     "title": ""
    }
   },
   "outputs": [],
   "source": [
    "from sklearn.svm import SVC\n",
    "from sklearn.model_selection import GridSearchCV as GSV\n",
    "from sklearn.metrics import confusion_matrix, classification_report"
   ]
  },
  {
   "cell_type": "code",
   "execution_count": 0,
   "metadata": {
    "application/vnd.databricks.v1+cell": {
     "cellMetadata": {
      "byteLimit": 2048000,
      "rowLimit": 10000
     },
     "inputWidgets": {},
     "nuid": "7ebb3be3-cb59-4ad8-984e-ba4cfc6671e8",
     "showTitle": false,
     "title": ""
    }
   },
   "outputs": [],
   "source": [
    "df = Auto.drop(columns=['name', 'mpg', 'med'])\n",
    "Y = Auto['med']"
   ]
  },
  {
   "cell_type": "code",
   "execution_count": 0,
   "metadata": {
    "application/vnd.databricks.v1+cell": {
     "cellMetadata": {
      "byteLimit": 2048000,
      "rowLimit": 10000
     },
     "inputWidgets": {},
     "nuid": "aaa164a8-3001-41ba-8643-851b47db085c",
     "showTitle": false,
     "title": ""
    }
   },
   "outputs": [],
   "source": [
    "# cost = 10\n",
    "svmfit10 = SVC(C=10, kernel='linear').fit(df, Y)"
   ]
  },
  {
   "cell_type": "code",
   "execution_count": 0,
   "metadata": {
    "application/vnd.databricks.v1+cell": {
     "cellMetadata": {
      "byteLimit": 2048000,
      "rowLimit": 10000
     },
     "inputWidgets": {},
     "nuid": "31503a1f-ac07-402b-966c-ce135cb56286",
     "showTitle": false,
     "title": ""
    }
   },
   "outputs": [],
   "source": [
    "conf_mat10 = pd.DataFrame(confusion_matrix(Y, svmfit10.predict(df)).T, index = svmfit10.classes_, columns = svmfit10.classes_)\n",
    "conf_mat10"
   ]
  },
  {
   "cell_type": "code",
   "execution_count": 0,
   "metadata": {
    "application/vnd.databricks.v1+cell": {
     "cellMetadata": {
      "byteLimit": 2048000,
      "rowLimit": 10000
     },
     "inputWidgets": {},
     "nuid": "c6f24988-dc27-4f31-94eb-4459381e2f9e",
     "showTitle": false,
     "title": ""
    }
   },
   "outputs": [],
   "source": [
    "class_mat10 = classification_report(Y, svmfit10.predict(df))\n",
    "print(class_mat10)"
   ]
  },
  {
   "cell_type": "code",
   "execution_count": 0,
   "metadata": {
    "application/vnd.databricks.v1+cell": {
     "cellMetadata": {
      "byteLimit": 2048000,
      "rowLimit": 10000
     },
     "inputWidgets": {},
     "nuid": "6067ff94-0967-4b74-9482-acb5cc68a37d",
     "showTitle": false,
     "title": ""
    }
   },
   "outputs": [],
   "source": [
    "# cost = 1\n",
    "svmfit1 = SVC(C=1, kernel='linear').fit(df, Y)"
   ]
  },
  {
   "cell_type": "code",
   "execution_count": 0,
   "metadata": {
    "application/vnd.databricks.v1+cell": {
     "cellMetadata": {
      "byteLimit": 2048000,
      "rowLimit": 10000
     },
     "inputWidgets": {},
     "nuid": "cdfe84ab-fcb3-4d10-89eb-cb3a1e58bebd",
     "showTitle": false,
     "title": ""
    }
   },
   "outputs": [],
   "source": [
    "conf_mat1 = pd.DataFrame(confusion_matrix(Y, svmfit1.predict(df)).T, index = svmfit1.classes_, columns = svmfit1.classes_)\n",
    "conf_mat1"
   ]
  },
  {
   "cell_type": "code",
   "execution_count": 0,
   "metadata": {
    "application/vnd.databricks.v1+cell": {
     "cellMetadata": {
      "byteLimit": 2048000,
      "rowLimit": 10000
     },
     "inputWidgets": {},
     "nuid": "57c42275-9d46-4ca9-82e8-f53ba56b4a16",
     "showTitle": false,
     "title": ""
    }
   },
   "outputs": [],
   "source": [
    "class_mat1 = classification_report(Y, svmfit1.predict(df))\n",
    "print(class_mat1)"
   ]
  },
  {
   "cell_type": "code",
   "execution_count": 0,
   "metadata": {
    "application/vnd.databricks.v1+cell": {
     "cellMetadata": {
      "byteLimit": 2048000,
      "rowLimit": 10000
     },
     "inputWidgets": {},
     "nuid": "4140cbb4-98dd-49e8-9428-9336fb701cbd",
     "showTitle": false,
     "title": ""
    }
   },
   "outputs": [],
   "source": [
    "# cost = 0.25\n",
    "svmfit025 = SVC(C=0.25, kernel='linear').fit(df, Y)"
   ]
  },
  {
   "cell_type": "code",
   "execution_count": 0,
   "metadata": {
    "application/vnd.databricks.v1+cell": {
     "cellMetadata": {
      "byteLimit": 2048000,
      "rowLimit": 10000
     },
     "inputWidgets": {},
     "nuid": "a9d189a0-5ab9-41e0-a107-1bb05ec0a581",
     "showTitle": false,
     "title": ""
    }
   },
   "outputs": [],
   "source": [
    "conf_mat025 = pd.DataFrame(confusion_matrix(Y, svmfit025.predict(df)).T, index = svmfit025.classes_, columns = svmfit025.classes_)\n",
    "conf_mat025"
   ]
  },
  {
   "cell_type": "code",
   "execution_count": 0,
   "metadata": {
    "application/vnd.databricks.v1+cell": {
     "cellMetadata": {
      "byteLimit": 2048000,
      "rowLimit": 10000
     },
     "inputWidgets": {},
     "nuid": "1a22d6d4-50cd-4ea8-b534-7d82fb7172ed",
     "showTitle": false,
     "title": ""
    }
   },
   "outputs": [],
   "source": [
    "class_mat025 = classification_report(Y, svmfit025.predict(df))\n",
    "print(class_mat025)"
   ]
  },
  {
   "cell_type": "code",
   "execution_count": 0,
   "metadata": {
    "application/vnd.databricks.v1+cell": {
     "cellMetadata": {
      "byteLimit": 2048000,
      "rowLimit": 10000
     },
     "inputWidgets": {},
     "nuid": "cf98481d-06f5-4f24-8769-e571826d7942",
     "showTitle": false,
     "title": ""
    }
   },
   "outputs": [],
   "source": [
    "# cost = 20\n",
    "svmfit20 = SVC(C=20, kernel='linear').fit(df, Y)"
   ]
  },
  {
   "cell_type": "code",
   "execution_count": 0,
   "metadata": {
    "application/vnd.databricks.v1+cell": {
     "cellMetadata": {
      "byteLimit": 2048000,
      "rowLimit": 10000
     },
     "inputWidgets": {},
     "nuid": "2e2d8fda-e426-4c83-b864-3ae7c862cf0e",
     "showTitle": false,
     "title": ""
    }
   },
   "outputs": [],
   "source": [
    "conf_mat20 = pd.DataFrame(confusion_matrix(Y, svmfit20.predict(df)).T, index = svmfit20.classes_, columns = svmfit20.classes_)\n",
    "conf_mat20"
   ]
  },
  {
   "cell_type": "code",
   "execution_count": 0,
   "metadata": {
    "application/vnd.databricks.v1+cell": {
     "cellMetadata": {
      "byteLimit": 2048000,
      "rowLimit": 10000
     },
     "inputWidgets": {},
     "nuid": "33072373-4b72-4fde-909f-2bd741a51d3a",
     "showTitle": false,
     "title": ""
    }
   },
   "outputs": [],
   "source": [
    "class_mat20 = classification_report(Y, svmfit20.predict(df))\n",
    "print(class_mat20)"
   ]
  },
  {
   "cell_type": "code",
   "execution_count": 0,
   "metadata": {
    "application/vnd.databricks.v1+cell": {
     "cellMetadata": {
      "byteLimit": 2048000,
      "rowLimit": 10000
     },
     "inputWidgets": {},
     "nuid": "5dd52f92-974f-4e8d-ac68-83acefa94370",
     "showTitle": false,
     "title": ""
    }
   },
   "outputs": [],
   "source": [
    "# cost = 1000\n",
    "svmfit1000 = SVC(C=1000, kernel='linear').fit(df, Y)"
   ]
  },
  {
   "cell_type": "code",
   "execution_count": 0,
   "metadata": {
    "application/vnd.databricks.v1+cell": {
     "cellMetadata": {
      "byteLimit": 2048000,
      "rowLimit": 10000
     },
     "inputWidgets": {},
     "nuid": "fc4d533c-867d-4dc9-b962-25fd07acec29",
     "showTitle": false,
     "title": ""
    }
   },
   "outputs": [],
   "source": [
    "conf_mat1000 = pd.DataFrame(confusion_matrix(Y, svmfit1000.predict(df)).T, index = svmfit1000.classes_, columns = svmfit1000.classes_)\n",
    "conf_mat1000"
   ]
  },
  {
   "cell_type": "code",
   "execution_count": 0,
   "metadata": {
    "application/vnd.databricks.v1+cell": {
     "cellMetadata": {
      "byteLimit": 2048000,
      "rowLimit": 10000
     },
     "inputWidgets": {},
     "nuid": "41915fa5-c86c-4809-b9d0-9bcfaf4239ce",
     "showTitle": false,
     "title": ""
    }
   },
   "outputs": [],
   "source": [
    "class_mat1000 = classification_report(Y, svmfit1000.predict(df))\n",
    "print(class_mat1000)"
   ]
  },
  {
   "cell_type": "code",
   "execution_count": 0,
   "metadata": {
    "application/vnd.databricks.v1+cell": {
     "cellMetadata": {
      "byteLimit": 2048000,
      "rowLimit": 10000
     },
     "inputWidgets": {},
     "nuid": "fa1b6def-e029-47c6-bdf6-3bcdad0c5415",
     "showTitle": false,
     "title": ""
    }
   },
   "outputs": [],
   "source": [
    "cost_range = [{'C': [0.01, 0.1, 1, 5, 10, 100, 1000, 10000]}]\n",
    "cost_cv= GSV(SVC(kernel='linear'), cost_range, cv=10, scoring='accuracy').fit(df, Y)"
   ]
  },
  {
   "cell_type": "code",
   "execution_count": 0,
   "metadata": {
    "application/vnd.databricks.v1+cell": {
     "cellMetadata": {
      "byteLimit": 2048000,
      "rowLimit": 10000
     },
     "inputWidgets": {},
     "nuid": "c11f0ae1-1bbd-4310-9c0b-8ce0775dd359",
     "showTitle": false,
     "title": ""
    }
   },
   "outputs": [],
   "source": [
    "means = pd.DataFrame([cost_cv.cv_results_['mean_test_score']]).T\n",
    "means.columns = ['means']\n",
    "means.head()"
   ]
  },
  {
   "cell_type": "code",
   "execution_count": 0,
   "metadata": {
    "application/vnd.databricks.v1+cell": {
     "cellMetadata": {
      "byteLimit": 2048000,
      "rowLimit": 10000
     },
     "inputWidgets": {},
     "nuid": "6a597f7b-4a8d-45ff-8855-c37ac6e28942",
     "showTitle": false,
     "title": ""
    }
   },
   "outputs": [],
   "source": [
    "plt.xkcd()\n",
    "plt.figure(figsize=(25, 10))\n",
    "plt.plot(means, c='g', ls='-.', marker='o', markerfacecolor='orange')\n",
    "plt.title('mean test score', fontsize=30, color='m')\n",
    "plt.xlabel('cost index (for actual costs, see code)', fontsize=20, color='c')\n",
    "plt.ylabel('accuracy score', fontsize=20, color='c')"
   ]
  },
  {
   "cell_type": "markdown",
   "metadata": {
    "application/vnd.databricks.v1+cell": {
     "cellMetadata": {
      "byteLimit": 2048000,
      "rowLimit": 10000
     },
     "inputWidgets": {},
     "nuid": "796d0a3e-1d28-40e1-bdaf-4040bee4b78d",
     "showTitle": false,
     "title": ""
    }
   },
   "source": [
    "*I get the highest accuracy at $cost$=1.*"
   ]
  },
  {
   "cell_type": "markdown",
   "metadata": {
    "application/vnd.databricks.v1+cell": {
     "cellMetadata": {
      "byteLimit": 2048000,
      "rowLimit": 10000
     },
     "inputWidgets": {},
     "nuid": "2f5cc102-093f-4b63-a708-d3158de04b70",
     "showTitle": false,
     "title": ""
    }
   },
   "source": [
    "**c.  Now repeat (b), this time using SVMs with radial and polynomial basis kernels, with diferent values of gamma and degree and\n",
    "C. Comment on your results.**"
   ]
  },
  {
   "cell_type": "code",
   "execution_count": 0,
   "metadata": {
    "application/vnd.databricks.v1+cell": {
     "cellMetadata": {
      "byteLimit": 2048000,
      "rowLimit": 10000
     },
     "inputWidgets": {},
     "nuid": "7012c5e8-b5db-4ffa-8f37-6c19563ba100",
     "showTitle": false,
     "title": ""
    }
   },
   "outputs": [],
   "source": [
    "cost_range = [{'C': [0.01, 0.1, 1, 5, 10, 100, 1000, 10000], 'gamma': [0.05, 0.75, 1, 3, 5, 10, 12, 14], \n",
    "              'degree': [3, 5, 7, 10, 12, 15, 17, 25]}]\n",
    "cost_cv= GSV(SVC(kernel='rbf'), cost_range, cv=10, scoring='accuracy').fit(df, Y)"
   ]
  },
  {
   "cell_type": "code",
   "execution_count": 0,
   "metadata": {
    "application/vnd.databricks.v1+cell": {
     "cellMetadata": {
      "byteLimit": 2048000,
      "rowLimit": 10000
     },
     "inputWidgets": {},
     "nuid": "72645d7d-031e-4807-9449-b1980f9fc8fb",
     "showTitle": false,
     "title": ""
    }
   },
   "outputs": [],
   "source": [
    "means = pd.DataFrame([cost_cv.cv_results_['mean_test_score']]).T\n",
    "means.columns = ['means']\n",
    "means.head()"
   ]
  },
  {
   "cell_type": "code",
   "execution_count": 0,
   "metadata": {
    "application/vnd.databricks.v1+cell": {
     "cellMetadata": {
      "byteLimit": 2048000,
      "rowLimit": 10000
     },
     "inputWidgets": {},
     "nuid": "ef7b0698-0d3f-4d28-a43b-5199d39d1819",
     "showTitle": false,
     "title": ""
    }
   },
   "outputs": [],
   "source": [
    "plt.xkcd()\n",
    "plt.figure(figsize=(25, 10))\n",
    "plt.plot(means, ls='-.', color='green', marker='o', markersize=10, markerfacecolor='orange')\n",
    "plt.title('mean test score', fontsize=30, color='m')\n",
    "plt.xlabel('cost index (for actual costs, see code)', fontsize=20, color='c')\n",
    "plt.ylabel('accuracy score', fontsize=20, color='c')"
   ]
  },
  {
   "cell_type": "markdown",
   "metadata": {
    "application/vnd.databricks.v1+cell": {
     "cellMetadata": {
      "byteLimit": 2048000,
      "rowLimit": 10000
     },
     "inputWidgets": {},
     "nuid": "3e0f3ea6-fb76-40fa-8cac-f5ed376ee16b",
     "showTitle": false,
     "title": ""
    }
   },
   "source": [
    "**d. Make some plots to back up your assertions in (b) and (c).**"
   ]
  },
  {
   "cell_type": "code",
   "execution_count": 0,
   "metadata": {
    "application/vnd.databricks.v1+cell": {
     "cellMetadata": {
      "byteLimit": 2048000,
      "rowLimit": 10000
     },
     "inputWidgets": {},
     "nuid": "2a4481df-5294-41c9-82e5-95c0bcd9dde3",
     "showTitle": false,
     "title": ""
    }
   },
   "outputs": [],
   "source": [
    "Ypred = svmfit10.predict(df)"
   ]
  },
  {
   "cell_type": "code",
   "execution_count": 0,
   "metadata": {
    "application/vnd.databricks.v1+cell": {
     "cellMetadata": {
      "byteLimit": 2048000,
      "rowLimit": 10000
     },
     "inputWidgets": {},
     "nuid": "3906b854-6cbb-4aff-8949-ebf6a8cfc933",
     "showTitle": false,
     "title": ""
    }
   },
   "outputs": [],
   "source": [
    "list(df)"
   ]
  },
  {
   "cell_type": "code",
   "execution_count": 0,
   "metadata": {
    "application/vnd.databricks.v1+cell": {
     "cellMetadata": {
      "byteLimit": 2048000,
      "rowLimit": 10000
     },
     "inputWidgets": {},
     "nuid": "04b45d93-4b3b-4b12-91fa-4b274bc33aff",
     "showTitle": false,
     "title": ""
    }
   },
   "outputs": [],
   "source": [
    "xx = df[['cylinders', 'displacement']]"
   ]
  },
  {
   "cell_type": "code",
   "execution_count": 0,
   "metadata": {
    "application/vnd.databricks.v1+cell": {
     "cellMetadata": {
      "byteLimit": 2048000,
      "rowLimit": 10000
     },
     "inputWidgets": {},
     "nuid": "5291ffe3-a6bc-4bfc-92fa-dd6309d060f3",
     "showTitle": false,
     "title": ""
    }
   },
   "outputs": [],
   "source": [
    "svmfitxx = SVC(kernel='linear').fit(xx, Y)"
   ]
  },
  {
   "cell_type": "code",
   "execution_count": 0,
   "metadata": {
    "application/vnd.databricks.v1+cell": {
     "cellMetadata": {
      "byteLimit": 2048000,
      "rowLimit": 10000
     },
     "inputWidgets": {},
     "nuid": "15f72a83-d1cd-414f-814f-3ede9eab9ca3",
     "showTitle": false,
     "title": ""
    }
   },
   "outputs": [],
   "source": [
    "svmpredxx = svmfitxx.predict(xx)"
   ]
  },
  {
   "cell_type": "code",
   "execution_count": 0,
   "metadata": {
    "application/vnd.databricks.v1+cell": {
     "cellMetadata": {
      "byteLimit": 2048000,
      "rowLimit": 10000
     },
     "inputWidgets": {},
     "nuid": "83ebe4ce-a373-4fd5-a611-b904728724ae",
     "showTitle": false,
     "title": ""
    }
   },
   "outputs": [],
   "source": [
    "dfpred = pd.concat([xx, pd.DataFrame([svmpredxx]).T], axis=1)"
   ]
  },
  {
   "cell_type": "code",
   "execution_count": 0,
   "metadata": {
    "application/vnd.databricks.v1+cell": {
     "cellMetadata": {
      "byteLimit": 2048000,
      "rowLimit": 10000
     },
     "inputWidgets": {},
     "nuid": "1cb3fa60-ef40-4b52-9647-b2e653ca6417",
     "showTitle": false,
     "title": ""
    }
   },
   "outputs": [],
   "source": [
    "dfpred.columns = ['cylinders', 'displacement', 'predict']\n",
    "dfpred.head()"
   ]
  },
  {
   "cell_type": "code",
   "execution_count": 0,
   "metadata": {
    "application/vnd.databricks.v1+cell": {
     "cellMetadata": {
      "byteLimit": 2048000,
      "rowLimit": 10000
     },
     "inputWidgets": {},
     "nuid": "5d822fbe-64a4-4981-a74a-39e043c18aa2",
     "showTitle": false,
     "title": ""
    }
   },
   "outputs": [],
   "source": [
    "plt.xkcd()\n",
    "plt.figure(figsize=(25, 10))\n",
    "plt.scatter(dfpred.cylinders[dfpred.predict==0], dfpred.displacement[dfpred.predict==0], color='green', s=200, alpha=0.5)\n",
    "plt.scatter(dfpred.cylinders[dfpred.predict==1], dfpred.displacement[dfpred.predict==1], color='orange', s=200, alpha=0.5)"
   ]
  },
  {
   "cell_type": "code",
   "execution_count": 0,
   "metadata": {
    "application/vnd.databricks.v1+cell": {
     "cellMetadata": {
      "byteLimit": 2048000,
      "rowLimit": 10000
     },
     "inputWidgets": {},
     "nuid": "0d0ed414-26a5-4171-bc3d-6253878135aa",
     "showTitle": false,
     "title": ""
    }
   },
   "outputs": [],
   "source": [
    "list(df)"
   ]
  },
  {
   "cell_type": "code",
   "execution_count": 0,
   "metadata": {
    "application/vnd.databricks.v1+cell": {
     "cellMetadata": {
      "byteLimit": 2048000,
      "rowLimit": 10000
     },
     "inputWidgets": {},
     "nuid": "fe455e39-cd59-4bf1-8e22-f9ffcac1d9f7",
     "showTitle": false,
     "title": ""
    }
   },
   "outputs": [],
   "source": [
    "xx = df[['weight', 'displacement']]"
   ]
  },
  {
   "cell_type": "code",
   "execution_count": 0,
   "metadata": {
    "application/vnd.databricks.v1+cell": {
     "cellMetadata": {
      "byteLimit": 2048000,
      "rowLimit": 10000
     },
     "inputWidgets": {},
     "nuid": "484663e3-1609-4526-a813-40c1cedf7ef9",
     "showTitle": false,
     "title": ""
    }
   },
   "outputs": [],
   "source": [
    "svmfitxx = SVC(kernel='linear').fit(xx, Y)"
   ]
  },
  {
   "cell_type": "code",
   "execution_count": 0,
   "metadata": {
    "application/vnd.databricks.v1+cell": {
     "cellMetadata": {
      "byteLimit": 2048000,
      "rowLimit": 10000
     },
     "inputWidgets": {},
     "nuid": "f225fd23-e5de-4235-a7ee-c1e68fbb3f1e",
     "showTitle": false,
     "title": ""
    }
   },
   "outputs": [],
   "source": [
    "svmpredxx"
   ]
  },
  {
   "cell_type": "code",
   "execution_count": 0,
   "metadata": {
    "application/vnd.databricks.v1+cell": {
     "cellMetadata": {
      "byteLimit": 2048000,
      "rowLimit": 10000
     },
     "inputWidgets": {},
     "nuid": "6620b1b4-39c2-4391-bca3-eca17ce29939",
     "showTitle": false,
     "title": ""
    }
   },
   "outputs": [],
   "source": [
    "dfpred = pd.concat([xx, pd.DataFrame([svmpredxx]).T], axis=1)"
   ]
  },
  {
   "cell_type": "code",
   "execution_count": 0,
   "metadata": {
    "application/vnd.databricks.v1+cell": {
     "cellMetadata": {
      "byteLimit": 2048000,
      "rowLimit": 10000
     },
     "inputWidgets": {},
     "nuid": "92e69aa2-d03c-44ee-beac-fe2c25fcecd5",
     "showTitle": false,
     "title": ""
    }
   },
   "outputs": [],
   "source": [
    "dfpred.columns = ['weight', 'displacement', 'predict']\n",
    "dfpred.head()"
   ]
  },
  {
   "cell_type": "code",
   "execution_count": 0,
   "metadata": {
    "application/vnd.databricks.v1+cell": {
     "cellMetadata": {
      "byteLimit": 2048000,
      "rowLimit": 10000
     },
     "inputWidgets": {},
     "nuid": "87098c58-8d52-4fc3-966d-a96b1c7f952c",
     "showTitle": false,
     "title": ""
    }
   },
   "outputs": [],
   "source": [
    "plt.xkcd()\n",
    "plt.figure(figsize=(25, 10))\n",
    "plt.scatter(dfpred.weight[dfpred.predict==0], dfpred.displacement[dfpred.predict==0], color='green', s=200, alpha=0.5)\n",
    "plt.scatter(dfpred.weight[dfpred.predict==1], dfpred.displacement[dfpred.predict==1], color='orange', s=200, alpha=0.5)"
   ]
  },
  {
   "cell_type": "code",
   "execution_count": 0,
   "metadata": {
    "application/vnd.databricks.v1+cell": {
     "cellMetadata": {
      "byteLimit": 2048000,
      "rowLimit": 10000
     },
     "inputWidgets": {},
     "nuid": "4b3dec26-a2df-46fc-a4ce-56119cfdaa60",
     "showTitle": false,
     "title": ""
    }
   },
   "outputs": [],
   "source": [
    "list(df)"
   ]
  },
  {
   "cell_type": "code",
   "execution_count": 0,
   "metadata": {
    "application/vnd.databricks.v1+cell": {
     "cellMetadata": {
      "byteLimit": 2048000,
      "rowLimit": 10000
     },
     "inputWidgets": {},
     "nuid": "3bd0b894-ab68-4132-8eae-12d4eebc0c04",
     "showTitle": false,
     "title": ""
    }
   },
   "outputs": [],
   "source": [
    "xx = df[['acceleration', 'hp']]"
   ]
  },
  {
   "cell_type": "code",
   "execution_count": 0,
   "metadata": {
    "application/vnd.databricks.v1+cell": {
     "cellMetadata": {
      "byteLimit": 2048000,
      "rowLimit": 10000
     },
     "inputWidgets": {},
     "nuid": "d812bf23-fc37-4702-8d64-f44e9f88e502",
     "showTitle": false,
     "title": ""
    }
   },
   "outputs": [],
   "source": [
    "svmfitxx = SVC(kernel='linear').fit(xx, Y)"
   ]
  },
  {
   "cell_type": "code",
   "execution_count": 0,
   "metadata": {
    "application/vnd.databricks.v1+cell": {
     "cellMetadata": {
      "byteLimit": 2048000,
      "rowLimit": 10000
     },
     "inputWidgets": {},
     "nuid": "50a147e6-c68d-4368-89be-88bce84f4ef0",
     "showTitle": false,
     "title": ""
    }
   },
   "outputs": [],
   "source": [
    "svmpredxx"
   ]
  },
  {
   "cell_type": "code",
   "execution_count": 0,
   "metadata": {
    "application/vnd.databricks.v1+cell": {
     "cellMetadata": {
      "byteLimit": 2048000,
      "rowLimit": 10000
     },
     "inputWidgets": {},
     "nuid": "0c4445bc-461d-473f-8e1d-843950c6efa2",
     "showTitle": false,
     "title": ""
    }
   },
   "outputs": [],
   "source": [
    "dfpred = pd.concat([xx, pd.DataFrame([svmpredxx]).T], axis=1)"
   ]
  },
  {
   "cell_type": "code",
   "execution_count": 0,
   "metadata": {
    "application/vnd.databricks.v1+cell": {
     "cellMetadata": {
      "byteLimit": 2048000,
      "rowLimit": 10000
     },
     "inputWidgets": {},
     "nuid": "bc46abd7-38ad-44c3-8261-5c48c3cb0011",
     "showTitle": false,
     "title": ""
    }
   },
   "outputs": [],
   "source": [
    "dfpred.columns = ['acceleration', 'hp', 'predict']\n",
    "dfpred.head()"
   ]
  },
  {
   "cell_type": "code",
   "execution_count": 0,
   "metadata": {
    "application/vnd.databricks.v1+cell": {
     "cellMetadata": {
      "byteLimit": 2048000,
      "rowLimit": 10000
     },
     "inputWidgets": {},
     "nuid": "6dc9b681-2a19-4596-b4e9-bed74da9f74a",
     "showTitle": false,
     "title": ""
    }
   },
   "outputs": [],
   "source": [
    "plt.xkcd()\n",
    "plt.figure(figsize=(25, 10))\n",
    "plt.scatter(dfpred.acceleration[dfpred.predict==0], dfpred.hp[dfpred.predict==0], color='green', s=200, alpha=0.5)\n",
    "plt.scatter(dfpred.acceleration[dfpred.predict==1], dfpred.hp[dfpred.predict==1], color='orange', s=200, alpha=0.5)"
   ]
  },
  {
   "cell_type": "code",
   "execution_count": 0,
   "metadata": {
    "application/vnd.databricks.v1+cell": {
     "cellMetadata": {
      "byteLimit": 2048000,
      "rowLimit": 10000
     },
     "inputWidgets": {},
     "nuid": "ceaca63f-dbbf-4612-8df3-a797a8d61945",
     "showTitle": false,
     "title": ""
    }
   },
   "outputs": [],
   "source": [
    "list(df)"
   ]
  },
  {
   "cell_type": "code",
   "execution_count": 0,
   "metadata": {
    "application/vnd.databricks.v1+cell": {
     "cellMetadata": {
      "byteLimit": 2048000,
      "rowLimit": 10000
     },
     "inputWidgets": {},
     "nuid": "8d16e081-cb95-4cbd-ac67-7953c9ae71fb",
     "showTitle": false,
     "title": ""
    }
   },
   "outputs": [],
   "source": [
    "xx = df[['acceleration', 'hp']]"
   ]
  },
  {
   "cell_type": "code",
   "execution_count": 0,
   "metadata": {
    "application/vnd.databricks.v1+cell": {
     "cellMetadata": {
      "byteLimit": 2048000,
      "rowLimit": 10000
     },
     "inputWidgets": {},
     "nuid": "3aef73cc-14d6-4027-a238-ea92e3734238",
     "showTitle": false,
     "title": ""
    }
   },
   "outputs": [],
   "source": [
    "svmfitxx = SVC(kernel='rbf', C=1000, degree=3, gamma=10).fit(xx, Y)"
   ]
  },
  {
   "cell_type": "code",
   "execution_count": 0,
   "metadata": {
    "application/vnd.databricks.v1+cell": {
     "cellMetadata": {
      "byteLimit": 2048000,
      "rowLimit": 10000
     },
     "inputWidgets": {},
     "nuid": "76dbf2f1-9b55-4b86-83e7-bc7465da6253",
     "showTitle": false,
     "title": ""
    }
   },
   "outputs": [],
   "source": [
    "svmpredxx"
   ]
  },
  {
   "cell_type": "code",
   "execution_count": 0,
   "metadata": {
    "application/vnd.databricks.v1+cell": {
     "cellMetadata": {
      "byteLimit": 2048000,
      "rowLimit": 10000
     },
     "inputWidgets": {},
     "nuid": "e7f3cb13-33c9-4381-a0f1-69d08c555c58",
     "showTitle": false,
     "title": ""
    }
   },
   "outputs": [],
   "source": [
    "dfpred = pd.concat([xx, pd.DataFrame([svmpredxx]).T], axis=1)"
   ]
  },
  {
   "cell_type": "code",
   "execution_count": 0,
   "metadata": {
    "application/vnd.databricks.v1+cell": {
     "cellMetadata": {
      "byteLimit": 2048000,
      "rowLimit": 10000
     },
     "inputWidgets": {},
     "nuid": "02e0b9b3-0048-4147-9d69-474a6e0429ae",
     "showTitle": false,
     "title": ""
    }
   },
   "outputs": [],
   "source": [
    "dfpred.columns = ['acceleration', 'hp', 'predict']\n",
    "dfpred.head()"
   ]
  },
  {
   "cell_type": "code",
   "execution_count": 0,
   "metadata": {
    "application/vnd.databricks.v1+cell": {
     "cellMetadata": {
      "byteLimit": 2048000,
      "rowLimit": 10000
     },
     "inputWidgets": {},
     "nuid": "9688e4ad-8635-482e-87df-b5c7bca03706",
     "showTitle": false,
     "title": ""
    }
   },
   "outputs": [],
   "source": [
    "plt.xkcd()\n",
    "plt.figure(figsize=(25, 10))\n",
    "plt.scatter(dfpred.acceleration[dfpred.predict==0], dfpred.hp[dfpred.predict==0], color='green', s=200, alpha=0.5)\n",
    "plt.scatter(dfpred.acceleration[dfpred.predict==1], dfpred.hp[dfpred.predict==1], color='orange', s=200, alpha=0.5)"
   ]
  }
 ],
 "metadata": {
  "application/vnd.databricks.v1+notebook": {
   "dashboards": [],
   "language": "python",
   "notebookMetadata": {
    "pythonIndentUnit": 2
   },
   "notebookName": "Question 7 - answer",
   "widgets": {}
  }
 },
 "nbformat": 4,
 "nbformat_minor": 0
}
