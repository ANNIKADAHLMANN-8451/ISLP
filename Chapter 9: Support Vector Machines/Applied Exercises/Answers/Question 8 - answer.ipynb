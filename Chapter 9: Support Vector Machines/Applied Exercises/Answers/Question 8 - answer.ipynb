{
 "cells": [
  {
   "cell_type": "markdown",
   "metadata": {
    "application/vnd.databricks.v1+cell": {
     "cellMetadata": {
      "byteLimit": 2048000,
      "rowLimit": 10000
     },
     "inputWidgets": {},
     "nuid": "315f249c-89be-48bb-8d7d-438809a5d158",
     "showTitle": false,
     "title": ""
    }
   },
   "source": [
    "This problem involves the OJ data set."
   ]
  },
  {
   "cell_type": "markdown",
   "metadata": {
    "application/vnd.databricks.v1+cell": {
     "cellMetadata": {
      "byteLimit": 2048000,
      "rowLimit": 10000
     },
     "inputWidgets": {},
     "nuid": "e4b473fd-dedc-4def-a727-ac15a54f19db",
     "showTitle": false,
     "title": ""
    }
   },
   "source": [
    "## Preprocessing"
   ]
  },
  {
   "cell_type": "code",
   "execution_count": 0,
   "metadata": {
    "application/vnd.databricks.v1+cell": {
     "cellMetadata": {
      "byteLimit": 2048000,
      "rowLimit": 10000
     },
     "inputWidgets": {},
     "nuid": "b38b83a5-ab0d-4a3b-9e5f-e9d06dea7305",
     "showTitle": false,
     "title": ""
    }
   },
   "outputs": [],
   "source": [
    "import numpy as np\n",
    "import pandas as pd"
   ]
  },
  {
   "cell_type": "code",
   "execution_count": 0,
   "metadata": {
    "application/vnd.databricks.v1+cell": {
     "cellMetadata": {
      "byteLimit": 2048000,
      "rowLimit": 10000
     },
     "inputWidgets": {},
     "nuid": "3ebcdb50-61a2-4e65-8005-821f081a0aa1",
     "showTitle": false,
     "title": ""
    }
   },
   "outputs": [],
   "source": [
    "import matplotlib.pyplot as plt\n",
    "import seaborn as sns\n",
    "%matplotlib inline"
   ]
  },
  {
   "cell_type": "code",
   "execution_count": 0,
   "metadata": {
    "application/vnd.databricks.v1+cell": {
     "cellMetadata": {
      "byteLimit": 2048000,
      "rowLimit": 10000
     },
     "inputWidgets": {},
     "nuid": "98719650-e60f-4de7-9922-302c8850362d",
     "showTitle": false,
     "title": ""
    }
   },
   "outputs": [],
   "source": [
    "# load and preprocess data\n",
    "url = \"abfss://training@sa8451learningdev.dfs.core.windows.net/interpretable_machine_learning/eml_data/OJ.csv\"\n",
    "OJ = spark.read.option(\"header\", \"true\").csv(url).toPandas()\n",
    "OJ.set_index(\"SlNo\", inplace=True)\n",
    "\n",
    "str_cols = [\"Purchase\", \"Store7\"]\n",
    "float_cols = [\"PriceCH\", \"PriceMM\", \"DiscCH\", \"DiscMM\", \"LoyalCH\", \"SalePriceMM\", \"SalePriceCH\", \"PriceDiff\", \"PctDiscMM\", \"PctDiscCH\", \"ListPriceDiff\"]\n",
    "int_cols = list(set(OJ.columns)-set(str_cols)-set(float_cols))\n",
    "OJ[str_cols] = OJ[str_cols].astype(str)\n",
    "OJ[float_cols] = OJ[float_cols].astype(float)\n",
    "OJ[int_cols] = OJ[int_cols].astype(int)"
   ]
  },
  {
   "cell_type": "code",
   "execution_count": 0,
   "metadata": {
    "application/vnd.databricks.v1+cell": {
     "cellMetadata": {
      "byteLimit": 2048000,
      "rowLimit": 10000
     },
     "inputWidgets": {},
     "nuid": "6cd4303b-2ed1-4f6f-a7d8-0d17f27f70af",
     "showTitle": false,
     "title": ""
    }
   },
   "outputs": [],
   "source": [
    "OJ.head()"
   ]
  },
  {
   "cell_type": "code",
   "execution_count": 0,
   "metadata": {
    "application/vnd.databricks.v1+cell": {
     "cellMetadata": {
      "byteLimit": 2048000,
      "rowLimit": 10000
     },
     "inputWidgets": {},
     "nuid": "0f7a4ee9-6cf2-466c-9e9e-c2c1121fed04",
     "showTitle": false,
     "title": ""
    }
   },
   "outputs": [],
   "source": [
    "OJ.Purchase = pd.factorize(OJ.Purchase)[0]\n",
    "OJ.Store7 = pd.factorize(OJ.Store7)[0]\n",
    "OJ.head()"
   ]
  },
  {
   "cell_type": "code",
   "execution_count": 0,
   "metadata": {
    "application/vnd.databricks.v1+cell": {
     "cellMetadata": {
      "byteLimit": 2048000,
      "rowLimit": 10000
     },
     "inputWidgets": {},
     "nuid": "a4d5882b-2f09-4dd1-9385-e8de4a879851",
     "showTitle": false,
     "title": ""
    }
   },
   "outputs": [],
   "source": [
    "OJ.info()"
   ]
  },
  {
   "cell_type": "markdown",
   "metadata": {
    "application/vnd.databricks.v1+cell": {
     "cellMetadata": {
      "byteLimit": 2048000,
      "rowLimit": 10000
     },
     "inputWidgets": {},
     "nuid": "4c98c165-fa16-4db0-b270-72ebd7dab08f",
     "showTitle": false,
     "title": ""
    }
   },
   "source": [
    "**a. Create a training set containing a random sample of 800\n",
    "observations, and a test set containing the remaining\n",
    "observations.**"
   ]
  },
  {
   "cell_type": "code",
   "execution_count": 0,
   "metadata": {
    "application/vnd.databricks.v1+cell": {
     "cellMetadata": {
      "byteLimit": 2048000,
      "rowLimit": 10000
     },
     "inputWidgets": {},
     "nuid": "6f328bf2-50bf-4fc0-bb52-289affc2abf3",
     "showTitle": false,
     "title": ""
    }
   },
   "outputs": [],
   "source": [
    "from sklearn.model_selection import train_test_split"
   ]
  },
  {
   "cell_type": "code",
   "execution_count": 0,
   "metadata": {
    "application/vnd.databricks.v1+cell": {
     "cellMetadata": {
      "byteLimit": 2048000,
      "rowLimit": 10000
     },
     "inputWidgets": {},
     "nuid": "8c39863b-475c-47b2-86a8-ed337f149c97",
     "showTitle": false,
     "title": ""
    }
   },
   "outputs": [],
   "source": [
    "X = OJ.drop(columns='Purchase')\n",
    "y = OJ.Purchase\n",
    "\n",
    "X_train, X_test, y_train, y_test = train_test_split(X, y, test_size=0.53271028037, random_state=42)"
   ]
  },
  {
   "cell_type": "code",
   "execution_count": 0,
   "metadata": {
    "application/vnd.databricks.v1+cell": {
     "cellMetadata": {
      "byteLimit": 2048000,
      "rowLimit": 10000
     },
     "inputWidgets": {},
     "nuid": "63821531-8204-41cb-82f0-38ffac0219fd",
     "showTitle": false,
     "title": ""
    }
   },
   "outputs": [],
   "source": [
    "X_train.shape"
   ]
  },
  {
   "cell_type": "code",
   "execution_count": 0,
   "metadata": {
    "application/vnd.databricks.v1+cell": {
     "cellMetadata": {
      "byteLimit": 2048000,
      "rowLimit": 10000
     },
     "inputWidgets": {},
     "nuid": "f7974a49-2a13-4608-950c-e8c3f12e4d12",
     "showTitle": false,
     "title": ""
    }
   },
   "outputs": [],
   "source": [
    "y_train.shape"
   ]
  },
  {
   "cell_type": "markdown",
   "metadata": {
    "application/vnd.databricks.v1+cell": {
     "cellMetadata": {
      "byteLimit": 2048000,
      "rowLimit": 10000
     },
     "inputWidgets": {},
     "nuid": "7170b678-4b09-41b5-85db-d8510494e34d",
     "showTitle": false,
     "title": ""
    }
   },
   "source": [
    "**b. Fit a support vector classifer to the training data using\n",
    "`C = 0.01`, with `Purchase` as the response and the other variables\n",
    "as predictors. How many support points are there?**"
   ]
  },
  {
   "cell_type": "code",
   "execution_count": 0,
   "metadata": {
    "application/vnd.databricks.v1+cell": {
     "cellMetadata": {
      "byteLimit": 2048000,
      "rowLimit": 10000
     },
     "inputWidgets": {},
     "nuid": "cab58577-ef1a-4c31-9b5f-83f10ca7940e",
     "showTitle": false,
     "title": ""
    }
   },
   "outputs": [],
   "source": [
    "from sklearn.svm import SVC"
   ]
  },
  {
   "cell_type": "code",
   "execution_count": 0,
   "metadata": {
    "application/vnd.databricks.v1+cell": {
     "cellMetadata": {
      "byteLimit": 2048000,
      "rowLimit": 10000
     },
     "inputWidgets": {},
     "nuid": "3e100b17-4f88-42b1-9560-e52100df52bc",
     "showTitle": false,
     "title": ""
    }
   },
   "outputs": [],
   "source": [
    "svmfit = SVC(kernel='linear', C=0.01).fit(X_train, y_train)"
   ]
  },
  {
   "cell_type": "code",
   "execution_count": 0,
   "metadata": {
    "application/vnd.databricks.v1+cell": {
     "cellMetadata": {
      "byteLimit": 2048000,
      "rowLimit": 10000
     },
     "inputWidgets": {},
     "nuid": "9c768178-afd9-4f7d-9561-ac25e97b2b54",
     "showTitle": false,
     "title": ""
    }
   },
   "outputs": [],
   "source": [
    "svmfit.support_vectors_"
   ]
  },
  {
   "cell_type": "code",
   "execution_count": 0,
   "metadata": {
    "application/vnd.databricks.v1+cell": {
     "cellMetadata": {
      "byteLimit": 2048000,
      "rowLimit": 10000
     },
     "inputWidgets": {},
     "nuid": "0ba47ca7-b590-4369-86a1-a5f9649dd19e",
     "showTitle": false,
     "title": ""
    }
   },
   "outputs": [],
   "source": [
    "svmfit.classes_"
   ]
  },
  {
   "cell_type": "code",
   "execution_count": 0,
   "metadata": {
    "application/vnd.databricks.v1+cell": {
     "cellMetadata": {
      "byteLimit": 2048000,
      "rowLimit": 10000
     },
     "inputWidgets": {},
     "nuid": "a45c0999-bc02-4e80-a188-11f9c5fe1bea",
     "showTitle": false,
     "title": ""
    }
   },
   "outputs": [],
   "source": [
    "svmfit.coef_"
   ]
  },
  {
   "cell_type": "code",
   "execution_count": 0,
   "metadata": {
    "application/vnd.databricks.v1+cell": {
     "cellMetadata": {
      "byteLimit": 2048000,
      "rowLimit": 10000
     },
     "inputWidgets": {},
     "nuid": "e227be2b-8488-43c4-8e45-5fb0b3bf8def",
     "showTitle": false,
     "title": ""
    }
   },
   "outputs": [],
   "source": [
    "svmfit.get_params()"
   ]
  },
  {
   "cell_type": "markdown",
   "metadata": {
    "application/vnd.databricks.v1+cell": {
     "cellMetadata": {
      "byteLimit": 2048000,
      "rowLimit": 10000
     },
     "inputWidgets": {},
     "nuid": "86c89f79-1da4-4847-8a86-5ba35e7f2f67",
     "showTitle": false,
     "title": ""
    }
   },
   "source": [
    "**c. What are the training and test error rates?**"
   ]
  },
  {
   "cell_type": "code",
   "execution_count": 0,
   "metadata": {
    "application/vnd.databricks.v1+cell": {
     "cellMetadata": {
      "byteLimit": 2048000,
      "rowLimit": 10000
     },
     "inputWidgets": {},
     "nuid": "4b90dae4-58cb-47f4-b423-25358987ec08",
     "showTitle": false,
     "title": ""
    }
   },
   "outputs": [],
   "source": [
    "from sklearn.metrics import confusion_matrix, classification_report"
   ]
  },
  {
   "cell_type": "code",
   "execution_count": 0,
   "metadata": {
    "application/vnd.databricks.v1+cell": {
     "cellMetadata": {
      "byteLimit": 2048000,
      "rowLimit": 10000
     },
     "inputWidgets": {},
     "nuid": "6b51a094-7952-4b33-8959-f0397d44d33b",
     "showTitle": false,
     "title": ""
    }
   },
   "outputs": [],
   "source": [
    "svmpred_train = svmfit.predict(X_train)"
   ]
  },
  {
   "cell_type": "code",
   "execution_count": 0,
   "metadata": {
    "application/vnd.databricks.v1+cell": {
     "cellMetadata": {
      "byteLimit": 2048000,
      "rowLimit": 10000
     },
     "inputWidgets": {},
     "nuid": "821846a8-6102-4e4e-8c4e-197bbc4ffc24",
     "showTitle": false,
     "title": ""
    }
   },
   "outputs": [],
   "source": [
    "conf_mat_train = pd.DataFrame(confusion_matrix(y_train, svmpred_train).T, index=svmfit.classes_, columns=svmfit.classes_)\n",
    "conf_mat_train"
   ]
  },
  {
   "cell_type": "code",
   "execution_count": 0,
   "metadata": {
    "application/vnd.databricks.v1+cell": {
     "cellMetadata": {
      "byteLimit": 2048000,
      "rowLimit": 10000
     },
     "inputWidgets": {},
     "nuid": "d3c6da91-8377-4f6f-aff9-a619c5a1819e",
     "showTitle": false,
     "title": ""
    }
   },
   "outputs": [],
   "source": [
    "class_mat_train  = classification_report(y_train, svmpred_train)\n",
    "print(class_mat_train)"
   ]
  },
  {
   "cell_type": "code",
   "execution_count": 0,
   "metadata": {
    "application/vnd.databricks.v1+cell": {
     "cellMetadata": {
      "byteLimit": 2048000,
      "rowLimit": 10000
     },
     "inputWidgets": {},
     "nuid": "4d246bcb-39aa-448e-bb4b-17843592f401",
     "showTitle": false,
     "title": ""
    }
   },
   "outputs": [],
   "source": [
    "svmpred_test = svmfit.predict(X_test)"
   ]
  },
  {
   "cell_type": "code",
   "execution_count": 0,
   "metadata": {
    "application/vnd.databricks.v1+cell": {
     "cellMetadata": {
      "byteLimit": 2048000,
      "rowLimit": 10000
     },
     "inputWidgets": {},
     "nuid": "36917606-0d41-48bc-957f-01dd92df9da7",
     "showTitle": false,
     "title": ""
    }
   },
   "outputs": [],
   "source": [
    "conf_mat_test = pd.DataFrame(confusion_matrix(y_test, svmpred_test).T, index=svmfit.classes_, columns=svmfit.classes_)\n",
    "conf_mat_test"
   ]
  },
  {
   "cell_type": "code",
   "execution_count": 0,
   "metadata": {
    "application/vnd.databricks.v1+cell": {
     "cellMetadata": {
      "byteLimit": 2048000,
      "rowLimit": 10000
     },
     "inputWidgets": {},
     "nuid": "f0ace92e-69d6-46db-a004-f50c83f1c4da",
     "showTitle": false,
     "title": ""
    }
   },
   "outputs": [],
   "source": [
    "class_mat_test  = classification_report(y_test, svmpred_test)\n",
    "print(class_mat_test)"
   ]
  },
  {
   "cell_type": "markdown",
   "metadata": {
    "application/vnd.databricks.v1+cell": {
     "cellMetadata": {
      "byteLimit": 2048000,
      "rowLimit": 10000
     },
     "inputWidgets": {},
     "nuid": "5ce8d1f1-673f-45e6-b312-88e5ecedf91a",
     "showTitle": false,
     "title": ""
    }
   },
   "source": [
    "**d. Use cross-validation to select an optimal C. Consider values in\n",
    "the range 0.01 to 10.**"
   ]
  },
  {
   "cell_type": "code",
   "execution_count": 0,
   "metadata": {
    "application/vnd.databricks.v1+cell": {
     "cellMetadata": {
      "byteLimit": 2048000,
      "rowLimit": 10000
     },
     "inputWidgets": {},
     "nuid": "b3da4e4a-f68f-4288-8373-0cde7f160196",
     "showTitle": false,
     "title": ""
    }
   },
   "outputs": [],
   "source": [
    "cost_range = np.linspace(0.01, 10, 50)"
   ]
  },
  {
   "cell_type": "code",
   "execution_count": 0,
   "metadata": {
    "application/vnd.databricks.v1+cell": {
     "cellMetadata": {
      "byteLimit": 2048000,
      "rowLimit": 10000
     },
     "inputWidgets": {},
     "nuid": "5b4fab56-99b6-437c-8011-8286669f420b",
     "showTitle": false,
     "title": ""
    }
   },
   "outputs": [],
   "source": [
    "errdf = pd.DataFrame()\n",
    "for k in cost_range:\n",
    "    svmfit = SVC(kernel='linear', C=k, degree=1).fit(X_train, y_train)\n",
    "    svmpred_train = svmfit.predict(X_train)\n",
    "    conf_mat_train = confusion_matrix(y_train, svmpred_train)\n",
    "    NoNo = pd.DataFrame([conf_mat_train[0][0]])\n",
    "    YesYes = pd.DataFrame([conf_mat_train[1][1]])\n",
    "    errdf = errdf.append((NoNo + YesYes) / 500)\n",
    "\n",
    "errdf.columns = ['error']\n",
    "errdf.reset_index(drop=True, inplace=True)\n",
    "errdf.index = np.round(cost_range, 2)\n",
    "errdf"
   ]
  },
  {
   "cell_type": "code",
   "execution_count": 0,
   "metadata": {
    "application/vnd.databricks.v1+cell": {
     "cellMetadata": {
      "byteLimit": 2048000,
      "rowLimit": 10000
     },
     "inputWidgets": {},
     "nuid": "37f6b72f-40bf-48bd-8c05-eb3146361e80",
     "showTitle": false,
     "title": ""
    }
   },
   "outputs": [],
   "source": [
    "plt.xkcd()\n",
    "plt.figure(figsize=(25, 10))\n",
    "plt.plot(errdf.index, errdf.error, c='g', ls='-.', marker='o', markerfacecolor='orange')\n",
    "plt.title('error rates for svc prediction on training data set', fontsize=30, color='m')\n",
    "plt.xlabel('cost index (for actual costs, see code)', fontsize=20, color='c')\n",
    "plt.ylabel('error', fontsize=20, color='c')"
   ]
  },
  {
   "cell_type": "code",
   "execution_count": 0,
   "metadata": {
    "application/vnd.databricks.v1+cell": {
     "cellMetadata": {
      "byteLimit": 2048000,
      "rowLimit": 10000
     },
     "inputWidgets": {},
     "nuid": "dd60e473-29c0-40b8-9ee7-2eb0ef97b804",
     "showTitle": false,
     "title": ""
    }
   },
   "outputs": [],
   "source": [
    "errdf = pd.DataFrame()\n",
    "for k in cost_range:\n",
    "    svmfit = SVC(kernel='linear', C=k, degree=1).fit(X_train, y_train)\n",
    "    svmpred_test = svmfit.predict(X_test)\n",
    "    conf_mat_test = confusion_matrix(y_test, svmpred_test)\n",
    "    NoNo = pd.DataFrame([conf_mat_test[0][0]])\n",
    "    YesYes = pd.DataFrame([conf_mat_test[1][1]])\n",
    "    errdf = errdf.append((NoNo + YesYes) / 500)\n",
    "\n",
    "errdf.columns = ['error']\n",
    "errdf.reset_index(drop=True, inplace=True)\n",
    "errdf.index = np.round(cost_range, 2)\n",
    "errdf"
   ]
  },
  {
   "cell_type": "code",
   "execution_count": 0,
   "metadata": {
    "application/vnd.databricks.v1+cell": {
     "cellMetadata": {
      "byteLimit": 2048000,
      "rowLimit": 10000
     },
     "inputWidgets": {},
     "nuid": "6e405586-8abc-4618-af48-6e05fc6800c4",
     "showTitle": false,
     "title": ""
    }
   },
   "outputs": [],
   "source": [
    "plt.xkcd()\n",
    "plt.figure(figsize=(25, 10))\n",
    "plt.plot(errdf.index, errdf.error, c='g', ls='-.', marker='o', markerfacecolor='orange')\n",
    "plt.title('error rates for svc prediction on test data set', fontsize=30, color='m')\n",
    "plt.xlabel('cost index (for actual costs, see code)', fontsize=20, color='c')\n",
    "plt.ylabel('error', fontsize=20, color='c')"
   ]
  },
  {
   "cell_type": "markdown",
   "metadata": {
    "application/vnd.databricks.v1+cell": {
     "cellMetadata": {
      "byteLimit": 2048000,
      "rowLimit": 10000
     },
     "inputWidgets": {},
     "nuid": "2be5e547-7342-4611-bf78-6c3a4278e4af",
     "showTitle": false,
     "title": ""
    }
   },
   "source": [
    "Both training and test data sets provide least error for $cost$=0.01."
   ]
  },
  {
   "cell_type": "markdown",
   "metadata": {
    "application/vnd.databricks.v1+cell": {
     "cellMetadata": {
      "byteLimit": 2048000,
      "rowLimit": 10000
     },
     "inputWidgets": {},
     "nuid": "074c0f8e-ef61-453e-b90b-662d71a16cf1",
     "showTitle": false,
     "title": ""
    }
   },
   "source": [
    "**e. Compute the training and test error rates using this new value\n",
    "for C.**"
   ]
  },
  {
   "cell_type": "code",
   "execution_count": 0,
   "metadata": {
    "application/vnd.databricks.v1+cell": {
     "cellMetadata": {
      "byteLimit": 2048000,
      "rowLimit": 10000
     },
     "inputWidgets": {},
     "nuid": "0a3769ec-db06-4c58-a45e-5fe8c2fcc5f1",
     "showTitle": false,
     "title": ""
    }
   },
   "outputs": [],
   "source": [
    "svmpred001_train = svmfit.predict(X_train)\n",
    "svmpred001_test = svmfit.predict(X_test)"
   ]
  },
  {
   "cell_type": "code",
   "execution_count": 0,
   "metadata": {
    "application/vnd.databricks.v1+cell": {
     "cellMetadata": {
      "byteLimit": 2048000,
      "rowLimit": 10000
     },
     "inputWidgets": {},
     "nuid": "6be7ae2a-24ec-413e-bcf3-fe99b4e0c60d",
     "showTitle": false,
     "title": ""
    }
   },
   "outputs": [],
   "source": [
    "conf_mat_train = pd.DataFrame(confusion_matrix(y_train, svmpred_train), index=svmfit.classes_, columns=svmfit.classes_)\n",
    "conf_mat_test = pd.DataFrame(confusion_matrix(y_test, svmpred_test), index=svmfit.classes_, columns=svmfit.classes_)"
   ]
  },
  {
   "cell_type": "code",
   "execution_count": 0,
   "metadata": {
    "application/vnd.databricks.v1+cell": {
     "cellMetadata": {
      "byteLimit": 2048000,
      "rowLimit": 10000
     },
     "inputWidgets": {},
     "nuid": "46d5661c-29a9-41dd-a1e9-841e23ca1b32",
     "showTitle": false,
     "title": ""
    }
   },
   "outputs": [],
   "source": [
    "conf_mat_train"
   ]
  },
  {
   "cell_type": "code",
   "execution_count": 0,
   "metadata": {
    "application/vnd.databricks.v1+cell": {
     "cellMetadata": {
      "byteLimit": 2048000,
      "rowLimit": 10000
     },
     "inputWidgets": {},
     "nuid": "04b8e979-d0a8-4fa0-9a61-9eaa27dca3f2",
     "showTitle": false,
     "title": ""
    }
   },
   "outputs": [],
   "source": [
    "class_mat_train = classification_report(y_train, svmpred_train)\n",
    "print(class_mat_train)"
   ]
  },
  {
   "cell_type": "code",
   "execution_count": 0,
   "metadata": {
    "application/vnd.databricks.v1+cell": {
     "cellMetadata": {
      "byteLimit": 2048000,
      "rowLimit": 10000
     },
     "inputWidgets": {},
     "nuid": "35d1dd26-33c3-4489-b319-8cda59b37d91",
     "showTitle": false,
     "title": ""
    }
   },
   "outputs": [],
   "source": [
    "conf_mat_test"
   ]
  },
  {
   "cell_type": "code",
   "execution_count": 0,
   "metadata": {
    "application/vnd.databricks.v1+cell": {
     "cellMetadata": {
      "byteLimit": 2048000,
      "rowLimit": 10000
     },
     "inputWidgets": {},
     "nuid": "6e4700b8-9f97-4788-a154-2e0cd66fcac1",
     "showTitle": false,
     "title": ""
    }
   },
   "outputs": [],
   "source": [
    "class_mat_test = classification_report(y_test, svmpred_test)\n",
    "print(class_mat_test)"
   ]
  },
  {
   "cell_type": "markdown",
   "metadata": {
    "application/vnd.databricks.v1+cell": {
     "cellMetadata": {
      "byteLimit": 2048000,
      "rowLimit": 10000
     },
     "inputWidgets": {},
     "nuid": "f8474945-3933-493d-8def-29727d2db162",
     "showTitle": false,
     "title": ""
    }
   },
   "source": [
    "**f. Repeat parts (b) through (e) using a support vector machine\n",
    "with a radial kernel. Use the default value for gamma.**"
   ]
  },
  {
   "cell_type": "code",
   "execution_count": 0,
   "metadata": {
    "application/vnd.databricks.v1+cell": {
     "cellMetadata": {
      "byteLimit": 2048000,
      "rowLimit": 10000
     },
     "inputWidgets": {},
     "nuid": "fbf146dd-4e3a-4510-8ff1-2158a59594a3",
     "showTitle": false,
     "title": ""
    }
   },
   "outputs": [],
   "source": [
    "svmfit = SVC(kernel='rbf', C=0.01, degree=3, gamma=0.01).fit(X_train, y_train)"
   ]
  },
  {
   "cell_type": "code",
   "execution_count": 0,
   "metadata": {
    "application/vnd.databricks.v1+cell": {
     "cellMetadata": {
      "byteLimit": 2048000,
      "rowLimit": 10000
     },
     "inputWidgets": {},
     "nuid": "4c29e972-dbe9-4e52-9a6a-4a50078af716",
     "showTitle": false,
     "title": ""
    }
   },
   "outputs": [],
   "source": [
    "svmfit.support_vectors_"
   ]
  },
  {
   "cell_type": "code",
   "execution_count": 0,
   "metadata": {
    "application/vnd.databricks.v1+cell": {
     "cellMetadata": {
      "byteLimit": 2048000,
      "rowLimit": 10000
     },
     "inputWidgets": {},
     "nuid": "251b72fa-4dd7-42a3-a732-a507763b26ae",
     "showTitle": false,
     "title": ""
    }
   },
   "outputs": [],
   "source": [
    "svmfit.classes_"
   ]
  },
  {
   "cell_type": "code",
   "execution_count": 0,
   "metadata": {
    "application/vnd.databricks.v1+cell": {
     "cellMetadata": {
      "byteLimit": 2048000,
      "rowLimit": 10000
     },
     "inputWidgets": {},
     "nuid": "7d0d2fc5-7040-4134-baa4-e3842764d4cc",
     "showTitle": false,
     "title": ""
    }
   },
   "outputs": [],
   "source": [
    "svmfit.get_params()"
   ]
  },
  {
   "cell_type": "code",
   "execution_count": 0,
   "metadata": {
    "application/vnd.databricks.v1+cell": {
     "cellMetadata": {
      "byteLimit": 2048000,
      "rowLimit": 10000
     },
     "inputWidgets": {},
     "nuid": "19385743-25e8-4ca2-9c2f-01139952b14d",
     "showTitle": false,
     "title": ""
    }
   },
   "outputs": [],
   "source": [
    "svmpred_train = svmfit.predict(X_train)"
   ]
  },
  {
   "cell_type": "code",
   "execution_count": 0,
   "metadata": {
    "application/vnd.databricks.v1+cell": {
     "cellMetadata": {
      "byteLimit": 2048000,
      "rowLimit": 10000
     },
     "inputWidgets": {},
     "nuid": "daaf816a-c8e0-4d47-9ff5-160a62f20ce6",
     "showTitle": false,
     "title": ""
    }
   },
   "outputs": [],
   "source": [
    "conf_mat_train = pd.DataFrame(confusion_matrix(y_train, svmpred_train).T, index=svmfit.classes_, columns=svmfit.classes_)\n",
    "conf_mat_train"
   ]
  },
  {
   "cell_type": "code",
   "execution_count": 0,
   "metadata": {
    "application/vnd.databricks.v1+cell": {
     "cellMetadata": {
      "byteLimit": 2048000,
      "rowLimit": 10000
     },
     "inputWidgets": {},
     "nuid": "cdfed3d9-ed4c-4252-a8f4-1566cbc2c0ce",
     "showTitle": false,
     "title": ""
    }
   },
   "outputs": [],
   "source": [
    "import warnings\n",
    "warnings.filterwarnings('ignore')\n",
    "\n",
    "class_mat_train  = classification_report(y_train, svmpred_train)\n",
    "print(class_mat_train)"
   ]
  },
  {
   "cell_type": "code",
   "execution_count": 0,
   "metadata": {
    "application/vnd.databricks.v1+cell": {
     "cellMetadata": {
      "byteLimit": 2048000,
      "rowLimit": 10000
     },
     "inputWidgets": {},
     "nuid": "7f28aa49-9396-47e3-af03-a0373605a9eb",
     "showTitle": false,
     "title": ""
    }
   },
   "outputs": [],
   "source": [
    "svmpred_test = svmfit.predict(X_test)"
   ]
  },
  {
   "cell_type": "code",
   "execution_count": 0,
   "metadata": {
    "application/vnd.databricks.v1+cell": {
     "cellMetadata": {
      "byteLimit": 2048000,
      "rowLimit": 10000
     },
     "inputWidgets": {},
     "nuid": "cfe69c31-10ea-4468-9875-62c87555f90a",
     "showTitle": false,
     "title": ""
    }
   },
   "outputs": [],
   "source": [
    "conf_mat_test = pd.DataFrame(confusion_matrix(y_test, svmpred_test).T, index=svmfit.classes_, columns=svmfit.classes_)\n",
    "conf_mat_test"
   ]
  },
  {
   "cell_type": "code",
   "execution_count": 0,
   "metadata": {
    "application/vnd.databricks.v1+cell": {
     "cellMetadata": {
      "byteLimit": 2048000,
      "rowLimit": 10000
     },
     "inputWidgets": {},
     "nuid": "7f756fb7-5b4c-4022-ba69-af589a6603dd",
     "showTitle": false,
     "title": ""
    }
   },
   "outputs": [],
   "source": [
    "class_mat_test  = classification_report(y_test, svmpred_test)\n",
    "print(class_mat_test)"
   ]
  },
  {
   "cell_type": "code",
   "execution_count": 0,
   "metadata": {
    "application/vnd.databricks.v1+cell": {
     "cellMetadata": {
      "byteLimit": 2048000,
      "rowLimit": 10000
     },
     "inputWidgets": {},
     "nuid": "a1a0cb59-498b-4bd9-b462-06109342ddc5",
     "showTitle": false,
     "title": ""
    }
   },
   "outputs": [],
   "source": [
    "cost_range = np.linspace(0.01, 10, 50)\n",
    "gamma = np.linspace(0.1, 0.5, 5)"
   ]
  },
  {
   "cell_type": "code",
   "execution_count": 0,
   "metadata": {
    "application/vnd.databricks.v1+cell": {
     "cellMetadata": {
      "byteLimit": 2048000,
      "rowLimit": 10000
     },
     "inputWidgets": {},
     "nuid": "25d4a364-1b15-4b48-a200-062431665b83",
     "showTitle": false,
     "title": ""
    }
   },
   "outputs": [],
   "source": [
    "errdf = pd.DataFrame()\n",
    "for k in cost_range:\n",
    "    for j in gamma:\n",
    "        svmfit = SVC(kernel='rbf', C=k, degree=3).fit(X_train, y_train)\n",
    "        svmpred_train = svmfit.predict(X_train)\n",
    "        conf_mat_train = confusion_matrix(y_train, svmpred_train)\n",
    "        NoNo = pd.DataFrame([conf_mat_train[0][0]])\n",
    "        YesYes = pd.DataFrame([conf_mat_train[1][1]])\n",
    "        errdf = errdf.append((NoNo + YesYes) / 500)\n",
    "\n",
    "errdf.columns = ['error']\n",
    "errdf.reset_index(drop=True, inplace=True)\n",
    "errdf"
   ]
  },
  {
   "cell_type": "code",
   "execution_count": 0,
   "metadata": {
    "application/vnd.databricks.v1+cell": {
     "cellMetadata": {
      "byteLimit": 2048000,
      "rowLimit": 10000
     },
     "inputWidgets": {},
     "nuid": "b2e3df63-f326-4005-b00b-8a56404219f6",
     "showTitle": false,
     "title": ""
    }
   },
   "outputs": [],
   "source": [
    "plt.xkcd()\n",
    "plt.figure(figsize=(25, 10))\n",
    "plt.plot(errdf.index, errdf.error, c='g', ls='-.', marker='o', markerfacecolor='orange')\n",
    "plt.title('error rates for svc prediction on training data set', fontsize=30, color='m')\n",
    "plt.xlabel('cost index (for actual costs, see code)', fontsize=20, color='c')\n",
    "plt.ylabel('error', fontsize=20, color='c')"
   ]
  },
  {
   "cell_type": "code",
   "execution_count": 0,
   "metadata": {
    "application/vnd.databricks.v1+cell": {
     "cellMetadata": {
      "byteLimit": 2048000,
      "rowLimit": 10000
     },
     "inputWidgets": {},
     "nuid": "6b1e9c6d-4e50-409b-80ed-0d7cb9f95869",
     "showTitle": false,
     "title": ""
    }
   },
   "outputs": [],
   "source": [
    "errdf = pd.DataFrame()\n",
    "for k in cost_range:\n",
    "    svmfit = SVC(kernel='rbf', C=k, degree=3).fit(X_train, y_train)\n",
    "    svmpred_test = svmfit.predict(X_test)\n",
    "    conf_mat_test = confusion_matrix(y_test, svmpred_test)\n",
    "    NoNo = pd.DataFrame([conf_mat_test[0][0]])\n",
    "    YesYes = pd.DataFrame([conf_mat_test[1][1]])\n",
    "    errdf = errdf.append((NoNo + YesYes) / 500)\n",
    "\n",
    "errdf.columns = ['error']\n",
    "errdf.reset_index(drop=True, inplace=True)\n",
    "errdf.index = np.round(cost_range, 2)\n",
    "errdf"
   ]
  },
  {
   "cell_type": "code",
   "execution_count": 0,
   "metadata": {
    "application/vnd.databricks.v1+cell": {
     "cellMetadata": {
      "byteLimit": 2048000,
      "rowLimit": 10000
     },
     "inputWidgets": {},
     "nuid": "ec78edaf-50ba-4eac-aed8-bc39a441e9c1",
     "showTitle": false,
     "title": ""
    }
   },
   "outputs": [],
   "source": [
    "plt.xkcd()\n",
    "plt.figure(figsize=(25, 10))\n",
    "plt.plot(errdf.index, errdf.error, c='g', ls='-.', marker='o', markerfacecolor='orange')\n",
    "plt.title('error rates for svc prediction on test data set', fontsize=30, color='m')\n",
    "plt.xlabel('cost index (for actual costs, see code)', fontsize=20, color='c')\n",
    "plt.ylabel('error', fontsize=20, color='c')"
   ]
  },
  {
   "cell_type": "markdown",
   "metadata": {
    "application/vnd.databricks.v1+cell": {
     "cellMetadata": {
      "byteLimit": 2048000,
      "rowLimit": 10000
     },
     "inputWidgets": {},
     "nuid": "8de01fc2-cdbe-40a7-b273-0a9cf99c22a8",
     "showTitle": false,
     "title": ""
    }
   },
   "source": [
    "Both training and test data sets provide least error for $cost$=0.01."
   ]
  },
  {
   "cell_type": "markdown",
   "metadata": {
    "application/vnd.databricks.v1+cell": {
     "cellMetadata": {
      "byteLimit": 2048000,
      "rowLimit": 10000
     },
     "inputWidgets": {},
     "nuid": "bd1193ac-f85c-44c3-908f-d5d273e59e74",
     "showTitle": false,
     "title": ""
    }
   },
   "source": [
    "**g. Repeat parts (b) through (e) using a support vector machine\n",
    "with a polynomial kernel. Set degree = 2.**"
   ]
  },
  {
   "cell_type": "code",
   "execution_count": 0,
   "metadata": {
    "application/vnd.databricks.v1+cell": {
     "cellMetadata": {
      "byteLimit": 2048000,
      "rowLimit": 10000
     },
     "inputWidgets": {},
     "nuid": "4aff4fcc-5fda-4162-af21-2d2ddc6f7c8c",
     "showTitle": false,
     "title": ""
    }
   },
   "outputs": [],
   "source": [
    "svmfit = SVC(kernel='rbf', C=0.01, degree=2, gamma=0.01).fit(X_train, y_train)"
   ]
  },
  {
   "cell_type": "code",
   "execution_count": 0,
   "metadata": {
    "application/vnd.databricks.v1+cell": {
     "cellMetadata": {
      "byteLimit": 2048000,
      "rowLimit": 10000
     },
     "inputWidgets": {},
     "nuid": "aae48f5a-4b87-4467-9081-fac2b79c6d79",
     "showTitle": false,
     "title": ""
    }
   },
   "outputs": [],
   "source": [
    "svmfit.support_vectors_"
   ]
  },
  {
   "cell_type": "code",
   "execution_count": 0,
   "metadata": {
    "application/vnd.databricks.v1+cell": {
     "cellMetadata": {
      "byteLimit": 2048000,
      "rowLimit": 10000
     },
     "inputWidgets": {},
     "nuid": "8be02168-ffce-4bf8-8740-f7d809859f00",
     "showTitle": false,
     "title": ""
    }
   },
   "outputs": [],
   "source": [
    "svmfit.classes_"
   ]
  },
  {
   "cell_type": "code",
   "execution_count": 0,
   "metadata": {
    "application/vnd.databricks.v1+cell": {
     "cellMetadata": {
      "byteLimit": 2048000,
      "rowLimit": 10000
     },
     "inputWidgets": {},
     "nuid": "d866d905-3971-446e-99da-9f68b6d70eeb",
     "showTitle": false,
     "title": ""
    }
   },
   "outputs": [],
   "source": [
    "svmfit.get_params()"
   ]
  },
  {
   "cell_type": "code",
   "execution_count": 0,
   "metadata": {
    "application/vnd.databricks.v1+cell": {
     "cellMetadata": {
      "byteLimit": 2048000,
      "rowLimit": 10000
     },
     "inputWidgets": {},
     "nuid": "efab21c5-c8c1-4301-b732-7b335c4855cb",
     "showTitle": false,
     "title": ""
    }
   },
   "outputs": [],
   "source": [
    "svmpred_train = svmfit.predict(X_train)"
   ]
  },
  {
   "cell_type": "code",
   "execution_count": 0,
   "metadata": {
    "application/vnd.databricks.v1+cell": {
     "cellMetadata": {
      "byteLimit": 2048000,
      "rowLimit": 10000
     },
     "inputWidgets": {},
     "nuid": "8dc82305-816f-44e2-a7b0-ff8a3b2e4e64",
     "showTitle": false,
     "title": ""
    }
   },
   "outputs": [],
   "source": [
    "conf_mat_train = pd.DataFrame(confusion_matrix(y_train, svmpred_train).T, index=svmfit.classes_, columns=svmfit.classes_)\n",
    "conf_mat_train"
   ]
  },
  {
   "cell_type": "code",
   "execution_count": 0,
   "metadata": {
    "application/vnd.databricks.v1+cell": {
     "cellMetadata": {
      "byteLimit": 2048000,
      "rowLimit": 10000
     },
     "inputWidgets": {},
     "nuid": "eac540ec-0497-4838-9c6d-cfce006cf94f",
     "showTitle": false,
     "title": ""
    }
   },
   "outputs": [],
   "source": [
    "import warnings\n",
    "warnings.filterwarnings('ignore')\n",
    "\n",
    "class_mat_train  = classification_report(y_train, svmpred_train)\n",
    "print(class_mat_train)"
   ]
  },
  {
   "cell_type": "code",
   "execution_count": 0,
   "metadata": {
    "application/vnd.databricks.v1+cell": {
     "cellMetadata": {
      "byteLimit": 2048000,
      "rowLimit": 10000
     },
     "inputWidgets": {},
     "nuid": "5091d5bf-e60a-4d96-a105-e8741cc296dd",
     "showTitle": false,
     "title": ""
    }
   },
   "outputs": [],
   "source": [
    "svmpred_test = svmfit.predict(X_test)"
   ]
  },
  {
   "cell_type": "code",
   "execution_count": 0,
   "metadata": {
    "application/vnd.databricks.v1+cell": {
     "cellMetadata": {
      "byteLimit": 2048000,
      "rowLimit": 10000
     },
     "inputWidgets": {},
     "nuid": "51a358b8-efa8-4cd3-ae25-bbebea8e526b",
     "showTitle": false,
     "title": ""
    }
   },
   "outputs": [],
   "source": [
    "conf_mat_test = pd.DataFrame(confusion_matrix(y_test, svmpred_test).T, index=svmfit.classes_, columns=svmfit.classes_)\n",
    "conf_mat_test"
   ]
  },
  {
   "cell_type": "code",
   "execution_count": 0,
   "metadata": {
    "application/vnd.databricks.v1+cell": {
     "cellMetadata": {
      "byteLimit": 2048000,
      "rowLimit": 10000
     },
     "inputWidgets": {},
     "nuid": "bdb83c67-232b-4d5d-8a3f-93e65845b6f1",
     "showTitle": false,
     "title": ""
    }
   },
   "outputs": [],
   "source": [
    "class_mat_test  = classification_report(y_test, svmpred_test)\n",
    "print(class_mat_test)"
   ]
  },
  {
   "cell_type": "code",
   "execution_count": 0,
   "metadata": {
    "application/vnd.databricks.v1+cell": {
     "cellMetadata": {
      "byteLimit": 2048000,
      "rowLimit": 10000
     },
     "inputWidgets": {},
     "nuid": "1b7cc185-bbf6-4f67-a09d-7d9b2b7f1c21",
     "showTitle": false,
     "title": ""
    }
   },
   "outputs": [],
   "source": [
    "cost_range = np.linspace(0.01, 10, 50)\n",
    "gamma = np.linspace(0.1, 0.5, 5)"
   ]
  },
  {
   "cell_type": "code",
   "execution_count": 0,
   "metadata": {
    "application/vnd.databricks.v1+cell": {
     "cellMetadata": {
      "byteLimit": 2048000,
      "rowLimit": 10000
     },
     "inputWidgets": {},
     "nuid": "0c492de7-e605-4170-9444-77513a9e7e44",
     "showTitle": false,
     "title": ""
    }
   },
   "outputs": [],
   "source": [
    "errdf = pd.DataFrame()\n",
    "for k in cost_range:\n",
    "    for j in gamma:\n",
    "        svmfit = SVC(kernel='rbf', C=k, degree=2).fit(X_train, y_train)\n",
    "        svmpred_train = svmfit.predict(X_train)\n",
    "        conf_mat_train = confusion_matrix(y_train, svmpred_train)\n",
    "        NoNo = pd.DataFrame([conf_mat_train[0][0]])\n",
    "        YesYes = pd.DataFrame([conf_mat_train[1][1]])\n",
    "        errdf = errdf.append((NoNo + YesYes) / 500)\n",
    "\n",
    "errdf.columns = ['error']\n",
    "errdf.reset_index(drop=True, inplace=True)\n",
    "errdf"
   ]
  },
  {
   "cell_type": "code",
   "execution_count": 0,
   "metadata": {
    "application/vnd.databricks.v1+cell": {
     "cellMetadata": {
      "byteLimit": 2048000,
      "rowLimit": 10000
     },
     "inputWidgets": {},
     "nuid": "85b9849f-eaf3-47cb-9592-bd3029c5f87f",
     "showTitle": false,
     "title": ""
    }
   },
   "outputs": [],
   "source": [
    "plt.xkcd()\n",
    "plt.figure(figsize=(25, 10))\n",
    "plt.plot(errdf.index, errdf.error, c='g', ls='-.', marker='o', markerfacecolor='orange')\n",
    "plt.title('error rates for svc prediction on training data set', fontsize=30, color='m')\n",
    "plt.xlabel('cost index (for actual costs, see code)', fontsize=20, color='c')\n",
    "plt.ylabel('error', fontsize=20, color='c')"
   ]
  },
  {
   "cell_type": "code",
   "execution_count": 0,
   "metadata": {
    "application/vnd.databricks.v1+cell": {
     "cellMetadata": {
      "byteLimit": 2048000,
      "rowLimit": 10000
     },
     "inputWidgets": {},
     "nuid": "4c6c458b-d336-4e33-a1b1-a7691e5f91ea",
     "showTitle": false,
     "title": ""
    }
   },
   "outputs": [],
   "source": [
    "errdf = pd.DataFrame()\n",
    "for k in cost_range:\n",
    "    svmfit = SVC(kernel='rbf', C=k, degree=2).fit(X_train, y_train)\n",
    "    svmpred_test = svmfit.predict(X_test)\n",
    "    conf_mat_test = confusion_matrix(y_test, svmpred_test)\n",
    "    NoNo = pd.DataFrame([conf_mat_test[0][0]])\n",
    "    YesYes = pd.DataFrame([conf_mat_test[1][1]])\n",
    "    errdf = errdf.append((NoNo + YesYes) / 500)\n",
    "\n",
    "errdf.columns = ['error']\n",
    "errdf.reset_index(drop=True, inplace=True)\n",
    "errdf.index = np.round(cost_range, 2)\n",
    "errdf"
   ]
  },
  {
   "cell_type": "code",
   "execution_count": 0,
   "metadata": {
    "application/vnd.databricks.v1+cell": {
     "cellMetadata": {
      "byteLimit": 2048000,
      "rowLimit": 10000
     },
     "inputWidgets": {},
     "nuid": "826f2f00-312a-4957-949c-07aceab50e4a",
     "showTitle": false,
     "title": ""
    }
   },
   "outputs": [],
   "source": [
    "plt.xkcd()\n",
    "plt.figure(figsize=(25, 10))\n",
    "plt.plot(errdf.index, errdf.error, c='g', ls='-.', marker='o', markerfacecolor='orange')\n",
    "plt.title('error rates for svc prediction on test data set', fontsize=30, color='m')\n",
    "plt.xlabel('cost index (for actual costs, see code)', fontsize=20, color='c')\n",
    "plt.ylabel('error', fontsize=20, color='c')"
   ]
  },
  {
   "cell_type": "markdown",
   "metadata": {
    "application/vnd.databricks.v1+cell": {
     "cellMetadata": {
      "byteLimit": 2048000,
      "rowLimit": 10000
     },
     "inputWidgets": {},
     "nuid": "77cbaa77-d6b2-4f3e-a67c-8db215126465",
     "showTitle": false,
     "title": ""
    }
   },
   "source": [
    "Both training and test data sets provide least error for $cost$=0.01."
   ]
  },
  {
   "cell_type": "markdown",
   "metadata": {
    "application/vnd.databricks.v1+cell": {
     "cellMetadata": {
      "byteLimit": 2048000,
      "rowLimit": 10000
     },
     "inputWidgets": {},
     "nuid": "2b338fc7-2702-4218-9037-2099d6070d25",
     "showTitle": false,
     "title": ""
    }
   },
   "source": [
    "**h.  Overall, which approach seems to give the best results on this\n",
    "data?**"
   ]
  },
  {
   "cell_type": "markdown",
   "metadata": {
    "application/vnd.databricks.v1+cell": {
     "cellMetadata": {
      "byteLimit": 2048000,
      "rowLimit": 10000
     },
     "inputWidgets": {},
     "nuid": "4bd3067c-2c75-4aa5-ba1c-183a6e5094d3",
     "showTitle": false,
     "title": ""
    }
   },
   "source": [
    "Overall, radial kernel seems to provide least error on both training and test data set."
   ]
  }
 ],
 "metadata": {
  "application/vnd.databricks.v1+notebook": {
   "dashboards": [],
   "language": "python",
   "notebookMetadata": {
    "pythonIndentUnit": 2
   },
   "notebookName": "Question 8 - answer",
   "widgets": {}
  }
 },
 "nbformat": 4,
 "nbformat_minor": 0
}
