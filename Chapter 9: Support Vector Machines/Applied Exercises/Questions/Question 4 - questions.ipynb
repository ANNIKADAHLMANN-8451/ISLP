{
 "cells": [
  {
   "cell_type": "markdown",
   "metadata": {
    "application/vnd.databricks.v1+cell": {
     "cellMetadata": {
      "byteLimit": 2048000,
      "rowLimit": 10000
     },
     "inputWidgets": {},
     "nuid": "b07b6703-95b4-4733-8ece-da8d5b98a972",
     "showTitle": false,
     "title": ""
    }
   },
   "source": [
    "Generate a simulated two-class data set with 100 observations and\n",
    "two features in which there is a visible but non-linear separation between the two classes. Show that in this setting, a support vector\n",
    "machine with a polynomial kernel (with degree greater than 1) or a\n",
    "radial kernel will outperform a support vector classifer on the training data. Which technique performs best on the test data? Make\n",
    "plots and report training and test error rates in order to back up\n",
    "your assertions."
   ]
  },
  {
   "cell_type": "markdown",
   "metadata": {
    "application/vnd.databricks.v1+cell": {
     "cellMetadata": {
      "byteLimit": 2048000,
      "rowLimit": 10000
     },
     "inputWidgets": {},
     "nuid": "a2e4ee6a-3d89-4d55-a285-56532cc5c676",
     "showTitle": false,
     "title": ""
    }
   },
   "source": [
    "### Preprocessing"
   ]
  },
  {
   "cell_type": "code",
   "execution_count": 0,
   "metadata": {
    "application/vnd.databricks.v1+cell": {
     "cellMetadata": {
      "byteLimit": 2048000,
      "rowLimit": 10000
     },
     "inputWidgets": {},
     "nuid": "1105c0b4-08cd-4aef-b346-84f7d97d0143",
     "showTitle": false,
     "title": ""
    }
   },
   "outputs": [],
   "source": [
    "import numpy as np\n",
    "import pandas as pd\n",
    "from sklearn.metrics import confusion_matrix, classification_report\n",
    "from sklearn.model_selection import train_test_split\n",
    "from sklearn.svm import SVC"
   ]
  },
  {
   "cell_type": "code",
   "execution_count": 0,
   "metadata": {
    "application/vnd.databricks.v1+cell": {
     "cellMetadata": {
      "byteLimit": 2048000,
      "rowLimit": 10000
     },
     "inputWidgets": {},
     "nuid": "310150b2-26b1-45cc-9fa5-bbb9d82a0216",
     "showTitle": false,
     "title": ""
    }
   },
   "outputs": [],
   "source": [
    "import matplotlib as mpl\n",
    "import matplotlib.pyplot as plt\n",
    "import seaborn as sns\n",
    "%matplotlib inline"
   ]
  },
  {
   "cell_type": "code",
   "execution_count": 0,
   "metadata": {
    "application/vnd.databricks.v1+cell": {
     "cellMetadata": {
      "byteLimit": 2048000,
      "rowLimit": 10000
     },
     "inputWidgets": {},
     "nuid": "bc2497b8-261b-478b-805a-750bf2d32c7f",
     "showTitle": false,
     "title": ""
    }
   },
   "outputs": [],
   "source": [
    "X = np.random.normal(size=100)\n",
    "X1 = X[0:50]\n",
    "X2 = X[51:100]\n",
    "\n",
    "y = 2 * pow(X,2) + 3.5 + np.random.normal(size=100)\n",
    "y1 = y[0:50]\n",
    "y2 = y[51:100]\n",
    "\n",
    "\n",
    "y1 += 3.7\n",
    "y2 -= 3.7\n",
    "\n",
    "plt.xkcd()\n",
    "plt.figure(figsize=(25, 10))\n",
    "plt.scatter(X1, y1, cmap=mpl.cm.Paired, marker='o', s=500)\n",
    "plt.scatter(X2, y2, cmap=mpl.cm.Paired, marker='o', s=500)\n",
    "plt.xlabel('X', color='green', fontsize=20)\n",
    "plt.ylabel('y', color='orange', fontsize=20)\n",
    "plt.title('data with visible but non-linear separation', color='m', fontsize=30)"
   ]
  },
  {
   "cell_type": "code",
   "execution_count": 0,
   "metadata": {
    "application/vnd.databricks.v1+cell": {
     "cellMetadata": {
      "byteLimit": 2048000,
      "rowLimit": 10000
     },
     "inputWidgets": {},
     "nuid": "985ab6ec-7db2-44cf-b596-a6fe85adefe7",
     "showTitle": false,
     "title": ""
    }
   },
   "outputs": [],
   "source": [
    "# TODO: your response here"
   ]
  }
 ],
 "metadata": {
  "application/vnd.databricks.v1+notebook": {
   "dashboards": [],
   "language": "python",
   "notebookMetadata": {
    "pythonIndentUnit": 2
   },
   "notebookName": "Question 4 - questions",
   "widgets": {}
  }
 },
 "nbformat": 4,
 "nbformat_minor": 0
}
