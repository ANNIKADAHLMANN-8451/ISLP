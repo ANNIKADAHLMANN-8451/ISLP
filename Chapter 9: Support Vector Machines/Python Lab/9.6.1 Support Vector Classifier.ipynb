{
 "cells": [
  {
   "cell_type": "markdown",
   "metadata": {
    "application/vnd.databricks.v1+cell": {
     "cellMetadata": {
      "byteLimit": 2048000,
      "rowLimit": 10000
     },
     "inputWidgets": {},
     "nuid": "6c4266cc-3b13-45e6-89e0-314fccb46f3f",
     "showTitle": false,
     "title": ""
    }
   },
   "source": [
    "### Preprocessing"
   ]
  },
  {
   "cell_type": "code",
   "execution_count": 0,
   "metadata": {
    "application/vnd.databricks.v1+cell": {
     "cellMetadata": {
      "byteLimit": 2048000,
      "rowLimit": 10000
     },
     "inputWidgets": {},
     "nuid": "183f9eec-5f5b-4f52-a03d-ad948c1af714",
     "showTitle": false,
     "title": ""
    }
   },
   "outputs": [],
   "source": [
    "import numpy as np\n",
    "import pandas as pd"
   ]
  },
  {
   "cell_type": "code",
   "execution_count": 0,
   "metadata": {
    "application/vnd.databricks.v1+cell": {
     "cellMetadata": {
      "byteLimit": 2048000,
      "rowLimit": 10000
     },
     "inputWidgets": {},
     "nuid": "7fc3234c-580c-4bb7-aaad-8f1ff009a030",
     "showTitle": false,
     "title": ""
    }
   },
   "outputs": [],
   "source": [
    "import matplotlib.pyplot as plt\n",
    "import seaborn as sns\n",
    "%matplotlib inline"
   ]
  },
  {
   "cell_type": "code",
   "execution_count": 0,
   "metadata": {
    "application/vnd.databricks.v1+cell": {
     "cellMetadata": {
      "byteLimit": 2048000,
      "rowLimit": 10000
     },
     "inputWidgets": {},
     "nuid": "ae92634b-4d47-4270-b199-8e19bac7b561",
     "showTitle": false,
     "title": ""
    }
   },
   "outputs": [],
   "source": [
    "np.random.seed(1)"
   ]
  },
  {
   "cell_type": "code",
   "execution_count": 0,
   "metadata": {
    "application/vnd.databricks.v1+cell": {
     "cellMetadata": {
      "byteLimit": 2048000,
      "rowLimit": 10000
     },
     "inputWidgets": {},
     "nuid": "646bc299-7169-442d-a528-4dc57c6997fa",
     "showTitle": false,
     "title": ""
    }
   },
   "outputs": [],
   "source": [
    "X = np.random.normal(size=(20,2))\n",
    "X"
   ]
  },
  {
   "cell_type": "code",
   "execution_count": 0,
   "metadata": {
    "application/vnd.databricks.v1+cell": {
     "cellMetadata": {
      "byteLimit": 2048000,
      "rowLimit": 10000
     },
     "inputWidgets": {},
     "nuid": "e42ce13b-541c-437b-976f-0403465e885a",
     "showTitle": false,
     "title": ""
    }
   },
   "outputs": [],
   "source": [
    "y_1 = np.array([1]*10)\n",
    "y_minus1 = np.array([-1]*10)\n",
    "y = np.concatenate([y_1, y_minus1])\n",
    "y"
   ]
  },
  {
   "cell_type": "code",
   "execution_count": 0,
   "metadata": {
    "application/vnd.databricks.v1+cell": {
     "cellMetadata": {
      "byteLimit": 2048000,
      "rowLimit": 10000
     },
     "inputWidgets": {},
     "nuid": "480b343a-497b-4eef-8d97-852ef3c27b72",
     "showTitle": false,
     "title": ""
    }
   },
   "outputs": [],
   "source": [
    "X[y==1] += 1\n",
    "X"
   ]
  },
  {
   "cell_type": "code",
   "execution_count": 0,
   "metadata": {
    "application/vnd.databricks.v1+cell": {
     "cellMetadata": {
      "byteLimit": 2048000,
      "rowLimit": 10000
     },
     "inputWidgets": {},
     "nuid": "68ca7d62-3118-4b4d-b30d-492384744116",
     "showTitle": false,
     "title": ""
    }
   },
   "outputs": [],
   "source": [
    "plt.xkcd()\n",
    "plt.figure(figsize=(25, 10))\n",
    "colors = ['orange' if yy == 1 else 'green' for yy in y]\n",
    "plt.scatter(X[:,0][:],X[:,1][:], marker='o', s=1000, c=colors)\n",
    "plt.title('are the two classes linearly separable?', color='m', fontsize=30)\n",
    "plt.xlabel('X[:, 0]', color='green', fontsize=20)\n",
    "plt.ylabel('X[:, 1]', color='orange', fontsize=20)"
   ]
  },
  {
   "cell_type": "markdown",
   "metadata": {
    "application/vnd.databricks.v1+cell": {
     "cellMetadata": {
      "byteLimit": 2048000,
      "rowLimit": 10000
     },
     "inputWidgets": {},
     "nuid": "766c55be-52c8-47d3-9348-3728305f5408",
     "showTitle": false,
     "title": ""
    }
   },
   "source": [
    "**Therefore, the two classes are not linearly separable.**"
   ]
  },
  {
   "cell_type": "markdown",
   "metadata": {
    "application/vnd.databricks.v1+cell": {
     "cellMetadata": {
      "byteLimit": 2048000,
      "rowLimit": 10000
     },
     "inputWidgets": {},
     "nuid": "71c0387a-9964-4226-b1cf-f2fcf4407e9e",
     "showTitle": false,
     "title": ""
    }
   },
   "source": [
    "**Support vector classifier**"
   ]
  },
  {
   "cell_type": "code",
   "execution_count": 0,
   "metadata": {
    "application/vnd.databricks.v1+cell": {
     "cellMetadata": {
      "byteLimit": 2048000,
      "rowLimit": 10000
     },
     "inputWidgets": {},
     "nuid": "310030da-1f7e-4ac8-9fc7-1d8246d42b37",
     "showTitle": false,
     "title": ""
    }
   },
   "outputs": [],
   "source": [
    "from sklearn.svm import SVC\n",
    "from sklearn.metrics import confusion_matrix, classification_report\n",
    "svmfit10 = SVC(kernel='linear', C=10).fit(X, y)"
   ]
  },
  {
   "cell_type": "code",
   "execution_count": 0,
   "metadata": {
    "application/vnd.databricks.v1+cell": {
     "cellMetadata": {
      "byteLimit": 2048000,
      "rowLimit": 10000
     },
     "inputWidgets": {},
     "nuid": "ad861f5e-5977-4250-b3fc-423de61dd5da",
     "showTitle": false,
     "title": ""
    }
   },
   "outputs": [],
   "source": [
    "def svmplot(svc, X, y, height=0.02, buffer=0.25):\n",
    "    x_min, x_max = X[:, 0].min()-buffer, X[:, 0].max()+buffer\n",
    "    y_min, y_max = X[:, 1].min()-buffer, X[:, 1].max()+buffer\n",
    "    xx, yy = np.meshgrid(np.arange(x_min, x_max, height), np.arange(y_min, y_max, height))\n",
    "    Z = svc.predict(np.c_[xx.ravel(), yy.ravel()])\n",
    "    Z = Z.reshape(xx.shape)\n",
    "    plt.contourf(xx, yy, Z, cmap=plt.cm.Paired, alpha=0.2)\n",
    "    \n",
    "plt.xkcd()\n",
    "plt.figure(figsize=(25, 10))\n",
    "svmplot(svmfit10, X, y)\n",
    "colors = ['orange' if yy == 1 else 'green' for yy in y]\n",
    "plt.scatter(X[:,0][:],X[:,1][:], marker='o', s=1000, c=colors)\n",
    "plt.title('support vector classifier', color='m', fontsize=30)\n",
    "plt.xlabel('X[:, 0]', color='green', fontsize=20)\n",
    "plt.ylabel('X[:, 1]', color='orange', fontsize=20)"
   ]
  },
  {
   "cell_type": "code",
   "execution_count": 0,
   "metadata": {
    "application/vnd.databricks.v1+cell": {
     "cellMetadata": {
      "byteLimit": 2048000,
      "rowLimit": 10000
     },
     "inputWidgets": {},
     "nuid": "0ac967b5-edc2-49cf-8cc1-a91d3826144e",
     "showTitle": false,
     "title": ""
    }
   },
   "outputs": [],
   "source": [
    "svmfit10.support_ # these are the support vectors"
   ]
  },
  {
   "cell_type": "code",
   "execution_count": 0,
   "metadata": {
    "application/vnd.databricks.v1+cell": {
     "cellMetadata": {
      "byteLimit": 2048000,
      "rowLimit": 10000
     },
     "inputWidgets": {},
     "nuid": "8b114842-7a31-4b84-87e1-2789fa47896b",
     "showTitle": false,
     "title": ""
    }
   },
   "outputs": [],
   "source": [
    "conf_mat10 = pd.DataFrame(confusion_matrix(y, svmfit10.predict(X)).T, index = svmfit10.classes_, columns = svmfit10.classes_)\n",
    "conf_mat10"
   ]
  },
  {
   "cell_type": "code",
   "execution_count": 0,
   "metadata": {
    "application/vnd.databricks.v1+cell": {
     "cellMetadata": {
      "byteLimit": 2048000,
      "rowLimit": 10000
     },
     "inputWidgets": {},
     "nuid": "54d4bc2d-274e-4ba8-9117-de4be5942018",
     "showTitle": false,
     "title": ""
    }
   },
   "outputs": [],
   "source": [
    "class_mat10 = classification_report(y, svmfit10.predict(X))\n",
    "print(class_mat10)"
   ]
  },
  {
   "cell_type": "code",
   "execution_count": 0,
   "metadata": {
    "application/vnd.databricks.v1+cell": {
     "cellMetadata": {
      "byteLimit": 2048000,
      "rowLimit": 10000
     },
     "inputWidgets": {},
     "nuid": "932156bb-81a7-4f98-b90c-f9293fcae4f7",
     "showTitle": false,
     "title": ""
    }
   },
   "outputs": [],
   "source": [
    "svmfit001 = SVC(kernel='linear', C=0.001).fit(X, y) # using smaller value of cost vector\n",
    "\n",
    "plt.figure(figsize=(25, 10))\n",
    "svmplot(svmfit001, X, y)\n",
    "colors = ['orange' if yy == 1 else 'green' for yy in y]\n",
    "plt.scatter(X[:,0][:],X[:,1][:], marker='o', s=1000, c=colors)\n",
    "plt.title('support vector classifier', color='m', fontsize=30)\n",
    "plt.xlabel('X[:, 0]', color='green', fontsize=20)\n",
    "plt.ylabel('X[:, 1]', color='orange', fontsize=20)"
   ]
  },
  {
   "cell_type": "code",
   "execution_count": 0,
   "metadata": {
    "application/vnd.databricks.v1+cell": {
     "cellMetadata": {
      "byteLimit": 2048000,
      "rowLimit": 10000
     },
     "inputWidgets": {},
     "nuid": "32538b4c-3385-4fe9-9b0b-238407aae1c4",
     "showTitle": false,
     "title": ""
    }
   },
   "outputs": [],
   "source": [
    "svmfit001.support_ # these are the support vectors"
   ]
  },
  {
   "cell_type": "markdown",
   "metadata": {
    "application/vnd.databricks.v1+cell": {
     "cellMetadata": {
      "byteLimit": 2048000,
      "rowLimit": 10000
     },
     "inputWidgets": {},
     "nuid": "178b4299-657b-434b-b234-e23722a0cae4",
     "showTitle": false,
     "title": ""
    }
   },
   "source": [
    "*If we use smaller cost vector, there are a larger number of support vectors used because the margin is now wider.*"
   ]
  },
  {
   "cell_type": "code",
   "execution_count": 0,
   "metadata": {
    "application/vnd.databricks.v1+cell": {
     "cellMetadata": {
      "byteLimit": 2048000,
      "rowLimit": 10000
     },
     "inputWidgets": {},
     "nuid": "7b8f75b0-98f0-4a5d-a4d0-54024a4ba4c6",
     "showTitle": false,
     "title": ""
    }
   },
   "outputs": [],
   "source": [
    "conf_mat001 = pd.DataFrame(confusion_matrix(y, svmfit001.predict(X)).T, index = svmfit001.classes_, columns = svmfit001.classes_)\n",
    "conf_mat001"
   ]
  },
  {
   "cell_type": "code",
   "execution_count": 0,
   "metadata": {
    "application/vnd.databricks.v1+cell": {
     "cellMetadata": {
      "byteLimit": 2048000,
      "rowLimit": 10000
     },
     "inputWidgets": {},
     "nuid": "de66a043-98d5-4e7e-b741-69137eaaa534",
     "showTitle": false,
     "title": ""
    }
   },
   "outputs": [],
   "source": [
    "class_mat001 = classification_report(y, svmfit001.predict(X))\n",
    "print(class_mat001)"
   ]
  },
  {
   "cell_type": "markdown",
   "metadata": {
    "application/vnd.databricks.v1+cell": {
     "cellMetadata": {
      "byteLimit": 2048000,
      "rowLimit": 10000
     },
     "inputWidgets": {},
     "nuid": "82164325-1914-434f-a465-001aee25ab2e",
     "showTitle": false,
     "title": ""
    }
   },
   "source": [
    "### Using cross-validation to find the optimal cost"
   ]
  },
  {
   "cell_type": "code",
   "execution_count": 0,
   "metadata": {
    "application/vnd.databricks.v1+cell": {
     "cellMetadata": {
      "byteLimit": 2048000,
      "rowLimit": 10000
     },
     "inputWidgets": {},
     "nuid": "0c892f5b-ec6b-4be1-acd1-4a17bfa6cfe8",
     "showTitle": false,
     "title": ""
    }
   },
   "outputs": [],
   "source": [
    "from sklearn.model_selection import GridSearchCV as GSV"
   ]
  },
  {
   "cell_type": "code",
   "execution_count": 0,
   "metadata": {
    "application/vnd.databricks.v1+cell": {
     "cellMetadata": {
      "byteLimit": 2048000,
      "rowLimit": 10000
     },
     "inputWidgets": {},
     "nuid": "20cc9cb1-1fbe-41f1-a099-f34a8c8405d2",
     "showTitle": false,
     "title": ""
    }
   },
   "outputs": [],
   "source": [
    "cost_range = [{'C': np.linspace(0.001, 20, 1000)}]\n",
    "cost_cv= GSV(SVC(kernel='linear'), cost_range, cv=10, scoring='accuracy', return_train_score=True).fit(X, y)"
   ]
  },
  {
   "cell_type": "code",
   "execution_count": 0,
   "metadata": {
    "application/vnd.databricks.v1+cell": {
     "cellMetadata": {
      "byteLimit": 2048000,
      "rowLimit": 10000
     },
     "inputWidgets": {},
     "nuid": "e5340042-acc8-4107-a89a-6f74873236ea",
     "showTitle": false,
     "title": ""
    }
   },
   "outputs": [],
   "source": [
    "best_params = cost_cv.best_params_\n",
    "best_params['C']"
   ]
  },
  {
   "cell_type": "markdown",
   "metadata": {
    "application/vnd.databricks.v1+cell": {
     "cellMetadata": {
      "byteLimit": 2048000,
      "rowLimit": 10000
     },
     "inputWidgets": {},
     "nuid": "e3f108aa-68f1-4edc-b21b-cde0b18256ce",
     "showTitle": false,
     "title": ""
    }
   },
   "source": [
    "**GridSearchCV suggests that the best results are obtained at C=0.16115215215215214.**"
   ]
  },
  {
   "cell_type": "code",
   "execution_count": 0,
   "metadata": {
    "application/vnd.databricks.v1+cell": {
     "cellMetadata": {
      "byteLimit": 2048000,
      "rowLimit": 10000
     },
     "inputWidgets": {},
     "nuid": "4206e601-94bd-49b8-81db-e05c127a9b8e",
     "showTitle": false,
     "title": ""
    }
   },
   "outputs": [],
   "source": [
    "X_test = np.random.normal(size=(20,2))\n",
    "X_test"
   ]
  },
  {
   "cell_type": "code",
   "execution_count": 0,
   "metadata": {
    "application/vnd.databricks.v1+cell": {
     "cellMetadata": {
      "byteLimit": 2048000,
      "rowLimit": 10000
     },
     "inputWidgets": {},
     "nuid": "e4cb89ad-99ca-4d04-8ffe-56b77db5cf78",
     "showTitle": false,
     "title": ""
    }
   },
   "outputs": [],
   "source": [
    "y_1_test = np.array([1]*10)\n",
    "y_minus1_test = np.array([-1]*10)\n",
    "y_test = np.concatenate([y_1_test, y_minus1_test])\n",
    "y"
   ]
  },
  {
   "cell_type": "code",
   "execution_count": 0,
   "metadata": {
    "application/vnd.databricks.v1+cell": {
     "cellMetadata": {
      "byteLimit": 2048000,
      "rowLimit": 10000
     },
     "inputWidgets": {},
     "nuid": "5387c3f5-bba1-4264-9bbb-725cbc1d7fd2",
     "showTitle": false,
     "title": ""
    }
   },
   "outputs": [],
   "source": [
    "X_test[y_test==1] += 1\n",
    "X_test"
   ]
  },
  {
   "cell_type": "code",
   "execution_count": 0,
   "metadata": {
    "application/vnd.databricks.v1+cell": {
     "cellMetadata": {
      "byteLimit": 2048000,
      "rowLimit": 10000
     },
     "inputWidgets": {},
     "nuid": "5dfa1350-70fe-469b-8540-c96a7a6c8043",
     "showTitle": false,
     "title": ""
    }
   },
   "outputs": [],
   "source": [
    "plt.xkcd()\n",
    "plt.figure(figsize=(25, 10))\n",
    "colors = ['orange' if yy == 1 else 'green' for yy in y_test]\n",
    "plt.scatter(X_test[:,0][:],X_test[:,1][:], marker='o', s=1000, c=colors)\n",
    "plt.title('are the two classes linearly separable?', color='m', fontsize=30)\n",
    "plt.xlabel('X[:, 0]', color='green', fontsize=20)\n",
    "plt.ylabel('X[:, 1]', color='orange', fontsize=20)"
   ]
  },
  {
   "cell_type": "code",
   "execution_count": 0,
   "metadata": {
    "application/vnd.databricks.v1+cell": {
     "cellMetadata": {
      "byteLimit": 2048000,
      "rowLimit": 10000
     },
     "inputWidgets": {},
     "nuid": "993258eb-b38a-4829-b76e-a3a5aa02a4aa",
     "showTitle": false,
     "title": ""
    }
   },
   "outputs": [],
   "source": [
    "np.random.seed(101)\n",
    "X_test = np.random.normal(size=(20,2))\n",
    "y_test = np.random.choice([-1,1], 20)\n",
    "X_test[y_test == 1] = X_test[y_test == 1]-1\n",
    "\n",
    "plt.xkcd()\n",
    "plt.figure(figsize=(25, 10))\n",
    "colors = ['orange' if yy == 1 else 'green' for yy in y_test]\n",
    "plt.scatter(X_test[:,0][:],X_test[:,1][:], marker='o', s=1000, c=colors)\n",
    "plt.title('are the two classes linearly separable?', color='m', fontsize=30)\n",
    "plt.xlabel('X_test[:, 0]', color='green', fontsize=20)\n",
    "plt.ylabel('X_test[:, 1]', color='orange', fontsize=20)"
   ]
  },
  {
   "cell_type": "code",
   "execution_count": 0,
   "metadata": {
    "application/vnd.databricks.v1+cell": {
     "cellMetadata": {
      "byteLimit": 2048000,
      "rowLimit": 10000
     },
     "inputWidgets": {},
     "nuid": "105bc156-0517-4d25-9ecb-f19e664521c4",
     "showTitle": false,
     "title": ""
    }
   },
   "outputs": [],
   "source": [
    "svmfit_test = SVC(C=best_params['C'], kernel='linear').fit(X, y)\n",
    "\n",
    "plt.figure(figsize=(25, 10))\n",
    "svmplot(svmfit_test, X_test, y_test)\n",
    "colors = ['orange' if yy == 1 else 'green' for yy in y_test]\n",
    "plt.scatter(X_test[:,0][:],X_test[:,1][:], marker='o', s=1000, c=colors)\n",
    "plt.title('support vector classifier', color='m', fontsize=30)\n",
    "plt.xlabel('X_test[:, 0]', color='green', fontsize=20)\n",
    "plt.ylabel('X_test[:, 1]', color='orange', fontsize=20)"
   ]
  },
  {
   "cell_type": "code",
   "execution_count": 0,
   "metadata": {
    "application/vnd.databricks.v1+cell": {
     "cellMetadata": {
      "byteLimit": 2048000,
      "rowLimit": 10000
     },
     "inputWidgets": {},
     "nuid": "54c2de7d-4c3e-4099-9213-f86f0ae04922",
     "showTitle": false,
     "title": ""
    }
   },
   "outputs": [],
   "source": [
    "conf_mat_test = pd.DataFrame(confusion_matrix(y_test, svmfit_test.predict(X_test)), index=svmfit_test.classes_, columns=svmfit_test.classes_)\n",
    "conf_mat_test"
   ]
  },
  {
   "cell_type": "code",
   "execution_count": 0,
   "metadata": {
    "application/vnd.databricks.v1+cell": {
     "cellMetadata": {
      "byteLimit": 2048000,
      "rowLimit": 10000
     },
     "inputWidgets": {},
     "nuid": "5df66170-76b0-4f7c-ab0f-9c64b178521f",
     "showTitle": false,
     "title": ""
    }
   },
   "outputs": [],
   "source": [
    "class_mat = classification_report(y_test, svmfit_test.predict(X_test))\n",
    "print(class_mat)"
   ]
  },
  {
   "cell_type": "code",
   "execution_count": 0,
   "metadata": {
    "application/vnd.databricks.v1+cell": {
     "cellMetadata": {
      "byteLimit": 2048000,
      "rowLimit": 10000
     },
     "inputWidgets": {},
     "nuid": "386f2777-d30d-4bce-844f-ded0a7df4f23",
     "showTitle": false,
     "title": ""
    }
   },
   "outputs": [],
   "source": [
    "svmfit_test001 = SVC(C=10, kernel='linear')\n",
    "svmfit_test001.fit(X, y)\n",
    "\n",
    "plt.figure(figsize=(25, 10))\n",
    "svmplot(svmfit_test, X_test, y_test)\n",
    "colors = ['orange' if yy == 1 else 'green' for yy in y_test]\n",
    "plt.scatter(X_test[:,0][:],X_test[:,1][:], marker='o', s=1000, c=colors)\n",
    "plt.title('support vector classifier', color='m', fontsize=30)\n",
    "plt.xlabel('X_test[:, 0]', color='green', fontsize=20)\n",
    "plt.ylabel('X_test[:, 1]', color='orange', fontsize=20)"
   ]
  },
  {
   "cell_type": "code",
   "execution_count": 0,
   "metadata": {
    "application/vnd.databricks.v1+cell": {
     "cellMetadata": {
      "byteLimit": 2048000,
      "rowLimit": 10000
     },
     "inputWidgets": {},
     "nuid": "98985845-9e3d-4127-bfd5-9aacb6d234b3",
     "showTitle": false,
     "title": ""
    }
   },
   "outputs": [],
   "source": [
    "conf_mat_test = pd.DataFrame(confusion_matrix(y_test, svmfit_test001.predict(X_test)), index=svmfit_test001.classes_, columns=svmfit_test001.classes_)\n",
    "conf_mat_test"
   ]
  },
  {
   "cell_type": "code",
   "execution_count": 0,
   "metadata": {
    "application/vnd.databricks.v1+cell": {
     "cellMetadata": {
      "byteLimit": 2048000,
      "rowLimit": 10000
     },
     "inputWidgets": {},
     "nuid": "75854edf-1e4f-4bf3-934d-360a583c1138",
     "showTitle": false,
     "title": ""
    }
   },
   "outputs": [],
   "source": [
    "class_mat_test001 = classification_report(y_test, svmfit_test.predict(X_test))\n",
    "print(class_mat_test001)"
   ]
  },
  {
   "cell_type": "markdown",
   "metadata": {
    "application/vnd.databricks.v1+cell": {
     "cellMetadata": {
      "byteLimit": 2048000,
      "rowLimit": 10000
     },
     "inputWidgets": {},
     "nuid": "f5ae1841-f51f-41de-8963-66b33de40d61",
     "showTitle": false,
     "title": ""
    }
   },
   "source": [
    "**Therefore, we see that C=10 provides worse results that C=0.16115215215215214. Using other values of C provide the same result.**"
   ]
  },
  {
   "cell_type": "markdown",
   "metadata": {
    "application/vnd.databricks.v1+cell": {
     "cellMetadata": {
      "byteLimit": 2048000,
      "rowLimit": 10000
     },
     "inputWidgets": {},
     "nuid": "d39222f5-783c-4af8-93a4-748171b5d284",
     "showTitle": false,
     "title": ""
    }
   },
   "source": [
    "### Support Vector classifier with linearly separable classes"
   ]
  },
  {
   "cell_type": "code",
   "execution_count": 0,
   "metadata": {
    "application/vnd.databricks.v1+cell": {
     "cellMetadata": {
      "byteLimit": 2048000,
      "rowLimit": 10000
     },
     "inputWidgets": {},
     "nuid": "e1274480-642c-4bc6-8a00-0db30319c5cd",
     "showTitle": false,
     "title": ""
    }
   },
   "outputs": [],
   "source": [
    "X = np.random.normal(size=(20,2))\n",
    "X"
   ]
  },
  {
   "cell_type": "code",
   "execution_count": 0,
   "metadata": {
    "application/vnd.databricks.v1+cell": {
     "cellMetadata": {
      "byteLimit": 2048000,
      "rowLimit": 10000
     },
     "inputWidgets": {},
     "nuid": "8f3446cf-b9f2-4d46-ba74-95b6c80dcb2e",
     "showTitle": false,
     "title": ""
    }
   },
   "outputs": [],
   "source": [
    "y_1 = np.array([1]*10)\n",
    "y_minus1 = np.array([-1]*10)\n",
    "y = np.concatenate([y_1, y_minus1])\n",
    "y"
   ]
  },
  {
   "cell_type": "code",
   "execution_count": 0,
   "metadata": {
    "application/vnd.databricks.v1+cell": {
     "cellMetadata": {
      "byteLimit": 2048000,
      "rowLimit": 10000
     },
     "inputWidgets": {},
     "nuid": "4f0934f2-65a2-4a6d-ab68-d604a230876c",
     "showTitle": false,
     "title": ""
    }
   },
   "outputs": [],
   "source": [
    "X[y==1] += 0.5\n",
    "X"
   ]
  },
  {
   "cell_type": "code",
   "execution_count": 0,
   "metadata": {
    "application/vnd.databricks.v1+cell": {
     "cellMetadata": {
      "byteLimit": 2048000,
      "rowLimit": 10000
     },
     "inputWidgets": {},
     "nuid": "55b6166c-0893-4364-8b77-68e1568cb00a",
     "showTitle": false,
     "title": ""
    }
   },
   "outputs": [],
   "source": [
    "plt.xkcd()\n",
    "plt.figure(figsize=(25, 10))\n",
    "colors = ['orange' if yy == 1 else 'green' for yy in y]\n",
    "plt.scatter(X[:,0][:],X[:,1][:], marker='o', s=1000, c=colors)\n",
    "plt.title('are the two classes linearly separable?', color='m', fontsize=30)\n",
    "plt.xlabel('X[:, 0]', color='green', fontsize=20)\n",
    "plt.ylabel('X[:, 1]', color='orange', fontsize=20)"
   ]
  },
  {
   "cell_type": "code",
   "execution_count": 0,
   "metadata": {
    "application/vnd.databricks.v1+cell": {
     "cellMetadata": {
      "byteLimit": 2048000,
      "rowLimit": 10000
     },
     "inputWidgets": {},
     "nuid": "3e83a821-f65d-4a2a-8d51-6b74fba824d6",
     "showTitle": false,
     "title": ""
    }
   },
   "outputs": [],
   "source": [
    "svmfit10 = SVC(kernel='linear', C=10).fit(X, y)\n",
    "  \n",
    "plt.xkcd()\n",
    "plt.figure(figsize=(25, 10))\n",
    "svmplot(svmfit10, X, y)\n",
    "colors = ['orange' if yy == 1 else 'green' for yy in y]\n",
    "plt.scatter(X[:,0][:],X[:,1][:], marker='o', s=1000, c=colors)\n",
    "plt.title('support vector classifier', color='m', fontsize=30)\n",
    "plt.xlabel('X[:, 0]', color='green', fontsize=20)\n",
    "plt.ylabel('X[:, 1]', color='orange', fontsize=20)"
   ]
  },
  {
   "cell_type": "code",
   "execution_count": 0,
   "metadata": {
    "application/vnd.databricks.v1+cell": {
     "cellMetadata": {
      "byteLimit": 2048000,
      "rowLimit": 10000
     },
     "inputWidgets": {},
     "nuid": "734f052d-7f2b-4406-af58-8ad12d21580c",
     "showTitle": false,
     "title": ""
    }
   },
   "outputs": [],
   "source": [
    "svmfit10.support_ # these are the support vectors"
   ]
  },
  {
   "cell_type": "code",
   "execution_count": 0,
   "metadata": {
    "application/vnd.databricks.v1+cell": {
     "cellMetadata": {
      "byteLimit": 2048000,
      "rowLimit": 10000
     },
     "inputWidgets": {},
     "nuid": "347c6ed8-4608-46fb-9784-e5e49b02fff1",
     "showTitle": false,
     "title": ""
    }
   },
   "outputs": [],
   "source": [
    "conf_mat10 = pd.DataFrame(confusion_matrix(y, svmfit10.predict(X)).T, index = svmfit10.classes_, columns = svmfit10.classes_)\n",
    "conf_mat10"
   ]
  },
  {
   "cell_type": "code",
   "execution_count": 0,
   "metadata": {
    "application/vnd.databricks.v1+cell": {
     "cellMetadata": {
      "byteLimit": 2048000,
      "rowLimit": 10000
     },
     "inputWidgets": {},
     "nuid": "a8e6a6f3-914e-4338-b7d8-fe79749f324e",
     "showTitle": false,
     "title": ""
    }
   },
   "outputs": [],
   "source": [
    "class_mat10 = classification_report(y, svmfit10.predict(X))\n",
    "print(class_mat10)"
   ]
  },
  {
   "cell_type": "code",
   "execution_count": 0,
   "metadata": {
    "application/vnd.databricks.v1+cell": {
     "cellMetadata": {
      "byteLimit": 2048000,
      "rowLimit": 10000
     },
     "inputWidgets": {},
     "nuid": "8ef595ea-d25d-43a6-9027-f374c1577236",
     "showTitle": false,
     "title": ""
    }
   },
   "outputs": [],
   "source": []
  }
 ],
 "metadata": {
  "application/vnd.databricks.v1+notebook": {
   "dashboards": [],
   "language": "python",
   "notebookMetadata": {
    "pythonIndentUnit": 2
   },
   "notebookName": "9.6.1 Support Vector Classifier",
   "widgets": {}
  }
 },
 "nbformat": 4,
 "nbformat_minor": 0
}
