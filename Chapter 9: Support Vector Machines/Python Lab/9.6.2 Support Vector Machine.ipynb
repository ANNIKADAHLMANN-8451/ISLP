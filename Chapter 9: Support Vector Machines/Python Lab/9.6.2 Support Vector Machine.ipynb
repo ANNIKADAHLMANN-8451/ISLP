{
 "cells": [
  {
   "cell_type": "markdown",
   "metadata": {
    "application/vnd.databricks.v1+cell": {
     "cellMetadata": {
      "byteLimit": 2048000,
      "rowLimit": 10000
     },
     "inputWidgets": {},
     "nuid": "3d0adcbb-6ffa-41d3-b18e-ec01e5ebca02",
     "showTitle": false,
     "title": ""
    }
   },
   "source": [
    "### Preprocessing"
   ]
  },
  {
   "cell_type": "code",
   "execution_count": 0,
   "metadata": {
    "application/vnd.databricks.v1+cell": {
     "cellMetadata": {
      "byteLimit": 2048000,
      "rowLimit": 10000
     },
     "inputWidgets": {},
     "nuid": "c8a2a372-a073-4313-9f6a-b29d71a3e411",
     "showTitle": false,
     "title": ""
    }
   },
   "outputs": [],
   "source": [
    "import numpy as np\n",
    "import pandas as pd"
   ]
  },
  {
   "cell_type": "code",
   "execution_count": 0,
   "metadata": {
    "application/vnd.databricks.v1+cell": {
     "cellMetadata": {
      "byteLimit": 2048000,
      "rowLimit": 10000
     },
     "inputWidgets": {},
     "nuid": "33a7e0dd-326f-434c-be4d-8a9305dfcf97",
     "showTitle": false,
     "title": ""
    }
   },
   "outputs": [],
   "source": [
    "import matplotlib.pyplot as plt\n",
    "import seaborn as sns\n",
    "%matplotlib inline"
   ]
  },
  {
   "cell_type": "code",
   "execution_count": 0,
   "metadata": {
    "application/vnd.databricks.v1+cell": {
     "cellMetadata": {
      "byteLimit": 2048000,
      "rowLimit": 10000
     },
     "inputWidgets": {},
     "nuid": "06bf91d7-3543-4425-b861-40de49d7352a",
     "showTitle": false,
     "title": ""
    }
   },
   "outputs": [],
   "source": [
    "np.random.seed(1)"
   ]
  },
  {
   "cell_type": "code",
   "execution_count": 0,
   "metadata": {
    "application/vnd.databricks.v1+cell": {
     "cellMetadata": {
      "byteLimit": 2048000,
      "rowLimit": 10000
     },
     "inputWidgets": {},
     "nuid": "9200e95a-c7d8-400d-add4-677ddc9de6a2",
     "showTitle": false,
     "title": ""
    }
   },
   "outputs": [],
   "source": [
    "from sklearn.model_selection import train_test_split\n",
    "\n",
    "X = np.random.normal(size=(200,2))\n",
    "X[:100] += 2\n",
    "X[100:150] -= 2\n",
    "y = np.concatenate([1*np.ones((150,)), np.zeros((50,))])\n",
    "\n",
    "X_train, X_test, y_train, y_test = train_test_split(X, y, train_size=0.5, random_state=2)\n",
    "\n",
    "plt.xkcd()\n",
    "plt.figure(figsize=(25, 10))\n",
    "plt.scatter(X[:, 0], X[:, 1], c=['green' if val==1 else 'orange' for val in y], marker='o', s=1000)\n",
    "plt.xlabel('X1', color='c', fontsize=20)\n",
    "plt.ylabel('X2', color='c', fontsize=20)\n",
    "plt.title('data with non-linear class family', color='m', fontsize=30)"
   ]
  },
  {
   "cell_type": "code",
   "execution_count": 0,
   "metadata": {
    "application/vnd.databricks.v1+cell": {
     "cellMetadata": {
      "byteLimit": 2048000,
      "rowLimit": 10000
     },
     "inputWidgets": {},
     "nuid": "12edb9a7-a4a4-4452-9406-89352ebd3643",
     "showTitle": false,
     "title": ""
    }
   },
   "outputs": [],
   "source": [
    "from sklearn.svm import SVC\n",
    "\n",
    "svmfit = SVC(C=10, kernel='rbf', gamma=1).fit(X_train, y_train)"
   ]
  },
  {
   "cell_type": "code",
   "execution_count": 0,
   "metadata": {
    "application/vnd.databricks.v1+cell": {
     "cellMetadata": {
      "byteLimit": 2048000,
      "rowLimit": 10000
     },
     "inputWidgets": {},
     "nuid": "28389ea7-8634-403b-b13b-e08c247bab22",
     "showTitle": false,
     "title": ""
    }
   },
   "outputs": [],
   "source": [
    "def svmplot(svc, X, y, height=0.02, buffer=0.25):\n",
    "    x_min, x_max = X[:, 0].min()-buffer, X[:, 0].max()+buffer\n",
    "    y_min, y_max = X[:, 1].min()-buffer, X[:, 1].max()+buffer\n",
    "    xx, yy = np.meshgrid(np.arange(x_min, x_max, height), np.arange(y_min, y_max, height))\n",
    "    Z = svc.predict(np.c_[xx.ravel(), yy.ravel()])\n",
    "    Z = Z.reshape(xx.shape)\n",
    "    plt.contourf(xx, yy, Z, cmap=plt.cm.Paired, alpha=0.2)\n",
    "    \n",
    "plt.xkcd()\n",
    "plt.figure(figsize=(25, 10))\n",
    "svmplot(svmfit, X, y)\n",
    "plt.scatter(X[:, 0], X[:, 1], c=['green' if val==1 else 'orange' for val in y], marker='o', s=1000)\n",
    "plt.xlabel('X1', color='c', fontsize=20)\n",
    "plt.ylabel('X2', color='c', fontsize=20)\n",
    "plt.title('support vector machine', color='m', fontsize=30)"
   ]
  },
  {
   "cell_type": "code",
   "execution_count": 0,
   "metadata": {
    "application/vnd.databricks.v1+cell": {
     "cellMetadata": {
      "byteLimit": 2048000,
      "rowLimit": 10000
     },
     "inputWidgets": {},
     "nuid": "8d0cfbd5-3772-40fa-ab61-dde0f0ca8656",
     "showTitle": false,
     "title": ""
    }
   },
   "outputs": [],
   "source": [
    "svmfit.support_ # these are the support vectors"
   ]
  },
  {
   "cell_type": "code",
   "execution_count": 0,
   "metadata": {
    "application/vnd.databricks.v1+cell": {
     "cellMetadata": {
      "byteLimit": 2048000,
      "rowLimit": 10000
     },
     "inputWidgets": {},
     "nuid": "697d9dc2-4671-438b-acce-d760ebb9ead0",
     "showTitle": false,
     "title": ""
    }
   },
   "outputs": [],
   "source": [
    "from sklearn.metrics import confusion_matrix, classification_report\n",
    "\n",
    "conf_mat = pd.DataFrame(confusion_matrix(y_test, svmfit.predict(X_test)).T, index = svmfit.classes_, columns = svmfit.classes_)\n",
    "conf_mat"
   ]
  },
  {
   "cell_type": "code",
   "execution_count": 0,
   "metadata": {
    "application/vnd.databricks.v1+cell": {
     "cellMetadata": {
      "byteLimit": 2048000,
      "rowLimit": 10000
     },
     "inputWidgets": {},
     "nuid": "7d84e7de-c604-48ec-be76-3471ec168127",
     "showTitle": false,
     "title": ""
    }
   },
   "outputs": [],
   "source": [
    "class_mat = classification_report(y_test, svmfit.predict(X_test))\n",
    "print(class_mat)"
   ]
  },
  {
   "cell_type": "code",
   "execution_count": 0,
   "metadata": {
    "application/vnd.databricks.v1+cell": {
     "cellMetadata": {
      "byteLimit": 2048000,
      "rowLimit": 10000
     },
     "inputWidgets": {},
     "nuid": "4258c789-c409-4895-99b3-699e6a8e6e03",
     "showTitle": false,
     "title": ""
    }
   },
   "outputs": [],
   "source": [
    "# making the SVM more flexible\n",
    "svmfit = SVC(C=100, kernel='rbf', gamma=1).fit(X_train, y_train)\n",
    "\n",
    "plt.xkcd()\n",
    "plt.figure(figsize=(25, 10))\n",
    "svmplot(svmfit, X, y)\n",
    "plt.scatter(X[:, 0], X[:, 1], c=['green' if val==1 else 'orange' for val in y], marker='o', s=1000)\n",
    "plt.xlabel('X1', color='c', fontsize=20)\n",
    "plt.ylabel('X2', color='c', fontsize=20)\n",
    "plt.title('support vector machine', color='m', fontsize=30)"
   ]
  },
  {
   "cell_type": "code",
   "execution_count": 0,
   "metadata": {
    "application/vnd.databricks.v1+cell": {
     "cellMetadata": {
      "byteLimit": 2048000,
      "rowLimit": 10000
     },
     "inputWidgets": {},
     "nuid": "a0c50591-f976-47fe-b572-e10793c2f0dc",
     "showTitle": false,
     "title": ""
    }
   },
   "outputs": [],
   "source": [
    "conf_mat = pd.DataFrame(confusion_matrix(y_test, svmfit.predict(X_test)).T, index = svmfit.classes_, columns = svmfit.classes_)\n",
    "conf_mat"
   ]
  },
  {
   "cell_type": "code",
   "execution_count": 0,
   "metadata": {
    "application/vnd.databricks.v1+cell": {
     "cellMetadata": {
      "byteLimit": 2048000,
      "rowLimit": 10000
     },
     "inputWidgets": {},
     "nuid": "a691415d-9386-48f0-bcb6-e5218fa7f4cd",
     "showTitle": false,
     "title": ""
    }
   },
   "outputs": [],
   "source": [
    "class_mat = classification_report(y_test, svmfit.predict(X_test))\n",
    "print(class_mat)"
   ]
  },
  {
   "cell_type": "code",
   "execution_count": 0,
   "metadata": {
    "application/vnd.databricks.v1+cell": {
     "cellMetadata": {
      "byteLimit": 2048000,
      "rowLimit": 10000
     },
     "inputWidgets": {},
     "nuid": "e97ecc70-5951-43f8-bdc5-02f2904a6705",
     "showTitle": false,
     "title": ""
    }
   },
   "outputs": [],
   "source": [
    "# making the SVM less flexible\n",
    "svmfit = SVC(C=0.1, kernel='rbf', gamma=1).fit(X_train, y_train)\n",
    "\n",
    "plt.xkcd()\n",
    "plt.figure(figsize=(25, 10))\n",
    "svmplot(svmfit, X, y)\n",
    "plt.scatter(X[:, 0], X[:, 1], c=['green' if val==1 else 'orange' for val in y], marker='o', s=1000)\n",
    "plt.xlabel('X1', color='c', fontsize=20)\n",
    "plt.ylabel('X2', color='c', fontsize=20)\n",
    "plt.title('support vector machine', color='m', fontsize=30)"
   ]
  },
  {
   "cell_type": "code",
   "execution_count": 0,
   "metadata": {
    "application/vnd.databricks.v1+cell": {
     "cellMetadata": {
      "byteLimit": 2048000,
      "rowLimit": 10000
     },
     "inputWidgets": {},
     "nuid": "47f920a1-8ff5-4380-b2cb-bbe9a526f988",
     "showTitle": false,
     "title": ""
    }
   },
   "outputs": [],
   "source": [
    "conf_mat = pd.DataFrame(confusion_matrix(y_test, svmfit.predict(X_test)).T, index = svmfit.classes_, columns = svmfit.classes_)\n",
    "conf_mat"
   ]
  },
  {
   "cell_type": "code",
   "execution_count": 0,
   "metadata": {
    "application/vnd.databricks.v1+cell": {
     "cellMetadata": {
      "byteLimit": 2048000,
      "rowLimit": 10000
     },
     "inputWidgets": {},
     "nuid": "18cbcc4a-58bb-49c9-bce7-400a3dcffc1d",
     "showTitle": false,
     "title": ""
    }
   },
   "outputs": [],
   "source": [
    "import warnings\n",
    "warnings.filterwarnings('ignore')\n",
    "\n",
    "class_mat = classification_report(y_test, svmfit.predict(X_test))\n",
    "print(class_mat)"
   ]
  },
  {
   "cell_type": "markdown",
   "metadata": {
    "application/vnd.databricks.v1+cell": {
     "cellMetadata": {
      "byteLimit": 2048000,
      "rowLimit": 10000
     },
     "inputWidgets": {},
     "nuid": "02072965-b7b2-4a3f-94ea-2ec68328f20b",
     "showTitle": false,
     "title": ""
    }
   },
   "source": [
    "### Using cross-validation to find the optimal cost"
   ]
  },
  {
   "cell_type": "code",
   "execution_count": 0,
   "metadata": {
    "application/vnd.databricks.v1+cell": {
     "cellMetadata": {
      "byteLimit": 2048000,
      "rowLimit": 10000
     },
     "inputWidgets": {},
     "nuid": "5a930f1b-68b5-4214-96d6-0d1b141672be",
     "showTitle": false,
     "title": ""
    }
   },
   "outputs": [],
   "source": [
    "from sklearn.model_selection import GridSearchCV as GSV"
   ]
  },
  {
   "cell_type": "code",
   "execution_count": 0,
   "metadata": {
    "application/vnd.databricks.v1+cell": {
     "cellMetadata": {
      "byteLimit": 2048000,
      "rowLimit": 10000
     },
     "inputWidgets": {},
     "nuid": "97d737c0-c18e-47e1-b2d8-472b64d82b28",
     "showTitle": false,
     "title": ""
    }
   },
   "outputs": [],
   "source": [
    "cost_range = [{'C': [0.01, 0.1, 1, 10, 100], 'gamma': [0.5, 1,2,3,4]}]\n",
    "cost_cv= GSV(SVC(kernel='rbf'), cost_range, cv=10, scoring='accuracy', return_train_score=True).fit(X, y)"
   ]
  },
  {
   "cell_type": "code",
   "execution_count": 0,
   "metadata": {
    "application/vnd.databricks.v1+cell": {
     "cellMetadata": {
      "byteLimit": 2048000,
      "rowLimit": 10000
     },
     "inputWidgets": {},
     "nuid": "08b4fa4a-05aa-4675-bf82-2e5dff6cf631",
     "showTitle": false,
     "title": ""
    }
   },
   "outputs": [],
   "source": [
    "best_params = cost_cv.best_params_\n",
    "best_params['C']"
   ]
  },
  {
   "cell_type": "markdown",
   "metadata": {
    "application/vnd.databricks.v1+cell": {
     "cellMetadata": {
      "byteLimit": 2048000,
      "rowLimit": 10000
     },
     "inputWidgets": {},
     "nuid": "f8b74c2a-537f-4cd5-b576-955da0c69c8e",
     "showTitle": false,
     "title": ""
    }
   },
   "source": [
    "**GridSearchCV suggests that the best results are obtained at C=10.**"
   ]
  },
  {
   "cell_type": "code",
   "execution_count": 0,
   "metadata": {
    "application/vnd.databricks.v1+cell": {
     "cellMetadata": {
      "byteLimit": 2048000,
      "rowLimit": 10000
     },
     "inputWidgets": {},
     "nuid": "2828305e-169c-4d77-a894-65fefcf671b2",
     "showTitle": false,
     "title": ""
    }
   },
   "outputs": [],
   "source": [
    "svmfit = SVC(C=best_params['C'], kernel='rbf', gamma=1).fit(X_train, y_train)\n",
    "\n",
    "plt.xkcd()\n",
    "plt.figure(figsize=(25, 10))\n",
    "svmplot(svmfit, X, y)\n",
    "plt.scatter(X[:, 0], X[:, 1], c=['green' if val==1 else 'orange' for val in y], marker='o', s=1000)\n",
    "plt.xlabel('X1', color='c', fontsize=20)\n",
    "plt.ylabel('X2', color='c', fontsize=20)\n",
    "plt.title('support vector machine', color='m', fontsize=30)"
   ]
  },
  {
   "cell_type": "code",
   "execution_count": 0,
   "metadata": {
    "application/vnd.databricks.v1+cell": {
     "cellMetadata": {
      "byteLimit": 2048000,
      "rowLimit": 10000
     },
     "inputWidgets": {},
     "nuid": "98b30743-5031-4a90-8dc3-e12f3874299c",
     "showTitle": false,
     "title": ""
    }
   },
   "outputs": [],
   "source": [
    "conf_mat = pd.DataFrame(confusion_matrix(y_test, svmfit.predict(X_test)).T, index = svmfit.classes_, columns = svmfit.classes_)\n",
    "conf_mat"
   ]
  },
  {
   "cell_type": "code",
   "execution_count": 0,
   "metadata": {
    "application/vnd.databricks.v1+cell": {
     "cellMetadata": {
      "byteLimit": 2048000,
      "rowLimit": 10000
     },
     "inputWidgets": {},
     "nuid": "6962cb37-c52e-4767-a218-caf525a7d8ee",
     "showTitle": false,
     "title": ""
    }
   },
   "outputs": [],
   "source": [
    "import warnings\n",
    "warnings.filterwarnings('ignore')\n",
    "\n",
    "class_mat = classification_report(y_test, svmfit.predict(X_test))\n",
    "print(class_mat)"
   ]
  },
  {
   "cell_type": "markdown",
   "metadata": {
    "application/vnd.databricks.v1+cell": {
     "cellMetadata": {
      "byteLimit": 2048000,
      "rowLimit": 10000
     },
     "inputWidgets": {},
     "nuid": "b8404d70-c070-47cd-90ac-54391dd6e6cc",
     "showTitle": false,
     "title": ""
    }
   },
   "source": [
    "**Therefore, the best results are obtained at C=1.**"
   ]
  }
 ],
 "metadata": {
  "application/vnd.databricks.v1+notebook": {
   "dashboards": [],
   "language": "python",
   "notebookMetadata": {
    "pythonIndentUnit": 2
   },
   "notebookName": "9.6.2 Support Vector Machine",
   "widgets": {}
  }
 },
 "nbformat": 4,
 "nbformat_minor": 0
}
