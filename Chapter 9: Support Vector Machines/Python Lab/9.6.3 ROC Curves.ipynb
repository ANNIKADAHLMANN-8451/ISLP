{
 "cells": [
  {
   "cell_type": "markdown",
   "metadata": {
    "application/vnd.databricks.v1+cell": {
     "cellMetadata": {
      "byteLimit": 2048000,
      "rowLimit": 10000
     },
     "inputWidgets": {},
     "nuid": "864613a8-5606-4a88-81b8-6fcdabcdefdd",
     "showTitle": false,
     "title": ""
    }
   },
   "source": [
    "### Preprocessing"
   ]
  },
  {
   "cell_type": "code",
   "execution_count": 0,
   "metadata": {
    "application/vnd.databricks.v1+cell": {
     "cellMetadata": {
      "byteLimit": 2048000,
      "rowLimit": 10000
     },
     "inputWidgets": {},
     "nuid": "5908cee8-c660-4c5c-91c6-4a4819ec2ace",
     "showTitle": false,
     "title": ""
    }
   },
   "outputs": [],
   "source": [
    "import numpy as np\n",
    "import pandas as pd"
   ]
  },
  {
   "cell_type": "code",
   "execution_count": 0,
   "metadata": {
    "application/vnd.databricks.v1+cell": {
     "cellMetadata": {
      "byteLimit": 2048000,
      "rowLimit": 10000
     },
     "inputWidgets": {},
     "nuid": "74666add-811c-466f-b29a-b66950f7c97b",
     "showTitle": false,
     "title": ""
    }
   },
   "outputs": [],
   "source": [
    "import matplotlib.pyplot as plt\n",
    "import seaborn as sns\n",
    "%matplotlib inline"
   ]
  },
  {
   "cell_type": "markdown",
   "metadata": {
    "application/vnd.databricks.v1+cell": {
     "cellMetadata": {
      "byteLimit": 2048000,
      "rowLimit": 10000
     },
     "inputWidgets": {},
     "nuid": "f5f08648-bfe6-4f74-9dbb-11fc9d5262fd",
     "showTitle": false,
     "title": ""
    }
   },
   "source": [
    "### ROC Curves"
   ]
  },
  {
   "cell_type": "code",
   "execution_count": 0,
   "metadata": {
    "application/vnd.databricks.v1+cell": {
     "cellMetadata": {
      "byteLimit": 2048000,
      "rowLimit": 10000
     },
     "inputWidgets": {},
     "nuid": "beb6f5f2-8961-44c4-a345-399b19bc9b17",
     "showTitle": false,
     "title": ""
    }
   },
   "outputs": [],
   "source": [
    "from sklearn.metrics import auc, roc_curve\n",
    "from sklearn.model_selection import train_test_split\n",
    "from sklearn.svm import SVC"
   ]
  },
  {
   "cell_type": "code",
   "execution_count": 0,
   "metadata": {
    "application/vnd.databricks.v1+cell": {
     "cellMetadata": {
      "byteLimit": 2048000,
      "rowLimit": 10000
     },
     "inputWidgets": {},
     "nuid": "184568f9-ed0a-46fb-bee6-ea0b1475ebbc",
     "showTitle": false,
     "title": ""
    }
   },
   "outputs": [],
   "source": [
    "np.random.seed(1)"
   ]
  },
  {
   "cell_type": "code",
   "execution_count": 0,
   "metadata": {
    "application/vnd.databricks.v1+cell": {
     "cellMetadata": {
      "byteLimit": 2048000,
      "rowLimit": 10000
     },
     "inputWidgets": {},
     "nuid": "8565c932-5680-45a9-99e9-1392cb362a80",
     "showTitle": false,
     "title": ""
    }
   },
   "outputs": [],
   "source": [
    "X = np.random.normal(size=(200,2))\n",
    "X[:100] += 2\n",
    "X[100:150] -= 2\n",
    "y = np.concatenate([1*np.ones((150,)), np.zeros((50,))])\n",
    "\n",
    "X_train, X_test, y_train, y_test = train_test_split(X, y, train_size=0.5, random_state=2)\n",
    "\n",
    "plt.xkcd()\n",
    "plt.figure(figsize=(25, 10))\n",
    "plt.scatter(X[:, 0], X[:, 1], c=['green' if val==1 else 'orange' for val in y], marker='o', s=1000)\n",
    "plt.xlabel('X1', color='c', fontsize=20)\n",
    "plt.ylabel('X2', color='c', fontsize=20)\n",
    "plt.title('data with non-linear class family', color='m', fontsize=30)"
   ]
  },
  {
   "cell_type": "code",
   "execution_count": 0,
   "metadata": {
    "application/vnd.databricks.v1+cell": {
     "cellMetadata": {
      "byteLimit": 2048000,
      "rowLimit": 10000
     },
     "inputWidgets": {},
     "nuid": "d340d172-b0af-4139-a20d-8a161bacea22",
     "showTitle": false,
     "title": ""
    }
   },
   "outputs": [],
   "source": [
    "# less flexible model\n",
    "svmfit1 = SVC(C=1, kernel='rbf', gamma=1).fit(X_train, y_train)\n",
    "y_train_score1 = svmfit1.decision_function(X_train)\n",
    "\n",
    "# more flexible model\n",
    "svmfit50 = SVC(C=1, kernel='rbf', gamma=50).fit(X_train, y_train)\n",
    "y_train_score50 = svmfit50.decision_function(X_train)\n",
    "\n",
    "false_pos_rate1, true_pos_rate1, _ = roc_curve(y_train, y_train_score1)\n",
    "roc_auc1 = auc(false_pos_rate1, true_pos_rate1)\n",
    "\n",
    "false_pos_rate50, true_pos_rate50, _ = roc_curve(y_train, y_train_score50)\n",
    "roc_auc50 = auc(false_pos_rate50, true_pos_rate50)\n",
    "\n",
    "fig, (ax1,ax2) = plt.subplots(1, 2, figsize=(25, 10))\n",
    "ax1.plot(false_pos_rate1, true_pos_rate1, label='SVM $\\gamma = 1$ ROC curve (area = %0.2f)' % roc_auc1, color='orange')\n",
    "ax1.plot(false_pos_rate50, true_pos_rate50, label='SVM $\\gamma = 50$ ROC curve (area = %0.2f)' % roc_auc50, color='green')\n",
    "ax1.set_title('Training Data', color='m', fontsize=30)\n",
    "\n",
    "y_test_score1 = svmfit1.decision_function(X_test)\n",
    "y_test_score50 = svmfit50.decision_function(X_test)\n",
    "\n",
    "false_pos_rate1, true_pos_rate1, _ = roc_curve(y_test, y_test_score1)\n",
    "roc_auc1 = auc(false_pos_rate1, true_pos_rate1)\n",
    "\n",
    "false_pos_rate50, true_pos_rate50, _ = roc_curve(y_test, y_test_score50)\n",
    "roc_auc50 = auc(false_pos_rate50, true_pos_rate50)\n",
    "\n",
    "ax2.plot(false_pos_rate1, true_pos_rate1, label='SVM $\\gamma = 1$ ROC curve (area = %0.2f)' % roc_auc1, color='orange')\n",
    "ax2.plot(false_pos_rate50, true_pos_rate50, label='SVM $\\gamma = 50$ ROC curve (area = %0.2f)' % roc_auc50, color='green')\n",
    "ax2.set_title('Test Data', color='m', fontsize=30)\n",
    "\n",
    "for ax in fig.axes:\n",
    "    ax.plot([0, 1], [0, 1], 'blue', ls='-.')\n",
    "    ax.set_xlim([-0.05, 1.0])\n",
    "    ax.set_ylim([0.0, 1.05])\n",
    "    ax.set_xlabel('False Positive Rate')\n",
    "    ax.set_ylabel('True Positive Rate')\n",
    "    ax.legend(loc=\"lower right\")"
   ]
  },
  {
   "cell_type": "code",
   "execution_count": 0,
   "metadata": {
    "application/vnd.databricks.v1+cell": {
     "cellMetadata": {
      "byteLimit": 2048000,
      "rowLimit": 10000
     },
     "inputWidgets": {},
     "nuid": "5e37514b-1433-47d3-a890-52b030b46802",
     "showTitle": false,
     "title": ""
    }
   },
   "outputs": [],
   "source": []
  }
 ],
 "metadata": {
  "application/vnd.databricks.v1+notebook": {
   "dashboards": [],
   "language": "python",
   "notebookMetadata": {
    "pythonIndentUnit": 2
   },
   "notebookName": "9.6.3 ROC Curves",
   "widgets": {}
  }
 },
 "nbformat": 4,
 "nbformat_minor": 0
}
