{
 "cells": [
  {
   "cell_type": "markdown",
   "metadata": {
    "application/vnd.databricks.v1+cell": {
     "cellMetadata": {
      "byteLimit": 2048000,
      "rowLimit": 10000
     },
     "inputWidgets": {},
     "nuid": "2406c6c8-3b37-4a91-b1c7-f6eba9f69707",
     "showTitle": false,
     "title": ""
    }
   },
   "source": [
    "### Preprocessing"
   ]
  },
  {
   "cell_type": "code",
   "execution_count": 0,
   "metadata": {
    "application/vnd.databricks.v1+cell": {
     "cellMetadata": {
      "byteLimit": 2048000,
      "rowLimit": 10000
     },
     "inputWidgets": {},
     "nuid": "804027a6-79a2-417d-ace2-10e6954289c0",
     "showTitle": false,
     "title": ""
    }
   },
   "outputs": [],
   "source": [
    "import numpy as np\n",
    "import pandas as pd"
   ]
  },
  {
   "cell_type": "code",
   "execution_count": 0,
   "metadata": {
    "application/vnd.databricks.v1+cell": {
     "cellMetadata": {
      "byteLimit": 2048000,
      "rowLimit": 10000
     },
     "inputWidgets": {},
     "nuid": "e1d3d135-61a6-48cf-8252-d339f30ac8a7",
     "showTitle": false,
     "title": ""
    }
   },
   "outputs": [],
   "source": [
    "import matplotlib.pyplot as plt\n",
    "import seaborn as sns\n",
    "%matplotlib inline"
   ]
  },
  {
   "cell_type": "code",
   "execution_count": 0,
   "metadata": {
    "application/vnd.databricks.v1+cell": {
     "cellMetadata": {
      "byteLimit": 2048000,
      "rowLimit": 10000
     },
     "inputWidgets": {},
     "nuid": "f82bf9aa-ea0d-4592-8a49-f792dba6aa25",
     "showTitle": false,
     "title": ""
    }
   },
   "outputs": [],
   "source": [
    "np.random.seed(1)"
   ]
  },
  {
   "cell_type": "code",
   "execution_count": 0,
   "metadata": {
    "application/vnd.databricks.v1+cell": {
     "cellMetadata": {
      "byteLimit": 2048000,
      "rowLimit": 10000
     },
     "inputWidgets": {},
     "nuid": "6b4479b2-605c-41e1-924b-965abb1d9686",
     "showTitle": false,
     "title": ""
    }
   },
   "outputs": [],
   "source": [
    "# import and preprocess data\n",
    "url = \"abfss://training@sa8451learningdev.dfs.core.windows.net/interpretable_machine_learning/eml_data/\"\n",
    "X_train = spark.read.option(\"header\", \"true\").csv(f\"{url}Khanxtrain.csv\").toPandas().dropna()\n",
    "X_train = X_train.set_index('_c0').astype(float)\n",
    "X_test = spark.read.option(\"header\", \"true\").csv(f\"{url}Khanxtest.csv\").toPandas().dropna()\n",
    "X_test = X_test.set_index('_c0').astype(float)\n",
    "\n",
    "y_train = spark.read.option(\"header\", \"true\").csv(f\"{url}Khanytrain.csv\").toPandas().dropna().astype(float)\n",
    "y_train = y_train.set_index('_c0')\n",
    "y_test = spark.read.option(\"header\", \"true\").csv(f\"{url}Khanytest.csv\").toPandas().dropna().astype(float)\n",
    "y_test = y_test.set_index('_c0')"
   ]
  },
  {
   "cell_type": "markdown",
   "metadata": {
    "application/vnd.databricks.v1+cell": {
     "cellMetadata": {
      "byteLimit": 2048000,
      "rowLimit": 10000
     },
     "inputWidgets": {},
     "nuid": "a927529c-ba4c-406e-b72e-639f6ff48c59",
     "showTitle": false,
     "title": ""
    }
   },
   "source": [
    "### Support vector classification"
   ]
  },
  {
   "cell_type": "code",
   "execution_count": 0,
   "metadata": {
    "application/vnd.databricks.v1+cell": {
     "cellMetadata": {
      "byteLimit": 2048000,
      "rowLimit": 10000
     },
     "inputWidgets": {},
     "nuid": "ebcbd98f-4ebd-481f-ac38-cc455deea7ad",
     "showTitle": false,
     "title": ""
    }
   },
   "outputs": [],
   "source": [
    "from sklearn.svm import SVC\n",
    "from sklearn.metrics import confusion_matrix, classification_report\n",
    "\n",
    "svmfit = SVC(kernel='linear', C=10).fit(X_train, np.ravel(y_train))"
   ]
  },
  {
   "cell_type": "code",
   "execution_count": 0,
   "metadata": {
    "application/vnd.databricks.v1+cell": {
     "cellMetadata": {
      "byteLimit": 2048000,
      "rowLimit": 10000
     },
     "inputWidgets": {},
     "nuid": "e67f1cd2-224c-493c-81c1-5d23ae9cf7e5",
     "showTitle": false,
     "title": ""
    }
   },
   "outputs": [],
   "source": [
    "# confusion matrix for training data\n",
    "conf_mat = pd.DataFrame(confusion_matrix(y_train, svmfit.predict(X_train)).T, index = svmfit.classes_, columns = svmfit.classes_)\n",
    "conf_mat"
   ]
  },
  {
   "cell_type": "code",
   "execution_count": 0,
   "metadata": {
    "application/vnd.databricks.v1+cell": {
     "cellMetadata": {
      "byteLimit": 2048000,
      "rowLimit": 10000
     },
     "inputWidgets": {},
     "nuid": "4d3ef4fa-24ef-49e8-9b48-a081ee81be78",
     "showTitle": false,
     "title": ""
    }
   },
   "outputs": [],
   "source": [
    "# classification report for training data\n",
    "class_mat = classification_report(y_train, svmfit.predict(X_train))\n",
    "print(class_mat)"
   ]
  },
  {
   "cell_type": "markdown",
   "metadata": {
    "application/vnd.databricks.v1+cell": {
     "cellMetadata": {
      "byteLimit": 2048000,
      "rowLimit": 10000
     },
     "inputWidgets": {},
     "nuid": "501f3f80-aa1f-499d-8147-ce31cc964cc5",
     "showTitle": false,
     "title": ""
    }
   },
   "source": [
    "**There are no training errors. This is because of the large number of predictors as opposed to the number of data. So, I will now fit the model on test data.**"
   ]
  },
  {
   "cell_type": "code",
   "execution_count": 0,
   "metadata": {
    "application/vnd.databricks.v1+cell": {
     "cellMetadata": {
      "byteLimit": 2048000,
      "rowLimit": 10000
     },
     "inputWidgets": {},
     "nuid": "a86ca0e9-e839-4dbd-9e62-08a1df94b8eb",
     "showTitle": false,
     "title": ""
    }
   },
   "outputs": [],
   "source": [
    "# confusion matrix for test data\n",
    "conf_mat = pd.DataFrame(confusion_matrix(y_test, svmfit.predict(X_test)).T, index = svmfit.classes_, columns = svmfit.classes_)\n",
    "conf_mat"
   ]
  },
  {
   "cell_type": "code",
   "execution_count": 0,
   "metadata": {
    "application/vnd.databricks.v1+cell": {
     "cellMetadata": {
      "byteLimit": 2048000,
      "rowLimit": 10000
     },
     "inputWidgets": {},
     "nuid": "479bc446-c60c-47d7-aaef-6b5160dbed41",
     "showTitle": false,
     "title": ""
    }
   },
   "outputs": [],
   "source": [
    "# classification report for test data\n",
    "class_mat = classification_report(y_test, svmfit.predict(X_test))\n",
    "print(class_mat)"
   ]
  },
  {
   "cell_type": "markdown",
   "metadata": {
    "application/vnd.databricks.v1+cell": {
     "cellMetadata": {
      "byteLimit": 2048000,
      "rowLimit": 10000
     },
     "inputWidgets": {},
     "nuid": "d42a2bef-4014-4340-adc0-d740153bbb63",
     "showTitle": false,
     "title": ""
    }
   },
   "source": [
    "**Cost=10 yields 2 test erros on this data.**"
   ]
  }
 ],
 "metadata": {
  "application/vnd.databricks.v1+notebook": {
   "dashboards": [],
   "language": "python",
   "notebookMetadata": {
    "pythonIndentUnit": 2
   },
   "notebookName": "9.6.5 Application with Gene Expression Data",
   "widgets": {}
  }
 },
 "nbformat": 4,
 "nbformat_minor": 0
}
